{
 "cells": [
  {
   "cell_type": "markdown",
   "id": "ed5eca7e048d8989",
   "metadata": {},
   "source": [
    "# Visualization tutorial\n",
    "## Static visualization\n",
    "The tutorial covers the basic visualization options from EyeFeatures. First of all, we are importing all the methods that we need."
   ]
  },
  {
   "cell_type": "code",
   "id": "initial_id",
   "metadata": {
    "ExecuteTime": {
     "end_time": "2025-08-09T08:44:21.523142Z",
     "start_time": "2025-08-09T08:44:20.903069Z"
    }
   },
   "source": [
    "from eyefeatures.visualization.static_visualization import scanpath_visualization, get_visualizations\n",
    "import pandas as pd"
   ],
   "outputs": [],
   "execution_count": 1
  },
  {
   "cell_type": "markdown",
   "id": "466e33fdf33ff7d4",
   "metadata": {},
   "source": [
    "Now, let's load example data with the prepared AOI definition and look at the columns in it:<br>\n",
    "* ```SUBJ_NAME``` — id of the participant\n",
    "* ```TEXT``` — label of the text\n",
    "* ```norm_pos_x``` — normalized x-axis coordinate of the fixation [0, 1]\n",
    "* ```norm_pos-y``` — normalized y-axis coordinate of the fixation [0, 1]\n",
    "* ```duration``` — duration of the fixation in ms\n",
    "* ```AOI``` - the label of the AOI to which the fixation belongs"
   ]
  },
  {
   "cell_type": "code",
   "id": "4f780a790bac4494",
   "metadata": {
    "ExecuteTime": {
     "end_time": "2025-08-09T08:44:21.557844Z",
     "start_time": "2025-08-09T08:44:21.526372Z"
    }
   },
   "source": [
    "data = pd.read_csv('data/em-y35-fasttext_AOI.csv')\n",
    "x = \"norm_pos_x\"\n",
    "y = \"norm_pos_y\"\n",
    "aoi = \"AOI\"\n",
    "duration = \"duration\"\n",
    "data[y] = 1 - data[y]   # Reverse the y-axis coordinates\n",
    "data.head()"
   ],
   "outputs": [
    {
     "data": {
      "text/plain": [
       "  SUBJ_NAME              TEXT  norm_pos_x  norm_pos_y  duration  \\\n",
       "0       s01  aide_refugies-a1   -0.259043    1.050774       119   \n",
       "1       s01  aide_refugies-a1   -0.172329    1.043732       172   \n",
       "2       s01  aide_refugies-a1   -0.033891    1.041002       103   \n",
       "3       s01  aide_refugies-a1    0.150820    1.028931       236   \n",
       "4       s01  aide_refugies-a1    0.117732    1.031087       173   \n",
       "\n",
       "              to_filter    AOI best_method  \n",
       "0  s01_aide_refugies-a1  aoi_2      KMeans  \n",
       "1  s01_aide_refugies-a1  aoi_2      KMeans  \n",
       "2  s01_aide_refugies-a1  aoi_1      KMeans  \n",
       "3  s01_aide_refugies-a1  aoi_0      KMeans  \n",
       "4  s01_aide_refugies-a1  aoi_0      KMeans  "
      ],
      "text/html": [
       "<div>\n",
       "<style scoped>\n",
       "    .dataframe tbody tr th:only-of-type {\n",
       "        vertical-align: middle;\n",
       "    }\n",
       "\n",
       "    .dataframe tbody tr th {\n",
       "        vertical-align: top;\n",
       "    }\n",
       "\n",
       "    .dataframe thead th {\n",
       "        text-align: right;\n",
       "    }\n",
       "</style>\n",
       "<table border=\"1\" class=\"dataframe\">\n",
       "  <thead>\n",
       "    <tr style=\"text-align: right;\">\n",
       "      <th></th>\n",
       "      <th>SUBJ_NAME</th>\n",
       "      <th>TEXT</th>\n",
       "      <th>norm_pos_x</th>\n",
       "      <th>norm_pos_y</th>\n",
       "      <th>duration</th>\n",
       "      <th>to_filter</th>\n",
       "      <th>AOI</th>\n",
       "      <th>best_method</th>\n",
       "    </tr>\n",
       "  </thead>\n",
       "  <tbody>\n",
       "    <tr>\n",
       "      <th>0</th>\n",
       "      <td>s01</td>\n",
       "      <td>aide_refugies-a1</td>\n",
       "      <td>-0.259043</td>\n",
       "      <td>1.050774</td>\n",
       "      <td>119</td>\n",
       "      <td>s01_aide_refugies-a1</td>\n",
       "      <td>aoi_2</td>\n",
       "      <td>KMeans</td>\n",
       "    </tr>\n",
       "    <tr>\n",
       "      <th>1</th>\n",
       "      <td>s01</td>\n",
       "      <td>aide_refugies-a1</td>\n",
       "      <td>-0.172329</td>\n",
       "      <td>1.043732</td>\n",
       "      <td>172</td>\n",
       "      <td>s01_aide_refugies-a1</td>\n",
       "      <td>aoi_2</td>\n",
       "      <td>KMeans</td>\n",
       "    </tr>\n",
       "    <tr>\n",
       "      <th>2</th>\n",
       "      <td>s01</td>\n",
       "      <td>aide_refugies-a1</td>\n",
       "      <td>-0.033891</td>\n",
       "      <td>1.041002</td>\n",
       "      <td>103</td>\n",
       "      <td>s01_aide_refugies-a1</td>\n",
       "      <td>aoi_1</td>\n",
       "      <td>KMeans</td>\n",
       "    </tr>\n",
       "    <tr>\n",
       "      <th>3</th>\n",
       "      <td>s01</td>\n",
       "      <td>aide_refugies-a1</td>\n",
       "      <td>0.150820</td>\n",
       "      <td>1.028931</td>\n",
       "      <td>236</td>\n",
       "      <td>s01_aide_refugies-a1</td>\n",
       "      <td>aoi_0</td>\n",
       "      <td>KMeans</td>\n",
       "    </tr>\n",
       "    <tr>\n",
       "      <th>4</th>\n",
       "      <td>s01</td>\n",
       "      <td>aide_refugies-a1</td>\n",
       "      <td>0.117732</td>\n",
       "      <td>1.031087</td>\n",
       "      <td>173</td>\n",
       "      <td>s01_aide_refugies-a1</td>\n",
       "      <td>aoi_0</td>\n",
       "      <td>KMeans</td>\n",
       "    </tr>\n",
       "  </tbody>\n",
       "</table>\n",
       "</div>"
      ]
     },
     "execution_count": 2,
     "metadata": {},
     "output_type": "execute_result"
    }
   ],
   "execution_count": 2
  },
  {
   "cell_type": "markdown",
   "id": "7ef28353b5c8919a",
   "metadata": {},
   "source": [
    "## Scanpath Visualization"
   ]
  },
  {
   "cell_type": "markdown",
   "id": "899aba58c146d3d",
   "metadata": {},
   "source": [
    "### Baseline\n",
    "It is the main function of the visualization module. It has a lot of parameters, and you can adjust it to your needs. We will learn only the basics of setting up for a quick start. Let's begin with the baseline. We will try to visualize saccades with fixations."
   ]
  },
  {
   "cell_type": "code",
   "id": "6911749d5b9e9409",
   "metadata": {
    "ExecuteTime": {
     "end_time": "2025-08-09T08:44:21.741223Z",
     "start_time": "2025-08-09T08:44:21.639579Z"
    }
   },
   "source": [
    "record = data[(data['SUBJ_NAME'] == \"s04\") & (data['TEXT'] == \"chasse_oiseaux-a1\")]\n",
    "scanpath_visualization(record, x, y, return_ndarray=False, with_axes=True, path_width=1)"
   ],
   "outputs": [
    {
     "data": {
      "text/plain": [
       "<Figure size 1000x1000 with 1 Axes>"
      ],
      "image/png": "[encoded data removed]"
     },
     "metadata": {},
     "output_type": "display_data"
    }
   ],
   "execution_count": 3
  },
  {
   "cell_type": "markdown",
   "id": "f541eb5ff3d8e250",
   "metadata": {},
   "source": [
    "The first argument is the instance with fixations; the following two arguments are the names of columns, which contain x- and y-axis coordinates, respectively. Also, we want to see a plot with axes (with_axes=True), and we set the line width. This function returns a ndarray with RGB, but we will look at this in the next paragraph."
   ]
  },
  {
   "cell_type": "markdown",
   "id": "b26ae058a62d1084",
   "metadata": {},
   "source": [
    "### Saccadic information\n",
    "We can modify the previous plot and get a presentable plot with more information. Let's add enumeration for fixations, sequentially-colored saccades, regression, and vectors instead of regular lines. "
   ]
  },
  {
   "cell_type": "code",
   "id": "dcbe9a6f0fc39dce",
   "metadata": {
    "ExecuteTime": {
     "end_time": "2025-08-09T08:44:21.900388Z",
     "start_time": "2025-08-09T08:44:21.781465Z"
    }
   },
   "source": [
    "scanpath_visualization(record, x, y, add_regressions=True, regression_color='red', seq_colormap=True, is_vectors=True, points_enumeration=True, rule=(2, ), return_ndarray=False, with_axes=True)"
   ],
   "outputs": [
    {
     "data": {
      "text/plain": [
       "<Figure size 1000x1000 with 1 Axes>"
      ],
      "image/png": "[encoded data removed]"
     },
     "metadata": {},
     "output_type": "display_data"
    }
   ],
   "execution_count": 4
  },
  {
   "cell_type": "markdown",
   "id": "5ebb6fbd5b9827eb",
   "metadata": {},
   "source": [
    "### How to add regression\n",
    "If you want to add regression to the plot, you should add a rule parameter. In this example, we selected the second quadrant for regression. You can also choose other quadrants or interpret it as an angle in radians. The part below is a description of these parameters from the doc string: <br><br>\n",
    "```rule``` must be either:\n",
    "1) tuple of quadrants direction to classify\n",
    "            regressions, 1st quadrant being upper-right square of plane and counting\n",
    "            anti-clockwise or \n",
    "2) tuple of angles in degrees (0 <= angle <= 360).<br>\n",
    "\n",
    "```deviation``` if None, then `rule` is interpreted as quadrants. Otherwise,\n",
    "            `rule` is interpreted as angles. If integer, then is a +-deviation for all angles.\n",
    "            If tuple of integers, then must be of the same length as `rule`, each value being\n",
    "            a corresponding deviation for each angle. Angle = 0 is positive x-axis direction,\n",
    "            rotating anti-clockwise."
   ]
  },
  {
   "cell_type": "markdown",
   "id": "11cf9a2c04bc1ee",
   "metadata": {},
   "source": [
    "### AOI visualization\n",
    "Our fixations have the AOI. Let's visualize it. It is simple, you should add the name of the AOI column in the ```aoi``` parameter. Areas were calculated using a convex hull (To visualize areas, add ```show_hull=True```). To make the plot simpler, we will drop the saccades (```only_points=True```)."
   ]
  },
  {
   "cell_type": "code",
   "id": "68b6f3e06833e11f",
   "metadata": {
    "ExecuteTime": {
     "end_time": "2025-08-09T08:44:21.998850Z",
     "start_time": "2025-08-09T08:44:21.905780Z"
    }
   },
   "source": [
    "aoi_color = {\"aoi_0\": \"blue\", \"aoi_1\": \"green\", \"aoi_2\": \"red\"}\n",
    "scanpath_visualization(record, x, y, aoi=aoi, aoi_c=aoi_color, return_ndarray=False, with_axes=True, only_points=True, show_legend=True, show_hull=True)"
   ],
   "outputs": [
    {
     "data": {
      "text/plain": [
       "<Figure size 1000x1000 with 1 Axes>"
      ],
      "image/png": "[encoded data removed]"
     },
     "metadata": {},
     "output_type": "display_data"
    }
   ],
   "execution_count": 5
  },
  {
   "cell_type": "markdown",
   "id": "cbf5b2432ad0ae14",
   "metadata": {},
   "source": [
    "### Visualization of the fixations\n",
    "Now we will visualize only fixation, but with extra information. We will add different shapes that depend on the duration of the fixation (```shape_column=duration```). "
   ]
  },
  {
   "cell_type": "code",
   "id": "624ecaf43362e7ca",
   "metadata": {
    "ExecuteTime": {
     "end_time": "2025-08-09T08:44:22.130251Z",
     "start_time": "2025-08-09T08:44:22.006224Z"
    }
   },
   "source": [
    "scanpath_visualization(record, x, y, shape_column=duration, aoi=aoi, aoi_c=aoi_color, show_legend=True, points_enumeration=True, only_points=True, return_ndarray=False, with_axes=True)"
   ],
   "outputs": [
    {
     "data": {
      "text/plain": [
       "<Figure size 1000x1000 with 1 Axes>"
      ],
      "image/png": "[encoded data removed]"
     },
     "metadata": {},
     "output_type": "display_data"
    }
   ],
   "execution_count": 6
  },
  {
   "cell_type": "markdown",
   "id": "3878cc53023f8acf",
   "metadata": {},
   "source": [
    "To sum up, it is possible to change the AOI color, the width of the saccades, add a path to save the plot, etc.\n",
    "<br>\n",
    "All these types of plots are available, like a particular function with a lower count of parameters: ```baseline_visualization```, ```aoi_visualization```, ```saccade_visualization```.\n",
    "> Remark: Most of the visualization methods were taken from this article [[1]](#links)"
   ]
  },
  {
   "cell_type": "markdown",
   "id": "c7f335a3deb464f8",
   "metadata": {},
   "source": [
    "## Get visualizations\n",
    "If we want to use plot images for DL, we can use ```get_visualizations``` for it. It returns a ndarray of RGB (or gray) values of the image plot of each record. ```pk``` parameter needs to split records. ```pattern``` is a name for a possible visualization (```baseline```, ```aoi```, ```saccades```)."
   ]
  },
  {
   "cell_type": "code",
   "id": "443efbfb6c3ab807",
   "metadata": {
    "ExecuteTime": {
     "end_time": "2025-08-09T08:44:22.160649Z",
     "start_time": "2025-08-09T08:44:22.137318Z"
    }
   },
   "source": [
    "pk = [\"SUBJ_NAME\", \"TEXT\"]\n",
    "res = get_visualizations(record, x=x, y=y, shape=(10, 10), pk=pk, pattern=\"saccades\", dpi=4)\n",
    "res[0]"
   ],
   "outputs": [
    {
     "name": "stderr",
     "output_type": "stream",
     "text": [
      "100%|██████████| 1/1 [00:00<00:00, 62.24it/s]"
     ]
    },
    {
     "name": "stdout",
     "output_type": "stream",
     "text": [
      "(1, 3, 40, 40)\n"
     ]
    },
    {
     "name": "stderr",
     "output_type": "stream",
     "text": [
      "\n"
     ]
    },
    {
     "data": {
      "text/plain": [
       "array([[[1., 1., 1., ..., 1., 1., 1.],\n",
       "        [1., 1., 1., ..., 1., 1., 1.],\n",
       "        [1., 1., 1., ..., 1., 1., 1.],\n",
       "        ...,\n",
       "        [1., 1., 1., ..., 1., 1., 1.],\n",
       "        [1., 1., 1., ..., 1., 1., 1.],\n",
       "        [1., 1., 1., ..., 1., 1., 1.]],\n",
       "\n",
       "       [[1., 1., 1., ..., 1., 1., 1.],\n",
       "        [1., 1., 1., ..., 1., 1., 1.],\n",
       "        [1., 1., 1., ..., 1., 1., 1.],\n",
       "        ...,\n",
       "        [1., 1., 1., ..., 1., 1., 1.],\n",
       "        [1., 1., 1., ..., 1., 1., 1.],\n",
       "        [1., 1., 1., ..., 1., 1., 1.]],\n",
       "\n",
       "       [[1., 1., 1., ..., 1., 1., 1.],\n",
       "        [1., 1., 1., ..., 1., 1., 1.],\n",
       "        [1., 1., 1., ..., 1., 1., 1.],\n",
       "        ...,\n",
       "        [1., 1., 1., ..., 1., 1., 1.],\n",
       "        [1., 1., 1., ..., 1., 1., 1.],\n",
       "        [1., 1., 1., ..., 1., 1., 1.]]])"
      ]
     },
     "execution_count": 7,
     "metadata": {},
     "output_type": "execute_result"
    }
   ],
   "execution_count": 7
  },
  {
   "cell_type": "markdown",
   "id": "2aa41bda6ce66efe",
   "metadata": {},
   "source": [
    "## Dynamic visualization\n",
    "Visualization module also has some dynamic visualization with animations. It could be useful for deep learning like static visualization, but it can be used to interpretation of data. Let's import all function and build our first animation of scanpath:"
   ]
  },
  {
   "cell_type": "code",
   "id": "de2aac59e6dcce3a",
   "metadata": {
    "ExecuteTime": {
     "end_time": "2025-08-09T08:44:22.190862Z",
     "start_time": "2025-08-09T08:44:22.186339Z"
    }
   },
   "source": "from eyefeatures.visualization.dynamic_visualization import *",
   "outputs": [],
   "execution_count": 8
  },
  {
   "cell_type": "markdown",
   "id": "f625b82e56cb627b",
   "metadata": {},
   "source": [
    "### Scanpath animation\n",
    "Firstly, we will animate building of the scanpath. ```scanpath_animation``` function has main parameters like other visualization function: <br>\n",
    "* data — fixations with additional information\n",
    "* x — column name of the x-axis coordinate\n",
    "* y — column name of the y-axis coordinate <br>\n",
    "\n",
    "and e.t.c\n",
    "You can also adjust speed of the animation using ```duration``` parameter(duration in ms) and save animation in gif file with ```save_gif=path/to/the/gif```\n"
   ]
  },
  {
   "cell_type": "code",
   "id": "fba062e4c0bee1b",
   "metadata": {
    "ExecuteTime": {
     "end_time": "2025-08-09T08:45:11.348907Z",
     "start_time": "2025-08-09T08:44:22.230830Z"
    }
   },
   "source": "scanpath_animation(record, x=x, y=y, add_regression=True, rule=(2,), animation_duration=500, save_gif=\"scanpath.gif\")",
   "outputs": [
    {
     "data": {
      "application/vnd.plotly.v1+json": {
       "data": [
        {
         "line": {
          "color": "green",
          "width": 0.5
         },
         "mode": "lines",
         "x": [],
         "y": [],
         "type": "scatter"
        },
        {
         "line": {
          "color": "green",
          "width": 0.5
         },
         "mode": "lines",
         "x": [],
         "y": [],
         "type": "scatter"
        },
        {
         "line": {
          "color": "green",
          "width": 0.5
         },
         "mode": "lines",
         "x": [],
         "y": [],
         "type": "scatter"
        },
        {
         "line": {
          "color": "green",
          "width": 0.5
         },
         "mode": "lines",
         "x": [],
         "y": [],
         "type": "scatter"
        },
        {
         "line": {
          "color": "green",
          "width": 0.5
         },
         "mode": "lines",
         "x": [],
         "y": [],
         "type": "scatter"
        },
        {
         "line": {
          "color": "green",
          "width": 0.5
         },
         "mode": "lines",
         "x": [],
         "y": [],
         "type": "scatter"
        },
        {
         "line": {
          "color": "green",
          "width": 0.5
         },
         "mode": "lines",
         "x": [],
         "y": [],
         "type": "scatter"
        },
        {
         "line": {
          "color": "green",
          "width": 0.5
         },
         "mode": "lines",
         "x": [],
         "y": [],
         "type": "scatter"
        },
        {
         "line": {
          "color": "green",
          "width": 0.5
         },
         "mode": "lines",
         "x": [],
         "y": [],
         "type": "scatter"
        },
        {
         "line": {
          "color": "green",
          "width": 0.5
         },
         "mode": "lines",
         "x": [],
         "y": [],
         "type": "scatter"
        },
        {
         "line": {
          "color": "green",
          "width": 0.5
         },
         "mode": "lines",
         "x": [],
         "y": [],
         "type": "scatter"
        },
        {
         "line": {
          "color": "green",
          "width": 0.5
         },
         "mode": "lines",
         "x": [],
         "y": [],
         "type": "scatter"
        },
        {
         "line": {
          "color": "green",
          "width": 0.5
         },
         "mode": "lines",
         "x": [],
         "y": [],
         "type": "scatter"
        },
        {
         "line": {
          "color": "green",
          "width": 0.5
         },
         "mode": "lines",
         "x": [],
         "y": [],
         "type": "scatter"
        },
        {
         "line": {
          "color": "green",
          "width": 0.5
         },
         "mode": "lines",
         "x": [],
         "y": [],
         "type": "scatter"
        },
        {
         "line": {
          "color": "green",
          "width": 0.5
         },
         "mode": "lines",
         "x": [],
         "y": [],
         "type": "scatter"
        },
        {
         "line": {
          "color": "green",
          "width": 0.5
         },
         "mode": "lines",
         "x": [],
         "y": [],
         "type": "scatter"
        },
        {
         "line": {
          "color": "green",
          "width": 0.5
         },
         "mode": "lines",
         "x": [],
         "y": [],
         "type": "scatter"
        },
        {
         "line": {
          "color": "green",
          "width": 0.5
         },
         "mode": "lines",
         "x": [],
         "y": [],
         "type": "scatter"
        },
        {
         "line": {
          "color": "green",
          "width": 0.5
         },
         "mode": "lines",
         "x": [],
         "y": [],
         "type": "scatter"
        },
        {
         "line": {
          "color": "green",
          "width": 0.5
         },
         "mode": "lines",
         "x": [],
         "y": [],
         "type": "scatter"
        },
        {
         "line": {
          "color": "green",
          "width": 0.5
         },
         "mode": "lines",
         "x": [],
         "y": [],
         "type": "scatter"
        },
        {
         "line": {
          "color": "green",
          "width": 0.5
         },
         "mode": "lines",
         "x": [],
         "y": [],
         "type": "scatter"
        },
        {
         "line": {
          "color": "green",
          "width": 0.5
         },
         "mode": "lines",
         "x": [],
         "y": [],
         "type": "scatter"
        },
        {
         "line": {
          "color": "green",
          "width": 0.5
         },
         "mode": "lines",
         "x": [],
         "y": [],
         "type": "scatter"
        }
       ],
       "layout": {
        "height": 600,
        "sliders": [
         {
          "active": 0,
          "currentvalue": {
           "font": {
            "size": 20
           },
           "prefix": "Index:",
           "visible": true,
           "xanchor": "right"
          },
          "len": 0.9,
          "pad": {
           "b": 10,
           "t": 50
          },
          "steps": [
           {
            "args": [
             [
              "1"
             ],
             {
              "frame": {
               "duration": 300,
               "redraw": false
              },
              "mode": "immediate",
              "transition": {
               "duration": 300
              }
             }
            ],
            "label": "1",
            "method": "animate"
           },
           {
            "args": [
             [
              "2"
             ],
             {
              "frame": {
               "duration": 300,
               "redraw": false
              },
              "mode": "immediate",
              "transition": {
               "duration": 300
              }
             }
            ],
            "label": "2",
            "method": "animate"
           },
           {
            "args": [
             [
              "3"
             ],
             {
              "frame": {
               "duration": 300,
               "redraw": false
              },
              "mode": "immediate",
              "transition": {
               "duration": 300
              }
             }
            ],
            "label": "3",
            "method": "animate"
           },
           {
            "args": [
             [
              "4"
             ],
             {
              "frame": {
               "duration": 300,
               "redraw": false
              },
              "mode": "immediate",
              "transition": {
               "duration": 300
              }
             }
            ],
            "label": "4",
            "method": "animate"
           },
           {
            "args": [
             [
              "5"
             ],
             {
              "frame": {
               "duration": 300,
               "redraw": false
              },
              "mode": "immediate",
              "transition": {
               "duration": 300
              }
             }
            ],
            "label": "5",
            "method": "animate"
           },
           {
            "args": [
             [
              "6"
             ],
             {
              "frame": {
               "duration": 300,
               "redraw": false
              },
              "mode": "immediate",
              "transition": {
               "duration": 300
              }
             }
            ],
            "label": "6",
            "method": "animate"
           },
           {
            "args": [
             [
              "7"
             ],
             {
              "frame": {
               "duration": 300,
               "redraw": false
              },
              "mode": "immediate",
              "transition": {
               "duration": 300
              }
             }
            ],
            "label": "7",
            "method": "animate"
           },
           {
            "args": [
             [
              "8"
             ],
             {
              "frame": {
               "duration": 300,
               "redraw": false
              },
              "mode": "immediate",
              "transition": {
               "duration": 300
              }
             }
            ],
            "label": "8",
            "method": "animate"
           },
           {
            "args": [
             [
              "9"
             ],
             {
              "frame": {
               "duration": 300,
               "redraw": false
              },
              "mode": "immediate",
              "transition": {
               "duration": 300
              }
             }
            ],
            "label": "9",
            "method": "animate"
           },
           {
            "args": [
             [
              "10"
             ],
             {
              "frame": {
               "duration": 300,
               "redraw": false
              },
              "mode": "immediate",
              "transition": {
               "duration": 300
              }
             }
            ],
            "label": "10",
            "method": "animate"
           },
           {
            "args": [
             [
              "11"
             ],
             {
              "frame": {
               "duration": 300,
               "redraw": false
              },
              "mode": "immediate",
              "transition": {
               "duration": 300
              }
             }
            ],
            "label": "11",
            "method": "animate"
           },
           {
            "args": [
             [
              "12"
             ],
             {
              "frame": {
               "duration": 300,
               "redraw": false
              },
              "mode": "immediate",
              "transition": {
               "duration": 300
              }
             }
            ],
            "label": "12",
            "method": "animate"
           },
           {
            "args": [
             [
              "13"
             ],
             {
              "frame": {
               "duration": 300,
               "redraw": false
              },
              "mode": "immediate",
              "transition": {
               "duration": 300
              }
             }
            ],
            "label": "13",
            "method": "animate"
           },
           {
            "args": [
             [
              "14"
             ],
             {
              "frame": {
               "duration": 300,
               "redraw": false
              },
              "mode": "immediate",
              "transition": {
               "duration": 300
              }
             }
            ],
            "label": "14",
            "method": "animate"
           },
           {
            "args": [
             [
              "15"
             ],
             {
              "frame": {
               "duration": 300,
               "redraw": false
              },
              "mode": "immediate",
              "transition": {
               "duration": 300
              }
             }
            ],
            "label": "15",
            "method": "animate"
           },
           {
            "args": [
             [
              "16"
             ],
             {
              "frame": {
               "duration": 300,
               "redraw": false
              },
              "mode": "immediate",
              "transition": {
               "duration": 300
              }
             }
            ],
            "label": "16",
            "method": "animate"
           },
           {
            "args": [
             [
              "17"
             ],
             {
              "frame": {
               "duration": 300,
               "redraw": false
              },
              "mode": "immediate",
              "transition": {
               "duration": 300
              }
             }
            ],
            "label": "17",
            "method": "animate"
           },
           {
            "args": [
             [
              "18"
             ],
             {
              "frame": {
               "duration": 300,
               "redraw": false
              },
              "mode": "immediate",
              "transition": {
               "duration": 300
              }
             }
            ],
            "label": "18",
            "method": "animate"
           },
           {
            "args": [
             [
              "19"
             ],
             {
              "frame": {
               "duration": 300,
               "redraw": false
              },
              "mode": "immediate",
              "transition": {
               "duration": 300
              }
             }
            ],
            "label": "19",
            "method": "animate"
           },
           {
            "args": [
             [
              "20"
             ],
             {
              "frame": {
               "duration": 300,
               "redraw": false
              },
              "mode": "immediate",
              "transition": {
               "duration": 300
              }
             }
            ],
            "label": "20",
            "method": "animate"
           },
           {
            "args": [
             [
              "21"
             ],
             {
              "frame": {
               "duration": 300,
               "redraw": false
              },
              "mode": "immediate",
              "transition": {
               "duration": 300
              }
             }
            ],
            "label": "21",
            "method": "animate"
           },
           {
            "args": [
             [
              "22"
             ],
             {
              "frame": {
               "duration": 300,
               "redraw": false
              },
              "mode": "immediate",
              "transition": {
               "duration": 300
              }
             }
            ],
            "label": "22",
            "method": "animate"
           },
           {
            "args": [
             [
              "23"
             ],
             {
              "frame": {
               "duration": 300,
               "redraw": false
              },
              "mode": "immediate",
              "transition": {
               "duration": 300
              }
             }
            ],
            "label": "23",
            "method": "animate"
           },
           {
            "args": [
             [
              "24"
             ],
             {
              "frame": {
               "duration": 300,
               "redraw": false
              },
              "mode": "immediate",
              "transition": {
               "duration": 300
              }
             }
            ],
            "label": "24",
            "method": "animate"
           }
          ],
          "transition": {
           "duration": 300,
           "easing": "cubic-in-out"
          },
          "x": 0.1,
          "xanchor": "left",
          "y": 0.0,
          "yanchor": "top"
         }
        ],
        "updatemenus": [
         {
          "buttons": [
           {
            "args": [
             null,
             {
              "frame": {
               "duration": 500,
               "redraw": false
              },
              "fromcurrent": true,
              "transition": {
               "duration": 300,
               "easing": "quadratic-in-out"
              }
             }
            ],
            "label": "Play",
            "method": "animate"
           },
           {
            "args": [
             [
              null
             ],
             {
              "frame": {
               "duration": 0,
               "redraw": false
              },
              "mode": "immediate",
              "transition": {
               "duration": 0
              }
             }
            ],
            "label": "Pause",
            "method": "animate"
           }
          ],
          "direction": "left",
          "pad": {
           "r": 10,
           "t": 87
          },
          "showactive": false,
          "type": "buttons",
          "x": 0.1,
          "xanchor": "right",
          "y": 0.0,
          "yanchor": "top"
         }
        ],
        "width": 600,
        "xaxis": {
         "automargin": false,
         "range": [
          0.2533215010141988,
          0.9851419878296147
         ]
        },
        "yaxis": {
         "automargin": false,
         "range": [
          0.05964937491018826,
          0.6983618335967812
         ]
        },
        "template": {
         "data": {
          "histogram2dcontour": [
           {
            "type": "histogram2dcontour",
            "colorbar": {
             "outlinewidth": 0,
             "ticks": ""
            },
            "colorscale": [
             [
              0.0,
              "#0d0887"
             ],
             [
              0.1111111111111111,
              "#46039f"
             ],
             [
              0.2222222222222222,
              "#7201a8"
             ],
             [
              0.3333333333333333,
              "#9c179e"
             ],
             [
              0.4444444444444444,
              "#bd3786"
             ],
             [
              0.5555555555555556,
              "#d8576b"
             ],
             [
              0.6666666666666666,
              "#ed7953"
             ],
             [
              0.7777777777777778,
              "#fb9f3a"
             ],
             [
              0.8888888888888888,
              "#fdca26"
             ],
             [
              1.0,
              "#f0f921"
             ]
            ]
           }
          ],
          "choropleth": [
           {
            "type": "choropleth",
            "colorbar": {
             "outlinewidth": 0,
             "ticks": ""
            }
           }
          ],
          "histogram2d": [
           {
            "type": "histogram2d",
            "colorbar": {
             "outlinewidth": 0,
             "ticks": ""
            },
            "colorscale": [
             [
              0.0,
              "#0d0887"
             ],
             [
              0.1111111111111111,
              "#46039f"
             ],
             [
              0.2222222222222222,
              "#7201a8"
             ],
             [
              0.3333333333333333,
              "#9c179e"
             ],
             [
              0.4444444444444444,
              "#bd3786"
             ],
             [
              0.5555555555555556,
              "#d8576b"
             ],
             [
              0.6666666666666666,
              "#ed7953"
             ],
             [
              0.7777777777777778,
              "#fb9f3a"
             ],
             [
              0.8888888888888888,
              "#fdca26"
             ],
             [
              1.0,
              "#f0f921"
             ]
            ]
           }
          ],
          "heatmap": [
           {
            "type": "heatmap",
            "colorbar": {
             "outlinewidth": 0,
             "ticks": ""
            },
            "colorscale": [
             [
              0.0,
              "#0d0887"
             ],
             [
              0.1111111111111111,
              "#46039f"
             ],
             [
              0.2222222222222222,
              "#7201a8"
             ],
             [
              0.3333333333333333,
              "#9c179e"
             ],
             [
              0.4444444444444444,
              "#bd3786"
             ],
             [
              0.5555555555555556,
              "#d8576b"
             ],
             [
              0.6666666666666666,
              "#ed7953"
             ],
             [
              0.7777777777777778,
              "#fb9f3a"
             ],
             [
              0.8888888888888888,
              "#fdca26"
             ],
             [
              1.0,
              "#f0f921"
             ]
            ]
           }
          ],
          "contourcarpet": [
           {
            "type": "contourcarpet",
            "colorbar": {
             "outlinewidth": 0,
             "ticks": ""
            }
           }
          ],
          "contour": [
           {
            "type": "contour",
            "colorbar": {
             "outlinewidth": 0,
             "ticks": ""
            },
            "colorscale": [
             [
              0.0,
              "#0d0887"
             ],
             [
              0.1111111111111111,
              "#46039f"
             ],
             [
              0.2222222222222222,
              "#7201a8"
             ],
             [
              0.3333333333333333,
              "#9c179e"
             ],
             [
              0.4444444444444444,
              "#bd3786"
             ],
             [
              0.5555555555555556,
              "#d8576b"
             ],
             [
              0.6666666666666666,
              "#ed7953"
             ],
             [
              0.7777777777777778,
              "#fb9f3a"
             ],
             [
              0.8888888888888888,
              "#fdca26"
             ],
             [
              1.0,
              "#f0f921"
             ]
            ]
           }
          ],
          "surface": [
           {
            "type": "surface",
            "colorbar": {
             "outlinewidth": 0,
             "ticks": ""
            },
            "colorscale": [
             [
              0.0,
              "#0d0887"
             ],
             [
              0.1111111111111111,
              "#46039f"
             ],
             [
              0.2222222222222222,
              "#7201a8"
             ],
             [
              0.3333333333333333,
              "#9c179e"
             ],
             [
              0.4444444444444444,
              "#bd3786"
             ],
             [
              0.5555555555555556,
              "#d8576b"
             ],
             [
              0.6666666666666666,
              "#ed7953"
             ],
             [
              0.7777777777777778,
              "#fb9f3a"
             ],
             [
              0.8888888888888888,
              "#fdca26"
             ],
             [
              1.0,
              "#f0f921"
             ]
            ]
           }
          ],
          "mesh3d": [
           {
            "type": "mesh3d",
            "colorbar": {
             "outlinewidth": 0,
             "ticks": ""
            }
           }
          ],
          "scatter": [
           {
            "fillpattern": {
             "fillmode": "overlay",
             "size": 10,
             "solidity": 0.2
            },
            "type": "scatter"
           }
          ],
          "parcoords": [
           {
            "type": "parcoords",
            "line": {
             "colorbar": {
              "outlinewidth": 0,
              "ticks": ""
             }
            }
           }
          ],
          "scatterpolargl": [
           {
            "type": "scatterpolargl",
            "marker": {
             "colorbar": {
              "outlinewidth": 0,
              "ticks": ""
             }
            }
           }
          ],
          "bar": [
           {
            "error_x": {
             "color": "#2a3f5f"
            },
            "error_y": {
             "color": "#2a3f5f"
            },
            "marker": {
             "line": {
              "color": "#E5ECF6",
              "width": 0.5
             },
             "pattern": {
              "fillmode": "overlay",
              "size": 10,
              "solidity": 0.2
             }
            },
            "type": "bar"
           }
          ],
          "scattergeo": [
           {
            "type": "scattergeo",
            "marker": {
             "colorbar": {
              "outlinewidth": 0,
              "ticks": ""
             }
            }
           }
          ],
          "scatterpolar": [
           {
            "type": "scatterpolar",
            "marker": {
             "colorbar": {
              "outlinewidth": 0,
              "ticks": ""
             }
            }
           }
          ],
          "histogram": [
           {
            "marker": {
             "pattern": {
              "fillmode": "overlay",
              "size": 10,
              "solidity": 0.2
             }
            },
            "type": "histogram"
           }
          ],
          "scattergl": [
           {
            "type": "scattergl",
            "marker": {
             "colorbar": {
              "outlinewidth": 0,
              "ticks": ""
             }
            }
           }
          ],
          "scatter3d": [
           {
            "type": "scatter3d",
            "line": {
             "colorbar": {
              "outlinewidth": 0,
              "ticks": ""
             }
            },
            "marker": {
             "colorbar": {
              "outlinewidth": 0,
              "ticks": ""
             }
            }
           }
          ],
          "scattermap": [
           {
            "type": "scattermap",
            "marker": {
             "colorbar": {
              "outlinewidth": 0,
              "ticks": ""
             }
            }
           }
          ],
          "scattermapbox": [
           {
            "type": "scattermapbox",
            "marker": {
             "colorbar": {
              "outlinewidth": 0,
              "ticks": ""
             }
            }
           }
          ],
          "scatterternary": [
           {
            "type": "scatterternary",
            "marker": {
             "colorbar": {
              "outlinewidth": 0,
              "ticks": ""
             }
            }
           }
          ],
          "scattercarpet": [
           {
            "type": "scattercarpet",
            "marker": {
             "colorbar": {
              "outlinewidth": 0,
              "ticks": ""
             }
            }
           }
          ],
          "carpet": [
           {
            "aaxis": {
             "endlinecolor": "#2a3f5f",
             "gridcolor": "white",
             "linecolor": "white",
             "minorgridcolor": "white",
             "startlinecolor": "#2a3f5f"
            },
            "baxis": {
             "endlinecolor": "#2a3f5f",
             "gridcolor": "white",
             "linecolor": "white",
             "minorgridcolor": "white",
             "startlinecolor": "#2a3f5f"
            },
            "type": "carpet"
           }
          ],
          "table": [
           {
            "cells": {
             "fill": {
              "color": "#EBF0F8"
             },
             "line": {
              "color": "white"
             }
            },
            "header": {
             "fill": {
              "color": "#C8D4E3"
             },
             "line": {
              "color": "white"
             }
            },
            "type": "table"
           }
          ],
          "barpolar": [
           {
            "marker": {
             "line": {
              "color": "#E5ECF6",
              "width": 0.5
             },
             "pattern": {
              "fillmode": "overlay",
              "size": 10,
              "solidity": 0.2
             }
            },
            "type": "barpolar"
           }
          ],
          "pie": [
           {
            "automargin": true,
            "type": "pie"
           }
          ]
         },
         "layout": {
          "autotypenumbers": "strict",
          "colorway": [
           "#636efa",
           "#EF553B",
           "#00cc96",
           "#ab63fa",
           "#FFA15A",
           "#19d3f3",
           "#FF6692",
           "#B6E880",
           "#FF97FF",
           "#FECB52"
          ],
          "font": {
           "color": "#2a3f5f"
          },
          "hovermode": "closest",
          "hoverlabel": {
           "align": "left"
          },
          "paper_bgcolor": "white",
          "plot_bgcolor": "#E5ECF6",
          "polar": {
           "bgcolor": "#E5ECF6",
           "angularaxis": {
            "gridcolor": "white",
            "linecolor": "white",
            "ticks": ""
           },
           "radialaxis": {
            "gridcolor": "white",
            "linecolor": "white",
            "ticks": ""
           }
          },
          "ternary": {
           "bgcolor": "#E5ECF6",
           "aaxis": {
            "gridcolor": "white",
            "linecolor": "white",
            "ticks": ""
           },
           "baxis": {
            "gridcolor": "white",
            "linecolor": "white",
            "ticks": ""
           },
           "caxis": {
            "gridcolor": "white",
            "linecolor": "white",
            "ticks": ""
           }
          },
          "coloraxis": {
           "colorbar": {
            "outlinewidth": 0,
            "ticks": ""
           }
          },
          "colorscale": {
           "sequential": [
            [
             0.0,
             "#0d0887"
            ],
            [
             0.1111111111111111,
             "#46039f"
            ],
            [
             0.2222222222222222,
             "#7201a8"
            ],
            [
             0.3333333333333333,
             "#9c179e"
            ],
            [
             0.4444444444444444,
             "#bd3786"
            ],
            [
             0.5555555555555556,
             "#d8576b"
            ],
            [
             0.6666666666666666,
             "#ed7953"
            ],
            [
             0.7777777777777778,
             "#fb9f3a"
            ],
            [
             0.8888888888888888,
             "#fdca26"
            ],
            [
             1.0,
             "#f0f921"
            ]
           ],
           "sequentialminus": [
            [
             0.0,
             "#0d0887"
            ],
            [
             0.1111111111111111,
             "#46039f"
            ],
            [
             0.2222222222222222,
             "#7201a8"
            ],
            [
             0.3333333333333333,
             "#9c179e"
            ],
            [
             0.4444444444444444,
             "#bd3786"
            ],
            [
             0.5555555555555556,
             "#d8576b"
            ],
            [
             0.6666666666666666,
             "#ed7953"
            ],
            [
             0.7777777777777778,
             "#fb9f3a"
            ],
            [
             0.8888888888888888,
             "#fdca26"
            ],
            [
             1.0,
             "#f0f921"
            ]
           ],
           "diverging": [
            [
             0,
             "#8e0152"
            ],
            [
             0.1,
             "#c51b7d"
            ],
            [
             0.2,
             "#de77ae"
            ],
            [
             0.3,
             "#f1b6da"
            ],
            [
             0.4,
             "#fde0ef"
            ],
            [
             0.5,
             "#f7f7f7"
            ],
            [
             0.6,
             "#e6f5d0"
            ],
            [
             0.7,
             "#b8e186"
            ],
            [
             0.8,
             "#7fbc41"
            ],
            [
             0.9,
             "#4d9221"
            ],
            [
             1,
             "#276419"
            ]
           ]
          },
          "xaxis": {
           "gridcolor": "white",
           "linecolor": "white",
           "ticks": "",
           "title": {
            "standoff": 15
           },
           "zerolinecolor": "white",
           "automargin": true,
           "zerolinewidth": 2
          },
          "yaxis": {
           "gridcolor": "white",
           "linecolor": "white",
           "ticks": "",
           "title": {
            "standoff": 15
           },
           "zerolinecolor": "white",
           "automargin": true,
           "zerolinewidth": 2
          },
          "scene": {
           "xaxis": {
            "backgroundcolor": "#E5ECF6",
            "gridcolor": "white",
            "linecolor": "white",
            "showbackground": true,
            "ticks": "",
            "zerolinecolor": "white",
            "gridwidth": 2
           },
           "yaxis": {
            "backgroundcolor": "#E5ECF6",
            "gridcolor": "white",
            "linecolor": "white",
            "showbackground": true,
            "ticks": "",
            "zerolinecolor": "white",
            "gridwidth": 2
           },
           "zaxis": {
            "backgroundcolor": "#E5ECF6",
            "gridcolor": "white",
            "linecolor": "white",
            "showbackground": true,
            "ticks": "",
            "zerolinecolor": "white",
            "gridwidth": 2
           }
          },
          "shapedefaults": {
           "line": {
            "color": "#2a3f5f"
           }
          },
          "annotationdefaults": {
           "arrowcolor": "#2a3f5f",
           "arrowhead": 0,
           "arrowwidth": 1
          },
          "geo": {
           "bgcolor": "white",
           "landcolor": "#E5ECF6",
           "subunitcolor": "white",
           "showland": true,
           "showlakes": true,
           "lakecolor": "white"
          },
          "title": {
           "x": 0.05
          },
          "mapbox": {
           "style": "light"
          }
         }
        }
       },
       "frames": [
        {
         "data": [
          {
           "line": {
            "color": "green",
            "width": 0.5
           },
           "marker": {
            "color": "black",
            "size": 6
           },
           "mode": "lines+markers",
           "name": "saccedes",
           "showlegend": false,
           "x": [
            0.3995943204868154,
            0.5300456389452334
           ],
           "y": [
            0.5798246874550942,
            0.5901710015806869
           ],
           "type": "scatter"
          }
         ],
         "layout": {
          "xaxis": {
           "automargin": false,
           "range": [
            0.2533215010141988,
            0.9851419878296147
           ]
          },
          "yaxis": {
           "automargin": false,
           "range": [
            0.05964937491018826,
            0.6983618335967812
           ]
          }
         },
         "name": "1"
        },
        {
         "data": [
          {
           "line": {
            "color": "green",
            "width": 0.5
           },
           "marker": {
            "color": "black",
            "size": 6
           },
           "mode": "lines+markers",
           "name": "saccedes",
           "showlegend": false,
           "x": [
            0.3995943204868154,
            0.5300456389452334
           ],
           "y": [
            0.5798246874550942,
            0.5901710015806869
           ],
           "type": "scatter"
          },
          {
           "line": {
            "color": "green",
            "width": 0.5
           },
           "marker": {
            "color": "black",
            "size": 6
           },
           "mode": "lines+markers",
           "name": "saccedes",
           "showlegend": false,
           "x": [
            0.5300456389452334,
            0.5564148073022313
           ],
           "y": [
            0.5901710015806869,
            0.5983618335967812
           ],
           "type": "scatter"
          }
         ],
         "layout": {
          "xaxis": {
           "automargin": false,
           "range": [
            0.2533215010141988,
            0.9851419878296147
           ]
          },
          "yaxis": {
           "automargin": false,
           "range": [
            0.05964937491018826,
            0.6983618335967812
           ]
          }
         },
         "name": "2"
        },
        {
         "data": [
          {
           "line": {
            "color": "green",
            "width": 0.5
           },
           "marker": {
            "color": "black",
            "size": 6
           },
           "mode": "lines+markers",
           "name": "saccedes",
           "showlegend": false,
           "x": [
            0.3995943204868154,
            0.5300456389452334
           ],
           "y": [
            0.5798246874550942,
            0.5901710015806869
           ],
           "type": "scatter"
          },
          {
           "line": {
            "color": "green",
            "width": 0.5
           },
           "marker": {
            "color": "black",
            "size": 6
           },
           "mode": "lines+markers",
           "name": "saccedes",
           "showlegend": false,
           "x": [
            0.5300456389452334,
            0.5564148073022313
           ],
           "y": [
            0.5901710015806869,
            0.5983618335967812
           ],
           "type": "scatter"
          },
          {
           "line": {
            "color": "green",
            "width": 0.5
           },
           "marker": {
            "color": "black",
            "size": 6
           },
           "mode": "lines+markers",
           "name": "saccedes",
           "showlegend": false,
           "x": [
            0.5564148073022313,
            0.7177991886409737
           ],
           "y": [
            0.5983618335967812,
            0.5893088087368875
           ],
           "type": "scatter"
          }
         ],
         "layout": {
          "xaxis": {
           "automargin": false,
           "range": [
            0.2533215010141988,
            0.9851419878296147
           ]
          },
          "yaxis": {
           "automargin": false,
           "range": [
            0.05964937491018826,
            0.6983618335967812
           ]
          }
         },
         "name": "3"
        },
        {
         "data": [
          {
           "line": {
            "color": "green",
            "width": 0.5
           },
           "marker": {
            "color": "black",
            "size": 6
           },
           "mode": "lines+markers",
           "name": "saccedes",
           "showlegend": false,
           "x": [
            0.3995943204868154,
            0.5300456389452334
           ],
           "y": [
            0.5798246874550942,
            0.5901710015806869
           ],
           "type": "scatter"
          },
          {
           "line": {
            "color": "green",
            "width": 0.5
           },
           "marker": {
            "color": "black",
            "size": 6
           },
           "mode": "lines+markers",
           "name": "saccedes",
           "showlegend": false,
           "x": [
            0.5300456389452334,
            0.5564148073022313
           ],
           "y": [
            0.5901710015806869,
            0.5983618335967812
           ],
           "type": "scatter"
          },
          {
           "line": {
            "color": "green",
            "width": 0.5
           },
           "marker": {
            "color": "black",
            "size": 6
           },
           "mode": "lines+markers",
           "name": "saccedes",
           "showlegend": false,
           "x": [
            0.5564148073022313,
            0.7177991886409737
           ],
           "y": [
            0.5983618335967812,
            0.5893088087368875
           ],
           "type": "scatter"
          },
          {
           "line": {
            "color": "green",
            "width": 0.5
           },
           "marker": {
            "color": "black",
            "size": 6
           },
           "mode": "lines+markers",
           "name": "saccedes",
           "showlegend": false,
           "x": [
            0.7177991886409737,
            0.7653397565922921
           ],
           "y": [
            0.5893088087368875,
            0.5893088087368875
           ],
           "type": "scatter"
          }
         ],
         "layout": {
          "xaxis": {
           "automargin": false,
           "range": [
            0.2533215010141988,
            0.9851419878296147
           ]
          },
          "yaxis": {
           "automargin": false,
           "range": [
            0.05964937491018826,
            0.6983618335967812
           ]
          }
         },
         "name": "4"
        },
        {
         "data": [
          {
           "line": {
            "color": "green",
            "width": 0.5
           },
           "marker": {
            "color": "black",
            "size": 6
           },
           "mode": "lines+markers",
           "name": "saccedes",
           "showlegend": false,
           "x": [
            0.3995943204868154,
            0.5300456389452334
           ],
           "y": [
            0.5798246874550942,
            0.5901710015806869
           ],
           "type": "scatter"
          },
          {
           "line": {
            "color": "green",
            "width": 0.5
           },
           "marker": {
            "color": "black",
            "size": 6
           },
           "mode": "lines+markers",
           "name": "saccedes",
           "showlegend": false,
           "x": [
            0.5300456389452334,
            0.5564148073022313
           ],
           "y": [
            0.5901710015806869,
            0.5983618335967812
           ],
           "type": "scatter"
          },
          {
           "line": {
            "color": "green",
            "width": 0.5
           },
           "marker": {
            "color": "black",
            "size": 6
           },
           "mode": "lines+markers",
           "name": "saccedes",
           "showlegend": false,
           "x": [
            0.5564148073022313,
            0.7177991886409737
           ],
           "y": [
            0.5983618335967812,
            0.5893088087368875
           ],
           "type": "scatter"
          },
          {
           "line": {
            "color": "green",
            "width": 0.5
           },
           "marker": {
            "color": "black",
            "size": 6
           },
           "mode": "lines+markers",
           "name": "saccedes",
           "showlegend": false,
           "x": [
            0.7177991886409737,
            0.7653397565922921
           ],
           "y": [
            0.5893088087368875,
            0.5893088087368875
           ],
           "type": "scatter"
          },
          {
           "line": {
            "color": "green",
            "width": 0.5
           },
           "marker": {
            "color": "black",
            "size": 6
           },
           "mode": "lines+markers",
           "name": "saccedes",
           "showlegend": false,
           "x": [
            0.7653397565922921,
            0.4050456389452332
           ],
           "y": [
            0.5893088087368875,
            0.4923121138094554
           ],
           "type": "scatter"
          }
         ],
         "layout": {
          "xaxis": {
           "automargin": false,
           "range": [
            0.2533215010141988,
            0.9851419878296147
           ]
          },
          "yaxis": {
           "automargin": false,
           "range": [
            0.05964937491018826,
            0.6983618335967812
           ]
          }
         },
         "name": "5"
        },
        {
         "data": [
          {
           "line": {
            "color": "green",
            "width": 0.5
           },
           "marker": {
            "color": "black",
            "size": 6
           },
           "mode": "lines+markers",
           "name": "saccedes",
           "showlegend": false,
           "x": [
            0.3995943204868154,
            0.5300456389452334
           ],
           "y": [
            0.5798246874550942,
            0.5901710015806869
           ],
           "type": "scatter"
          },
          {
           "line": {
            "color": "green",
            "width": 0.5
           },
           "marker": {
            "color": "black",
            "size": 6
           },
           "mode": "lines+markers",
           "name": "saccedes",
           "showlegend": false,
           "x": [
            0.5300456389452334,
            0.5564148073022313
           ],
           "y": [
            0.5901710015806869,
            0.5983618335967812
           ],
           "type": "scatter"
          },
          {
           "line": {
            "color": "green",
            "width": 0.5
           },
           "marker": {
            "color": "black",
            "size": 6
           },
           "mode": "lines+markers",
           "name": "saccedes",
           "showlegend": false,
           "x": [
            0.5564148073022313,
            0.7177991886409737
           ],
           "y": [
            0.5983618335967812,
            0.5893088087368875
           ],
           "type": "scatter"
          },
          {
           "line": {
            "color": "green",
            "width": 0.5
           },
           "marker": {
            "color": "black",
            "size": 6
           },
           "mode": "lines+markers",
           "name": "saccedes",
           "showlegend": false,
           "x": [
            0.7177991886409737,
            0.7653397565922921
           ],
           "y": [
            0.5893088087368875,
            0.5893088087368875
           ],
           "type": "scatter"
          },
          {
           "line": {
            "color": "green",
            "width": 0.5
           },
           "marker": {
            "color": "black",
            "size": 6
           },
           "mode": "lines+markers",
           "name": "saccedes",
           "showlegend": false,
           "x": [
            0.7653397565922921,
            0.4050456389452332
           ],
           "y": [
            0.5893088087368875,
            0.4923121138094554
           ],
           "type": "scatter"
          },
          {
           "line": {
            "color": "green",
            "width": 0.5
           },
           "marker": {
            "color": "black",
            "size": 6
           },
           "mode": "lines+markers",
           "name": "saccedes",
           "showlegend": false,
           "x": [
            0.4050456389452332,
            0.6001521298174443
           ],
           "y": [
            0.4923121138094554,
            0.5032332231642478
           ],
           "type": "scatter"
          }
         ],
         "layout": {
          "xaxis": {
           "automargin": false,
           "range": [
            0.2533215010141988,
            0.9851419878296147
           ]
          },
          "yaxis": {
           "automargin": false,
           "range": [
            0.05964937491018826,
            0.6983618335967812
           ]
          }
         },
         "name": "6"
        },
        {
         "data": [
          {
           "line": {
            "color": "green",
            "width": 0.5
           },
           "marker": {
            "color": "black",
            "size": 6
           },
           "mode": "lines+markers",
           "name": "saccedes",
           "showlegend": false,
           "x": [
            0.3995943204868154,
            0.5300456389452334
           ],
           "y": [
            0.5798246874550942,
            0.5901710015806869
           ],
           "type": "scatter"
          },
          {
           "line": {
            "color": "green",
            "width": 0.5
           },
           "marker": {
            "color": "black",
            "size": 6
           },
           "mode": "lines+markers",
           "name": "saccedes",
           "showlegend": false,
           "x": [
            0.5300456389452334,
            0.5564148073022313
           ],
           "y": [
            0.5901710015806869,
            0.5983618335967812
           ],
           "type": "scatter"
          },
          {
           "line": {
            "color": "green",
            "width": 0.5
           },
           "marker": {
            "color": "black",
            "size": 6
           },
           "mode": "lines+markers",
           "name": "saccedes",
           "showlegend": false,
           "x": [
            0.5564148073022313,
            0.7177991886409737
           ],
           "y": [
            0.5983618335967812,
            0.5893088087368875
           ],
           "type": "scatter"
          },
          {
           "line": {
            "color": "green",
            "width": 0.5
           },
           "marker": {
            "color": "black",
            "size": 6
           },
           "mode": "lines+markers",
           "name": "saccedes",
           "showlegend": false,
           "x": [
            0.7177991886409737,
            0.7653397565922921
           ],
           "y": [
            0.5893088087368875,
            0.5893088087368875
           ],
           "type": "scatter"
          },
          {
           "line": {
            "color": "green",
            "width": 0.5
           },
           "marker": {
            "color": "black",
            "size": 6
           },
           "mode": "lines+markers",
           "name": "saccedes",
           "showlegend": false,
           "x": [
            0.7653397565922921,
            0.4050456389452332
           ],
           "y": [
            0.5893088087368875,
            0.4923121138094554
           ],
           "type": "scatter"
          },
          {
           "line": {
            "color": "green",
            "width": 0.5
           },
           "marker": {
            "color": "black",
            "size": 6
           },
           "mode": "lines+markers",
           "name": "saccedes",
           "showlegend": false,
           "x": [
            0.4050456389452332,
            0.6001521298174443
           ],
           "y": [
            0.4923121138094554,
            0.5032332231642478
           ],
           "type": "scatter"
          },
          {
           "line": {
            "color": "green",
            "width": 0.5
           },
           "marker": {
            "color": "black",
            "size": 6
           },
           "mode": "lines+markers",
           "name": "saccedes",
           "showlegend": false,
           "x": [
            0.6001521298174443,
            0.7365618661257607
           ],
           "y": [
            0.5032332231642478,
            0.511567753987642
           ],
           "type": "scatter"
          }
         ],
         "layout": {
          "xaxis": {
           "automargin": false,
           "range": [
            0.2533215010141988,
            0.9851419878296147
           ]
          },
          "yaxis": {
           "automargin": false,
           "range": [
            0.05964937491018826,
            0.6983618335967812
           ]
          }
         },
         "name": "7"
        },
        {
         "data": [
          {
           "line": {
            "color": "green",
            "width": 0.5
           },
           "marker": {
            "color": "black",
            "size": 6
           },
           "mode": "lines+markers",
           "name": "saccedes",
           "showlegend": false,
           "x": [
            0.3995943204868154,
            0.5300456389452334
           ],
           "y": [
            0.5798246874550942,
            0.5901710015806869
           ],
           "type": "scatter"
          },
          {
           "line": {
            "color": "green",
            "width": 0.5
           },
           "marker": {
            "color": "black",
            "size": 6
           },
           "mode": "lines+markers",
           "name": "saccedes",
           "showlegend": false,
           "x": [
            0.5300456389452334,
            0.5564148073022313
           ],
           "y": [
            0.5901710015806869,
            0.5983618335967812
           ],
           "type": "scatter"
          },
          {
           "line": {
            "color": "green",
            "width": 0.5
           },
           "marker": {
            "color": "black",
            "size": 6
           },
           "mode": "lines+markers",
           "name": "saccedes",
           "showlegend": false,
           "x": [
            0.5564148073022313,
            0.7177991886409737
           ],
           "y": [
            0.5983618335967812,
            0.5893088087368875
           ],
           "type": "scatter"
          },
          {
           "line": {
            "color": "green",
            "width": 0.5
           },
           "marker": {
            "color": "black",
            "size": 6
           },
           "mode": "lines+markers",
           "name": "saccedes",
           "showlegend": false,
           "x": [
            0.7177991886409737,
            0.7653397565922921
           ],
           "y": [
            0.5893088087368875,
            0.5893088087368875
           ],
           "type": "scatter"
          },
          {
           "line": {
            "color": "green",
            "width": 0.5
           },
           "marker": {
            "color": "black",
            "size": 6
           },
           "mode": "lines+markers",
           "name": "saccedes",
           "showlegend": false,
           "x": [
            0.7653397565922921,
            0.4050456389452332
           ],
           "y": [
            0.5893088087368875,
            0.4923121138094554
           ],
           "type": "scatter"
          },
          {
           "line": {
            "color": "green",
            "width": 0.5
           },
           "marker": {
            "color": "black",
            "size": 6
           },
           "mode": "lines+markers",
           "name": "saccedes",
           "showlegend": false,
           "x": [
            0.4050456389452332,
            0.6001521298174443
           ],
           "y": [
            0.4923121138094554,
            0.5032332231642478
           ],
           "type": "scatter"
          },
          {
           "line": {
            "color": "green",
            "width": 0.5
           },
           "marker": {
            "color": "black",
            "size": 6
           },
           "mode": "lines+markers",
           "name": "saccedes",
           "showlegend": false,
           "x": [
            0.6001521298174443,
            0.7365618661257607
           ],
           "y": [
            0.5032332231642478,
            0.511567753987642
           ],
           "type": "scatter"
          },
          {
           "line": {
            "color": "green",
            "width": 0.5
           },
           "marker": {
            "color": "black",
            "size": 6
           },
           "mode": "lines+markers",
           "name": "saccedes",
           "showlegend": false,
           "x": [
            0.7365618661257607,
            0.8851419878296147
           ],
           "y": [
            0.511567753987642,
            0.5035206207788475
           ],
           "type": "scatter"
          }
         ],
         "layout": {
          "xaxis": {
           "automargin": false,
           "range": [
            0.2533215010141988,
            0.9851419878296147
           ]
          },
          "yaxis": {
           "automargin": false,
           "range": [
            0.05964937491018826,
            0.6983618335967812
           ]
          }
         },
         "name": "8"
        },
        {
         "data": [
          {
           "line": {
            "color": "green",
            "width": 0.5
           },
           "marker": {
            "color": "black",
            "size": 6
           },
           "mode": "lines+markers",
           "name": "saccedes",
           "showlegend": false,
           "x": [
            0.3995943204868154,
            0.5300456389452334
           ],
           "y": [
            0.5798246874550942,
            0.5901710015806869
           ],
           "type": "scatter"
          },
          {
           "line": {
            "color": "green",
            "width": 0.5
           },
           "marker": {
            "color": "black",
            "size": 6
           },
           "mode": "lines+markers",
           "name": "saccedes",
           "showlegend": false,
           "x": [
            0.5300456389452334,
            0.5564148073022313
           ],
           "y": [
            0.5901710015806869,
            0.5983618335967812
           ],
           "type": "scatter"
          },
          {
           "line": {
            "color": "green",
            "width": 0.5
           },
           "marker": {
            "color": "black",
            "size": 6
           },
           "mode": "lines+markers",
           "name": "saccedes",
           "showlegend": false,
           "x": [
            0.5564148073022313,
            0.7177991886409737
           ],
           "y": [
            0.5983618335967812,
            0.5893088087368875
           ],
           "type": "scatter"
          },
          {
           "line": {
            "color": "green",
            "width": 0.5
           },
           "marker": {
            "color": "black",
            "size": 6
           },
           "mode": "lines+markers",
           "name": "saccedes",
           "showlegend": false,
           "x": [
            0.7177991886409737,
            0.7653397565922921
           ],
           "y": [
            0.5893088087368875,
            0.5893088087368875
           ],
           "type": "scatter"
          },
          {
           "line": {
            "color": "green",
            "width": 0.5
           },
           "marker": {
            "color": "black",
            "size": 6
           },
           "mode": "lines+markers",
           "name": "saccedes",
           "showlegend": false,
           "x": [
            0.7653397565922921,
            0.4050456389452332
           ],
           "y": [
            0.5893088087368875,
            0.4923121138094554
           ],
           "type": "scatter"
          },
          {
           "line": {
            "color": "green",
            "width": 0.5
           },
           "marker": {
            "color": "black",
            "size": 6
           },
           "mode": "lines+markers",
           "name": "saccedes",
           "showlegend": false,
           "x": [
            0.4050456389452332,
            0.6001521298174443
           ],
           "y": [
            0.4923121138094554,
            0.5032332231642478
           ],
           "type": "scatter"
          },
          {
           "line": {
            "color": "green",
            "width": 0.5
           },
           "marker": {
            "color": "black",
            "size": 6
           },
           "mode": "lines+markers",
           "name": "saccedes",
           "showlegend": false,
           "x": [
            0.6001521298174443,
            0.7365618661257607
           ],
           "y": [
            0.5032332231642478,
            0.511567753987642
           ],
           "type": "scatter"
          },
          {
           "line": {
            "color": "green",
            "width": 0.5
           },
           "marker": {
            "color": "black",
            "size": 6
           },
           "mode": "lines+markers",
           "name": "saccedes",
           "showlegend": false,
           "x": [
            0.7365618661257607,
            0.8851419878296147
           ],
           "y": [
            0.511567753987642,
            0.5035206207788475
           ],
           "type": "scatter"
          },
          {
           "line": {
            "color": "green",
            "width": 0.5
           },
           "marker": {
            "color": "black",
            "size": 6
           },
           "mode": "lines+markers",
           "name": "saccedes",
           "showlegend": false,
           "x": [
            0.8851419878296147,
            0.414553752535497
           ],
           "y": [
            0.5035206207788475,
            0.4000574795229199
           ],
           "type": "scatter"
          }
         ],
         "layout": {
          "xaxis": {
           "automargin": false,
           "range": [
            0.2533215010141988,
            0.9851419878296147
           ]
          },
          "yaxis": {
           "automargin": false,
           "range": [
            0.05964937491018826,
            0.6983618335967812
           ]
          }
         },
         "name": "9"
        },
        {
         "data": [
          {
           "line": {
            "color": "green",
            "width": 0.5
           },
           "marker": {
            "color": "black",
            "size": 6
           },
           "mode": "lines+markers",
           "name": "saccedes",
           "showlegend": false,
           "x": [
            0.3995943204868154,
            0.5300456389452334
           ],
           "y": [
            0.5798246874550942,
            0.5901710015806869
           ],
           "type": "scatter"
          },
          {
           "line": {
            "color": "green",
            "width": 0.5
           },
           "marker": {
            "color": "black",
            "size": 6
           },
           "mode": "lines+markers",
           "name": "saccedes",
           "showlegend": false,
           "x": [
            0.5300456389452334,
            0.5564148073022313
           ],
           "y": [
            0.5901710015806869,
            0.5983618335967812
           ],
           "type": "scatter"
          },
          {
           "line": {
            "color": "green",
            "width": 0.5
           },
           "marker": {
            "color": "black",
            "size": 6
           },
           "mode": "lines+markers",
           "name": "saccedes",
           "showlegend": false,
           "x": [
            0.5564148073022313,
            0.7177991886409737
           ],
           "y": [
            0.5983618335967812,
            0.5893088087368875
           ],
           "type": "scatter"
          },
          {
           "line": {
            "color": "green",
            "width": 0.5
           },
           "marker": {
            "color": "black",
            "size": 6
           },
           "mode": "lines+markers",
           "name": "saccedes",
           "showlegend": false,
           "x": [
            0.7177991886409737,
            0.7653397565922921
           ],
           "y": [
            0.5893088087368875,
            0.5893088087368875
           ],
           "type": "scatter"
          },
          {
           "line": {
            "color": "green",
            "width": 0.5
           },
           "marker": {
            "color": "black",
            "size": 6
           },
           "mode": "lines+markers",
           "name": "saccedes",
           "showlegend": false,
           "x": [
            0.7653397565922921,
            0.4050456389452332
           ],
           "y": [
            0.5893088087368875,
            0.4923121138094554
           ],
           "type": "scatter"
          },
          {
           "line": {
            "color": "green",
            "width": 0.5
           },
           "marker": {
            "color": "black",
            "size": 6
           },
           "mode": "lines+markers",
           "name": "saccedes",
           "showlegend": false,
           "x": [
            0.4050456389452332,
            0.6001521298174443
           ],
           "y": [
            0.4923121138094554,
            0.5032332231642478
           ],
           "type": "scatter"
          },
          {
           "line": {
            "color": "green",
            "width": 0.5
           },
           "marker": {
            "color": "black",
            "size": 6
           },
           "mode": "lines+markers",
           "name": "saccedes",
           "showlegend": false,
           "x": [
            0.6001521298174443,
            0.7365618661257607
           ],
           "y": [
            0.5032332231642478,
            0.511567753987642
           ],
           "type": "scatter"
          },
          {
           "line": {
            "color": "green",
            "width": 0.5
           },
           "marker": {
            "color": "black",
            "size": 6
           },
           "mode": "lines+markers",
           "name": "saccedes",
           "showlegend": false,
           "x": [
            0.7365618661257607,
            0.8851419878296147
           ],
           "y": [
            0.511567753987642,
            0.5035206207788475
           ],
           "type": "scatter"
          },
          {
           "line": {
            "color": "green",
            "width": 0.5
           },
           "marker": {
            "color": "black",
            "size": 6
           },
           "mode": "lines+markers",
           "name": "saccedes",
           "showlegend": false,
           "x": [
            0.8851419878296147,
            0.414553752535497
           ],
           "y": [
            0.5035206207788475,
            0.4000574795229199
           ],
           "type": "scatter"
          },
          {
           "line": {
            "color": "green",
            "width": 0.5
           },
           "marker": {
            "color": "black",
            "size": 6
           },
           "mode": "lines+markers",
           "name": "saccedes",
           "showlegend": false,
           "x": [
            0.414553752535497,
            0.6257606490872212
           ],
           "y": [
            0.4000574795229199,
            0.4151458542894094
           ],
           "type": "scatter"
          }
         ],
         "layout": {
          "xaxis": {
           "automargin": false,
           "range": [
            0.2533215010141988,
            0.9851419878296147
           ]
          },
          "yaxis": {
           "automargin": false,
           "range": [
            0.05964937491018826,
            0.6983618335967812
           ]
          }
         },
         "name": "10"
        },
        {
         "data": [
          {
           "line": {
            "color": "green",
            "width": 0.5
           },
           "marker": {
            "color": "black",
            "size": 6
           },
           "mode": "lines+markers",
           "name": "saccedes",
           "showlegend": false,
           "x": [
            0.3995943204868154,
            0.5300456389452334
           ],
           "y": [
            0.5798246874550942,
            0.5901710015806869
           ],
           "type": "scatter"
          },
          {
           "line": {
            "color": "green",
            "width": 0.5
           },
           "marker": {
            "color": "black",
            "size": 6
           },
           "mode": "lines+markers",
           "name": "saccedes",
           "showlegend": false,
           "x": [
            0.5300456389452334,
            0.5564148073022313
           ],
           "y": [
            0.5901710015806869,
            0.5983618335967812
           ],
           "type": "scatter"
          },
          {
           "line": {
            "color": "green",
            "width": 0.5
           },
           "marker": {
            "color": "black",
            "size": 6
           },
           "mode": "lines+markers",
           "name": "saccedes",
           "showlegend": false,
           "x": [
            0.5564148073022313,
            0.7177991886409737
           ],
           "y": [
            0.5983618335967812,
            0.5893088087368875
           ],
           "type": "scatter"
          },
          {
           "line": {
            "color": "green",
            "width": 0.5
           },
           "marker": {
            "color": "black",
            "size": 6
           },
           "mode": "lines+markers",
           "name": "saccedes",
           "showlegend": false,
           "x": [
            0.7177991886409737,
            0.7653397565922921
           ],
           "y": [
            0.5893088087368875,
            0.5893088087368875
           ],
           "type": "scatter"
          },
          {
           "line": {
            "color": "green",
            "width": 0.5
           },
           "marker": {
            "color": "black",
            "size": 6
           },
           "mode": "lines+markers",
           "name": "saccedes",
           "showlegend": false,
           "x": [
            0.7653397565922921,
            0.4050456389452332
           ],
           "y": [
            0.5893088087368875,
            0.4923121138094554
           ],
           "type": "scatter"
          },
          {
           "line": {
            "color": "green",
            "width": 0.5
           },
           "marker": {
            "color": "black",
            "size": 6
           },
           "mode": "lines+markers",
           "name": "saccedes",
           "showlegend": false,
           "x": [
            0.4050456389452332,
            0.6001521298174443
           ],
           "y": [
            0.4923121138094554,
            0.5032332231642478
           ],
           "type": "scatter"
          },
          {
           "line": {
            "color": "green",
            "width": 0.5
           },
           "marker": {
            "color": "black",
            "size": 6
           },
           "mode": "lines+markers",
           "name": "saccedes",
           "showlegend": false,
           "x": [
            0.6001521298174443,
            0.7365618661257607
           ],
           "y": [
            0.5032332231642478,
            0.511567753987642
           ],
           "type": "scatter"
          },
          {
           "line": {
            "color": "green",
            "width": 0.5
           },
           "marker": {
            "color": "black",
            "size": 6
           },
           "mode": "lines+markers",
           "name": "saccedes",
           "showlegend": false,
           "x": [
            0.7365618661257607,
            0.8851419878296147
           ],
           "y": [
            0.511567753987642,
            0.5035206207788475
           ],
           "type": "scatter"
          },
          {
           "line": {
            "color": "green",
            "width": 0.5
           },
           "marker": {
            "color": "black",
            "size": 6
           },
           "mode": "lines+markers",
           "name": "saccedes",
           "showlegend": false,
           "x": [
            0.8851419878296147,
            0.414553752535497
           ],
           "y": [
            0.5035206207788475,
            0.4000574795229199
           ],
           "type": "scatter"
          },
          {
           "line": {
            "color": "green",
            "width": 0.5
           },
           "marker": {
            "color": "black",
            "size": 6
           },
           "mode": "lines+markers",
           "name": "saccedes",
           "showlegend": false,
           "x": [
            0.414553752535497,
            0.6257606490872212
           ],
           "y": [
            0.4000574795229199,
            0.4151458542894094
           ],
           "type": "scatter"
          },
          {
           "line": {
            "color": "green",
            "width": 0.5
           },
           "marker": {
            "color": "black",
            "size": 6
           },
           "mode": "lines+markers",
           "name": "saccedes",
           "showlegend": false,
           "x": [
            0.6257606490872212,
            0.7818204868154159
           ],
           "y": [
            0.4151458542894094,
            0.42621066245150163
           ],
           "type": "scatter"
          }
         ],
         "layout": {
          "xaxis": {
           "automargin": false,
           "range": [
            0.2533215010141988,
            0.9851419878296147
           ]
          },
          "yaxis": {
           "automargin": false,
           "range": [
            0.05964937491018826,
            0.6983618335967812
           ]
          }
         },
         "name": "11"
        },
        {
         "data": [
          {
           "line": {
            "color": "green",
            "width": 0.5
           },
           "marker": {
            "color": "black",
            "size": 6
           },
           "mode": "lines+markers",
           "name": "saccedes",
           "showlegend": false,
           "x": [
            0.3995943204868154,
            0.5300456389452334
           ],
           "y": [
            0.5798246874550942,
            0.5901710015806869
           ],
           "type": "scatter"
          },
          {
           "line": {
            "color": "green",
            "width": 0.5
           },
           "marker": {
            "color": "black",
            "size": 6
           },
           "mode": "lines+markers",
           "name": "saccedes",
           "showlegend": false,
           "x": [
            0.5300456389452334,
            0.5564148073022313
           ],
           "y": [
            0.5901710015806869,
            0.5983618335967812
           ],
           "type": "scatter"
          },
          {
           "line": {
            "color": "green",
            "width": 0.5
           },
           "marker": {
            "color": "black",
            "size": 6
           },
           "mode": "lines+markers",
           "name": "saccedes",
           "showlegend": false,
           "x": [
            0.5564148073022313,
            0.7177991886409737
           ],
           "y": [
            0.5983618335967812,
            0.5893088087368875
           ],
           "type": "scatter"
          },
          {
           "line": {
            "color": "green",
            "width": 0.5
           },
           "marker": {
            "color": "black",
            "size": 6
           },
           "mode": "lines+markers",
           "name": "saccedes",
           "showlegend": false,
           "x": [
            0.7177991886409737,
            0.7653397565922921
           ],
           "y": [
            0.5893088087368875,
            0.5893088087368875
           ],
           "type": "scatter"
          },
          {
           "line": {
            "color": "green",
            "width": 0.5
           },
           "marker": {
            "color": "black",
            "size": 6
           },
           "mode": "lines+markers",
           "name": "saccedes",
           "showlegend": false,
           "x": [
            0.7653397565922921,
            0.4050456389452332
           ],
           "y": [
            0.5893088087368875,
            0.4923121138094554
           ],
           "type": "scatter"
          },
          {
           "line": {
            "color": "green",
            "width": 0.5
           },
           "marker": {
            "color": "black",
            "size": 6
           },
           "mode": "lines+markers",
           "name": "saccedes",
           "showlegend": false,
           "x": [
            0.4050456389452332,
            0.6001521298174443
           ],
           "y": [
            0.4923121138094554,
            0.5032332231642478
           ],
           "type": "scatter"
          },
          {
           "line": {
            "color": "green",
            "width": 0.5
           },
           "marker": {
            "color": "black",
            "size": 6
           },
           "mode": "lines+markers",
           "name": "saccedes",
           "showlegend": false,
           "x": [
            0.6001521298174443,
            0.7365618661257607
           ],
           "y": [
            0.5032332231642478,
            0.511567753987642
           ],
           "type": "scatter"
          },
          {
           "line": {
            "color": "green",
            "width": 0.5
           },
           "marker": {
            "color": "black",
            "size": 6
           },
           "mode": "lines+markers",
           "name": "saccedes",
           "showlegend": false,
           "x": [
            0.7365618661257607,
            0.8851419878296147
           ],
           "y": [
            0.511567753987642,
            0.5035206207788475
           ],
           "type": "scatter"
          },
          {
           "line": {
            "color": "green",
            "width": 0.5
           },
           "marker": {
            "color": "black",
            "size": 6
           },
           "mode": "lines+markers",
           "name": "saccedes",
           "showlegend": false,
           "x": [
            0.8851419878296147,
            0.414553752535497
           ],
           "y": [
            0.5035206207788475,
            0.4000574795229199
           ],
           "type": "scatter"
          },
          {
           "line": {
            "color": "green",
            "width": 0.5
           },
           "marker": {
            "color": "black",
            "size": 6
           },
           "mode": "lines+markers",
           "name": "saccedes",
           "showlegend": false,
           "x": [
            0.414553752535497,
            0.6257606490872212
           ],
           "y": [
            0.4000574795229199,
            0.4151458542894094
           ],
           "type": "scatter"
          },
          {
           "line": {
            "color": "green",
            "width": 0.5
           },
           "marker": {
            "color": "black",
            "size": 6
           },
           "mode": "lines+markers",
           "name": "saccedes",
           "showlegend": false,
           "x": [
            0.6257606490872212,
            0.7818204868154159
           ],
           "y": [
            0.4151458542894094,
            0.42621066245150163
           ],
           "type": "scatter"
          },
          {
           "line": {
            "color": "green",
            "width": 0.5
           },
           "marker": {
            "color": "black",
            "size": 6
           },
           "mode": "lines+markers",
           "name": "saccedes",
           "showlegend": false,
           "x": [
            0.7818204868154159,
            0.3913539553752536
           ],
           "y": [
            0.42621066245150163,
            0.3292139675240695
           ],
           "type": "scatter"
          }
         ],
         "layout": {
          "xaxis": {
           "automargin": false,
           "range": [
            0.2533215010141988,
            0.9851419878296147
           ]
          },
          "yaxis": {
           "automargin": false,
           "range": [
            0.05964937491018826,
            0.6983618335967812
           ]
          }
         },
         "name": "12"
        },
        {
         "data": [
          {
           "line": {
            "color": "green",
            "width": 0.5
           },
           "marker": {
            "color": "black",
            "size": 6
           },
           "mode": "lines+markers",
           "name": "saccedes",
           "showlegend": false,
           "x": [
            0.3995943204868154,
            0.5300456389452334
           ],
           "y": [
            0.5798246874550942,
            0.5901710015806869
           ],
           "type": "scatter"
          },
          {
           "line": {
            "color": "green",
            "width": 0.5
           },
           "marker": {
            "color": "black",
            "size": 6
           },
           "mode": "lines+markers",
           "name": "saccedes",
           "showlegend": false,
           "x": [
            0.5300456389452334,
            0.5564148073022313
           ],
           "y": [
            0.5901710015806869,
            0.5983618335967812
           ],
           "type": "scatter"
          },
          {
           "line": {
            "color": "green",
            "width": 0.5
           },
           "marker": {
            "color": "black",
            "size": 6
           },
           "mode": "lines+markers",
           "name": "saccedes",
           "showlegend": false,
           "x": [
            0.5564148073022313,
            0.7177991886409737
           ],
           "y": [
            0.5983618335967812,
            0.5893088087368875
           ],
           "type": "scatter"
          },
          {
           "line": {
            "color": "green",
            "width": 0.5
           },
           "marker": {
            "color": "black",
            "size": 6
           },
           "mode": "lines+markers",
           "name": "saccedes",
           "showlegend": false,
           "x": [
            0.7177991886409737,
            0.7653397565922921
           ],
           "y": [
            0.5893088087368875,
            0.5893088087368875
           ],
           "type": "scatter"
          },
          {
           "line": {
            "color": "green",
            "width": 0.5
           },
           "marker": {
            "color": "black",
            "size": 6
           },
           "mode": "lines+markers",
           "name": "saccedes",
           "showlegend": false,
           "x": [
            0.7653397565922921,
            0.4050456389452332
           ],
           "y": [
            0.5893088087368875,
            0.4923121138094554
           ],
           "type": "scatter"
          },
          {
           "line": {
            "color": "green",
            "width": 0.5
           },
           "marker": {
            "color": "black",
            "size": 6
           },
           "mode": "lines+markers",
           "name": "saccedes",
           "showlegend": false,
           "x": [
            0.4050456389452332,
            0.6001521298174443
           ],
           "y": [
            0.4923121138094554,
            0.5032332231642478
           ],
           "type": "scatter"
          },
          {
           "line": {
            "color": "green",
            "width": 0.5
           },
           "marker": {
            "color": "black",
            "size": 6
           },
           "mode": "lines+markers",
           "name": "saccedes",
           "showlegend": false,
           "x": [
            0.6001521298174443,
            0.7365618661257607
           ],
           "y": [
            0.5032332231642478,
            0.511567753987642
           ],
           "type": "scatter"
          },
          {
           "line": {
            "color": "green",
            "width": 0.5
           },
           "marker": {
            "color": "black",
            "size": 6
           },
           "mode": "lines+markers",
           "name": "saccedes",
           "showlegend": false,
           "x": [
            0.7365618661257607,
            0.8851419878296147
           ],
           "y": [
            0.511567753987642,
            0.5035206207788475
           ],
           "type": "scatter"
          },
          {
           "line": {
            "color": "green",
            "width": 0.5
           },
           "marker": {
            "color": "black",
            "size": 6
           },
           "mode": "lines+markers",
           "name": "saccedes",
           "showlegend": false,
           "x": [
            0.8851419878296147,
            0.414553752535497
           ],
           "y": [
            0.5035206207788475,
            0.4000574795229199
           ],
           "type": "scatter"
          },
          {
           "line": {
            "color": "green",
            "width": 0.5
           },
           "marker": {
            "color": "black",
            "size": 6
           },
           "mode": "lines+markers",
           "name": "saccedes",
           "showlegend": false,
           "x": [
            0.414553752535497,
            0.6257606490872212
           ],
           "y": [
            0.4000574795229199,
            0.4151458542894094
           ],
           "type": "scatter"
          },
          {
           "line": {
            "color": "green",
            "width": 0.5
           },
           "marker": {
            "color": "black",
            "size": 6
           },
           "mode": "lines+markers",
           "name": "saccedes",
           "showlegend": false,
           "x": [
            0.6257606490872212,
            0.7818204868154159
           ],
           "y": [
            0.4151458542894094,
            0.42621066245150163
           ],
           "type": "scatter"
          },
          {
           "line": {
            "color": "green",
            "width": 0.5
           },
           "marker": {
            "color": "black",
            "size": 6
           },
           "mode": "lines+markers",
           "name": "saccedes",
           "showlegend": false,
           "x": [
            0.7818204868154159,
            0.3913539553752536
           ],
           "y": [
            0.42621066245150163,
            0.3292139675240695
           ],
           "type": "scatter"
          },
          {
           "line": {
            "color": "red",
            "width": 0.5
           },
           "marker": {
            "color": "black",
            "size": 6
           },
           "mode": "lines+markers",
           "name": "regression",
           "showlegend": false,
           "x": [
            0.3913539553752536,
            0.353448275862069
           ],
           "y": [
            0.3292139675240695,
            0.32950136513866934
           ],
           "type": "scatter"
          }
         ],
         "layout": {
          "xaxis": {
           "automargin": false,
           "range": [
            0.2533215010141988,
            0.9851419878296147
           ]
          },
          "yaxis": {
           "automargin": false,
           "range": [
            0.05964937491018826,
            0.6983618335967812
           ]
          }
         },
         "name": "13"
        },
        {
         "data": [
          {
           "line": {
            "color": "green",
            "width": 0.5
           },
           "marker": {
            "color": "black",
            "size": 6
           },
           "mode": "lines+markers",
           "name": "saccedes",
           "showlegend": false,
           "x": [
            0.3995943204868154,
            0.5300456389452334
           ],
           "y": [
            0.5798246874550942,
            0.5901710015806869
           ],
           "type": "scatter"
          },
          {
           "line": {
            "color": "green",
            "width": 0.5
           },
           "marker": {
            "color": "black",
            "size": 6
           },
           "mode": "lines+markers",
           "name": "saccedes",
           "showlegend": false,
           "x": [
            0.5300456389452334,
            0.5564148073022313
           ],
           "y": [
            0.5901710015806869,
            0.5983618335967812
           ],
           "type": "scatter"
          },
          {
           "line": {
            "color": "green",
            "width": 0.5
           },
           "marker": {
            "color": "black",
            "size": 6
           },
           "mode": "lines+markers",
           "name": "saccedes",
           "showlegend": false,
           "x": [
            0.5564148073022313,
            0.7177991886409737
           ],
           "y": [
            0.5983618335967812,
            0.5893088087368875
           ],
           "type": "scatter"
          },
          {
           "line": {
            "color": "green",
            "width": 0.5
           },
           "marker": {
            "color": "black",
            "size": 6
           },
           "mode": "lines+markers",
           "name": "saccedes",
           "showlegend": false,
           "x": [
            0.7177991886409737,
            0.7653397565922921
           ],
           "y": [
            0.5893088087368875,
            0.5893088087368875
           ],
           "type": "scatter"
          },
          {
           "line": {
            "color": "green",
            "width": 0.5
           },
           "marker": {
            "color": "black",
            "size": 6
           },
           "mode": "lines+markers",
           "name": "saccedes",
           "showlegend": false,
           "x": [
            0.7653397565922921,
            0.4050456389452332
           ],
           "y": [
            0.5893088087368875,
            0.4923121138094554
           ],
           "type": "scatter"
          },
          {
           "line": {
            "color": "green",
            "width": 0.5
           },
           "marker": {
            "color": "black",
            "size": 6
           },
           "mode": "lines+markers",
           "name": "saccedes",
           "showlegend": false,
           "x": [
            0.4050456389452332,
            0.6001521298174443
           ],
           "y": [
            0.4923121138094554,
            0.5032332231642478
           ],
           "type": "scatter"
          },
          {
           "line": {
            "color": "green",
            "width": 0.5
           },
           "marker": {
            "color": "black",
            "size": 6
           },
           "mode": "lines+markers",
           "name": "saccedes",
           "showlegend": false,
           "x": [
            0.6001521298174443,
            0.7365618661257607
           ],
           "y": [
            0.5032332231642478,
            0.511567753987642
           ],
           "type": "scatter"
          },
          {
           "line": {
            "color": "green",
            "width": 0.5
           },
           "marker": {
            "color": "black",
            "size": 6
           },
           "mode": "lines+markers",
           "name": "saccedes",
           "showlegend": false,
           "x": [
            0.7365618661257607,
            0.8851419878296147
           ],
           "y": [
            0.511567753987642,
            0.5035206207788475
           ],
           "type": "scatter"
          },
          {
           "line": {
            "color": "green",
            "width": 0.5
           },
           "marker": {
            "color": "black",
            "size": 6
           },
           "mode": "lines+markers",
           "name": "saccedes",
           "showlegend": false,
           "x": [
            0.8851419878296147,
            0.414553752535497
           ],
           "y": [
            0.5035206207788475,
            0.4000574795229199
           ],
           "type": "scatter"
          },
          {
           "line": {
            "color": "green",
            "width": 0.5
           },
           "marker": {
            "color": "black",
            "size": 6
           },
           "mode": "lines+markers",
           "name": "saccedes",
           "showlegend": false,
           "x": [
            0.414553752535497,
            0.6257606490872212
           ],
           "y": [
            0.4000574795229199,
            0.4151458542894094
           ],
           "type": "scatter"
          },
          {
           "line": {
            "color": "green",
            "width": 0.5
           },
           "marker": {
            "color": "black",
            "size": 6
           },
           "mode": "lines+markers",
           "name": "saccedes",
           "showlegend": false,
           "x": [
            0.6257606490872212,
            0.7818204868154159
           ],
           "y": [
            0.4151458542894094,
            0.42621066245150163
           ],
           "type": "scatter"
          },
          {
           "line": {
            "color": "green",
            "width": 0.5
           },
           "marker": {
            "color": "black",
            "size": 6
           },
           "mode": "lines+markers",
           "name": "saccedes",
           "showlegend": false,
           "x": [
            0.7818204868154159,
            0.3913539553752536
           ],
           "y": [
            0.42621066245150163,
            0.3292139675240695
           ],
           "type": "scatter"
          },
          {
           "line": {
            "color": "red",
            "width": 0.5
           },
           "marker": {
            "color": "black",
            "size": 6
           },
           "mode": "lines+markers",
           "name": "regression",
           "showlegend": false,
           "x": [
            0.3913539553752536,
            0.353448275862069
           ],
           "y": [
            0.3292139675240695,
            0.32950136513866934
           ],
           "type": "scatter"
          },
          {
           "line": {
            "color": "green",
            "width": 0.5
           },
           "marker": {
            "color": "black",
            "size": 6
           },
           "mode": "lines+markers",
           "name": "saccedes",
           "showlegend": false,
           "x": [
            0.353448275862069,
            0.5998985801217038
           ],
           "y": [
            0.32950136513866934,
            0.31958614743497626
           ],
           "type": "scatter"
          }
         ],
         "layout": {
          "xaxis": {
           "automargin": false,
           "range": [
            0.2533215010141988,
            0.9851419878296147
           ]
          },
          "yaxis": {
           "automargin": false,
           "range": [
            0.05964937491018826,
            0.6983618335967812
           ]
          }
         },
         "name": "14"
        },
        {
         "data": [
          {
           "line": {
            "color": "green",
            "width": 0.5
           },
           "marker": {
            "color": "black",
            "size": 6
           },
           "mode": "lines+markers",
           "name": "saccedes",
           "showlegend": false,
           "x": [
            0.3995943204868154,
            0.5300456389452334
           ],
           "y": [
            0.5798246874550942,
            0.5901710015806869
           ],
           "type": "scatter"
          },
          {
           "line": {
            "color": "green",
            "width": 0.5
           },
           "marker": {
            "color": "black",
            "size": 6
           },
           "mode": "lines+markers",
           "name": "saccedes",
           "showlegend": false,
           "x": [
            0.5300456389452334,
            0.5564148073022313
           ],
           "y": [
            0.5901710015806869,
            0.5983618335967812
           ],
           "type": "scatter"
          },
          {
           "line": {
            "color": "green",
            "width": 0.5
           },
           "marker": {
            "color": "black",
            "size": 6
           },
           "mode": "lines+markers",
           "name": "saccedes",
           "showlegend": false,
           "x": [
            0.5564148073022313,
            0.7177991886409737
           ],
           "y": [
            0.5983618335967812,
            0.5893088087368875
           ],
           "type": "scatter"
          },
          {
           "line": {
            "color": "green",
            "width": 0.5
           },
           "marker": {
            "color": "black",
            "size": 6
           },
           "mode": "lines+markers",
           "name": "saccedes",
           "showlegend": false,
           "x": [
            0.7177991886409737,
            0.7653397565922921
           ],
           "y": [
            0.5893088087368875,
            0.5893088087368875
           ],
           "type": "scatter"
          },
          {
           "line": {
            "color": "green",
            "width": 0.5
           },
           "marker": {
            "color": "black",
            "size": 6
           },
           "mode": "lines+markers",
           "name": "saccedes",
           "showlegend": false,
           "x": [
            0.7653397565922921,
            0.4050456389452332
           ],
           "y": [
            0.5893088087368875,
            0.4923121138094554
           ],
           "type": "scatter"
          },
          {
           "line": {
            "color": "green",
            "width": 0.5
           },
           "marker": {
            "color": "black",
            "size": 6
           },
           "mode": "lines+markers",
           "name": "saccedes",
           "showlegend": false,
           "x": [
            0.4050456389452332,
            0.6001521298174443
           ],
           "y": [
            0.4923121138094554,
            0.5032332231642478
           ],
           "type": "scatter"
          },
          {
           "line": {
            "color": "green",
            "width": 0.5
           },
           "marker": {
            "color": "black",
            "size": 6
           },
           "mode": "lines+markers",
           "name": "saccedes",
           "showlegend": false,
           "x": [
            0.6001521298174443,
            0.7365618661257607
           ],
           "y": [
            0.5032332231642478,
            0.511567753987642
           ],
           "type": "scatter"
          },
          {
           "line": {
            "color": "green",
            "width": 0.5
           },
           "marker": {
            "color": "black",
            "size": 6
           },
           "mode": "lines+markers",
           "name": "saccedes",
           "showlegend": false,
           "x": [
            0.7365618661257607,
            0.8851419878296147
           ],
           "y": [
            0.511567753987642,
            0.5035206207788475
           ],
           "type": "scatter"
          },
          {
           "line": {
            "color": "green",
            "width": 0.5
           },
           "marker": {
            "color": "black",
            "size": 6
           },
           "mode": "lines+markers",
           "name": "saccedes",
           "showlegend": false,
           "x": [
            0.8851419878296147,
            0.414553752535497
           ],
           "y": [
            0.5035206207788475,
            0.4000574795229199
           ],
           "type": "scatter"
          },
          {
           "line": {
            "color": "green",
            "width": 0.5
           },
           "marker": {
            "color": "black",
            "size": 6
           },
           "mode": "lines+markers",
           "name": "saccedes",
           "showlegend": false,
           "x": [
            0.414553752535497,
            0.6257606490872212
           ],
           "y": [
            0.4000574795229199,
            0.4151458542894094
           ],
           "type": "scatter"
          },
          {
           "line": {
            "color": "green",
            "width": 0.5
           },
           "marker": {
            "color": "black",
            "size": 6
           },
           "mode": "lines+markers",
           "name": "saccedes",
           "showlegend": false,
           "x": [
            0.6257606490872212,
            0.7818204868154159
           ],
           "y": [
            0.4151458542894094,
            0.42621066245150163
           ],
           "type": "scatter"
          },
          {
           "line": {
            "color": "green",
            "width": 0.5
           },
           "marker": {
            "color": "black",
            "size": 6
           },
           "mode": "lines+markers",
           "name": "saccedes",
           "showlegend": false,
           "x": [
            0.7818204868154159,
            0.3913539553752536
           ],
           "y": [
            0.42621066245150163,
            0.3292139675240695
           ],
           "type": "scatter"
          },
          {
           "line": {
            "color": "red",
            "width": 0.5
           },
           "marker": {
            "color": "black",
            "size": 6
           },
           "mode": "lines+markers",
           "name": "regression",
           "showlegend": false,
           "x": [
            0.3913539553752536,
            0.353448275862069
           ],
           "y": [
            0.3292139675240695,
            0.32950136513866934
           ],
           "type": "scatter"
          },
          {
           "line": {
            "color": "green",
            "width": 0.5
           },
           "marker": {
            "color": "black",
            "size": 6
           },
           "mode": "lines+markers",
           "name": "saccedes",
           "showlegend": false,
           "x": [
            0.353448275862069,
            0.5998985801217038
           ],
           "y": [
            0.32950136513866934,
            0.31958614743497626
           ],
           "type": "scatter"
          },
          {
           "line": {
            "color": "green",
            "width": 0.5
           },
           "marker": {
            "color": "black",
            "size": 6
           },
           "mode": "lines+markers",
           "name": "saccedes",
           "showlegend": false,
           "x": [
            0.5998985801217038,
            0.6905425963488845
           ],
           "y": [
            0.31958614743497626,
            0.3267710877999712
           ],
           "type": "scatter"
          }
         ],
         "layout": {
          "xaxis": {
           "automargin": false,
           "range": [
            0.2533215010141988,
            0.9851419878296147
           ]
          },
          "yaxis": {
           "automargin": false,
           "range": [
            0.05964937491018826,
            0.6983618335967812
           ]
          }
         },
         "name": "15"
        },
        {
         "data": [
          {
           "line": {
            "color": "green",
            "width": 0.5
           },
           "marker": {
            "color": "black",
            "size": 6
           },
           "mode": "lines+markers",
           "name": "saccedes",
           "showlegend": false,
           "x": [
            0.3995943204868154,
            0.5300456389452334
           ],
           "y": [
            0.5798246874550942,
            0.5901710015806869
           ],
           "type": "scatter"
          },
          {
           "line": {
            "color": "green",
            "width": 0.5
           },
           "marker": {
            "color": "black",
            "size": 6
           },
           "mode": "lines+markers",
           "name": "saccedes",
           "showlegend": false,
           "x": [
            0.5300456389452334,
            0.5564148073022313
           ],
           "y": [
            0.5901710015806869,
            0.5983618335967812
           ],
           "type": "scatter"
          },
          {
           "line": {
            "color": "green",
            "width": 0.5
           },
           "marker": {
            "color": "black",
            "size": 6
           },
           "mode": "lines+markers",
           "name": "saccedes",
           "showlegend": false,
           "x": [
            0.5564148073022313,
            0.7177991886409737
           ],
           "y": [
            0.5983618335967812,
            0.5893088087368875
           ],
           "type": "scatter"
          },
          {
           "line": {
            "color": "green",
            "width": 0.5
           },
           "marker": {
            "color": "black",
            "size": 6
           },
           "mode": "lines+markers",
           "name": "saccedes",
           "showlegend": false,
           "x": [
            0.7177991886409737,
            0.7653397565922921
           ],
           "y": [
            0.5893088087368875,
            0.5893088087368875
           ],
           "type": "scatter"
          },
          {
           "line": {
            "color": "green",
            "width": 0.5
           },
           "marker": {
            "color": "black",
            "size": 6
           },
           "mode": "lines+markers",
           "name": "saccedes",
           "showlegend": false,
           "x": [
            0.7653397565922921,
            0.4050456389452332
           ],
           "y": [
            0.5893088087368875,
            0.4923121138094554
           ],
           "type": "scatter"
          },
          {
           "line": {
            "color": "green",
            "width": 0.5
           },
           "marker": {
            "color": "black",
            "size": 6
           },
           "mode": "lines+markers",
           "name": "saccedes",
           "showlegend": false,
           "x": [
            0.4050456389452332,
            0.6001521298174443
           ],
           "y": [
            0.4923121138094554,
            0.5032332231642478
           ],
           "type": "scatter"
          },
          {
           "line": {
            "color": "green",
            "width": 0.5
           },
           "marker": {
            "color": "black",
            "size": 6
           },
           "mode": "lines+markers",
           "name": "saccedes",
           "showlegend": false,
           "x": [
            0.6001521298174443,
            0.7365618661257607
           ],
           "y": [
            0.5032332231642478,
            0.511567753987642
           ],
           "type": "scatter"
          },
          {
           "line": {
            "color": "green",
            "width": 0.5
           },
           "marker": {
            "color": "black",
            "size": 6
           },
           "mode": "lines+markers",
           "name": "saccedes",
           "showlegend": false,
           "x": [
            0.7365618661257607,
            0.8851419878296147
           ],
           "y": [
            0.511567753987642,
            0.5035206207788475
           ],
           "type": "scatter"
          },
          {
           "line": {
            "color": "green",
            "width": 0.5
           },
           "marker": {
            "color": "black",
            "size": 6
           },
           "mode": "lines+markers",
           "name": "saccedes",
           "showlegend": false,
           "x": [
            0.8851419878296147,
            0.414553752535497
           ],
           "y": [
            0.5035206207788475,
            0.4000574795229199
           ],
           "type": "scatter"
          },
          {
           "line": {
            "color": "green",
            "width": 0.5
           },
           "marker": {
            "color": "black",
            "size": 6
           },
           "mode": "lines+markers",
           "name": "saccedes",
           "showlegend": false,
           "x": [
            0.414553752535497,
            0.6257606490872212
           ],
           "y": [
            0.4000574795229199,
            0.4151458542894094
           ],
           "type": "scatter"
          },
          {
           "line": {
            "color": "green",
            "width": 0.5
           },
           "marker": {
            "color": "black",
            "size": 6
           },
           "mode": "lines+markers",
           "name": "saccedes",
           "showlegend": false,
           "x": [
            0.6257606490872212,
            0.7818204868154159
           ],
           "y": [
            0.4151458542894094,
            0.42621066245150163
           ],
           "type": "scatter"
          },
          {
           "line": {
            "color": "green",
            "width": 0.5
           },
           "marker": {
            "color": "black",
            "size": 6
           },
           "mode": "lines+markers",
           "name": "saccedes",
           "showlegend": false,
           "x": [
            0.7818204868154159,
            0.3913539553752536
           ],
           "y": [
            0.42621066245150163,
            0.3292139675240695
           ],
           "type": "scatter"
          },
          {
           "line": {
            "color": "red",
            "width": 0.5
           },
           "marker": {
            "color": "black",
            "size": 6
           },
           "mode": "lines+markers",
           "name": "regression",
           "showlegend": false,
           "x": [
            0.3913539553752536,
            0.353448275862069
           ],
           "y": [
            0.3292139675240695,
            0.32950136513866934
           ],
           "type": "scatter"
          },
          {
           "line": {
            "color": "green",
            "width": 0.5
           },
           "marker": {
            "color": "black",
            "size": 6
           },
           "mode": "lines+markers",
           "name": "saccedes",
           "showlegend": false,
           "x": [
            0.353448275862069,
            0.5998985801217038
           ],
           "y": [
            0.32950136513866934,
            0.31958614743497626
           ],
           "type": "scatter"
          },
          {
           "line": {
            "color": "green",
            "width": 0.5
           },
           "marker": {
            "color": "black",
            "size": 6
           },
           "mode": "lines+markers",
           "name": "saccedes",
           "showlegend": false,
           "x": [
            0.5998985801217038,
            0.6905425963488845
           ],
           "y": [
            0.31958614743497626,
            0.3267710877999712
           ],
           "type": "scatter"
          },
          {
           "line": {
            "color": "red",
            "width": 0.5
           },
           "marker": {
            "color": "black",
            "size": 6
           },
           "mode": "lines+markers",
           "name": "regression",
           "showlegend": false,
           "x": [
            0.6905425963488845,
            0.5773326572008114
           ],
           "y": [
            0.3267710877999712,
            0.33136944963356796
           ],
           "type": "scatter"
          }
         ],
         "layout": {
          "xaxis": {
           "automargin": false,
           "range": [
            0.2533215010141988,
            0.9851419878296147
           ]
          },
          "yaxis": {
           "automargin": false,
           "range": [
            0.05964937491018826,
            0.6983618335967812
           ]
          }
         },
         "name": "16"
        },
        {
         "data": [
          {
           "line": {
            "color": "green",
            "width": 0.5
           },
           "marker": {
            "color": "black",
            "size": 6
           },
           "mode": "lines+markers",
           "name": "saccedes",
           "showlegend": false,
           "x": [
            0.3995943204868154,
            0.5300456389452334
           ],
           "y": [
            0.5798246874550942,
            0.5901710015806869
           ],
           "type": "scatter"
          },
          {
           "line": {
            "color": "green",
            "width": 0.5
           },
           "marker": {
            "color": "black",
            "size": 6
           },
           "mode": "lines+markers",
           "name": "saccedes",
           "showlegend": false,
           "x": [
            0.5300456389452334,
            0.5564148073022313
           ],
           "y": [
            0.5901710015806869,
            0.5983618335967812
           ],
           "type": "scatter"
          },
          {
           "line": {
            "color": "green",
            "width": 0.5
           },
           "marker": {
            "color": "black",
            "size": 6
           },
           "mode": "lines+markers",
           "name": "saccedes",
           "showlegend": false,
           "x": [
            0.5564148073022313,
            0.7177991886409737
           ],
           "y": [
            0.5983618335967812,
            0.5893088087368875
           ],
           "type": "scatter"
          },
          {
           "line": {
            "color": "green",
            "width": 0.5
           },
           "marker": {
            "color": "black",
            "size": 6
           },
           "mode": "lines+markers",
           "name": "saccedes",
           "showlegend": false,
           "x": [
            0.7177991886409737,
            0.7653397565922921
           ],
           "y": [
            0.5893088087368875,
            0.5893088087368875
           ],
           "type": "scatter"
          },
          {
           "line": {
            "color": "green",
            "width": 0.5
           },
           "marker": {
            "color": "black",
            "size": 6
           },
           "mode": "lines+markers",
           "name": "saccedes",
           "showlegend": false,
           "x": [
            0.7653397565922921,
            0.4050456389452332
           ],
           "y": [
            0.5893088087368875,
            0.4923121138094554
           ],
           "type": "scatter"
          },
          {
           "line": {
            "color": "green",
            "width": 0.5
           },
           "marker": {
            "color": "black",
            "size": 6
           },
           "mode": "lines+markers",
           "name": "saccedes",
           "showlegend": false,
           "x": [
            0.4050456389452332,
            0.6001521298174443
           ],
           "y": [
            0.4923121138094554,
            0.5032332231642478
           ],
           "type": "scatter"
          },
          {
           "line": {
            "color": "green",
            "width": 0.5
           },
           "marker": {
            "color": "black",
            "size": 6
           },
           "mode": "lines+markers",
           "name": "saccedes",
           "showlegend": false,
           "x": [
            0.6001521298174443,
            0.7365618661257607
           ],
           "y": [
            0.5032332231642478,
            0.511567753987642
           ],
           "type": "scatter"
          },
          {
           "line": {
            "color": "green",
            "width": 0.5
           },
           "marker": {
            "color": "black",
            "size": 6
           },
           "mode": "lines+markers",
           "name": "saccedes",
           "showlegend": false,
           "x": [
            0.7365618661257607,
            0.8851419878296147
           ],
           "y": [
            0.511567753987642,
            0.5035206207788475
           ],
           "type": "scatter"
          },
          {
           "line": {
            "color": "green",
            "width": 0.5
           },
           "marker": {
            "color": "black",
            "size": 6
           },
           "mode": "lines+markers",
           "name": "saccedes",
           "showlegend": false,
           "x": [
            0.8851419878296147,
            0.414553752535497
           ],
           "y": [
            0.5035206207788475,
            0.4000574795229199
           ],
           "type": "scatter"
          },
          {
           "line": {
            "color": "green",
            "width": 0.5
           },
           "marker": {
            "color": "black",
            "size": 6
           },
           "mode": "lines+markers",
           "name": "saccedes",
           "showlegend": false,
           "x": [
            0.414553752535497,
            0.6257606490872212
           ],
           "y": [
            0.4000574795229199,
            0.4151458542894094
           ],
           "type": "scatter"
          },
          {
           "line": {
            "color": "green",
            "width": 0.5
           },
           "marker": {
            "color": "black",
            "size": 6
           },
           "mode": "lines+markers",
           "name": "saccedes",
           "showlegend": false,
           "x": [
            0.6257606490872212,
            0.7818204868154159
           ],
           "y": [
            0.4151458542894094,
            0.42621066245150163
           ],
           "type": "scatter"
          },
          {
           "line": {
            "color": "green",
            "width": 0.5
           },
           "marker": {
            "color": "black",
            "size": 6
           },
           "mode": "lines+markers",
           "name": "saccedes",
           "showlegend": false,
           "x": [
            0.7818204868154159,
            0.3913539553752536
           ],
           "y": [
            0.42621066245150163,
            0.3292139675240695
           ],
           "type": "scatter"
          },
          {
           "line": {
            "color": "red",
            "width": 0.5
           },
           "marker": {
            "color": "black",
            "size": 6
           },
           "mode": "lines+markers",
           "name": "regression",
           "showlegend": false,
           "x": [
            0.3913539553752536,
            0.353448275862069
           ],
           "y": [
            0.3292139675240695,
            0.32950136513866934
           ],
           "type": "scatter"
          },
          {
           "line": {
            "color": "green",
            "width": 0.5
           },
           "marker": {
            "color": "black",
            "size": 6
           },
           "mode": "lines+markers",
           "name": "saccedes",
           "showlegend": false,
           "x": [
            0.353448275862069,
            0.5998985801217038
           ],
           "y": [
            0.32950136513866934,
            0.31958614743497626
           ],
           "type": "scatter"
          },
          {
           "line": {
            "color": "green",
            "width": 0.5
           },
           "marker": {
            "color": "black",
            "size": 6
           },
           "mode": "lines+markers",
           "name": "saccedes",
           "showlegend": false,
           "x": [
            0.5998985801217038,
            0.6905425963488845
           ],
           "y": [
            0.31958614743497626,
            0.3267710877999712
           ],
           "type": "scatter"
          },
          {
           "line": {
            "color": "red",
            "width": 0.5
           },
           "marker": {
            "color": "black",
            "size": 6
           },
           "mode": "lines+markers",
           "name": "regression",
           "showlegend": false,
           "x": [
            0.6905425963488845,
            0.5773326572008114
           ],
           "y": [
            0.3267710877999712,
            0.33136944963356796
           ],
           "type": "scatter"
          },
          {
           "line": {
            "color": "green",
            "width": 0.5
           },
           "marker": {
            "color": "black",
            "size": 6
           },
           "mode": "lines+markers",
           "name": "saccedes",
           "showlegend": false,
           "x": [
            0.5773326572008114,
            0.7838488843813387
           ],
           "y": [
            0.33136944963356796,
            0.3306509555970685
           ],
           "type": "scatter"
          }
         ],
         "layout": {
          "xaxis": {
           "automargin": false,
           "range": [
            0.2533215010141988,
            0.9851419878296147
           ]
          },
          "yaxis": {
           "automargin": false,
           "range": [
            0.05964937491018826,
            0.6983618335967812
           ]
          }
         },
         "name": "17"
        },
        {
         "data": [
          {
           "line": {
            "color": "green",
            "width": 0.5
           },
           "marker": {
            "color": "black",
            "size": 6
           },
           "mode": "lines+markers",
           "name": "saccedes",
           "showlegend": false,
           "x": [
            0.3995943204868154,
            0.5300456389452334
           ],
           "y": [
            0.5798246874550942,
            0.5901710015806869
           ],
           "type": "scatter"
          },
          {
           "line": {
            "color": "green",
            "width": 0.5
           },
           "marker": {
            "color": "black",
            "size": 6
           },
           "mode": "lines+markers",
           "name": "saccedes",
           "showlegend": false,
           "x": [
            0.5300456389452334,
            0.5564148073022313
           ],
           "y": [
            0.5901710015806869,
            0.5983618335967812
           ],
           "type": "scatter"
          },
          {
           "line": {
            "color": "green",
            "width": 0.5
           },
           "marker": {
            "color": "black",
            "size": 6
           },
           "mode": "lines+markers",
           "name": "saccedes",
           "showlegend": false,
           "x": [
            0.5564148073022313,
            0.7177991886409737
           ],
           "y": [
            0.5983618335967812,
            0.5893088087368875
           ],
           "type": "scatter"
          },
          {
           "line": {
            "color": "green",
            "width": 0.5
           },
           "marker": {
            "color": "black",
            "size": 6
           },
           "mode": "lines+markers",
           "name": "saccedes",
           "showlegend": false,
           "x": [
            0.7177991886409737,
            0.7653397565922921
           ],
           "y": [
            0.5893088087368875,
            0.5893088087368875
           ],
           "type": "scatter"
          },
          {
           "line": {
            "color": "green",
            "width": 0.5
           },
           "marker": {
            "color": "black",
            "size": 6
           },
           "mode": "lines+markers",
           "name": "saccedes",
           "showlegend": false,
           "x": [
            0.7653397565922921,
            0.4050456389452332
           ],
           "y": [
            0.5893088087368875,
            0.4923121138094554
           ],
           "type": "scatter"
          },
          {
           "line": {
            "color": "green",
            "width": 0.5
           },
           "marker": {
            "color": "black",
            "size": 6
           },
           "mode": "lines+markers",
           "name": "saccedes",
           "showlegend": false,
           "x": [
            0.4050456389452332,
            0.6001521298174443
           ],
           "y": [
            0.4923121138094554,
            0.5032332231642478
           ],
           "type": "scatter"
          },
          {
           "line": {
            "color": "green",
            "width": 0.5
           },
           "marker": {
            "color": "black",
            "size": 6
           },
           "mode": "lines+markers",
           "name": "saccedes",
           "showlegend": false,
           "x": [
            0.6001521298174443,
            0.7365618661257607
           ],
           "y": [
            0.5032332231642478,
            0.511567753987642
           ],
           "type": "scatter"
          },
          {
           "line": {
            "color": "green",
            "width": 0.5
           },
           "marker": {
            "color": "black",
            "size": 6
           },
           "mode": "lines+markers",
           "name": "saccedes",
           "showlegend": false,
           "x": [
            0.7365618661257607,
            0.8851419878296147
           ],
           "y": [
            0.511567753987642,
            0.5035206207788475
           ],
           "type": "scatter"
          },
          {
           "line": {
            "color": "green",
            "width": 0.5
           },
           "marker": {
            "color": "black",
            "size": 6
           },
           "mode": "lines+markers",
           "name": "saccedes",
           "showlegend": false,
           "x": [
            0.8851419878296147,
            0.414553752535497
           ],
           "y": [
            0.5035206207788475,
            0.4000574795229199
           ],
           "type": "scatter"
          },
          {
           "line": {
            "color": "green",
            "width": 0.5
           },
           "marker": {
            "color": "black",
            "size": 6
           },
           "mode": "lines+markers",
           "name": "saccedes",
           "showlegend": false,
           "x": [
            0.414553752535497,
            0.6257606490872212
           ],
           "y": [
            0.4000574795229199,
            0.4151458542894094
           ],
           "type": "scatter"
          },
          {
           "line": {
            "color": "green",
            "width": 0.5
           },
           "marker": {
            "color": "black",
            "size": 6
           },
           "mode": "lines+markers",
           "name": "saccedes",
           "showlegend": false,
           "x": [
            0.6257606490872212,
            0.7818204868154159
           ],
           "y": [
            0.4151458542894094,
            0.42621066245150163
           ],
           "type": "scatter"
          },
          {
           "line": {
            "color": "green",
            "width": 0.5
           },
           "marker": {
            "color": "black",
            "size": 6
           },
           "mode": "lines+markers",
           "name": "saccedes",
           "showlegend": false,
           "x": [
            0.7818204868154159,
            0.3913539553752536
           ],
           "y": [
            0.42621066245150163,
            0.3292139675240695
           ],
           "type": "scatter"
          },
          {
           "line": {
            "color": "red",
            "width": 0.5
           },
           "marker": {
            "color": "black",
            "size": 6
           },
           "mode": "lines+markers",
           "name": "regression",
           "showlegend": false,
           "x": [
            0.3913539553752536,
            0.353448275862069
           ],
           "y": [
            0.3292139675240695,
            0.32950136513866934
           ],
           "type": "scatter"
          },
          {
           "line": {
            "color": "green",
            "width": 0.5
           },
           "marker": {
            "color": "black",
            "size": 6
           },
           "mode": "lines+markers",
           "name": "saccedes",
           "showlegend": false,
           "x": [
            0.353448275862069,
            0.5998985801217038
           ],
           "y": [
            0.32950136513866934,
            0.31958614743497626
           ],
           "type": "scatter"
          },
          {
           "line": {
            "color": "green",
            "width": 0.5
           },
           "marker": {
            "color": "black",
            "size": 6
           },
           "mode": "lines+markers",
           "name": "saccedes",
           "showlegend": false,
           "x": [
            0.5998985801217038,
            0.6905425963488845
           ],
           "y": [
            0.31958614743497626,
            0.3267710877999712
           ],
           "type": "scatter"
          },
          {
           "line": {
            "color": "red",
            "width": 0.5
           },
           "marker": {
            "color": "black",
            "size": 6
           },
           "mode": "lines+markers",
           "name": "regression",
           "showlegend": false,
           "x": [
            0.6905425963488845,
            0.5773326572008114
           ],
           "y": [
            0.3267710877999712,
            0.33136944963356796
           ],
           "type": "scatter"
          },
          {
           "line": {
            "color": "green",
            "width": 0.5
           },
           "marker": {
            "color": "black",
            "size": 6
           },
           "mode": "lines+markers",
           "name": "saccedes",
           "showlegend": false,
           "x": [
            0.5773326572008114,
            0.7838488843813387
           ],
           "y": [
            0.33136944963356796,
            0.3306509555970685
           ],
           "type": "scatter"
          },
          {
           "line": {
            "color": "green",
            "width": 0.5
           },
           "marker": {
            "color": "black",
            "size": 6
           },
           "mode": "lines+markers",
           "name": "saccedes",
           "showlegend": false,
           "x": [
            0.7838488843813387,
            0.4141734279918864
           ],
           "y": [
            0.3306509555970685,
            0.25894525075441865
           ],
           "type": "scatter"
          }
         ],
         "layout": {
          "xaxis": {
           "automargin": false,
           "range": [
            0.2533215010141988,
            0.9851419878296147
           ]
          },
          "yaxis": {
           "automargin": false,
           "range": [
            0.05964937491018826,
            0.6983618335967812
           ]
          }
         },
         "name": "18"
        },
        {
         "data": [
          {
           "line": {
            "color": "green",
            "width": 0.5
           },
           "marker": {
            "color": "black",
            "size": 6
           },
           "mode": "lines+markers",
           "name": "saccedes",
           "showlegend": false,
           "x": [
            0.3995943204868154,
            0.5300456389452334
           ],
           "y": [
            0.5798246874550942,
            0.5901710015806869
           ],
           "type": "scatter"
          },
          {
           "line": {
            "color": "green",
            "width": 0.5
           },
           "marker": {
            "color": "black",
            "size": 6
           },
           "mode": "lines+markers",
           "name": "saccedes",
           "showlegend": false,
           "x": [
            0.5300456389452334,
            0.5564148073022313
           ],
           "y": [
            0.5901710015806869,
            0.5983618335967812
           ],
           "type": "scatter"
          },
          {
           "line": {
            "color": "green",
            "width": 0.5
           },
           "marker": {
            "color": "black",
            "size": 6
           },
           "mode": "lines+markers",
           "name": "saccedes",
           "showlegend": false,
           "x": [
            0.5564148073022313,
            0.7177991886409737
           ],
           "y": [
            0.5983618335967812,
            0.5893088087368875
           ],
           "type": "scatter"
          },
          {
           "line": {
            "color": "green",
            "width": 0.5
           },
           "marker": {
            "color": "black",
            "size": 6
           },
           "mode": "lines+markers",
           "name": "saccedes",
           "showlegend": false,
           "x": [
            0.7177991886409737,
            0.7653397565922921
           ],
           "y": [
            0.5893088087368875,
            0.5893088087368875
           ],
           "type": "scatter"
          },
          {
           "line": {
            "color": "green",
            "width": 0.5
           },
           "marker": {
            "color": "black",
            "size": 6
           },
           "mode": "lines+markers",
           "name": "saccedes",
           "showlegend": false,
           "x": [
            0.7653397565922921,
            0.4050456389452332
           ],
           "y": [
            0.5893088087368875,
            0.4923121138094554
           ],
           "type": "scatter"
          },
          {
           "line": {
            "color": "green",
            "width": 0.5
           },
           "marker": {
            "color": "black",
            "size": 6
           },
           "mode": "lines+markers",
           "name": "saccedes",
           "showlegend": false,
           "x": [
            0.4050456389452332,
            0.6001521298174443
           ],
           "y": [
            0.4923121138094554,
            0.5032332231642478
           ],
           "type": "scatter"
          },
          {
           "line": {
            "color": "green",
            "width": 0.5
           },
           "marker": {
            "color": "black",
            "size": 6
           },
           "mode": "lines+markers",
           "name": "saccedes",
           "showlegend": false,
           "x": [
            0.6001521298174443,
            0.7365618661257607
           ],
           "y": [
            0.5032332231642478,
            0.511567753987642
           ],
           "type": "scatter"
          },
          {
           "line": {
            "color": "green",
            "width": 0.5
           },
           "marker": {
            "color": "black",
            "size": 6
           },
           "mode": "lines+markers",
           "name": "saccedes",
           "showlegend": false,
           "x": [
            0.7365618661257607,
            0.8851419878296147
           ],
           "y": [
            0.511567753987642,
            0.5035206207788475
           ],
           "type": "scatter"
          },
          {
           "line": {
            "color": "green",
            "width": 0.5
           },
           "marker": {
            "color": "black",
            "size": 6
           },
           "mode": "lines+markers",
           "name": "saccedes",
           "showlegend": false,
           "x": [
            0.8851419878296147,
            0.414553752535497
           ],
           "y": [
            0.5035206207788475,
            0.4000574795229199
           ],
           "type": "scatter"
          },
          {
           "line": {
            "color": "green",
            "width": 0.5
           },
           "marker": {
            "color": "black",
            "size": 6
           },
           "mode": "lines+markers",
           "name": "saccedes",
           "showlegend": false,
           "x": [
            0.414553752535497,
            0.6257606490872212
           ],
           "y": [
            0.4000574795229199,
            0.4151458542894094
           ],
           "type": "scatter"
          },
          {
           "line": {
            "color": "green",
            "width": 0.5
           },
           "marker": {
            "color": "black",
            "size": 6
           },
           "mode": "lines+markers",
           "name": "saccedes",
           "showlegend": false,
           "x": [
            0.6257606490872212,
            0.7818204868154159
           ],
           "y": [
            0.4151458542894094,
            0.42621066245150163
           ],
           "type": "scatter"
          },
          {
           "line": {
            "color": "green",
            "width": 0.5
           },
           "marker": {
            "color": "black",
            "size": 6
           },
           "mode": "lines+markers",
           "name": "saccedes",
           "showlegend": false,
           "x": [
            0.7818204868154159,
            0.3913539553752536
           ],
           "y": [
            0.42621066245150163,
            0.3292139675240695
           ],
           "type": "scatter"
          },
          {
           "line": {
            "color": "red",
            "width": 0.5
           },
           "marker": {
            "color": "black",
            "size": 6
           },
           "mode": "lines+markers",
           "name": "regression",
           "showlegend": false,
           "x": [
            0.3913539553752536,
            0.353448275862069
           ],
           "y": [
            0.3292139675240695,
            0.32950136513866934
           ],
           "type": "scatter"
          },
          {
           "line": {
            "color": "green",
            "width": 0.5
           },
           "marker": {
            "color": "black",
            "size": 6
           },
           "mode": "lines+markers",
           "name": "saccedes",
           "showlegend": false,
           "x": [
            0.353448275862069,
            0.5998985801217038
           ],
           "y": [
            0.32950136513866934,
            0.31958614743497626
           ],
           "type": "scatter"
          },
          {
           "line": {
            "color": "green",
            "width": 0.5
           },
           "marker": {
            "color": "black",
            "size": 6
           },
           "mode": "lines+markers",
           "name": "saccedes",
           "showlegend": false,
           "x": [
            0.5998985801217038,
            0.6905425963488845
           ],
           "y": [
            0.31958614743497626,
            0.3267710877999712
           ],
           "type": "scatter"
          },
          {
           "line": {
            "color": "red",
            "width": 0.5
           },
           "marker": {
            "color": "black",
            "size": 6
           },
           "mode": "lines+markers",
           "name": "regression",
           "showlegend": false,
           "x": [
            0.6905425963488845,
            0.5773326572008114
           ],
           "y": [
            0.3267710877999712,
            0.33136944963356796
           ],
           "type": "scatter"
          },
          {
           "line": {
            "color": "green",
            "width": 0.5
           },
           "marker": {
            "color": "black",
            "size": 6
           },
           "mode": "lines+markers",
           "name": "saccedes",
           "showlegend": false,
           "x": [
            0.5773326572008114,
            0.7838488843813387
           ],
           "y": [
            0.33136944963356796,
            0.3306509555970685
           ],
           "type": "scatter"
          },
          {
           "line": {
            "color": "green",
            "width": 0.5
           },
           "marker": {
            "color": "black",
            "size": 6
           },
           "mode": "lines+markers",
           "name": "saccedes",
           "showlegend": false,
           "x": [
            0.7838488843813387,
            0.4141734279918864
           ],
           "y": [
            0.3306509555970685,
            0.25894525075441865
           ],
           "type": "scatter"
          },
          {
           "line": {
            "color": "green",
            "width": 0.5
           },
           "marker": {
            "color": "black",
            "size": 6
           },
           "mode": "lines+markers",
           "name": "saccedes",
           "showlegend": false,
           "x": [
            0.4141734279918864,
            0.3857758620689656
           ],
           "y": [
            0.25894525075441865,
            0.24802414139962647
           ],
           "type": "scatter"
          }
         ],
         "layout": {
          "xaxis": {
           "automargin": false,
           "range": [
            0.2533215010141988,
            0.9851419878296147
           ]
          },
          "yaxis": {
           "automargin": false,
           "range": [
            0.05964937491018826,
            0.6983618335967812
           ]
          }
         },
         "name": "19"
        },
        {
         "data": [
          {
           "line": {
            "color": "green",
            "width": 0.5
           },
           "marker": {
            "color": "black",
            "size": 6
           },
           "mode": "lines+markers",
           "name": "saccedes",
           "showlegend": false,
           "x": [
            0.3995943204868154,
            0.5300456389452334
           ],
           "y": [
            0.5798246874550942,
            0.5901710015806869
           ],
           "type": "scatter"
          },
          {
           "line": {
            "color": "green",
            "width": 0.5
           },
           "marker": {
            "color": "black",
            "size": 6
           },
           "mode": "lines+markers",
           "name": "saccedes",
           "showlegend": false,
           "x": [
            0.5300456389452334,
            0.5564148073022313
           ],
           "y": [
            0.5901710015806869,
            0.5983618335967812
           ],
           "type": "scatter"
          },
          {
           "line": {
            "color": "green",
            "width": 0.5
           },
           "marker": {
            "color": "black",
            "size": 6
           },
           "mode": "lines+markers",
           "name": "saccedes",
           "showlegend": false,
           "x": [
            0.5564148073022313,
            0.7177991886409737
           ],
           "y": [
            0.5983618335967812,
            0.5893088087368875
           ],
           "type": "scatter"
          },
          {
           "line": {
            "color": "green",
            "width": 0.5
           },
           "marker": {
            "color": "black",
            "size": 6
           },
           "mode": "lines+markers",
           "name": "saccedes",
           "showlegend": false,
           "x": [
            0.7177991886409737,
            0.7653397565922921
           ],
           "y": [
            0.5893088087368875,
            0.5893088087368875
           ],
           "type": "scatter"
          },
          {
           "line": {
            "color": "green",
            "width": 0.5
           },
           "marker": {
            "color": "black",
            "size": 6
           },
           "mode": "lines+markers",
           "name": "saccedes",
           "showlegend": false,
           "x": [
            0.7653397565922921,
            0.4050456389452332
           ],
           "y": [
            0.5893088087368875,
            0.4923121138094554
           ],
           "type": "scatter"
          },
          {
           "line": {
            "color": "green",
            "width": 0.5
           },
           "marker": {
            "color": "black",
            "size": 6
           },
           "mode": "lines+markers",
           "name": "saccedes",
           "showlegend": false,
           "x": [
            0.4050456389452332,
            0.6001521298174443
           ],
           "y": [
            0.4923121138094554,
            0.5032332231642478
           ],
           "type": "scatter"
          },
          {
           "line": {
            "color": "green",
            "width": 0.5
           },
           "marker": {
            "color": "black",
            "size": 6
           },
           "mode": "lines+markers",
           "name": "saccedes",
           "showlegend": false,
           "x": [
            0.6001521298174443,
            0.7365618661257607
           ],
           "y": [
            0.5032332231642478,
            0.511567753987642
           ],
           "type": "scatter"
          },
          {
           "line": {
            "color": "green",
            "width": 0.5
           },
           "marker": {
            "color": "black",
            "size": 6
           },
           "mode": "lines+markers",
           "name": "saccedes",
           "showlegend": false,
           "x": [
            0.7365618661257607,
            0.8851419878296147
           ],
           "y": [
            0.511567753987642,
            0.5035206207788475
           ],
           "type": "scatter"
          },
          {
           "line": {
            "color": "green",
            "width": 0.5
           },
           "marker": {
            "color": "black",
            "size": 6
           },
           "mode": "lines+markers",
           "name": "saccedes",
           "showlegend": false,
           "x": [
            0.8851419878296147,
            0.414553752535497
           ],
           "y": [
            0.5035206207788475,
            0.4000574795229199
           ],
           "type": "scatter"
          },
          {
           "line": {
            "color": "green",
            "width": 0.5
           },
           "marker": {
            "color": "black",
            "size": 6
           },
           "mode": "lines+markers",
           "name": "saccedes",
           "showlegend": false,
           "x": [
            0.414553752535497,
            0.6257606490872212
           ],
           "y": [
            0.4000574795229199,
            0.4151458542894094
           ],
           "type": "scatter"
          },
          {
           "line": {
            "color": "green",
            "width": 0.5
           },
           "marker": {
            "color": "black",
            "size": 6
           },
           "mode": "lines+markers",
           "name": "saccedes",
           "showlegend": false,
           "x": [
            0.6257606490872212,
            0.7818204868154159
           ],
           "y": [
            0.4151458542894094,
            0.42621066245150163
           ],
           "type": "scatter"
          },
          {
           "line": {
            "color": "green",
            "width": 0.5
           },
           "marker": {
            "color": "black",
            "size": 6
           },
           "mode": "lines+markers",
           "name": "saccedes",
           "showlegend": false,
           "x": [
            0.7818204868154159,
            0.3913539553752536
           ],
           "y": [
            0.42621066245150163,
            0.3292139675240695
           ],
           "type": "scatter"
          },
          {
           "line": {
            "color": "red",
            "width": 0.5
           },
           "marker": {
            "color": "black",
            "size": 6
           },
           "mode": "lines+markers",
           "name": "regression",
           "showlegend": false,
           "x": [
            0.3913539553752536,
            0.353448275862069
           ],
           "y": [
            0.3292139675240695,
            0.32950136513866934
           ],
           "type": "scatter"
          },
          {
           "line": {
            "color": "green",
            "width": 0.5
           },
           "marker": {
            "color": "black",
            "size": 6
           },
           "mode": "lines+markers",
           "name": "saccedes",
           "showlegend": false,
           "x": [
            0.353448275862069,
            0.5998985801217038
           ],
           "y": [
            0.32950136513866934,
            0.31958614743497626
           ],
           "type": "scatter"
          },
          {
           "line": {
            "color": "green",
            "width": 0.5
           },
           "marker": {
            "color": "black",
            "size": 6
           },
           "mode": "lines+markers",
           "name": "saccedes",
           "showlegend": false,
           "x": [
            0.5998985801217038,
            0.6905425963488845
           ],
           "y": [
            0.31958614743497626,
            0.3267710877999712
           ],
           "type": "scatter"
          },
          {
           "line": {
            "color": "red",
            "width": 0.5
           },
           "marker": {
            "color": "black",
            "size": 6
           },
           "mode": "lines+markers",
           "name": "regression",
           "showlegend": false,
           "x": [
            0.6905425963488845,
            0.5773326572008114
           ],
           "y": [
            0.3267710877999712,
            0.33136944963356796
           ],
           "type": "scatter"
          },
          {
           "line": {
            "color": "green",
            "width": 0.5
           },
           "marker": {
            "color": "black",
            "size": 6
           },
           "mode": "lines+markers",
           "name": "saccedes",
           "showlegend": false,
           "x": [
            0.5773326572008114,
            0.7838488843813387
           ],
           "y": [
            0.33136944963356796,
            0.3306509555970685
           ],
           "type": "scatter"
          },
          {
           "line": {
            "color": "green",
            "width": 0.5
           },
           "marker": {
            "color": "black",
            "size": 6
           },
           "mode": "lines+markers",
           "name": "saccedes",
           "showlegend": false,
           "x": [
            0.7838488843813387,
            0.4141734279918864
           ],
           "y": [
            0.3306509555970685,
            0.25894525075441865
           ],
           "type": "scatter"
          },
          {
           "line": {
            "color": "green",
            "width": 0.5
           },
           "marker": {
            "color": "black",
            "size": 6
           },
           "mode": "lines+markers",
           "name": "saccedes",
           "showlegend": false,
           "x": [
            0.4141734279918864,
            0.3857758620689656
           ],
           "y": [
            0.25894525075441865,
            0.24802414139962647
           ],
           "type": "scatter"
          },
          {
           "line": {
            "color": "green",
            "width": 0.5
           },
           "marker": {
            "color": "black",
            "size": 6
           },
           "mode": "lines+markers",
           "name": "saccedes",
           "showlegend": false,
           "x": [
            0.3857758620689656,
            0.575684584178499
           ],
           "y": [
            0.24802414139962647,
            0.23782152608133356
           ],
           "type": "scatter"
          }
         ],
         "layout": {
          "xaxis": {
           "automargin": false,
           "range": [
            0.2533215010141988,
            0.9851419878296147
           ]
          },
          "yaxis": {
           "automargin": false,
           "range": [
            0.05964937491018826,
            0.6983618335967812
           ]
          }
         },
         "name": "20"
        },
        {
         "data": [
          {
           "line": {
            "color": "green",
            "width": 0.5
           },
           "marker": {
            "color": "black",
            "size": 6
           },
           "mode": "lines+markers",
           "name": "saccedes",
           "showlegend": false,
           "x": [
            0.3995943204868154,
            0.5300456389452334
           ],
           "y": [
            0.5798246874550942,
            0.5901710015806869
           ],
           "type": "scatter"
          },
          {
           "line": {
            "color": "green",
            "width": 0.5
           },
           "marker": {
            "color": "black",
            "size": 6
           },
           "mode": "lines+markers",
           "name": "saccedes",
           "showlegend": false,
           "x": [
            0.5300456389452334,
            0.5564148073022313
           ],
           "y": [
            0.5901710015806869,
            0.5983618335967812
           ],
           "type": "scatter"
          },
          {
           "line": {
            "color": "green",
            "width": 0.5
           },
           "marker": {
            "color": "black",
            "size": 6
           },
           "mode": "lines+markers",
           "name": "saccedes",
           "showlegend": false,
           "x": [
            0.5564148073022313,
            0.7177991886409737
           ],
           "y": [
            0.5983618335967812,
            0.5893088087368875
           ],
           "type": "scatter"
          },
          {
           "line": {
            "color": "green",
            "width": 0.5
           },
           "marker": {
            "color": "black",
            "size": 6
           },
           "mode": "lines+markers",
           "name": "saccedes",
           "showlegend": false,
           "x": [
            0.7177991886409737,
            0.7653397565922921
           ],
           "y": [
            0.5893088087368875,
            0.5893088087368875
           ],
           "type": "scatter"
          },
          {
           "line": {
            "color": "green",
            "width": 0.5
           },
           "marker": {
            "color": "black",
            "size": 6
           },
           "mode": "lines+markers",
           "name": "saccedes",
           "showlegend": false,
           "x": [
            0.7653397565922921,
            0.4050456389452332
           ],
           "y": [
            0.5893088087368875,
            0.4923121138094554
           ],
           "type": "scatter"
          },
          {
           "line": {
            "color": "green",
            "width": 0.5
           },
           "marker": {
            "color": "black",
            "size": 6
           },
           "mode": "lines+markers",
           "name": "saccedes",
           "showlegend": false,
           "x": [
            0.4050456389452332,
            0.6001521298174443
           ],
           "y": [
            0.4923121138094554,
            0.5032332231642478
           ],
           "type": "scatter"
          },
          {
           "line": {
            "color": "green",
            "width": 0.5
           },
           "marker": {
            "color": "black",
            "size": 6
           },
           "mode": "lines+markers",
           "name": "saccedes",
           "showlegend": false,
           "x": [
            0.6001521298174443,
            0.7365618661257607
           ],
           "y": [
            0.5032332231642478,
            0.511567753987642
           ],
           "type": "scatter"
          },
          {
           "line": {
            "color": "green",
            "width": 0.5
           },
           "marker": {
            "color": "black",
            "size": 6
           },
           "mode": "lines+markers",
           "name": "saccedes",
           "showlegend": false,
           "x": [
            0.7365618661257607,
            0.8851419878296147
           ],
           "y": [
            0.511567753987642,
            0.5035206207788475
           ],
           "type": "scatter"
          },
          {
           "line": {
            "color": "green",
            "width": 0.5
           },
           "marker": {
            "color": "black",
            "size": 6
           },
           "mode": "lines+markers",
           "name": "saccedes",
           "showlegend": false,
           "x": [
            0.8851419878296147,
            0.414553752535497
           ],
           "y": [
            0.5035206207788475,
            0.4000574795229199
           ],
           "type": "scatter"
          },
          {
           "line": {
            "color": "green",
            "width": 0.5
           },
           "marker": {
            "color": "black",
            "size": 6
           },
           "mode": "lines+markers",
           "name": "saccedes",
           "showlegend": false,
           "x": [
            0.414553752535497,
            0.6257606490872212
           ],
           "y": [
            0.4000574795229199,
            0.4151458542894094
           ],
           "type": "scatter"
          },
          {
           "line": {
            "color": "green",
            "width": 0.5
           },
           "marker": {
            "color": "black",
            "size": 6
           },
           "mode": "lines+markers",
           "name": "saccedes",
           "showlegend": false,
           "x": [
            0.6257606490872212,
            0.7818204868154159
           ],
           "y": [
            0.4151458542894094,
            0.42621066245150163
           ],
           "type": "scatter"
          },
          {
           "line": {
            "color": "green",
            "width": 0.5
           },
           "marker": {
            "color": "black",
            "size": 6
           },
           "mode": "lines+markers",
           "name": "saccedes",
           "showlegend": false,
           "x": [
            0.7818204868154159,
            0.3913539553752536
           ],
           "y": [
            0.42621066245150163,
            0.3292139675240695
           ],
           "type": "scatter"
          },
          {
           "line": {
            "color": "red",
            "width": 0.5
           },
           "marker": {
            "color": "black",
            "size": 6
           },
           "mode": "lines+markers",
           "name": "regression",
           "showlegend": false,
           "x": [
            0.3913539553752536,
            0.353448275862069
           ],
           "y": [
            0.3292139675240695,
            0.32950136513866934
           ],
           "type": "scatter"
          },
          {
           "line": {
            "color": "green",
            "width": 0.5
           },
           "marker": {
            "color": "black",
            "size": 6
           },
           "mode": "lines+markers",
           "name": "saccedes",
           "showlegend": false,
           "x": [
            0.353448275862069,
            0.5998985801217038
           ],
           "y": [
            0.32950136513866934,
            0.31958614743497626
           ],
           "type": "scatter"
          },
          {
           "line": {
            "color": "green",
            "width": 0.5
           },
           "marker": {
            "color": "black",
            "size": 6
           },
           "mode": "lines+markers",
           "name": "saccedes",
           "showlegend": false,
           "x": [
            0.5998985801217038,
            0.6905425963488845
           ],
           "y": [
            0.31958614743497626,
            0.3267710877999712
           ],
           "type": "scatter"
          },
          {
           "line": {
            "color": "red",
            "width": 0.5
           },
           "marker": {
            "color": "black",
            "size": 6
           },
           "mode": "lines+markers",
           "name": "regression",
           "showlegend": false,
           "x": [
            0.6905425963488845,
            0.5773326572008114
           ],
           "y": [
            0.3267710877999712,
            0.33136944963356796
           ],
           "type": "scatter"
          },
          {
           "line": {
            "color": "green",
            "width": 0.5
           },
           "marker": {
            "color": "black",
            "size": 6
           },
           "mode": "lines+markers",
           "name": "saccedes",
           "showlegend": false,
           "x": [
            0.5773326572008114,
            0.7838488843813387
           ],
           "y": [
            0.33136944963356796,
            0.3306509555970685
           ],
           "type": "scatter"
          },
          {
           "line": {
            "color": "green",
            "width": 0.5
           },
           "marker": {
            "color": "black",
            "size": 6
           },
           "mode": "lines+markers",
           "name": "saccedes",
           "showlegend": false,
           "x": [
            0.7838488843813387,
            0.4141734279918864
           ],
           "y": [
            0.3306509555970685,
            0.25894525075441865
           ],
           "type": "scatter"
          },
          {
           "line": {
            "color": "green",
            "width": 0.5
           },
           "marker": {
            "color": "black",
            "size": 6
           },
           "mode": "lines+markers",
           "name": "saccedes",
           "showlegend": false,
           "x": [
            0.4141734279918864,
            0.3857758620689656
           ],
           "y": [
            0.25894525075441865,
            0.24802414139962647
           ],
           "type": "scatter"
          },
          {
           "line": {
            "color": "green",
            "width": 0.5
           },
           "marker": {
            "color": "black",
            "size": 6
           },
           "mode": "lines+markers",
           "name": "saccedes",
           "showlegend": false,
           "x": [
            0.3857758620689656,
            0.575684584178499
           ],
           "y": [
            0.24802414139962647,
            0.23782152608133356
           ],
           "type": "scatter"
          },
          {
           "line": {
            "color": "green",
            "width": 0.5
           },
           "marker": {
            "color": "black",
            "size": 6
           },
           "mode": "lines+markers",
           "name": "saccedes",
           "showlegend": false,
           "x": [
            0.575684584178499,
            0.7554513184584178
           ],
           "y": [
            0.23782152608133356,
            0.22848110360684004
           ],
           "type": "scatter"
          }
         ],
         "layout": {
          "xaxis": {
           "automargin": false,
           "range": [
            0.2533215010141988,
            0.9851419878296147
           ]
          },
          "yaxis": {
           "automargin": false,
           "range": [
            0.05964937491018826,
            0.6983618335967812
           ]
          }
         },
         "name": "21"
        },
        {
         "data": [
          {
           "line": {
            "color": "green",
            "width": 0.5
           },
           "marker": {
            "color": "black",
            "size": 6
           },
           "mode": "lines+markers",
           "name": "saccedes",
           "showlegend": false,
           "x": [
            0.3995943204868154,
            0.5300456389452334
           ],
           "y": [
            0.5798246874550942,
            0.5901710015806869
           ],
           "type": "scatter"
          },
          {
           "line": {
            "color": "green",
            "width": 0.5
           },
           "marker": {
            "color": "black",
            "size": 6
           },
           "mode": "lines+markers",
           "name": "saccedes",
           "showlegend": false,
           "x": [
            0.5300456389452334,
            0.5564148073022313
           ],
           "y": [
            0.5901710015806869,
            0.5983618335967812
           ],
           "type": "scatter"
          },
          {
           "line": {
            "color": "green",
            "width": 0.5
           },
           "marker": {
            "color": "black",
            "size": 6
           },
           "mode": "lines+markers",
           "name": "saccedes",
           "showlegend": false,
           "x": [
            0.5564148073022313,
            0.7177991886409737
           ],
           "y": [
            0.5983618335967812,
            0.5893088087368875
           ],
           "type": "scatter"
          },
          {
           "line": {
            "color": "green",
            "width": 0.5
           },
           "marker": {
            "color": "black",
            "size": 6
           },
           "mode": "lines+markers",
           "name": "saccedes",
           "showlegend": false,
           "x": [
            0.7177991886409737,
            0.7653397565922921
           ],
           "y": [
            0.5893088087368875,
            0.5893088087368875
           ],
           "type": "scatter"
          },
          {
           "line": {
            "color": "green",
            "width": 0.5
           },
           "marker": {
            "color": "black",
            "size": 6
           },
           "mode": "lines+markers",
           "name": "saccedes",
           "showlegend": false,
           "x": [
            0.7653397565922921,
            0.4050456389452332
           ],
           "y": [
            0.5893088087368875,
            0.4923121138094554
           ],
           "type": "scatter"
          },
          {
           "line": {
            "color": "green",
            "width": 0.5
           },
           "marker": {
            "color": "black",
            "size": 6
           },
           "mode": "lines+markers",
           "name": "saccedes",
           "showlegend": false,
           "x": [
            0.4050456389452332,
            0.6001521298174443
           ],
           "y": [
            0.4923121138094554,
            0.5032332231642478
           ],
           "type": "scatter"
          },
          {
           "line": {
            "color": "green",
            "width": 0.5
           },
           "marker": {
            "color": "black",
            "size": 6
           },
           "mode": "lines+markers",
           "name": "saccedes",
           "showlegend": false,
           "x": [
            0.6001521298174443,
            0.7365618661257607
           ],
           "y": [
            0.5032332231642478,
            0.511567753987642
           ],
           "type": "scatter"
          },
          {
           "line": {
            "color": "green",
            "width": 0.5
           },
           "marker": {
            "color": "black",
            "size": 6
           },
           "mode": "lines+markers",
           "name": "saccedes",
           "showlegend": false,
           "x": [
            0.7365618661257607,
            0.8851419878296147
           ],
           "y": [
            0.511567753987642,
            0.5035206207788475
           ],
           "type": "scatter"
          },
          {
           "line": {
            "color": "green",
            "width": 0.5
           },
           "marker": {
            "color": "black",
            "size": 6
           },
           "mode": "lines+markers",
           "name": "saccedes",
           "showlegend": false,
           "x": [
            0.8851419878296147,
            0.414553752535497
           ],
           "y": [
            0.5035206207788475,
            0.4000574795229199
           ],
           "type": "scatter"
          },
          {
           "line": {
            "color": "green",
            "width": 0.5
           },
           "marker": {
            "color": "black",
            "size": 6
           },
           "mode": "lines+markers",
           "name": "saccedes",
           "showlegend": false,
           "x": [
            0.414553752535497,
            0.6257606490872212
           ],
           "y": [
            0.4000574795229199,
            0.4151458542894094
           ],
           "type": "scatter"
          },
          {
           "line": {
            "color": "green",
            "width": 0.5
           },
           "marker": {
            "color": "black",
            "size": 6
           },
           "mode": "lines+markers",
           "name": "saccedes",
           "showlegend": false,
           "x": [
            0.6257606490872212,
            0.7818204868154159
           ],
           "y": [
            0.4151458542894094,
            0.42621066245150163
           ],
           "type": "scatter"
          },
          {
           "line": {
            "color": "green",
            "width": 0.5
           },
           "marker": {
            "color": "black",
            "size": 6
           },
           "mode": "lines+markers",
           "name": "saccedes",
           "showlegend": false,
           "x": [
            0.7818204868154159,
            0.3913539553752536
           ],
           "y": [
            0.42621066245150163,
            0.3292139675240695
           ],
           "type": "scatter"
          },
          {
           "line": {
            "color": "red",
            "width": 0.5
           },
           "marker": {
            "color": "black",
            "size": 6
           },
           "mode": "lines+markers",
           "name": "regression",
           "showlegend": false,
           "x": [
            0.3913539553752536,
            0.353448275862069
           ],
           "y": [
            0.3292139675240695,
            0.32950136513866934
           ],
           "type": "scatter"
          },
          {
           "line": {
            "color": "green",
            "width": 0.5
           },
           "marker": {
            "color": "black",
            "size": 6
           },
           "mode": "lines+markers",
           "name": "saccedes",
           "showlegend": false,
           "x": [
            0.353448275862069,
            0.5998985801217038
           ],
           "y": [
            0.32950136513866934,
            0.31958614743497626
           ],
           "type": "scatter"
          },
          {
           "line": {
            "color": "green",
            "width": 0.5
           },
           "marker": {
            "color": "black",
            "size": 6
           },
           "mode": "lines+markers",
           "name": "saccedes",
           "showlegend": false,
           "x": [
            0.5998985801217038,
            0.6905425963488845
           ],
           "y": [
            0.31958614743497626,
            0.3267710877999712
           ],
           "type": "scatter"
          },
          {
           "line": {
            "color": "red",
            "width": 0.5
           },
           "marker": {
            "color": "black",
            "size": 6
           },
           "mode": "lines+markers",
           "name": "regression",
           "showlegend": false,
           "x": [
            0.6905425963488845,
            0.5773326572008114
           ],
           "y": [
            0.3267710877999712,
            0.33136944963356796
           ],
           "type": "scatter"
          },
          {
           "line": {
            "color": "green",
            "width": 0.5
           },
           "marker": {
            "color": "black",
            "size": 6
           },
           "mode": "lines+markers",
           "name": "saccedes",
           "showlegend": false,
           "x": [
            0.5773326572008114,
            0.7838488843813387
           ],
           "y": [
            0.33136944963356796,
            0.3306509555970685
           ],
           "type": "scatter"
          },
          {
           "line": {
            "color": "green",
            "width": 0.5
           },
           "marker": {
            "color": "black",
            "size": 6
           },
           "mode": "lines+markers",
           "name": "saccedes",
           "showlegend": false,
           "x": [
            0.7838488843813387,
            0.4141734279918864
           ],
           "y": [
            0.3306509555970685,
            0.25894525075441865
           ],
           "type": "scatter"
          },
          {
           "line": {
            "color": "green",
            "width": 0.5
           },
           "marker": {
            "color": "black",
            "size": 6
           },
           "mode": "lines+markers",
           "name": "saccedes",
           "showlegend": false,
           "x": [
            0.4141734279918864,
            0.3857758620689656
           ],
           "y": [
            0.25894525075441865,
            0.24802414139962647
           ],
           "type": "scatter"
          },
          {
           "line": {
            "color": "green",
            "width": 0.5
           },
           "marker": {
            "color": "black",
            "size": 6
           },
           "mode": "lines+markers",
           "name": "saccedes",
           "showlegend": false,
           "x": [
            0.3857758620689656,
            0.575684584178499
           ],
           "y": [
            0.24802414139962647,
            0.23782152608133356
           ],
           "type": "scatter"
          },
          {
           "line": {
            "color": "green",
            "width": 0.5
           },
           "marker": {
            "color": "black",
            "size": 6
           },
           "mode": "lines+markers",
           "name": "saccedes",
           "showlegend": false,
           "x": [
            0.575684584178499,
            0.7554513184584178
           ],
           "y": [
            0.23782152608133356,
            0.22848110360684004
           ],
           "type": "scatter"
          },
          {
           "line": {
            "color": "green",
            "width": 0.5
           },
           "marker": {
            "color": "black",
            "size": 6
           },
           "mode": "lines+markers",
           "name": "saccedes",
           "showlegend": false,
           "x": [
            0.7554513184584178,
            0.4461206896551724
           ],
           "y": [
            0.22848110360684004,
            0.1607989653685874
           ],
           "type": "scatter"
          }
         ],
         "layout": {
          "xaxis": {
           "automargin": false,
           "range": [
            0.2533215010141988,
            0.9851419878296147
           ]
          },
          "yaxis": {
           "automargin": false,
           "range": [
            0.05964937491018826,
            0.6983618335967812
           ]
          }
         },
         "name": "22"
        },
        {
         "data": [
          {
           "line": {
            "color": "green",
            "width": 0.5
           },
           "marker": {
            "color": "black",
            "size": 6
           },
           "mode": "lines+markers",
           "name": "saccedes",
           "showlegend": false,
           "x": [
            0.3995943204868154,
            0.5300456389452334
           ],
           "y": [
            0.5798246874550942,
            0.5901710015806869
           ],
           "type": "scatter"
          },
          {
           "line": {
            "color": "green",
            "width": 0.5
           },
           "marker": {
            "color": "black",
            "size": 6
           },
           "mode": "lines+markers",
           "name": "saccedes",
           "showlegend": false,
           "x": [
            0.5300456389452334,
            0.5564148073022313
           ],
           "y": [
            0.5901710015806869,
            0.5983618335967812
           ],
           "type": "scatter"
          },
          {
           "line": {
            "color": "green",
            "width": 0.5
           },
           "marker": {
            "color": "black",
            "size": 6
           },
           "mode": "lines+markers",
           "name": "saccedes",
           "showlegend": false,
           "x": [
            0.5564148073022313,
            0.7177991886409737
           ],
           "y": [
            0.5983618335967812,
            0.5893088087368875
           ],
           "type": "scatter"
          },
          {
           "line": {
            "color": "green",
            "width": 0.5
           },
           "marker": {
            "color": "black",
            "size": 6
           },
           "mode": "lines+markers",
           "name": "saccedes",
           "showlegend": false,
           "x": [
            0.7177991886409737,
            0.7653397565922921
           ],
           "y": [
            0.5893088087368875,
            0.5893088087368875
           ],
           "type": "scatter"
          },
          {
           "line": {
            "color": "green",
            "width": 0.5
           },
           "marker": {
            "color": "black",
            "size": 6
           },
           "mode": "lines+markers",
           "name": "saccedes",
           "showlegend": false,
           "x": [
            0.7653397565922921,
            0.4050456389452332
           ],
           "y": [
            0.5893088087368875,
            0.4923121138094554
           ],
           "type": "scatter"
          },
          {
           "line": {
            "color": "green",
            "width": 0.5
           },
           "marker": {
            "color": "black",
            "size": 6
           },
           "mode": "lines+markers",
           "name": "saccedes",
           "showlegend": false,
           "x": [
            0.4050456389452332,
            0.6001521298174443
           ],
           "y": [
            0.4923121138094554,
            0.5032332231642478
           ],
           "type": "scatter"
          },
          {
           "line": {
            "color": "green",
            "width": 0.5
           },
           "marker": {
            "color": "black",
            "size": 6
           },
           "mode": "lines+markers",
           "name": "saccedes",
           "showlegend": false,
           "x": [
            0.6001521298174443,
            0.7365618661257607
           ],
           "y": [
            0.5032332231642478,
            0.511567753987642
           ],
           "type": "scatter"
          },
          {
           "line": {
            "color": "green",
            "width": 0.5
           },
           "marker": {
            "color": "black",
            "size": 6
           },
           "mode": "lines+markers",
           "name": "saccedes",
           "showlegend": false,
           "x": [
            0.7365618661257607,
            0.8851419878296147
           ],
           "y": [
            0.511567753987642,
            0.5035206207788475
           ],
           "type": "scatter"
          },
          {
           "line": {
            "color": "green",
            "width": 0.5
           },
           "marker": {
            "color": "black",
            "size": 6
           },
           "mode": "lines+markers",
           "name": "saccedes",
           "showlegend": false,
           "x": [
            0.8851419878296147,
            0.414553752535497
           ],
           "y": [
            0.5035206207788475,
            0.4000574795229199
           ],
           "type": "scatter"
          },
          {
           "line": {
            "color": "green",
            "width": 0.5
           },
           "marker": {
            "color": "black",
            "size": 6
           },
           "mode": "lines+markers",
           "name": "saccedes",
           "showlegend": false,
           "x": [
            0.414553752535497,
            0.6257606490872212
           ],
           "y": [
            0.4000574795229199,
            0.4151458542894094
           ],
           "type": "scatter"
          },
          {
           "line": {
            "color": "green",
            "width": 0.5
           },
           "marker": {
            "color": "black",
            "size": 6
           },
           "mode": "lines+markers",
           "name": "saccedes",
           "showlegend": false,
           "x": [
            0.6257606490872212,
            0.7818204868154159
           ],
           "y": [
            0.4151458542894094,
            0.42621066245150163
           ],
           "type": "scatter"
          },
          {
           "line": {
            "color": "green",
            "width": 0.5
           },
           "marker": {
            "color": "black",
            "size": 6
           },
           "mode": "lines+markers",
           "name": "saccedes",
           "showlegend": false,
           "x": [
            0.7818204868154159,
            0.3913539553752536
           ],
           "y": [
            0.42621066245150163,
            0.3292139675240695
           ],
           "type": "scatter"
          },
          {
           "line": {
            "color": "red",
            "width": 0.5
           },
           "marker": {
            "color": "black",
            "size": 6
           },
           "mode": "lines+markers",
           "name": "regression",
           "showlegend": false,
           "x": [
            0.3913539553752536,
            0.353448275862069
           ],
           "y": [
            0.3292139675240695,
            0.32950136513866934
           ],
           "type": "scatter"
          },
          {
           "line": {
            "color": "green",
            "width": 0.5
           },
           "marker": {
            "color": "black",
            "size": 6
           },
           "mode": "lines+markers",
           "name": "saccedes",
           "showlegend": false,
           "x": [
            0.353448275862069,
            0.5998985801217038
           ],
           "y": [
            0.32950136513866934,
            0.31958614743497626
           ],
           "type": "scatter"
          },
          {
           "line": {
            "color": "green",
            "width": 0.5
           },
           "marker": {
            "color": "black",
            "size": 6
           },
           "mode": "lines+markers",
           "name": "saccedes",
           "showlegend": false,
           "x": [
            0.5998985801217038,
            0.6905425963488845
           ],
           "y": [
            0.31958614743497626,
            0.3267710877999712
           ],
           "type": "scatter"
          },
          {
           "line": {
            "color": "red",
            "width": 0.5
           },
           "marker": {
            "color": "black",
            "size": 6
           },
           "mode": "lines+markers",
           "name": "regression",
           "showlegend": false,
           "x": [
            0.6905425963488845,
            0.5773326572008114
           ],
           "y": [
            0.3267710877999712,
            0.33136944963356796
           ],
           "type": "scatter"
          },
          {
           "line": {
            "color": "green",
            "width": 0.5
           },
           "marker": {
            "color": "black",
            "size": 6
           },
           "mode": "lines+markers",
           "name": "saccedes",
           "showlegend": false,
           "x": [
            0.5773326572008114,
            0.7838488843813387
           ],
           "y": [
            0.33136944963356796,
            0.3306509555970685
           ],
           "type": "scatter"
          },
          {
           "line": {
            "color": "green",
            "width": 0.5
           },
           "marker": {
            "color": "black",
            "size": 6
           },
           "mode": "lines+markers",
           "name": "saccedes",
           "showlegend": false,
           "x": [
            0.7838488843813387,
            0.4141734279918864
           ],
           "y": [
            0.3306509555970685,
            0.25894525075441865
           ],
           "type": "scatter"
          },
          {
           "line": {
            "color": "green",
            "width": 0.5
           },
           "marker": {
            "color": "black",
            "size": 6
           },
           "mode": "lines+markers",
           "name": "saccedes",
           "showlegend": false,
           "x": [
            0.4141734279918864,
            0.3857758620689656
           ],
           "y": [
            0.25894525075441865,
            0.24802414139962647
           ],
           "type": "scatter"
          },
          {
           "line": {
            "color": "green",
            "width": 0.5
           },
           "marker": {
            "color": "black",
            "size": 6
           },
           "mode": "lines+markers",
           "name": "saccedes",
           "showlegend": false,
           "x": [
            0.3857758620689656,
            0.575684584178499
           ],
           "y": [
            0.24802414139962647,
            0.23782152608133356
           ],
           "type": "scatter"
          },
          {
           "line": {
            "color": "green",
            "width": 0.5
           },
           "marker": {
            "color": "black",
            "size": 6
           },
           "mode": "lines+markers",
           "name": "saccedes",
           "showlegend": false,
           "x": [
            0.575684584178499,
            0.7554513184584178
           ],
           "y": [
            0.23782152608133356,
            0.22848110360684004
           ],
           "type": "scatter"
          },
          {
           "line": {
            "color": "green",
            "width": 0.5
           },
           "marker": {
            "color": "black",
            "size": 6
           },
           "mode": "lines+markers",
           "name": "saccedes",
           "showlegend": false,
           "x": [
            0.7554513184584178,
            0.4461206896551724
           ],
           "y": [
            0.22848110360684004,
            0.1607989653685874
           ],
           "type": "scatter"
          },
          {
           "line": {
            "color": "red",
            "width": 0.5
           },
           "marker": {
            "color": "black",
            "size": 6
           },
           "mode": "lines+markers",
           "name": "regression",
           "showlegend": false,
           "x": [
            0.4461206896551724,
            0.3533215010141988
           ],
           "y": [
            0.1607989653685874,
            0.1682713033481823
           ],
           "type": "scatter"
          }
         ],
         "layout": {
          "xaxis": {
           "automargin": false,
           "range": [
            0.2533215010141988,
            0.9851419878296147
           ]
          },
          "yaxis": {
           "automargin": false,
           "range": [
            0.05964937491018826,
            0.6983618335967812
           ]
          }
         },
         "name": "23"
        },
        {
         "data": [
          {
           "line": {
            "color": "green",
            "width": 0.5
           },
           "marker": {
            "color": "black",
            "size": 6
           },
           "mode": "lines+markers",
           "name": "saccedes",
           "showlegend": false,
           "x": [
            0.3995943204868154,
            0.5300456389452334
           ],
           "y": [
            0.5798246874550942,
            0.5901710015806869
           ],
           "type": "scatter"
          },
          {
           "line": {
            "color": "green",
            "width": 0.5
           },
           "marker": {
            "color": "black",
            "size": 6
           },
           "mode": "lines+markers",
           "name": "saccedes",
           "showlegend": false,
           "x": [
            0.5300456389452334,
            0.5564148073022313
           ],
           "y": [
            0.5901710015806869,
            0.5983618335967812
           ],
           "type": "scatter"
          },
          {
           "line": {
            "color": "green",
            "width": 0.5
           },
           "marker": {
            "color": "black",
            "size": 6
           },
           "mode": "lines+markers",
           "name": "saccedes",
           "showlegend": false,
           "x": [
            0.5564148073022313,
            0.7177991886409737
           ],
           "y": [
            0.5983618335967812,
            0.5893088087368875
           ],
           "type": "scatter"
          },
          {
           "line": {
            "color": "green",
            "width": 0.5
           },
           "marker": {
            "color": "black",
            "size": 6
           },
           "mode": "lines+markers",
           "name": "saccedes",
           "showlegend": false,
           "x": [
            0.7177991886409737,
            0.7653397565922921
           ],
           "y": [
            0.5893088087368875,
            0.5893088087368875
           ],
           "type": "scatter"
          },
          {
           "line": {
            "color": "green",
            "width": 0.5
           },
           "marker": {
            "color": "black",
            "size": 6
           },
           "mode": "lines+markers",
           "name": "saccedes",
           "showlegend": false,
           "x": [
            0.7653397565922921,
            0.4050456389452332
           ],
           "y": [
            0.5893088087368875,
            0.4923121138094554
           ],
           "type": "scatter"
          },
          {
           "line": {
            "color": "green",
            "width": 0.5
           },
           "marker": {
            "color": "black",
            "size": 6
           },
           "mode": "lines+markers",
           "name": "saccedes",
           "showlegend": false,
           "x": [
            0.4050456389452332,
            0.6001521298174443
           ],
           "y": [
            0.4923121138094554,
            0.5032332231642478
           ],
           "type": "scatter"
          },
          {
           "line": {
            "color": "green",
            "width": 0.5
           },
           "marker": {
            "color": "black",
            "size": 6
           },
           "mode": "lines+markers",
           "name": "saccedes",
           "showlegend": false,
           "x": [
            0.6001521298174443,
            0.7365618661257607
           ],
           "y": [
            0.5032332231642478,
            0.511567753987642
           ],
           "type": "scatter"
          },
          {
           "line": {
            "color": "green",
            "width": 0.5
           },
           "marker": {
            "color": "black",
            "size": 6
           },
           "mode": "lines+markers",
           "name": "saccedes",
           "showlegend": false,
           "x": [
            0.7365618661257607,
            0.8851419878296147
           ],
           "y": [
            0.511567753987642,
            0.5035206207788475
           ],
           "type": "scatter"
          },
          {
           "line": {
            "color": "green",
            "width": 0.5
           },
           "marker": {
            "color": "black",
            "size": 6
           },
           "mode": "lines+markers",
           "name": "saccedes",
           "showlegend": false,
           "x": [
            0.8851419878296147,
            0.414553752535497
           ],
           "y": [
            0.5035206207788475,
            0.4000574795229199
           ],
           "type": "scatter"
          },
          {
           "line": {
            "color": "green",
            "width": 0.5
           },
           "marker": {
            "color": "black",
            "size": 6
           },
           "mode": "lines+markers",
           "name": "saccedes",
           "showlegend": false,
           "x": [
            0.414553752535497,
            0.6257606490872212
           ],
           "y": [
            0.4000574795229199,
            0.4151458542894094
           ],
           "type": "scatter"
          },
          {
           "line": {
            "color": "green",
            "width": 0.5
           },
           "marker": {
            "color": "black",
            "size": 6
           },
           "mode": "lines+markers",
           "name": "saccedes",
           "showlegend": false,
           "x": [
            0.6257606490872212,
            0.7818204868154159
           ],
           "y": [
            0.4151458542894094,
            0.42621066245150163
           ],
           "type": "scatter"
          },
          {
           "line": {
            "color": "green",
            "width": 0.5
           },
           "marker": {
            "color": "black",
            "size": 6
           },
           "mode": "lines+markers",
           "name": "saccedes",
           "showlegend": false,
           "x": [
            0.7818204868154159,
            0.3913539553752536
           ],
           "y": [
            0.42621066245150163,
            0.3292139675240695
           ],
           "type": "scatter"
          },
          {
           "line": {
            "color": "red",
            "width": 0.5
           },
           "marker": {
            "color": "black",
            "size": 6
           },
           "mode": "lines+markers",
           "name": "regression",
           "showlegend": false,
           "x": [
            0.3913539553752536,
            0.353448275862069
           ],
           "y": [
            0.3292139675240695,
            0.32950136513866934
           ],
           "type": "scatter"
          },
          {
           "line": {
            "color": "green",
            "width": 0.5
           },
           "marker": {
            "color": "black",
            "size": 6
           },
           "mode": "lines+markers",
           "name": "saccedes",
           "showlegend": false,
           "x": [
            0.353448275862069,
            0.5998985801217038
           ],
           "y": [
            0.32950136513866934,
            0.31958614743497626
           ],
           "type": "scatter"
          },
          {
           "line": {
            "color": "green",
            "width": 0.5
           },
           "marker": {
            "color": "black",
            "size": 6
           },
           "mode": "lines+markers",
           "name": "saccedes",
           "showlegend": false,
           "x": [
            0.5998985801217038,
            0.6905425963488845
           ],
           "y": [
            0.31958614743497626,
            0.3267710877999712
           ],
           "type": "scatter"
          },
          {
           "line": {
            "color": "red",
            "width": 0.5
           },
           "marker": {
            "color": "black",
            "size": 6
           },
           "mode": "lines+markers",
           "name": "regression",
           "showlegend": false,
           "x": [
            0.6905425963488845,
            0.5773326572008114
           ],
           "y": [
            0.3267710877999712,
            0.33136944963356796
           ],
           "type": "scatter"
          },
          {
           "line": {
            "color": "green",
            "width": 0.5
           },
           "marker": {
            "color": "black",
            "size": 6
           },
           "mode": "lines+markers",
           "name": "saccedes",
           "showlegend": false,
           "x": [
            0.5773326572008114,
            0.7838488843813387
           ],
           "y": [
            0.33136944963356796,
            0.3306509555970685
           ],
           "type": "scatter"
          },
          {
           "line": {
            "color": "green",
            "width": 0.5
           },
           "marker": {
            "color": "black",
            "size": 6
           },
           "mode": "lines+markers",
           "name": "saccedes",
           "showlegend": false,
           "x": [
            0.7838488843813387,
            0.4141734279918864
           ],
           "y": [
            0.3306509555970685,
            0.25894525075441865
           ],
           "type": "scatter"
          },
          {
           "line": {
            "color": "green",
            "width": 0.5
           },
           "marker": {
            "color": "black",
            "size": 6
           },
           "mode": "lines+markers",
           "name": "saccedes",
           "showlegend": false,
           "x": [
            0.4141734279918864,
            0.3857758620689656
           ],
           "y": [
            0.25894525075441865,
            0.24802414139962647
           ],
           "type": "scatter"
          },
          {
           "line": {
            "color": "green",
            "width": 0.5
           },
           "marker": {
            "color": "black",
            "size": 6
           },
           "mode": "lines+markers",
           "name": "saccedes",
           "showlegend": false,
           "x": [
            0.3857758620689656,
            0.575684584178499
           ],
           "y": [
            0.24802414139962647,
            0.23782152608133356
           ],
           "type": "scatter"
          },
          {
           "line": {
            "color": "green",
            "width": 0.5
           },
           "marker": {
            "color": "black",
            "size": 6
           },
           "mode": "lines+markers",
           "name": "saccedes",
           "showlegend": false,
           "x": [
            0.575684584178499,
            0.7554513184584178
           ],
           "y": [
            0.23782152608133356,
            0.22848110360684004
           ],
           "type": "scatter"
          },
          {
           "line": {
            "color": "green",
            "width": 0.5
           },
           "marker": {
            "color": "black",
            "size": 6
           },
           "mode": "lines+markers",
           "name": "saccedes",
           "showlegend": false,
           "x": [
            0.7554513184584178,
            0.4461206896551724
           ],
           "y": [
            0.22848110360684004,
            0.1607989653685874
           ],
           "type": "scatter"
          },
          {
           "line": {
            "color": "red",
            "width": 0.5
           },
           "marker": {
            "color": "black",
            "size": 6
           },
           "mode": "lines+markers",
           "name": "regression",
           "showlegend": false,
           "x": [
            0.4461206896551724,
            0.3533215010141988
           ],
           "y": [
            0.1607989653685874,
            0.1682713033481823
           ],
           "type": "scatter"
          },
          {
           "line": {
            "color": "green",
            "width": 0.5
           },
           "marker": {
            "color": "black",
            "size": 6
           },
           "mode": "lines+markers",
           "name": "saccedes",
           "showlegend": false,
           "x": [
            0.3533215010141988,
            0.4969574036511156
           ],
           "y": [
            0.1682713033481823,
            0.15964937491018827
           ],
           "type": "scatter"
          }
         ],
         "layout": {
          "xaxis": {
           "automargin": false,
           "range": [
            0.2533215010141988,
            0.9851419878296147
           ]
          },
          "yaxis": {
           "automargin": false,
           "range": [
            0.05964937491018826,
            0.6983618335967812
           ]
          }
         },
         "name": "24"
        }
       ],
       "config": {
        "plotlyServerURL": "https://plot.ly"
       }
      }
     },
     "metadata": {},
     "output_type": "display_data"
    }
   ],
   "execution_count": 9
  },
  {
   "cell_type": "markdown",
   "id": "72f941cbdb201ab0",
   "metadata": {},
   "source": [
    "## Tracker animation\n",
    "You can also animate the movement of the tracker on screen. This function has the same parameters as the previous function, but this also can color the fixations due to the label in the AOI columns. Moreover, you can add extra data to the fixation, for example, duration."
   ]
  },
  {
   "cell_type": "code",
   "id": "b18480c697b52f50",
   "metadata": {
    "ExecuteTime": {
     "end_time": "2025-08-09T08:46:04.301536Z",
     "start_time": "2025-08-09T08:45:11.383085Z"
    }
   },
   "source": [
    "aoi_color[\"aoi_2\"] = \"yellow\"\n",
    "tracker_animation(record, x=x, y=y, add_regression=True, rule=(2,), animation_duration=500, aoi=aoi, aoi_c=aoi_color, meta_data=[duration], save_gif=\"tracker.gif\")"
   ],
   "outputs": [
    {
     "data": {
      "application/vnd.plotly.v1+json": {
       "data": [
        {
         "line": {
          "color": "green",
          "width": 0.5
         },
         "mode": "lines",
         "name": "saccades",
         "showlegend": true,
         "x": [
          0.3995943204868154,
          0.5300456389452334
         ],
         "y": [
          0.5798246874550942,
          0.5901710015806869
         ],
         "type": "scatter"
        },
        {
         "line": {
          "color": "green",
          "width": 0.5
         },
         "mode": "lines",
         "name": "saccades",
         "showlegend": false,
         "x": [
          0.5300456389452334,
          0.5564148073022313
         ],
         "y": [
          0.5901710015806869,
          0.5983618335967812
         ],
         "type": "scatter"
        },
        {
         "line": {
          "color": "green",
          "width": 0.5
         },
         "mode": "lines",
         "name": "saccades",
         "showlegend": false,
         "x": [
          0.5564148073022313,
          0.7177991886409737
         ],
         "y": [
          0.5983618335967812,
          0.5893088087368875
         ],
         "type": "scatter"
        },
        {
         "line": {
          "color": "green",
          "width": 0.5
         },
         "mode": "lines",
         "name": "saccades",
         "showlegend": false,
         "x": [
          0.7177991886409737,
          0.7653397565922921
         ],
         "y": [
          0.5893088087368875,
          0.5893088087368875
         ],
         "type": "scatter"
        },
        {
         "line": {
          "color": "green",
          "width": 0.5
         },
         "mode": "lines",
         "name": "saccades",
         "showlegend": false,
         "x": [
          0.7653397565922921,
          0.4050456389452332
         ],
         "y": [
          0.5893088087368875,
          0.4923121138094554
         ],
         "type": "scatter"
        },
        {
         "line": {
          "color": "green",
          "width": 0.5
         },
         "mode": "lines",
         "name": "saccades",
         "showlegend": false,
         "x": [
          0.4050456389452332,
          0.6001521298174443
         ],
         "y": [
          0.4923121138094554,
          0.5032332231642478
         ],
         "type": "scatter"
        },
        {
         "line": {
          "color": "green",
          "width": 0.5
         },
         "mode": "lines",
         "name": "saccades",
         "showlegend": false,
         "x": [
          0.6001521298174443,
          0.7365618661257607
         ],
         "y": [
          0.5032332231642478,
          0.511567753987642
         ],
         "type": "scatter"
        },
        {
         "line": {
          "color": "green",
          "width": 0.5
         },
         "mode": "lines",
         "name": "saccades",
         "showlegend": false,
         "x": [
          0.7365618661257607,
          0.8851419878296147
         ],
         "y": [
          0.511567753987642,
          0.5035206207788475
         ],
         "type": "scatter"
        },
        {
         "line": {
          "color": "green",
          "width": 0.5
         },
         "mode": "lines",
         "name": "saccades",
         "showlegend": false,
         "x": [
          0.8851419878296147,
          0.414553752535497
         ],
         "y": [
          0.5035206207788475,
          0.4000574795229199
         ],
         "type": "scatter"
        },
        {
         "line": {
          "color": "green",
          "width": 0.5
         },
         "mode": "lines",
         "name": "saccades",
         "showlegend": false,
         "x": [
          0.414553752535497,
          0.6257606490872212
         ],
         "y": [
          0.4000574795229199,
          0.4151458542894094
         ],
         "type": "scatter"
        },
        {
         "line": {
          "color": "green",
          "width": 0.5
         },
         "mode": "lines",
         "name": "saccades",
         "showlegend": false,
         "x": [
          0.6257606490872212,
          0.7818204868154159
         ],
         "y": [
          0.4151458542894094,
          0.42621066245150163
         ],
         "type": "scatter"
        },
        {
         "line": {
          "color": "green",
          "width": 0.5
         },
         "mode": "lines",
         "name": "saccades",
         "showlegend": false,
         "x": [
          0.7818204868154159,
          0.3913539553752536
         ],
         "y": [
          0.42621066245150163,
          0.3292139675240695
         ],
         "type": "scatter"
        },
        {
         "line": {
          "color": "red",
          "width": 0.5
         },
         "mode": "lines",
         "name": "regressions",
         "showlegend": true,
         "x": [
          0.3913539553752536,
          0.353448275862069
         ],
         "y": [
          0.3292139675240695,
          0.32950136513866934
         ],
         "type": "scatter"
        },
        {
         "line": {
          "color": "green",
          "width": 0.5
         },
         "mode": "lines",
         "name": "saccades",
         "showlegend": false,
         "x": [
          0.353448275862069,
          0.5998985801217038
         ],
         "y": [
          0.32950136513866934,
          0.31958614743497626
         ],
         "type": "scatter"
        },
        {
         "line": {
          "color": "green",
          "width": 0.5
         },
         "mode": "lines",
         "name": "saccades",
         "showlegend": false,
         "x": [
          0.5998985801217038,
          0.6905425963488845
         ],
         "y": [
          0.31958614743497626,
          0.3267710877999712
         ],
         "type": "scatter"
        },
        {
         "line": {
          "color": "red",
          "width": 0.5
         },
         "mode": "lines",
         "name": "regressions",
         "showlegend": false,
         "x": [
          0.6905425963488845,
          0.5773326572008114
         ],
         "y": [
          0.3267710877999712,
          0.33136944963356796
         ],
         "type": "scatter"
        },
        {
         "line": {
          "color": "green",
          "width": 0.5
         },
         "mode": "lines",
         "name": "saccades",
         "showlegend": false,
         "x": [
          0.5773326572008114,
          0.7838488843813387
         ],
         "y": [
          0.33136944963356796,
          0.3306509555970685
         ],
         "type": "scatter"
        },
        {
         "line": {
          "color": "green",
          "width": 0.5
         },
         "mode": "lines",
         "name": "saccades",
         "showlegend": false,
         "x": [
          0.7838488843813387,
          0.4141734279918864
         ],
         "y": [
          0.3306509555970685,
          0.25894525075441865
         ],
         "type": "scatter"
        },
        {
         "line": {
          "color": "green",
          "width": 0.5
         },
         "mode": "lines",
         "name": "saccades",
         "showlegend": false,
         "x": [
          0.4141734279918864,
          0.3857758620689656
         ],
         "y": [
          0.25894525075441865,
          0.24802414139962647
         ],
         "type": "scatter"
        },
        {
         "line": {
          "color": "green",
          "width": 0.5
         },
         "mode": "lines",
         "name": "saccades",
         "showlegend": false,
         "x": [
          0.3857758620689656,
          0.575684584178499
         ],
         "y": [
          0.24802414139962647,
          0.23782152608133356
         ],
         "type": "scatter"
        },
        {
         "line": {
          "color": "green",
          "width": 0.5
         },
         "mode": "lines",
         "name": "saccades",
         "showlegend": false,
         "x": [
          0.575684584178499,
          0.7554513184584178
         ],
         "y": [
          0.23782152608133356,
          0.22848110360684004
         ],
         "type": "scatter"
        },
        {
         "line": {
          "color": "green",
          "width": 0.5
         },
         "mode": "lines",
         "name": "saccades",
         "showlegend": false,
         "x": [
          0.7554513184584178,
          0.4461206896551724
         ],
         "y": [
          0.22848110360684004,
          0.1607989653685874
         ],
         "type": "scatter"
        },
        {
         "line": {
          "color": "red",
          "width": 0.5
         },
         "mode": "lines",
         "name": "regressions",
         "showlegend": false,
         "x": [
          0.4461206896551724,
          0.3533215010141988
         ],
         "y": [
          0.1607989653685874,
          0.1682713033481823
         ],
         "type": "scatter"
        },
        {
         "line": {
          "color": "green",
          "width": 0.5
         },
         "mode": "lines",
         "name": "saccades",
         "showlegend": false,
         "x": [
          0.3533215010141988,
          0.4969574036511156
         ],
         "y": [
          0.1682713033481823,
          0.15964937491018827
         ],
         "type": "scatter"
        },
        {
         "marker": {
          "color": "green",
          "size": 6
         },
         "mode": "markers",
         "name": "aoi_1",
         "text": [
          "duration: 182",
          "duration: 269",
          "duration: 123",
          "duration: 248",
          "duration: 247",
          "duration: 195",
          "duration: 127",
          "duration: 195",
          "duration: 97",
          "duration: 197"
         ],
         "x": {
          "dtype": "f8",
          "bdata": "MiCKDvSS2T/LB5VFIvbgP3bxC20mzuE/kw8qi0Ts2T8EvWR2DIjaPyfO33XxC9k/We5phOWe1j8yOwZE0YHaP9UIyz2NsNg/aBj1yNGc1j8="
         },
         "y": {
          "dtype": "f8",
          "bdata": "wQ7BgOyN4j+MxdpLruLiP+0gT7fHJeM/kh4PqwqC3z9ojcSviprZPwi/+XXXEdU/FILQ5IwW1T++dtwZj5LQPygG90tBv88/rCxeAOqJxT8="
         },
         "type": "scatter"
        },
        {
         "marker": {
          "color": "yellow",
          "size": 6
         },
         "mode": "markers",
         "name": "aoi_2",
         "text": [
          "duration: 207",
          "duration: 81",
          "duration: 171",
          "duration: 159",
          "duration: 118",
          "duration: 113",
          "duration: 124"
         ],
         "x": {
          "dtype": "f8",
          "bdata": "u90JATb45j9SjxzNqX3oP/cZRj1yNOM/OrXPMOqR5z+SbUFKFVPsP17hxmWsBOk/4JBtQUoV6T8="
         },
         "y": {
          "dtype": "f8",
          "bdata": "+6CYJZ7b4j/7oJglntviPyAJeI98GuA/RBWiVsNe4D+lauNG1xzgP2ziGxYJR9s/QI4roGIp1T8="
         },
         "type": "scatter"
        },
        {
         "marker": {
          "color": "blue",
          "size": 6
         },
         "mode": "markers",
         "name": "aoi_0",
         "text": [
          "duration: 193",
          "duration: 219",
          "duration: 185",
          "duration: 83",
          "duration: 229",
          "duration: 244",
          "duration: 234",
          "duration: 139"
         ],
         "x": {
          "dtype": "f8",
          "bdata": "0oFeMjsG5D8GRNGBXjLjP0YHesnsGOY/ceMyVoJ54j/WdLsTAmziP7H3Tz6oLOg/3NMIyz2N3D928QttJs7fPw=="
         },
         "y": {
          "dtype": "f8",
          "bdata": "Oo3P6r+R2j8OOd90GXTUPyhF2EfR6dQ/3HVENSg11T8E7maO73DOPyRo32nePs0/XI6+fA+VxD8EdggGZG/EPw=="
         },
         "type": "scatter"
        },
        {
         "marker": {
          "color": "red"
         },
         "mode": "markers",
         "name": "tracker",
         "x": [
          0.3995943204868154
         ],
         "y": [
          0.5798246874550942
         ],
         "type": "scatter"
        }
       ],
       "layout": {
        "height": 600,
        "sliders": [
         {
          "active": 0,
          "currentvalue": {
           "font": {
            "size": 20
           },
           "prefix": "Index:",
           "visible": true,
           "xanchor": "right"
          },
          "len": 0.9,
          "pad": {
           "b": 10,
           "t": 50
          },
          "steps": [
           {
            "args": [
             [
              "0"
             ],
             {
              "frame": {
               "duration": 300,
               "redraw": false
              },
              "mode": "immediate",
              "transition": {
               "duration": 300
              }
             }
            ],
            "label": "0",
            "method": "animate"
           },
           {
            "args": [
             [
              "1"
             ],
             {
              "frame": {
               "duration": 300,
               "redraw": false
              },
              "mode": "immediate",
              "transition": {
               "duration": 300
              }
             }
            ],
            "label": "1",
            "method": "animate"
           },
           {
            "args": [
             [
              "2"
             ],
             {
              "frame": {
               "duration": 300,
               "redraw": false
              },
              "mode": "immediate",
              "transition": {
               "duration": 300
              }
             }
            ],
            "label": "2",
            "method": "animate"
           },
           {
            "args": [
             [
              "3"
             ],
             {
              "frame": {
               "duration": 300,
               "redraw": false
              },
              "mode": "immediate",
              "transition": {
               "duration": 300
              }
             }
            ],
            "label": "3",
            "method": "animate"
           },
           {
            "args": [
             [
              "4"
             ],
             {
              "frame": {
               "duration": 300,
               "redraw": false
              },
              "mode": "immediate",
              "transition": {
               "duration": 300
              }
             }
            ],
            "label": "4",
            "method": "animate"
           },
           {
            "args": [
             [
              "5"
             ],
             {
              "frame": {
               "duration": 300,
               "redraw": false
              },
              "mode": "immediate",
              "transition": {
               "duration": 300
              }
             }
            ],
            "label": "5",
            "method": "animate"
           },
           {
            "args": [
             [
              "6"
             ],
             {
              "frame": {
               "duration": 300,
               "redraw": false
              },
              "mode": "immediate",
              "transition": {
               "duration": 300
              }
             }
            ],
            "label": "6",
            "method": "animate"
           },
           {
            "args": [
             [
              "7"
             ],
             {
              "frame": {
               "duration": 300,
               "redraw": false
              },
              "mode": "immediate",
              "transition": {
               "duration": 300
              }
             }
            ],
            "label": "7",
            "method": "animate"
           },
           {
            "args": [
             [
              "8"
             ],
             {
              "frame": {
               "duration": 300,
               "redraw": false
              },
              "mode": "immediate",
              "transition": {
               "duration": 300
              }
             }
            ],
            "label": "8",
            "method": "animate"
           },
           {
            "args": [
             [
              "9"
             ],
             {
              "frame": {
               "duration": 300,
               "redraw": false
              },
              "mode": "immediate",
              "transition": {
               "duration": 300
              }
             }
            ],
            "label": "9",
            "method": "animate"
           },
           {
            "args": [
             [
              "10"
             ],
             {
              "frame": {
               "duration": 300,
               "redraw": false
              },
              "mode": "immediate",
              "transition": {
               "duration": 300
              }
             }
            ],
            "label": "10",
            "method": "animate"
           },
           {
            "args": [
             [
              "11"
             ],
             {
              "frame": {
               "duration": 300,
               "redraw": false
              },
              "mode": "immediate",
              "transition": {
               "duration": 300
              }
             }
            ],
            "label": "11",
            "method": "animate"
           },
           {
            "args": [
             [
              "12"
             ],
             {
              "frame": {
               "duration": 300,
               "redraw": false
              },
              "mode": "immediate",
              "transition": {
               "duration": 300
              }
             }
            ],
            "label": "12",
            "method": "animate"
           },
           {
            "args": [
             [
              "13"
             ],
             {
              "frame": {
               "duration": 300,
               "redraw": false
              },
              "mode": "immediate",
              "transition": {
               "duration": 300
              }
             }
            ],
            "label": "13",
            "method": "animate"
           },
           {
            "args": [
             [
              "14"
             ],
             {
              "frame": {
               "duration": 300,
               "redraw": false
              },
              "mode": "immediate",
              "transition": {
               "duration": 300
              }
             }
            ],
            "label": "14",
            "method": "animate"
           },
           {
            "args": [
             [
              "15"
             ],
             {
              "frame": {
               "duration": 300,
               "redraw": false
              },
              "mode": "immediate",
              "transition": {
               "duration": 300
              }
             }
            ],
            "label": "15",
            "method": "animate"
           },
           {
            "args": [
             [
              "16"
             ],
             {
              "frame": {
               "duration": 300,
               "redraw": false
              },
              "mode": "immediate",
              "transition": {
               "duration": 300
              }
             }
            ],
            "label": "16",
            "method": "animate"
           },
           {
            "args": [
             [
              "17"
             ],
             {
              "frame": {
               "duration": 300,
               "redraw": false
              },
              "mode": "immediate",
              "transition": {
               "duration": 300
              }
             }
            ],
            "label": "17",
            "method": "animate"
           },
           {
            "args": [
             [
              "18"
             ],
             {
              "frame": {
               "duration": 300,
               "redraw": false
              },
              "mode": "immediate",
              "transition": {
               "duration": 300
              }
             }
            ],
            "label": "18",
            "method": "animate"
           },
           {
            "args": [
             [
              "19"
             ],
             {
              "frame": {
               "duration": 300,
               "redraw": false
              },
              "mode": "immediate",
              "transition": {
               "duration": 300
              }
             }
            ],
            "label": "19",
            "method": "animate"
           },
           {
            "args": [
             [
              "20"
             ],
             {
              "frame": {
               "duration": 300,
               "redraw": false
              },
              "mode": "immediate",
              "transition": {
               "duration": 300
              }
             }
            ],
            "label": "20",
            "method": "animate"
           },
           {
            "args": [
             [
              "21"
             ],
             {
              "frame": {
               "duration": 300,
               "redraw": false
              },
              "mode": "immediate",
              "transition": {
               "duration": 300
              }
             }
            ],
            "label": "21",
            "method": "animate"
           },
           {
            "args": [
             [
              "22"
             ],
             {
              "frame": {
               "duration": 300,
               "redraw": false
              },
              "mode": "immediate",
              "transition": {
               "duration": 300
              }
             }
            ],
            "label": "22",
            "method": "animate"
           },
           {
            "args": [
             [
              "23"
             ],
             {
              "frame": {
               "duration": 300,
               "redraw": false
              },
              "mode": "immediate",
              "transition": {
               "duration": 300
              }
             }
            ],
            "label": "23",
            "method": "animate"
           },
           {
            "args": [
             [
              "24"
             ],
             {
              "frame": {
               "duration": 300,
               "redraw": false
              },
              "mode": "immediate",
              "transition": {
               "duration": 300
              }
             }
            ],
            "label": "24",
            "method": "animate"
           }
          ],
          "transition": {
           "duration": 300,
           "easing": "cubic-in-out"
          },
          "x": 0.1,
          "xanchor": "left",
          "y": 0.0,
          "yanchor": "top"
         }
        ],
        "updatemenus": [
         {
          "buttons": [
           {
            "args": [
             null,
             {
              "frame": {
               "duration": 500,
               "redraw": false
              },
              "fromcurrent": true,
              "transition": {
               "duration": 300,
               "easing": "quadratic-in-out"
              }
             }
            ],
            "label": "Play",
            "method": "animate"
           },
           {
            "args": [
             [
              null
             ],
             {
              "frame": {
               "duration": 0,
               "redraw": false
              },
              "mode": "immediate",
              "transition": {
               "duration": 0
              }
             }
            ],
            "label": "Pause",
            "method": "animate"
           }
          ],
          "direction": "left",
          "pad": {
           "r": 10,
           "t": 87
          },
          "showactive": false,
          "type": "buttons",
          "x": 0.1,
          "xanchor": "right",
          "y": 0.0,
          "yanchor": "top"
         }
        ],
        "width": 600,
        "template": {
         "data": {
          "histogram2dcontour": [
           {
            "type": "histogram2dcontour",
            "colorbar": {
             "outlinewidth": 0,
             "ticks": ""
            },
            "colorscale": [
             [
              0.0,
              "#0d0887"
             ],
             [
              0.1111111111111111,
              "#46039f"
             ],
             [
              0.2222222222222222,
              "#7201a8"
             ],
             [
              0.3333333333333333,
              "#9c179e"
             ],
             [
              0.4444444444444444,
              "#bd3786"
             ],
             [
              0.5555555555555556,
              "#d8576b"
             ],
             [
              0.6666666666666666,
              "#ed7953"
             ],
             [
              0.7777777777777778,
              "#fb9f3a"
             ],
             [
              0.8888888888888888,
              "#fdca26"
             ],
             [
              1.0,
              "#f0f921"
             ]
            ]
           }
          ],
          "choropleth": [
           {
            "type": "choropleth",
            "colorbar": {
             "outlinewidth": 0,
             "ticks": ""
            }
           }
          ],
          "histogram2d": [
           {
            "type": "histogram2d",
            "colorbar": {
             "outlinewidth": 0,
             "ticks": ""
            },
            "colorscale": [
             [
              0.0,
              "#0d0887"
             ],
             [
              0.1111111111111111,
              "#46039f"
             ],
             [
              0.2222222222222222,
              "#7201a8"
             ],
             [
              0.3333333333333333,
              "#9c179e"
             ],
             [
              0.4444444444444444,
              "#bd3786"
             ],
             [
              0.5555555555555556,
              "#d8576b"
             ],
             [
              0.6666666666666666,
              "#ed7953"
             ],
             [
              0.7777777777777778,
              "#fb9f3a"
             ],
             [
              0.8888888888888888,
              "#fdca26"
             ],
             [
              1.0,
              "#f0f921"
             ]
            ]
           }
          ],
          "heatmap": [
           {
            "type": "heatmap",
            "colorbar": {
             "outlinewidth": 0,
             "ticks": ""
            },
            "colorscale": [
             [
              0.0,
              "#0d0887"
             ],
             [
              0.1111111111111111,
              "#46039f"
             ],
             [
              0.2222222222222222,
              "#7201a8"
             ],
             [
              0.3333333333333333,
              "#9c179e"
             ],
             [
              0.4444444444444444,
              "#bd3786"
             ],
             [
              0.5555555555555556,
              "#d8576b"
             ],
             [
              0.6666666666666666,
              "#ed7953"
             ],
             [
              0.7777777777777778,
              "#fb9f3a"
             ],
             [
              0.8888888888888888,
              "#fdca26"
             ],
             [
              1.0,
              "#f0f921"
             ]
            ]
           }
          ],
          "contourcarpet": [
           {
            "type": "contourcarpet",
            "colorbar": {
             "outlinewidth": 0,
             "ticks": ""
            }
           }
          ],
          "contour": [
           {
            "type": "contour",
            "colorbar": {
             "outlinewidth": 0,
             "ticks": ""
            },
            "colorscale": [
             [
              0.0,
              "#0d0887"
             ],
             [
              0.1111111111111111,
              "#46039f"
             ],
             [
              0.2222222222222222,
              "#7201a8"
             ],
             [
              0.3333333333333333,
              "#9c179e"
             ],
             [
              0.4444444444444444,
              "#bd3786"
             ],
             [
              0.5555555555555556,
              "#d8576b"
             ],
             [
              0.6666666666666666,
              "#ed7953"
             ],
             [
              0.7777777777777778,
              "#fb9f3a"
             ],
             [
              0.8888888888888888,
              "#fdca26"
             ],
             [
              1.0,
              "#f0f921"
             ]
            ]
           }
          ],
          "surface": [
           {
            "type": "surface",
            "colorbar": {
             "outlinewidth": 0,
             "ticks": ""
            },
            "colorscale": [
             [
              0.0,
              "#0d0887"
             ],
             [
              0.1111111111111111,
              "#46039f"
             ],
             [
              0.2222222222222222,
              "#7201a8"
             ],
             [
              0.3333333333333333,
              "#9c179e"
             ],
             [
              0.4444444444444444,
              "#bd3786"
             ],
             [
              0.5555555555555556,
              "#d8576b"
             ],
             [
              0.6666666666666666,
              "#ed7953"
             ],
             [
              0.7777777777777778,
              "#fb9f3a"
             ],
             [
              0.8888888888888888,
              "#fdca26"
             ],
             [
              1.0,
              "#f0f921"
             ]
            ]
           }
          ],
          "mesh3d": [
           {
            "type": "mesh3d",
            "colorbar": {
             "outlinewidth": 0,
             "ticks": ""
            }
           }
          ],
          "scatter": [
           {
            "fillpattern": {
             "fillmode": "overlay",
             "size": 10,
             "solidity": 0.2
            },
            "type": "scatter"
           }
          ],
          "parcoords": [
           {
            "type": "parcoords",
            "line": {
             "colorbar": {
              "outlinewidth": 0,
              "ticks": ""
             }
            }
           }
          ],
          "scatterpolargl": [
           {
            "type": "scatterpolargl",
            "marker": {
             "colorbar": {
              "outlinewidth": 0,
              "ticks": ""
             }
            }
           }
          ],
          "bar": [
           {
            "error_x": {
             "color": "#2a3f5f"
            },
            "error_y": {
             "color": "#2a3f5f"
            },
            "marker": {
             "line": {
              "color": "#E5ECF6",
              "width": 0.5
             },
             "pattern": {
              "fillmode": "overlay",
              "size": 10,
              "solidity": 0.2
             }
            },
            "type": "bar"
           }
          ],
          "scattergeo": [
           {
            "type": "scattergeo",
            "marker": {
             "colorbar": {
              "outlinewidth": 0,
              "ticks": ""
             }
            }
           }
          ],
          "scatterpolar": [
           {
            "type": "scatterpolar",
            "marker": {
             "colorbar": {
              "outlinewidth": 0,
              "ticks": ""
             }
            }
           }
          ],
          "histogram": [
           {
            "marker": {
             "pattern": {
              "fillmode": "overlay",
              "size": 10,
              "solidity": 0.2
             }
            },
            "type": "histogram"
           }
          ],
          "scattergl": [
           {
            "type": "scattergl",
            "marker": {
             "colorbar": {
              "outlinewidth": 0,
              "ticks": ""
             }
            }
           }
          ],
          "scatter3d": [
           {
            "type": "scatter3d",
            "line": {
             "colorbar": {
              "outlinewidth": 0,
              "ticks": ""
             }
            },
            "marker": {
             "colorbar": {
              "outlinewidth": 0,
              "ticks": ""
             }
            }
           }
          ],
          "scattermap": [
           {
            "type": "scattermap",
            "marker": {
             "colorbar": {
              "outlinewidth": 0,
              "ticks": ""
             }
            }
           }
          ],
          "scattermapbox": [
           {
            "type": "scattermapbox",
            "marker": {
             "colorbar": {
              "outlinewidth": 0,
              "ticks": ""
             }
            }
           }
          ],
          "scatterternary": [
           {
            "type": "scatterternary",
            "marker": {
             "colorbar": {
              "outlinewidth": 0,
              "ticks": ""
             }
            }
           }
          ],
          "scattercarpet": [
           {
            "type": "scattercarpet",
            "marker": {
             "colorbar": {
              "outlinewidth": 0,
              "ticks": ""
             }
            }
           }
          ],
          "carpet": [
           {
            "aaxis": {
             "endlinecolor": "#2a3f5f",
             "gridcolor": "white",
             "linecolor": "white",
             "minorgridcolor": "white",
             "startlinecolor": "#2a3f5f"
            },
            "baxis": {
             "endlinecolor": "#2a3f5f",
             "gridcolor": "white",
             "linecolor": "white",
             "minorgridcolor": "white",
             "startlinecolor": "#2a3f5f"
            },
            "type": "carpet"
           }
          ],
          "table": [
           {
            "cells": {
             "fill": {
              "color": "#EBF0F8"
             },
             "line": {
              "color": "white"
             }
            },
            "header": {
             "fill": {
              "color": "#C8D4E3"
             },
             "line": {
              "color": "white"
             }
            },
            "type": "table"
           }
          ],
          "barpolar": [
           {
            "marker": {
             "line": {
              "color": "#E5ECF6",
              "width": 0.5
             },
             "pattern": {
              "fillmode": "overlay",
              "size": 10,
              "solidity": 0.2
             }
            },
            "type": "barpolar"
           }
          ],
          "pie": [
           {
            "automargin": true,
            "type": "pie"
           }
          ]
         },
         "layout": {
          "autotypenumbers": "strict",
          "colorway": [
           "#636efa",
           "#EF553B",
           "#00cc96",
           "#ab63fa",
           "#FFA15A",
           "#19d3f3",
           "#FF6692",
           "#B6E880",
           "#FF97FF",
           "#FECB52"
          ],
          "font": {
           "color": "#2a3f5f"
          },
          "hovermode": "closest",
          "hoverlabel": {
           "align": "left"
          },
          "paper_bgcolor": "white",
          "plot_bgcolor": "#E5ECF6",
          "polar": {
           "bgcolor": "#E5ECF6",
           "angularaxis": {
            "gridcolor": "white",
            "linecolor": "white",
            "ticks": ""
           },
           "radialaxis": {
            "gridcolor": "white",
            "linecolor": "white",
            "ticks": ""
           }
          },
          "ternary": {
           "bgcolor": "#E5ECF6",
           "aaxis": {
            "gridcolor": "white",
            "linecolor": "white",
            "ticks": ""
           },
           "baxis": {
            "gridcolor": "white",
            "linecolor": "white",
            "ticks": ""
           },
           "caxis": {
            "gridcolor": "white",
            "linecolor": "white",
            "ticks": ""
           }
          },
          "coloraxis": {
           "colorbar": {
            "outlinewidth": 0,
            "ticks": ""
           }
          },
          "colorscale": {
           "sequential": [
            [
             0.0,
             "#0d0887"
            ],
            [
             0.1111111111111111,
             "#46039f"
            ],
            [
             0.2222222222222222,
             "#7201a8"
            ],
            [
             0.3333333333333333,
             "#9c179e"
            ],
            [
             0.4444444444444444,
             "#bd3786"
            ],
            [
             0.5555555555555556,
             "#d8576b"
            ],
            [
             0.6666666666666666,
             "#ed7953"
            ],
            [
             0.7777777777777778,
             "#fb9f3a"
            ],
            [
             0.8888888888888888,
             "#fdca26"
            ],
            [
             1.0,
             "#f0f921"
            ]
           ],
           "sequentialminus": [
            [
             0.0,
             "#0d0887"
            ],
            [
             0.1111111111111111,
             "#46039f"
            ],
            [
             0.2222222222222222,
             "#7201a8"
            ],
            [
             0.3333333333333333,
             "#9c179e"
            ],
            [
             0.4444444444444444,
             "#bd3786"
            ],
            [
             0.5555555555555556,
             "#d8576b"
            ],
            [
             0.6666666666666666,
             "#ed7953"
            ],
            [
             0.7777777777777778,
             "#fb9f3a"
            ],
            [
             0.8888888888888888,
             "#fdca26"
            ],
            [
             1.0,
             "#f0f921"
            ]
           ],
           "diverging": [
            [
             0,
             "#8e0152"
            ],
            [
             0.1,
             "#c51b7d"
            ],
            [
             0.2,
             "#de77ae"
            ],
            [
             0.3,
             "#f1b6da"
            ],
            [
             0.4,
             "#fde0ef"
            ],
            [
             0.5,
             "#f7f7f7"
            ],
            [
             0.6,
             "#e6f5d0"
            ],
            [
             0.7,
             "#b8e186"
            ],
            [
             0.8,
             "#7fbc41"
            ],
            [
             0.9,
             "#4d9221"
            ],
            [
             1,
             "#276419"
            ]
           ]
          },
          "xaxis": {
           "gridcolor": "white",
           "linecolor": "white",
           "ticks": "",
           "title": {
            "standoff": 15
           },
           "zerolinecolor": "white",
           "automargin": true,
           "zerolinewidth": 2
          },
          "yaxis": {
           "gridcolor": "white",
           "linecolor": "white",
           "ticks": "",
           "title": {
            "standoff": 15
           },
           "zerolinecolor": "white",
           "automargin": true,
           "zerolinewidth": 2
          },
          "scene": {
           "xaxis": {
            "backgroundcolor": "#E5ECF6",
            "gridcolor": "white",
            "linecolor": "white",
            "showbackground": true,
            "ticks": "",
            "zerolinecolor": "white",
            "gridwidth": 2
           },
           "yaxis": {
            "backgroundcolor": "#E5ECF6",
            "gridcolor": "white",
            "linecolor": "white",
            "showbackground": true,
            "ticks": "",
            "zerolinecolor": "white",
            "gridwidth": 2
           },
           "zaxis": {
            "backgroundcolor": "#E5ECF6",
            "gridcolor": "white",
            "linecolor": "white",
            "showbackground": true,
            "ticks": "",
            "zerolinecolor": "white",
            "gridwidth": 2
           }
          },
          "shapedefaults": {
           "line": {
            "color": "#2a3f5f"
           }
          },
          "annotationdefaults": {
           "arrowcolor": "#2a3f5f",
           "arrowhead": 0,
           "arrowwidth": 1
          },
          "geo": {
           "bgcolor": "white",
           "landcolor": "#E5ECF6",
           "subunitcolor": "white",
           "showland": true,
           "showlakes": true,
           "lakecolor": "white"
          },
          "title": {
           "x": 0.05
          },
          "mapbox": {
           "style": "light"
          }
         }
        }
       },
       "frames": [
        {
         "data": [
          {
           "line": {
            "color": "green",
            "width": 0.5
           },
           "mode": "lines",
           "name": "saccades",
           "showlegend": true,
           "x": [
            0.3995943204868154,
            0.5300456389452334
           ],
           "y": [
            0.5798246874550942,
            0.5901710015806869
           ],
           "type": "scatter"
          },
          {
           "line": {
            "color": "green",
            "width": 0.5
           },
           "mode": "lines",
           "name": "saccades",
           "showlegend": false,
           "x": [
            0.5300456389452334,
            0.5564148073022313
           ],
           "y": [
            0.5901710015806869,
            0.5983618335967812
           ],
           "type": "scatter"
          },
          {
           "line": {
            "color": "green",
            "width": 0.5
           },
           "mode": "lines",
           "name": "saccades",
           "showlegend": false,
           "x": [
            0.5564148073022313,
            0.7177991886409737
           ],
           "y": [
            0.5983618335967812,
            0.5893088087368875
           ],
           "type": "scatter"
          },
          {
           "line": {
            "color": "green",
            "width": 0.5
           },
           "mode": "lines",
           "name": "saccades",
           "showlegend": false,
           "x": [
            0.7177991886409737,
            0.7653397565922921
           ],
           "y": [
            0.5893088087368875,
            0.5893088087368875
           ],
           "type": "scatter"
          },
          {
           "line": {
            "color": "green",
            "width": 0.5
           },
           "mode": "lines",
           "name": "saccades",
           "showlegend": false,
           "x": [
            0.7653397565922921,
            0.4050456389452332
           ],
           "y": [
            0.5893088087368875,
            0.4923121138094554
           ],
           "type": "scatter"
          },
          {
           "line": {
            "color": "green",
            "width": 0.5
           },
           "mode": "lines",
           "name": "saccades",
           "showlegend": false,
           "x": [
            0.4050456389452332,
            0.6001521298174443
           ],
           "y": [
            0.4923121138094554,
            0.5032332231642478
           ],
           "type": "scatter"
          },
          {
           "line": {
            "color": "green",
            "width": 0.5
           },
           "mode": "lines",
           "name": "saccades",
           "showlegend": false,
           "x": [
            0.6001521298174443,
            0.7365618661257607
           ],
           "y": [
            0.5032332231642478,
            0.511567753987642
           ],
           "type": "scatter"
          },
          {
           "line": {
            "color": "green",
            "width": 0.5
           },
           "mode": "lines",
           "name": "saccades",
           "showlegend": false,
           "x": [
            0.7365618661257607,
            0.8851419878296147
           ],
           "y": [
            0.511567753987642,
            0.5035206207788475
           ],
           "type": "scatter"
          },
          {
           "line": {
            "color": "green",
            "width": 0.5
           },
           "mode": "lines",
           "name": "saccades",
           "showlegend": false,
           "x": [
            0.8851419878296147,
            0.414553752535497
           ],
           "y": [
            0.5035206207788475,
            0.4000574795229199
           ],
           "type": "scatter"
          },
          {
           "line": {
            "color": "green",
            "width": 0.5
           },
           "mode": "lines",
           "name": "saccades",
           "showlegend": false,
           "x": [
            0.414553752535497,
            0.6257606490872212
           ],
           "y": [
            0.4000574795229199,
            0.4151458542894094
           ],
           "type": "scatter"
          },
          {
           "line": {
            "color": "green",
            "width": 0.5
           },
           "mode": "lines",
           "name": "saccades",
           "showlegend": false,
           "x": [
            0.6257606490872212,
            0.7818204868154159
           ],
           "y": [
            0.4151458542894094,
            0.42621066245150163
           ],
           "type": "scatter"
          },
          {
           "line": {
            "color": "green",
            "width": 0.5
           },
           "mode": "lines",
           "name": "saccades",
           "showlegend": false,
           "x": [
            0.7818204868154159,
            0.3913539553752536
           ],
           "y": [
            0.42621066245150163,
            0.3292139675240695
           ],
           "type": "scatter"
          },
          {
           "line": {
            "color": "red",
            "width": 0.5
           },
           "mode": "lines",
           "name": "regressions",
           "showlegend": true,
           "x": [
            0.3913539553752536,
            0.353448275862069
           ],
           "y": [
            0.3292139675240695,
            0.32950136513866934
           ],
           "type": "scatter"
          },
          {
           "line": {
            "color": "green",
            "width": 0.5
           },
           "mode": "lines",
           "name": "saccades",
           "showlegend": false,
           "x": [
            0.353448275862069,
            0.5998985801217038
           ],
           "y": [
            0.32950136513866934,
            0.31958614743497626
           ],
           "type": "scatter"
          },
          {
           "line": {
            "color": "green",
            "width": 0.5
           },
           "mode": "lines",
           "name": "saccades",
           "showlegend": false,
           "x": [
            0.5998985801217038,
            0.6905425963488845
           ],
           "y": [
            0.31958614743497626,
            0.3267710877999712
           ],
           "type": "scatter"
          },
          {
           "line": {
            "color": "red",
            "width": 0.5
           },
           "mode": "lines",
           "name": "regressions",
           "showlegend": false,
           "x": [
            0.6905425963488845,
            0.5773326572008114
           ],
           "y": [
            0.3267710877999712,
            0.33136944963356796
           ],
           "type": "scatter"
          },
          {
           "line": {
            "color": "green",
            "width": 0.5
           },
           "mode": "lines",
           "name": "saccades",
           "showlegend": false,
           "x": [
            0.5773326572008114,
            0.7838488843813387
           ],
           "y": [
            0.33136944963356796,
            0.3306509555970685
           ],
           "type": "scatter"
          },
          {
           "line": {
            "color": "green",
            "width": 0.5
           },
           "mode": "lines",
           "name": "saccades",
           "showlegend": false,
           "x": [
            0.7838488843813387,
            0.4141734279918864
           ],
           "y": [
            0.3306509555970685,
            0.25894525075441865
           ],
           "type": "scatter"
          },
          {
           "line": {
            "color": "green",
            "width": 0.5
           },
           "mode": "lines",
           "name": "saccades",
           "showlegend": false,
           "x": [
            0.4141734279918864,
            0.3857758620689656
           ],
           "y": [
            0.25894525075441865,
            0.24802414139962647
           ],
           "type": "scatter"
          },
          {
           "line": {
            "color": "green",
            "width": 0.5
           },
           "mode": "lines",
           "name": "saccades",
           "showlegend": false,
           "x": [
            0.3857758620689656,
            0.575684584178499
           ],
           "y": [
            0.24802414139962647,
            0.23782152608133356
           ],
           "type": "scatter"
          },
          {
           "line": {
            "color": "green",
            "width": 0.5
           },
           "mode": "lines",
           "name": "saccades",
           "showlegend": false,
           "x": [
            0.575684584178499,
            0.7554513184584178
           ],
           "y": [
            0.23782152608133356,
            0.22848110360684004
           ],
           "type": "scatter"
          },
          {
           "line": {
            "color": "green",
            "width": 0.5
           },
           "mode": "lines",
           "name": "saccades",
           "showlegend": false,
           "x": [
            0.7554513184584178,
            0.4461206896551724
           ],
           "y": [
            0.22848110360684004,
            0.1607989653685874
           ],
           "type": "scatter"
          },
          {
           "line": {
            "color": "red",
            "width": 0.5
           },
           "mode": "lines",
           "name": "regressions",
           "showlegend": false,
           "x": [
            0.4461206896551724,
            0.3533215010141988
           ],
           "y": [
            0.1607989653685874,
            0.1682713033481823
           ],
           "type": "scatter"
          },
          {
           "line": {
            "color": "green",
            "width": 0.5
           },
           "mode": "lines",
           "name": "saccades",
           "showlegend": false,
           "x": [
            0.3533215010141988,
            0.4969574036511156
           ],
           "y": [
            0.1682713033481823,
            0.15964937491018827
           ],
           "type": "scatter"
          },
          {
           "marker": {
            "color": "green",
            "size": 6
           },
           "mode": "markers",
           "name": "aoi_1",
           "text": [
            "duration: 182",
            "duration: 269",
            "duration: 123",
            "duration: 248",
            "duration: 247",
            "duration: 195",
            "duration: 127",
            "duration: 195",
            "duration: 97",
            "duration: 197"
           ],
           "x": {
            "dtype": "f8",
            "bdata": "MiCKDvSS2T/LB5VFIvbgP3bxC20mzuE/kw8qi0Ts2T8EvWR2DIjaPyfO33XxC9k/We5phOWe1j8yOwZE0YHaP9UIyz2NsNg/aBj1yNGc1j8="
           },
           "y": {
            "dtype": "f8",
            "bdata": "wQ7BgOyN4j+MxdpLruLiP+0gT7fHJeM/kh4PqwqC3z9ojcSviprZPwi/+XXXEdU/FILQ5IwW1T++dtwZj5LQPygG90tBv88/rCxeAOqJxT8="
           },
           "type": "scatter"
          },
          {
           "marker": {
            "color": "yellow",
            "size": 6
           },
           "mode": "markers",
           "name": "aoi_2",
           "text": [
            "duration: 207",
            "duration: 81",
            "duration: 171",
            "duration: 159",
            "duration: 118",
            "duration: 113",
            "duration: 124"
           ],
           "x": {
            "dtype": "f8",
            "bdata": "u90JATb45j9SjxzNqX3oP/cZRj1yNOM/OrXPMOqR5z+SbUFKFVPsP17hxmWsBOk/4JBtQUoV6T8="
           },
           "y": {
            "dtype": "f8",
            "bdata": "+6CYJZ7b4j/7oJglntviPyAJeI98GuA/RBWiVsNe4D+lauNG1xzgP2ziGxYJR9s/QI4roGIp1T8="
           },
           "type": "scatter"
          },
          {
           "marker": {
            "color": "blue",
            "size": 6
           },
           "mode": "markers",
           "name": "aoi_0",
           "text": [
            "duration: 193",
            "duration: 219",
            "duration: 185",
            "duration: 83",
            "duration: 229",
            "duration: 244",
            "duration: 234",
            "duration: 139"
           ],
           "x": {
            "dtype": "f8",
            "bdata": "0oFeMjsG5D8GRNGBXjLjP0YHesnsGOY/ceMyVoJ54j/WdLsTAmziP7H3Tz6oLOg/3NMIyz2N3D928QttJs7fPw=="
           },
           "y": {
            "dtype": "f8",
            "bdata": "Oo3P6r+R2j8OOd90GXTUPyhF2EfR6dQ/3HVENSg11T8E7maO73DOPyRo32nePs0/XI6+fA+VxD8EdggGZG/EPw=="
           },
           "type": "scatter"
          },
          {
           "marker": {
            "color": "red"
           },
           "mode": "markers",
           "name": "tracker",
           "x": [
            0.3995943204868154
           ],
           "y": [
            0.5798246874550942
           ],
           "type": "scatter"
          }
         ],
         "name": "0"
        },
        {
         "data": [
          {
           "line": {
            "color": "green",
            "width": 0.5
           },
           "mode": "lines",
           "name": "saccades",
           "showlegend": true,
           "x": [
            0.3995943204868154,
            0.5300456389452334
           ],
           "y": [
            0.5798246874550942,
            0.5901710015806869
           ],
           "type": "scatter"
          },
          {
           "line": {
            "color": "green",
            "width": 0.5
           },
           "mode": "lines",
           "name": "saccades",
           "showlegend": false,
           "x": [
            0.5300456389452334,
            0.5564148073022313
           ],
           "y": [
            0.5901710015806869,
            0.5983618335967812
           ],
           "type": "scatter"
          },
          {
           "line": {
            "color": "green",
            "width": 0.5
           },
           "mode": "lines",
           "name": "saccades",
           "showlegend": false,
           "x": [
            0.5564148073022313,
            0.7177991886409737
           ],
           "y": [
            0.5983618335967812,
            0.5893088087368875
           ],
           "type": "scatter"
          },
          {
           "line": {
            "color": "green",
            "width": 0.5
           },
           "mode": "lines",
           "name": "saccades",
           "showlegend": false,
           "x": [
            0.7177991886409737,
            0.7653397565922921
           ],
           "y": [
            0.5893088087368875,
            0.5893088087368875
           ],
           "type": "scatter"
          },
          {
           "line": {
            "color": "green",
            "width": 0.5
           },
           "mode": "lines",
           "name": "saccades",
           "showlegend": false,
           "x": [
            0.7653397565922921,
            0.4050456389452332
           ],
           "y": [
            0.5893088087368875,
            0.4923121138094554
           ],
           "type": "scatter"
          },
          {
           "line": {
            "color": "green",
            "width": 0.5
           },
           "mode": "lines",
           "name": "saccades",
           "showlegend": false,
           "x": [
            0.4050456389452332,
            0.6001521298174443
           ],
           "y": [
            0.4923121138094554,
            0.5032332231642478
           ],
           "type": "scatter"
          },
          {
           "line": {
            "color": "green",
            "width": 0.5
           },
           "mode": "lines",
           "name": "saccades",
           "showlegend": false,
           "x": [
            0.6001521298174443,
            0.7365618661257607
           ],
           "y": [
            0.5032332231642478,
            0.511567753987642
           ],
           "type": "scatter"
          },
          {
           "line": {
            "color": "green",
            "width": 0.5
           },
           "mode": "lines",
           "name": "saccades",
           "showlegend": false,
           "x": [
            0.7365618661257607,
            0.8851419878296147
           ],
           "y": [
            0.511567753987642,
            0.5035206207788475
           ],
           "type": "scatter"
          },
          {
           "line": {
            "color": "green",
            "width": 0.5
           },
           "mode": "lines",
           "name": "saccades",
           "showlegend": false,
           "x": [
            0.8851419878296147,
            0.414553752535497
           ],
           "y": [
            0.5035206207788475,
            0.4000574795229199
           ],
           "type": "scatter"
          },
          {
           "line": {
            "color": "green",
            "width": 0.5
           },
           "mode": "lines",
           "name": "saccades",
           "showlegend": false,
           "x": [
            0.414553752535497,
            0.6257606490872212
           ],
           "y": [
            0.4000574795229199,
            0.4151458542894094
           ],
           "type": "scatter"
          },
          {
           "line": {
            "color": "green",
            "width": 0.5
           },
           "mode": "lines",
           "name": "saccades",
           "showlegend": false,
           "x": [
            0.6257606490872212,
            0.7818204868154159
           ],
           "y": [
            0.4151458542894094,
            0.42621066245150163
           ],
           "type": "scatter"
          },
          {
           "line": {
            "color": "green",
            "width": 0.5
           },
           "mode": "lines",
           "name": "saccades",
           "showlegend": false,
           "x": [
            0.7818204868154159,
            0.3913539553752536
           ],
           "y": [
            0.42621066245150163,
            0.3292139675240695
           ],
           "type": "scatter"
          },
          {
           "line": {
            "color": "red",
            "width": 0.5
           },
           "mode": "lines",
           "name": "regressions",
           "showlegend": true,
           "x": [
            0.3913539553752536,
            0.353448275862069
           ],
           "y": [
            0.3292139675240695,
            0.32950136513866934
           ],
           "type": "scatter"
          },
          {
           "line": {
            "color": "green",
            "width": 0.5
           },
           "mode": "lines",
           "name": "saccades",
           "showlegend": false,
           "x": [
            0.353448275862069,
            0.5998985801217038
           ],
           "y": [
            0.32950136513866934,
            0.31958614743497626
           ],
           "type": "scatter"
          },
          {
           "line": {
            "color": "green",
            "width": 0.5
           },
           "mode": "lines",
           "name": "saccades",
           "showlegend": false,
           "x": [
            0.5998985801217038,
            0.6905425963488845
           ],
           "y": [
            0.31958614743497626,
            0.3267710877999712
           ],
           "type": "scatter"
          },
          {
           "line": {
            "color": "red",
            "width": 0.5
           },
           "mode": "lines",
           "name": "regressions",
           "showlegend": false,
           "x": [
            0.6905425963488845,
            0.5773326572008114
           ],
           "y": [
            0.3267710877999712,
            0.33136944963356796
           ],
           "type": "scatter"
          },
          {
           "line": {
            "color": "green",
            "width": 0.5
           },
           "mode": "lines",
           "name": "saccades",
           "showlegend": false,
           "x": [
            0.5773326572008114,
            0.7838488843813387
           ],
           "y": [
            0.33136944963356796,
            0.3306509555970685
           ],
           "type": "scatter"
          },
          {
           "line": {
            "color": "green",
            "width": 0.5
           },
           "mode": "lines",
           "name": "saccades",
           "showlegend": false,
           "x": [
            0.7838488843813387,
            0.4141734279918864
           ],
           "y": [
            0.3306509555970685,
            0.25894525075441865
           ],
           "type": "scatter"
          },
          {
           "line": {
            "color": "green",
            "width": 0.5
           },
           "mode": "lines",
           "name": "saccades",
           "showlegend": false,
           "x": [
            0.4141734279918864,
            0.3857758620689656
           ],
           "y": [
            0.25894525075441865,
            0.24802414139962647
           ],
           "type": "scatter"
          },
          {
           "line": {
            "color": "green",
            "width": 0.5
           },
           "mode": "lines",
           "name": "saccades",
           "showlegend": false,
           "x": [
            0.3857758620689656,
            0.575684584178499
           ],
           "y": [
            0.24802414139962647,
            0.23782152608133356
           ],
           "type": "scatter"
          },
          {
           "line": {
            "color": "green",
            "width": 0.5
           },
           "mode": "lines",
           "name": "saccades",
           "showlegend": false,
           "x": [
            0.575684584178499,
            0.7554513184584178
           ],
           "y": [
            0.23782152608133356,
            0.22848110360684004
           ],
           "type": "scatter"
          },
          {
           "line": {
            "color": "green",
            "width": 0.5
           },
           "mode": "lines",
           "name": "saccades",
           "showlegend": false,
           "x": [
            0.7554513184584178,
            0.4461206896551724
           ],
           "y": [
            0.22848110360684004,
            0.1607989653685874
           ],
           "type": "scatter"
          },
          {
           "line": {
            "color": "red",
            "width": 0.5
           },
           "mode": "lines",
           "name": "regressions",
           "showlegend": false,
           "x": [
            0.4461206896551724,
            0.3533215010141988
           ],
           "y": [
            0.1607989653685874,
            0.1682713033481823
           ],
           "type": "scatter"
          },
          {
           "line": {
            "color": "green",
            "width": 0.5
           },
           "mode": "lines",
           "name": "saccades",
           "showlegend": false,
           "x": [
            0.3533215010141988,
            0.4969574036511156
           ],
           "y": [
            0.1682713033481823,
            0.15964937491018827
           ],
           "type": "scatter"
          },
          {
           "marker": {
            "color": "green",
            "size": 6
           },
           "mode": "markers",
           "name": "aoi_1",
           "text": [
            "duration: 182",
            "duration: 269",
            "duration: 123",
            "duration: 248",
            "duration: 247",
            "duration: 195",
            "duration: 127",
            "duration: 195",
            "duration: 97",
            "duration: 197"
           ],
           "x": {
            "dtype": "f8",
            "bdata": "MiCKDvSS2T/LB5VFIvbgP3bxC20mzuE/kw8qi0Ts2T8EvWR2DIjaPyfO33XxC9k/We5phOWe1j8yOwZE0YHaP9UIyz2NsNg/aBj1yNGc1j8="
           },
           "y": {
            "dtype": "f8",
            "bdata": "wQ7BgOyN4j+MxdpLruLiP+0gT7fHJeM/kh4PqwqC3z9ojcSviprZPwi/+XXXEdU/FILQ5IwW1T++dtwZj5LQPygG90tBv88/rCxeAOqJxT8="
           },
           "type": "scatter"
          },
          {
           "marker": {
            "color": "yellow",
            "size": 6
           },
           "mode": "markers",
           "name": "aoi_2",
           "text": [
            "duration: 207",
            "duration: 81",
            "duration: 171",
            "duration: 159",
            "duration: 118",
            "duration: 113",
            "duration: 124"
           ],
           "x": {
            "dtype": "f8",
            "bdata": "u90JATb45j9SjxzNqX3oP/cZRj1yNOM/OrXPMOqR5z+SbUFKFVPsP17hxmWsBOk/4JBtQUoV6T8="
           },
           "y": {
            "dtype": "f8",
            "bdata": "+6CYJZ7b4j/7oJglntviPyAJeI98GuA/RBWiVsNe4D+lauNG1xzgP2ziGxYJR9s/QI4roGIp1T8="
           },
           "type": "scatter"
          },
          {
           "marker": {
            "color": "blue",
            "size": 6
           },
           "mode": "markers",
           "name": "aoi_0",
           "text": [
            "duration: 193",
            "duration: 219",
            "duration: 185",
            "duration: 83",
            "duration: 229",
            "duration: 244",
            "duration: 234",
            "duration: 139"
           ],
           "x": {
            "dtype": "f8",
            "bdata": "0oFeMjsG5D8GRNGBXjLjP0YHesnsGOY/ceMyVoJ54j/WdLsTAmziP7H3Tz6oLOg/3NMIyz2N3D928QttJs7fPw=="
           },
           "y": {
            "dtype": "f8",
            "bdata": "Oo3P6r+R2j8OOd90GXTUPyhF2EfR6dQ/3HVENSg11T8E7maO73DOPyRo32nePs0/XI6+fA+VxD8EdggGZG/EPw=="
           },
           "type": "scatter"
          },
          {
           "marker": {
            "color": "red"
           },
           "mode": "markers",
           "name": "tracker",
           "x": [
            0.5300456389452334
           ],
           "y": [
            0.5901710015806869
           ],
           "type": "scatter"
          }
         ],
         "name": "1"
        },
        {
         "data": [
          {
           "line": {
            "color": "green",
            "width": 0.5
           },
           "mode": "lines",
           "name": "saccades",
           "showlegend": true,
           "x": [
            0.3995943204868154,
            0.5300456389452334
           ],
           "y": [
            0.5798246874550942,
            0.5901710015806869
           ],
           "type": "scatter"
          },
          {
           "line": {
            "color": "green",
            "width": 0.5
           },
           "mode": "lines",
           "name": "saccades",
           "showlegend": false,
           "x": [
            0.5300456389452334,
            0.5564148073022313
           ],
           "y": [
            0.5901710015806869,
            0.5983618335967812
           ],
           "type": "scatter"
          },
          {
           "line": {
            "color": "green",
            "width": 0.5
           },
           "mode": "lines",
           "name": "saccades",
           "showlegend": false,
           "x": [
            0.5564148073022313,
            0.7177991886409737
           ],
           "y": [
            0.5983618335967812,
            0.5893088087368875
           ],
           "type": "scatter"
          },
          {
           "line": {
            "color": "green",
            "width": 0.5
           },
           "mode": "lines",
           "name": "saccades",
           "showlegend": false,
           "x": [
            0.7177991886409737,
            0.7653397565922921
           ],
           "y": [
            0.5893088087368875,
            0.5893088087368875
           ],
           "type": "scatter"
          },
          {
           "line": {
            "color": "green",
            "width": 0.5
           },
           "mode": "lines",
           "name": "saccades",
           "showlegend": false,
           "x": [
            0.7653397565922921,
            0.4050456389452332
           ],
           "y": [
            0.5893088087368875,
            0.4923121138094554
           ],
           "type": "scatter"
          },
          {
           "line": {
            "color": "green",
            "width": 0.5
           },
           "mode": "lines",
           "name": "saccades",
           "showlegend": false,
           "x": [
            0.4050456389452332,
            0.6001521298174443
           ],
           "y": [
            0.4923121138094554,
            0.5032332231642478
           ],
           "type": "scatter"
          },
          {
           "line": {
            "color": "green",
            "width": 0.5
           },
           "mode": "lines",
           "name": "saccades",
           "showlegend": false,
           "x": [
            0.6001521298174443,
            0.7365618661257607
           ],
           "y": [
            0.5032332231642478,
            0.511567753987642
           ],
           "type": "scatter"
          },
          {
           "line": {
            "color": "green",
            "width": 0.5
           },
           "mode": "lines",
           "name": "saccades",
           "showlegend": false,
           "x": [
            0.7365618661257607,
            0.8851419878296147
           ],
           "y": [
            0.511567753987642,
            0.5035206207788475
           ],
           "type": "scatter"
          },
          {
           "line": {
            "color": "green",
            "width": 0.5
           },
           "mode": "lines",
           "name": "saccades",
           "showlegend": false,
           "x": [
            0.8851419878296147,
            0.414553752535497
           ],
           "y": [
            0.5035206207788475,
            0.4000574795229199
           ],
           "type": "scatter"
          },
          {
           "line": {
            "color": "green",
            "width": 0.5
           },
           "mode": "lines",
           "name": "saccades",
           "showlegend": false,
           "x": [
            0.414553752535497,
            0.6257606490872212
           ],
           "y": [
            0.4000574795229199,
            0.4151458542894094
           ],
           "type": "scatter"
          },
          {
           "line": {
            "color": "green",
            "width": 0.5
           },
           "mode": "lines",
           "name": "saccades",
           "showlegend": false,
           "x": [
            0.6257606490872212,
            0.7818204868154159
           ],
           "y": [
            0.4151458542894094,
            0.42621066245150163
           ],
           "type": "scatter"
          },
          {
           "line": {
            "color": "green",
            "width": 0.5
           },
           "mode": "lines",
           "name": "saccades",
           "showlegend": false,
           "x": [
            0.7818204868154159,
            0.3913539553752536
           ],
           "y": [
            0.42621066245150163,
            0.3292139675240695
           ],
           "type": "scatter"
          },
          {
           "line": {
            "color": "red",
            "width": 0.5
           },
           "mode": "lines",
           "name": "regressions",
           "showlegend": true,
           "x": [
            0.3913539553752536,
            0.353448275862069
           ],
           "y": [
            0.3292139675240695,
            0.32950136513866934
           ],
           "type": "scatter"
          },
          {
           "line": {
            "color": "green",
            "width": 0.5
           },
           "mode": "lines",
           "name": "saccades",
           "showlegend": false,
           "x": [
            0.353448275862069,
            0.5998985801217038
           ],
           "y": [
            0.32950136513866934,
            0.31958614743497626
           ],
           "type": "scatter"
          },
          {
           "line": {
            "color": "green",
            "width": 0.5
           },
           "mode": "lines",
           "name": "saccades",
           "showlegend": false,
           "x": [
            0.5998985801217038,
            0.6905425963488845
           ],
           "y": [
            0.31958614743497626,
            0.3267710877999712
           ],
           "type": "scatter"
          },
          {
           "line": {
            "color": "red",
            "width": 0.5
           },
           "mode": "lines",
           "name": "regressions",
           "showlegend": false,
           "x": [
            0.6905425963488845,
            0.5773326572008114
           ],
           "y": [
            0.3267710877999712,
            0.33136944963356796
           ],
           "type": "scatter"
          },
          {
           "line": {
            "color": "green",
            "width": 0.5
           },
           "mode": "lines",
           "name": "saccades",
           "showlegend": false,
           "x": [
            0.5773326572008114,
            0.7838488843813387
           ],
           "y": [
            0.33136944963356796,
            0.3306509555970685
           ],
           "type": "scatter"
          },
          {
           "line": {
            "color": "green",
            "width": 0.5
           },
           "mode": "lines",
           "name": "saccades",
           "showlegend": false,
           "x": [
            0.7838488843813387,
            0.4141734279918864
           ],
           "y": [
            0.3306509555970685,
            0.25894525075441865
           ],
           "type": "scatter"
          },
          {
           "line": {
            "color": "green",
            "width": 0.5
           },
           "mode": "lines",
           "name": "saccades",
           "showlegend": false,
           "x": [
            0.4141734279918864,
            0.3857758620689656
           ],
           "y": [
            0.25894525075441865,
            0.24802414139962647
           ],
           "type": "scatter"
          },
          {
           "line": {
            "color": "green",
            "width": 0.5
           },
           "mode": "lines",
           "name": "saccades",
           "showlegend": false,
           "x": [
            0.3857758620689656,
            0.575684584178499
           ],
           "y": [
            0.24802414139962647,
            0.23782152608133356
           ],
           "type": "scatter"
          },
          {
           "line": {
            "color": "green",
            "width": 0.5
           },
           "mode": "lines",
           "name": "saccades",
           "showlegend": false,
           "x": [
            0.575684584178499,
            0.7554513184584178
           ],
           "y": [
            0.23782152608133356,
            0.22848110360684004
           ],
           "type": "scatter"
          },
          {
           "line": {
            "color": "green",
            "width": 0.5
           },
           "mode": "lines",
           "name": "saccades",
           "showlegend": false,
           "x": [
            0.7554513184584178,
            0.4461206896551724
           ],
           "y": [
            0.22848110360684004,
            0.1607989653685874
           ],
           "type": "scatter"
          },
          {
           "line": {
            "color": "red",
            "width": 0.5
           },
           "mode": "lines",
           "name": "regressions",
           "showlegend": false,
           "x": [
            0.4461206896551724,
            0.3533215010141988
           ],
           "y": [
            0.1607989653685874,
            0.1682713033481823
           ],
           "type": "scatter"
          },
          {
           "line": {
            "color": "green",
            "width": 0.5
           },
           "mode": "lines",
           "name": "saccades",
           "showlegend": false,
           "x": [
            0.3533215010141988,
            0.4969574036511156
           ],
           "y": [
            0.1682713033481823,
            0.15964937491018827
           ],
           "type": "scatter"
          },
          {
           "marker": {
            "color": "green",
            "size": 6
           },
           "mode": "markers",
           "name": "aoi_1",
           "text": [
            "duration: 182",
            "duration: 269",
            "duration: 123",
            "duration: 248",
            "duration: 247",
            "duration: 195",
            "duration: 127",
            "duration: 195",
            "duration: 97",
            "duration: 197"
           ],
           "x": {
            "dtype": "f8",
            "bdata": "MiCKDvSS2T/LB5VFIvbgP3bxC20mzuE/kw8qi0Ts2T8EvWR2DIjaPyfO33XxC9k/We5phOWe1j8yOwZE0YHaP9UIyz2NsNg/aBj1yNGc1j8="
           },
           "y": {
            "dtype": "f8",
            "bdata": "wQ7BgOyN4j+MxdpLruLiP+0gT7fHJeM/kh4PqwqC3z9ojcSviprZPwi/+XXXEdU/FILQ5IwW1T++dtwZj5LQPygG90tBv88/rCxeAOqJxT8="
           },
           "type": "scatter"
          },
          {
           "marker": {
            "color": "yellow",
            "size": 6
           },
           "mode": "markers",
           "name": "aoi_2",
           "text": [
            "duration: 207",
            "duration: 81",
            "duration: 171",
            "duration: 159",
            "duration: 118",
            "duration: 113",
            "duration: 124"
           ],
           "x": {
            "dtype": "f8",
            "bdata": "u90JATb45j9SjxzNqX3oP/cZRj1yNOM/OrXPMOqR5z+SbUFKFVPsP17hxmWsBOk/4JBtQUoV6T8="
           },
           "y": {
            "dtype": "f8",
            "bdata": "+6CYJZ7b4j/7oJglntviPyAJeI98GuA/RBWiVsNe4D+lauNG1xzgP2ziGxYJR9s/QI4roGIp1T8="
           },
           "type": "scatter"
          },
          {
           "marker": {
            "color": "blue",
            "size": 6
           },
           "mode": "markers",
           "name": "aoi_0",
           "text": [
            "duration: 193",
            "duration: 219",
            "duration: 185",
            "duration: 83",
            "duration: 229",
            "duration: 244",
            "duration: 234",
            "duration: 139"
           ],
           "x": {
            "dtype": "f8",
            "bdata": "0oFeMjsG5D8GRNGBXjLjP0YHesnsGOY/ceMyVoJ54j/WdLsTAmziP7H3Tz6oLOg/3NMIyz2N3D928QttJs7fPw=="
           },
           "y": {
            "dtype": "f8",
            "bdata": "Oo3P6r+R2j8OOd90GXTUPyhF2EfR6dQ/3HVENSg11T8E7maO73DOPyRo32nePs0/XI6+fA+VxD8EdggGZG/EPw=="
           },
           "type": "scatter"
          },
          {
           "marker": {
            "color": "red"
           },
           "mode": "markers",
           "name": "tracker",
           "x": [
            0.5564148073022313
           ],
           "y": [
            0.5983618335967812
           ],
           "type": "scatter"
          }
         ],
         "name": "2"
        },
        {
         "data": [
          {
           "line": {
            "color": "green",
            "width": 0.5
           },
           "mode": "lines",
           "name": "saccades",
           "showlegend": true,
           "x": [
            0.3995943204868154,
            0.5300456389452334
           ],
           "y": [
            0.5798246874550942,
            0.5901710015806869
           ],
           "type": "scatter"
          },
          {
           "line": {
            "color": "green",
            "width": 0.5
           },
           "mode": "lines",
           "name": "saccades",
           "showlegend": false,
           "x": [
            0.5300456389452334,
            0.5564148073022313
           ],
           "y": [
            0.5901710015806869,
            0.5983618335967812
           ],
           "type": "scatter"
          },
          {
           "line": {
            "color": "green",
            "width": 0.5
           },
           "mode": "lines",
           "name": "saccades",
           "showlegend": false,
           "x": [
            0.5564148073022313,
            0.7177991886409737
           ],
           "y": [
            0.5983618335967812,
            0.5893088087368875
           ],
           "type": "scatter"
          },
          {
           "line": {
            "color": "green",
            "width": 0.5
           },
           "mode": "lines",
           "name": "saccades",
           "showlegend": false,
           "x": [
            0.7177991886409737,
            0.7653397565922921
           ],
           "y": [
            0.5893088087368875,
            0.5893088087368875
           ],
           "type": "scatter"
          },
          {
           "line": {
            "color": "green",
            "width": 0.5
           },
           "mode": "lines",
           "name": "saccades",
           "showlegend": false,
           "x": [
            0.7653397565922921,
            0.4050456389452332
           ],
           "y": [
            0.5893088087368875,
            0.4923121138094554
           ],
           "type": "scatter"
          },
          {
           "line": {
            "color": "green",
            "width": 0.5
           },
           "mode": "lines",
           "name": "saccades",
           "showlegend": false,
           "x": [
            0.4050456389452332,
            0.6001521298174443
           ],
           "y": [
            0.4923121138094554,
            0.5032332231642478
           ],
           "type": "scatter"
          },
          {
           "line": {
            "color": "green",
            "width": 0.5
           },
           "mode": "lines",
           "name": "saccades",
           "showlegend": false,
           "x": [
            0.6001521298174443,
            0.7365618661257607
           ],
           "y": [
            0.5032332231642478,
            0.511567753987642
           ],
           "type": "scatter"
          },
          {
           "line": {
            "color": "green",
            "width": 0.5
           },
           "mode": "lines",
           "name": "saccades",
           "showlegend": false,
           "x": [
            0.7365618661257607,
            0.8851419878296147
           ],
           "y": [
            0.511567753987642,
            0.5035206207788475
           ],
           "type": "scatter"
          },
          {
           "line": {
            "color": "green",
            "width": 0.5
           },
           "mode": "lines",
           "name": "saccades",
           "showlegend": false,
           "x": [
            0.8851419878296147,
            0.414553752535497
           ],
           "y": [
            0.5035206207788475,
            0.4000574795229199
           ],
           "type": "scatter"
          },
          {
           "line": {
            "color": "green",
            "width": 0.5
           },
           "mode": "lines",
           "name": "saccades",
           "showlegend": false,
           "x": [
            0.414553752535497,
            0.6257606490872212
           ],
           "y": [
            0.4000574795229199,
            0.4151458542894094
           ],
           "type": "scatter"
          },
          {
           "line": {
            "color": "green",
            "width": 0.5
           },
           "mode": "lines",
           "name": "saccades",
           "showlegend": false,
           "x": [
            0.6257606490872212,
            0.7818204868154159
           ],
           "y": [
            0.4151458542894094,
            0.42621066245150163
           ],
           "type": "scatter"
          },
          {
           "line": {
            "color": "green",
            "width": 0.5
           },
           "mode": "lines",
           "name": "saccades",
           "showlegend": false,
           "x": [
            0.7818204868154159,
            0.3913539553752536
           ],
           "y": [
            0.42621066245150163,
            0.3292139675240695
           ],
           "type": "scatter"
          },
          {
           "line": {
            "color": "red",
            "width": 0.5
           },
           "mode": "lines",
           "name": "regressions",
           "showlegend": true,
           "x": [
            0.3913539553752536,
            0.353448275862069
           ],
           "y": [
            0.3292139675240695,
            0.32950136513866934
           ],
           "type": "scatter"
          },
          {
           "line": {
            "color": "green",
            "width": 0.5
           },
           "mode": "lines",
           "name": "saccades",
           "showlegend": false,
           "x": [
            0.353448275862069,
            0.5998985801217038
           ],
           "y": [
            0.32950136513866934,
            0.31958614743497626
           ],
           "type": "scatter"
          },
          {
           "line": {
            "color": "green",
            "width": 0.5
           },
           "mode": "lines",
           "name": "saccades",
           "showlegend": false,
           "x": [
            0.5998985801217038,
            0.6905425963488845
           ],
           "y": [
            0.31958614743497626,
            0.3267710877999712
           ],
           "type": "scatter"
          },
          {
           "line": {
            "color": "red",
            "width": 0.5
           },
           "mode": "lines",
           "name": "regressions",
           "showlegend": false,
           "x": [
            0.6905425963488845,
            0.5773326572008114
           ],
           "y": [
            0.3267710877999712,
            0.33136944963356796
           ],
           "type": "scatter"
          },
          {
           "line": {
            "color": "green",
            "width": 0.5
           },
           "mode": "lines",
           "name": "saccades",
           "showlegend": false,
           "x": [
            0.5773326572008114,
            0.7838488843813387
           ],
           "y": [
            0.33136944963356796,
            0.3306509555970685
           ],
           "type": "scatter"
          },
          {
           "line": {
            "color": "green",
            "width": 0.5
           },
           "mode": "lines",
           "name": "saccades",
           "showlegend": false,
           "x": [
            0.7838488843813387,
            0.4141734279918864
           ],
           "y": [
            0.3306509555970685,
            0.25894525075441865
           ],
           "type": "scatter"
          },
          {
           "line": {
            "color": "green",
            "width": 0.5
           },
           "mode": "lines",
           "name": "saccades",
           "showlegend": false,
           "x": [
            0.4141734279918864,
            0.3857758620689656
           ],
           "y": [
            0.25894525075441865,
            0.24802414139962647
           ],
           "type": "scatter"
          },
          {
           "line": {
            "color": "green",
            "width": 0.5
           },
           "mode": "lines",
           "name": "saccades",
           "showlegend": false,
           "x": [
            0.3857758620689656,
            0.575684584178499
           ],
           "y": [
            0.24802414139962647,
            0.23782152608133356
           ],
           "type": "scatter"
          },
          {
           "line": {
            "color": "green",
            "width": 0.5
           },
           "mode": "lines",
           "name": "saccades",
           "showlegend": false,
           "x": [
            0.575684584178499,
            0.7554513184584178
           ],
           "y": [
            0.23782152608133356,
            0.22848110360684004
           ],
           "type": "scatter"
          },
          {
           "line": {
            "color": "green",
            "width": 0.5
           },
           "mode": "lines",
           "name": "saccades",
           "showlegend": false,
           "x": [
            0.7554513184584178,
            0.4461206896551724
           ],
           "y": [
            0.22848110360684004,
            0.1607989653685874
           ],
           "type": "scatter"
          },
          {
           "line": {
            "color": "red",
            "width": 0.5
           },
           "mode": "lines",
           "name": "regressions",
           "showlegend": false,
           "x": [
            0.4461206896551724,
            0.3533215010141988
           ],
           "y": [
            0.1607989653685874,
            0.1682713033481823
           ],
           "type": "scatter"
          },
          {
           "line": {
            "color": "green",
            "width": 0.5
           },
           "mode": "lines",
           "name": "saccades",
           "showlegend": false,
           "x": [
            0.3533215010141988,
            0.4969574036511156
           ],
           "y": [
            0.1682713033481823,
            0.15964937491018827
           ],
           "type": "scatter"
          },
          {
           "marker": {
            "color": "green",
            "size": 6
           },
           "mode": "markers",
           "name": "aoi_1",
           "text": [
            "duration: 182",
            "duration: 269",
            "duration: 123",
            "duration: 248",
            "duration: 247",
            "duration: 195",
            "duration: 127",
            "duration: 195",
            "duration: 97",
            "duration: 197"
           ],
           "x": {
            "dtype": "f8",
            "bdata": "MiCKDvSS2T/LB5VFIvbgP3bxC20mzuE/kw8qi0Ts2T8EvWR2DIjaPyfO33XxC9k/We5phOWe1j8yOwZE0YHaP9UIyz2NsNg/aBj1yNGc1j8="
           },
           "y": {
            "dtype": "f8",
            "bdata": "wQ7BgOyN4j+MxdpLruLiP+0gT7fHJeM/kh4PqwqC3z9ojcSviprZPwi/+XXXEdU/FILQ5IwW1T++dtwZj5LQPygG90tBv88/rCxeAOqJxT8="
           },
           "type": "scatter"
          },
          {
           "marker": {
            "color": "yellow",
            "size": 6
           },
           "mode": "markers",
           "name": "aoi_2",
           "text": [
            "duration: 207",
            "duration: 81",
            "duration: 171",
            "duration: 159",
            "duration: 118",
            "duration: 113",
            "duration: 124"
           ],
           "x": {
            "dtype": "f8",
            "bdata": "u90JATb45j9SjxzNqX3oP/cZRj1yNOM/OrXPMOqR5z+SbUFKFVPsP17hxmWsBOk/4JBtQUoV6T8="
           },
           "y": {
            "dtype": "f8",
            "bdata": "+6CYJZ7b4j/7oJglntviPyAJeI98GuA/RBWiVsNe4D+lauNG1xzgP2ziGxYJR9s/QI4roGIp1T8="
           },
           "type": "scatter"
          },
          {
           "marker": {
            "color": "blue",
            "size": 6
           },
           "mode": "markers",
           "name": "aoi_0",
           "text": [
            "duration: 193",
            "duration: 219",
            "duration: 185",
            "duration: 83",
            "duration: 229",
            "duration: 244",
            "duration: 234",
            "duration: 139"
           ],
           "x": {
            "dtype": "f8",
            "bdata": "0oFeMjsG5D8GRNGBXjLjP0YHesnsGOY/ceMyVoJ54j/WdLsTAmziP7H3Tz6oLOg/3NMIyz2N3D928QttJs7fPw=="
           },
           "y": {
            "dtype": "f8",
            "bdata": "Oo3P6r+R2j8OOd90GXTUPyhF2EfR6dQ/3HVENSg11T8E7maO73DOPyRo32nePs0/XI6+fA+VxD8EdggGZG/EPw=="
           },
           "type": "scatter"
          },
          {
           "marker": {
            "color": "red"
           },
           "mode": "markers",
           "name": "tracker",
           "x": [
            0.7177991886409737
           ],
           "y": [
            0.5893088087368875
           ],
           "type": "scatter"
          }
         ],
         "name": "3"
        },
        {
         "data": [
          {
           "line": {
            "color": "green",
            "width": 0.5
           },
           "mode": "lines",
           "name": "saccades",
           "showlegend": true,
           "x": [
            0.3995943204868154,
            0.5300456389452334
           ],
           "y": [
            0.5798246874550942,
            0.5901710015806869
           ],
           "type": "scatter"
          },
          {
           "line": {
            "color": "green",
            "width": 0.5
           },
           "mode": "lines",
           "name": "saccades",
           "showlegend": false,
           "x": [
            0.5300456389452334,
            0.5564148073022313
           ],
           "y": [
            0.5901710015806869,
            0.5983618335967812
           ],
           "type": "scatter"
          },
          {
           "line": {
            "color": "green",
            "width": 0.5
           },
           "mode": "lines",
           "name": "saccades",
           "showlegend": false,
           "x": [
            0.5564148073022313,
            0.7177991886409737
           ],
           "y": [
            0.5983618335967812,
            0.5893088087368875
           ],
           "type": "scatter"
          },
          {
           "line": {
            "color": "green",
            "width": 0.5
           },
           "mode": "lines",
           "name": "saccades",
           "showlegend": false,
           "x": [
            0.7177991886409737,
            0.7653397565922921
           ],
           "y": [
            0.5893088087368875,
            0.5893088087368875
           ],
           "type": "scatter"
          },
          {
           "line": {
            "color": "green",
            "width": 0.5
           },
           "mode": "lines",
           "name": "saccades",
           "showlegend": false,
           "x": [
            0.7653397565922921,
            0.4050456389452332
           ],
           "y": [
            0.5893088087368875,
            0.4923121138094554
           ],
           "type": "scatter"
          },
          {
           "line": {
            "color": "green",
            "width": 0.5
           },
           "mode": "lines",
           "name": "saccades",
           "showlegend": false,
           "x": [
            0.4050456389452332,
            0.6001521298174443
           ],
           "y": [
            0.4923121138094554,
            0.5032332231642478
           ],
           "type": "scatter"
          },
          {
           "line": {
            "color": "green",
            "width": 0.5
           },
           "mode": "lines",
           "name": "saccades",
           "showlegend": false,
           "x": [
            0.6001521298174443,
            0.7365618661257607
           ],
           "y": [
            0.5032332231642478,
            0.511567753987642
           ],
           "type": "scatter"
          },
          {
           "line": {
            "color": "green",
            "width": 0.5
           },
           "mode": "lines",
           "name": "saccades",
           "showlegend": false,
           "x": [
            0.7365618661257607,
            0.8851419878296147
           ],
           "y": [
            0.511567753987642,
            0.5035206207788475
           ],
           "type": "scatter"
          },
          {
           "line": {
            "color": "green",
            "width": 0.5
           },
           "mode": "lines",
           "name": "saccades",
           "showlegend": false,
           "x": [
            0.8851419878296147,
            0.414553752535497
           ],
           "y": [
            0.5035206207788475,
            0.4000574795229199
           ],
           "type": "scatter"
          },
          {
           "line": {
            "color": "green",
            "width": 0.5
           },
           "mode": "lines",
           "name": "saccades",
           "showlegend": false,
           "x": [
            0.414553752535497,
            0.6257606490872212
           ],
           "y": [
            0.4000574795229199,
            0.4151458542894094
           ],
           "type": "scatter"
          },
          {
           "line": {
            "color": "green",
            "width": 0.5
           },
           "mode": "lines",
           "name": "saccades",
           "showlegend": false,
           "x": [
            0.6257606490872212,
            0.7818204868154159
           ],
           "y": [
            0.4151458542894094,
            0.42621066245150163
           ],
           "type": "scatter"
          },
          {
           "line": {
            "color": "green",
            "width": 0.5
           },
           "mode": "lines",
           "name": "saccades",
           "showlegend": false,
           "x": [
            0.7818204868154159,
            0.3913539553752536
           ],
           "y": [
            0.42621066245150163,
            0.3292139675240695
           ],
           "type": "scatter"
          },
          {
           "line": {
            "color": "red",
            "width": 0.5
           },
           "mode": "lines",
           "name": "regressions",
           "showlegend": true,
           "x": [
            0.3913539553752536,
            0.353448275862069
           ],
           "y": [
            0.3292139675240695,
            0.32950136513866934
           ],
           "type": "scatter"
          },
          {
           "line": {
            "color": "green",
            "width": 0.5
           },
           "mode": "lines",
           "name": "saccades",
           "showlegend": false,
           "x": [
            0.353448275862069,
            0.5998985801217038
           ],
           "y": [
            0.32950136513866934,
            0.31958614743497626
           ],
           "type": "scatter"
          },
          {
           "line": {
            "color": "green",
            "width": 0.5
           },
           "mode": "lines",
           "name": "saccades",
           "showlegend": false,
           "x": [
            0.5998985801217038,
            0.6905425963488845
           ],
           "y": [
            0.31958614743497626,
            0.3267710877999712
           ],
           "type": "scatter"
          },
          {
           "line": {
            "color": "red",
            "width": 0.5
           },
           "mode": "lines",
           "name": "regressions",
           "showlegend": false,
           "x": [
            0.6905425963488845,
            0.5773326572008114
           ],
           "y": [
            0.3267710877999712,
            0.33136944963356796
           ],
           "type": "scatter"
          },
          {
           "line": {
            "color": "green",
            "width": 0.5
           },
           "mode": "lines",
           "name": "saccades",
           "showlegend": false,
           "x": [
            0.5773326572008114,
            0.7838488843813387
           ],
           "y": [
            0.33136944963356796,
            0.3306509555970685
           ],
           "type": "scatter"
          },
          {
           "line": {
            "color": "green",
            "width": 0.5
           },
           "mode": "lines",
           "name": "saccades",
           "showlegend": false,
           "x": [
            0.7838488843813387,
            0.4141734279918864
           ],
           "y": [
            0.3306509555970685,
            0.25894525075441865
           ],
           "type": "scatter"
          },
          {
           "line": {
            "color": "green",
            "width": 0.5
           },
           "mode": "lines",
           "name": "saccades",
           "showlegend": false,
           "x": [
            0.4141734279918864,
            0.3857758620689656
           ],
           "y": [
            0.25894525075441865,
            0.24802414139962647
           ],
           "type": "scatter"
          },
          {
           "line": {
            "color": "green",
            "width": 0.5
           },
           "mode": "lines",
           "name": "saccades",
           "showlegend": false,
           "x": [
            0.3857758620689656,
            0.575684584178499
           ],
           "y": [
            0.24802414139962647,
            0.23782152608133356
           ],
           "type": "scatter"
          },
          {
           "line": {
            "color": "green",
            "width": 0.5
           },
           "mode": "lines",
           "name": "saccades",
           "showlegend": false,
           "x": [
            0.575684584178499,
            0.7554513184584178
           ],
           "y": [
            0.23782152608133356,
            0.22848110360684004
           ],
           "type": "scatter"
          },
          {
           "line": {
            "color": "green",
            "width": 0.5
           },
           "mode": "lines",
           "name": "saccades",
           "showlegend": false,
           "x": [
            0.7554513184584178,
            0.4461206896551724
           ],
           "y": [
            0.22848110360684004,
            0.1607989653685874
           ],
           "type": "scatter"
          },
          {
           "line": {
            "color": "red",
            "width": 0.5
           },
           "mode": "lines",
           "name": "regressions",
           "showlegend": false,
           "x": [
            0.4461206896551724,
            0.3533215010141988
           ],
           "y": [
            0.1607989653685874,
            0.1682713033481823
           ],
           "type": "scatter"
          },
          {
           "line": {
            "color": "green",
            "width": 0.5
           },
           "mode": "lines",
           "name": "saccades",
           "showlegend": false,
           "x": [
            0.3533215010141988,
            0.4969574036511156
           ],
           "y": [
            0.1682713033481823,
            0.15964937491018827
           ],
           "type": "scatter"
          },
          {
           "marker": {
            "color": "green",
            "size": 6
           },
           "mode": "markers",
           "name": "aoi_1",
           "text": [
            "duration: 182",
            "duration: 269",
            "duration: 123",
            "duration: 248",
            "duration: 247",
            "duration: 195",
            "duration: 127",
            "duration: 195",
            "duration: 97",
            "duration: 197"
           ],
           "x": {
            "dtype": "f8",
            "bdata": "MiCKDvSS2T/LB5VFIvbgP3bxC20mzuE/kw8qi0Ts2T8EvWR2DIjaPyfO33XxC9k/We5phOWe1j8yOwZE0YHaP9UIyz2NsNg/aBj1yNGc1j8="
           },
           "y": {
            "dtype": "f8",
            "bdata": "wQ7BgOyN4j+MxdpLruLiP+0gT7fHJeM/kh4PqwqC3z9ojcSviprZPwi/+XXXEdU/FILQ5IwW1T++dtwZj5LQPygG90tBv88/rCxeAOqJxT8="
           },
           "type": "scatter"
          },
          {
           "marker": {
            "color": "yellow",
            "size": 6
           },
           "mode": "markers",
           "name": "aoi_2",
           "text": [
            "duration: 207",
            "duration: 81",
            "duration: 171",
            "duration: 159",
            "duration: 118",
            "duration: 113",
            "duration: 124"
           ],
           "x": {
            "dtype": "f8",
            "bdata": "u90JATb45j9SjxzNqX3oP/cZRj1yNOM/OrXPMOqR5z+SbUFKFVPsP17hxmWsBOk/4JBtQUoV6T8="
           },
           "y": {
            "dtype": "f8",
            "bdata": "+6CYJZ7b4j/7oJglntviPyAJeI98GuA/RBWiVsNe4D+lauNG1xzgP2ziGxYJR9s/QI4roGIp1T8="
           },
           "type": "scatter"
          },
          {
           "marker": {
            "color": "blue",
            "size": 6
           },
           "mode": "markers",
           "name": "aoi_0",
           "text": [
            "duration: 193",
            "duration: 219",
            "duration: 185",
            "duration: 83",
            "duration: 229",
            "duration: 244",
            "duration: 234",
            "duration: 139"
           ],
           "x": {
            "dtype": "f8",
            "bdata": "0oFeMjsG5D8GRNGBXjLjP0YHesnsGOY/ceMyVoJ54j/WdLsTAmziP7H3Tz6oLOg/3NMIyz2N3D928QttJs7fPw=="
           },
           "y": {
            "dtype": "f8",
            "bdata": "Oo3P6r+R2j8OOd90GXTUPyhF2EfR6dQ/3HVENSg11T8E7maO73DOPyRo32nePs0/XI6+fA+VxD8EdggGZG/EPw=="
           },
           "type": "scatter"
          },
          {
           "marker": {
            "color": "red"
           },
           "mode": "markers",
           "name": "tracker",
           "x": [
            0.7653397565922921
           ],
           "y": [
            0.5893088087368875
           ],
           "type": "scatter"
          }
         ],
         "name": "4"
        },
        {
         "data": [
          {
           "line": {
            "color": "green",
            "width": 0.5
           },
           "mode": "lines",
           "name": "saccades",
           "showlegend": true,
           "x": [
            0.3995943204868154,
            0.5300456389452334
           ],
           "y": [
            0.5798246874550942,
            0.5901710015806869
           ],
           "type": "scatter"
          },
          {
           "line": {
            "color": "green",
            "width": 0.5
           },
           "mode": "lines",
           "name": "saccades",
           "showlegend": false,
           "x": [
            0.5300456389452334,
            0.5564148073022313
           ],
           "y": [
            0.5901710015806869,
            0.5983618335967812
           ],
           "type": "scatter"
          },
          {
           "line": {
            "color": "green",
            "width": 0.5
           },
           "mode": "lines",
           "name": "saccades",
           "showlegend": false,
           "x": [
            0.5564148073022313,
            0.7177991886409737
           ],
           "y": [
            0.5983618335967812,
            0.5893088087368875
           ],
           "type": "scatter"
          },
          {
           "line": {
            "color": "green",
            "width": 0.5
           },
           "mode": "lines",
           "name": "saccades",
           "showlegend": false,
           "x": [
            0.7177991886409737,
            0.7653397565922921
           ],
           "y": [
            0.5893088087368875,
            0.5893088087368875
           ],
           "type": "scatter"
          },
          {
           "line": {
            "color": "green",
            "width": 0.5
           },
           "mode": "lines",
           "name": "saccades",
           "showlegend": false,
           "x": [
            0.7653397565922921,
            0.4050456389452332
           ],
           "y": [
            0.5893088087368875,
            0.4923121138094554
           ],
           "type": "scatter"
          },
          {
           "line": {
            "color": "green",
            "width": 0.5
           },
           "mode": "lines",
           "name": "saccades",
           "showlegend": false,
           "x": [
            0.4050456389452332,
            0.6001521298174443
           ],
           "y": [
            0.4923121138094554,
            0.5032332231642478
           ],
           "type": "scatter"
          },
          {
           "line": {
            "color": "green",
            "width": 0.5
           },
           "mode": "lines",
           "name": "saccades",
           "showlegend": false,
           "x": [
            0.6001521298174443,
            0.7365618661257607
           ],
           "y": [
            0.5032332231642478,
            0.511567753987642
           ],
           "type": "scatter"
          },
          {
           "line": {
            "color": "green",
            "width": 0.5
           },
           "mode": "lines",
           "name": "saccades",
           "showlegend": false,
           "x": [
            0.7365618661257607,
            0.8851419878296147
           ],
           "y": [
            0.511567753987642,
            0.5035206207788475
           ],
           "type": "scatter"
          },
          {
           "line": {
            "color": "green",
            "width": 0.5
           },
           "mode": "lines",
           "name": "saccades",
           "showlegend": false,
           "x": [
            0.8851419878296147,
            0.414553752535497
           ],
           "y": [
            0.5035206207788475,
            0.4000574795229199
           ],
           "type": "scatter"
          },
          {
           "line": {
            "color": "green",
            "width": 0.5
           },
           "mode": "lines",
           "name": "saccades",
           "showlegend": false,
           "x": [
            0.414553752535497,
            0.6257606490872212
           ],
           "y": [
            0.4000574795229199,
            0.4151458542894094
           ],
           "type": "scatter"
          },
          {
           "line": {
            "color": "green",
            "width": 0.5
           },
           "mode": "lines",
           "name": "saccades",
           "showlegend": false,
           "x": [
            0.6257606490872212,
            0.7818204868154159
           ],
           "y": [
            0.4151458542894094,
            0.42621066245150163
           ],
           "type": "scatter"
          },
          {
           "line": {
            "color": "green",
            "width": 0.5
           },
           "mode": "lines",
           "name": "saccades",
           "showlegend": false,
           "x": [
            0.7818204868154159,
            0.3913539553752536
           ],
           "y": [
            0.42621066245150163,
            0.3292139675240695
           ],
           "type": "scatter"
          },
          {
           "line": {
            "color": "red",
            "width": 0.5
           },
           "mode": "lines",
           "name": "regressions",
           "showlegend": true,
           "x": [
            0.3913539553752536,
            0.353448275862069
           ],
           "y": [
            0.3292139675240695,
            0.32950136513866934
           ],
           "type": "scatter"
          },
          {
           "line": {
            "color": "green",
            "width": 0.5
           },
           "mode": "lines",
           "name": "saccades",
           "showlegend": false,
           "x": [
            0.353448275862069,
            0.5998985801217038
           ],
           "y": [
            0.32950136513866934,
            0.31958614743497626
           ],
           "type": "scatter"
          },
          {
           "line": {
            "color": "green",
            "width": 0.5
           },
           "mode": "lines",
           "name": "saccades",
           "showlegend": false,
           "x": [
            0.5998985801217038,
            0.6905425963488845
           ],
           "y": [
            0.31958614743497626,
            0.3267710877999712
           ],
           "type": "scatter"
          },
          {
           "line": {
            "color": "red",
            "width": 0.5
           },
           "mode": "lines",
           "name": "regressions",
           "showlegend": false,
           "x": [
            0.6905425963488845,
            0.5773326572008114
           ],
           "y": [
            0.3267710877999712,
            0.33136944963356796
           ],
           "type": "scatter"
          },
          {
           "line": {
            "color": "green",
            "width": 0.5
           },
           "mode": "lines",
           "name": "saccades",
           "showlegend": false,
           "x": [
            0.5773326572008114,
            0.7838488843813387
           ],
           "y": [
            0.33136944963356796,
            0.3306509555970685
           ],
           "type": "scatter"
          },
          {
           "line": {
            "color": "green",
            "width": 0.5
           },
           "mode": "lines",
           "name": "saccades",
           "showlegend": false,
           "x": [
            0.7838488843813387,
            0.4141734279918864
           ],
           "y": [
            0.3306509555970685,
            0.25894525075441865
           ],
           "type": "scatter"
          },
          {
           "line": {
            "color": "green",
            "width": 0.5
           },
           "mode": "lines",
           "name": "saccades",
           "showlegend": false,
           "x": [
            0.4141734279918864,
            0.3857758620689656
           ],
           "y": [
            0.25894525075441865,
            0.24802414139962647
           ],
           "type": "scatter"
          },
          {
           "line": {
            "color": "green",
            "width": 0.5
           },
           "mode": "lines",
           "name": "saccades",
           "showlegend": false,
           "x": [
            0.3857758620689656,
            0.575684584178499
           ],
           "y": [
            0.24802414139962647,
            0.23782152608133356
           ],
           "type": "scatter"
          },
          {
           "line": {
            "color": "green",
            "width": 0.5
           },
           "mode": "lines",
           "name": "saccades",
           "showlegend": false,
           "x": [
            0.575684584178499,
            0.7554513184584178
           ],
           "y": [
            0.23782152608133356,
            0.22848110360684004
           ],
           "type": "scatter"
          },
          {
           "line": {
            "color": "green",
            "width": 0.5
           },
           "mode": "lines",
           "name": "saccades",
           "showlegend": false,
           "x": [
            0.7554513184584178,
            0.4461206896551724
           ],
           "y": [
            0.22848110360684004,
            0.1607989653685874
           ],
           "type": "scatter"
          },
          {
           "line": {
            "color": "red",
            "width": 0.5
           },
           "mode": "lines",
           "name": "regressions",
           "showlegend": false,
           "x": [
            0.4461206896551724,
            0.3533215010141988
           ],
           "y": [
            0.1607989653685874,
            0.1682713033481823
           ],
           "type": "scatter"
          },
          {
           "line": {
            "color": "green",
            "width": 0.5
           },
           "mode": "lines",
           "name": "saccades",
           "showlegend": false,
           "x": [
            0.3533215010141988,
            0.4969574036511156
           ],
           "y": [
            0.1682713033481823,
            0.15964937491018827
           ],
           "type": "scatter"
          },
          {
           "marker": {
            "color": "green",
            "size": 6
           },
           "mode": "markers",
           "name": "aoi_1",
           "text": [
            "duration: 182",
            "duration: 269",
            "duration: 123",
            "duration: 248",
            "duration: 247",
            "duration: 195",
            "duration: 127",
            "duration: 195",
            "duration: 97",
            "duration: 197"
           ],
           "x": {
            "dtype": "f8",
            "bdata": "MiCKDvSS2T/LB5VFIvbgP3bxC20mzuE/kw8qi0Ts2T8EvWR2DIjaPyfO33XxC9k/We5phOWe1j8yOwZE0YHaP9UIyz2NsNg/aBj1yNGc1j8="
           },
           "y": {
            "dtype": "f8",
            "bdata": "wQ7BgOyN4j+MxdpLruLiP+0gT7fHJeM/kh4PqwqC3z9ojcSviprZPwi/+XXXEdU/FILQ5IwW1T++dtwZj5LQPygG90tBv88/rCxeAOqJxT8="
           },
           "type": "scatter"
          },
          {
           "marker": {
            "color": "yellow",
            "size": 6
           },
           "mode": "markers",
           "name": "aoi_2",
           "text": [
            "duration: 207",
            "duration: 81",
            "duration: 171",
            "duration: 159",
            "duration: 118",
            "duration: 113",
            "duration: 124"
           ],
           "x": {
            "dtype": "f8",
            "bdata": "u90JATb45j9SjxzNqX3oP/cZRj1yNOM/OrXPMOqR5z+SbUFKFVPsP17hxmWsBOk/4JBtQUoV6T8="
           },
           "y": {
            "dtype": "f8",
            "bdata": "+6CYJZ7b4j/7oJglntviPyAJeI98GuA/RBWiVsNe4D+lauNG1xzgP2ziGxYJR9s/QI4roGIp1T8="
           },
           "type": "scatter"
          },
          {
           "marker": {
            "color": "blue",
            "size": 6
           },
           "mode": "markers",
           "name": "aoi_0",
           "text": [
            "duration: 193",
            "duration: 219",
            "duration: 185",
            "duration: 83",
            "duration: 229",
            "duration: 244",
            "duration: 234",
            "duration: 139"
           ],
           "x": {
            "dtype": "f8",
            "bdata": "0oFeMjsG5D8GRNGBXjLjP0YHesnsGOY/ceMyVoJ54j/WdLsTAmziP7H3Tz6oLOg/3NMIyz2N3D928QttJs7fPw=="
           },
           "y": {
            "dtype": "f8",
            "bdata": "Oo3P6r+R2j8OOd90GXTUPyhF2EfR6dQ/3HVENSg11T8E7maO73DOPyRo32nePs0/XI6+fA+VxD8EdggGZG/EPw=="
           },
           "type": "scatter"
          },
          {
           "marker": {
            "color": "red"
           },
           "mode": "markers",
           "name": "tracker",
           "x": [
            0.4050456389452332
           ],
           "y": [
            0.4923121138094554
           ],
           "type": "scatter"
          }
         ],
         "name": "5"
        },
        {
         "data": [
          {
           "line": {
            "color": "green",
            "width": 0.5
           },
           "mode": "lines",
           "name": "saccades",
           "showlegend": true,
           "x": [
            0.3995943204868154,
            0.5300456389452334
           ],
           "y": [
            0.5798246874550942,
            0.5901710015806869
           ],
           "type": "scatter"
          },
          {
           "line": {
            "color": "green",
            "width": 0.5
           },
           "mode": "lines",
           "name": "saccades",
           "showlegend": false,
           "x": [
            0.5300456389452334,
            0.5564148073022313
           ],
           "y": [
            0.5901710015806869,
            0.5983618335967812
           ],
           "type": "scatter"
          },
          {
           "line": {
            "color": "green",
            "width": 0.5
           },
           "mode": "lines",
           "name": "saccades",
           "showlegend": false,
           "x": [
            0.5564148073022313,
            0.7177991886409737
           ],
           "y": [
            0.5983618335967812,
            0.5893088087368875
           ],
           "type": "scatter"
          },
          {
           "line": {
            "color": "green",
            "width": 0.5
           },
           "mode": "lines",
           "name": "saccades",
           "showlegend": false,
           "x": [
            0.7177991886409737,
            0.7653397565922921
           ],
           "y": [
            0.5893088087368875,
            0.5893088087368875
           ],
           "type": "scatter"
          },
          {
           "line": {
            "color": "green",
            "width": 0.5
           },
           "mode": "lines",
           "name": "saccades",
           "showlegend": false,
           "x": [
            0.7653397565922921,
            0.4050456389452332
           ],
           "y": [
            0.5893088087368875,
            0.4923121138094554
           ],
           "type": "scatter"
          },
          {
           "line": {
            "color": "green",
            "width": 0.5
           },
           "mode": "lines",
           "name": "saccades",
           "showlegend": false,
           "x": [
            0.4050456389452332,
            0.6001521298174443
           ],
           "y": [
            0.4923121138094554,
            0.5032332231642478
           ],
           "type": "scatter"
          },
          {
           "line": {
            "color": "green",
            "width": 0.5
           },
           "mode": "lines",
           "name": "saccades",
           "showlegend": false,
           "x": [
            0.6001521298174443,
            0.7365618661257607
           ],
           "y": [
            0.5032332231642478,
            0.511567753987642
           ],
           "type": "scatter"
          },
          {
           "line": {
            "color": "green",
            "width": 0.5
           },
           "mode": "lines",
           "name": "saccades",
           "showlegend": false,
           "x": [
            0.7365618661257607,
            0.8851419878296147
           ],
           "y": [
            0.511567753987642,
            0.5035206207788475
           ],
           "type": "scatter"
          },
          {
           "line": {
            "color": "green",
            "width": 0.5
           },
           "mode": "lines",
           "name": "saccades",
           "showlegend": false,
           "x": [
            0.8851419878296147,
            0.414553752535497
           ],
           "y": [
            0.5035206207788475,
            0.4000574795229199
           ],
           "type": "scatter"
          },
          {
           "line": {
            "color": "green",
            "width": 0.5
           },
           "mode": "lines",
           "name": "saccades",
           "showlegend": false,
           "x": [
            0.414553752535497,
            0.6257606490872212
           ],
           "y": [
            0.4000574795229199,
            0.4151458542894094
           ],
           "type": "scatter"
          },
          {
           "line": {
            "color": "green",
            "width": 0.5
           },
           "mode": "lines",
           "name": "saccades",
           "showlegend": false,
           "x": [
            0.6257606490872212,
            0.7818204868154159
           ],
           "y": [
            0.4151458542894094,
            0.42621066245150163
           ],
           "type": "scatter"
          },
          {
           "line": {
            "color": "green",
            "width": 0.5
           },
           "mode": "lines",
           "name": "saccades",
           "showlegend": false,
           "x": [
            0.7818204868154159,
            0.3913539553752536
           ],
           "y": [
            0.42621066245150163,
            0.3292139675240695
           ],
           "type": "scatter"
          },
          {
           "line": {
            "color": "red",
            "width": 0.5
           },
           "mode": "lines",
           "name": "regressions",
           "showlegend": true,
           "x": [
            0.3913539553752536,
            0.353448275862069
           ],
           "y": [
            0.3292139675240695,
            0.32950136513866934
           ],
           "type": "scatter"
          },
          {
           "line": {
            "color": "green",
            "width": 0.5
           },
           "mode": "lines",
           "name": "saccades",
           "showlegend": false,
           "x": [
            0.353448275862069,
            0.5998985801217038
           ],
           "y": [
            0.32950136513866934,
            0.31958614743497626
           ],
           "type": "scatter"
          },
          {
           "line": {
            "color": "green",
            "width": 0.5
           },
           "mode": "lines",
           "name": "saccades",
           "showlegend": false,
           "x": [
            0.5998985801217038,
            0.6905425963488845
           ],
           "y": [
            0.31958614743497626,
            0.3267710877999712
           ],
           "type": "scatter"
          },
          {
           "line": {
            "color": "red",
            "width": 0.5
           },
           "mode": "lines",
           "name": "regressions",
           "showlegend": false,
           "x": [
            0.6905425963488845,
            0.5773326572008114
           ],
           "y": [
            0.3267710877999712,
            0.33136944963356796
           ],
           "type": "scatter"
          },
          {
           "line": {
            "color": "green",
            "width": 0.5
           },
           "mode": "lines",
           "name": "saccades",
           "showlegend": false,
           "x": [
            0.5773326572008114,
            0.7838488843813387
           ],
           "y": [
            0.33136944963356796,
            0.3306509555970685
           ],
           "type": "scatter"
          },
          {
           "line": {
            "color": "green",
            "width": 0.5
           },
           "mode": "lines",
           "name": "saccades",
           "showlegend": false,
           "x": [
            0.7838488843813387,
            0.4141734279918864
           ],
           "y": [
            0.3306509555970685,
            0.25894525075441865
           ],
           "type": "scatter"
          },
          {
           "line": {
            "color": "green",
            "width": 0.5
           },
           "mode": "lines",
           "name": "saccades",
           "showlegend": false,
           "x": [
            0.4141734279918864,
            0.3857758620689656
           ],
           "y": [
            0.25894525075441865,
            0.24802414139962647
           ],
           "type": "scatter"
          },
          {
           "line": {
            "color": "green",
            "width": 0.5
           },
           "mode": "lines",
           "name": "saccades",
           "showlegend": false,
           "x": [
            0.3857758620689656,
            0.575684584178499
           ],
           "y": [
            0.24802414139962647,
            0.23782152608133356
           ],
           "type": "scatter"
          },
          {
           "line": {
            "color": "green",
            "width": 0.5
           },
           "mode": "lines",
           "name": "saccades",
           "showlegend": false,
           "x": [
            0.575684584178499,
            0.7554513184584178
           ],
           "y": [
            0.23782152608133356,
            0.22848110360684004
           ],
           "type": "scatter"
          },
          {
           "line": {
            "color": "green",
            "width": 0.5
           },
           "mode": "lines",
           "name": "saccades",
           "showlegend": false,
           "x": [
            0.7554513184584178,
            0.4461206896551724
           ],
           "y": [
            0.22848110360684004,
            0.1607989653685874
           ],
           "type": "scatter"
          },
          {
           "line": {
            "color": "red",
            "width": 0.5
           },
           "mode": "lines",
           "name": "regressions",
           "showlegend": false,
           "x": [
            0.4461206896551724,
            0.3533215010141988
           ],
           "y": [
            0.1607989653685874,
            0.1682713033481823
           ],
           "type": "scatter"
          },
          {
           "line": {
            "color": "green",
            "width": 0.5
           },
           "mode": "lines",
           "name": "saccades",
           "showlegend": false,
           "x": [
            0.3533215010141988,
            0.4969574036511156
           ],
           "y": [
            0.1682713033481823,
            0.15964937491018827
           ],
           "type": "scatter"
          },
          {
           "marker": {
            "color": "green",
            "size": 6
           },
           "mode": "markers",
           "name": "aoi_1",
           "text": [
            "duration: 182",
            "duration: 269",
            "duration: 123",
            "duration: 248",
            "duration: 247",
            "duration: 195",
            "duration: 127",
            "duration: 195",
            "duration: 97",
            "duration: 197"
           ],
           "x": {
            "dtype": "f8",
            "bdata": "MiCKDvSS2T/LB5VFIvbgP3bxC20mzuE/kw8qi0Ts2T8EvWR2DIjaPyfO33XxC9k/We5phOWe1j8yOwZE0YHaP9UIyz2NsNg/aBj1yNGc1j8="
           },
           "y": {
            "dtype": "f8",
            "bdata": "wQ7BgOyN4j+MxdpLruLiP+0gT7fHJeM/kh4PqwqC3z9ojcSviprZPwi/+XXXEdU/FILQ5IwW1T++dtwZj5LQPygG90tBv88/rCxeAOqJxT8="
           },
           "type": "scatter"
          },
          {
           "marker": {
            "color": "yellow",
            "size": 6
           },
           "mode": "markers",
           "name": "aoi_2",
           "text": [
            "duration: 207",
            "duration: 81",
            "duration: 171",
            "duration: 159",
            "duration: 118",
            "duration: 113",
            "duration: 124"
           ],
           "x": {
            "dtype": "f8",
            "bdata": "u90JATb45j9SjxzNqX3oP/cZRj1yNOM/OrXPMOqR5z+SbUFKFVPsP17hxmWsBOk/4JBtQUoV6T8="
           },
           "y": {
            "dtype": "f8",
            "bdata": "+6CYJZ7b4j/7oJglntviPyAJeI98GuA/RBWiVsNe4D+lauNG1xzgP2ziGxYJR9s/QI4roGIp1T8="
           },
           "type": "scatter"
          },
          {
           "marker": {
            "color": "blue",
            "size": 6
           },
           "mode": "markers",
           "name": "aoi_0",
           "text": [
            "duration: 193",
            "duration: 219",
            "duration: 185",
            "duration: 83",
            "duration: 229",
            "duration: 244",
            "duration: 234",
            "duration: 139"
           ],
           "x": {
            "dtype": "f8",
            "bdata": "0oFeMjsG5D8GRNGBXjLjP0YHesnsGOY/ceMyVoJ54j/WdLsTAmziP7H3Tz6oLOg/3NMIyz2N3D928QttJs7fPw=="
           },
           "y": {
            "dtype": "f8",
            "bdata": "Oo3P6r+R2j8OOd90GXTUPyhF2EfR6dQ/3HVENSg11T8E7maO73DOPyRo32nePs0/XI6+fA+VxD8EdggGZG/EPw=="
           },
           "type": "scatter"
          },
          {
           "marker": {
            "color": "red"
           },
           "mode": "markers",
           "name": "tracker",
           "x": [
            0.6001521298174443
           ],
           "y": [
            0.5032332231642478
           ],
           "type": "scatter"
          }
         ],
         "name": "6"
        },
        {
         "data": [
          {
           "line": {
            "color": "green",
            "width": 0.5
           },
           "mode": "lines",
           "name": "saccades",
           "showlegend": true,
           "x": [
            0.3995943204868154,
            0.5300456389452334
           ],
           "y": [
            0.5798246874550942,
            0.5901710015806869
           ],
           "type": "scatter"
          },
          {
           "line": {
            "color": "green",
            "width": 0.5
           },
           "mode": "lines",
           "name": "saccades",
           "showlegend": false,
           "x": [
            0.5300456389452334,
            0.5564148073022313
           ],
           "y": [
            0.5901710015806869,
            0.5983618335967812
           ],
           "type": "scatter"
          },
          {
           "line": {
            "color": "green",
            "width": 0.5
           },
           "mode": "lines",
           "name": "saccades",
           "showlegend": false,
           "x": [
            0.5564148073022313,
            0.7177991886409737
           ],
           "y": [
            0.5983618335967812,
            0.5893088087368875
           ],
           "type": "scatter"
          },
          {
           "line": {
            "color": "green",
            "width": 0.5
           },
           "mode": "lines",
           "name": "saccades",
           "showlegend": false,
           "x": [
            0.7177991886409737,
            0.7653397565922921
           ],
           "y": [
            0.5893088087368875,
            0.5893088087368875
           ],
           "type": "scatter"
          },
          {
           "line": {
            "color": "green",
            "width": 0.5
           },
           "mode": "lines",
           "name": "saccades",
           "showlegend": false,
           "x": [
            0.7653397565922921,
            0.4050456389452332
           ],
           "y": [
            0.5893088087368875,
            0.4923121138094554
           ],
           "type": "scatter"
          },
          {
           "line": {
            "color": "green",
            "width": 0.5
           },
           "mode": "lines",
           "name": "saccades",
           "showlegend": false,
           "x": [
            0.4050456389452332,
            0.6001521298174443
           ],
           "y": [
            0.4923121138094554,
            0.5032332231642478
           ],
           "type": "scatter"
          },
          {
           "line": {
            "color": "green",
            "width": 0.5
           },
           "mode": "lines",
           "name": "saccades",
           "showlegend": false,
           "x": [
            0.6001521298174443,
            0.7365618661257607
           ],
           "y": [
            0.5032332231642478,
            0.511567753987642
           ],
           "type": "scatter"
          },
          {
           "line": {
            "color": "green",
            "width": 0.5
           },
           "mode": "lines",
           "name": "saccades",
           "showlegend": false,
           "x": [
            0.7365618661257607,
            0.8851419878296147
           ],
           "y": [
            0.511567753987642,
            0.5035206207788475
           ],
           "type": "scatter"
          },
          {
           "line": {
            "color": "green",
            "width": 0.5
           },
           "mode": "lines",
           "name": "saccades",
           "showlegend": false,
           "x": [
            0.8851419878296147,
            0.414553752535497
           ],
           "y": [
            0.5035206207788475,
            0.4000574795229199
           ],
           "type": "scatter"
          },
          {
           "line": {
            "color": "green",
            "width": 0.5
           },
           "mode": "lines",
           "name": "saccades",
           "showlegend": false,
           "x": [
            0.414553752535497,
            0.6257606490872212
           ],
           "y": [
            0.4000574795229199,
            0.4151458542894094
           ],
           "type": "scatter"
          },
          {
           "line": {
            "color": "green",
            "width": 0.5
           },
           "mode": "lines",
           "name": "saccades",
           "showlegend": false,
           "x": [
            0.6257606490872212,
            0.7818204868154159
           ],
           "y": [
            0.4151458542894094,
            0.42621066245150163
           ],
           "type": "scatter"
          },
          {
           "line": {
            "color": "green",
            "width": 0.5
           },
           "mode": "lines",
           "name": "saccades",
           "showlegend": false,
           "x": [
            0.7818204868154159,
            0.3913539553752536
           ],
           "y": [
            0.42621066245150163,
            0.3292139675240695
           ],
           "type": "scatter"
          },
          {
           "line": {
            "color": "red",
            "width": 0.5
           },
           "mode": "lines",
           "name": "regressions",
           "showlegend": true,
           "x": [
            0.3913539553752536,
            0.353448275862069
           ],
           "y": [
            0.3292139675240695,
            0.32950136513866934
           ],
           "type": "scatter"
          },
          {
           "line": {
            "color": "green",
            "width": 0.5
           },
           "mode": "lines",
           "name": "saccades",
           "showlegend": false,
           "x": [
            0.353448275862069,
            0.5998985801217038
           ],
           "y": [
            0.32950136513866934,
            0.31958614743497626
           ],
           "type": "scatter"
          },
          {
           "line": {
            "color": "green",
            "width": 0.5
           },
           "mode": "lines",
           "name": "saccades",
           "showlegend": false,
           "x": [
            0.5998985801217038,
            0.6905425963488845
           ],
           "y": [
            0.31958614743497626,
            0.3267710877999712
           ],
           "type": "scatter"
          },
          {
           "line": {
            "color": "red",
            "width": 0.5
           },
           "mode": "lines",
           "name": "regressions",
           "showlegend": false,
           "x": [
            0.6905425963488845,
            0.5773326572008114
           ],
           "y": [
            0.3267710877999712,
            0.33136944963356796
           ],
           "type": "scatter"
          },
          {
           "line": {
            "color": "green",
            "width": 0.5
           },
           "mode": "lines",
           "name": "saccades",
           "showlegend": false,
           "x": [
            0.5773326572008114,
            0.7838488843813387
           ],
           "y": [
            0.33136944963356796,
            0.3306509555970685
           ],
           "type": "scatter"
          },
          {
           "line": {
            "color": "green",
            "width": 0.5
           },
           "mode": "lines",
           "name": "saccades",
           "showlegend": false,
           "x": [
            0.7838488843813387,
            0.4141734279918864
           ],
           "y": [
            0.3306509555970685,
            0.25894525075441865
           ],
           "type": "scatter"
          },
          {
           "line": {
            "color": "green",
            "width": 0.5
           },
           "mode": "lines",
           "name": "saccades",
           "showlegend": false,
           "x": [
            0.4141734279918864,
            0.3857758620689656
           ],
           "y": [
            0.25894525075441865,
            0.24802414139962647
           ],
           "type": "scatter"
          },
          {
           "line": {
            "color": "green",
            "width": 0.5
           },
           "mode": "lines",
           "name": "saccades",
           "showlegend": false,
           "x": [
            0.3857758620689656,
            0.575684584178499
           ],
           "y": [
            0.24802414139962647,
            0.23782152608133356
           ],
           "type": "scatter"
          },
          {
           "line": {
            "color": "green",
            "width": 0.5
           },
           "mode": "lines",
           "name": "saccades",
           "showlegend": false,
           "x": [
            0.575684584178499,
            0.7554513184584178
           ],
           "y": [
            0.23782152608133356,
            0.22848110360684004
           ],
           "type": "scatter"
          },
          {
           "line": {
            "color": "green",
            "width": 0.5
           },
           "mode": "lines",
           "name": "saccades",
           "showlegend": false,
           "x": [
            0.7554513184584178,
            0.4461206896551724
           ],
           "y": [
            0.22848110360684004,
            0.1607989653685874
           ],
           "type": "scatter"
          },
          {
           "line": {
            "color": "red",
            "width": 0.5
           },
           "mode": "lines",
           "name": "regressions",
           "showlegend": false,
           "x": [
            0.4461206896551724,
            0.3533215010141988
           ],
           "y": [
            0.1607989653685874,
            0.1682713033481823
           ],
           "type": "scatter"
          },
          {
           "line": {
            "color": "green",
            "width": 0.5
           },
           "mode": "lines",
           "name": "saccades",
           "showlegend": false,
           "x": [
            0.3533215010141988,
            0.4969574036511156
           ],
           "y": [
            0.1682713033481823,
            0.15964937491018827
           ],
           "type": "scatter"
          },
          {
           "marker": {
            "color": "green",
            "size": 6
           },
           "mode": "markers",
           "name": "aoi_1",
           "text": [
            "duration: 182",
            "duration: 269",
            "duration: 123",
            "duration: 248",
            "duration: 247",
            "duration: 195",
            "duration: 127",
            "duration: 195",
            "duration: 97",
            "duration: 197"
           ],
           "x": {
            "dtype": "f8",
            "bdata": "MiCKDvSS2T/LB5VFIvbgP3bxC20mzuE/kw8qi0Ts2T8EvWR2DIjaPyfO33XxC9k/We5phOWe1j8yOwZE0YHaP9UIyz2NsNg/aBj1yNGc1j8="
           },
           "y": {
            "dtype": "f8",
            "bdata": "wQ7BgOyN4j+MxdpLruLiP+0gT7fHJeM/kh4PqwqC3z9ojcSviprZPwi/+XXXEdU/FILQ5IwW1T++dtwZj5LQPygG90tBv88/rCxeAOqJxT8="
           },
           "type": "scatter"
          },
          {
           "marker": {
            "color": "yellow",
            "size": 6
           },
           "mode": "markers",
           "name": "aoi_2",
           "text": [
            "duration: 207",
            "duration: 81",
            "duration: 171",
            "duration: 159",
            "duration: 118",
            "duration: 113",
            "duration: 124"
           ],
           "x": {
            "dtype": "f8",
            "bdata": "u90JATb45j9SjxzNqX3oP/cZRj1yNOM/OrXPMOqR5z+SbUFKFVPsP17hxmWsBOk/4JBtQUoV6T8="
           },
           "y": {
            "dtype": "f8",
            "bdata": "+6CYJZ7b4j/7oJglntviPyAJeI98GuA/RBWiVsNe4D+lauNG1xzgP2ziGxYJR9s/QI4roGIp1T8="
           },
           "type": "scatter"
          },
          {
           "marker": {
            "color": "blue",
            "size": 6
           },
           "mode": "markers",
           "name": "aoi_0",
           "text": [
            "duration: 193",
            "duration: 219",
            "duration: 185",
            "duration: 83",
            "duration: 229",
            "duration: 244",
            "duration: 234",
            "duration: 139"
           ],
           "x": {
            "dtype": "f8",
            "bdata": "0oFeMjsG5D8GRNGBXjLjP0YHesnsGOY/ceMyVoJ54j/WdLsTAmziP7H3Tz6oLOg/3NMIyz2N3D928QttJs7fPw=="
           },
           "y": {
            "dtype": "f8",
            "bdata": "Oo3P6r+R2j8OOd90GXTUPyhF2EfR6dQ/3HVENSg11T8E7maO73DOPyRo32nePs0/XI6+fA+VxD8EdggGZG/EPw=="
           },
           "type": "scatter"
          },
          {
           "marker": {
            "color": "red"
           },
           "mode": "markers",
           "name": "tracker",
           "x": [
            0.7365618661257607
           ],
           "y": [
            0.511567753987642
           ],
           "type": "scatter"
          }
         ],
         "name": "7"
        },
        {
         "data": [
          {
           "line": {
            "color": "green",
            "width": 0.5
           },
           "mode": "lines",
           "name": "saccades",
           "showlegend": true,
           "x": [
            0.3995943204868154,
            0.5300456389452334
           ],
           "y": [
            0.5798246874550942,
            0.5901710015806869
           ],
           "type": "scatter"
          },
          {
           "line": {
            "color": "green",
            "width": 0.5
           },
           "mode": "lines",
           "name": "saccades",
           "showlegend": false,
           "x": [
            0.5300456389452334,
            0.5564148073022313
           ],
           "y": [
            0.5901710015806869,
            0.5983618335967812
           ],
           "type": "scatter"
          },
          {
           "line": {
            "color": "green",
            "width": 0.5
           },
           "mode": "lines",
           "name": "saccades",
           "showlegend": false,
           "x": [
            0.5564148073022313,
            0.7177991886409737
           ],
           "y": [
            0.5983618335967812,
            0.5893088087368875
           ],
           "type": "scatter"
          },
          {
           "line": {
            "color": "green",
            "width": 0.5
           },
           "mode": "lines",
           "name": "saccades",
           "showlegend": false,
           "x": [
            0.7177991886409737,
            0.7653397565922921
           ],
           "y": [
            0.5893088087368875,
            0.5893088087368875
           ],
           "type": "scatter"
          },
          {
           "line": {
            "color": "green",
            "width": 0.5
           },
           "mode": "lines",
           "name": "saccades",
           "showlegend": false,
           "x": [
            0.7653397565922921,
            0.4050456389452332
           ],
           "y": [
            0.5893088087368875,
            0.4923121138094554
           ],
           "type": "scatter"
          },
          {
           "line": {
            "color": "green",
            "width": 0.5
           },
           "mode": "lines",
           "name": "saccades",
           "showlegend": false,
           "x": [
            0.4050456389452332,
            0.6001521298174443
           ],
           "y": [
            0.4923121138094554,
            0.5032332231642478
           ],
           "type": "scatter"
          },
          {
           "line": {
            "color": "green",
            "width": 0.5
           },
           "mode": "lines",
           "name": "saccades",
           "showlegend": false,
           "x": [
            0.6001521298174443,
            0.7365618661257607
           ],
           "y": [
            0.5032332231642478,
            0.511567753987642
           ],
           "type": "scatter"
          },
          {
           "line": {
            "color": "green",
            "width": 0.5
           },
           "mode": "lines",
           "name": "saccades",
           "showlegend": false,
           "x": [
            0.7365618661257607,
            0.8851419878296147
           ],
           "y": [
            0.511567753987642,
            0.5035206207788475
           ],
           "type": "scatter"
          },
          {
           "line": {
            "color": "green",
            "width": 0.5
           },
           "mode": "lines",
           "name": "saccades",
           "showlegend": false,
           "x": [
            0.8851419878296147,
            0.414553752535497
           ],
           "y": [
            0.5035206207788475,
            0.4000574795229199
           ],
           "type": "scatter"
          },
          {
           "line": {
            "color": "green",
            "width": 0.5
           },
           "mode": "lines",
           "name": "saccades",
           "showlegend": false,
           "x": [
            0.414553752535497,
            0.6257606490872212
           ],
           "y": [
            0.4000574795229199,
            0.4151458542894094
           ],
           "type": "scatter"
          },
          {
           "line": {
            "color": "green",
            "width": 0.5
           },
           "mode": "lines",
           "name": "saccades",
           "showlegend": false,
           "x": [
            0.6257606490872212,
            0.7818204868154159
           ],
           "y": [
            0.4151458542894094,
            0.42621066245150163
           ],
           "type": "scatter"
          },
          {
           "line": {
            "color": "green",
            "width": 0.5
           },
           "mode": "lines",
           "name": "saccades",
           "showlegend": false,
           "x": [
            0.7818204868154159,
            0.3913539553752536
           ],
           "y": [
            0.42621066245150163,
            0.3292139675240695
           ],
           "type": "scatter"
          },
          {
           "line": {
            "color": "red",
            "width": 0.5
           },
           "mode": "lines",
           "name": "regressions",
           "showlegend": true,
           "x": [
            0.3913539553752536,
            0.353448275862069
           ],
           "y": [
            0.3292139675240695,
            0.32950136513866934
           ],
           "type": "scatter"
          },
          {
           "line": {
            "color": "green",
            "width": 0.5
           },
           "mode": "lines",
           "name": "saccades",
           "showlegend": false,
           "x": [
            0.353448275862069,
            0.5998985801217038
           ],
           "y": [
            0.32950136513866934,
            0.31958614743497626
           ],
           "type": "scatter"
          },
          {
           "line": {
            "color": "green",
            "width": 0.5
           },
           "mode": "lines",
           "name": "saccades",
           "showlegend": false,
           "x": [
            0.5998985801217038,
            0.6905425963488845
           ],
           "y": [
            0.31958614743497626,
            0.3267710877999712
           ],
           "type": "scatter"
          },
          {
           "line": {
            "color": "red",
            "width": 0.5
           },
           "mode": "lines",
           "name": "regressions",
           "showlegend": false,
           "x": [
            0.6905425963488845,
            0.5773326572008114
           ],
           "y": [
            0.3267710877999712,
            0.33136944963356796
           ],
           "type": "scatter"
          },
          {
           "line": {
            "color": "green",
            "width": 0.5
           },
           "mode": "lines",
           "name": "saccades",
           "showlegend": false,
           "x": [
            0.5773326572008114,
            0.7838488843813387
           ],
           "y": [
            0.33136944963356796,
            0.3306509555970685
           ],
           "type": "scatter"
          },
          {
           "line": {
            "color": "green",
            "width": 0.5
           },
           "mode": "lines",
           "name": "saccades",
           "showlegend": false,
           "x": [
            0.7838488843813387,
            0.4141734279918864
           ],
           "y": [
            0.3306509555970685,
            0.25894525075441865
           ],
           "type": "scatter"
          },
          {
           "line": {
            "color": "green",
            "width": 0.5
           },
           "mode": "lines",
           "name": "saccades",
           "showlegend": false,
           "x": [
            0.4141734279918864,
            0.3857758620689656
           ],
           "y": [
            0.25894525075441865,
            0.24802414139962647
           ],
           "type": "scatter"
          },
          {
           "line": {
            "color": "green",
            "width": 0.5
           },
           "mode": "lines",
           "name": "saccades",
           "showlegend": false,
           "x": [
            0.3857758620689656,
            0.575684584178499
           ],
           "y": [
            0.24802414139962647,
            0.23782152608133356
           ],
           "type": "scatter"
          },
          {
           "line": {
            "color": "green",
            "width": 0.5
           },
           "mode": "lines",
           "name": "saccades",
           "showlegend": false,
           "x": [
            0.575684584178499,
            0.7554513184584178
           ],
           "y": [
            0.23782152608133356,
            0.22848110360684004
           ],
           "type": "scatter"
          },
          {
           "line": {
            "color": "green",
            "width": 0.5
           },
           "mode": "lines",
           "name": "saccades",
           "showlegend": false,
           "x": [
            0.7554513184584178,
            0.4461206896551724
           ],
           "y": [
            0.22848110360684004,
            0.1607989653685874
           ],
           "type": "scatter"
          },
          {
           "line": {
            "color": "red",
            "width": 0.5
           },
           "mode": "lines",
           "name": "regressions",
           "showlegend": false,
           "x": [
            0.4461206896551724,
            0.3533215010141988
           ],
           "y": [
            0.1607989653685874,
            0.1682713033481823
           ],
           "type": "scatter"
          },
          {
           "line": {
            "color": "green",
            "width": 0.5
           },
           "mode": "lines",
           "name": "saccades",
           "showlegend": false,
           "x": [
            0.3533215010141988,
            0.4969574036511156
           ],
           "y": [
            0.1682713033481823,
            0.15964937491018827
           ],
           "type": "scatter"
          },
          {
           "marker": {
            "color": "green",
            "size": 6
           },
           "mode": "markers",
           "name": "aoi_1",
           "text": [
            "duration: 182",
            "duration: 269",
            "duration: 123",
            "duration: 248",
            "duration: 247",
            "duration: 195",
            "duration: 127",
            "duration: 195",
            "duration: 97",
            "duration: 197"
           ],
           "x": {
            "dtype": "f8",
            "bdata": "MiCKDvSS2T/LB5VFIvbgP3bxC20mzuE/kw8qi0Ts2T8EvWR2DIjaPyfO33XxC9k/We5phOWe1j8yOwZE0YHaP9UIyz2NsNg/aBj1yNGc1j8="
           },
           "y": {
            "dtype": "f8",
            "bdata": "wQ7BgOyN4j+MxdpLruLiP+0gT7fHJeM/kh4PqwqC3z9ojcSviprZPwi/+XXXEdU/FILQ5IwW1T++dtwZj5LQPygG90tBv88/rCxeAOqJxT8="
           },
           "type": "scatter"
          },
          {
           "marker": {
            "color": "yellow",
            "size": 6
           },
           "mode": "markers",
           "name": "aoi_2",
           "text": [
            "duration: 207",
            "duration: 81",
            "duration: 171",
            "duration: 159",
            "duration: 118",
            "duration: 113",
            "duration: 124"
           ],
           "x": {
            "dtype": "f8",
            "bdata": "u90JATb45j9SjxzNqX3oP/cZRj1yNOM/OrXPMOqR5z+SbUFKFVPsP17hxmWsBOk/4JBtQUoV6T8="
           },
           "y": {
            "dtype": "f8",
            "bdata": "+6CYJZ7b4j/7oJglntviPyAJeI98GuA/RBWiVsNe4D+lauNG1xzgP2ziGxYJR9s/QI4roGIp1T8="
           },
           "type": "scatter"
          },
          {
           "marker": {
            "color": "blue",
            "size": 6
           },
           "mode": "markers",
           "name": "aoi_0",
           "text": [
            "duration: 193",
            "duration: 219",
            "duration: 185",
            "duration: 83",
            "duration: 229",
            "duration: 244",
            "duration: 234",
            "duration: 139"
           ],
           "x": {
            "dtype": "f8",
            "bdata": "0oFeMjsG5D8GRNGBXjLjP0YHesnsGOY/ceMyVoJ54j/WdLsTAmziP7H3Tz6oLOg/3NMIyz2N3D928QttJs7fPw=="
           },
           "y": {
            "dtype": "f8",
            "bdata": "Oo3P6r+R2j8OOd90GXTUPyhF2EfR6dQ/3HVENSg11T8E7maO73DOPyRo32nePs0/XI6+fA+VxD8EdggGZG/EPw=="
           },
           "type": "scatter"
          },
          {
           "marker": {
            "color": "red"
           },
           "mode": "markers",
           "name": "tracker",
           "x": [
            0.8851419878296147
           ],
           "y": [
            0.5035206207788475
           ],
           "type": "scatter"
          }
         ],
         "name": "8"
        },
        {
         "data": [
          {
           "line": {
            "color": "green",
            "width": 0.5
           },
           "mode": "lines",
           "name": "saccades",
           "showlegend": true,
           "x": [
            0.3995943204868154,
            0.5300456389452334
           ],
           "y": [
            0.5798246874550942,
            0.5901710015806869
           ],
           "type": "scatter"
          },
          {
           "line": {
            "color": "green",
            "width": 0.5
           },
           "mode": "lines",
           "name": "saccades",
           "showlegend": false,
           "x": [
            0.5300456389452334,
            0.5564148073022313
           ],
           "y": [
            0.5901710015806869,
            0.5983618335967812
           ],
           "type": "scatter"
          },
          {
           "line": {
            "color": "green",
            "width": 0.5
           },
           "mode": "lines",
           "name": "saccades",
           "showlegend": false,
           "x": [
            0.5564148073022313,
            0.7177991886409737
           ],
           "y": [
            0.5983618335967812,
            0.5893088087368875
           ],
           "type": "scatter"
          },
          {
           "line": {
            "color": "green",
            "width": 0.5
           },
           "mode": "lines",
           "name": "saccades",
           "showlegend": false,
           "x": [
            0.7177991886409737,
            0.7653397565922921
           ],
           "y": [
            0.5893088087368875,
            0.5893088087368875
           ],
           "type": "scatter"
          },
          {
           "line": {
            "color": "green",
            "width": 0.5
           },
           "mode": "lines",
           "name": "saccades",
           "showlegend": false,
           "x": [
            0.7653397565922921,
            0.4050456389452332
           ],
           "y": [
            0.5893088087368875,
            0.4923121138094554
           ],
           "type": "scatter"
          },
          {
           "line": {
            "color": "green",
            "width": 0.5
           },
           "mode": "lines",
           "name": "saccades",
           "showlegend": false,
           "x": [
            0.4050456389452332,
            0.6001521298174443
           ],
           "y": [
            0.4923121138094554,
            0.5032332231642478
           ],
           "type": "scatter"
          },
          {
           "line": {
            "color": "green",
            "width": 0.5
           },
           "mode": "lines",
           "name": "saccades",
           "showlegend": false,
           "x": [
            0.6001521298174443,
            0.7365618661257607
           ],
           "y": [
            0.5032332231642478,
            0.511567753987642
           ],
           "type": "scatter"
          },
          {
           "line": {
            "color": "green",
            "width": 0.5
           },
           "mode": "lines",
           "name": "saccades",
           "showlegend": false,
           "x": [
            0.7365618661257607,
            0.8851419878296147
           ],
           "y": [
            0.511567753987642,
            0.5035206207788475
           ],
           "type": "scatter"
          },
          {
           "line": {
            "color": "green",
            "width": 0.5
           },
           "mode": "lines",
           "name": "saccades",
           "showlegend": false,
           "x": [
            0.8851419878296147,
            0.414553752535497
           ],
           "y": [
            0.5035206207788475,
            0.4000574795229199
           ],
           "type": "scatter"
          },
          {
           "line": {
            "color": "green",
            "width": 0.5
           },
           "mode": "lines",
           "name": "saccades",
           "showlegend": false,
           "x": [
            0.414553752535497,
            0.6257606490872212
           ],
           "y": [
            0.4000574795229199,
            0.4151458542894094
           ],
           "type": "scatter"
          },
          {
           "line": {
            "color": "green",
            "width": 0.5
           },
           "mode": "lines",
           "name": "saccades",
           "showlegend": false,
           "x": [
            0.6257606490872212,
            0.7818204868154159
           ],
           "y": [
            0.4151458542894094,
            0.42621066245150163
           ],
           "type": "scatter"
          },
          {
           "line": {
            "color": "green",
            "width": 0.5
           },
           "mode": "lines",
           "name": "saccades",
           "showlegend": false,
           "x": [
            0.7818204868154159,
            0.3913539553752536
           ],
           "y": [
            0.42621066245150163,
            0.3292139675240695
           ],
           "type": "scatter"
          },
          {
           "line": {
            "color": "red",
            "width": 0.5
           },
           "mode": "lines",
           "name": "regressions",
           "showlegend": true,
           "x": [
            0.3913539553752536,
            0.353448275862069
           ],
           "y": [
            0.3292139675240695,
            0.32950136513866934
           ],
           "type": "scatter"
          },
          {
           "line": {
            "color": "green",
            "width": 0.5
           },
           "mode": "lines",
           "name": "saccades",
           "showlegend": false,
           "x": [
            0.353448275862069,
            0.5998985801217038
           ],
           "y": [
            0.32950136513866934,
            0.31958614743497626
           ],
           "type": "scatter"
          },
          {
           "line": {
            "color": "green",
            "width": 0.5
           },
           "mode": "lines",
           "name": "saccades",
           "showlegend": false,
           "x": [
            0.5998985801217038,
            0.6905425963488845
           ],
           "y": [
            0.31958614743497626,
            0.3267710877999712
           ],
           "type": "scatter"
          },
          {
           "line": {
            "color": "red",
            "width": 0.5
           },
           "mode": "lines",
           "name": "regressions",
           "showlegend": false,
           "x": [
            0.6905425963488845,
            0.5773326572008114
           ],
           "y": [
            0.3267710877999712,
            0.33136944963356796
           ],
           "type": "scatter"
          },
          {
           "line": {
            "color": "green",
            "width": 0.5
           },
           "mode": "lines",
           "name": "saccades",
           "showlegend": false,
           "x": [
            0.5773326572008114,
            0.7838488843813387
           ],
           "y": [
            0.33136944963356796,
            0.3306509555970685
           ],
           "type": "scatter"
          },
          {
           "line": {
            "color": "green",
            "width": 0.5
           },
           "mode": "lines",
           "name": "saccades",
           "showlegend": false,
           "x": [
            0.7838488843813387,
            0.4141734279918864
           ],
           "y": [
            0.3306509555970685,
            0.25894525075441865
           ],
           "type": "scatter"
          },
          {
           "line": {
            "color": "green",
            "width": 0.5
           },
           "mode": "lines",
           "name": "saccades",
           "showlegend": false,
           "x": [
            0.4141734279918864,
            0.3857758620689656
           ],
           "y": [
            0.25894525075441865,
            0.24802414139962647
           ],
           "type": "scatter"
          },
          {
           "line": {
            "color": "green",
            "width": 0.5
           },
           "mode": "lines",
           "name": "saccades",
           "showlegend": false,
           "x": [
            0.3857758620689656,
            0.575684584178499
           ],
           "y": [
            0.24802414139962647,
            0.23782152608133356
           ],
           "type": "scatter"
          },
          {
           "line": {
            "color": "green",
            "width": 0.5
           },
           "mode": "lines",
           "name": "saccades",
           "showlegend": false,
           "x": [
            0.575684584178499,
            0.7554513184584178
           ],
           "y": [
            0.23782152608133356,
            0.22848110360684004
           ],
           "type": "scatter"
          },
          {
           "line": {
            "color": "green",
            "width": 0.5
           },
           "mode": "lines",
           "name": "saccades",
           "showlegend": false,
           "x": [
            0.7554513184584178,
            0.4461206896551724
           ],
           "y": [
            0.22848110360684004,
            0.1607989653685874
           ],
           "type": "scatter"
          },
          {
           "line": {
            "color": "red",
            "width": 0.5
           },
           "mode": "lines",
           "name": "regressions",
           "showlegend": false,
           "x": [
            0.4461206896551724,
            0.3533215010141988
           ],
           "y": [
            0.1607989653685874,
            0.1682713033481823
           ],
           "type": "scatter"
          },
          {
           "line": {
            "color": "green",
            "width": 0.5
           },
           "mode": "lines",
           "name": "saccades",
           "showlegend": false,
           "x": [
            0.3533215010141988,
            0.4969574036511156
           ],
           "y": [
            0.1682713033481823,
            0.15964937491018827
           ],
           "type": "scatter"
          },
          {
           "marker": {
            "color": "green",
            "size": 6
           },
           "mode": "markers",
           "name": "aoi_1",
           "text": [
            "duration: 182",
            "duration: 269",
            "duration: 123",
            "duration: 248",
            "duration: 247",
            "duration: 195",
            "duration: 127",
            "duration: 195",
            "duration: 97",
            "duration: 197"
           ],
           "x": {
            "dtype": "f8",
            "bdata": "MiCKDvSS2T/LB5VFIvbgP3bxC20mzuE/kw8qi0Ts2T8EvWR2DIjaPyfO33XxC9k/We5phOWe1j8yOwZE0YHaP9UIyz2NsNg/aBj1yNGc1j8="
           },
           "y": {
            "dtype": "f8",
            "bdata": "wQ7BgOyN4j+MxdpLruLiP+0gT7fHJeM/kh4PqwqC3z9ojcSviprZPwi/+XXXEdU/FILQ5IwW1T++dtwZj5LQPygG90tBv88/rCxeAOqJxT8="
           },
           "type": "scatter"
          },
          {
           "marker": {
            "color": "yellow",
            "size": 6
           },
           "mode": "markers",
           "name": "aoi_2",
           "text": [
            "duration: 207",
            "duration: 81",
            "duration: 171",
            "duration: 159",
            "duration: 118",
            "duration: 113",
            "duration: 124"
           ],
           "x": {
            "dtype": "f8",
            "bdata": "u90JATb45j9SjxzNqX3oP/cZRj1yNOM/OrXPMOqR5z+SbUFKFVPsP17hxmWsBOk/4JBtQUoV6T8="
           },
           "y": {
            "dtype": "f8",
            "bdata": "+6CYJZ7b4j/7oJglntviPyAJeI98GuA/RBWiVsNe4D+lauNG1xzgP2ziGxYJR9s/QI4roGIp1T8="
           },
           "type": "scatter"
          },
          {
           "marker": {
            "color": "blue",
            "size": 6
           },
           "mode": "markers",
           "name": "aoi_0",
           "text": [
            "duration: 193",
            "duration: 219",
            "duration: 185",
            "duration: 83",
            "duration: 229",
            "duration: 244",
            "duration: 234",
            "duration: 139"
           ],
           "x": {
            "dtype": "f8",
            "bdata": "0oFeMjsG5D8GRNGBXjLjP0YHesnsGOY/ceMyVoJ54j/WdLsTAmziP7H3Tz6oLOg/3NMIyz2N3D928QttJs7fPw=="
           },
           "y": {
            "dtype": "f8",
            "bdata": "Oo3P6r+R2j8OOd90GXTUPyhF2EfR6dQ/3HVENSg11T8E7maO73DOPyRo32nePs0/XI6+fA+VxD8EdggGZG/EPw=="
           },
           "type": "scatter"
          },
          {
           "marker": {
            "color": "red"
           },
           "mode": "markers",
           "name": "tracker",
           "x": [
            0.414553752535497
           ],
           "y": [
            0.4000574795229199
           ],
           "type": "scatter"
          }
         ],
         "name": "9"
        },
        {
         "data": [
          {
           "line": {
            "color": "green",
            "width": 0.5
           },
           "mode": "lines",
           "name": "saccades",
           "showlegend": true,
           "x": [
            0.3995943204868154,
            0.5300456389452334
           ],
           "y": [
            0.5798246874550942,
            0.5901710015806869
           ],
           "type": "scatter"
          },
          {
           "line": {
            "color": "green",
            "width": 0.5
           },
           "mode": "lines",
           "name": "saccades",
           "showlegend": false,
           "x": [
            0.5300456389452334,
            0.5564148073022313
           ],
           "y": [
            0.5901710015806869,
            0.5983618335967812
           ],
           "type": "scatter"
          },
          {
           "line": {
            "color": "green",
            "width": 0.5
           },
           "mode": "lines",
           "name": "saccades",
           "showlegend": false,
           "x": [
            0.5564148073022313,
            0.7177991886409737
           ],
           "y": [
            0.5983618335967812,
            0.5893088087368875
           ],
           "type": "scatter"
          },
          {
           "line": {
            "color": "green",
            "width": 0.5
           },
           "mode": "lines",
           "name": "saccades",
           "showlegend": false,
           "x": [
            0.7177991886409737,
            0.7653397565922921
           ],
           "y": [
            0.5893088087368875,
            0.5893088087368875
           ],
           "type": "scatter"
          },
          {
           "line": {
            "color": "green",
            "width": 0.5
           },
           "mode": "lines",
           "name": "saccades",
           "showlegend": false,
           "x": [
            0.7653397565922921,
            0.4050456389452332
           ],
           "y": [
            0.5893088087368875,
            0.4923121138094554
           ],
           "type": "scatter"
          },
          {
           "line": {
            "color": "green",
            "width": 0.5
           },
           "mode": "lines",
           "name": "saccades",
           "showlegend": false,
           "x": [
            0.4050456389452332,
            0.6001521298174443
           ],
           "y": [
            0.4923121138094554,
            0.5032332231642478
           ],
           "type": "scatter"
          },
          {
           "line": {
            "color": "green",
            "width": 0.5
           },
           "mode": "lines",
           "name": "saccades",
           "showlegend": false,
           "x": [
            0.6001521298174443,
            0.7365618661257607
           ],
           "y": [
            0.5032332231642478,
            0.511567753987642
           ],
           "type": "scatter"
          },
          {
           "line": {
            "color": "green",
            "width": 0.5
           },
           "mode": "lines",
           "name": "saccades",
           "showlegend": false,
           "x": [
            0.7365618661257607,
            0.8851419878296147
           ],
           "y": [
            0.511567753987642,
            0.5035206207788475
           ],
           "type": "scatter"
          },
          {
           "line": {
            "color": "green",
            "width": 0.5
           },
           "mode": "lines",
           "name": "saccades",
           "showlegend": false,
           "x": [
            0.8851419878296147,
            0.414553752535497
           ],
           "y": [
            0.5035206207788475,
            0.4000574795229199
           ],
           "type": "scatter"
          },
          {
           "line": {
            "color": "green",
            "width": 0.5
           },
           "mode": "lines",
           "name": "saccades",
           "showlegend": false,
           "x": [
            0.414553752535497,
            0.6257606490872212
           ],
           "y": [
            0.4000574795229199,
            0.4151458542894094
           ],
           "type": "scatter"
          },
          {
           "line": {
            "color": "green",
            "width": 0.5
           },
           "mode": "lines",
           "name": "saccades",
           "showlegend": false,
           "x": [
            0.6257606490872212,
            0.7818204868154159
           ],
           "y": [
            0.4151458542894094,
            0.42621066245150163
           ],
           "type": "scatter"
          },
          {
           "line": {
            "color": "green",
            "width": 0.5
           },
           "mode": "lines",
           "name": "saccades",
           "showlegend": false,
           "x": [
            0.7818204868154159,
            0.3913539553752536
           ],
           "y": [
            0.42621066245150163,
            0.3292139675240695
           ],
           "type": "scatter"
          },
          {
           "line": {
            "color": "red",
            "width": 0.5
           },
           "mode": "lines",
           "name": "regressions",
           "showlegend": true,
           "x": [
            0.3913539553752536,
            0.353448275862069
           ],
           "y": [
            0.3292139675240695,
            0.32950136513866934
           ],
           "type": "scatter"
          },
          {
           "line": {
            "color": "green",
            "width": 0.5
           },
           "mode": "lines",
           "name": "saccades",
           "showlegend": false,
           "x": [
            0.353448275862069,
            0.5998985801217038
           ],
           "y": [
            0.32950136513866934,
            0.31958614743497626
           ],
           "type": "scatter"
          },
          {
           "line": {
            "color": "green",
            "width": 0.5
           },
           "mode": "lines",
           "name": "saccades",
           "showlegend": false,
           "x": [
            0.5998985801217038,
            0.6905425963488845
           ],
           "y": [
            0.31958614743497626,
            0.3267710877999712
           ],
           "type": "scatter"
          },
          {
           "line": {
            "color": "red",
            "width": 0.5
           },
           "mode": "lines",
           "name": "regressions",
           "showlegend": false,
           "x": [
            0.6905425963488845,
            0.5773326572008114
           ],
           "y": [
            0.3267710877999712,
            0.33136944963356796
           ],
           "type": "scatter"
          },
          {
           "line": {
            "color": "green",
            "width": 0.5
           },
           "mode": "lines",
           "name": "saccades",
           "showlegend": false,
           "x": [
            0.5773326572008114,
            0.7838488843813387
           ],
           "y": [
            0.33136944963356796,
            0.3306509555970685
           ],
           "type": "scatter"
          },
          {
           "line": {
            "color": "green",
            "width": 0.5
           },
           "mode": "lines",
           "name": "saccades",
           "showlegend": false,
           "x": [
            0.7838488843813387,
            0.4141734279918864
           ],
           "y": [
            0.3306509555970685,
            0.25894525075441865
           ],
           "type": "scatter"
          },
          {
           "line": {
            "color": "green",
            "width": 0.5
           },
           "mode": "lines",
           "name": "saccades",
           "showlegend": false,
           "x": [
            0.4141734279918864,
            0.3857758620689656
           ],
           "y": [
            0.25894525075441865,
            0.24802414139962647
           ],
           "type": "scatter"
          },
          {
           "line": {
            "color": "green",
            "width": 0.5
           },
           "mode": "lines",
           "name": "saccades",
           "showlegend": false,
           "x": [
            0.3857758620689656,
            0.575684584178499
           ],
           "y": [
            0.24802414139962647,
            0.23782152608133356
           ],
           "type": "scatter"
          },
          {
           "line": {
            "color": "green",
            "width": 0.5
           },
           "mode": "lines",
           "name": "saccades",
           "showlegend": false,
           "x": [
            0.575684584178499,
            0.7554513184584178
           ],
           "y": [
            0.23782152608133356,
            0.22848110360684004
           ],
           "type": "scatter"
          },
          {
           "line": {
            "color": "green",
            "width": 0.5
           },
           "mode": "lines",
           "name": "saccades",
           "showlegend": false,
           "x": [
            0.7554513184584178,
            0.4461206896551724
           ],
           "y": [
            0.22848110360684004,
            0.1607989653685874
           ],
           "type": "scatter"
          },
          {
           "line": {
            "color": "red",
            "width": 0.5
           },
           "mode": "lines",
           "name": "regressions",
           "showlegend": false,
           "x": [
            0.4461206896551724,
            0.3533215010141988
           ],
           "y": [
            0.1607989653685874,
            0.1682713033481823
           ],
           "type": "scatter"
          },
          {
           "line": {
            "color": "green",
            "width": 0.5
           },
           "mode": "lines",
           "name": "saccades",
           "showlegend": false,
           "x": [
            0.3533215010141988,
            0.4969574036511156
           ],
           "y": [
            0.1682713033481823,
            0.15964937491018827
           ],
           "type": "scatter"
          },
          {
           "marker": {
            "color": "green",
            "size": 6
           },
           "mode": "markers",
           "name": "aoi_1",
           "text": [
            "duration: 182",
            "duration: 269",
            "duration: 123",
            "duration: 248",
            "duration: 247",
            "duration: 195",
            "duration: 127",
            "duration: 195",
            "duration: 97",
            "duration: 197"
           ],
           "x": {
            "dtype": "f8",
            "bdata": "MiCKDvSS2T/LB5VFIvbgP3bxC20mzuE/kw8qi0Ts2T8EvWR2DIjaPyfO33XxC9k/We5phOWe1j8yOwZE0YHaP9UIyz2NsNg/aBj1yNGc1j8="
           },
           "y": {
            "dtype": "f8",
            "bdata": "wQ7BgOyN4j+MxdpLruLiP+0gT7fHJeM/kh4PqwqC3z9ojcSviprZPwi/+XXXEdU/FILQ5IwW1T++dtwZj5LQPygG90tBv88/rCxeAOqJxT8="
           },
           "type": "scatter"
          },
          {
           "marker": {
            "color": "yellow",
            "size": 6
           },
           "mode": "markers",
           "name": "aoi_2",
           "text": [
            "duration: 207",
            "duration: 81",
            "duration: 171",
            "duration: 159",
            "duration: 118",
            "duration: 113",
            "duration: 124"
           ],
           "x": {
            "dtype": "f8",
            "bdata": "u90JATb45j9SjxzNqX3oP/cZRj1yNOM/OrXPMOqR5z+SbUFKFVPsP17hxmWsBOk/4JBtQUoV6T8="
           },
           "y": {
            "dtype": "f8",
            "bdata": "+6CYJZ7b4j/7oJglntviPyAJeI98GuA/RBWiVsNe4D+lauNG1xzgP2ziGxYJR9s/QI4roGIp1T8="
           },
           "type": "scatter"
          },
          {
           "marker": {
            "color": "blue",
            "size": 6
           },
           "mode": "markers",
           "name": "aoi_0",
           "text": [
            "duration: 193",
            "duration: 219",
            "duration: 185",
            "duration: 83",
            "duration: 229",
            "duration: 244",
            "duration: 234",
            "duration: 139"
           ],
           "x": {
            "dtype": "f8",
            "bdata": "0oFeMjsG5D8GRNGBXjLjP0YHesnsGOY/ceMyVoJ54j/WdLsTAmziP7H3Tz6oLOg/3NMIyz2N3D928QttJs7fPw=="
           },
           "y": {
            "dtype": "f8",
            "bdata": "Oo3P6r+R2j8OOd90GXTUPyhF2EfR6dQ/3HVENSg11T8E7maO73DOPyRo32nePs0/XI6+fA+VxD8EdggGZG/EPw=="
           },
           "type": "scatter"
          },
          {
           "marker": {
            "color": "red"
           },
           "mode": "markers",
           "name": "tracker",
           "x": [
            0.6257606490872212
           ],
           "y": [
            0.4151458542894094
           ],
           "type": "scatter"
          }
         ],
         "name": "10"
        },
        {
         "data": [
          {
           "line": {
            "color": "green",
            "width": 0.5
           },
           "mode": "lines",
           "name": "saccades",
           "showlegend": true,
           "x": [
            0.3995943204868154,
            0.5300456389452334
           ],
           "y": [
            0.5798246874550942,
            0.5901710015806869
           ],
           "type": "scatter"
          },
          {
           "line": {
            "color": "green",
            "width": 0.5
           },
           "mode": "lines",
           "name": "saccades",
           "showlegend": false,
           "x": [
            0.5300456389452334,
            0.5564148073022313
           ],
           "y": [
            0.5901710015806869,
            0.5983618335967812
           ],
           "type": "scatter"
          },
          {
           "line": {
            "color": "green",
            "width": 0.5
           },
           "mode": "lines",
           "name": "saccades",
           "showlegend": false,
           "x": [
            0.5564148073022313,
            0.7177991886409737
           ],
           "y": [
            0.5983618335967812,
            0.5893088087368875
           ],
           "type": "scatter"
          },
          {
           "line": {
            "color": "green",
            "width": 0.5
           },
           "mode": "lines",
           "name": "saccades",
           "showlegend": false,
           "x": [
            0.7177991886409737,
            0.7653397565922921
           ],
           "y": [
            0.5893088087368875,
            0.5893088087368875
           ],
           "type": "scatter"
          },
          {
           "line": {
            "color": "green",
            "width": 0.5
           },
           "mode": "lines",
           "name": "saccades",
           "showlegend": false,
           "x": [
            0.7653397565922921,
            0.4050456389452332
           ],
           "y": [
            0.5893088087368875,
            0.4923121138094554
           ],
           "type": "scatter"
          },
          {
           "line": {
            "color": "green",
            "width": 0.5
           },
           "mode": "lines",
           "name": "saccades",
           "showlegend": false,
           "x": [
            0.4050456389452332,
            0.6001521298174443
           ],
           "y": [
            0.4923121138094554,
            0.5032332231642478
           ],
           "type": "scatter"
          },
          {
           "line": {
            "color": "green",
            "width": 0.5
           },
           "mode": "lines",
           "name": "saccades",
           "showlegend": false,
           "x": [
            0.6001521298174443,
            0.7365618661257607
           ],
           "y": [
            0.5032332231642478,
            0.511567753987642
           ],
           "type": "scatter"
          },
          {
           "line": {
            "color": "green",
            "width": 0.5
           },
           "mode": "lines",
           "name": "saccades",
           "showlegend": false,
           "x": [
            0.7365618661257607,
            0.8851419878296147
           ],
           "y": [
            0.511567753987642,
            0.5035206207788475
           ],
           "type": "scatter"
          },
          {
           "line": {
            "color": "green",
            "width": 0.5
           },
           "mode": "lines",
           "name": "saccades",
           "showlegend": false,
           "x": [
            0.8851419878296147,
            0.414553752535497
           ],
           "y": [
            0.5035206207788475,
            0.4000574795229199
           ],
           "type": "scatter"
          },
          {
           "line": {
            "color": "green",
            "width": 0.5
           },
           "mode": "lines",
           "name": "saccades",
           "showlegend": false,
           "x": [
            0.414553752535497,
            0.6257606490872212
           ],
           "y": [
            0.4000574795229199,
            0.4151458542894094
           ],
           "type": "scatter"
          },
          {
           "line": {
            "color": "green",
            "width": 0.5
           },
           "mode": "lines",
           "name": "saccades",
           "showlegend": false,
           "x": [
            0.6257606490872212,
            0.7818204868154159
           ],
           "y": [
            0.4151458542894094,
            0.42621066245150163
           ],
           "type": "scatter"
          },
          {
           "line": {
            "color": "green",
            "width": 0.5
           },
           "mode": "lines",
           "name": "saccades",
           "showlegend": false,
           "x": [
            0.7818204868154159,
            0.3913539553752536
           ],
           "y": [
            0.42621066245150163,
            0.3292139675240695
           ],
           "type": "scatter"
          },
          {
           "line": {
            "color": "red",
            "width": 0.5
           },
           "mode": "lines",
           "name": "regressions",
           "showlegend": true,
           "x": [
            0.3913539553752536,
            0.353448275862069
           ],
           "y": [
            0.3292139675240695,
            0.32950136513866934
           ],
           "type": "scatter"
          },
          {
           "line": {
            "color": "green",
            "width": 0.5
           },
           "mode": "lines",
           "name": "saccades",
           "showlegend": false,
           "x": [
            0.353448275862069,
            0.5998985801217038
           ],
           "y": [
            0.32950136513866934,
            0.31958614743497626
           ],
           "type": "scatter"
          },
          {
           "line": {
            "color": "green",
            "width": 0.5
           },
           "mode": "lines",
           "name": "saccades",
           "showlegend": false,
           "x": [
            0.5998985801217038,
            0.6905425963488845
           ],
           "y": [
            0.31958614743497626,
            0.3267710877999712
           ],
           "type": "scatter"
          },
          {
           "line": {
            "color": "red",
            "width": 0.5
           },
           "mode": "lines",
           "name": "regressions",
           "showlegend": false,
           "x": [
            0.6905425963488845,
            0.5773326572008114
           ],
           "y": [
            0.3267710877999712,
            0.33136944963356796
           ],
           "type": "scatter"
          },
          {
           "line": {
            "color": "green",
            "width": 0.5
           },
           "mode": "lines",
           "name": "saccades",
           "showlegend": false,
           "x": [
            0.5773326572008114,
            0.7838488843813387
           ],
           "y": [
            0.33136944963356796,
            0.3306509555970685
           ],
           "type": "scatter"
          },
          {
           "line": {
            "color": "green",
            "width": 0.5
           },
           "mode": "lines",
           "name": "saccades",
           "showlegend": false,
           "x": [
            0.7838488843813387,
            0.4141734279918864
           ],
           "y": [
            0.3306509555970685,
            0.25894525075441865
           ],
           "type": "scatter"
          },
          {
           "line": {
            "color": "green",
            "width": 0.5
           },
           "mode": "lines",
           "name": "saccades",
           "showlegend": false,
           "x": [
            0.4141734279918864,
            0.3857758620689656
           ],
           "y": [
            0.25894525075441865,
            0.24802414139962647
           ],
           "type": "scatter"
          },
          {
           "line": {
            "color": "green",
            "width": 0.5
           },
           "mode": "lines",
           "name": "saccades",
           "showlegend": false,
           "x": [
            0.3857758620689656,
            0.575684584178499
           ],
           "y": [
            0.24802414139962647,
            0.23782152608133356
           ],
           "type": "scatter"
          },
          {
           "line": {
            "color": "green",
            "width": 0.5
           },
           "mode": "lines",
           "name": "saccades",
           "showlegend": false,
           "x": [
            0.575684584178499,
            0.7554513184584178
           ],
           "y": [
            0.23782152608133356,
            0.22848110360684004
           ],
           "type": "scatter"
          },
          {
           "line": {
            "color": "green",
            "width": 0.5
           },
           "mode": "lines",
           "name": "saccades",
           "showlegend": false,
           "x": [
            0.7554513184584178,
            0.4461206896551724
           ],
           "y": [
            0.22848110360684004,
            0.1607989653685874
           ],
           "type": "scatter"
          },
          {
           "line": {
            "color": "red",
            "width": 0.5
           },
           "mode": "lines",
           "name": "regressions",
           "showlegend": false,
           "x": [
            0.4461206896551724,
            0.3533215010141988
           ],
           "y": [
            0.1607989653685874,
            0.1682713033481823
           ],
           "type": "scatter"
          },
          {
           "line": {
            "color": "green",
            "width": 0.5
           },
           "mode": "lines",
           "name": "saccades",
           "showlegend": false,
           "x": [
            0.3533215010141988,
            0.4969574036511156
           ],
           "y": [
            0.1682713033481823,
            0.15964937491018827
           ],
           "type": "scatter"
          },
          {
           "marker": {
            "color": "green",
            "size": 6
           },
           "mode": "markers",
           "name": "aoi_1",
           "text": [
            "duration: 182",
            "duration: 269",
            "duration: 123",
            "duration: 248",
            "duration: 247",
            "duration: 195",
            "duration: 127",
            "duration: 195",
            "duration: 97",
            "duration: 197"
           ],
           "x": {
            "dtype": "f8",
            "bdata": "MiCKDvSS2T/LB5VFIvbgP3bxC20mzuE/kw8qi0Ts2T8EvWR2DIjaPyfO33XxC9k/We5phOWe1j8yOwZE0YHaP9UIyz2NsNg/aBj1yNGc1j8="
           },
           "y": {
            "dtype": "f8",
            "bdata": "wQ7BgOyN4j+MxdpLruLiP+0gT7fHJeM/kh4PqwqC3z9ojcSviprZPwi/+XXXEdU/FILQ5IwW1T++dtwZj5LQPygG90tBv88/rCxeAOqJxT8="
           },
           "type": "scatter"
          },
          {
           "marker": {
            "color": "yellow",
            "size": 6
           },
           "mode": "markers",
           "name": "aoi_2",
           "text": [
            "duration: 207",
            "duration: 81",
            "duration: 171",
            "duration: 159",
            "duration: 118",
            "duration: 113",
            "duration: 124"
           ],
           "x": {
            "dtype": "f8",
            "bdata": "u90JATb45j9SjxzNqX3oP/cZRj1yNOM/OrXPMOqR5z+SbUFKFVPsP17hxmWsBOk/4JBtQUoV6T8="
           },
           "y": {
            "dtype": "f8",
            "bdata": "+6CYJZ7b4j/7oJglntviPyAJeI98GuA/RBWiVsNe4D+lauNG1xzgP2ziGxYJR9s/QI4roGIp1T8="
           },
           "type": "scatter"
          },
          {
           "marker": {
            "color": "blue",
            "size": 6
           },
           "mode": "markers",
           "name": "aoi_0",
           "text": [
            "duration: 193",
            "duration: 219",
            "duration: 185",
            "duration: 83",
            "duration: 229",
            "duration: 244",
            "duration: 234",
            "duration: 139"
           ],
           "x": {
            "dtype": "f8",
            "bdata": "0oFeMjsG5D8GRNGBXjLjP0YHesnsGOY/ceMyVoJ54j/WdLsTAmziP7H3Tz6oLOg/3NMIyz2N3D928QttJs7fPw=="
           },
           "y": {
            "dtype": "f8",
            "bdata": "Oo3P6r+R2j8OOd90GXTUPyhF2EfR6dQ/3HVENSg11T8E7maO73DOPyRo32nePs0/XI6+fA+VxD8EdggGZG/EPw=="
           },
           "type": "scatter"
          },
          {
           "marker": {
            "color": "red"
           },
           "mode": "markers",
           "name": "tracker",
           "x": [
            0.7818204868154159
           ],
           "y": [
            0.42621066245150163
           ],
           "type": "scatter"
          }
         ],
         "name": "11"
        },
        {
         "data": [
          {
           "line": {
            "color": "green",
            "width": 0.5
           },
           "mode": "lines",
           "name": "saccades",
           "showlegend": true,
           "x": [
            0.3995943204868154,
            0.5300456389452334
           ],
           "y": [
            0.5798246874550942,
            0.5901710015806869
           ],
           "type": "scatter"
          },
          {
           "line": {
            "color": "green",
            "width": 0.5
           },
           "mode": "lines",
           "name": "saccades",
           "showlegend": false,
           "x": [
            0.5300456389452334,
            0.5564148073022313
           ],
           "y": [
            0.5901710015806869,
            0.5983618335967812
           ],
           "type": "scatter"
          },
          {
           "line": {
            "color": "green",
            "width": 0.5
           },
           "mode": "lines",
           "name": "saccades",
           "showlegend": false,
           "x": [
            0.5564148073022313,
            0.7177991886409737
           ],
           "y": [
            0.5983618335967812,
            0.5893088087368875
           ],
           "type": "scatter"
          },
          {
           "line": {
            "color": "green",
            "width": 0.5
           },
           "mode": "lines",
           "name": "saccades",
           "showlegend": false,
           "x": [
            0.7177991886409737,
            0.7653397565922921
           ],
           "y": [
            0.5893088087368875,
            0.5893088087368875
           ],
           "type": "scatter"
          },
          {
           "line": {
            "color": "green",
            "width": 0.5
           },
           "mode": "lines",
           "name": "saccades",
           "showlegend": false,
           "x": [
            0.7653397565922921,
            0.4050456389452332
           ],
           "y": [
            0.5893088087368875,
            0.4923121138094554
           ],
           "type": "scatter"
          },
          {
           "line": {
            "color": "green",
            "width": 0.5
           },
           "mode": "lines",
           "name": "saccades",
           "showlegend": false,
           "x": [
            0.4050456389452332,
            0.6001521298174443
           ],
           "y": [
            0.4923121138094554,
            0.5032332231642478
           ],
           "type": "scatter"
          },
          {
           "line": {
            "color": "green",
            "width": 0.5
           },
           "mode": "lines",
           "name": "saccades",
           "showlegend": false,
           "x": [
            0.6001521298174443,
            0.7365618661257607
           ],
           "y": [
            0.5032332231642478,
            0.511567753987642
           ],
           "type": "scatter"
          },
          {
           "line": {
            "color": "green",
            "width": 0.5
           },
           "mode": "lines",
           "name": "saccades",
           "showlegend": false,
           "x": [
            0.7365618661257607,
            0.8851419878296147
           ],
           "y": [
            0.511567753987642,
            0.5035206207788475
           ],
           "type": "scatter"
          },
          {
           "line": {
            "color": "green",
            "width": 0.5
           },
           "mode": "lines",
           "name": "saccades",
           "showlegend": false,
           "x": [
            0.8851419878296147,
            0.414553752535497
           ],
           "y": [
            0.5035206207788475,
            0.4000574795229199
           ],
           "type": "scatter"
          },
          {
           "line": {
            "color": "green",
            "width": 0.5
           },
           "mode": "lines",
           "name": "saccades",
           "showlegend": false,
           "x": [
            0.414553752535497,
            0.6257606490872212
           ],
           "y": [
            0.4000574795229199,
            0.4151458542894094
           ],
           "type": "scatter"
          },
          {
           "line": {
            "color": "green",
            "width": 0.5
           },
           "mode": "lines",
           "name": "saccades",
           "showlegend": false,
           "x": [
            0.6257606490872212,
            0.7818204868154159
           ],
           "y": [
            0.4151458542894094,
            0.42621066245150163
           ],
           "type": "scatter"
          },
          {
           "line": {
            "color": "green",
            "width": 0.5
           },
           "mode": "lines",
           "name": "saccades",
           "showlegend": false,
           "x": [
            0.7818204868154159,
            0.3913539553752536
           ],
           "y": [
            0.42621066245150163,
            0.3292139675240695
           ],
           "type": "scatter"
          },
          {
           "line": {
            "color": "red",
            "width": 0.5
           },
           "mode": "lines",
           "name": "regressions",
           "showlegend": true,
           "x": [
            0.3913539553752536,
            0.353448275862069
           ],
           "y": [
            0.3292139675240695,
            0.32950136513866934
           ],
           "type": "scatter"
          },
          {
           "line": {
            "color": "green",
            "width": 0.5
           },
           "mode": "lines",
           "name": "saccades",
           "showlegend": false,
           "x": [
            0.353448275862069,
            0.5998985801217038
           ],
           "y": [
            0.32950136513866934,
            0.31958614743497626
           ],
           "type": "scatter"
          },
          {
           "line": {
            "color": "green",
            "width": 0.5
           },
           "mode": "lines",
           "name": "saccades",
           "showlegend": false,
           "x": [
            0.5998985801217038,
            0.6905425963488845
           ],
           "y": [
            0.31958614743497626,
            0.3267710877999712
           ],
           "type": "scatter"
          },
          {
           "line": {
            "color": "red",
            "width": 0.5
           },
           "mode": "lines",
           "name": "regressions",
           "showlegend": false,
           "x": [
            0.6905425963488845,
            0.5773326572008114
           ],
           "y": [
            0.3267710877999712,
            0.33136944963356796
           ],
           "type": "scatter"
          },
          {
           "line": {
            "color": "green",
            "width": 0.5
           },
           "mode": "lines",
           "name": "saccades",
           "showlegend": false,
           "x": [
            0.5773326572008114,
            0.7838488843813387
           ],
           "y": [
            0.33136944963356796,
            0.3306509555970685
           ],
           "type": "scatter"
          },
          {
           "line": {
            "color": "green",
            "width": 0.5
           },
           "mode": "lines",
           "name": "saccades",
           "showlegend": false,
           "x": [
            0.7838488843813387,
            0.4141734279918864
           ],
           "y": [
            0.3306509555970685,
            0.25894525075441865
           ],
           "type": "scatter"
          },
          {
           "line": {
            "color": "green",
            "width": 0.5
           },
           "mode": "lines",
           "name": "saccades",
           "showlegend": false,
           "x": [
            0.4141734279918864,
            0.3857758620689656
           ],
           "y": [
            0.25894525075441865,
            0.24802414139962647
           ],
           "type": "scatter"
          },
          {
           "line": {
            "color": "green",
            "width": 0.5
           },
           "mode": "lines",
           "name": "saccades",
           "showlegend": false,
           "x": [
            0.3857758620689656,
            0.575684584178499
           ],
           "y": [
            0.24802414139962647,
            0.23782152608133356
           ],
           "type": "scatter"
          },
          {
           "line": {
            "color": "green",
            "width": 0.5
           },
           "mode": "lines",
           "name": "saccades",
           "showlegend": false,
           "x": [
            0.575684584178499,
            0.7554513184584178
           ],
           "y": [
            0.23782152608133356,
            0.22848110360684004
           ],
           "type": "scatter"
          },
          {
           "line": {
            "color": "green",
            "width": 0.5
           },
           "mode": "lines",
           "name": "saccades",
           "showlegend": false,
           "x": [
            0.7554513184584178,
            0.4461206896551724
           ],
           "y": [
            0.22848110360684004,
            0.1607989653685874
           ],
           "type": "scatter"
          },
          {
           "line": {
            "color": "red",
            "width": 0.5
           },
           "mode": "lines",
           "name": "regressions",
           "showlegend": false,
           "x": [
            0.4461206896551724,
            0.3533215010141988
           ],
           "y": [
            0.1607989653685874,
            0.1682713033481823
           ],
           "type": "scatter"
          },
          {
           "line": {
            "color": "green",
            "width": 0.5
           },
           "mode": "lines",
           "name": "saccades",
           "showlegend": false,
           "x": [
            0.3533215010141988,
            0.4969574036511156
           ],
           "y": [
            0.1682713033481823,
            0.15964937491018827
           ],
           "type": "scatter"
          },
          {
           "marker": {
            "color": "green",
            "size": 6
           },
           "mode": "markers",
           "name": "aoi_1",
           "text": [
            "duration: 182",
            "duration: 269",
            "duration: 123",
            "duration: 248",
            "duration: 247",
            "duration: 195",
            "duration: 127",
            "duration: 195",
            "duration: 97",
            "duration: 197"
           ],
           "x": {
            "dtype": "f8",
            "bdata": "MiCKDvSS2T/LB5VFIvbgP3bxC20mzuE/kw8qi0Ts2T8EvWR2DIjaPyfO33XxC9k/We5phOWe1j8yOwZE0YHaP9UIyz2NsNg/aBj1yNGc1j8="
           },
           "y": {
            "dtype": "f8",
            "bdata": "wQ7BgOyN4j+MxdpLruLiP+0gT7fHJeM/kh4PqwqC3z9ojcSviprZPwi/+XXXEdU/FILQ5IwW1T++dtwZj5LQPygG90tBv88/rCxeAOqJxT8="
           },
           "type": "scatter"
          },
          {
           "marker": {
            "color": "yellow",
            "size": 6
           },
           "mode": "markers",
           "name": "aoi_2",
           "text": [
            "duration: 207",
            "duration: 81",
            "duration: 171",
            "duration: 159",
            "duration: 118",
            "duration: 113",
            "duration: 124"
           ],
           "x": {
            "dtype": "f8",
            "bdata": "u90JATb45j9SjxzNqX3oP/cZRj1yNOM/OrXPMOqR5z+SbUFKFVPsP17hxmWsBOk/4JBtQUoV6T8="
           },
           "y": {
            "dtype": "f8",
            "bdata": "+6CYJZ7b4j/7oJglntviPyAJeI98GuA/RBWiVsNe4D+lauNG1xzgP2ziGxYJR9s/QI4roGIp1T8="
           },
           "type": "scatter"
          },
          {
           "marker": {
            "color": "blue",
            "size": 6
           },
           "mode": "markers",
           "name": "aoi_0",
           "text": [
            "duration: 193",
            "duration: 219",
            "duration: 185",
            "duration: 83",
            "duration: 229",
            "duration: 244",
            "duration: 234",
            "duration: 139"
           ],
           "x": {
            "dtype": "f8",
            "bdata": "0oFeMjsG5D8GRNGBXjLjP0YHesnsGOY/ceMyVoJ54j/WdLsTAmziP7H3Tz6oLOg/3NMIyz2N3D928QttJs7fPw=="
           },
           "y": {
            "dtype": "f8",
            "bdata": "Oo3P6r+R2j8OOd90GXTUPyhF2EfR6dQ/3HVENSg11T8E7maO73DOPyRo32nePs0/XI6+fA+VxD8EdggGZG/EPw=="
           },
           "type": "scatter"
          },
          {
           "marker": {
            "color": "red"
           },
           "mode": "markers",
           "name": "tracker",
           "x": [
            0.3913539553752536
           ],
           "y": [
            0.3292139675240695
           ],
           "type": "scatter"
          }
         ],
         "name": "12"
        },
        {
         "data": [
          {
           "line": {
            "color": "green",
            "width": 0.5
           },
           "mode": "lines",
           "name": "saccades",
           "showlegend": true,
           "x": [
            0.3995943204868154,
            0.5300456389452334
           ],
           "y": [
            0.5798246874550942,
            0.5901710015806869
           ],
           "type": "scatter"
          },
          {
           "line": {
            "color": "green",
            "width": 0.5
           },
           "mode": "lines",
           "name": "saccades",
           "showlegend": false,
           "x": [
            0.5300456389452334,
            0.5564148073022313
           ],
           "y": [
            0.5901710015806869,
            0.5983618335967812
           ],
           "type": "scatter"
          },
          {
           "line": {
            "color": "green",
            "width": 0.5
           },
           "mode": "lines",
           "name": "saccades",
           "showlegend": false,
           "x": [
            0.5564148073022313,
            0.7177991886409737
           ],
           "y": [
            0.5983618335967812,
            0.5893088087368875
           ],
           "type": "scatter"
          },
          {
           "line": {
            "color": "green",
            "width": 0.5
           },
           "mode": "lines",
           "name": "saccades",
           "showlegend": false,
           "x": [
            0.7177991886409737,
            0.7653397565922921
           ],
           "y": [
            0.5893088087368875,
            0.5893088087368875
           ],
           "type": "scatter"
          },
          {
           "line": {
            "color": "green",
            "width": 0.5
           },
           "mode": "lines",
           "name": "saccades",
           "showlegend": false,
           "x": [
            0.7653397565922921,
            0.4050456389452332
           ],
           "y": [
            0.5893088087368875,
            0.4923121138094554
           ],
           "type": "scatter"
          },
          {
           "line": {
            "color": "green",
            "width": 0.5
           },
           "mode": "lines",
           "name": "saccades",
           "showlegend": false,
           "x": [
            0.4050456389452332,
            0.6001521298174443
           ],
           "y": [
            0.4923121138094554,
            0.5032332231642478
           ],
           "type": "scatter"
          },
          {
           "line": {
            "color": "green",
            "width": 0.5
           },
           "mode": "lines",
           "name": "saccades",
           "showlegend": false,
           "x": [
            0.6001521298174443,
            0.7365618661257607
           ],
           "y": [
            0.5032332231642478,
            0.511567753987642
           ],
           "type": "scatter"
          },
          {
           "line": {
            "color": "green",
            "width": 0.5
           },
           "mode": "lines",
           "name": "saccades",
           "showlegend": false,
           "x": [
            0.7365618661257607,
            0.8851419878296147
           ],
           "y": [
            0.511567753987642,
            0.5035206207788475
           ],
           "type": "scatter"
          },
          {
           "line": {
            "color": "green",
            "width": 0.5
           },
           "mode": "lines",
           "name": "saccades",
           "showlegend": false,
           "x": [
            0.8851419878296147,
            0.414553752535497
           ],
           "y": [
            0.5035206207788475,
            0.4000574795229199
           ],
           "type": "scatter"
          },
          {
           "line": {
            "color": "green",
            "width": 0.5
           },
           "mode": "lines",
           "name": "saccades",
           "showlegend": false,
           "x": [
            0.414553752535497,
            0.6257606490872212
           ],
           "y": [
            0.4000574795229199,
            0.4151458542894094
           ],
           "type": "scatter"
          },
          {
           "line": {
            "color": "green",
            "width": 0.5
           },
           "mode": "lines",
           "name": "saccades",
           "showlegend": false,
           "x": [
            0.6257606490872212,
            0.7818204868154159
           ],
           "y": [
            0.4151458542894094,
            0.42621066245150163
           ],
           "type": "scatter"
          },
          {
           "line": {
            "color": "green",
            "width": 0.5
           },
           "mode": "lines",
           "name": "saccades",
           "showlegend": false,
           "x": [
            0.7818204868154159,
            0.3913539553752536
           ],
           "y": [
            0.42621066245150163,
            0.3292139675240695
           ],
           "type": "scatter"
          },
          {
           "line": {
            "color": "red",
            "width": 0.5
           },
           "mode": "lines",
           "name": "regressions",
           "showlegend": true,
           "x": [
            0.3913539553752536,
            0.353448275862069
           ],
           "y": [
            0.3292139675240695,
            0.32950136513866934
           ],
           "type": "scatter"
          },
          {
           "line": {
            "color": "green",
            "width": 0.5
           },
           "mode": "lines",
           "name": "saccades",
           "showlegend": false,
           "x": [
            0.353448275862069,
            0.5998985801217038
           ],
           "y": [
            0.32950136513866934,
            0.31958614743497626
           ],
           "type": "scatter"
          },
          {
           "line": {
            "color": "green",
            "width": 0.5
           },
           "mode": "lines",
           "name": "saccades",
           "showlegend": false,
           "x": [
            0.5998985801217038,
            0.6905425963488845
           ],
           "y": [
            0.31958614743497626,
            0.3267710877999712
           ],
           "type": "scatter"
          },
          {
           "line": {
            "color": "red",
            "width": 0.5
           },
           "mode": "lines",
           "name": "regressions",
           "showlegend": false,
           "x": [
            0.6905425963488845,
            0.5773326572008114
           ],
           "y": [
            0.3267710877999712,
            0.33136944963356796
           ],
           "type": "scatter"
          },
          {
           "line": {
            "color": "green",
            "width": 0.5
           },
           "mode": "lines",
           "name": "saccades",
           "showlegend": false,
           "x": [
            0.5773326572008114,
            0.7838488843813387
           ],
           "y": [
            0.33136944963356796,
            0.3306509555970685
           ],
           "type": "scatter"
          },
          {
           "line": {
            "color": "green",
            "width": 0.5
           },
           "mode": "lines",
           "name": "saccades",
           "showlegend": false,
           "x": [
            0.7838488843813387,
            0.4141734279918864
           ],
           "y": [
            0.3306509555970685,
            0.25894525075441865
           ],
           "type": "scatter"
          },
          {
           "line": {
            "color": "green",
            "width": 0.5
           },
           "mode": "lines",
           "name": "saccades",
           "showlegend": false,
           "x": [
            0.4141734279918864,
            0.3857758620689656
           ],
           "y": [
            0.25894525075441865,
            0.24802414139962647
           ],
           "type": "scatter"
          },
          {
           "line": {
            "color": "green",
            "width": 0.5
           },
           "mode": "lines",
           "name": "saccades",
           "showlegend": false,
           "x": [
            0.3857758620689656,
            0.575684584178499
           ],
           "y": [
            0.24802414139962647,
            0.23782152608133356
           ],
           "type": "scatter"
          },
          {
           "line": {
            "color": "green",
            "width": 0.5
           },
           "mode": "lines",
           "name": "saccades",
           "showlegend": false,
           "x": [
            0.575684584178499,
            0.7554513184584178
           ],
           "y": [
            0.23782152608133356,
            0.22848110360684004
           ],
           "type": "scatter"
          },
          {
           "line": {
            "color": "green",
            "width": 0.5
           },
           "mode": "lines",
           "name": "saccades",
           "showlegend": false,
           "x": [
            0.7554513184584178,
            0.4461206896551724
           ],
           "y": [
            0.22848110360684004,
            0.1607989653685874
           ],
           "type": "scatter"
          },
          {
           "line": {
            "color": "red",
            "width": 0.5
           },
           "mode": "lines",
           "name": "regressions",
           "showlegend": false,
           "x": [
            0.4461206896551724,
            0.3533215010141988
           ],
           "y": [
            0.1607989653685874,
            0.1682713033481823
           ],
           "type": "scatter"
          },
          {
           "line": {
            "color": "green",
            "width": 0.5
           },
           "mode": "lines",
           "name": "saccades",
           "showlegend": false,
           "x": [
            0.3533215010141988,
            0.4969574036511156
           ],
           "y": [
            0.1682713033481823,
            0.15964937491018827
           ],
           "type": "scatter"
          },
          {
           "marker": {
            "color": "green",
            "size": 6
           },
           "mode": "markers",
           "name": "aoi_1",
           "text": [
            "duration: 182",
            "duration: 269",
            "duration: 123",
            "duration: 248",
            "duration: 247",
            "duration: 195",
            "duration: 127",
            "duration: 195",
            "duration: 97",
            "duration: 197"
           ],
           "x": {
            "dtype": "f8",
            "bdata": "MiCKDvSS2T/LB5VFIvbgP3bxC20mzuE/kw8qi0Ts2T8EvWR2DIjaPyfO33XxC9k/We5phOWe1j8yOwZE0YHaP9UIyz2NsNg/aBj1yNGc1j8="
           },
           "y": {
            "dtype": "f8",
            "bdata": "wQ7BgOyN4j+MxdpLruLiP+0gT7fHJeM/kh4PqwqC3z9ojcSviprZPwi/+XXXEdU/FILQ5IwW1T++dtwZj5LQPygG90tBv88/rCxeAOqJxT8="
           },
           "type": "scatter"
          },
          {
           "marker": {
            "color": "yellow",
            "size": 6
           },
           "mode": "markers",
           "name": "aoi_2",
           "text": [
            "duration: 207",
            "duration: 81",
            "duration: 171",
            "duration: 159",
            "duration: 118",
            "duration: 113",
            "duration: 124"
           ],
           "x": {
            "dtype": "f8",
            "bdata": "u90JATb45j9SjxzNqX3oP/cZRj1yNOM/OrXPMOqR5z+SbUFKFVPsP17hxmWsBOk/4JBtQUoV6T8="
           },
           "y": {
            "dtype": "f8",
            "bdata": "+6CYJZ7b4j/7oJglntviPyAJeI98GuA/RBWiVsNe4D+lauNG1xzgP2ziGxYJR9s/QI4roGIp1T8="
           },
           "type": "scatter"
          },
          {
           "marker": {
            "color": "blue",
            "size": 6
           },
           "mode": "markers",
           "name": "aoi_0",
           "text": [
            "duration: 193",
            "duration: 219",
            "duration: 185",
            "duration: 83",
            "duration: 229",
            "duration: 244",
            "duration: 234",
            "duration: 139"
           ],
           "x": {
            "dtype": "f8",
            "bdata": "0oFeMjsG5D8GRNGBXjLjP0YHesnsGOY/ceMyVoJ54j/WdLsTAmziP7H3Tz6oLOg/3NMIyz2N3D928QttJs7fPw=="
           },
           "y": {
            "dtype": "f8",
            "bdata": "Oo3P6r+R2j8OOd90GXTUPyhF2EfR6dQ/3HVENSg11T8E7maO73DOPyRo32nePs0/XI6+fA+VxD8EdggGZG/EPw=="
           },
           "type": "scatter"
          },
          {
           "marker": {
            "color": "red"
           },
           "mode": "markers",
           "name": "tracker",
           "x": [
            0.353448275862069
           ],
           "y": [
            0.32950136513866934
           ],
           "type": "scatter"
          }
         ],
         "name": "13"
        },
        {
         "data": [
          {
           "line": {
            "color": "green",
            "width": 0.5
           },
           "mode": "lines",
           "name": "saccades",
           "showlegend": true,
           "x": [
            0.3995943204868154,
            0.5300456389452334
           ],
           "y": [
            0.5798246874550942,
            0.5901710015806869
           ],
           "type": "scatter"
          },
          {
           "line": {
            "color": "green",
            "width": 0.5
           },
           "mode": "lines",
           "name": "saccades",
           "showlegend": false,
           "x": [
            0.5300456389452334,
            0.5564148073022313
           ],
           "y": [
            0.5901710015806869,
            0.5983618335967812
           ],
           "type": "scatter"
          },
          {
           "line": {
            "color": "green",
            "width": 0.5
           },
           "mode": "lines",
           "name": "saccades",
           "showlegend": false,
           "x": [
            0.5564148073022313,
            0.7177991886409737
           ],
           "y": [
            0.5983618335967812,
            0.5893088087368875
           ],
           "type": "scatter"
          },
          {
           "line": {
            "color": "green",
            "width": 0.5
           },
           "mode": "lines",
           "name": "saccades",
           "showlegend": false,
           "x": [
            0.7177991886409737,
            0.7653397565922921
           ],
           "y": [
            0.5893088087368875,
            0.5893088087368875
           ],
           "type": "scatter"
          },
          {
           "line": {
            "color": "green",
            "width": 0.5
           },
           "mode": "lines",
           "name": "saccades",
           "showlegend": false,
           "x": [
            0.7653397565922921,
            0.4050456389452332
           ],
           "y": [
            0.5893088087368875,
            0.4923121138094554
           ],
           "type": "scatter"
          },
          {
           "line": {
            "color": "green",
            "width": 0.5
           },
           "mode": "lines",
           "name": "saccades",
           "showlegend": false,
           "x": [
            0.4050456389452332,
            0.6001521298174443
           ],
           "y": [
            0.4923121138094554,
            0.5032332231642478
           ],
           "type": "scatter"
          },
          {
           "line": {
            "color": "green",
            "width": 0.5
           },
           "mode": "lines",
           "name": "saccades",
           "showlegend": false,
           "x": [
            0.6001521298174443,
            0.7365618661257607
           ],
           "y": [
            0.5032332231642478,
            0.511567753987642
           ],
           "type": "scatter"
          },
          {
           "line": {
            "color": "green",
            "width": 0.5
           },
           "mode": "lines",
           "name": "saccades",
           "showlegend": false,
           "x": [
            0.7365618661257607,
            0.8851419878296147
           ],
           "y": [
            0.511567753987642,
            0.5035206207788475
           ],
           "type": "scatter"
          },
          {
           "line": {
            "color": "green",
            "width": 0.5
           },
           "mode": "lines",
           "name": "saccades",
           "showlegend": false,
           "x": [
            0.8851419878296147,
            0.414553752535497
           ],
           "y": [
            0.5035206207788475,
            0.4000574795229199
           ],
           "type": "scatter"
          },
          {
           "line": {
            "color": "green",
            "width": 0.5
           },
           "mode": "lines",
           "name": "saccades",
           "showlegend": false,
           "x": [
            0.414553752535497,
            0.6257606490872212
           ],
           "y": [
            0.4000574795229199,
            0.4151458542894094
           ],
           "type": "scatter"
          },
          {
           "line": {
            "color": "green",
            "width": 0.5
           },
           "mode": "lines",
           "name": "saccades",
           "showlegend": false,
           "x": [
            0.6257606490872212,
            0.7818204868154159
           ],
           "y": [
            0.4151458542894094,
            0.42621066245150163
           ],
           "type": "scatter"
          },
          {
           "line": {
            "color": "green",
            "width": 0.5
           },
           "mode": "lines",
           "name": "saccades",
           "showlegend": false,
           "x": [
            0.7818204868154159,
            0.3913539553752536
           ],
           "y": [
            0.42621066245150163,
            0.3292139675240695
           ],
           "type": "scatter"
          },
          {
           "line": {
            "color": "red",
            "width": 0.5
           },
           "mode": "lines",
           "name": "regressions",
           "showlegend": true,
           "x": [
            0.3913539553752536,
            0.353448275862069
           ],
           "y": [
            0.3292139675240695,
            0.32950136513866934
           ],
           "type": "scatter"
          },
          {
           "line": {
            "color": "green",
            "width": 0.5
           },
           "mode": "lines",
           "name": "saccades",
           "showlegend": false,
           "x": [
            0.353448275862069,
            0.5998985801217038
           ],
           "y": [
            0.32950136513866934,
            0.31958614743497626
           ],
           "type": "scatter"
          },
          {
           "line": {
            "color": "green",
            "width": 0.5
           },
           "mode": "lines",
           "name": "saccades",
           "showlegend": false,
           "x": [
            0.5998985801217038,
            0.6905425963488845
           ],
           "y": [
            0.31958614743497626,
            0.3267710877999712
           ],
           "type": "scatter"
          },
          {
           "line": {
            "color": "red",
            "width": 0.5
           },
           "mode": "lines",
           "name": "regressions",
           "showlegend": false,
           "x": [
            0.6905425963488845,
            0.5773326572008114
           ],
           "y": [
            0.3267710877999712,
            0.33136944963356796
           ],
           "type": "scatter"
          },
          {
           "line": {
            "color": "green",
            "width": 0.5
           },
           "mode": "lines",
           "name": "saccades",
           "showlegend": false,
           "x": [
            0.5773326572008114,
            0.7838488843813387
           ],
           "y": [
            0.33136944963356796,
            0.3306509555970685
           ],
           "type": "scatter"
          },
          {
           "line": {
            "color": "green",
            "width": 0.5
           },
           "mode": "lines",
           "name": "saccades",
           "showlegend": false,
           "x": [
            0.7838488843813387,
            0.4141734279918864
           ],
           "y": [
            0.3306509555970685,
            0.25894525075441865
           ],
           "type": "scatter"
          },
          {
           "line": {
            "color": "green",
            "width": 0.5
           },
           "mode": "lines",
           "name": "saccades",
           "showlegend": false,
           "x": [
            0.4141734279918864,
            0.3857758620689656
           ],
           "y": [
            0.25894525075441865,
            0.24802414139962647
           ],
           "type": "scatter"
          },
          {
           "line": {
            "color": "green",
            "width": 0.5
           },
           "mode": "lines",
           "name": "saccades",
           "showlegend": false,
           "x": [
            0.3857758620689656,
            0.575684584178499
           ],
           "y": [
            0.24802414139962647,
            0.23782152608133356
           ],
           "type": "scatter"
          },
          {
           "line": {
            "color": "green",
            "width": 0.5
           },
           "mode": "lines",
           "name": "saccades",
           "showlegend": false,
           "x": [
            0.575684584178499,
            0.7554513184584178
           ],
           "y": [
            0.23782152608133356,
            0.22848110360684004
           ],
           "type": "scatter"
          },
          {
           "line": {
            "color": "green",
            "width": 0.5
           },
           "mode": "lines",
           "name": "saccades",
           "showlegend": false,
           "x": [
            0.7554513184584178,
            0.4461206896551724
           ],
           "y": [
            0.22848110360684004,
            0.1607989653685874
           ],
           "type": "scatter"
          },
          {
           "line": {
            "color": "red",
            "width": 0.5
           },
           "mode": "lines",
           "name": "regressions",
           "showlegend": false,
           "x": [
            0.4461206896551724,
            0.3533215010141988
           ],
           "y": [
            0.1607989653685874,
            0.1682713033481823
           ],
           "type": "scatter"
          },
          {
           "line": {
            "color": "green",
            "width": 0.5
           },
           "mode": "lines",
           "name": "saccades",
           "showlegend": false,
           "x": [
            0.3533215010141988,
            0.4969574036511156
           ],
           "y": [
            0.1682713033481823,
            0.15964937491018827
           ],
           "type": "scatter"
          },
          {
           "marker": {
            "color": "green",
            "size": 6
           },
           "mode": "markers",
           "name": "aoi_1",
           "text": [
            "duration: 182",
            "duration: 269",
            "duration: 123",
            "duration: 248",
            "duration: 247",
            "duration: 195",
            "duration: 127",
            "duration: 195",
            "duration: 97",
            "duration: 197"
           ],
           "x": {
            "dtype": "f8",
            "bdata": "MiCKDvSS2T/LB5VFIvbgP3bxC20mzuE/kw8qi0Ts2T8EvWR2DIjaPyfO33XxC9k/We5phOWe1j8yOwZE0YHaP9UIyz2NsNg/aBj1yNGc1j8="
           },
           "y": {
            "dtype": "f8",
            "bdata": "wQ7BgOyN4j+MxdpLruLiP+0gT7fHJeM/kh4PqwqC3z9ojcSviprZPwi/+XXXEdU/FILQ5IwW1T++dtwZj5LQPygG90tBv88/rCxeAOqJxT8="
           },
           "type": "scatter"
          },
          {
           "marker": {
            "color": "yellow",
            "size": 6
           },
           "mode": "markers",
           "name": "aoi_2",
           "text": [
            "duration: 207",
            "duration: 81",
            "duration: 171",
            "duration: 159",
            "duration: 118",
            "duration: 113",
            "duration: 124"
           ],
           "x": {
            "dtype": "f8",
            "bdata": "u90JATb45j9SjxzNqX3oP/cZRj1yNOM/OrXPMOqR5z+SbUFKFVPsP17hxmWsBOk/4JBtQUoV6T8="
           },
           "y": {
            "dtype": "f8",
            "bdata": "+6CYJZ7b4j/7oJglntviPyAJeI98GuA/RBWiVsNe4D+lauNG1xzgP2ziGxYJR9s/QI4roGIp1T8="
           },
           "type": "scatter"
          },
          {
           "marker": {
            "color": "blue",
            "size": 6
           },
           "mode": "markers",
           "name": "aoi_0",
           "text": [
            "duration: 193",
            "duration: 219",
            "duration: 185",
            "duration: 83",
            "duration: 229",
            "duration: 244",
            "duration: 234",
            "duration: 139"
           ],
           "x": {
            "dtype": "f8",
            "bdata": "0oFeMjsG5D8GRNGBXjLjP0YHesnsGOY/ceMyVoJ54j/WdLsTAmziP7H3Tz6oLOg/3NMIyz2N3D928QttJs7fPw=="
           },
           "y": {
            "dtype": "f8",
            "bdata": "Oo3P6r+R2j8OOd90GXTUPyhF2EfR6dQ/3HVENSg11T8E7maO73DOPyRo32nePs0/XI6+fA+VxD8EdggGZG/EPw=="
           },
           "type": "scatter"
          },
          {
           "marker": {
            "color": "red"
           },
           "mode": "markers",
           "name": "tracker",
           "x": [
            0.5998985801217038
           ],
           "y": [
            0.31958614743497626
           ],
           "type": "scatter"
          }
         ],
         "name": "14"
        },
        {
         "data": [
          {
           "line": {
            "color": "green",
            "width": 0.5
           },
           "mode": "lines",
           "name": "saccades",
           "showlegend": true,
           "x": [
            0.3995943204868154,
            0.5300456389452334
           ],
           "y": [
            0.5798246874550942,
            0.5901710015806869
           ],
           "type": "scatter"
          },
          {
           "line": {
            "color": "green",
            "width": 0.5
           },
           "mode": "lines",
           "name": "saccades",
           "showlegend": false,
           "x": [
            0.5300456389452334,
            0.5564148073022313
           ],
           "y": [
            0.5901710015806869,
            0.5983618335967812
           ],
           "type": "scatter"
          },
          {
           "line": {
            "color": "green",
            "width": 0.5
           },
           "mode": "lines",
           "name": "saccades",
           "showlegend": false,
           "x": [
            0.5564148073022313,
            0.7177991886409737
           ],
           "y": [
            0.5983618335967812,
            0.5893088087368875
           ],
           "type": "scatter"
          },
          {
           "line": {
            "color": "green",
            "width": 0.5
           },
           "mode": "lines",
           "name": "saccades",
           "showlegend": false,
           "x": [
            0.7177991886409737,
            0.7653397565922921
           ],
           "y": [
            0.5893088087368875,
            0.5893088087368875
           ],
           "type": "scatter"
          },
          {
           "line": {
            "color": "green",
            "width": 0.5
           },
           "mode": "lines",
           "name": "saccades",
           "showlegend": false,
           "x": [
            0.7653397565922921,
            0.4050456389452332
           ],
           "y": [
            0.5893088087368875,
            0.4923121138094554
           ],
           "type": "scatter"
          },
          {
           "line": {
            "color": "green",
            "width": 0.5
           },
           "mode": "lines",
           "name": "saccades",
           "showlegend": false,
           "x": [
            0.4050456389452332,
            0.6001521298174443
           ],
           "y": [
            0.4923121138094554,
            0.5032332231642478
           ],
           "type": "scatter"
          },
          {
           "line": {
            "color": "green",
            "width": 0.5
           },
           "mode": "lines",
           "name": "saccades",
           "showlegend": false,
           "x": [
            0.6001521298174443,
            0.7365618661257607
           ],
           "y": [
            0.5032332231642478,
            0.511567753987642
           ],
           "type": "scatter"
          },
          {
           "line": {
            "color": "green",
            "width": 0.5
           },
           "mode": "lines",
           "name": "saccades",
           "showlegend": false,
           "x": [
            0.7365618661257607,
            0.8851419878296147
           ],
           "y": [
            0.511567753987642,
            0.5035206207788475
           ],
           "type": "scatter"
          },
          {
           "line": {
            "color": "green",
            "width": 0.5
           },
           "mode": "lines",
           "name": "saccades",
           "showlegend": false,
           "x": [
            0.8851419878296147,
            0.414553752535497
           ],
           "y": [
            0.5035206207788475,
            0.4000574795229199
           ],
           "type": "scatter"
          },
          {
           "line": {
            "color": "green",
            "width": 0.5
           },
           "mode": "lines",
           "name": "saccades",
           "showlegend": false,
           "x": [
            0.414553752535497,
            0.6257606490872212
           ],
           "y": [
            0.4000574795229199,
            0.4151458542894094
           ],
           "type": "scatter"
          },
          {
           "line": {
            "color": "green",
            "width": 0.5
           },
           "mode": "lines",
           "name": "saccades",
           "showlegend": false,
           "x": [
            0.6257606490872212,
            0.7818204868154159
           ],
           "y": [
            0.4151458542894094,
            0.42621066245150163
           ],
           "type": "scatter"
          },
          {
           "line": {
            "color": "green",
            "width": 0.5
           },
           "mode": "lines",
           "name": "saccades",
           "showlegend": false,
           "x": [
            0.7818204868154159,
            0.3913539553752536
           ],
           "y": [
            0.42621066245150163,
            0.3292139675240695
           ],
           "type": "scatter"
          },
          {
           "line": {
            "color": "red",
            "width": 0.5
           },
           "mode": "lines",
           "name": "regressions",
           "showlegend": true,
           "x": [
            0.3913539553752536,
            0.353448275862069
           ],
           "y": [
            0.3292139675240695,
            0.32950136513866934
           ],
           "type": "scatter"
          },
          {
           "line": {
            "color": "green",
            "width": 0.5
           },
           "mode": "lines",
           "name": "saccades",
           "showlegend": false,
           "x": [
            0.353448275862069,
            0.5998985801217038
           ],
           "y": [
            0.32950136513866934,
            0.31958614743497626
           ],
           "type": "scatter"
          },
          {
           "line": {
            "color": "green",
            "width": 0.5
           },
           "mode": "lines",
           "name": "saccades",
           "showlegend": false,
           "x": [
            0.5998985801217038,
            0.6905425963488845
           ],
           "y": [
            0.31958614743497626,
            0.3267710877999712
           ],
           "type": "scatter"
          },
          {
           "line": {
            "color": "red",
            "width": 0.5
           },
           "mode": "lines",
           "name": "regressions",
           "showlegend": false,
           "x": [
            0.6905425963488845,
            0.5773326572008114
           ],
           "y": [
            0.3267710877999712,
            0.33136944963356796
           ],
           "type": "scatter"
          },
          {
           "line": {
            "color": "green",
            "width": 0.5
           },
           "mode": "lines",
           "name": "saccades",
           "showlegend": false,
           "x": [
            0.5773326572008114,
            0.7838488843813387
           ],
           "y": [
            0.33136944963356796,
            0.3306509555970685
           ],
           "type": "scatter"
          },
          {
           "line": {
            "color": "green",
            "width": 0.5
           },
           "mode": "lines",
           "name": "saccades",
           "showlegend": false,
           "x": [
            0.7838488843813387,
            0.4141734279918864
           ],
           "y": [
            0.3306509555970685,
            0.25894525075441865
           ],
           "type": "scatter"
          },
          {
           "line": {
            "color": "green",
            "width": 0.5
           },
           "mode": "lines",
           "name": "saccades",
           "showlegend": false,
           "x": [
            0.4141734279918864,
            0.3857758620689656
           ],
           "y": [
            0.25894525075441865,
            0.24802414139962647
           ],
           "type": "scatter"
          },
          {
           "line": {
            "color": "green",
            "width": 0.5
           },
           "mode": "lines",
           "name": "saccades",
           "showlegend": false,
           "x": [
            0.3857758620689656,
            0.575684584178499
           ],
           "y": [
            0.24802414139962647,
            0.23782152608133356
           ],
           "type": "scatter"
          },
          {
           "line": {
            "color": "green",
            "width": 0.5
           },
           "mode": "lines",
           "name": "saccades",
           "showlegend": false,
           "x": [
            0.575684584178499,
            0.7554513184584178
           ],
           "y": [
            0.23782152608133356,
            0.22848110360684004
           ],
           "type": "scatter"
          },
          {
           "line": {
            "color": "green",
            "width": 0.5
           },
           "mode": "lines",
           "name": "saccades",
           "showlegend": false,
           "x": [
            0.7554513184584178,
            0.4461206896551724
           ],
           "y": [
            0.22848110360684004,
            0.1607989653685874
           ],
           "type": "scatter"
          },
          {
           "line": {
            "color": "red",
            "width": 0.5
           },
           "mode": "lines",
           "name": "regressions",
           "showlegend": false,
           "x": [
            0.4461206896551724,
            0.3533215010141988
           ],
           "y": [
            0.1607989653685874,
            0.1682713033481823
           ],
           "type": "scatter"
          },
          {
           "line": {
            "color": "green",
            "width": 0.5
           },
           "mode": "lines",
           "name": "saccades",
           "showlegend": false,
           "x": [
            0.3533215010141988,
            0.4969574036511156
           ],
           "y": [
            0.1682713033481823,
            0.15964937491018827
           ],
           "type": "scatter"
          },
          {
           "marker": {
            "color": "green",
            "size": 6
           },
           "mode": "markers",
           "name": "aoi_1",
           "text": [
            "duration: 182",
            "duration: 269",
            "duration: 123",
            "duration: 248",
            "duration: 247",
            "duration: 195",
            "duration: 127",
            "duration: 195",
            "duration: 97",
            "duration: 197"
           ],
           "x": {
            "dtype": "f8",
            "bdata": "MiCKDvSS2T/LB5VFIvbgP3bxC20mzuE/kw8qi0Ts2T8EvWR2DIjaPyfO33XxC9k/We5phOWe1j8yOwZE0YHaP9UIyz2NsNg/aBj1yNGc1j8="
           },
           "y": {
            "dtype": "f8",
            "bdata": "wQ7BgOyN4j+MxdpLruLiP+0gT7fHJeM/kh4PqwqC3z9ojcSviprZPwi/+XXXEdU/FILQ5IwW1T++dtwZj5LQPygG90tBv88/rCxeAOqJxT8="
           },
           "type": "scatter"
          },
          {
           "marker": {
            "color": "yellow",
            "size": 6
           },
           "mode": "markers",
           "name": "aoi_2",
           "text": [
            "duration: 207",
            "duration: 81",
            "duration: 171",
            "duration: 159",
            "duration: 118",
            "duration: 113",
            "duration: 124"
           ],
           "x": {
            "dtype": "f8",
            "bdata": "u90JATb45j9SjxzNqX3oP/cZRj1yNOM/OrXPMOqR5z+SbUFKFVPsP17hxmWsBOk/4JBtQUoV6T8="
           },
           "y": {
            "dtype": "f8",
            "bdata": "+6CYJZ7b4j/7oJglntviPyAJeI98GuA/RBWiVsNe4D+lauNG1xzgP2ziGxYJR9s/QI4roGIp1T8="
           },
           "type": "scatter"
          },
          {
           "marker": {
            "color": "blue",
            "size": 6
           },
           "mode": "markers",
           "name": "aoi_0",
           "text": [
            "duration: 193",
            "duration: 219",
            "duration: 185",
            "duration: 83",
            "duration: 229",
            "duration: 244",
            "duration: 234",
            "duration: 139"
           ],
           "x": {
            "dtype": "f8",
            "bdata": "0oFeMjsG5D8GRNGBXjLjP0YHesnsGOY/ceMyVoJ54j/WdLsTAmziP7H3Tz6oLOg/3NMIyz2N3D928QttJs7fPw=="
           },
           "y": {
            "dtype": "f8",
            "bdata": "Oo3P6r+R2j8OOd90GXTUPyhF2EfR6dQ/3HVENSg11T8E7maO73DOPyRo32nePs0/XI6+fA+VxD8EdggGZG/EPw=="
           },
           "type": "scatter"
          },
          {
           "marker": {
            "color": "red"
           },
           "mode": "markers",
           "name": "tracker",
           "x": [
            0.6905425963488845
           ],
           "y": [
            0.3267710877999712
           ],
           "type": "scatter"
          }
         ],
         "name": "15"
        },
        {
         "data": [
          {
           "line": {
            "color": "green",
            "width": 0.5
           },
           "mode": "lines",
           "name": "saccades",
           "showlegend": true,
           "x": [
            0.3995943204868154,
            0.5300456389452334
           ],
           "y": [
            0.5798246874550942,
            0.5901710015806869
           ],
           "type": "scatter"
          },
          {
           "line": {
            "color": "green",
            "width": 0.5
           },
           "mode": "lines",
           "name": "saccades",
           "showlegend": false,
           "x": [
            0.5300456389452334,
            0.5564148073022313
           ],
           "y": [
            0.5901710015806869,
            0.5983618335967812
           ],
           "type": "scatter"
          },
          {
           "line": {
            "color": "green",
            "width": 0.5
           },
           "mode": "lines",
           "name": "saccades",
           "showlegend": false,
           "x": [
            0.5564148073022313,
            0.7177991886409737
           ],
           "y": [
            0.5983618335967812,
            0.5893088087368875
           ],
           "type": "scatter"
          },
          {
           "line": {
            "color": "green",
            "width": 0.5
           },
           "mode": "lines",
           "name": "saccades",
           "showlegend": false,
           "x": [
            0.7177991886409737,
            0.7653397565922921
           ],
           "y": [
            0.5893088087368875,
            0.5893088087368875
           ],
           "type": "scatter"
          },
          {
           "line": {
            "color": "green",
            "width": 0.5
           },
           "mode": "lines",
           "name": "saccades",
           "showlegend": false,
           "x": [
            0.7653397565922921,
            0.4050456389452332
           ],
           "y": [
            0.5893088087368875,
            0.4923121138094554
           ],
           "type": "scatter"
          },
          {
           "line": {
            "color": "green",
            "width": 0.5
           },
           "mode": "lines",
           "name": "saccades",
           "showlegend": false,
           "x": [
            0.4050456389452332,
            0.6001521298174443
           ],
           "y": [
            0.4923121138094554,
            0.5032332231642478
           ],
           "type": "scatter"
          },
          {
           "line": {
            "color": "green",
            "width": 0.5
           },
           "mode": "lines",
           "name": "saccades",
           "showlegend": false,
           "x": [
            0.6001521298174443,
            0.7365618661257607
           ],
           "y": [
            0.5032332231642478,
            0.511567753987642
           ],
           "type": "scatter"
          },
          {
           "line": {
            "color": "green",
            "width": 0.5
           },
           "mode": "lines",
           "name": "saccades",
           "showlegend": false,
           "x": [
            0.7365618661257607,
            0.8851419878296147
           ],
           "y": [
            0.511567753987642,
            0.5035206207788475
           ],
           "type": "scatter"
          },
          {
           "line": {
            "color": "green",
            "width": 0.5
           },
           "mode": "lines",
           "name": "saccades",
           "showlegend": false,
           "x": [
            0.8851419878296147,
            0.414553752535497
           ],
           "y": [
            0.5035206207788475,
            0.4000574795229199
           ],
           "type": "scatter"
          },
          {
           "line": {
            "color": "green",
            "width": 0.5
           },
           "mode": "lines",
           "name": "saccades",
           "showlegend": false,
           "x": [
            0.414553752535497,
            0.6257606490872212
           ],
           "y": [
            0.4000574795229199,
            0.4151458542894094
           ],
           "type": "scatter"
          },
          {
           "line": {
            "color": "green",
            "width": 0.5
           },
           "mode": "lines",
           "name": "saccades",
           "showlegend": false,
           "x": [
            0.6257606490872212,
            0.7818204868154159
           ],
           "y": [
            0.4151458542894094,
            0.42621066245150163
           ],
           "type": "scatter"
          },
          {
           "line": {
            "color": "green",
            "width": 0.5
           },
           "mode": "lines",
           "name": "saccades",
           "showlegend": false,
           "x": [
            0.7818204868154159,
            0.3913539553752536
           ],
           "y": [
            0.42621066245150163,
            0.3292139675240695
           ],
           "type": "scatter"
          },
          {
           "line": {
            "color": "red",
            "width": 0.5
           },
           "mode": "lines",
           "name": "regressions",
           "showlegend": true,
           "x": [
            0.3913539553752536,
            0.353448275862069
           ],
           "y": [
            0.3292139675240695,
            0.32950136513866934
           ],
           "type": "scatter"
          },
          {
           "line": {
            "color": "green",
            "width": 0.5
           },
           "mode": "lines",
           "name": "saccades",
           "showlegend": false,
           "x": [
            0.353448275862069,
            0.5998985801217038
           ],
           "y": [
            0.32950136513866934,
            0.31958614743497626
           ],
           "type": "scatter"
          },
          {
           "line": {
            "color": "green",
            "width": 0.5
           },
           "mode": "lines",
           "name": "saccades",
           "showlegend": false,
           "x": [
            0.5998985801217038,
            0.6905425963488845
           ],
           "y": [
            0.31958614743497626,
            0.3267710877999712
           ],
           "type": "scatter"
          },
          {
           "line": {
            "color": "red",
            "width": 0.5
           },
           "mode": "lines",
           "name": "regressions",
           "showlegend": false,
           "x": [
            0.6905425963488845,
            0.5773326572008114
           ],
           "y": [
            0.3267710877999712,
            0.33136944963356796
           ],
           "type": "scatter"
          },
          {
           "line": {
            "color": "green",
            "width": 0.5
           },
           "mode": "lines",
           "name": "saccades",
           "showlegend": false,
           "x": [
            0.5773326572008114,
            0.7838488843813387
           ],
           "y": [
            0.33136944963356796,
            0.3306509555970685
           ],
           "type": "scatter"
          },
          {
           "line": {
            "color": "green",
            "width": 0.5
           },
           "mode": "lines",
           "name": "saccades",
           "showlegend": false,
           "x": [
            0.7838488843813387,
            0.4141734279918864
           ],
           "y": [
            0.3306509555970685,
            0.25894525075441865
           ],
           "type": "scatter"
          },
          {
           "line": {
            "color": "green",
            "width": 0.5
           },
           "mode": "lines",
           "name": "saccades",
           "showlegend": false,
           "x": [
            0.4141734279918864,
            0.3857758620689656
           ],
           "y": [
            0.25894525075441865,
            0.24802414139962647
           ],
           "type": "scatter"
          },
          {
           "line": {
            "color": "green",
            "width": 0.5
           },
           "mode": "lines",
           "name": "saccades",
           "showlegend": false,
           "x": [
            0.3857758620689656,
            0.575684584178499
           ],
           "y": [
            0.24802414139962647,
            0.23782152608133356
           ],
           "type": "scatter"
          },
          {
           "line": {
            "color": "green",
            "width": 0.5
           },
           "mode": "lines",
           "name": "saccades",
           "showlegend": false,
           "x": [
            0.575684584178499,
            0.7554513184584178
           ],
           "y": [
            0.23782152608133356,
            0.22848110360684004
           ],
           "type": "scatter"
          },
          {
           "line": {
            "color": "green",
            "width": 0.5
           },
           "mode": "lines",
           "name": "saccades",
           "showlegend": false,
           "x": [
            0.7554513184584178,
            0.4461206896551724
           ],
           "y": [
            0.22848110360684004,
            0.1607989653685874
           ],
           "type": "scatter"
          },
          {
           "line": {
            "color": "red",
            "width": 0.5
           },
           "mode": "lines",
           "name": "regressions",
           "showlegend": false,
           "x": [
            0.4461206896551724,
            0.3533215010141988
           ],
           "y": [
            0.1607989653685874,
            0.1682713033481823
           ],
           "type": "scatter"
          },
          {
           "line": {
            "color": "green",
            "width": 0.5
           },
           "mode": "lines",
           "name": "saccades",
           "showlegend": false,
           "x": [
            0.3533215010141988,
            0.4969574036511156
           ],
           "y": [
            0.1682713033481823,
            0.15964937491018827
           ],
           "type": "scatter"
          },
          {
           "marker": {
            "color": "green",
            "size": 6
           },
           "mode": "markers",
           "name": "aoi_1",
           "text": [
            "duration: 182",
            "duration: 269",
            "duration: 123",
            "duration: 248",
            "duration: 247",
            "duration: 195",
            "duration: 127",
            "duration: 195",
            "duration: 97",
            "duration: 197"
           ],
           "x": {
            "dtype": "f8",
            "bdata": "MiCKDvSS2T/LB5VFIvbgP3bxC20mzuE/kw8qi0Ts2T8EvWR2DIjaPyfO33XxC9k/We5phOWe1j8yOwZE0YHaP9UIyz2NsNg/aBj1yNGc1j8="
           },
           "y": {
            "dtype": "f8",
            "bdata": "wQ7BgOyN4j+MxdpLruLiP+0gT7fHJeM/kh4PqwqC3z9ojcSviprZPwi/+XXXEdU/FILQ5IwW1T++dtwZj5LQPygG90tBv88/rCxeAOqJxT8="
           },
           "type": "scatter"
          },
          {
           "marker": {
            "color": "yellow",
            "size": 6
           },
           "mode": "markers",
           "name": "aoi_2",
           "text": [
            "duration: 207",
            "duration: 81",
            "duration: 171",
            "duration: 159",
            "duration: 118",
            "duration: 113",
            "duration: 124"
           ],
           "x": {
            "dtype": "f8",
            "bdata": "u90JATb45j9SjxzNqX3oP/cZRj1yNOM/OrXPMOqR5z+SbUFKFVPsP17hxmWsBOk/4JBtQUoV6T8="
           },
           "y": {
            "dtype": "f8",
            "bdata": "+6CYJZ7b4j/7oJglntviPyAJeI98GuA/RBWiVsNe4D+lauNG1xzgP2ziGxYJR9s/QI4roGIp1T8="
           },
           "type": "scatter"
          },
          {
           "marker": {
            "color": "blue",
            "size": 6
           },
           "mode": "markers",
           "name": "aoi_0",
           "text": [
            "duration: 193",
            "duration: 219",
            "duration: 185",
            "duration: 83",
            "duration: 229",
            "duration: 244",
            "duration: 234",
            "duration: 139"
           ],
           "x": {
            "dtype": "f8",
            "bdata": "0oFeMjsG5D8GRNGBXjLjP0YHesnsGOY/ceMyVoJ54j/WdLsTAmziP7H3Tz6oLOg/3NMIyz2N3D928QttJs7fPw=="
           },
           "y": {
            "dtype": "f8",
            "bdata": "Oo3P6r+R2j8OOd90GXTUPyhF2EfR6dQ/3HVENSg11T8E7maO73DOPyRo32nePs0/XI6+fA+VxD8EdggGZG/EPw=="
           },
           "type": "scatter"
          },
          {
           "marker": {
            "color": "red"
           },
           "mode": "markers",
           "name": "tracker",
           "x": [
            0.5773326572008114
           ],
           "y": [
            0.33136944963356796
           ],
           "type": "scatter"
          }
         ],
         "name": "16"
        },
        {
         "data": [
          {
           "line": {
            "color": "green",
            "width": 0.5
           },
           "mode": "lines",
           "name": "saccades",
           "showlegend": true,
           "x": [
            0.3995943204868154,
            0.5300456389452334
           ],
           "y": [
            0.5798246874550942,
            0.5901710015806869
           ],
           "type": "scatter"
          },
          {
           "line": {
            "color": "green",
            "width": 0.5
           },
           "mode": "lines",
           "name": "saccades",
           "showlegend": false,
           "x": [
            0.5300456389452334,
            0.5564148073022313
           ],
           "y": [
            0.5901710015806869,
            0.5983618335967812
           ],
           "type": "scatter"
          },
          {
           "line": {
            "color": "green",
            "width": 0.5
           },
           "mode": "lines",
           "name": "saccades",
           "showlegend": false,
           "x": [
            0.5564148073022313,
            0.7177991886409737
           ],
           "y": [
            0.5983618335967812,
            0.5893088087368875
           ],
           "type": "scatter"
          },
          {
           "line": {
            "color": "green",
            "width": 0.5
           },
           "mode": "lines",
           "name": "saccades",
           "showlegend": false,
           "x": [
            0.7177991886409737,
            0.7653397565922921
           ],
           "y": [
            0.5893088087368875,
            0.5893088087368875
           ],
           "type": "scatter"
          },
          {
           "line": {
            "color": "green",
            "width": 0.5
           },
           "mode": "lines",
           "name": "saccades",
           "showlegend": false,
           "x": [
            0.7653397565922921,
            0.4050456389452332
           ],
           "y": [
            0.5893088087368875,
            0.4923121138094554
           ],
           "type": "scatter"
          },
          {
           "line": {
            "color": "green",
            "width": 0.5
           },
           "mode": "lines",
           "name": "saccades",
           "showlegend": false,
           "x": [
            0.4050456389452332,
            0.6001521298174443
           ],
           "y": [
            0.4923121138094554,
            0.5032332231642478
           ],
           "type": "scatter"
          },
          {
           "line": {
            "color": "green",
            "width": 0.5
           },
           "mode": "lines",
           "name": "saccades",
           "showlegend": false,
           "x": [
            0.6001521298174443,
            0.7365618661257607
           ],
           "y": [
            0.5032332231642478,
            0.511567753987642
           ],
           "type": "scatter"
          },
          {
           "line": {
            "color": "green",
            "width": 0.5
           },
           "mode": "lines",
           "name": "saccades",
           "showlegend": false,
           "x": [
            0.7365618661257607,
            0.8851419878296147
           ],
           "y": [
            0.511567753987642,
            0.5035206207788475
           ],
           "type": "scatter"
          },
          {
           "line": {
            "color": "green",
            "width": 0.5
           },
           "mode": "lines",
           "name": "saccades",
           "showlegend": false,
           "x": [
            0.8851419878296147,
            0.414553752535497
           ],
           "y": [
            0.5035206207788475,
            0.4000574795229199
           ],
           "type": "scatter"
          },
          {
           "line": {
            "color": "green",
            "width": 0.5
           },
           "mode": "lines",
           "name": "saccades",
           "showlegend": false,
           "x": [
            0.414553752535497,
            0.6257606490872212
           ],
           "y": [
            0.4000574795229199,
            0.4151458542894094
           ],
           "type": "scatter"
          },
          {
           "line": {
            "color": "green",
            "width": 0.5
           },
           "mode": "lines",
           "name": "saccades",
           "showlegend": false,
           "x": [
            0.6257606490872212,
            0.7818204868154159
           ],
           "y": [
            0.4151458542894094,
            0.42621066245150163
           ],
           "type": "scatter"
          },
          {
           "line": {
            "color": "green",
            "width": 0.5
           },
           "mode": "lines",
           "name": "saccades",
           "showlegend": false,
           "x": [
            0.7818204868154159,
            0.3913539553752536
           ],
           "y": [
            0.42621066245150163,
            0.3292139675240695
           ],
           "type": "scatter"
          },
          {
           "line": {
            "color": "red",
            "width": 0.5
           },
           "mode": "lines",
           "name": "regressions",
           "showlegend": true,
           "x": [
            0.3913539553752536,
            0.353448275862069
           ],
           "y": [
            0.3292139675240695,
            0.32950136513866934
           ],
           "type": "scatter"
          },
          {
           "line": {
            "color": "green",
            "width": 0.5
           },
           "mode": "lines",
           "name": "saccades",
           "showlegend": false,
           "x": [
            0.353448275862069,
            0.5998985801217038
           ],
           "y": [
            0.32950136513866934,
            0.31958614743497626
           ],
           "type": "scatter"
          },
          {
           "line": {
            "color": "green",
            "width": 0.5
           },
           "mode": "lines",
           "name": "saccades",
           "showlegend": false,
           "x": [
            0.5998985801217038,
            0.6905425963488845
           ],
           "y": [
            0.31958614743497626,
            0.3267710877999712
           ],
           "type": "scatter"
          },
          {
           "line": {
            "color": "red",
            "width": 0.5
           },
           "mode": "lines",
           "name": "regressions",
           "showlegend": false,
           "x": [
            0.6905425963488845,
            0.5773326572008114
           ],
           "y": [
            0.3267710877999712,
            0.33136944963356796
           ],
           "type": "scatter"
          },
          {
           "line": {
            "color": "green",
            "width": 0.5
           },
           "mode": "lines",
           "name": "saccades",
           "showlegend": false,
           "x": [
            0.5773326572008114,
            0.7838488843813387
           ],
           "y": [
            0.33136944963356796,
            0.3306509555970685
           ],
           "type": "scatter"
          },
          {
           "line": {
            "color": "green",
            "width": 0.5
           },
           "mode": "lines",
           "name": "saccades",
           "showlegend": false,
           "x": [
            0.7838488843813387,
            0.4141734279918864
           ],
           "y": [
            0.3306509555970685,
            0.25894525075441865
           ],
           "type": "scatter"
          },
          {
           "line": {
            "color": "green",
            "width": 0.5
           },
           "mode": "lines",
           "name": "saccades",
           "showlegend": false,
           "x": [
            0.4141734279918864,
            0.3857758620689656
           ],
           "y": [
            0.25894525075441865,
            0.24802414139962647
           ],
           "type": "scatter"
          },
          {
           "line": {
            "color": "green",
            "width": 0.5
           },
           "mode": "lines",
           "name": "saccades",
           "showlegend": false,
           "x": [
            0.3857758620689656,
            0.575684584178499
           ],
           "y": [
            0.24802414139962647,
            0.23782152608133356
           ],
           "type": "scatter"
          },
          {
           "line": {
            "color": "green",
            "width": 0.5
           },
           "mode": "lines",
           "name": "saccades",
           "showlegend": false,
           "x": [
            0.575684584178499,
            0.7554513184584178
           ],
           "y": [
            0.23782152608133356,
            0.22848110360684004
           ],
           "type": "scatter"
          },
          {
           "line": {
            "color": "green",
            "width": 0.5
           },
           "mode": "lines",
           "name": "saccades",
           "showlegend": false,
           "x": [
            0.7554513184584178,
            0.4461206896551724
           ],
           "y": [
            0.22848110360684004,
            0.1607989653685874
           ],
           "type": "scatter"
          },
          {
           "line": {
            "color": "red",
            "width": 0.5
           },
           "mode": "lines",
           "name": "regressions",
           "showlegend": false,
           "x": [
            0.4461206896551724,
            0.3533215010141988
           ],
           "y": [
            0.1607989653685874,
            0.1682713033481823
           ],
           "type": "scatter"
          },
          {
           "line": {
            "color": "green",
            "width": 0.5
           },
           "mode": "lines",
           "name": "saccades",
           "showlegend": false,
           "x": [
            0.3533215010141988,
            0.4969574036511156
           ],
           "y": [
            0.1682713033481823,
            0.15964937491018827
           ],
           "type": "scatter"
          },
          {
           "marker": {
            "color": "green",
            "size": 6
           },
           "mode": "markers",
           "name": "aoi_1",
           "text": [
            "duration: 182",
            "duration: 269",
            "duration: 123",
            "duration: 248",
            "duration: 247",
            "duration: 195",
            "duration: 127",
            "duration: 195",
            "duration: 97",
            "duration: 197"
           ],
           "x": {
            "dtype": "f8",
            "bdata": "MiCKDvSS2T/LB5VFIvbgP3bxC20mzuE/kw8qi0Ts2T8EvWR2DIjaPyfO33XxC9k/We5phOWe1j8yOwZE0YHaP9UIyz2NsNg/aBj1yNGc1j8="
           },
           "y": {
            "dtype": "f8",
            "bdata": "wQ7BgOyN4j+MxdpLruLiP+0gT7fHJeM/kh4PqwqC3z9ojcSviprZPwi/+XXXEdU/FILQ5IwW1T++dtwZj5LQPygG90tBv88/rCxeAOqJxT8="
           },
           "type": "scatter"
          },
          {
           "marker": {
            "color": "yellow",
            "size": 6
           },
           "mode": "markers",
           "name": "aoi_2",
           "text": [
            "duration: 207",
            "duration: 81",
            "duration: 171",
            "duration: 159",
            "duration: 118",
            "duration: 113",
            "duration: 124"
           ],
           "x": {
            "dtype": "f8",
            "bdata": "u90JATb45j9SjxzNqX3oP/cZRj1yNOM/OrXPMOqR5z+SbUFKFVPsP17hxmWsBOk/4JBtQUoV6T8="
           },
           "y": {
            "dtype": "f8",
            "bdata": "+6CYJZ7b4j/7oJglntviPyAJeI98GuA/RBWiVsNe4D+lauNG1xzgP2ziGxYJR9s/QI4roGIp1T8="
           },
           "type": "scatter"
          },
          {
           "marker": {
            "color": "blue",
            "size": 6
           },
           "mode": "markers",
           "name": "aoi_0",
           "text": [
            "duration: 193",
            "duration: 219",
            "duration: 185",
            "duration: 83",
            "duration: 229",
            "duration: 244",
            "duration: 234",
            "duration: 139"
           ],
           "x": {
            "dtype": "f8",
            "bdata": "0oFeMjsG5D8GRNGBXjLjP0YHesnsGOY/ceMyVoJ54j/WdLsTAmziP7H3Tz6oLOg/3NMIyz2N3D928QttJs7fPw=="
           },
           "y": {
            "dtype": "f8",
            "bdata": "Oo3P6r+R2j8OOd90GXTUPyhF2EfR6dQ/3HVENSg11T8E7maO73DOPyRo32nePs0/XI6+fA+VxD8EdggGZG/EPw=="
           },
           "type": "scatter"
          },
          {
           "marker": {
            "color": "red"
           },
           "mode": "markers",
           "name": "tracker",
           "x": [
            0.7838488843813387
           ],
           "y": [
            0.3306509555970685
           ],
           "type": "scatter"
          }
         ],
         "name": "17"
        },
        {
         "data": [
          {
           "line": {
            "color": "green",
            "width": 0.5
           },
           "mode": "lines",
           "name": "saccades",
           "showlegend": true,
           "x": [
            0.3995943204868154,
            0.5300456389452334
           ],
           "y": [
            0.5798246874550942,
            0.5901710015806869
           ],
           "type": "scatter"
          },
          {
           "line": {
            "color": "green",
            "width": 0.5
           },
           "mode": "lines",
           "name": "saccades",
           "showlegend": false,
           "x": [
            0.5300456389452334,
            0.5564148073022313
           ],
           "y": [
            0.5901710015806869,
            0.5983618335967812
           ],
           "type": "scatter"
          },
          {
           "line": {
            "color": "green",
            "width": 0.5
           },
           "mode": "lines",
           "name": "saccades",
           "showlegend": false,
           "x": [
            0.5564148073022313,
            0.7177991886409737
           ],
           "y": [
            0.5983618335967812,
            0.5893088087368875
           ],
           "type": "scatter"
          },
          {
           "line": {
            "color": "green",
            "width": 0.5
           },
           "mode": "lines",
           "name": "saccades",
           "showlegend": false,
           "x": [
            0.7177991886409737,
            0.7653397565922921
           ],
           "y": [
            0.5893088087368875,
            0.5893088087368875
           ],
           "type": "scatter"
          },
          {
           "line": {
            "color": "green",
            "width": 0.5
           },
           "mode": "lines",
           "name": "saccades",
           "showlegend": false,
           "x": [
            0.7653397565922921,
            0.4050456389452332
           ],
           "y": [
            0.5893088087368875,
            0.4923121138094554
           ],
           "type": "scatter"
          },
          {
           "line": {
            "color": "green",
            "width": 0.5
           },
           "mode": "lines",
           "name": "saccades",
           "showlegend": false,
           "x": [
            0.4050456389452332,
            0.6001521298174443
           ],
           "y": [
            0.4923121138094554,
            0.5032332231642478
           ],
           "type": "scatter"
          },
          {
           "line": {
            "color": "green",
            "width": 0.5
           },
           "mode": "lines",
           "name": "saccades",
           "showlegend": false,
           "x": [
            0.6001521298174443,
            0.7365618661257607
           ],
           "y": [
            0.5032332231642478,
            0.511567753987642
           ],
           "type": "scatter"
          },
          {
           "line": {
            "color": "green",
            "width": 0.5
           },
           "mode": "lines",
           "name": "saccades",
           "showlegend": false,
           "x": [
            0.7365618661257607,
            0.8851419878296147
           ],
           "y": [
            0.511567753987642,
            0.5035206207788475
           ],
           "type": "scatter"
          },
          {
           "line": {
            "color": "green",
            "width": 0.5
           },
           "mode": "lines",
           "name": "saccades",
           "showlegend": false,
           "x": [
            0.8851419878296147,
            0.414553752535497
           ],
           "y": [
            0.5035206207788475,
            0.4000574795229199
           ],
           "type": "scatter"
          },
          {
           "line": {
            "color": "green",
            "width": 0.5
           },
           "mode": "lines",
           "name": "saccades",
           "showlegend": false,
           "x": [
            0.414553752535497,
            0.6257606490872212
           ],
           "y": [
            0.4000574795229199,
            0.4151458542894094
           ],
           "type": "scatter"
          },
          {
           "line": {
            "color": "green",
            "width": 0.5
           },
           "mode": "lines",
           "name": "saccades",
           "showlegend": false,
           "x": [
            0.6257606490872212,
            0.7818204868154159
           ],
           "y": [
            0.4151458542894094,
            0.42621066245150163
           ],
           "type": "scatter"
          },
          {
           "line": {
            "color": "green",
            "width": 0.5
           },
           "mode": "lines",
           "name": "saccades",
           "showlegend": false,
           "x": [
            0.7818204868154159,
            0.3913539553752536
           ],
           "y": [
            0.42621066245150163,
            0.3292139675240695
           ],
           "type": "scatter"
          },
          {
           "line": {
            "color": "red",
            "width": 0.5
           },
           "mode": "lines",
           "name": "regressions",
           "showlegend": true,
           "x": [
            0.3913539553752536,
            0.353448275862069
           ],
           "y": [
            0.3292139675240695,
            0.32950136513866934
           ],
           "type": "scatter"
          },
          {
           "line": {
            "color": "green",
            "width": 0.5
           },
           "mode": "lines",
           "name": "saccades",
           "showlegend": false,
           "x": [
            0.353448275862069,
            0.5998985801217038
           ],
           "y": [
            0.32950136513866934,
            0.31958614743497626
           ],
           "type": "scatter"
          },
          {
           "line": {
            "color": "green",
            "width": 0.5
           },
           "mode": "lines",
           "name": "saccades",
           "showlegend": false,
           "x": [
            0.5998985801217038,
            0.6905425963488845
           ],
           "y": [
            0.31958614743497626,
            0.3267710877999712
           ],
           "type": "scatter"
          },
          {
           "line": {
            "color": "red",
            "width": 0.5
           },
           "mode": "lines",
           "name": "regressions",
           "showlegend": false,
           "x": [
            0.6905425963488845,
            0.5773326572008114
           ],
           "y": [
            0.3267710877999712,
            0.33136944963356796
           ],
           "type": "scatter"
          },
          {
           "line": {
            "color": "green",
            "width": 0.5
           },
           "mode": "lines",
           "name": "saccades",
           "showlegend": false,
           "x": [
            0.5773326572008114,
            0.7838488843813387
           ],
           "y": [
            0.33136944963356796,
            0.3306509555970685
           ],
           "type": "scatter"
          },
          {
           "line": {
            "color": "green",
            "width": 0.5
           },
           "mode": "lines",
           "name": "saccades",
           "showlegend": false,
           "x": [
            0.7838488843813387,
            0.4141734279918864
           ],
           "y": [
            0.3306509555970685,
            0.25894525075441865
           ],
           "type": "scatter"
          },
          {
           "line": {
            "color": "green",
            "width": 0.5
           },
           "mode": "lines",
           "name": "saccades",
           "showlegend": false,
           "x": [
            0.4141734279918864,
            0.3857758620689656
           ],
           "y": [
            0.25894525075441865,
            0.24802414139962647
           ],
           "type": "scatter"
          },
          {
           "line": {
            "color": "green",
            "width": 0.5
           },
           "mode": "lines",
           "name": "saccades",
           "showlegend": false,
           "x": [
            0.3857758620689656,
            0.575684584178499
           ],
           "y": [
            0.24802414139962647,
            0.23782152608133356
           ],
           "type": "scatter"
          },
          {
           "line": {
            "color": "green",
            "width": 0.5
           },
           "mode": "lines",
           "name": "saccades",
           "showlegend": false,
           "x": [
            0.575684584178499,
            0.7554513184584178
           ],
           "y": [
            0.23782152608133356,
            0.22848110360684004
           ],
           "type": "scatter"
          },
          {
           "line": {
            "color": "green",
            "width": 0.5
           },
           "mode": "lines",
           "name": "saccades",
           "showlegend": false,
           "x": [
            0.7554513184584178,
            0.4461206896551724
           ],
           "y": [
            0.22848110360684004,
            0.1607989653685874
           ],
           "type": "scatter"
          },
          {
           "line": {
            "color": "red",
            "width": 0.5
           },
           "mode": "lines",
           "name": "regressions",
           "showlegend": false,
           "x": [
            0.4461206896551724,
            0.3533215010141988
           ],
           "y": [
            0.1607989653685874,
            0.1682713033481823
           ],
           "type": "scatter"
          },
          {
           "line": {
            "color": "green",
            "width": 0.5
           },
           "mode": "lines",
           "name": "saccades",
           "showlegend": false,
           "x": [
            0.3533215010141988,
            0.4969574036511156
           ],
           "y": [
            0.1682713033481823,
            0.15964937491018827
           ],
           "type": "scatter"
          },
          {
           "marker": {
            "color": "green",
            "size": 6
           },
           "mode": "markers",
           "name": "aoi_1",
           "text": [
            "duration: 182",
            "duration: 269",
            "duration: 123",
            "duration: 248",
            "duration: 247",
            "duration: 195",
            "duration: 127",
            "duration: 195",
            "duration: 97",
            "duration: 197"
           ],
           "x": {
            "dtype": "f8",
            "bdata": "MiCKDvSS2T/LB5VFIvbgP3bxC20mzuE/kw8qi0Ts2T8EvWR2DIjaPyfO33XxC9k/We5phOWe1j8yOwZE0YHaP9UIyz2NsNg/aBj1yNGc1j8="
           },
           "y": {
            "dtype": "f8",
            "bdata": "wQ7BgOyN4j+MxdpLruLiP+0gT7fHJeM/kh4PqwqC3z9ojcSviprZPwi/+XXXEdU/FILQ5IwW1T++dtwZj5LQPygG90tBv88/rCxeAOqJxT8="
           },
           "type": "scatter"
          },
          {
           "marker": {
            "color": "yellow",
            "size": 6
           },
           "mode": "markers",
           "name": "aoi_2",
           "text": [
            "duration: 207",
            "duration: 81",
            "duration: 171",
            "duration: 159",
            "duration: 118",
            "duration: 113",
            "duration: 124"
           ],
           "x": {
            "dtype": "f8",
            "bdata": "u90JATb45j9SjxzNqX3oP/cZRj1yNOM/OrXPMOqR5z+SbUFKFVPsP17hxmWsBOk/4JBtQUoV6T8="
           },
           "y": {
            "dtype": "f8",
            "bdata": "+6CYJZ7b4j/7oJglntviPyAJeI98GuA/RBWiVsNe4D+lauNG1xzgP2ziGxYJR9s/QI4roGIp1T8="
           },
           "type": "scatter"
          },
          {
           "marker": {
            "color": "blue",
            "size": 6
           },
           "mode": "markers",
           "name": "aoi_0",
           "text": [
            "duration: 193",
            "duration: 219",
            "duration: 185",
            "duration: 83",
            "duration: 229",
            "duration: 244",
            "duration: 234",
            "duration: 139"
           ],
           "x": {
            "dtype": "f8",
            "bdata": "0oFeMjsG5D8GRNGBXjLjP0YHesnsGOY/ceMyVoJ54j/WdLsTAmziP7H3Tz6oLOg/3NMIyz2N3D928QttJs7fPw=="
           },
           "y": {
            "dtype": "f8",
            "bdata": "Oo3P6r+R2j8OOd90GXTUPyhF2EfR6dQ/3HVENSg11T8E7maO73DOPyRo32nePs0/XI6+fA+VxD8EdggGZG/EPw=="
           },
           "type": "scatter"
          },
          {
           "marker": {
            "color": "red"
           },
           "mode": "markers",
           "name": "tracker",
           "x": [
            0.4141734279918864
           ],
           "y": [
            0.25894525075441865
           ],
           "type": "scatter"
          }
         ],
         "name": "18"
        },
        {
         "data": [
          {
           "line": {
            "color": "green",
            "width": 0.5
           },
           "mode": "lines",
           "name": "saccades",
           "showlegend": true,
           "x": [
            0.3995943204868154,
            0.5300456389452334
           ],
           "y": [
            0.5798246874550942,
            0.5901710015806869
           ],
           "type": "scatter"
          },
          {
           "line": {
            "color": "green",
            "width": 0.5
           },
           "mode": "lines",
           "name": "saccades",
           "showlegend": false,
           "x": [
            0.5300456389452334,
            0.5564148073022313
           ],
           "y": [
            0.5901710015806869,
            0.5983618335967812
           ],
           "type": "scatter"
          },
          {
           "line": {
            "color": "green",
            "width": 0.5
           },
           "mode": "lines",
           "name": "saccades",
           "showlegend": false,
           "x": [
            0.5564148073022313,
            0.7177991886409737
           ],
           "y": [
            0.5983618335967812,
            0.5893088087368875
           ],
           "type": "scatter"
          },
          {
           "line": {
            "color": "green",
            "width": 0.5
           },
           "mode": "lines",
           "name": "saccades",
           "showlegend": false,
           "x": [
            0.7177991886409737,
            0.7653397565922921
           ],
           "y": [
            0.5893088087368875,
            0.5893088087368875
           ],
           "type": "scatter"
          },
          {
           "line": {
            "color": "green",
            "width": 0.5
           },
           "mode": "lines",
           "name": "saccades",
           "showlegend": false,
           "x": [
            0.7653397565922921,
            0.4050456389452332
           ],
           "y": [
            0.5893088087368875,
            0.4923121138094554
           ],
           "type": "scatter"
          },
          {
           "line": {
            "color": "green",
            "width": 0.5
           },
           "mode": "lines",
           "name": "saccades",
           "showlegend": false,
           "x": [
            0.4050456389452332,
            0.6001521298174443
           ],
           "y": [
            0.4923121138094554,
            0.5032332231642478
           ],
           "type": "scatter"
          },
          {
           "line": {
            "color": "green",
            "width": 0.5
           },
           "mode": "lines",
           "name": "saccades",
           "showlegend": false,
           "x": [
            0.6001521298174443,
            0.7365618661257607
           ],
           "y": [
            0.5032332231642478,
            0.511567753987642
           ],
           "type": "scatter"
          },
          {
           "line": {
            "color": "green",
            "width": 0.5
           },
           "mode": "lines",
           "name": "saccades",
           "showlegend": false,
           "x": [
            0.7365618661257607,
            0.8851419878296147
           ],
           "y": [
            0.511567753987642,
            0.5035206207788475
           ],
           "type": "scatter"
          },
          {
           "line": {
            "color": "green",
            "width": 0.5
           },
           "mode": "lines",
           "name": "saccades",
           "showlegend": false,
           "x": [
            0.8851419878296147,
            0.414553752535497
           ],
           "y": [
            0.5035206207788475,
            0.4000574795229199
           ],
           "type": "scatter"
          },
          {
           "line": {
            "color": "green",
            "width": 0.5
           },
           "mode": "lines",
           "name": "saccades",
           "showlegend": false,
           "x": [
            0.414553752535497,
            0.6257606490872212
           ],
           "y": [
            0.4000574795229199,
            0.4151458542894094
           ],
           "type": "scatter"
          },
          {
           "line": {
            "color": "green",
            "width": 0.5
           },
           "mode": "lines",
           "name": "saccades",
           "showlegend": false,
           "x": [
            0.6257606490872212,
            0.7818204868154159
           ],
           "y": [
            0.4151458542894094,
            0.42621066245150163
           ],
           "type": "scatter"
          },
          {
           "line": {
            "color": "green",
            "width": 0.5
           },
           "mode": "lines",
           "name": "saccades",
           "showlegend": false,
           "x": [
            0.7818204868154159,
            0.3913539553752536
           ],
           "y": [
            0.42621066245150163,
            0.3292139675240695
           ],
           "type": "scatter"
          },
          {
           "line": {
            "color": "red",
            "width": 0.5
           },
           "mode": "lines",
           "name": "regressions",
           "showlegend": true,
           "x": [
            0.3913539553752536,
            0.353448275862069
           ],
           "y": [
            0.3292139675240695,
            0.32950136513866934
           ],
           "type": "scatter"
          },
          {
           "line": {
            "color": "green",
            "width": 0.5
           },
           "mode": "lines",
           "name": "saccades",
           "showlegend": false,
           "x": [
            0.353448275862069,
            0.5998985801217038
           ],
           "y": [
            0.32950136513866934,
            0.31958614743497626
           ],
           "type": "scatter"
          },
          {
           "line": {
            "color": "green",
            "width": 0.5
           },
           "mode": "lines",
           "name": "saccades",
           "showlegend": false,
           "x": [
            0.5998985801217038,
            0.6905425963488845
           ],
           "y": [
            0.31958614743497626,
            0.3267710877999712
           ],
           "type": "scatter"
          },
          {
           "line": {
            "color": "red",
            "width": 0.5
           },
           "mode": "lines",
           "name": "regressions",
           "showlegend": false,
           "x": [
            0.6905425963488845,
            0.5773326572008114
           ],
           "y": [
            0.3267710877999712,
            0.33136944963356796
           ],
           "type": "scatter"
          },
          {
           "line": {
            "color": "green",
            "width": 0.5
           },
           "mode": "lines",
           "name": "saccades",
           "showlegend": false,
           "x": [
            0.5773326572008114,
            0.7838488843813387
           ],
           "y": [
            0.33136944963356796,
            0.3306509555970685
           ],
           "type": "scatter"
          },
          {
           "line": {
            "color": "green",
            "width": 0.5
           },
           "mode": "lines",
           "name": "saccades",
           "showlegend": false,
           "x": [
            0.7838488843813387,
            0.4141734279918864
           ],
           "y": [
            0.3306509555970685,
            0.25894525075441865
           ],
           "type": "scatter"
          },
          {
           "line": {
            "color": "green",
            "width": 0.5
           },
           "mode": "lines",
           "name": "saccades",
           "showlegend": false,
           "x": [
            0.4141734279918864,
            0.3857758620689656
           ],
           "y": [
            0.25894525075441865,
            0.24802414139962647
           ],
           "type": "scatter"
          },
          {
           "line": {
            "color": "green",
            "width": 0.5
           },
           "mode": "lines",
           "name": "saccades",
           "showlegend": false,
           "x": [
            0.3857758620689656,
            0.575684584178499
           ],
           "y": [
            0.24802414139962647,
            0.23782152608133356
           ],
           "type": "scatter"
          },
          {
           "line": {
            "color": "green",
            "width": 0.5
           },
           "mode": "lines",
           "name": "saccades",
           "showlegend": false,
           "x": [
            0.575684584178499,
            0.7554513184584178
           ],
           "y": [
            0.23782152608133356,
            0.22848110360684004
           ],
           "type": "scatter"
          },
          {
           "line": {
            "color": "green",
            "width": 0.5
           },
           "mode": "lines",
           "name": "saccades",
           "showlegend": false,
           "x": [
            0.7554513184584178,
            0.4461206896551724
           ],
           "y": [
            0.22848110360684004,
            0.1607989653685874
           ],
           "type": "scatter"
          },
          {
           "line": {
            "color": "red",
            "width": 0.5
           },
           "mode": "lines",
           "name": "regressions",
           "showlegend": false,
           "x": [
            0.4461206896551724,
            0.3533215010141988
           ],
           "y": [
            0.1607989653685874,
            0.1682713033481823
           ],
           "type": "scatter"
          },
          {
           "line": {
            "color": "green",
            "width": 0.5
           },
           "mode": "lines",
           "name": "saccades",
           "showlegend": false,
           "x": [
            0.3533215010141988,
            0.4969574036511156
           ],
           "y": [
            0.1682713033481823,
            0.15964937491018827
           ],
           "type": "scatter"
          },
          {
           "marker": {
            "color": "green",
            "size": 6
           },
           "mode": "markers",
           "name": "aoi_1",
           "text": [
            "duration: 182",
            "duration: 269",
            "duration: 123",
            "duration: 248",
            "duration: 247",
            "duration: 195",
            "duration: 127",
            "duration: 195",
            "duration: 97",
            "duration: 197"
           ],
           "x": {
            "dtype": "f8",
            "bdata": "MiCKDvSS2T/LB5VFIvbgP3bxC20mzuE/kw8qi0Ts2T8EvWR2DIjaPyfO33XxC9k/We5phOWe1j8yOwZE0YHaP9UIyz2NsNg/aBj1yNGc1j8="
           },
           "y": {
            "dtype": "f8",
            "bdata": "wQ7BgOyN4j+MxdpLruLiP+0gT7fHJeM/kh4PqwqC3z9ojcSviprZPwi/+XXXEdU/FILQ5IwW1T++dtwZj5LQPygG90tBv88/rCxeAOqJxT8="
           },
           "type": "scatter"
          },
          {
           "marker": {
            "color": "yellow",
            "size": 6
           },
           "mode": "markers",
           "name": "aoi_2",
           "text": [
            "duration: 207",
            "duration: 81",
            "duration: 171",
            "duration: 159",
            "duration: 118",
            "duration: 113",
            "duration: 124"
           ],
           "x": {
            "dtype": "f8",
            "bdata": "u90JATb45j9SjxzNqX3oP/cZRj1yNOM/OrXPMOqR5z+SbUFKFVPsP17hxmWsBOk/4JBtQUoV6T8="
           },
           "y": {
            "dtype": "f8",
            "bdata": "+6CYJZ7b4j/7oJglntviPyAJeI98GuA/RBWiVsNe4D+lauNG1xzgP2ziGxYJR9s/QI4roGIp1T8="
           },
           "type": "scatter"
          },
          {
           "marker": {
            "color": "blue",
            "size": 6
           },
           "mode": "markers",
           "name": "aoi_0",
           "text": [
            "duration: 193",
            "duration: 219",
            "duration: 185",
            "duration: 83",
            "duration: 229",
            "duration: 244",
            "duration: 234",
            "duration: 139"
           ],
           "x": {
            "dtype": "f8",
            "bdata": "0oFeMjsG5D8GRNGBXjLjP0YHesnsGOY/ceMyVoJ54j/WdLsTAmziP7H3Tz6oLOg/3NMIyz2N3D928QttJs7fPw=="
           },
           "y": {
            "dtype": "f8",
            "bdata": "Oo3P6r+R2j8OOd90GXTUPyhF2EfR6dQ/3HVENSg11T8E7maO73DOPyRo32nePs0/XI6+fA+VxD8EdggGZG/EPw=="
           },
           "type": "scatter"
          },
          {
           "marker": {
            "color": "red"
           },
           "mode": "markers",
           "name": "tracker",
           "x": [
            0.3857758620689656
           ],
           "y": [
            0.24802414139962647
           ],
           "type": "scatter"
          }
         ],
         "name": "19"
        },
        {
         "data": [
          {
           "line": {
            "color": "green",
            "width": 0.5
           },
           "mode": "lines",
           "name": "saccades",
           "showlegend": true,
           "x": [
            0.3995943204868154,
            0.5300456389452334
           ],
           "y": [
            0.5798246874550942,
            0.5901710015806869
           ],
           "type": "scatter"
          },
          {
           "line": {
            "color": "green",
            "width": 0.5
           },
           "mode": "lines",
           "name": "saccades",
           "showlegend": false,
           "x": [
            0.5300456389452334,
            0.5564148073022313
           ],
           "y": [
            0.5901710015806869,
            0.5983618335967812
           ],
           "type": "scatter"
          },
          {
           "line": {
            "color": "green",
            "width": 0.5
           },
           "mode": "lines",
           "name": "saccades",
           "showlegend": false,
           "x": [
            0.5564148073022313,
            0.7177991886409737
           ],
           "y": [
            0.5983618335967812,
            0.5893088087368875
           ],
           "type": "scatter"
          },
          {
           "line": {
            "color": "green",
            "width": 0.5
           },
           "mode": "lines",
           "name": "saccades",
           "showlegend": false,
           "x": [
            0.7177991886409737,
            0.7653397565922921
           ],
           "y": [
            0.5893088087368875,
            0.5893088087368875
           ],
           "type": "scatter"
          },
          {
           "line": {
            "color": "green",
            "width": 0.5
           },
           "mode": "lines",
           "name": "saccades",
           "showlegend": false,
           "x": [
            0.7653397565922921,
            0.4050456389452332
           ],
           "y": [
            0.5893088087368875,
            0.4923121138094554
           ],
           "type": "scatter"
          },
          {
           "line": {
            "color": "green",
            "width": 0.5
           },
           "mode": "lines",
           "name": "saccades",
           "showlegend": false,
           "x": [
            0.4050456389452332,
            0.6001521298174443
           ],
           "y": [
            0.4923121138094554,
            0.5032332231642478
           ],
           "type": "scatter"
          },
          {
           "line": {
            "color": "green",
            "width": 0.5
           },
           "mode": "lines",
           "name": "saccades",
           "showlegend": false,
           "x": [
            0.6001521298174443,
            0.7365618661257607
           ],
           "y": [
            0.5032332231642478,
            0.511567753987642
           ],
           "type": "scatter"
          },
          {
           "line": {
            "color": "green",
            "width": 0.5
           },
           "mode": "lines",
           "name": "saccades",
           "showlegend": false,
           "x": [
            0.7365618661257607,
            0.8851419878296147
           ],
           "y": [
            0.511567753987642,
            0.5035206207788475
           ],
           "type": "scatter"
          },
          {
           "line": {
            "color": "green",
            "width": 0.5
           },
           "mode": "lines",
           "name": "saccades",
           "showlegend": false,
           "x": [
            0.8851419878296147,
            0.414553752535497
           ],
           "y": [
            0.5035206207788475,
            0.4000574795229199
           ],
           "type": "scatter"
          },
          {
           "line": {
            "color": "green",
            "width": 0.5
           },
           "mode": "lines",
           "name": "saccades",
           "showlegend": false,
           "x": [
            0.414553752535497,
            0.6257606490872212
           ],
           "y": [
            0.4000574795229199,
            0.4151458542894094
           ],
           "type": "scatter"
          },
          {
           "line": {
            "color": "green",
            "width": 0.5
           },
           "mode": "lines",
           "name": "saccades",
           "showlegend": false,
           "x": [
            0.6257606490872212,
            0.7818204868154159
           ],
           "y": [
            0.4151458542894094,
            0.42621066245150163
           ],
           "type": "scatter"
          },
          {
           "line": {
            "color": "green",
            "width": 0.5
           },
           "mode": "lines",
           "name": "saccades",
           "showlegend": false,
           "x": [
            0.7818204868154159,
            0.3913539553752536
           ],
           "y": [
            0.42621066245150163,
            0.3292139675240695
           ],
           "type": "scatter"
          },
          {
           "line": {
            "color": "red",
            "width": 0.5
           },
           "mode": "lines",
           "name": "regressions",
           "showlegend": true,
           "x": [
            0.3913539553752536,
            0.353448275862069
           ],
           "y": [
            0.3292139675240695,
            0.32950136513866934
           ],
           "type": "scatter"
          },
          {
           "line": {
            "color": "green",
            "width": 0.5
           },
           "mode": "lines",
           "name": "saccades",
           "showlegend": false,
           "x": [
            0.353448275862069,
            0.5998985801217038
           ],
           "y": [
            0.32950136513866934,
            0.31958614743497626
           ],
           "type": "scatter"
          },
          {
           "line": {
            "color": "green",
            "width": 0.5
           },
           "mode": "lines",
           "name": "saccades",
           "showlegend": false,
           "x": [
            0.5998985801217038,
            0.6905425963488845
           ],
           "y": [
            0.31958614743497626,
            0.3267710877999712
           ],
           "type": "scatter"
          },
          {
           "line": {
            "color": "red",
            "width": 0.5
           },
           "mode": "lines",
           "name": "regressions",
           "showlegend": false,
           "x": [
            0.6905425963488845,
            0.5773326572008114
           ],
           "y": [
            0.3267710877999712,
            0.33136944963356796
           ],
           "type": "scatter"
          },
          {
           "line": {
            "color": "green",
            "width": 0.5
           },
           "mode": "lines",
           "name": "saccades",
           "showlegend": false,
           "x": [
            0.5773326572008114,
            0.7838488843813387
           ],
           "y": [
            0.33136944963356796,
            0.3306509555970685
           ],
           "type": "scatter"
          },
          {
           "line": {
            "color": "green",
            "width": 0.5
           },
           "mode": "lines",
           "name": "saccades",
           "showlegend": false,
           "x": [
            0.7838488843813387,
            0.4141734279918864
           ],
           "y": [
            0.3306509555970685,
            0.25894525075441865
           ],
           "type": "scatter"
          },
          {
           "line": {
            "color": "green",
            "width": 0.5
           },
           "mode": "lines",
           "name": "saccades",
           "showlegend": false,
           "x": [
            0.4141734279918864,
            0.3857758620689656
           ],
           "y": [
            0.25894525075441865,
            0.24802414139962647
           ],
           "type": "scatter"
          },
          {
           "line": {
            "color": "green",
            "width": 0.5
           },
           "mode": "lines",
           "name": "saccades",
           "showlegend": false,
           "x": [
            0.3857758620689656,
            0.575684584178499
           ],
           "y": [
            0.24802414139962647,
            0.23782152608133356
           ],
           "type": "scatter"
          },
          {
           "line": {
            "color": "green",
            "width": 0.5
           },
           "mode": "lines",
           "name": "saccades",
           "showlegend": false,
           "x": [
            0.575684584178499,
            0.7554513184584178
           ],
           "y": [
            0.23782152608133356,
            0.22848110360684004
           ],
           "type": "scatter"
          },
          {
           "line": {
            "color": "green",
            "width": 0.5
           },
           "mode": "lines",
           "name": "saccades",
           "showlegend": false,
           "x": [
            0.7554513184584178,
            0.4461206896551724
           ],
           "y": [
            0.22848110360684004,
            0.1607989653685874
           ],
           "type": "scatter"
          },
          {
           "line": {
            "color": "red",
            "width": 0.5
           },
           "mode": "lines",
           "name": "regressions",
           "showlegend": false,
           "x": [
            0.4461206896551724,
            0.3533215010141988
           ],
           "y": [
            0.1607989653685874,
            0.1682713033481823
           ],
           "type": "scatter"
          },
          {
           "line": {
            "color": "green",
            "width": 0.5
           },
           "mode": "lines",
           "name": "saccades",
           "showlegend": false,
           "x": [
            0.3533215010141988,
            0.4969574036511156
           ],
           "y": [
            0.1682713033481823,
            0.15964937491018827
           ],
           "type": "scatter"
          },
          {
           "marker": {
            "color": "green",
            "size": 6
           },
           "mode": "markers",
           "name": "aoi_1",
           "text": [
            "duration: 182",
            "duration: 269",
            "duration: 123",
            "duration: 248",
            "duration: 247",
            "duration: 195",
            "duration: 127",
            "duration: 195",
            "duration: 97",
            "duration: 197"
           ],
           "x": {
            "dtype": "f8",
            "bdata": "MiCKDvSS2T/LB5VFIvbgP3bxC20mzuE/kw8qi0Ts2T8EvWR2DIjaPyfO33XxC9k/We5phOWe1j8yOwZE0YHaP9UIyz2NsNg/aBj1yNGc1j8="
           },
           "y": {
            "dtype": "f8",
            "bdata": "wQ7BgOyN4j+MxdpLruLiP+0gT7fHJeM/kh4PqwqC3z9ojcSviprZPwi/+XXXEdU/FILQ5IwW1T++dtwZj5LQPygG90tBv88/rCxeAOqJxT8="
           },
           "type": "scatter"
          },
          {
           "marker": {
            "color": "yellow",
            "size": 6
           },
           "mode": "markers",
           "name": "aoi_2",
           "text": [
            "duration: 207",
            "duration: 81",
            "duration: 171",
            "duration: 159",
            "duration: 118",
            "duration: 113",
            "duration: 124"
           ],
           "x": {
            "dtype": "f8",
            "bdata": "u90JATb45j9SjxzNqX3oP/cZRj1yNOM/OrXPMOqR5z+SbUFKFVPsP17hxmWsBOk/4JBtQUoV6T8="
           },
           "y": {
            "dtype": "f8",
            "bdata": "+6CYJZ7b4j/7oJglntviPyAJeI98GuA/RBWiVsNe4D+lauNG1xzgP2ziGxYJR9s/QI4roGIp1T8="
           },
           "type": "scatter"
          },
          {
           "marker": {
            "color": "blue",
            "size": 6
           },
           "mode": "markers",
           "name": "aoi_0",
           "text": [
            "duration: 193",
            "duration: 219",
            "duration: 185",
            "duration: 83",
            "duration: 229",
            "duration: 244",
            "duration: 234",
            "duration: 139"
           ],
           "x": {
            "dtype": "f8",
            "bdata": "0oFeMjsG5D8GRNGBXjLjP0YHesnsGOY/ceMyVoJ54j/WdLsTAmziP7H3Tz6oLOg/3NMIyz2N3D928QttJs7fPw=="
           },
           "y": {
            "dtype": "f8",
            "bdata": "Oo3P6r+R2j8OOd90GXTUPyhF2EfR6dQ/3HVENSg11T8E7maO73DOPyRo32nePs0/XI6+fA+VxD8EdggGZG/EPw=="
           },
           "type": "scatter"
          },
          {
           "marker": {
            "color": "red"
           },
           "mode": "markers",
           "name": "tracker",
           "x": [
            0.575684584178499
           ],
           "y": [
            0.23782152608133356
           ],
           "type": "scatter"
          }
         ],
         "name": "20"
        },
        {
         "data": [
          {
           "line": {
            "color": "green",
            "width": 0.5
           },
           "mode": "lines",
           "name": "saccades",
           "showlegend": true,
           "x": [
            0.3995943204868154,
            0.5300456389452334
           ],
           "y": [
            0.5798246874550942,
            0.5901710015806869
           ],
           "type": "scatter"
          },
          {
           "line": {
            "color": "green",
            "width": 0.5
           },
           "mode": "lines",
           "name": "saccades",
           "showlegend": false,
           "x": [
            0.5300456389452334,
            0.5564148073022313
           ],
           "y": [
            0.5901710015806869,
            0.5983618335967812
           ],
           "type": "scatter"
          },
          {
           "line": {
            "color": "green",
            "width": 0.5
           },
           "mode": "lines",
           "name": "saccades",
           "showlegend": false,
           "x": [
            0.5564148073022313,
            0.7177991886409737
           ],
           "y": [
            0.5983618335967812,
            0.5893088087368875
           ],
           "type": "scatter"
          },
          {
           "line": {
            "color": "green",
            "width": 0.5
           },
           "mode": "lines",
           "name": "saccades",
           "showlegend": false,
           "x": [
            0.7177991886409737,
            0.7653397565922921
           ],
           "y": [
            0.5893088087368875,
            0.5893088087368875
           ],
           "type": "scatter"
          },
          {
           "line": {
            "color": "green",
            "width": 0.5
           },
           "mode": "lines",
           "name": "saccades",
           "showlegend": false,
           "x": [
            0.7653397565922921,
            0.4050456389452332
           ],
           "y": [
            0.5893088087368875,
            0.4923121138094554
           ],
           "type": "scatter"
          },
          {
           "line": {
            "color": "green",
            "width": 0.5
           },
           "mode": "lines",
           "name": "saccades",
           "showlegend": false,
           "x": [
            0.4050456389452332,
            0.6001521298174443
           ],
           "y": [
            0.4923121138094554,
            0.5032332231642478
           ],
           "type": "scatter"
          },
          {
           "line": {
            "color": "green",
            "width": 0.5
           },
           "mode": "lines",
           "name": "saccades",
           "showlegend": false,
           "x": [
            0.6001521298174443,
            0.7365618661257607
           ],
           "y": [
            0.5032332231642478,
            0.511567753987642
           ],
           "type": "scatter"
          },
          {
           "line": {
            "color": "green",
            "width": 0.5
           },
           "mode": "lines",
           "name": "saccades",
           "showlegend": false,
           "x": [
            0.7365618661257607,
            0.8851419878296147
           ],
           "y": [
            0.511567753987642,
            0.5035206207788475
           ],
           "type": "scatter"
          },
          {
           "line": {
            "color": "green",
            "width": 0.5
           },
           "mode": "lines",
           "name": "saccades",
           "showlegend": false,
           "x": [
            0.8851419878296147,
            0.414553752535497
           ],
           "y": [
            0.5035206207788475,
            0.4000574795229199
           ],
           "type": "scatter"
          },
          {
           "line": {
            "color": "green",
            "width": 0.5
           },
           "mode": "lines",
           "name": "saccades",
           "showlegend": false,
           "x": [
            0.414553752535497,
            0.6257606490872212
           ],
           "y": [
            0.4000574795229199,
            0.4151458542894094
           ],
           "type": "scatter"
          },
          {
           "line": {
            "color": "green",
            "width": 0.5
           },
           "mode": "lines",
           "name": "saccades",
           "showlegend": false,
           "x": [
            0.6257606490872212,
            0.7818204868154159
           ],
           "y": [
            0.4151458542894094,
            0.42621066245150163
           ],
           "type": "scatter"
          },
          {
           "line": {
            "color": "green",
            "width": 0.5
           },
           "mode": "lines",
           "name": "saccades",
           "showlegend": false,
           "x": [
            0.7818204868154159,
            0.3913539553752536
           ],
           "y": [
            0.42621066245150163,
            0.3292139675240695
           ],
           "type": "scatter"
          },
          {
           "line": {
            "color": "red",
            "width": 0.5
           },
           "mode": "lines",
           "name": "regressions",
           "showlegend": true,
           "x": [
            0.3913539553752536,
            0.353448275862069
           ],
           "y": [
            0.3292139675240695,
            0.32950136513866934
           ],
           "type": "scatter"
          },
          {
           "line": {
            "color": "green",
            "width": 0.5
           },
           "mode": "lines",
           "name": "saccades",
           "showlegend": false,
           "x": [
            0.353448275862069,
            0.5998985801217038
           ],
           "y": [
            0.32950136513866934,
            0.31958614743497626
           ],
           "type": "scatter"
          },
          {
           "line": {
            "color": "green",
            "width": 0.5
           },
           "mode": "lines",
           "name": "saccades",
           "showlegend": false,
           "x": [
            0.5998985801217038,
            0.6905425963488845
           ],
           "y": [
            0.31958614743497626,
            0.3267710877999712
           ],
           "type": "scatter"
          },
          {
           "line": {
            "color": "red",
            "width": 0.5
           },
           "mode": "lines",
           "name": "regressions",
           "showlegend": false,
           "x": [
            0.6905425963488845,
            0.5773326572008114
           ],
           "y": [
            0.3267710877999712,
            0.33136944963356796
           ],
           "type": "scatter"
          },
          {
           "line": {
            "color": "green",
            "width": 0.5
           },
           "mode": "lines",
           "name": "saccades",
           "showlegend": false,
           "x": [
            0.5773326572008114,
            0.7838488843813387
           ],
           "y": [
            0.33136944963356796,
            0.3306509555970685
           ],
           "type": "scatter"
          },
          {
           "line": {
            "color": "green",
            "width": 0.5
           },
           "mode": "lines",
           "name": "saccades",
           "showlegend": false,
           "x": [
            0.7838488843813387,
            0.4141734279918864
           ],
           "y": [
            0.3306509555970685,
            0.25894525075441865
           ],
           "type": "scatter"
          },
          {
           "line": {
            "color": "green",
            "width": 0.5
           },
           "mode": "lines",
           "name": "saccades",
           "showlegend": false,
           "x": [
            0.4141734279918864,
            0.3857758620689656
           ],
           "y": [
            0.25894525075441865,
            0.24802414139962647
           ],
           "type": "scatter"
          },
          {
           "line": {
            "color": "green",
            "width": 0.5
           },
           "mode": "lines",
           "name": "saccades",
           "showlegend": false,
           "x": [
            0.3857758620689656,
            0.575684584178499
           ],
           "y": [
            0.24802414139962647,
            0.23782152608133356
           ],
           "type": "scatter"
          },
          {
           "line": {
            "color": "green",
            "width": 0.5
           },
           "mode": "lines",
           "name": "saccades",
           "showlegend": false,
           "x": [
            0.575684584178499,
            0.7554513184584178
           ],
           "y": [
            0.23782152608133356,
            0.22848110360684004
           ],
           "type": "scatter"
          },
          {
           "line": {
            "color": "green",
            "width": 0.5
           },
           "mode": "lines",
           "name": "saccades",
           "showlegend": false,
           "x": [
            0.7554513184584178,
            0.4461206896551724
           ],
           "y": [
            0.22848110360684004,
            0.1607989653685874
           ],
           "type": "scatter"
          },
          {
           "line": {
            "color": "red",
            "width": 0.5
           },
           "mode": "lines",
           "name": "regressions",
           "showlegend": false,
           "x": [
            0.4461206896551724,
            0.3533215010141988
           ],
           "y": [
            0.1607989653685874,
            0.1682713033481823
           ],
           "type": "scatter"
          },
          {
           "line": {
            "color": "green",
            "width": 0.5
           },
           "mode": "lines",
           "name": "saccades",
           "showlegend": false,
           "x": [
            0.3533215010141988,
            0.4969574036511156
           ],
           "y": [
            0.1682713033481823,
            0.15964937491018827
           ],
           "type": "scatter"
          },
          {
           "marker": {
            "color": "green",
            "size": 6
           },
           "mode": "markers",
           "name": "aoi_1",
           "text": [
            "duration: 182",
            "duration: 269",
            "duration: 123",
            "duration: 248",
            "duration: 247",
            "duration: 195",
            "duration: 127",
            "duration: 195",
            "duration: 97",
            "duration: 197"
           ],
           "x": {
            "dtype": "f8",
            "bdata": "MiCKDvSS2T/LB5VFIvbgP3bxC20mzuE/kw8qi0Ts2T8EvWR2DIjaPyfO33XxC9k/We5phOWe1j8yOwZE0YHaP9UIyz2NsNg/aBj1yNGc1j8="
           },
           "y": {
            "dtype": "f8",
            "bdata": "wQ7BgOyN4j+MxdpLruLiP+0gT7fHJeM/kh4PqwqC3z9ojcSviprZPwi/+XXXEdU/FILQ5IwW1T++dtwZj5LQPygG90tBv88/rCxeAOqJxT8="
           },
           "type": "scatter"
          },
          {
           "marker": {
            "color": "yellow",
            "size": 6
           },
           "mode": "markers",
           "name": "aoi_2",
           "text": [
            "duration: 207",
            "duration: 81",
            "duration: 171",
            "duration: 159",
            "duration: 118",
            "duration: 113",
            "duration: 124"
           ],
           "x": {
            "dtype": "f8",
            "bdata": "u90JATb45j9SjxzNqX3oP/cZRj1yNOM/OrXPMOqR5z+SbUFKFVPsP17hxmWsBOk/4JBtQUoV6T8="
           },
           "y": {
            "dtype": "f8",
            "bdata": "+6CYJZ7b4j/7oJglntviPyAJeI98GuA/RBWiVsNe4D+lauNG1xzgP2ziGxYJR9s/QI4roGIp1T8="
           },
           "type": "scatter"
          },
          {
           "marker": {
            "color": "blue",
            "size": 6
           },
           "mode": "markers",
           "name": "aoi_0",
           "text": [
            "duration: 193",
            "duration: 219",
            "duration: 185",
            "duration: 83",
            "duration: 229",
            "duration: 244",
            "duration: 234",
            "duration: 139"
           ],
           "x": {
            "dtype": "f8",
            "bdata": "0oFeMjsG5D8GRNGBXjLjP0YHesnsGOY/ceMyVoJ54j/WdLsTAmziP7H3Tz6oLOg/3NMIyz2N3D928QttJs7fPw=="
           },
           "y": {
            "dtype": "f8",
            "bdata": "Oo3P6r+R2j8OOd90GXTUPyhF2EfR6dQ/3HVENSg11T8E7maO73DOPyRo32nePs0/XI6+fA+VxD8EdggGZG/EPw=="
           },
           "type": "scatter"
          },
          {
           "marker": {
            "color": "red"
           },
           "mode": "markers",
           "name": "tracker",
           "x": [
            0.7554513184584178
           ],
           "y": [
            0.22848110360684004
           ],
           "type": "scatter"
          }
         ],
         "name": "21"
        },
        {
         "data": [
          {
           "line": {
            "color": "green",
            "width": 0.5
           },
           "mode": "lines",
           "name": "saccades",
           "showlegend": true,
           "x": [
            0.3995943204868154,
            0.5300456389452334
           ],
           "y": [
            0.5798246874550942,
            0.5901710015806869
           ],
           "type": "scatter"
          },
          {
           "line": {
            "color": "green",
            "width": 0.5
           },
           "mode": "lines",
           "name": "saccades",
           "showlegend": false,
           "x": [
            0.5300456389452334,
            0.5564148073022313
           ],
           "y": [
            0.5901710015806869,
            0.5983618335967812
           ],
           "type": "scatter"
          },
          {
           "line": {
            "color": "green",
            "width": 0.5
           },
           "mode": "lines",
           "name": "saccades",
           "showlegend": false,
           "x": [
            0.5564148073022313,
            0.7177991886409737
           ],
           "y": [
            0.5983618335967812,
            0.5893088087368875
           ],
           "type": "scatter"
          },
          {
           "line": {
            "color": "green",
            "width": 0.5
           },
           "mode": "lines",
           "name": "saccades",
           "showlegend": false,
           "x": [
            0.7177991886409737,
            0.7653397565922921
           ],
           "y": [
            0.5893088087368875,
            0.5893088087368875
           ],
           "type": "scatter"
          },
          {
           "line": {
            "color": "green",
            "width": 0.5
           },
           "mode": "lines",
           "name": "saccades",
           "showlegend": false,
           "x": [
            0.7653397565922921,
            0.4050456389452332
           ],
           "y": [
            0.5893088087368875,
            0.4923121138094554
           ],
           "type": "scatter"
          },
          {
           "line": {
            "color": "green",
            "width": 0.5
           },
           "mode": "lines",
           "name": "saccades",
           "showlegend": false,
           "x": [
            0.4050456389452332,
            0.6001521298174443
           ],
           "y": [
            0.4923121138094554,
            0.5032332231642478
           ],
           "type": "scatter"
          },
          {
           "line": {
            "color": "green",
            "width": 0.5
           },
           "mode": "lines",
           "name": "saccades",
           "showlegend": false,
           "x": [
            0.6001521298174443,
            0.7365618661257607
           ],
           "y": [
            0.5032332231642478,
            0.511567753987642
           ],
           "type": "scatter"
          },
          {
           "line": {
            "color": "green",
            "width": 0.5
           },
           "mode": "lines",
           "name": "saccades",
           "showlegend": false,
           "x": [
            0.7365618661257607,
            0.8851419878296147
           ],
           "y": [
            0.511567753987642,
            0.5035206207788475
           ],
           "type": "scatter"
          },
          {
           "line": {
            "color": "green",
            "width": 0.5
           },
           "mode": "lines",
           "name": "saccades",
           "showlegend": false,
           "x": [
            0.8851419878296147,
            0.414553752535497
           ],
           "y": [
            0.5035206207788475,
            0.4000574795229199
           ],
           "type": "scatter"
          },
          {
           "line": {
            "color": "green",
            "width": 0.5
           },
           "mode": "lines",
           "name": "saccades",
           "showlegend": false,
           "x": [
            0.414553752535497,
            0.6257606490872212
           ],
           "y": [
            0.4000574795229199,
            0.4151458542894094
           ],
           "type": "scatter"
          },
          {
           "line": {
            "color": "green",
            "width": 0.5
           },
           "mode": "lines",
           "name": "saccades",
           "showlegend": false,
           "x": [
            0.6257606490872212,
            0.7818204868154159
           ],
           "y": [
            0.4151458542894094,
            0.42621066245150163
           ],
           "type": "scatter"
          },
          {
           "line": {
            "color": "green",
            "width": 0.5
           },
           "mode": "lines",
           "name": "saccades",
           "showlegend": false,
           "x": [
            0.7818204868154159,
            0.3913539553752536
           ],
           "y": [
            0.42621066245150163,
            0.3292139675240695
           ],
           "type": "scatter"
          },
          {
           "line": {
            "color": "red",
            "width": 0.5
           },
           "mode": "lines",
           "name": "regressions",
           "showlegend": true,
           "x": [
            0.3913539553752536,
            0.353448275862069
           ],
           "y": [
            0.3292139675240695,
            0.32950136513866934
           ],
           "type": "scatter"
          },
          {
           "line": {
            "color": "green",
            "width": 0.5
           },
           "mode": "lines",
           "name": "saccades",
           "showlegend": false,
           "x": [
            0.353448275862069,
            0.5998985801217038
           ],
           "y": [
            0.32950136513866934,
            0.31958614743497626
           ],
           "type": "scatter"
          },
          {
           "line": {
            "color": "green",
            "width": 0.5
           },
           "mode": "lines",
           "name": "saccades",
           "showlegend": false,
           "x": [
            0.5998985801217038,
            0.6905425963488845
           ],
           "y": [
            0.31958614743497626,
            0.3267710877999712
           ],
           "type": "scatter"
          },
          {
           "line": {
            "color": "red",
            "width": 0.5
           },
           "mode": "lines",
           "name": "regressions",
           "showlegend": false,
           "x": [
            0.6905425963488845,
            0.5773326572008114
           ],
           "y": [
            0.3267710877999712,
            0.33136944963356796
           ],
           "type": "scatter"
          },
          {
           "line": {
            "color": "green",
            "width": 0.5
           },
           "mode": "lines",
           "name": "saccades",
           "showlegend": false,
           "x": [
            0.5773326572008114,
            0.7838488843813387
           ],
           "y": [
            0.33136944963356796,
            0.3306509555970685
           ],
           "type": "scatter"
          },
          {
           "line": {
            "color": "green",
            "width": 0.5
           },
           "mode": "lines",
           "name": "saccades",
           "showlegend": false,
           "x": [
            0.7838488843813387,
            0.4141734279918864
           ],
           "y": [
            0.3306509555970685,
            0.25894525075441865
           ],
           "type": "scatter"
          },
          {
           "line": {
            "color": "green",
            "width": 0.5
           },
           "mode": "lines",
           "name": "saccades",
           "showlegend": false,
           "x": [
            0.4141734279918864,
            0.3857758620689656
           ],
           "y": [
            0.25894525075441865,
            0.24802414139962647
           ],
           "type": "scatter"
          },
          {
           "line": {
            "color": "green",
            "width": 0.5
           },
           "mode": "lines",
           "name": "saccades",
           "showlegend": false,
           "x": [
            0.3857758620689656,
            0.575684584178499
           ],
           "y": [
            0.24802414139962647,
            0.23782152608133356
           ],
           "type": "scatter"
          },
          {
           "line": {
            "color": "green",
            "width": 0.5
           },
           "mode": "lines",
           "name": "saccades",
           "showlegend": false,
           "x": [
            0.575684584178499,
            0.7554513184584178
           ],
           "y": [
            0.23782152608133356,
            0.22848110360684004
           ],
           "type": "scatter"
          },
          {
           "line": {
            "color": "green",
            "width": 0.5
           },
           "mode": "lines",
           "name": "saccades",
           "showlegend": false,
           "x": [
            0.7554513184584178,
            0.4461206896551724
           ],
           "y": [
            0.22848110360684004,
            0.1607989653685874
           ],
           "type": "scatter"
          },
          {
           "line": {
            "color": "red",
            "width": 0.5
           },
           "mode": "lines",
           "name": "regressions",
           "showlegend": false,
           "x": [
            0.4461206896551724,
            0.3533215010141988
           ],
           "y": [
            0.1607989653685874,
            0.1682713033481823
           ],
           "type": "scatter"
          },
          {
           "line": {
            "color": "green",
            "width": 0.5
           },
           "mode": "lines",
           "name": "saccades",
           "showlegend": false,
           "x": [
            0.3533215010141988,
            0.4969574036511156
           ],
           "y": [
            0.1682713033481823,
            0.15964937491018827
           ],
           "type": "scatter"
          },
          {
           "marker": {
            "color": "green",
            "size": 6
           },
           "mode": "markers",
           "name": "aoi_1",
           "text": [
            "duration: 182",
            "duration: 269",
            "duration: 123",
            "duration: 248",
            "duration: 247",
            "duration: 195",
            "duration: 127",
            "duration: 195",
            "duration: 97",
            "duration: 197"
           ],
           "x": {
            "dtype": "f8",
            "bdata": "MiCKDvSS2T/LB5VFIvbgP3bxC20mzuE/kw8qi0Ts2T8EvWR2DIjaPyfO33XxC9k/We5phOWe1j8yOwZE0YHaP9UIyz2NsNg/aBj1yNGc1j8="
           },
           "y": {
            "dtype": "f8",
            "bdata": "wQ7BgOyN4j+MxdpLruLiP+0gT7fHJeM/kh4PqwqC3z9ojcSviprZPwi/+XXXEdU/FILQ5IwW1T++dtwZj5LQPygG90tBv88/rCxeAOqJxT8="
           },
           "type": "scatter"
          },
          {
           "marker": {
            "color": "yellow",
            "size": 6
           },
           "mode": "markers",
           "name": "aoi_2",
           "text": [
            "duration: 207",
            "duration: 81",
            "duration: 171",
            "duration: 159",
            "duration: 118",
            "duration: 113",
            "duration: 124"
           ],
           "x": {
            "dtype": "f8",
            "bdata": "u90JATb45j9SjxzNqX3oP/cZRj1yNOM/OrXPMOqR5z+SbUFKFVPsP17hxmWsBOk/4JBtQUoV6T8="
           },
           "y": {
            "dtype": "f8",
            "bdata": "+6CYJZ7b4j/7oJglntviPyAJeI98GuA/RBWiVsNe4D+lauNG1xzgP2ziGxYJR9s/QI4roGIp1T8="
           },
           "type": "scatter"
          },
          {
           "marker": {
            "color": "blue",
            "size": 6
           },
           "mode": "markers",
           "name": "aoi_0",
           "text": [
            "duration: 193",
            "duration: 219",
            "duration: 185",
            "duration: 83",
            "duration: 229",
            "duration: 244",
            "duration: 234",
            "duration: 139"
           ],
           "x": {
            "dtype": "f8",
            "bdata": "0oFeMjsG5D8GRNGBXjLjP0YHesnsGOY/ceMyVoJ54j/WdLsTAmziP7H3Tz6oLOg/3NMIyz2N3D928QttJs7fPw=="
           },
           "y": {
            "dtype": "f8",
            "bdata": "Oo3P6r+R2j8OOd90GXTUPyhF2EfR6dQ/3HVENSg11T8E7maO73DOPyRo32nePs0/XI6+fA+VxD8EdggGZG/EPw=="
           },
           "type": "scatter"
          },
          {
           "marker": {
            "color": "red"
           },
           "mode": "markers",
           "name": "tracker",
           "x": [
            0.4461206896551724
           ],
           "y": [
            0.1607989653685874
           ],
           "type": "scatter"
          }
         ],
         "name": "22"
        },
        {
         "data": [
          {
           "line": {
            "color": "green",
            "width": 0.5
           },
           "mode": "lines",
           "name": "saccades",
           "showlegend": true,
           "x": [
            0.3995943204868154,
            0.5300456389452334
           ],
           "y": [
            0.5798246874550942,
            0.5901710015806869
           ],
           "type": "scatter"
          },
          {
           "line": {
            "color": "green",
            "width": 0.5
           },
           "mode": "lines",
           "name": "saccades",
           "showlegend": false,
           "x": [
            0.5300456389452334,
            0.5564148073022313
           ],
           "y": [
            0.5901710015806869,
            0.5983618335967812
           ],
           "type": "scatter"
          },
          {
           "line": {
            "color": "green",
            "width": 0.5
           },
           "mode": "lines",
           "name": "saccades",
           "showlegend": false,
           "x": [
            0.5564148073022313,
            0.7177991886409737
           ],
           "y": [
            0.5983618335967812,
            0.5893088087368875
           ],
           "type": "scatter"
          },
          {
           "line": {
            "color": "green",
            "width": 0.5
           },
           "mode": "lines",
           "name": "saccades",
           "showlegend": false,
           "x": [
            0.7177991886409737,
            0.7653397565922921
           ],
           "y": [
            0.5893088087368875,
            0.5893088087368875
           ],
           "type": "scatter"
          },
          {
           "line": {
            "color": "green",
            "width": 0.5
           },
           "mode": "lines",
           "name": "saccades",
           "showlegend": false,
           "x": [
            0.7653397565922921,
            0.4050456389452332
           ],
           "y": [
            0.5893088087368875,
            0.4923121138094554
           ],
           "type": "scatter"
          },
          {
           "line": {
            "color": "green",
            "width": 0.5
           },
           "mode": "lines",
           "name": "saccades",
           "showlegend": false,
           "x": [
            0.4050456389452332,
            0.6001521298174443
           ],
           "y": [
            0.4923121138094554,
            0.5032332231642478
           ],
           "type": "scatter"
          },
          {
           "line": {
            "color": "green",
            "width": 0.5
           },
           "mode": "lines",
           "name": "saccades",
           "showlegend": false,
           "x": [
            0.6001521298174443,
            0.7365618661257607
           ],
           "y": [
            0.5032332231642478,
            0.511567753987642
           ],
           "type": "scatter"
          },
          {
           "line": {
            "color": "green",
            "width": 0.5
           },
           "mode": "lines",
           "name": "saccades",
           "showlegend": false,
           "x": [
            0.7365618661257607,
            0.8851419878296147
           ],
           "y": [
            0.511567753987642,
            0.5035206207788475
           ],
           "type": "scatter"
          },
          {
           "line": {
            "color": "green",
            "width": 0.5
           },
           "mode": "lines",
           "name": "saccades",
           "showlegend": false,
           "x": [
            0.8851419878296147,
            0.414553752535497
           ],
           "y": [
            0.5035206207788475,
            0.4000574795229199
           ],
           "type": "scatter"
          },
          {
           "line": {
            "color": "green",
            "width": 0.5
           },
           "mode": "lines",
           "name": "saccades",
           "showlegend": false,
           "x": [
            0.414553752535497,
            0.6257606490872212
           ],
           "y": [
            0.4000574795229199,
            0.4151458542894094
           ],
           "type": "scatter"
          },
          {
           "line": {
            "color": "green",
            "width": 0.5
           },
           "mode": "lines",
           "name": "saccades",
           "showlegend": false,
           "x": [
            0.6257606490872212,
            0.7818204868154159
           ],
           "y": [
            0.4151458542894094,
            0.42621066245150163
           ],
           "type": "scatter"
          },
          {
           "line": {
            "color": "green",
            "width": 0.5
           },
           "mode": "lines",
           "name": "saccades",
           "showlegend": false,
           "x": [
            0.7818204868154159,
            0.3913539553752536
           ],
           "y": [
            0.42621066245150163,
            0.3292139675240695
           ],
           "type": "scatter"
          },
          {
           "line": {
            "color": "red",
            "width": 0.5
           },
           "mode": "lines",
           "name": "regressions",
           "showlegend": true,
           "x": [
            0.3913539553752536,
            0.353448275862069
           ],
           "y": [
            0.3292139675240695,
            0.32950136513866934
           ],
           "type": "scatter"
          },
          {
           "line": {
            "color": "green",
            "width": 0.5
           },
           "mode": "lines",
           "name": "saccades",
           "showlegend": false,
           "x": [
            0.353448275862069,
            0.5998985801217038
           ],
           "y": [
            0.32950136513866934,
            0.31958614743497626
           ],
           "type": "scatter"
          },
          {
           "line": {
            "color": "green",
            "width": 0.5
           },
           "mode": "lines",
           "name": "saccades",
           "showlegend": false,
           "x": [
            0.5998985801217038,
            0.6905425963488845
           ],
           "y": [
            0.31958614743497626,
            0.3267710877999712
           ],
           "type": "scatter"
          },
          {
           "line": {
            "color": "red",
            "width": 0.5
           },
           "mode": "lines",
           "name": "regressions",
           "showlegend": false,
           "x": [
            0.6905425963488845,
            0.5773326572008114
           ],
           "y": [
            0.3267710877999712,
            0.33136944963356796
           ],
           "type": "scatter"
          },
          {
           "line": {
            "color": "green",
            "width": 0.5
           },
           "mode": "lines",
           "name": "saccades",
           "showlegend": false,
           "x": [
            0.5773326572008114,
            0.7838488843813387
           ],
           "y": [
            0.33136944963356796,
            0.3306509555970685
           ],
           "type": "scatter"
          },
          {
           "line": {
            "color": "green",
            "width": 0.5
           },
           "mode": "lines",
           "name": "saccades",
           "showlegend": false,
           "x": [
            0.7838488843813387,
            0.4141734279918864
           ],
           "y": [
            0.3306509555970685,
            0.25894525075441865
           ],
           "type": "scatter"
          },
          {
           "line": {
            "color": "green",
            "width": 0.5
           },
           "mode": "lines",
           "name": "saccades",
           "showlegend": false,
           "x": [
            0.4141734279918864,
            0.3857758620689656
           ],
           "y": [
            0.25894525075441865,
            0.24802414139962647
           ],
           "type": "scatter"
          },
          {
           "line": {
            "color": "green",
            "width": 0.5
           },
           "mode": "lines",
           "name": "saccades",
           "showlegend": false,
           "x": [
            0.3857758620689656,
            0.575684584178499
           ],
           "y": [
            0.24802414139962647,
            0.23782152608133356
           ],
           "type": "scatter"
          },
          {
           "line": {
            "color": "green",
            "width": 0.5
           },
           "mode": "lines",
           "name": "saccades",
           "showlegend": false,
           "x": [
            0.575684584178499,
            0.7554513184584178
           ],
           "y": [
            0.23782152608133356,
            0.22848110360684004
           ],
           "type": "scatter"
          },
          {
           "line": {
            "color": "green",
            "width": 0.5
           },
           "mode": "lines",
           "name": "saccades",
           "showlegend": false,
           "x": [
            0.7554513184584178,
            0.4461206896551724
           ],
           "y": [
            0.22848110360684004,
            0.1607989653685874
           ],
           "type": "scatter"
          },
          {
           "line": {
            "color": "red",
            "width": 0.5
           },
           "mode": "lines",
           "name": "regressions",
           "showlegend": false,
           "x": [
            0.4461206896551724,
            0.3533215010141988
           ],
           "y": [
            0.1607989653685874,
            0.1682713033481823
           ],
           "type": "scatter"
          },
          {
           "line": {
            "color": "green",
            "width": 0.5
           },
           "mode": "lines",
           "name": "saccades",
           "showlegend": false,
           "x": [
            0.3533215010141988,
            0.4969574036511156
           ],
           "y": [
            0.1682713033481823,
            0.15964937491018827
           ],
           "type": "scatter"
          },
          {
           "marker": {
            "color": "green",
            "size": 6
           },
           "mode": "markers",
           "name": "aoi_1",
           "text": [
            "duration: 182",
            "duration: 269",
            "duration: 123",
            "duration: 248",
            "duration: 247",
            "duration: 195",
            "duration: 127",
            "duration: 195",
            "duration: 97",
            "duration: 197"
           ],
           "x": {
            "dtype": "f8",
            "bdata": "MiCKDvSS2T/LB5VFIvbgP3bxC20mzuE/kw8qi0Ts2T8EvWR2DIjaPyfO33XxC9k/We5phOWe1j8yOwZE0YHaP9UIyz2NsNg/aBj1yNGc1j8="
           },
           "y": {
            "dtype": "f8",
            "bdata": "wQ7BgOyN4j+MxdpLruLiP+0gT7fHJeM/kh4PqwqC3z9ojcSviprZPwi/+XXXEdU/FILQ5IwW1T++dtwZj5LQPygG90tBv88/rCxeAOqJxT8="
           },
           "type": "scatter"
          },
          {
           "marker": {
            "color": "yellow",
            "size": 6
           },
           "mode": "markers",
           "name": "aoi_2",
           "text": [
            "duration: 207",
            "duration: 81",
            "duration: 171",
            "duration: 159",
            "duration: 118",
            "duration: 113",
            "duration: 124"
           ],
           "x": {
            "dtype": "f8",
            "bdata": "u90JATb45j9SjxzNqX3oP/cZRj1yNOM/OrXPMOqR5z+SbUFKFVPsP17hxmWsBOk/4JBtQUoV6T8="
           },
           "y": {
            "dtype": "f8",
            "bdata": "+6CYJZ7b4j/7oJglntviPyAJeI98GuA/RBWiVsNe4D+lauNG1xzgP2ziGxYJR9s/QI4roGIp1T8="
           },
           "type": "scatter"
          },
          {
           "marker": {
            "color": "blue",
            "size": 6
           },
           "mode": "markers",
           "name": "aoi_0",
           "text": [
            "duration: 193",
            "duration: 219",
            "duration: 185",
            "duration: 83",
            "duration: 229",
            "duration: 244",
            "duration: 234",
            "duration: 139"
           ],
           "x": {
            "dtype": "f8",
            "bdata": "0oFeMjsG5D8GRNGBXjLjP0YHesnsGOY/ceMyVoJ54j/WdLsTAmziP7H3Tz6oLOg/3NMIyz2N3D928QttJs7fPw=="
           },
           "y": {
            "dtype": "f8",
            "bdata": "Oo3P6r+R2j8OOd90GXTUPyhF2EfR6dQ/3HVENSg11T8E7maO73DOPyRo32nePs0/XI6+fA+VxD8EdggGZG/EPw=="
           },
           "type": "scatter"
          },
          {
           "marker": {
            "color": "red"
           },
           "mode": "markers",
           "name": "tracker",
           "x": [
            0.3533215010141988
           ],
           "y": [
            0.1682713033481823
           ],
           "type": "scatter"
          }
         ],
         "name": "23"
        },
        {
         "data": [
          {
           "line": {
            "color": "green",
            "width": 0.5
           },
           "mode": "lines",
           "name": "saccades",
           "showlegend": true,
           "x": [
            0.3995943204868154,
            0.5300456389452334
           ],
           "y": [
            0.5798246874550942,
            0.5901710015806869
           ],
           "type": "scatter"
          },
          {
           "line": {
            "color": "green",
            "width": 0.5
           },
           "mode": "lines",
           "name": "saccades",
           "showlegend": false,
           "x": [
            0.5300456389452334,
            0.5564148073022313
           ],
           "y": [
            0.5901710015806869,
            0.5983618335967812
           ],
           "type": "scatter"
          },
          {
           "line": {
            "color": "green",
            "width": 0.5
           },
           "mode": "lines",
           "name": "saccades",
           "showlegend": false,
           "x": [
            0.5564148073022313,
            0.7177991886409737
           ],
           "y": [
            0.5983618335967812,
            0.5893088087368875
           ],
           "type": "scatter"
          },
          {
           "line": {
            "color": "green",
            "width": 0.5
           },
           "mode": "lines",
           "name": "saccades",
           "showlegend": false,
           "x": [
            0.7177991886409737,
            0.7653397565922921
           ],
           "y": [
            0.5893088087368875,
            0.5893088087368875
           ],
           "type": "scatter"
          },
          {
           "line": {
            "color": "green",
            "width": 0.5
           },
           "mode": "lines",
           "name": "saccades",
           "showlegend": false,
           "x": [
            0.7653397565922921,
            0.4050456389452332
           ],
           "y": [
            0.5893088087368875,
            0.4923121138094554
           ],
           "type": "scatter"
          },
          {
           "line": {
            "color": "green",
            "width": 0.5
           },
           "mode": "lines",
           "name": "saccades",
           "showlegend": false,
           "x": [
            0.4050456389452332,
            0.6001521298174443
           ],
           "y": [
            0.4923121138094554,
            0.5032332231642478
           ],
           "type": "scatter"
          },
          {
           "line": {
            "color": "green",
            "width": 0.5
           },
           "mode": "lines",
           "name": "saccades",
           "showlegend": false,
           "x": [
            0.6001521298174443,
            0.7365618661257607
           ],
           "y": [
            0.5032332231642478,
            0.511567753987642
           ],
           "type": "scatter"
          },
          {
           "line": {
            "color": "green",
            "width": 0.5
           },
           "mode": "lines",
           "name": "saccades",
           "showlegend": false,
           "x": [
            0.7365618661257607,
            0.8851419878296147
           ],
           "y": [
            0.511567753987642,
            0.5035206207788475
           ],
           "type": "scatter"
          },
          {
           "line": {
            "color": "green",
            "width": 0.5
           },
           "mode": "lines",
           "name": "saccades",
           "showlegend": false,
           "x": [
            0.8851419878296147,
            0.414553752535497
           ],
           "y": [
            0.5035206207788475,
            0.4000574795229199
           ],
           "type": "scatter"
          },
          {
           "line": {
            "color": "green",
            "width": 0.5
           },
           "mode": "lines",
           "name": "saccades",
           "showlegend": false,
           "x": [
            0.414553752535497,
            0.6257606490872212
           ],
           "y": [
            0.4000574795229199,
            0.4151458542894094
           ],
           "type": "scatter"
          },
          {
           "line": {
            "color": "green",
            "width": 0.5
           },
           "mode": "lines",
           "name": "saccades",
           "showlegend": false,
           "x": [
            0.6257606490872212,
            0.7818204868154159
           ],
           "y": [
            0.4151458542894094,
            0.42621066245150163
           ],
           "type": "scatter"
          },
          {
           "line": {
            "color": "green",
            "width": 0.5
           },
           "mode": "lines",
           "name": "saccades",
           "showlegend": false,
           "x": [
            0.7818204868154159,
            0.3913539553752536
           ],
           "y": [
            0.42621066245150163,
            0.3292139675240695
           ],
           "type": "scatter"
          },
          {
           "line": {
            "color": "red",
            "width": 0.5
           },
           "mode": "lines",
           "name": "regressions",
           "showlegend": true,
           "x": [
            0.3913539553752536,
            0.353448275862069
           ],
           "y": [
            0.3292139675240695,
            0.32950136513866934
           ],
           "type": "scatter"
          },
          {
           "line": {
            "color": "green",
            "width": 0.5
           },
           "mode": "lines",
           "name": "saccades",
           "showlegend": false,
           "x": [
            0.353448275862069,
            0.5998985801217038
           ],
           "y": [
            0.32950136513866934,
            0.31958614743497626
           ],
           "type": "scatter"
          },
          {
           "line": {
            "color": "green",
            "width": 0.5
           },
           "mode": "lines",
           "name": "saccades",
           "showlegend": false,
           "x": [
            0.5998985801217038,
            0.6905425963488845
           ],
           "y": [
            0.31958614743497626,
            0.3267710877999712
           ],
           "type": "scatter"
          },
          {
           "line": {
            "color": "red",
            "width": 0.5
           },
           "mode": "lines",
           "name": "regressions",
           "showlegend": false,
           "x": [
            0.6905425963488845,
            0.5773326572008114
           ],
           "y": [
            0.3267710877999712,
            0.33136944963356796
           ],
           "type": "scatter"
          },
          {
           "line": {
            "color": "green",
            "width": 0.5
           },
           "mode": "lines",
           "name": "saccades",
           "showlegend": false,
           "x": [
            0.5773326572008114,
            0.7838488843813387
           ],
           "y": [
            0.33136944963356796,
            0.3306509555970685
           ],
           "type": "scatter"
          },
          {
           "line": {
            "color": "green",
            "width": 0.5
           },
           "mode": "lines",
           "name": "saccades",
           "showlegend": false,
           "x": [
            0.7838488843813387,
            0.4141734279918864
           ],
           "y": [
            0.3306509555970685,
            0.25894525075441865
           ],
           "type": "scatter"
          },
          {
           "line": {
            "color": "green",
            "width": 0.5
           },
           "mode": "lines",
           "name": "saccades",
           "showlegend": false,
           "x": [
            0.4141734279918864,
            0.3857758620689656
           ],
           "y": [
            0.25894525075441865,
            0.24802414139962647
           ],
           "type": "scatter"
          },
          {
           "line": {
            "color": "green",
            "width": 0.5
           },
           "mode": "lines",
           "name": "saccades",
           "showlegend": false,
           "x": [
            0.3857758620689656,
            0.575684584178499
           ],
           "y": [
            0.24802414139962647,
            0.23782152608133356
           ],
           "type": "scatter"
          },
          {
           "line": {
            "color": "green",
            "width": 0.5
           },
           "mode": "lines",
           "name": "saccades",
           "showlegend": false,
           "x": [
            0.575684584178499,
            0.7554513184584178
           ],
           "y": [
            0.23782152608133356,
            0.22848110360684004
           ],
           "type": "scatter"
          },
          {
           "line": {
            "color": "green",
            "width": 0.5
           },
           "mode": "lines",
           "name": "saccades",
           "showlegend": false,
           "x": [
            0.7554513184584178,
            0.4461206896551724
           ],
           "y": [
            0.22848110360684004,
            0.1607989653685874
           ],
           "type": "scatter"
          },
          {
           "line": {
            "color": "red",
            "width": 0.5
           },
           "mode": "lines",
           "name": "regressions",
           "showlegend": false,
           "x": [
            0.4461206896551724,
            0.3533215010141988
           ],
           "y": [
            0.1607989653685874,
            0.1682713033481823
           ],
           "type": "scatter"
          },
          {
           "line": {
            "color": "green",
            "width": 0.5
           },
           "mode": "lines",
           "name": "saccades",
           "showlegend": false,
           "x": [
            0.3533215010141988,
            0.4969574036511156
           ],
           "y": [
            0.1682713033481823,
            0.15964937491018827
           ],
           "type": "scatter"
          },
          {
           "marker": {
            "color": "green",
            "size": 6
           },
           "mode": "markers",
           "name": "aoi_1",
           "text": [
            "duration: 182",
            "duration: 269",
            "duration: 123",
            "duration: 248",
            "duration: 247",
            "duration: 195",
            "duration: 127",
            "duration: 195",
            "duration: 97",
            "duration: 197"
           ],
           "x": {
            "dtype": "f8",
            "bdata": "MiCKDvSS2T/LB5VFIvbgP3bxC20mzuE/kw8qi0Ts2T8EvWR2DIjaPyfO33XxC9k/We5phOWe1j8yOwZE0YHaP9UIyz2NsNg/aBj1yNGc1j8="
           },
           "y": {
            "dtype": "f8",
            "bdata": "wQ7BgOyN4j+MxdpLruLiP+0gT7fHJeM/kh4PqwqC3z9ojcSviprZPwi/+XXXEdU/FILQ5IwW1T++dtwZj5LQPygG90tBv88/rCxeAOqJxT8="
           },
           "type": "scatter"
          },
          {
           "marker": {
            "color": "yellow",
            "size": 6
           },
           "mode": "markers",
           "name": "aoi_2",
           "text": [
            "duration: 207",
            "duration: 81",
            "duration: 171",
            "duration: 159",
            "duration: 118",
            "duration: 113",
            "duration: 124"
           ],
           "x": {
            "dtype": "f8",
            "bdata": "u90JATb45j9SjxzNqX3oP/cZRj1yNOM/OrXPMOqR5z+SbUFKFVPsP17hxmWsBOk/4JBtQUoV6T8="
           },
           "y": {
            "dtype": "f8",
            "bdata": "+6CYJZ7b4j/7oJglntviPyAJeI98GuA/RBWiVsNe4D+lauNG1xzgP2ziGxYJR9s/QI4roGIp1T8="
           },
           "type": "scatter"
          },
          {
           "marker": {
            "color": "blue",
            "size": 6
           },
           "mode": "markers",
           "name": "aoi_0",
           "text": [
            "duration: 193",
            "duration: 219",
            "duration: 185",
            "duration: 83",
            "duration: 229",
            "duration: 244",
            "duration: 234",
            "duration: 139"
           ],
           "x": {
            "dtype": "f8",
            "bdata": "0oFeMjsG5D8GRNGBXjLjP0YHesnsGOY/ceMyVoJ54j/WdLsTAmziP7H3Tz6oLOg/3NMIyz2N3D928QttJs7fPw=="
           },
           "y": {
            "dtype": "f8",
            "bdata": "Oo3P6r+R2j8OOd90GXTUPyhF2EfR6dQ/3HVENSg11T8E7maO73DOPyRo32nePs0/XI6+fA+VxD8EdggGZG/EPw=="
           },
           "type": "scatter"
          },
          {
           "marker": {
            "color": "red"
           },
           "mode": "markers",
           "name": "tracker",
           "x": [
            0.4969574036511156
           ],
           "y": [
            0.15964937491018827
           ],
           "type": "scatter"
          }
         ],
         "name": "24"
        }
       ],
       "config": {
        "plotlyServerURL": "https://plot.ly"
       }
      }
     },
     "metadata": {},
     "output_type": "display_data"
    }
   ],
   "execution_count": 10
  },
  {
   "metadata": {},
   "cell_type": "markdown",
   "source": [
    "## Links\n",
    "* [[1]](#links) SEAN ANTHONY BYRNE, MoMiLab, VIRMARIE MAQUILING, ADAM PETER FREDERICK REYNOLDS, LUCA POLONIO, NORA CASTNER, ENKELEJDA KASNECI. Exploring the Effects of Scanpath Feature Engineering for Supervised Image Classification Models. 2023. https://doi.org/10.1145/3591130"
   ],
   "id": "991223374467903b"
  }
 ],
 "metadata": {
  "kernelspec": {
   "display_name": "Python 3 (ipykernel)",
   "language": "python",
   "name": "python3"
  },
  "language_info": {
   "codemirror_mode": {
    "name": "ipython",
    "version": 3
   },
   "file_extension": ".py",
   "mimetype": "text/x-python",
   "name": "python",
   "nbconvert_exporter": "python",
   "pygments_lexer": "ipython3",
   "version": "3.10.15"
  }
 },
 "nbformat": 4,
 "nbformat_minor": 5
}
