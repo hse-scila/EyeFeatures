{
 "cells": [
  {
   "cell_type": "markdown",
   "metadata": {},
   "source": [
    "# Deep learning with EyeFeatures"
   ]
  },
  {
   "cell_type": "markdown",
   "metadata": {},
   "source": [
    "While building custom models for complex tasks still requires a lot of effort, it would be a waste of time to reinvent the wheel and write a couple of hundreds raws of code to create convenient datasets and dataloaders, make sure that they couple with models and trainers and etc., then launch training CNNs, RNNs, etc. \n",
    "Training deep learning models typically requires more effort than using traditional machine learning algorithms and libraries like scikit-learn. However, deep learning models often deliver superior results. The EyeFeatures library simplifies this process for eye-tracking data by providing pre-built Datasets and models, implemented with torch and lightning. These are available in the `eyefeatures.deep.models` and `eyefeatures.deep.datasets` modules.\n",
    "\n",
    "While building custom models for complex tasks still takes considerable effort, EyeFeatures saves time by eliminating the need to write extensive code for datasets, data loaders, and model-trainer integration, making it easier to train CNNs, RNNs, and other models.\n",
    "\n",
    "\n"
   ]
  },
  {
   "cell_type": "markdown",
   "metadata": {},
   "source": [
    "# Datasets"
   ]
  },
  {
   "cell_type": "markdown",
   "metadata": {},
   "source": [
    "To begin training deep learning models, we first need to choose the data representation to provide to the model later. For scanpath data, there are two main options: images or sequences (specifically, multi-dimensional time series). Images offer greater diversity but may lose some time-related information, while sequences retain the temporal structure of the data but are less variable in form.\n",
    "\n",
    "When writing `Dataset` we do not mean some specific data but torch lightning `DataModule` class that inherits from `LightningDataModule` and contains `torch.utils.data.Dataset` classes, which implement `__len__` and `__getitem__` methods: more information can be found at: https://lightning.ai/docs/pytorch/stable/data/datamodule.html and https://pytorch.org/tutorials/beginner/basics/data_tutorial.html. \n",
    "\n",
    "We begin by loading fixations data (You can find more about data format required by our library at `Preprocessing tutorial` and about dataset used in this tutorial at: https://zenodo.org/records/4655840) and creating specific Dataset which will convert our data to specific representation. \n",
    "This class will be responsible for preprocessing of the data, as well as providing it to the model in the desired format suitable for training.\n",
    "\n",
    "Let's choose dataset which creates 2d representations (more about complex data representations can be found in `Complex representations tutorial`), namely creates heatmap and RGB scanpath graph array for every scanpath stacking these representations along the 2nd (channel) dimension."
   ]
  },
  {
   "cell_type": "code",
   "execution_count": 1,
   "metadata": {},
   "outputs": [],
   "source": [
    "from eyefeatures.data.data import Paris_experiment\n",
    "from eyefeatures.deep.datasets import DatasetLightning2D\n",
    "import pandas as pd\n",
    "\n",
    "X, Y, _ = Paris_experiment()\n",
    "Y = Y.drop(columns='TEXT_TYPE_2') #data contains 2 possible target variables, one of which we drop. \n",
    "                                  #Support for multitasking is in development\n",
    "\n",
    "Y['TEXT_TYPE'] = Y['TEXT_TYPE'].map({'f':0, 'a':1, 'm':2}).astype(int) #encoding str target to int\n",
    "\n",
    "Y = Y.sample(200) \n",
    "X = pd.merge(X, Y, on=['SUBJ_NAME', 'TEXT']) #We remove all except first 200 scanpaths for speed\n",
    "\n",
    "dataset2d = DatasetLightning2D(\n",
    "                      X=X, \n",
    "                      Y=Y, \n",
    "                      x='norm_pos_x', \n",
    "                      y='norm_pos_y', \n",
    "                      pk=['SUBJ_NAME', 'TEXT'], #Primary keys which together determinate unique sample in common dataframe\n",
    "                      shape=(16, 16), #Required shape. Can be anything, but remember that bigger images require more computational resources\n",
    "                      representations=['heatmap', 'baseline_visualization'],\n",
    "                      test_size = 0.5, \n",
    "                      batch_size= 8,\n",
    "                      split_type = 'simple' #Do not consider distribution of pk when spliting\n",
    "                      )"
   ]
  },
  {
   "cell_type": "markdown",
   "metadata": {},
   "source": [
    "# Creating model\n",
    "\n",
    "Now we need to define CNN model which will process this 4 channel \"images\". We do not define separate model class for CNN in our library but we provide implemetation of some basic layers like VGG, ResNet etc and utility `make_simple_CNN`. This function takes dictionary with parameters for each layer and creates sequential Convolutional neural network model. "
   ]
  },
  {
   "cell_type": "code",
   "execution_count": 2,
   "metadata": {},
   "outputs": [
    {
     "name": "stderr",
     "output_type": "stream",
     "text": [
      "100%|██████████| 4/4 [00:00<?, ?it/s]"
     ]
    },
    {
     "name": "stdout",
     "output_type": "stream",
     "text": [
      "Output shape of our CNN will be (16, 16)\n"
     ]
    },
    {
     "name": "stderr",
     "output_type": "stream",
     "text": [
      "\n"
     ]
    }
   ],
   "source": [
    "from eyefeatures.deep.models import create_simple_CNN\n",
    "\n",
    "CNN_model, output_shape = create_simple_CNN({\n",
    "                    1:{'type':'VGG_block', \n",
    "                      'params':{'out_channels':10}},\n",
    "                    2:{'type':'VGG_block', \n",
    "                      'params':{'out_channels':10}},\n",
    "                    3:{'type':'Resnet_block', \n",
    "                      'params':{'out_channels':10}},\n",
    "                    4:{'type':'Resnet_block', \n",
    "                      'params':{'out_channels':10}}\n",
    "                      }, in_channels=4, shape=(16,16))\n",
    "\n",
    "print(f\"Output shape of our CNN will be {output_shape}\")"
   ]
  },
  {
   "cell_type": "markdown",
   "metadata": {},
   "source": [
    "Now we need to wrap this model into classifier"
   ]
  },
  {
   "cell_type": "code",
   "execution_count": 3,
   "metadata": {},
   "outputs": [
    {
     "name": "stderr",
     "output_type": "stream",
     "text": [
      "c:\\Users\\toxas\\anaconda3\\Lib\\site-packages\\torch\\nn\\modules\\lazy.py:181: UserWarning: Lazy modules are a new feature under heavy development so changes to the API or functionality can happen at any moment.\n",
      "  warnings.warn('Lazy modules are a new feature under heavy development '\n"
     ]
    }
   ],
   "source": [
    "from eyefeatures.deep.models import Classifier\n",
    "\n",
    "CNN_classifier = Classifier(CNN_model, \n",
    "                   n_classes=len(Y['TEXT_TYPE'].unique()), \n",
    "                   classifier_hidden_layers=(25,) #add hidden layer with 25 neurons to classifier head\n",
    "                   )"
   ]
  },
  {
   "cell_type": "markdown",
   "metadata": {},
   "source": [
    "# Training\n",
    "The only thing left is to create trainer and fit model which is just couple lines of code! We, also, will use the simplest logger provided by torch lightning - CSVLogger"
   ]
  },
  {
   "cell_type": "code",
   "execution_count": 4,
   "metadata": {},
   "outputs": [
    {
     "name": "stderr",
     "output_type": "stream",
     "text": [
      "GPU available: False, used: False\n",
      "TPU available: False, using: 0 TPU cores\n",
      "HPU available: False, using: 0 HPUs\n",
      "100it [00:00, 958.13it/s]\n",
      "100%|██████████| 100/100 [00:04<00:00, 24.03it/s]\n"
     ]
    },
    {
     "name": "stdout",
     "output_type": "stream",
     "text": [
      "Number of channels = 4.\n"
     ]
    },
    {
     "name": "stderr",
     "output_type": "stream",
     "text": [
      "100it [00:00, 997.72it/s]\n",
      "100%|██████████| 100/100 [00:03<00:00, 26.35it/s]\n",
      "c:\\Users\\toxas\\anaconda3\\Lib\\site-packages\\pytorch_lightning\\utilities\\model_summary\\model_summary.py:461: The total number of parameters detected may be inaccurate because the model contains an instance of `UninitializedParameter`. To get an accurate number, set `self.example_input_array` in your LightningModule.\n",
      "\n",
      "   | Name            | Type                | Params | Mode \n",
      "-----------------------------------------------------------------\n",
      "0  | backbone        | Sequential          | 5.0 K  | train\n",
      "1  | head            | ModuleList          | 0      | train\n",
      "2  | loss_fn         | CrossEntropyLoss    | 0      | train\n",
      "3  | flat            | Flatten             | 0      | train\n",
      "4  | accuracy        | MulticlassAccuracy  | 0      | train\n",
      "5  | precision       | MulticlassPrecision | 0      | train\n",
      "6  | recall          | MulticlassRecall    | 0      | train\n",
      "7  | f1              | MulticlassF1Score   | 0      | train\n",
      "8  | macro_precision | MulticlassPrecision | 0      | train\n",
      "9  | macro_recall    | MulticlassRecall    | 0      | train\n",
      "10 | macro_f1        | MulticlassF1Score   | 0      | train\n",
      "11 | prob            | Softmax             | 0      | train\n",
      "-----------------------------------------------------------------\n",
      "5.0 K     Trainable params\n",
      "0         Non-trainable params\n",
      "5.0 K     Total params\n",
      "0.020     Total estimated model params size (MB)\n"
     ]
    },
    {
     "name": "stdout",
     "output_type": "stream",
     "text": [
      "Number of channels = 4.\n"
     ]
    },
    {
     "data": {
      "application/vnd.jupyter.widget-view+json": {
       "model_id": "8ac997b4756b4f3688e86cef50c2024b",
       "version_major": 2,
       "version_minor": 0
      },
      "text/plain": [
       "Sanity Checking: |          | 0/? [00:00<?, ?it/s]"
      ]
     },
     "metadata": {},
     "output_type": "display_data"
    },
    {
     "name": "stderr",
     "output_type": "stream",
     "text": [
      "c:\\Users\\toxas\\anaconda3\\Lib\\site-packages\\pytorch_lightning\\trainer\\connectors\\data_connector.py:424: The 'val_dataloader' does not have many workers which may be a bottleneck. Consider increasing the value of the `num_workers` argument` to `num_workers=7` in the `DataLoader` to improve performance.\n",
      "c:\\Users\\toxas\\anaconda3\\Lib\\site-packages\\pytorch_lightning\\trainer\\connectors\\data_connector.py:424: The 'train_dataloader' does not have many workers which may be a bottleneck. Consider increasing the value of the `num_workers` argument` to `num_workers=7` in the `DataLoader` to improve performance.\n"
     ]
    },
    {
     "data": {
      "application/vnd.jupyter.widget-view+json": {
       "model_id": "ed3d9e54007747dcbdaf69bb3dbe4aeb",
       "version_major": 2,
       "version_minor": 0
      },
      "text/plain": [
       "Training: |          | 0/? [00:00<?, ?it/s]"
      ]
     },
     "metadata": {},
     "output_type": "display_data"
    },
    {
     "name": "stderr",
     "output_type": "stream",
     "text": [
      "`Trainer.fit` stopped: `max_epochs=100` reached.\n"
     ]
    }
   ],
   "source": [
    "import pytorch_lightning as pl\n",
    "from pytorch_lightning.loggers import CSVLogger\n",
    "from pytorch_lightning.callbacks import TQDMProgressBar\n",
    "from tqdm import tqdm\n",
    "\n",
    "logger = CSVLogger(\"Paris_exeperiment\", name=\"CNN_model\") #directory and subdirectory to store losses and metrics\n",
    "\n",
    "class LitProgressBar(TQDMProgressBar):\n",
    "    def init_validation_tqdm(self):\n",
    "        bar = tqdm(disable=True,)\n",
    "        return bar\n",
    "\n",
    "tr = pl.Trainer(logger = logger,\n",
    "                max_epochs=100,\n",
    "                log_every_n_steps=1,\n",
    "                callbacks=[LitProgressBar()] #if You use Jupyter in VsCode, \n",
    "                )  #You may need this callback to supress redundant progress bars: https://lightning.ai/forums/t/progress-bar-in-jupyter-notebooks-visual-studio-code/4985/5\n",
    "\n",
    "tr.fit(CNN_classifier, dataset2d)"
   ]
  },
  {
   "cell_type": "markdown",
   "metadata": {},
   "source": [
    "Now we can read results as simple csv table with pandas"
   ]
  },
  {
   "cell_type": "markdown",
   "metadata": {},
   "source": [
    "# Getting results of training"
   ]
  },
  {
   "cell_type": "code",
   "execution_count": 5,
   "metadata": {},
   "outputs": [
    {
     "data": {
      "text/html": [
       "<div>\n",
       "<style scoped>\n",
       "    .dataframe tbody tr th:only-of-type {\n",
       "        vertical-align: middle;\n",
       "    }\n",
       "\n",
       "    .dataframe tbody tr th {\n",
       "        vertical-align: top;\n",
       "    }\n",
       "\n",
       "    .dataframe thead th {\n",
       "        text-align: right;\n",
       "    }\n",
       "</style>\n",
       "<table border=\"1\" class=\"dataframe\">\n",
       "  <thead>\n",
       "    <tr style=\"text-align: right;\">\n",
       "      <th></th>\n",
       "      <th>epoch</th>\n",
       "      <th>step</th>\n",
       "      <th>train_loss</th>\n",
       "      <th>val_acc_step</th>\n",
       "      <th>val_f1_class_0</th>\n",
       "      <th>val_f1_class_1</th>\n",
       "      <th>val_f1_class_2</th>\n",
       "      <th>val_macro_f1</th>\n",
       "      <th>val_macro_precision</th>\n",
       "      <th>val_macro_recall</th>\n",
       "      <th>val_precision_class_0</th>\n",
       "      <th>val_precision_class_1</th>\n",
       "      <th>val_precision_class_2</th>\n",
       "      <th>val_recall_class_0</th>\n",
       "      <th>val_recall_class_1</th>\n",
       "      <th>val_recall_class_2</th>\n",
       "      <th>valid_loss</th>\n",
       "    </tr>\n",
       "  </thead>\n",
       "  <tbody>\n",
       "    <tr>\n",
       "      <th>0</th>\n",
       "      <td>0</td>\n",
       "      <td>12</td>\n",
       "      <td>NaN</td>\n",
       "      <td>0.44</td>\n",
       "      <td>0.277714</td>\n",
       "      <td>0.000000</td>\n",
       "      <td>0.543919</td>\n",
       "      <td>0.273878</td>\n",
       "      <td>0.293333</td>\n",
       "      <td>0.372889</td>\n",
       "      <td>0.480000</td>\n",
       "      <td>0.000000</td>\n",
       "      <td>0.400000</td>\n",
       "      <td>0.198667</td>\n",
       "      <td>0.000000</td>\n",
       "      <td>0.920000</td>\n",
       "      <td>1.076805</td>\n",
       "    </tr>\n",
       "    <tr>\n",
       "      <th>1</th>\n",
       "      <td>0</td>\n",
       "      <td>12</td>\n",
       "      <td>1.253184</td>\n",
       "      <td>NaN</td>\n",
       "      <td>NaN</td>\n",
       "      <td>NaN</td>\n",
       "      <td>NaN</td>\n",
       "      <td>NaN</td>\n",
       "      <td>NaN</td>\n",
       "      <td>NaN</td>\n",
       "      <td>NaN</td>\n",
       "      <td>NaN</td>\n",
       "      <td>NaN</td>\n",
       "      <td>NaN</td>\n",
       "      <td>NaN</td>\n",
       "      <td>NaN</td>\n",
       "      <td>NaN</td>\n",
       "    </tr>\n",
       "    <tr>\n",
       "      <th>2</th>\n",
       "      <td>1</td>\n",
       "      <td>25</td>\n",
       "      <td>NaN</td>\n",
       "      <td>0.47</td>\n",
       "      <td>0.332000</td>\n",
       "      <td>0.000000</td>\n",
       "      <td>0.573610</td>\n",
       "      <td>0.301870</td>\n",
       "      <td>0.284127</td>\n",
       "      <td>0.390222</td>\n",
       "      <td>0.390667</td>\n",
       "      <td>0.000000</td>\n",
       "      <td>0.461714</td>\n",
       "      <td>0.330667</td>\n",
       "      <td>0.000000</td>\n",
       "      <td>0.840000</td>\n",
       "      <td>1.035904</td>\n",
       "    </tr>\n",
       "    <tr>\n",
       "      <th>3</th>\n",
       "      <td>1</td>\n",
       "      <td>25</td>\n",
       "      <td>1.044438</td>\n",
       "      <td>NaN</td>\n",
       "      <td>NaN</td>\n",
       "      <td>NaN</td>\n",
       "      <td>NaN</td>\n",
       "      <td>NaN</td>\n",
       "      <td>NaN</td>\n",
       "      <td>NaN</td>\n",
       "      <td>NaN</td>\n",
       "      <td>NaN</td>\n",
       "      <td>NaN</td>\n",
       "      <td>NaN</td>\n",
       "      <td>NaN</td>\n",
       "      <td>NaN</td>\n",
       "      <td>NaN</td>\n",
       "    </tr>\n",
       "    <tr>\n",
       "      <th>4</th>\n",
       "      <td>2</td>\n",
       "      <td>38</td>\n",
       "      <td>NaN</td>\n",
       "      <td>0.49</td>\n",
       "      <td>0.509435</td>\n",
       "      <td>0.000000</td>\n",
       "      <td>0.534667</td>\n",
       "      <td>0.358290</td>\n",
       "      <td>0.333191</td>\n",
       "      <td>0.448000</td>\n",
       "      <td>0.397238</td>\n",
       "      <td>0.000000</td>\n",
       "      <td>0.577333</td>\n",
       "      <td>0.773333</td>\n",
       "      <td>0.000000</td>\n",
       "      <td>0.530667</td>\n",
       "      <td>1.041226</td>\n",
       "    </tr>\n",
       "    <tr>\n",
       "      <th>...</th>\n",
       "      <td>...</td>\n",
       "      <td>...</td>\n",
       "      <td>...</td>\n",
       "      <td>...</td>\n",
       "      <td>...</td>\n",
       "      <td>...</td>\n",
       "      <td>...</td>\n",
       "      <td>...</td>\n",
       "      <td>...</td>\n",
       "      <td>...</td>\n",
       "      <td>...</td>\n",
       "      <td>...</td>\n",
       "      <td>...</td>\n",
       "      <td>...</td>\n",
       "      <td>...</td>\n",
       "      <td>...</td>\n",
       "      <td>...</td>\n",
       "    </tr>\n",
       "    <tr>\n",
       "      <th>195</th>\n",
       "      <td>97</td>\n",
       "      <td>1273</td>\n",
       "      <td>0.000512</td>\n",
       "      <td>NaN</td>\n",
       "      <td>NaN</td>\n",
       "      <td>NaN</td>\n",
       "      <td>NaN</td>\n",
       "      <td>NaN</td>\n",
       "      <td>NaN</td>\n",
       "      <td>NaN</td>\n",
       "      <td>NaN</td>\n",
       "      <td>NaN</td>\n",
       "      <td>NaN</td>\n",
       "      <td>NaN</td>\n",
       "      <td>NaN</td>\n",
       "      <td>NaN</td>\n",
       "      <td>NaN</td>\n",
       "    </tr>\n",
       "    <tr>\n",
       "      <th>196</th>\n",
       "      <td>98</td>\n",
       "      <td>1286</td>\n",
       "      <td>NaN</td>\n",
       "      <td>0.39</td>\n",
       "      <td>0.201905</td>\n",
       "      <td>0.327937</td>\n",
       "      <td>0.408000</td>\n",
       "      <td>0.312614</td>\n",
       "      <td>0.336952</td>\n",
       "      <td>0.358222</td>\n",
       "      <td>0.246667</td>\n",
       "      <td>0.325524</td>\n",
       "      <td>0.438667</td>\n",
       "      <td>0.212000</td>\n",
       "      <td>0.434667</td>\n",
       "      <td>0.428000</td>\n",
       "      <td>3.408892</td>\n",
       "    </tr>\n",
       "    <tr>\n",
       "      <th>197</th>\n",
       "      <td>98</td>\n",
       "      <td>1286</td>\n",
       "      <td>0.000978</td>\n",
       "      <td>NaN</td>\n",
       "      <td>NaN</td>\n",
       "      <td>NaN</td>\n",
       "      <td>NaN</td>\n",
       "      <td>NaN</td>\n",
       "      <td>NaN</td>\n",
       "      <td>NaN</td>\n",
       "      <td>NaN</td>\n",
       "      <td>NaN</td>\n",
       "      <td>NaN</td>\n",
       "      <td>NaN</td>\n",
       "      <td>NaN</td>\n",
       "      <td>NaN</td>\n",
       "      <td>NaN</td>\n",
       "    </tr>\n",
       "    <tr>\n",
       "      <th>198</th>\n",
       "      <td>99</td>\n",
       "      <td>1299</td>\n",
       "      <td>NaN</td>\n",
       "      <td>0.38</td>\n",
       "      <td>0.201905</td>\n",
       "      <td>0.301270</td>\n",
       "      <td>0.402667</td>\n",
       "      <td>0.301947</td>\n",
       "      <td>0.328064</td>\n",
       "      <td>0.344889</td>\n",
       "      <td>0.246667</td>\n",
       "      <td>0.305524</td>\n",
       "      <td>0.432000</td>\n",
       "      <td>0.212000</td>\n",
       "      <td>0.394667</td>\n",
       "      <td>0.428000</td>\n",
       "      <td>3.363146</td>\n",
       "    </tr>\n",
       "    <tr>\n",
       "      <th>199</th>\n",
       "      <td>99</td>\n",
       "      <td>1299</td>\n",
       "      <td>0.000517</td>\n",
       "      <td>NaN</td>\n",
       "      <td>NaN</td>\n",
       "      <td>NaN</td>\n",
       "      <td>NaN</td>\n",
       "      <td>NaN</td>\n",
       "      <td>NaN</td>\n",
       "      <td>NaN</td>\n",
       "      <td>NaN</td>\n",
       "      <td>NaN</td>\n",
       "      <td>NaN</td>\n",
       "      <td>NaN</td>\n",
       "      <td>NaN</td>\n",
       "      <td>NaN</td>\n",
       "      <td>NaN</td>\n",
       "    </tr>\n",
       "  </tbody>\n",
       "</table>\n",
       "<p>200 rows × 17 columns</p>\n",
       "</div>"
      ],
      "text/plain": [
       "     epoch  step  train_loss  val_acc_step  val_f1_class_0  val_f1_class_1  \\\n",
       "0        0    12         NaN          0.44        0.277714        0.000000   \n",
       "1        0    12    1.253184           NaN             NaN             NaN   \n",
       "2        1    25         NaN          0.47        0.332000        0.000000   \n",
       "3        1    25    1.044438           NaN             NaN             NaN   \n",
       "4        2    38         NaN          0.49        0.509435        0.000000   \n",
       "..     ...   ...         ...           ...             ...             ...   \n",
       "195     97  1273    0.000512           NaN             NaN             NaN   \n",
       "196     98  1286         NaN          0.39        0.201905        0.327937   \n",
       "197     98  1286    0.000978           NaN             NaN             NaN   \n",
       "198     99  1299         NaN          0.38        0.201905        0.301270   \n",
       "199     99  1299    0.000517           NaN             NaN             NaN   \n",
       "\n",
       "     val_f1_class_2  val_macro_f1  val_macro_precision  val_macro_recall  \\\n",
       "0          0.543919      0.273878             0.293333          0.372889   \n",
       "1               NaN           NaN                  NaN               NaN   \n",
       "2          0.573610      0.301870             0.284127          0.390222   \n",
       "3               NaN           NaN                  NaN               NaN   \n",
       "4          0.534667      0.358290             0.333191          0.448000   \n",
       "..              ...           ...                  ...               ...   \n",
       "195             NaN           NaN                  NaN               NaN   \n",
       "196        0.408000      0.312614             0.336952          0.358222   \n",
       "197             NaN           NaN                  NaN               NaN   \n",
       "198        0.402667      0.301947             0.328064          0.344889   \n",
       "199             NaN           NaN                  NaN               NaN   \n",
       "\n",
       "     val_precision_class_0  val_precision_class_1  val_precision_class_2  \\\n",
       "0                 0.480000               0.000000               0.400000   \n",
       "1                      NaN                    NaN                    NaN   \n",
       "2                 0.390667               0.000000               0.461714   \n",
       "3                      NaN                    NaN                    NaN   \n",
       "4                 0.397238               0.000000               0.577333   \n",
       "..                     ...                    ...                    ...   \n",
       "195                    NaN                    NaN                    NaN   \n",
       "196               0.246667               0.325524               0.438667   \n",
       "197                    NaN                    NaN                    NaN   \n",
       "198               0.246667               0.305524               0.432000   \n",
       "199                    NaN                    NaN                    NaN   \n",
       "\n",
       "     val_recall_class_0  val_recall_class_1  val_recall_class_2  valid_loss  \n",
       "0              0.198667            0.000000            0.920000    1.076805  \n",
       "1                   NaN                 NaN                 NaN         NaN  \n",
       "2              0.330667            0.000000            0.840000    1.035904  \n",
       "3                   NaN                 NaN                 NaN         NaN  \n",
       "4              0.773333            0.000000            0.530667    1.041226  \n",
       "..                  ...                 ...                 ...         ...  \n",
       "195                 NaN                 NaN                 NaN         NaN  \n",
       "196            0.212000            0.434667            0.428000    3.408892  \n",
       "197                 NaN                 NaN                 NaN         NaN  \n",
       "198            0.212000            0.394667            0.428000    3.363146  \n",
       "199                 NaN                 NaN                 NaN         NaN  \n",
       "\n",
       "[200 rows x 17 columns]"
      ]
     },
     "execution_count": 5,
     "metadata": {},
     "output_type": "execute_result"
    }
   ],
   "source": [
    "metrics = pd.read_csv('Paris_exeperiment/CNN_model/version_0/metrics.csv')\n",
    "metrics"
   ]
  },
  {
   "cell_type": "markdown",
   "metadata": {},
   "source": [
    "You can see NaNs. It happens due to internal operation of CSVLogger, which writes training and validation results to separate rows. For convenience we can split this dataframe to train loss Series and DataFrame with validation loss and metrics."
   ]
  },
  {
   "cell_type": "code",
   "execution_count": 6,
   "metadata": {},
   "outputs": [],
   "source": [
    "train_loss = metrics['train_loss'].dropna().reset_index(drop=True)\n",
    "val_loss_metrics = metrics.drop(columns='train_loss').dropna().reset_index(drop=True)"
   ]
  },
  {
   "cell_type": "markdown",
   "metadata": {},
   "source": [
    "Now we can easily plot results"
   ]
  },
  {
   "cell_type": "code",
   "execution_count": 7,
   "metadata": {},
   "outputs": [
    {
     "data": {
      "text/plain": [
       "<Axes: >"
      ]
     },
     "execution_count": 7,
     "metadata": {},
     "output_type": "execute_result"
    },
    {
     "data": {
      "image/png": "[encoded data removed]",
      "text/plain": [
       "<Figure size 640x480 with 1 Axes>"
      ]
     },
     "metadata": {},
     "output_type": "display_data"
    }
   ],
   "source": [
    "train_loss.plot(legend='train_loss')\n",
    "val_loss_metrics['valid_loss'].plot(legend='valid_loss')"
   ]
  },
  {
   "cell_type": "markdown",
   "metadata": {},
   "source": [
    "From the graph we can see that model overfits, which is expected result, because we supplied very little data to model. It important to remember that Neural Networks Usually require more data than classical ML algorithms."
   ]
  },
  {
   "cell_type": "markdown",
   "metadata": {},
   "source": [
    "# Training RNNs"
   ]
  },
  {
   "cell_type": "markdown",
   "metadata": {},
   "source": [
    "In this section we will show how to train RNN model with Dataset for time series, which will present every sample as multidimensional time series [x position of fixation, y position of fixation, duration of fixation] and pad every batch."
   ]
  },
  {
   "cell_type": "code",
   "execution_count": 8,
   "metadata": {},
   "outputs": [],
   "source": [
    "from eyefeatures.deep.datasets import DatasetLightningTimeSeries\n",
    "\n",
    "\n",
    "datasetTime = DatasetLightningTimeSeries(\n",
    "                      X=X, \n",
    "                      Y=Y, \n",
    "                      x='norm_pos_x', \n",
    "                      y='norm_pos_y', \n",
    "                      pk=['SUBJ_NAME', 'TEXT'], #Primary keys which together determinate unique sample in common dataframe\n",
    "                      features=[],# which additional features to add to coordinate features\n",
    "                      test_size = 0.5, \n",
    "                      batch_size= 8,\n",
    "                      split_type = 'simple', #Do not consider distribution of pk when spliting\n",
    "                      max_length=10 # truncate input to first 10 fixations, shorter inputs are truncated\n",
    "                      )"
   ]
  },
  {
   "cell_type": "code",
   "execution_count": 9,
   "metadata": {},
   "outputs": [
    {
     "name": "stderr",
     "output_type": "stream",
     "text": [
      "c:\\Users\\toxas\\anaconda3\\Lib\\site-packages\\torch\\nn\\modules\\lazy.py:181: UserWarning: Lazy modules are a new feature under heavy development so changes to the API or functionality can happen at any moment.\n",
      "  warnings.warn('Lazy modules are a new feature under heavy development '\n"
     ]
    }
   ],
   "source": [
    "from eyefeatures.deep.models import SimpleRNN\n",
    "#create simple RNN of LSTM type\n",
    "RNN_model = SimpleRNN(\n",
    "        rnn_type='LSTM', \n",
    "        input_size = 2, \n",
    "        hidden_size = 64, \n",
    "        num_layers=2, \n",
    "        bidirectional=False, \n",
    "        pre_rnn_linear_size=32\n",
    "        ) \n",
    "#The next step is the same as for CNN model\n",
    "RNN_classifier = Classifier(RNN_model, \n",
    "                   n_classes=len(Y['TEXT_TYPE'].unique()), \n",
    "                   classifier_hidden_layers=(25,), #add hidden layer with 25 neurons to classifier head\n",
    "                   learning_rate = 0.01\n",
    "                   )"
   ]
  },
  {
   "cell_type": "code",
   "execution_count": 10,
   "metadata": {},
   "outputs": [
    {
     "name": "stderr",
     "output_type": "stream",
     "text": [
      "GPU available: False, used: False\n",
      "TPU available: False, using: 0 TPU cores\n",
      "HPU available: False, using: 0 HPUs\n",
      "100%|██████████| 100/100 [00:00<00:00, 1173.81it/s]\n",
      "100%|██████████| 100/100 [00:00<00:00, 1775.81it/s]\n",
      "\n",
      "   | Name            | Type                | Params | Mode \n",
      "-----------------------------------------------------------------\n",
      "0  | backbone        | SimpleRNN           | 58.5 K | train\n",
      "1  | head            | ModuleList          | 0      | train\n",
      "2  | loss_fn         | CrossEntropyLoss    | 0      | train\n",
      "3  | flat            | Flatten             | 0      | train\n",
      "4  | accuracy        | MulticlassAccuracy  | 0      | train\n",
      "5  | precision       | MulticlassPrecision | 0      | train\n",
      "6  | recall          | MulticlassRecall    | 0      | train\n",
      "7  | f1              | MulticlassF1Score   | 0      | train\n",
      "8  | macro_precision | MulticlassPrecision | 0      | train\n",
      "9  | macro_recall    | MulticlassRecall    | 0      | train\n",
      "10 | macro_f1        | MulticlassF1Score   | 0      | train\n",
      "11 | prob            | Softmax             | 0      | train\n",
      "-----------------------------------------------------------------\n",
      "58.5 K    Trainable params\n",
      "0         Non-trainable params\n",
      "58.5 K    Total params\n",
      "0.234     Total estimated model params size (MB)\n"
     ]
    },
    {
     "data": {
      "application/vnd.jupyter.widget-view+json": {
       "model_id": "e3aa10fac16a4718aaaa101898fc52e0",
       "version_major": 2,
       "version_minor": 0
      },
      "text/plain": [
       "Sanity Checking: |          | 0/? [00:00<?, ?it/s]"
      ]
     },
     "metadata": {},
     "output_type": "display_data"
    },
    {
     "name": "stderr",
     "output_type": "stream",
     "text": [
      "c:\\Users\\toxas\\anaconda3\\Lib\\site-packages\\pytorch_lightning\\trainer\\connectors\\data_connector.py:424: The 'val_dataloader' does not have many workers which may be a bottleneck. Consider increasing the value of the `num_workers` argument` to `num_workers=7` in the `DataLoader` to improve performance.\n",
      "c:\\Users\\toxas\\anaconda3\\Lib\\site-packages\\pytorch_lightning\\trainer\\connectors\\data_connector.py:424: The 'train_dataloader' does not have many workers which may be a bottleneck. Consider increasing the value of the `num_workers` argument` to `num_workers=7` in the `DataLoader` to improve performance.\n"
     ]
    },
    {
     "data": {
      "application/vnd.jupyter.widget-view+json": {
       "model_id": "e2109a506f69459f8bd3a9dbe32fe65e",
       "version_major": 2,
       "version_minor": 0
      },
      "text/plain": [
       "Training: |          | 0/? [00:00<?, ?it/s]"
      ]
     },
     "metadata": {},
     "output_type": "display_data"
    },
    {
     "name": "stderr",
     "output_type": "stream",
     "text": [
      "`Trainer.fit` stopped: `max_epochs=100` reached.\n"
     ]
    },
    {
     "data": {
      "text/plain": [
       "<Axes: >"
      ]
     },
     "execution_count": 10,
     "metadata": {},
     "output_type": "execute_result"
    },
    {
     "data": {
      "image/png": "[encoded data removed]",
      "text/plain": [
       "<Figure size 640x480 with 1 Axes>"
      ]
     },
     "metadata": {},
     "output_type": "display_data"
    }
   ],
   "source": [
    "# same steps as before for CNN model\n",
    "logger = CSVLogger(\"Paris_exeperiment\", name=\"RNN_model\") #directory and subdirectory to store losses and metrics\n",
    "\n",
    "class LitProgressBar(TQDMProgressBar):\n",
    "    def init_validation_tqdm(self):\n",
    "        bar = tqdm(disable=True,)\n",
    "        return bar\n",
    "\n",
    "tr = pl.Trainer(logger = logger,\n",
    "                max_epochs=100,\n",
    "                log_every_n_steps=1, \n",
    "                callbacks=[LitProgressBar()] #if You use Jupyter in VsCode, \n",
    "                )  #You may need this callback to supress redundant progress bars: https://lightning.ai/forums/t/progress-bar-in-jupyter-notebooks-visual-studio-code/4985/5\n",
    "\n",
    "tr.fit(RNN_classifier, datasetTime)\n",
    "\n",
    "metrics = pd.read_csv('Paris_exeperiment/RNN_model/version_0/metrics.csv')\n",
    "\n",
    "train_loss = metrics['train_loss'].dropna().reset_index(drop=True)\n",
    "val_loss_metrics = metrics.drop(columns='train_loss').dropna().reset_index(drop=True)\n",
    "\n",
    "train_loss.plot(legend='train_loss')\n",
    "val_loss_metrics['valid_loss'].plot(legend='valid_loss')"
   ]
  },
  {
   "cell_type": "markdown",
   "metadata": {},
   "source": [
    "Situation is similar here - RNN need more data to learn something and 10 first fixations might be not enough to differentiate between scanpaths, because network strugles to even overfit to training set."
   ]
  },
  {
   "cell_type": "markdown",
   "metadata": {},
   "source": [
    "# Combining CNN and RNN\n",
    "\n",
    "We, also, can combine CNN and RNN as proposed in [Sims et al. 2020](https://dl.acm.org/doi/10.1145/3382507.3418828)"
   ]
  },
  {
   "cell_type": "code",
   "execution_count": 11,
   "metadata": {},
   "outputs": [
    {
     "name": "stderr",
     "output_type": "stream",
     "text": [
      "c:\\Users\\toxas\\anaconda3\\Lib\\site-packages\\torch\\nn\\modules\\lazy.py:181: UserWarning: Lazy modules are a new feature under heavy development so changes to the API or functionality can happen at any moment.\n",
      "  warnings.warn('Lazy modules are a new feature under heavy development '\n"
     ]
    }
   ],
   "source": [
    "from eyefeatures.deep.datasets import DatasetLightningTimeSeries2D\n",
    "from eyefeatures.deep.models import VitNet\n",
    "\n",
    "time2d_dataset = DatasetLightningTimeSeries2D(\n",
    "                            X=X, \n",
    "                            Y=Y, \n",
    "                            x='norm_pos_x', \n",
    "                            y='norm_pos_y', \n",
    "                            pk=['SUBJ_NAME', 'TEXT'], #Primary keys which together determinate unique sample in common dataframe\n",
    "                            features=[],# which additional features to add to coordinate features\n",
    "                            test_size = 0.5, \n",
    "                            batch_size= 8,\n",
    "                            shape=(16, 16), #Required shape. Can be anything, but remember that bigger images require more computational resources\n",
    "                            representations=['heatmap', 'baseline_visualization'],\n",
    "                            split_type = 'simple', #Do not consider distribution of pk when spliting\n",
    "                            max_length=10 # truncate input to first 10 fixations\n",
    "                      )\n",
    "\n",
    "VitNet_model = VitNet(\n",
    "                 CNN_model, \n",
    "                 RNN_model, \n",
    "                 fusion_mode = 'concat', \n",
    "                 activation = None, \n",
    "                 embed_dim = 32)\n",
    "\n",
    "VitNet_classifier = Classifier(VitNet_model, \n",
    "                   n_classes=len(Y['TEXT_TYPE'].unique()), \n",
    "                   classifier_hidden_layers=(25,), #add hidden layer with 25 neurons to classifier head\n",
    "                   learning_rate = 0.01\n",
    "                   )\n"
   ]
  }
 ],
 "metadata": {
  "kernelspec": {
   "display_name": "base",
   "language": "python",
   "name": "python3"
  },
  "language_info": {
   "codemirror_mode": {
    "name": "ipython",
    "version": 3
   },
   "file_extension": ".py",
   "mimetype": "text/x-python",
   "name": "python",
   "nbconvert_exporter": "python",
   "pygments_lexer": "ipython3",
   "version": "3.12.3"
  }
 },
 "nbformat": 4,
 "nbformat_minor": 2
}
