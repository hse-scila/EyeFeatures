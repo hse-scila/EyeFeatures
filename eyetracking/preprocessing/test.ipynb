{
 "cells": [
  {
   "cell_type": "code",
   "execution_count": 1,
   "metadata": {
    "collapsed": true
   },
   "outputs": [],
   "source": [
    "import pandas as pd\n",
    "import numpy as np\n",
    "\n",
    "from os.path import join\n",
    "\n",
    "from fixation_extraction import IVT\n",
    "\n",
    "DATA_PATH = join('..', 'test_data')"
   ]
  },
  {
   "cell_type": "code",
   "execution_count": 2,
   "outputs": [],
   "source": [
    "def remove_points(df, x_min, x_max, y_min, y_max):\n",
    "    df = df[df['norm_pos_x'] <= x_max]\n",
    "    df = df[df['norm_pos_x'] >= x_min]\n",
    "    df = df[df['norm_pos_y'] >= y_min]\n",
    "    df = df[df['norm_pos_y'] <= y_max]\n",
    "    return df\n",
    "\n",
    "data = pd.concat([pd.read_excel(join(DATA_PATH, 'itog_gaze_1.xlsx')),\n",
    "                  pd.read_excel(join(DATA_PATH, 'itog_gaze_2.xlsx'))], axis=0)\n",
    "\n",
    "data.drop(['world_index', 'confidence', 'base_data'], axis=1, inplace=True)\n",
    "data = remove_points(data, -1, 1, -1, 1)\n",
    "data['gaze_timestamp'] = data['gaze_timestamp']"
   ],
   "metadata": {
    "collapsed": false
   }
  },
  {
   "cell_type": "code",
   "execution_count": 3,
   "outputs": [],
   "source": [
    "x = 'norm_pos_x'\n",
    "y = 'norm_pos_y'\n",
    "t = 'gaze_timestamp'\n",
    "\n",
    "ivt = IVT(x=x, y=y, t=t, pk=['Participant', 'tekst'], threshold=0.10)"
   ],
   "metadata": {
    "collapsed": false
   }
  },
  {
   "cell_type": "code",
   "execution_count": 4,
   "outputs": [
    {
     "data": {
      "text/plain": "       Participant  tekst  norm_pos_x  norm_pos_y     start_time  \\\n0                1      1    0.242056    0.510704  317242.694809   \n1                1      1    0.243933    0.507985  317242.728767   \n2                1      1    0.244890    0.507302  317242.779258   \n3                1      1    0.243674    0.473291  317242.805314   \n4                1      1    0.246791    0.435542  317243.017989   \n...            ...    ...         ...         ...            ...   \n51153            2     37    0.376292    0.619985    1834.312914   \n51154            2     37    0.376239    0.620591    1834.331099   \n51155            2     37    0.376137    0.616913    1834.343663   \n51156            2     37    0.376363    0.617434    1834.355116   \n51157            2     37    0.376733    0.613954    1834.377974   \n\n            end_time  distance_min  distance_max  \n0      317242.715197      0.000988      0.012066  \n1      317242.766803      0.000971      0.010593  \n2      317242.779258      0.002909      0.002909  \n3      317243.004508      0.000679      0.054160  \n4      317243.024352      0.000697      0.001653  \n...              ...           ...           ...  \n51153    1834.318381      0.001401      0.001402  \n51154    1834.331099      0.003480      0.003480  \n51155    1834.343663      0.000851      0.000851  \n51156    1834.365957      0.000878      0.003641  \n51157    1834.406549      0.000779      0.003577  \n\n[51158 rows x 8 columns]",
      "text/html": "<div>\n<style scoped>\n    .dataframe tbody tr th:only-of-type {\n        vertical-align: middle;\n    }\n\n    .dataframe tbody tr th {\n        vertical-align: top;\n    }\n\n    .dataframe thead th {\n        text-align: right;\n    }\n</style>\n<table border=\"1\" class=\"dataframe\">\n  <thead>\n    <tr style=\"text-align: right;\">\n      <th></th>\n      <th>Participant</th>\n      <th>tekst</th>\n      <th>norm_pos_x</th>\n      <th>norm_pos_y</th>\n      <th>start_time</th>\n      <th>end_time</th>\n      <th>distance_min</th>\n      <th>distance_max</th>\n    </tr>\n  </thead>\n  <tbody>\n    <tr>\n      <th>0</th>\n      <td>1</td>\n      <td>1</td>\n      <td>0.242056</td>\n      <td>0.510704</td>\n      <td>317242.694809</td>\n      <td>317242.715197</td>\n      <td>0.000988</td>\n      <td>0.012066</td>\n    </tr>\n    <tr>\n      <th>1</th>\n      <td>1</td>\n      <td>1</td>\n      <td>0.243933</td>\n      <td>0.507985</td>\n      <td>317242.728767</td>\n      <td>317242.766803</td>\n      <td>0.000971</td>\n      <td>0.010593</td>\n    </tr>\n    <tr>\n      <th>2</th>\n      <td>1</td>\n      <td>1</td>\n      <td>0.244890</td>\n      <td>0.507302</td>\n      <td>317242.779258</td>\n      <td>317242.779258</td>\n      <td>0.002909</td>\n      <td>0.002909</td>\n    </tr>\n    <tr>\n      <th>3</th>\n      <td>1</td>\n      <td>1</td>\n      <td>0.243674</td>\n      <td>0.473291</td>\n      <td>317242.805314</td>\n      <td>317243.004508</td>\n      <td>0.000679</td>\n      <td>0.054160</td>\n    </tr>\n    <tr>\n      <th>4</th>\n      <td>1</td>\n      <td>1</td>\n      <td>0.246791</td>\n      <td>0.435542</td>\n      <td>317243.017989</td>\n      <td>317243.024352</td>\n      <td>0.000697</td>\n      <td>0.001653</td>\n    </tr>\n    <tr>\n      <th>...</th>\n      <td>...</td>\n      <td>...</td>\n      <td>...</td>\n      <td>...</td>\n      <td>...</td>\n      <td>...</td>\n      <td>...</td>\n      <td>...</td>\n    </tr>\n    <tr>\n      <th>51153</th>\n      <td>2</td>\n      <td>37</td>\n      <td>0.376292</td>\n      <td>0.619985</td>\n      <td>1834.312914</td>\n      <td>1834.318381</td>\n      <td>0.001401</td>\n      <td>0.001402</td>\n    </tr>\n    <tr>\n      <th>51154</th>\n      <td>2</td>\n      <td>37</td>\n      <td>0.376239</td>\n      <td>0.620591</td>\n      <td>1834.331099</td>\n      <td>1834.331099</td>\n      <td>0.003480</td>\n      <td>0.003480</td>\n    </tr>\n    <tr>\n      <th>51155</th>\n      <td>2</td>\n      <td>37</td>\n      <td>0.376137</td>\n      <td>0.616913</td>\n      <td>1834.343663</td>\n      <td>1834.343663</td>\n      <td>0.000851</td>\n      <td>0.000851</td>\n    </tr>\n    <tr>\n      <th>51156</th>\n      <td>2</td>\n      <td>37</td>\n      <td>0.376363</td>\n      <td>0.617434</td>\n      <td>1834.355116</td>\n      <td>1834.365957</td>\n      <td>0.000878</td>\n      <td>0.003641</td>\n    </tr>\n    <tr>\n      <th>51157</th>\n      <td>2</td>\n      <td>37</td>\n      <td>0.376733</td>\n      <td>0.613954</td>\n      <td>1834.377974</td>\n      <td>1834.406549</td>\n      <td>0.000779</td>\n      <td>0.003577</td>\n    </tr>\n  </tbody>\n</table>\n<p>51158 rows × 8 columns</p>\n</div>"
     },
     "execution_count": 4,
     "metadata": {},
     "output_type": "execute_result"
    }
   ],
   "source": [
    "data_ivt = ivt.transform(data)\n",
    "data_ivt"
   ],
   "metadata": {
    "collapsed": false
   }
  }
 ],
 "metadata": {
  "kernelspec": {
   "display_name": "Python 3",
   "language": "python",
   "name": "python3"
  },
  "language_info": {
   "codemirror_mode": {
    "name": "ipython",
    "version": 2
   },
   "file_extension": ".py",
   "mimetype": "text/x-python",
   "name": "python",
   "nbconvert_exporter": "python",
   "pygments_lexer": "ipython2",
   "version": "2.7.6"
  }
 },
 "nbformat": 4,
 "nbformat_minor": 0
}
