{
 "cells": [
  {
   "cell_type": "code",
   "execution_count": 1,
   "id": "b739d7ac-095d-48e9-a22c-78641d268aa1",
   "metadata": {},
   "outputs": [],
   "source": [
    "import pandas as pd\n",
    "import numpy as np\n",
    "\n",
    "import os\n",
    "from tqdm import tqdm\n",
    "\n",
    "from stats import SaccadeLength, SaccadeAcceleration, FixationDuration, SaccadeVelocity, FixationVAD, RegressionCount, MicroSaccadeLength, MicroSaccadeVelocity, MicroSaccadeAcceleration\n",
    "from measures import HurstExponent\n",
    "from extractor import Extractor\n",
    "\n",
    "import warnings\n",
    "warnings.simplefilter('ignore')"
   ]
  },
  {
   "cell_type": "code",
   "execution_count": 2,
   "id": "df10e745-5860-48ec-a465-d7ac896f33d8",
   "metadata": {},
   "outputs": [
    {
     "name": "stdout",
     "output_type": "stream",
     "text": [
      "[1, 2, 3, 4, 5, 6, 7, 8, 9, 10, 11, 12, 13, 14, 15, 16, 17, 18, 19, 20, 21, 22, 23, 24, 25, 27, 28, 29, 30, 31, 33, 34, 35, 37, 38, 39, 40, 42, 43, 44, 46, 47, 48, 49, 50, 51]\n"
     ]
    }
   ],
   "source": [
    "path_to_data = './gaze'\n",
    "participant_ids = sorted(list(int(x) for x in set(os.listdir(path_to_data)) if x.isdigit()))\n",
    "def load_dataset():\n",
    "    fix_data = []\n",
    "    for participant in tqdm(participant_ids):\n",
    "        fix_data.append(pd.read_excel(f'{path_to_data}/{participant}/itog_fix_{participant}.xlsx'))\n",
    "    return pd.concat(fix_data, ignore_index=True)\n",
    "\n",
    "print(participant_ids)"
   ]
  },
  {
   "cell_type": "code",
   "execution_count": 3,
   "id": "3464b754-e85b-439d-bd96-877ee488ecd6",
   "metadata": {},
   "outputs": [
    {
     "name": "stderr",
     "output_type": "stream",
     "text": [
      "100%|██████████| 46/46 [00:12<00:00,  3.77it/s]\n"
     ]
    },
    {
     "data": {
      "text/plain": [
       "(164618, 11)"
      ]
     },
     "execution_count": 3,
     "metadata": {},
     "output_type": "execute_result"
    }
   ],
   "source": [
    "benchmark_data = load_dataset()\n",
    "benchmark_data.shape"
   ]
  },
  {
   "cell_type": "code",
   "execution_count": 4,
   "id": "1f08c160-1b81-48e5-9bfc-153db388ee68",
   "metadata": {},
   "outputs": [],
   "source": [
    "x = 'norm_pos_x'\n",
    "y = 'norm_pos_y'\n",
    "t = 'start_timestamp'\n",
    "dur = 'duration'\n",
    "dis = 'dispersion'\n",
    "msv = 4.7  # MS_VELOCITY_THRESHOLD\n",
    "msa = 1.2  # MS_AMPLITUDE_THRESHOLD"
   ]
  },
  {
   "cell_type": "markdown",
   "id": "bb169a4d-9503-416b-ac45-705ab9f8ff0f",
   "metadata": {},
   "source": [
    "## 1. Stats"
   ]
  },
  {
   "cell_type": "code",
   "execution_count": 5,
   "id": "ad111060-f331-460b-bc6d-eb6362783fd9",
   "metadata": {},
   "outputs": [],
   "source": [
    "features = [\n",
    "    SaccadeVelocity(stats=['min', 'kurtosis', 'max']),\n",
    "    FixationDuration(stats=['median', 'skew', 'var']),\n",
    "    FixationVAD(stats=['mean', 'median']),\n",
    "    SaccadeLength(stats=['var', 'std']),\n",
    "    RegressionCount(),\n",
    "    SaccadeAcceleration(stats=['min', 'var', 'mean']),\n",
    "    MicroSaccadeVelocity(stats=['min'], min_dispersion=msa, max_velocity=msv),\n",
    "    MicroSaccadeAcceleration(stats=['var'], min_dispersion=msa, max_velocity=msv),\n",
    "    MicroSaccadeLength(stats=['max'], min_dispersion=msa, max_velocity=msv),\n",
    "    HurstExponent(var='duration', n_iters=10, fill_strategy='last')\n",
    "]"
   ]
  },
  {
   "cell_type": "markdown",
   "id": "c8199269-99eb-457a-9466-54efd24ff2d6",
   "metadata": {},
   "source": [
    "### 1.1 Grouping by texts"
   ]
  },
  {
   "cell_type": "code",
   "execution_count": 6,
   "id": "2cbc0192-7e2d-4773-ace9-1535da587241",
   "metadata": {},
   "outputs": [
    {
     "name": "stdout",
     "output_type": "stream",
     "text": [
      "CPU times: user 26.7 s, sys: 213 ms, total: 27 s\n",
      "Wall time: 26.9 s\n"
     ]
    },
    {
     "data": {
      "text/plain": [
       "(37, 18)"
      ]
     },
     "execution_count": 6,
     "metadata": {},
     "output_type": "execute_result"
    }
   ],
   "source": [
    "extractor = Extractor(\n",
    "    features=features,\n",
    "    x=x, y=y, t=t,\n",
    "    duration=dur,\n",
    "    dispersion=dis, pk=['tekst'], return_df=True\n",
    ")\n",
    "\n",
    "%time extractor.fit_transform(benchmark_data).shape"
   ]
  },
  {
   "cell_type": "markdown",
   "id": "933894e8-3298-42a1-aecd-6232bcc9f54c",
   "metadata": {},
   "source": [
    "### 1.2 Grouping by participants"
   ]
  },
  {
   "cell_type": "code",
   "execution_count": 7,
   "id": "5afca346-af07-480b-bec4-52ab4e232679",
   "metadata": {},
   "outputs": [
    {
     "name": "stdout",
     "output_type": "stream",
     "text": [
      "CPU times: user 1.08 s, sys: 144 ms, total: 1.22 s\n",
      "Wall time: 1.06 s\n"
     ]
    },
    {
     "data": {
      "text/plain": [
       "(46, 18)"
      ]
     },
     "execution_count": 7,
     "metadata": {},
     "output_type": "execute_result"
    }
   ],
   "source": [
    "extractor = Extractor(\n",
    "    features=features,\n",
    "    x=x, y=y, t=t,\n",
    "    duration=dur,\n",
    "    dispersion=dis, pk=['Participant'], return_df=True\n",
    ")\n",
    "\n",
    "%time extractor.fit_transform(benchmark_data).shape"
   ]
  },
  {
   "cell_type": "markdown",
   "id": "4ca03fe2-9de6-4301-8073-cf7d6c11c426",
   "metadata": {},
   "source": [
    "### 1.3 Grouping by texts and participants"
   ]
  },
  {
   "cell_type": "code",
   "execution_count": 8,
   "id": "09859391-2489-4658-9802-3193c5a25e49",
   "metadata": {},
   "outputs": [
    {
     "name": "stdout",
     "output_type": "stream",
     "text": [
      "CPU times: user 26.7 s, sys: 1.82 s, total: 28.5 s\n",
      "Wall time: 26.2 s\n"
     ]
    },
    {
     "data": {
      "text/plain": [
       "(1663, 18)"
      ]
     },
     "execution_count": 8,
     "metadata": {},
     "output_type": "execute_result"
    }
   ],
   "source": [
    "extractor = Extractor(\n",
    "    features=features,\n",
    "    x=x, y=y, t=t,\n",
    "    duration=dur,\n",
    "    dispersion=dis, pk=['Participant', 'tekst'], return_df=True\n",
    ")\n",
    "\n",
    "%time extractor.fit_transform(benchmark_data).shape"
   ]
  },
  {
   "cell_type": "markdown",
   "id": "f66328bb-a909-46ab-9741-d7065096875f",
   "metadata": {},
   "source": [
    "## 2. Distances"
   ]
  },
  {
   "cell_type": "code",
   "execution_count": 9,
   "id": "f0d32c8c-85c8-4fa0-acbd-07fee231ea3a",
   "metadata": {},
   "outputs": [],
   "source": [
    "from scanpath_dist import EucDist, HauDist, DTWDist, MannanDist, EyeAnalysisDist, DFDist, TDEDist"
   ]
  },
  {
   "cell_type": "markdown",
   "id": "25c1593d-8dd8-48ea-a933-568a17e533f9",
   "metadata": {},
   "source": [
    "### 2.1 Simple methods"
   ]
  },
  {
   "cell_type": "code",
   "execution_count": 11,
   "id": "aaa209c6-6d51-4e45-a1ca-149f6ee9fcc5",
   "metadata": {},
   "outputs": [
    {
     "name": "stdout",
     "output_type": "stream",
     "text": [
      "CPU times: user 28.8 s, sys: 36.1 ms, total: 28.8 s\n",
      "Wall time: 28.8 s\n"
     ]
    },
    {
     "data": {
      "text/plain": [
       "(1663, 1)"
      ]
     },
     "execution_count": 11,
     "metadata": {},
     "output_type": "execute_result"
    }
   ],
   "source": [
    "features = [\n",
    "    EucDist(), \n",
    "    # HauDist(),\n",
    "    # DTWDist(), \n",
    "    # MannanDist(),\n",
    "    # EyeAnalysisDist(),\n",
    "    # DFDist(),\n",
    "]\n",
    "\n",
    "extractor = Extractor(\n",
    "    features=features,\n",
    "    x=x, y=y, t=t,\n",
    "    duration=dur,\n",
    "    dispersion=dis, pk=['Participant', 'tekst'], path_pk=['tekst'], return_df=True\n",
    ")\n",
    "\n",
    "%time extractor.fit_transform(benchmark_data).shape"
   ]
  }
 ],
 "metadata": {
  "kernelspec": {
   "display_name": "Python 3 (ipykernel)",
   "language": "python",
   "name": "python3"
  },
  "language_info": {
   "codemirror_mode": {
    "name": "ipython",
    "version": 3
   },
   "file_extension": ".py",
   "mimetype": "text/x-python",
   "name": "python",
   "nbconvert_exporter": "python",
   "pygments_lexer": "ipython3",
   "version": "3.10.12"
  }
 },
 "nbformat": 4,
 "nbformat_minor": 5
}
