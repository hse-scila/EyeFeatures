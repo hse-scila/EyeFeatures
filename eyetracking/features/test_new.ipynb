{
 "cells": [
  {
   "cell_type": "code",
   "execution_count": 1,
   "metadata": {
    "collapsed": true
   },
   "outputs": [],
   "source": [
    "import pandas as pd\n",
    "import numpy as np\n",
    "\n",
    "from stats import SaccadeFeatures\n",
    "from extractor import Extractor"
   ]
  },
  {
   "cell_type": "code",
   "execution_count": 2,
   "outputs": [],
   "source": [
    "data = pd.concat([pd.read_excel('itog_fix_1.xlsx'), pd.read_excel('itog_fix_2.xlsx')], axis=0)"
   ],
   "metadata": {
    "collapsed": false
   }
  },
  {
   "cell_type": "code",
   "execution_count": 3,
   "outputs": [],
   "source": [
    "x = 'norm_pos_x'\n",
    "y = 'norm_pos_y'\n",
    "t = 'start_timestamp'\n",
    "dur = 'duration'\n",
    "dis = 'dispersion'\n",
    "\n",
    "sac_feats_stats = {\n",
    "    'length': ['min', 'max'],\n",
    "    'speed': ['mean', 'kurtosis']\n",
    "}\n",
    "sac_feats_stats_shift = {\n",
    "    'length': ['max']\n",
    "}\n",
    "\n",
    "sf = SaccadeFeatures(x=x, y=y, t=t, duration=dur,\n",
    "                     pk=['tekst', 'Participant'],\n",
    "                     features_stats=sac_feats_stats,\n",
    "                     shift_pk=['tekst'],\n",
    "                     shift_features=sac_feats_stats_shift)\n",
    "\n",
    "features = [\n",
    "    SaccadeFeatures(features_stats=sac_feats_stats,\n",
    "                    shift_features=sac_feats_stats_shift,\n",
    "                    shift_pk=['tekst'])\n",
    "]\n",
    "\n",
    "extractor = Extractor(features=features, x=x, y=y, t=t, duration=dur, dispersion=dis,\n",
    "                      pk=['Participant', 'tekst'],\n",
    "                      return_df=True)"
   ],
   "metadata": {
    "collapsed": false
   }
  },
  {
   "cell_type": "code",
   "execution_count": 4,
   "outputs": [
    {
     "data": {
      "text/plain": "      sac_length_min  sac_length_max  sac_length_max_shift  sac_speed_mean  \\\n1_1         0.002657        0.433486             -0.008934        3.354343   \n1_2         0.002650        0.442420              0.000000        2.640718   \n2_1         0.003757        0.321837             -0.127119        2.790059   \n2_2         0.003741        0.448955              0.000000        2.585629   \n3_1         0.003663        0.365776             -0.207636        2.859377   \n...              ...             ...                   ...             ...   \n35_2        0.002170        1.269198              0.000000        3.458571   \n36_1        0.002688        0.303197             -0.821007        2.834547   \n36_2        0.002196        1.124204              0.000000        3.228725   \n37_1        0.002885        0.317565             -0.454604        2.836139   \n37_2        0.002151        0.772169              0.000000        2.929986   \n\n      sac_speed_kurtosis  \n1_1             5.209396  \n1_2             2.718729  \n2_1             1.062294  \n2_2             4.223900  \n3_1             3.861619  \n...                  ...  \n35_2           20.617815  \n36_1            0.247980  \n36_2           23.727673  \n37_1            0.640584  \n37_2            7.330822  \n\n[74 rows x 5 columns]",
      "text/html": "<div>\n<style scoped>\n    .dataframe tbody tr th:only-of-type {\n        vertical-align: middle;\n    }\n\n    .dataframe tbody tr th {\n        vertical-align: top;\n    }\n\n    .dataframe thead th {\n        text-align: right;\n    }\n</style>\n<table border=\"1\" class=\"dataframe\">\n  <thead>\n    <tr style=\"text-align: right;\">\n      <th></th>\n      <th>sac_length_min</th>\n      <th>sac_length_max</th>\n      <th>sac_length_max_shift</th>\n      <th>sac_speed_mean</th>\n      <th>sac_speed_kurtosis</th>\n    </tr>\n  </thead>\n  <tbody>\n    <tr>\n      <th>1_1</th>\n      <td>0.002657</td>\n      <td>0.433486</td>\n      <td>-0.008934</td>\n      <td>3.354343</td>\n      <td>5.209396</td>\n    </tr>\n    <tr>\n      <th>1_2</th>\n      <td>0.002650</td>\n      <td>0.442420</td>\n      <td>0.000000</td>\n      <td>2.640718</td>\n      <td>2.718729</td>\n    </tr>\n    <tr>\n      <th>2_1</th>\n      <td>0.003757</td>\n      <td>0.321837</td>\n      <td>-0.127119</td>\n      <td>2.790059</td>\n      <td>1.062294</td>\n    </tr>\n    <tr>\n      <th>2_2</th>\n      <td>0.003741</td>\n      <td>0.448955</td>\n      <td>0.000000</td>\n      <td>2.585629</td>\n      <td>4.223900</td>\n    </tr>\n    <tr>\n      <th>3_1</th>\n      <td>0.003663</td>\n      <td>0.365776</td>\n      <td>-0.207636</td>\n      <td>2.859377</td>\n      <td>3.861619</td>\n    </tr>\n    <tr>\n      <th>...</th>\n      <td>...</td>\n      <td>...</td>\n      <td>...</td>\n      <td>...</td>\n      <td>...</td>\n    </tr>\n    <tr>\n      <th>35_2</th>\n      <td>0.002170</td>\n      <td>1.269198</td>\n      <td>0.000000</td>\n      <td>3.458571</td>\n      <td>20.617815</td>\n    </tr>\n    <tr>\n      <th>36_1</th>\n      <td>0.002688</td>\n      <td>0.303197</td>\n      <td>-0.821007</td>\n      <td>2.834547</td>\n      <td>0.247980</td>\n    </tr>\n    <tr>\n      <th>36_2</th>\n      <td>0.002196</td>\n      <td>1.124204</td>\n      <td>0.000000</td>\n      <td>3.228725</td>\n      <td>23.727673</td>\n    </tr>\n    <tr>\n      <th>37_1</th>\n      <td>0.002885</td>\n      <td>0.317565</td>\n      <td>-0.454604</td>\n      <td>2.836139</td>\n      <td>0.640584</td>\n    </tr>\n    <tr>\n      <th>37_2</th>\n      <td>0.002151</td>\n      <td>0.772169</td>\n      <td>0.000000</td>\n      <td>2.929986</td>\n      <td>7.330822</td>\n    </tr>\n  </tbody>\n</table>\n<p>74 rows × 5 columns</p>\n</div>"
     },
     "execution_count": 4,
     "metadata": {},
     "output_type": "execute_result"
    }
   ],
   "source": [
    "sf.fit_transform(data)"
   ],
   "metadata": {
    "collapsed": false
   }
  },
  {
   "cell_type": "code",
   "execution_count": 5,
   "outputs": [
    {
     "data": {
      "text/plain": "      sac_length_min  sac_length_max  sac_length_max_shift  sac_speed_mean  \\\n1_1         0.002657        0.433486             -0.008934        3.354343   \n1_2         0.003757        0.321837             -0.127119        2.790059   \n1_3         0.003663        0.365776             -0.207636        2.859377   \n1_4         0.000212        0.342315             -0.362239        2.753961   \n1_5         0.002705        0.375434             -0.094030        2.631501   \n...              ...             ...                   ...             ...   \n2_33        0.001920        0.406550              0.000000        2.544267   \n2_34        0.007928        0.354386             -0.260736        2.776038   \n2_35        0.002170        1.269198              0.000000        3.458571   \n2_36        0.002196        1.124204              0.000000        3.228725   \n2_37        0.002151        0.772169              0.000000        2.929986   \n\n      sac_speed_kurtosis  \n1_1             5.209396  \n1_2             1.062294  \n1_3             3.861619  \n1_4             0.792342  \n1_5             2.786345  \n...                  ...  \n2_33           -0.174805  \n2_34           -0.412796  \n2_35           20.617815  \n2_36           23.727673  \n2_37            7.330822  \n\n[74 rows x 5 columns]",
      "text/html": "<div>\n<style scoped>\n    .dataframe tbody tr th:only-of-type {\n        vertical-align: middle;\n    }\n\n    .dataframe tbody tr th {\n        vertical-align: top;\n    }\n\n    .dataframe thead th {\n        text-align: right;\n    }\n</style>\n<table border=\"1\" class=\"dataframe\">\n  <thead>\n    <tr style=\"text-align: right;\">\n      <th></th>\n      <th>sac_length_min</th>\n      <th>sac_length_max</th>\n      <th>sac_length_max_shift</th>\n      <th>sac_speed_mean</th>\n      <th>sac_speed_kurtosis</th>\n    </tr>\n  </thead>\n  <tbody>\n    <tr>\n      <th>1_1</th>\n      <td>0.002657</td>\n      <td>0.433486</td>\n      <td>-0.008934</td>\n      <td>3.354343</td>\n      <td>5.209396</td>\n    </tr>\n    <tr>\n      <th>1_2</th>\n      <td>0.003757</td>\n      <td>0.321837</td>\n      <td>-0.127119</td>\n      <td>2.790059</td>\n      <td>1.062294</td>\n    </tr>\n    <tr>\n      <th>1_3</th>\n      <td>0.003663</td>\n      <td>0.365776</td>\n      <td>-0.207636</td>\n      <td>2.859377</td>\n      <td>3.861619</td>\n    </tr>\n    <tr>\n      <th>1_4</th>\n      <td>0.000212</td>\n      <td>0.342315</td>\n      <td>-0.362239</td>\n      <td>2.753961</td>\n      <td>0.792342</td>\n    </tr>\n    <tr>\n      <th>1_5</th>\n      <td>0.002705</td>\n      <td>0.375434</td>\n      <td>-0.094030</td>\n      <td>2.631501</td>\n      <td>2.786345</td>\n    </tr>\n    <tr>\n      <th>...</th>\n      <td>...</td>\n      <td>...</td>\n      <td>...</td>\n      <td>...</td>\n      <td>...</td>\n    </tr>\n    <tr>\n      <th>2_33</th>\n      <td>0.001920</td>\n      <td>0.406550</td>\n      <td>0.000000</td>\n      <td>2.544267</td>\n      <td>-0.174805</td>\n    </tr>\n    <tr>\n      <th>2_34</th>\n      <td>0.007928</td>\n      <td>0.354386</td>\n      <td>-0.260736</td>\n      <td>2.776038</td>\n      <td>-0.412796</td>\n    </tr>\n    <tr>\n      <th>2_35</th>\n      <td>0.002170</td>\n      <td>1.269198</td>\n      <td>0.000000</td>\n      <td>3.458571</td>\n      <td>20.617815</td>\n    </tr>\n    <tr>\n      <th>2_36</th>\n      <td>0.002196</td>\n      <td>1.124204</td>\n      <td>0.000000</td>\n      <td>3.228725</td>\n      <td>23.727673</td>\n    </tr>\n    <tr>\n      <th>2_37</th>\n      <td>0.002151</td>\n      <td>0.772169</td>\n      <td>0.000000</td>\n      <td>2.929986</td>\n      <td>7.330822</td>\n    </tr>\n  </tbody>\n</table>\n<p>74 rows × 5 columns</p>\n</div>"
     },
     "execution_count": 5,
     "metadata": {},
     "output_type": "execute_result"
    }
   ],
   "source": [
    "extractor.fit_transform(data)"
   ],
   "metadata": {
    "collapsed": false
   }
  },
  {
   "cell_type": "code",
   "execution_count": 5,
   "outputs": [],
   "source": [],
   "metadata": {
    "collapsed": false
   }
  }
 ],
 "metadata": {
  "kernelspec": {
   "display_name": "Python 3",
   "language": "python",
   "name": "python3"
  },
  "language_info": {
   "codemirror_mode": {
    "name": "ipython",
    "version": 2
   },
   "file_extension": ".py",
   "mimetype": "text/x-python",
   "name": "python",
   "nbconvert_exporter": "python",
   "pygments_lexer": "ipython2",
   "version": "2.7.6"
  }
 },
 "nbformat": 4,
 "nbformat_minor": 0
}
