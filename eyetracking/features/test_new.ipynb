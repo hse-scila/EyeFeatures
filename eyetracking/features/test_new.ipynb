{
 "cells": [
  {
   "cell_type": "code",
   "execution_count": 1,
   "metadata": {
    "collapsed": true
   },
   "outputs": [],
   "source": [
    "import pandas as pd\n",
    "import numpy as np\n",
    "\n",
    "from stats import SaccadeFeatures, FixationFeatures, RegressionFeatures, MicroSaccades\n",
    "from extractor import Extractor"
   ]
  },
  {
   "cell_type": "code",
   "execution_count": 2,
   "outputs": [],
   "source": [
    "data = pd.concat([pd.read_excel('itog_fix_1.xlsx'), pd.read_excel('itog_fix_2.xlsx')], axis=0)"
   ],
   "metadata": {
    "collapsed": false
   }
  },
  {
   "cell_type": "code",
   "execution_count": 3,
   "outputs": [],
   "source": [
    "data['AOI'] = 'aoi_1'\n",
    "\n",
    "for i in data.index[:100]:\n",
    "    data.loc[i, 'AOI'] = 'aoi_2'"
   ],
   "metadata": {
    "collapsed": false
   }
  },
  {
   "cell_type": "code",
   "execution_count": 4,
   "outputs": [
    {
     "data": {
      "text/plain": "AOI\naoi_1    8337\naoi_2     200\nName: count, dtype: int64"
     },
     "execution_count": 4,
     "metadata": {},
     "output_type": "execute_result"
    }
   ],
   "source": [
    "data['AOI'].value_counts()"
   ],
   "metadata": {
    "collapsed": false
   }
  },
  {
   "cell_type": "code",
   "execution_count": 5,
   "outputs": [],
   "source": [
    "x = 'norm_pos_x'\n",
    "y = 'norm_pos_y'\n",
    "t = 'start_timestamp'\n",
    "dur = 'duration'\n",
    "dis = 'dispersion'\n",
    "\n",
    "\n",
    "sac_feats_stats = {\n",
    "    'length': ['min', 'max'],\n",
    "    'speed': ['mean', 'kurtosis']\n",
    "}\n",
    "sac_feats_stats_shift = {'length': ['max']}\n",
    "\n",
    "sf = SaccadeFeatures(x=x, y=y, t=t,\n",
    "                     pk=['Participant', 'tekst'],\n",
    "                     aoi='AOI',\n",
    "                     features_stats=sac_feats_stats,\n",
    "                     shift_features=sac_feats_stats_shift,\n",
    "                     shift_pk=['tekst'])\n",
    "\n",
    "\n",
    "fix_feats_stats = {'duration': ['sum'], 'vad': ['mean']}\n",
    "\n",
    "fx = FixationFeatures(duration=dur, dispersion=dis,\n",
    "                     pk=['Participant', 'tekst'],\n",
    "                     aoi='AOI',\n",
    "                     features_stats=fix_feats_stats,\n",
    "                     shift_pk=['Participant'])\n",
    "\n",
    "rg = RegressionFeatures(x=x, y=y, t=t, duration=dur,\n",
    "                        pk=['Participant', 'tekst'],\n",
    "                        aoi='AOI',\n",
    "                        features_stats=sac_feats_stats,\n",
    "                        shift_features=sac_feats_stats_shift,\n",
    "                        shift_pk=['tekst'],\n",
    "                        rule=[1, 3])\n",
    "\n",
    "ms = MicroSaccades(x=x, y=y, t=t, dispersion=dis,\n",
    "                   pk=['Participant', 'tekst'],\n",
    "                   aoi='AOI',\n",
    "                   features_stats=sac_feats_stats,\n",
    "                   shift_features=sac_feats_stats_shift,\n",
    "                   shift_pk=['tekst'],\n",
    "                   min_dispersion=0.01,\n",
    "                   max_speed=0.2)\n",
    "\n",
    "features = [\n",
    "    SaccadeFeatures(features_stats=sac_feats_stats,\n",
    "                    shift_features=sac_feats_stats_shift,\n",
    "                    shift_pk=['tekst']),\n",
    "    FixationFeatures(features_stats=fix_feats_stats,\n",
    "                     shift_pk=['Participant']),\n",
    "    RegressionFeatures(features_stats=sac_feats_stats,\n",
    "                       shift_features=sac_feats_stats_shift,\n",
    "                       shift_pk=['tekst'],\n",
    "                       rule=[1, 3]),\n",
    "    MicroSaccades(features_stats=sac_feats_stats,\n",
    "                  shift_features=sac_feats_stats_shift,\n",
    "                  shift_pk=['Participant'],\n",
    "                  min_dispersion=0.001,\n",
    "                  max_speed=0.5)\n",
    "]\n",
    "\n",
    "extractor = Extractor(features=features, x=x, y=y, t=t, duration=dur, dispersion=dis,\n",
    "                      aoi='AOI',\n",
    "                      pk=['Participant', 'tekst'],\n",
    "                      return_df=True)"
   ],
   "metadata": {
    "collapsed": false
   }
  },
  {
   "cell_type": "code",
   "execution_count": 6,
   "outputs": [
    {
     "data": {
      "text/plain": "      sac_length_aoi_2_min  sac_length_aoi_2_max  sac_speed_aoi_2_mean  \\\n1_1               0.002657              0.424023               0.51102   \n1_2                    NaN                   NaN                   NaN   \n1_3                    NaN                   NaN                   NaN   \n1_4                    NaN                   NaN                   NaN   \n1_5                    NaN                   NaN                   NaN   \n...                    ...                   ...                   ...   \n2_33                   NaN                   NaN                   NaN   \n2_34                   NaN                   NaN                   NaN   \n2_35                   NaN                   NaN                   NaN   \n2_36                   NaN                   NaN                   NaN   \n2_37                   NaN                   NaN                   NaN   \n\n      sac_speed_aoi_2_kurtosis  sac_length_aoi_1_min  sac_length_aoi_1_max  \\\n1_1                   4.654478              0.008326              0.433486   \n1_2                        NaN              0.003757              0.321837   \n1_3                        NaN              0.003663              0.365776   \n1_4                        NaN              0.000212              0.342315   \n1_5                        NaN              0.002705              0.375434   \n...                        ...                   ...                   ...   \n2_33                       NaN              0.001920              0.406550   \n2_34                       NaN              0.007928              0.354386   \n2_35                       NaN              0.002170              1.269198   \n2_36                       NaN              0.002196              1.124204   \n2_37                       NaN              0.002151              0.772169   \n\n      sac_speed_aoi_1_mean  sac_speed_aoi_1_kurtosis  \n1_1               0.462297                  7.446538  \n1_2               0.451773                  8.356764  \n1_3               0.390753                  7.639049  \n1_4               0.333495                  9.593384  \n1_5               0.360223                  9.717641  \n...                    ...                       ...  \n2_33              0.264515                 10.235914  \n2_34              0.298396                  9.732734  \n2_35              0.623824                 45.476927  \n2_36              0.443600                 10.414252  \n2_37              0.457776                 25.881450  \n\n[74 rows x 8 columns]",
      "text/html": "<div>\n<style scoped>\n    .dataframe tbody tr th:only-of-type {\n        vertical-align: middle;\n    }\n\n    .dataframe tbody tr th {\n        vertical-align: top;\n    }\n\n    .dataframe thead th {\n        text-align: right;\n    }\n</style>\n<table border=\"1\" class=\"dataframe\">\n  <thead>\n    <tr style=\"text-align: right;\">\n      <th></th>\n      <th>sac_length_aoi_2_min</th>\n      <th>sac_length_aoi_2_max</th>\n      <th>sac_speed_aoi_2_mean</th>\n      <th>sac_speed_aoi_2_kurtosis</th>\n      <th>sac_length_aoi_1_min</th>\n      <th>sac_length_aoi_1_max</th>\n      <th>sac_speed_aoi_1_mean</th>\n      <th>sac_speed_aoi_1_kurtosis</th>\n    </tr>\n  </thead>\n  <tbody>\n    <tr>\n      <th>1_1</th>\n      <td>0.002657</td>\n      <td>0.424023</td>\n      <td>0.51102</td>\n      <td>4.654478</td>\n      <td>0.008326</td>\n      <td>0.433486</td>\n      <td>0.462297</td>\n      <td>7.446538</td>\n    </tr>\n    <tr>\n      <th>1_2</th>\n      <td>NaN</td>\n      <td>NaN</td>\n      <td>NaN</td>\n      <td>NaN</td>\n      <td>0.003757</td>\n      <td>0.321837</td>\n      <td>0.451773</td>\n      <td>8.356764</td>\n    </tr>\n    <tr>\n      <th>1_3</th>\n      <td>NaN</td>\n      <td>NaN</td>\n      <td>NaN</td>\n      <td>NaN</td>\n      <td>0.003663</td>\n      <td>0.365776</td>\n      <td>0.390753</td>\n      <td>7.639049</td>\n    </tr>\n    <tr>\n      <th>1_4</th>\n      <td>NaN</td>\n      <td>NaN</td>\n      <td>NaN</td>\n      <td>NaN</td>\n      <td>0.000212</td>\n      <td>0.342315</td>\n      <td>0.333495</td>\n      <td>9.593384</td>\n    </tr>\n    <tr>\n      <th>1_5</th>\n      <td>NaN</td>\n      <td>NaN</td>\n      <td>NaN</td>\n      <td>NaN</td>\n      <td>0.002705</td>\n      <td>0.375434</td>\n      <td>0.360223</td>\n      <td>9.717641</td>\n    </tr>\n    <tr>\n      <th>...</th>\n      <td>...</td>\n      <td>...</td>\n      <td>...</td>\n      <td>...</td>\n      <td>...</td>\n      <td>...</td>\n      <td>...</td>\n      <td>...</td>\n    </tr>\n    <tr>\n      <th>2_33</th>\n      <td>NaN</td>\n      <td>NaN</td>\n      <td>NaN</td>\n      <td>NaN</td>\n      <td>0.001920</td>\n      <td>0.406550</td>\n      <td>0.264515</td>\n      <td>10.235914</td>\n    </tr>\n    <tr>\n      <th>2_34</th>\n      <td>NaN</td>\n      <td>NaN</td>\n      <td>NaN</td>\n      <td>NaN</td>\n      <td>0.007928</td>\n      <td>0.354386</td>\n      <td>0.298396</td>\n      <td>9.732734</td>\n    </tr>\n    <tr>\n      <th>2_35</th>\n      <td>NaN</td>\n      <td>NaN</td>\n      <td>NaN</td>\n      <td>NaN</td>\n      <td>0.002170</td>\n      <td>1.269198</td>\n      <td>0.623824</td>\n      <td>45.476927</td>\n    </tr>\n    <tr>\n      <th>2_36</th>\n      <td>NaN</td>\n      <td>NaN</td>\n      <td>NaN</td>\n      <td>NaN</td>\n      <td>0.002196</td>\n      <td>1.124204</td>\n      <td>0.443600</td>\n      <td>10.414252</td>\n    </tr>\n    <tr>\n      <th>2_37</th>\n      <td>NaN</td>\n      <td>NaN</td>\n      <td>NaN</td>\n      <td>NaN</td>\n      <td>0.002151</td>\n      <td>0.772169</td>\n      <td>0.457776</td>\n      <td>25.881450</td>\n    </tr>\n  </tbody>\n</table>\n<p>74 rows × 8 columns</p>\n</div>"
     },
     "execution_count": 6,
     "metadata": {},
     "output_type": "execute_result"
    }
   ],
   "source": [
    "sf.fit_transform(data)"
   ],
   "metadata": {
    "collapsed": false
   }
  },
  {
   "cell_type": "code",
   "execution_count": 7,
   "outputs": [
    {
     "data": {
      "text/plain": "      fix_duration_aoi_2_sum  fix_vad_aoi_2_mean  fix_duration_aoi_1_sum  \\\n1_1               16552.3725            1.065065              12077.5230   \n1_2                      NaN                 NaN              23782.7200   \n1_3                      NaN                 NaN              24793.8230   \n1_4                      NaN                 NaN              19138.9175   \n1_5                      NaN                 NaN              28518.7630   \n...                      ...                 ...                     ...   \n2_33                     NaN                 NaN              36502.3835   \n2_34                     NaN                 NaN              14716.0335   \n2_35                     NaN                 NaN              22352.4835   \n2_36                     NaN                 NaN              16712.6670   \n2_37                     NaN                 NaN              19125.3225   \n\n      fix_vad_aoi_1_mean  \n1_1             1.172640  \n1_2             1.172197  \n1_3             1.168982  \n1_4             1.095467  \n1_5             1.188156  \n...                  ...  \n2_33            1.337461  \n2_34            1.336105  \n2_35            1.391464  \n2_36            1.336052  \n2_37            1.391052  \n\n[74 rows x 4 columns]",
      "text/html": "<div>\n<style scoped>\n    .dataframe tbody tr th:only-of-type {\n        vertical-align: middle;\n    }\n\n    .dataframe tbody tr th {\n        vertical-align: top;\n    }\n\n    .dataframe thead th {\n        text-align: right;\n    }\n</style>\n<table border=\"1\" class=\"dataframe\">\n  <thead>\n    <tr style=\"text-align: right;\">\n      <th></th>\n      <th>fix_duration_aoi_2_sum</th>\n      <th>fix_vad_aoi_2_mean</th>\n      <th>fix_duration_aoi_1_sum</th>\n      <th>fix_vad_aoi_1_mean</th>\n    </tr>\n  </thead>\n  <tbody>\n    <tr>\n      <th>1_1</th>\n      <td>16552.3725</td>\n      <td>1.065065</td>\n      <td>12077.5230</td>\n      <td>1.172640</td>\n    </tr>\n    <tr>\n      <th>1_2</th>\n      <td>NaN</td>\n      <td>NaN</td>\n      <td>23782.7200</td>\n      <td>1.172197</td>\n    </tr>\n    <tr>\n      <th>1_3</th>\n      <td>NaN</td>\n      <td>NaN</td>\n      <td>24793.8230</td>\n      <td>1.168982</td>\n    </tr>\n    <tr>\n      <th>1_4</th>\n      <td>NaN</td>\n      <td>NaN</td>\n      <td>19138.9175</td>\n      <td>1.095467</td>\n    </tr>\n    <tr>\n      <th>1_5</th>\n      <td>NaN</td>\n      <td>NaN</td>\n      <td>28518.7630</td>\n      <td>1.188156</td>\n    </tr>\n    <tr>\n      <th>...</th>\n      <td>...</td>\n      <td>...</td>\n      <td>...</td>\n      <td>...</td>\n    </tr>\n    <tr>\n      <th>2_33</th>\n      <td>NaN</td>\n      <td>NaN</td>\n      <td>36502.3835</td>\n      <td>1.337461</td>\n    </tr>\n    <tr>\n      <th>2_34</th>\n      <td>NaN</td>\n      <td>NaN</td>\n      <td>14716.0335</td>\n      <td>1.336105</td>\n    </tr>\n    <tr>\n      <th>2_35</th>\n      <td>NaN</td>\n      <td>NaN</td>\n      <td>22352.4835</td>\n      <td>1.391464</td>\n    </tr>\n    <tr>\n      <th>2_36</th>\n      <td>NaN</td>\n      <td>NaN</td>\n      <td>16712.6670</td>\n      <td>1.336052</td>\n    </tr>\n    <tr>\n      <th>2_37</th>\n      <td>NaN</td>\n      <td>NaN</td>\n      <td>19125.3225</td>\n      <td>1.391052</td>\n    </tr>\n  </tbody>\n</table>\n<p>74 rows × 4 columns</p>\n</div>"
     },
     "execution_count": 7,
     "metadata": {},
     "output_type": "execute_result"
    }
   ],
   "source": [
    "fx.fit_transform(data)"
   ],
   "metadata": {
    "collapsed": false
   }
  },
  {
   "cell_type": "code",
   "execution_count": 8,
   "outputs": [
    {
     "data": {
      "text/plain": "      reg_length_aoi_2_min  reg_length_aoi_2_max  reg_speed_aoi_2_mean  \\\n1_1               0.002657              0.420153              3.139555   \n1_2                    NaN                   NaN                   NaN   \n1_3                    NaN                   NaN                   NaN   \n1_4                    NaN                   NaN                   NaN   \n1_5                    NaN                   NaN                   NaN   \n...                    ...                   ...                   ...   \n2_33                   NaN                   NaN                   NaN   \n2_34                   NaN                   NaN                   NaN   \n2_35                   NaN                   NaN                   NaN   \n2_36                   NaN                   NaN                   NaN   \n2_37                   NaN                   NaN                   NaN   \n\n      reg_speed_aoi_2_kurtosis  reg_length_aoi_1_min  reg_length_aoi_1_max  \\\n1_1                   4.231287              0.008326              0.321095   \n1_2                        NaN              0.004125              0.321837   \n1_3                        NaN              0.003804              0.314083   \n1_4                        NaN              0.000212              0.281105   \n1_5                        NaN              0.002705              0.316023   \n...                        ...                   ...                   ...   \n2_33                       NaN              0.002023              0.406550   \n2_34                       NaN              0.007928              0.354386   \n2_35                       NaN              0.003259              1.269198   \n2_36                       NaN              0.002196              1.124204   \n2_37                       NaN              0.003441              0.772169   \n\n      reg_speed_aoi_1_mean  reg_speed_aoi_1_kurtosis  \n1_1               3.055376                 -0.279459  \n1_2               2.869121                  1.625288  \n1_3               2.732318                  1.471709  \n1_4               2.762991                  0.252346  \n1_5               2.719014                  1.029147  \n...                    ...                       ...  \n2_33              2.476327                  0.461699  \n2_34              2.762267                 -0.331693  \n2_35              3.644465                 17.099426  \n2_36              3.268739                 23.635736  \n2_37              3.187249                  6.469670  \n\n[74 rows x 8 columns]",
      "text/html": "<div>\n<style scoped>\n    .dataframe tbody tr th:only-of-type {\n        vertical-align: middle;\n    }\n\n    .dataframe tbody tr th {\n        vertical-align: top;\n    }\n\n    .dataframe thead th {\n        text-align: right;\n    }\n</style>\n<table border=\"1\" class=\"dataframe\">\n  <thead>\n    <tr style=\"text-align: right;\">\n      <th></th>\n      <th>reg_length_aoi_2_min</th>\n      <th>reg_length_aoi_2_max</th>\n      <th>reg_speed_aoi_2_mean</th>\n      <th>reg_speed_aoi_2_kurtosis</th>\n      <th>reg_length_aoi_1_min</th>\n      <th>reg_length_aoi_1_max</th>\n      <th>reg_speed_aoi_1_mean</th>\n      <th>reg_speed_aoi_1_kurtosis</th>\n    </tr>\n  </thead>\n  <tbody>\n    <tr>\n      <th>1_1</th>\n      <td>0.002657</td>\n      <td>0.420153</td>\n      <td>3.139555</td>\n      <td>4.231287</td>\n      <td>0.008326</td>\n      <td>0.321095</td>\n      <td>3.055376</td>\n      <td>-0.279459</td>\n    </tr>\n    <tr>\n      <th>1_2</th>\n      <td>NaN</td>\n      <td>NaN</td>\n      <td>NaN</td>\n      <td>NaN</td>\n      <td>0.004125</td>\n      <td>0.321837</td>\n      <td>2.869121</td>\n      <td>1.625288</td>\n    </tr>\n    <tr>\n      <th>1_3</th>\n      <td>NaN</td>\n      <td>NaN</td>\n      <td>NaN</td>\n      <td>NaN</td>\n      <td>0.003804</td>\n      <td>0.314083</td>\n      <td>2.732318</td>\n      <td>1.471709</td>\n    </tr>\n    <tr>\n      <th>1_4</th>\n      <td>NaN</td>\n      <td>NaN</td>\n      <td>NaN</td>\n      <td>NaN</td>\n      <td>0.000212</td>\n      <td>0.281105</td>\n      <td>2.762991</td>\n      <td>0.252346</td>\n    </tr>\n    <tr>\n      <th>1_5</th>\n      <td>NaN</td>\n      <td>NaN</td>\n      <td>NaN</td>\n      <td>NaN</td>\n      <td>0.002705</td>\n      <td>0.316023</td>\n      <td>2.719014</td>\n      <td>1.029147</td>\n    </tr>\n    <tr>\n      <th>...</th>\n      <td>...</td>\n      <td>...</td>\n      <td>...</td>\n      <td>...</td>\n      <td>...</td>\n      <td>...</td>\n      <td>...</td>\n      <td>...</td>\n    </tr>\n    <tr>\n      <th>2_33</th>\n      <td>NaN</td>\n      <td>NaN</td>\n      <td>NaN</td>\n      <td>NaN</td>\n      <td>0.002023</td>\n      <td>0.406550</td>\n      <td>2.476327</td>\n      <td>0.461699</td>\n    </tr>\n    <tr>\n      <th>2_34</th>\n      <td>NaN</td>\n      <td>NaN</td>\n      <td>NaN</td>\n      <td>NaN</td>\n      <td>0.007928</td>\n      <td>0.354386</td>\n      <td>2.762267</td>\n      <td>-0.331693</td>\n    </tr>\n    <tr>\n      <th>2_35</th>\n      <td>NaN</td>\n      <td>NaN</td>\n      <td>NaN</td>\n      <td>NaN</td>\n      <td>0.003259</td>\n      <td>1.269198</td>\n      <td>3.644465</td>\n      <td>17.099426</td>\n    </tr>\n    <tr>\n      <th>2_36</th>\n      <td>NaN</td>\n      <td>NaN</td>\n      <td>NaN</td>\n      <td>NaN</td>\n      <td>0.002196</td>\n      <td>1.124204</td>\n      <td>3.268739</td>\n      <td>23.635736</td>\n    </tr>\n    <tr>\n      <th>2_37</th>\n      <td>NaN</td>\n      <td>NaN</td>\n      <td>NaN</td>\n      <td>NaN</td>\n      <td>0.003441</td>\n      <td>0.772169</td>\n      <td>3.187249</td>\n      <td>6.469670</td>\n    </tr>\n  </tbody>\n</table>\n<p>74 rows × 8 columns</p>\n</div>"
     },
     "execution_count": 8,
     "metadata": {},
     "output_type": "execute_result"
    }
   ],
   "source": [
    "rg.fit_transform(data)"
   ],
   "metadata": {
    "collapsed": false
   }
  },
  {
   "cell_type": "code",
   "execution_count": 9,
   "outputs": [
    {
     "data": {
      "text/plain": "      microsac_length_aoi_2_min  microsac_length_aoi_2_max  \\\n1_1                    0.002657                    0.19815   \n1_2                         NaN                        NaN   \n1_3                         NaN                        NaN   \n1_4                         NaN                        NaN   \n1_5                         NaN                        NaN   \n...                         ...                        ...   \n2_33                        NaN                        NaN   \n2_34                        NaN                        NaN   \n2_35                        NaN                        NaN   \n2_36                        NaN                        NaN   \n2_37                        NaN                        NaN   \n\n      microsac_speed_aoi_2_mean  microsac_speed_aoi_2_kurtosis  \\\n1_1                    0.318243                       3.473176   \n1_2                         NaN                            NaN   \n1_3                         NaN                            NaN   \n1_4                         NaN                            NaN   \n1_5                         NaN                            NaN   \n...                         ...                            ...   \n2_33                        NaN                            NaN   \n2_34                        NaN                            NaN   \n2_35                        NaN                            NaN   \n2_36                        NaN                            NaN   \n2_37                        NaN                            NaN   \n\n      microsac_length_aoi_1_min  microsac_length_aoi_1_max  \\\n1_1                    0.008326                   0.187425   \n1_2                    0.003757                   0.188145   \n1_3                    0.003663                   0.185019   \n1_4                    0.000212                   0.179726   \n1_5                    0.002705                   0.192296   \n...                         ...                        ...   \n2_33                   0.001920                   0.181661   \n2_34                   0.007928                   0.175951   \n2_35                   0.002170                   0.180431   \n2_36                   0.002196                   0.166901   \n2_37                   0.002151                   0.196893   \n\n      microsac_speed_aoi_1_mean  microsac_speed_aoi_1_kurtosis  \n1_1                    0.328020                       3.106648  \n1_2                    0.310458                       0.637187  \n1_3                    0.264054                       8.253995  \n1_4                    0.244003                       5.891071  \n1_5                    0.283881                       8.444399  \n...                         ...                            ...  \n2_33                   0.215188                      12.018259  \n2_34                   0.200053                      13.810400  \n2_35                   0.308163                       5.127380  \n2_36                   0.302435                       5.973804  \n2_37                   0.305880                       5.385620  \n\n[74 rows x 8 columns]",
      "text/html": "<div>\n<style scoped>\n    .dataframe tbody tr th:only-of-type {\n        vertical-align: middle;\n    }\n\n    .dataframe tbody tr th {\n        vertical-align: top;\n    }\n\n    .dataframe thead th {\n        text-align: right;\n    }\n</style>\n<table border=\"1\" class=\"dataframe\">\n  <thead>\n    <tr style=\"text-align: right;\">\n      <th></th>\n      <th>microsac_length_aoi_2_min</th>\n      <th>microsac_length_aoi_2_max</th>\n      <th>microsac_speed_aoi_2_mean</th>\n      <th>microsac_speed_aoi_2_kurtosis</th>\n      <th>microsac_length_aoi_1_min</th>\n      <th>microsac_length_aoi_1_max</th>\n      <th>microsac_speed_aoi_1_mean</th>\n      <th>microsac_speed_aoi_1_kurtosis</th>\n    </tr>\n  </thead>\n  <tbody>\n    <tr>\n      <th>1_1</th>\n      <td>0.002657</td>\n      <td>0.19815</td>\n      <td>0.318243</td>\n      <td>3.473176</td>\n      <td>0.008326</td>\n      <td>0.187425</td>\n      <td>0.328020</td>\n      <td>3.106648</td>\n    </tr>\n    <tr>\n      <th>1_2</th>\n      <td>NaN</td>\n      <td>NaN</td>\n      <td>NaN</td>\n      <td>NaN</td>\n      <td>0.003757</td>\n      <td>0.188145</td>\n      <td>0.310458</td>\n      <td>0.637187</td>\n    </tr>\n    <tr>\n      <th>1_3</th>\n      <td>NaN</td>\n      <td>NaN</td>\n      <td>NaN</td>\n      <td>NaN</td>\n      <td>0.003663</td>\n      <td>0.185019</td>\n      <td>0.264054</td>\n      <td>8.253995</td>\n    </tr>\n    <tr>\n      <th>1_4</th>\n      <td>NaN</td>\n      <td>NaN</td>\n      <td>NaN</td>\n      <td>NaN</td>\n      <td>0.000212</td>\n      <td>0.179726</td>\n      <td>0.244003</td>\n      <td>5.891071</td>\n    </tr>\n    <tr>\n      <th>1_5</th>\n      <td>NaN</td>\n      <td>NaN</td>\n      <td>NaN</td>\n      <td>NaN</td>\n      <td>0.002705</td>\n      <td>0.192296</td>\n      <td>0.283881</td>\n      <td>8.444399</td>\n    </tr>\n    <tr>\n      <th>...</th>\n      <td>...</td>\n      <td>...</td>\n      <td>...</td>\n      <td>...</td>\n      <td>...</td>\n      <td>...</td>\n      <td>...</td>\n      <td>...</td>\n    </tr>\n    <tr>\n      <th>2_33</th>\n      <td>NaN</td>\n      <td>NaN</td>\n      <td>NaN</td>\n      <td>NaN</td>\n      <td>0.001920</td>\n      <td>0.181661</td>\n      <td>0.215188</td>\n      <td>12.018259</td>\n    </tr>\n    <tr>\n      <th>2_34</th>\n      <td>NaN</td>\n      <td>NaN</td>\n      <td>NaN</td>\n      <td>NaN</td>\n      <td>0.007928</td>\n      <td>0.175951</td>\n      <td>0.200053</td>\n      <td>13.810400</td>\n    </tr>\n    <tr>\n      <th>2_35</th>\n      <td>NaN</td>\n      <td>NaN</td>\n      <td>NaN</td>\n      <td>NaN</td>\n      <td>0.002170</td>\n      <td>0.180431</td>\n      <td>0.308163</td>\n      <td>5.127380</td>\n    </tr>\n    <tr>\n      <th>2_36</th>\n      <td>NaN</td>\n      <td>NaN</td>\n      <td>NaN</td>\n      <td>NaN</td>\n      <td>0.002196</td>\n      <td>0.166901</td>\n      <td>0.302435</td>\n      <td>5.973804</td>\n    </tr>\n    <tr>\n      <th>2_37</th>\n      <td>NaN</td>\n      <td>NaN</td>\n      <td>NaN</td>\n      <td>NaN</td>\n      <td>0.002151</td>\n      <td>0.196893</td>\n      <td>0.305880</td>\n      <td>5.385620</td>\n    </tr>\n  </tbody>\n</table>\n<p>74 rows × 8 columns</p>\n</div>"
     },
     "execution_count": 9,
     "metadata": {},
     "output_type": "execute_result"
    }
   ],
   "source": [
    "ms.fit_transform(data)"
   ],
   "metadata": {
    "collapsed": false
   }
  },
  {
   "cell_type": "code",
   "execution_count": 10,
   "outputs": [
    {
     "data": {
      "text/plain": "      sac_length_aoi_2_min  sac_length_aoi_2_max  sac_speed_aoi_2_mean  \\\n1_1               0.002657              0.424023              3.327922   \n1_2                    NaN                   NaN                   NaN   \n1_3                    NaN                   NaN                   NaN   \n1_4                    NaN                   NaN                   NaN   \n1_5                    NaN                   NaN                   NaN   \n...                    ...                   ...                   ...   \n2_33                   NaN                   NaN                   NaN   \n2_34                   NaN                   NaN                   NaN   \n2_35                   NaN                   NaN                   NaN   \n2_36                   NaN                   NaN                   NaN   \n2_37                   NaN                   NaN                   NaN   \n\n      sac_speed_aoi_2_kurtosis  sac_length_aoi_1_min  sac_length_aoi_1_max  \\\n1_1                   4.337079              0.008326              0.433486   \n1_2                        NaN              0.003757              0.321837   \n1_3                        NaN              0.003663              0.365776   \n1_4                        NaN              0.000212              0.342315   \n1_5                        NaN              0.002705              0.375434   \n...                        ...                   ...                   ...   \n2_33                       NaN              0.001920              0.406550   \n2_34                       NaN              0.007928              0.354386   \n2_35                       NaN              0.002170              1.269198   \n2_36                       NaN              0.002196              1.124204   \n2_37                       NaN              0.002151              0.772169   \n\n      sac_speed_aoi_1_mean  sac_speed_aoi_1_kurtosis  fix_duration_aoi_2_sum  \\\n1_1               3.406292                  6.779154              16552.3725   \n1_2               2.790059                  1.062294                     NaN   \n1_3               2.859377                  3.861619                     NaN   \n1_4               2.753961                  0.792342                     NaN   \n1_5               2.631501                  2.786345                     NaN   \n...                    ...                       ...                     ...   \n2_33              2.544267                 -0.174805                     NaN   \n2_34              2.776038                 -0.412796                     NaN   \n2_35              3.458571                 20.617815                     NaN   \n2_36              3.228725                 23.727673                     NaN   \n2_37              2.929986                  7.330822                     NaN   \n\n      fix_vad_aoi_2_mean  ...  reg_speed_aoi_1_mean  reg_speed_aoi_1_kurtosis  \\\n1_1             1.065065  ...              3.055376                 -0.279459   \n1_2                  NaN  ...              2.869121                  1.625288   \n1_3                  NaN  ...              2.732318                  1.471709   \n1_4                  NaN  ...              2.762991                  0.252346   \n1_5                  NaN  ...              2.719014                  1.029147   \n...                  ...  ...                   ...                       ...   \n2_33                 NaN  ...              2.476327                  0.461699   \n2_34                 NaN  ...              2.762267                 -0.331693   \n2_35                 NaN  ...              3.644465                 17.099426   \n2_36                 NaN  ...              3.268739                 23.635736   \n2_37                 NaN  ...              3.187249                  6.469670   \n\n      microsac_length_aoi_2_min  microsac_length_aoi_2_max  \\\n1_1                    0.002657                   0.424023   \n1_2                         NaN                        NaN   \n1_3                         NaN                        NaN   \n1_4                         NaN                        NaN   \n1_5                         NaN                        NaN   \n...                         ...                        ...   \n2_33                        NaN                        NaN   \n2_34                        NaN                        NaN   \n2_35                        NaN                        NaN   \n2_36                        NaN                        NaN   \n2_37                        NaN                        NaN   \n\n      microsac_speed_aoi_2_mean  microsac_speed_aoi_2_kurtosis  \\\n1_1                    3.327922                       4.337079   \n1_2                         NaN                            NaN   \n1_3                         NaN                            NaN   \n1_4                         NaN                            NaN   \n1_5                         NaN                            NaN   \n...                         ...                            ...   \n2_33                        NaN                            NaN   \n2_34                        NaN                            NaN   \n2_35                        NaN                            NaN   \n2_36                        NaN                            NaN   \n2_37                        NaN                            NaN   \n\n      microsac_length_aoi_1_min  microsac_length_aoi_1_max  \\\n1_1                    0.008326                   0.433486   \n1_2                    0.003757                   0.321837   \n1_3                    0.003663                   0.365776   \n1_4                    0.000212                   0.342315   \n1_5                    0.002705                   0.375434   \n...                         ...                        ...   \n2_33                   0.001920                   0.406550   \n2_34                   0.007928                   0.354386   \n2_35                   0.002170                   0.491587   \n2_36                   0.002196                   0.363629   \n2_37                   0.002151                   0.486693   \n\n      microsac_speed_aoi_1_mean  microsac_speed_aoi_1_kurtosis  \n1_1                    3.406292                       6.779154  \n1_2                    2.790059                       1.062294  \n1_3                    2.859377                       3.861619  \n1_4                    2.753961                       0.792342  \n1_5                    2.631501                       2.786345  \n...                         ...                            ...  \n2_33                   2.544267                      -0.174805  \n2_34                   2.776038                      -0.412796  \n2_35                   2.835088                      14.451893  \n2_36                   2.944093                       7.320033  \n2_37                   2.649104                       4.179260  \n\n[74 rows x 28 columns]",
      "text/html": "<div>\n<style scoped>\n    .dataframe tbody tr th:only-of-type {\n        vertical-align: middle;\n    }\n\n    .dataframe tbody tr th {\n        vertical-align: top;\n    }\n\n    .dataframe thead th {\n        text-align: right;\n    }\n</style>\n<table border=\"1\" class=\"dataframe\">\n  <thead>\n    <tr style=\"text-align: right;\">\n      <th></th>\n      <th>sac_length_aoi_2_min</th>\n      <th>sac_length_aoi_2_max</th>\n      <th>sac_speed_aoi_2_mean</th>\n      <th>sac_speed_aoi_2_kurtosis</th>\n      <th>sac_length_aoi_1_min</th>\n      <th>sac_length_aoi_1_max</th>\n      <th>sac_speed_aoi_1_mean</th>\n      <th>sac_speed_aoi_1_kurtosis</th>\n      <th>fix_duration_aoi_2_sum</th>\n      <th>fix_vad_aoi_2_mean</th>\n      <th>...</th>\n      <th>reg_speed_aoi_1_mean</th>\n      <th>reg_speed_aoi_1_kurtosis</th>\n      <th>microsac_length_aoi_2_min</th>\n      <th>microsac_length_aoi_2_max</th>\n      <th>microsac_speed_aoi_2_mean</th>\n      <th>microsac_speed_aoi_2_kurtosis</th>\n      <th>microsac_length_aoi_1_min</th>\n      <th>microsac_length_aoi_1_max</th>\n      <th>microsac_speed_aoi_1_mean</th>\n      <th>microsac_speed_aoi_1_kurtosis</th>\n    </tr>\n  </thead>\n  <tbody>\n    <tr>\n      <th>1_1</th>\n      <td>0.002657</td>\n      <td>0.424023</td>\n      <td>3.327922</td>\n      <td>4.337079</td>\n      <td>0.008326</td>\n      <td>0.433486</td>\n      <td>3.406292</td>\n      <td>6.779154</td>\n      <td>16552.3725</td>\n      <td>1.065065</td>\n      <td>...</td>\n      <td>3.055376</td>\n      <td>-0.279459</td>\n      <td>0.002657</td>\n      <td>0.424023</td>\n      <td>3.327922</td>\n      <td>4.337079</td>\n      <td>0.008326</td>\n      <td>0.433486</td>\n      <td>3.406292</td>\n      <td>6.779154</td>\n    </tr>\n    <tr>\n      <th>1_2</th>\n      <td>NaN</td>\n      <td>NaN</td>\n      <td>NaN</td>\n      <td>NaN</td>\n      <td>0.003757</td>\n      <td>0.321837</td>\n      <td>2.790059</td>\n      <td>1.062294</td>\n      <td>NaN</td>\n      <td>NaN</td>\n      <td>...</td>\n      <td>2.869121</td>\n      <td>1.625288</td>\n      <td>NaN</td>\n      <td>NaN</td>\n      <td>NaN</td>\n      <td>NaN</td>\n      <td>0.003757</td>\n      <td>0.321837</td>\n      <td>2.790059</td>\n      <td>1.062294</td>\n    </tr>\n    <tr>\n      <th>1_3</th>\n      <td>NaN</td>\n      <td>NaN</td>\n      <td>NaN</td>\n      <td>NaN</td>\n      <td>0.003663</td>\n      <td>0.365776</td>\n      <td>2.859377</td>\n      <td>3.861619</td>\n      <td>NaN</td>\n      <td>NaN</td>\n      <td>...</td>\n      <td>2.732318</td>\n      <td>1.471709</td>\n      <td>NaN</td>\n      <td>NaN</td>\n      <td>NaN</td>\n      <td>NaN</td>\n      <td>0.003663</td>\n      <td>0.365776</td>\n      <td>2.859377</td>\n      <td>3.861619</td>\n    </tr>\n    <tr>\n      <th>1_4</th>\n      <td>NaN</td>\n      <td>NaN</td>\n      <td>NaN</td>\n      <td>NaN</td>\n      <td>0.000212</td>\n      <td>0.342315</td>\n      <td>2.753961</td>\n      <td>0.792342</td>\n      <td>NaN</td>\n      <td>NaN</td>\n      <td>...</td>\n      <td>2.762991</td>\n      <td>0.252346</td>\n      <td>NaN</td>\n      <td>NaN</td>\n      <td>NaN</td>\n      <td>NaN</td>\n      <td>0.000212</td>\n      <td>0.342315</td>\n      <td>2.753961</td>\n      <td>0.792342</td>\n    </tr>\n    <tr>\n      <th>1_5</th>\n      <td>NaN</td>\n      <td>NaN</td>\n      <td>NaN</td>\n      <td>NaN</td>\n      <td>0.002705</td>\n      <td>0.375434</td>\n      <td>2.631501</td>\n      <td>2.786345</td>\n      <td>NaN</td>\n      <td>NaN</td>\n      <td>...</td>\n      <td>2.719014</td>\n      <td>1.029147</td>\n      <td>NaN</td>\n      <td>NaN</td>\n      <td>NaN</td>\n      <td>NaN</td>\n      <td>0.002705</td>\n      <td>0.375434</td>\n      <td>2.631501</td>\n      <td>2.786345</td>\n    </tr>\n    <tr>\n      <th>...</th>\n      <td>...</td>\n      <td>...</td>\n      <td>...</td>\n      <td>...</td>\n      <td>...</td>\n      <td>...</td>\n      <td>...</td>\n      <td>...</td>\n      <td>...</td>\n      <td>...</td>\n      <td>...</td>\n      <td>...</td>\n      <td>...</td>\n      <td>...</td>\n      <td>...</td>\n      <td>...</td>\n      <td>...</td>\n      <td>...</td>\n      <td>...</td>\n      <td>...</td>\n      <td>...</td>\n    </tr>\n    <tr>\n      <th>2_33</th>\n      <td>NaN</td>\n      <td>NaN</td>\n      <td>NaN</td>\n      <td>NaN</td>\n      <td>0.001920</td>\n      <td>0.406550</td>\n      <td>2.544267</td>\n      <td>-0.174805</td>\n      <td>NaN</td>\n      <td>NaN</td>\n      <td>...</td>\n      <td>2.476327</td>\n      <td>0.461699</td>\n      <td>NaN</td>\n      <td>NaN</td>\n      <td>NaN</td>\n      <td>NaN</td>\n      <td>0.001920</td>\n      <td>0.406550</td>\n      <td>2.544267</td>\n      <td>-0.174805</td>\n    </tr>\n    <tr>\n      <th>2_34</th>\n      <td>NaN</td>\n      <td>NaN</td>\n      <td>NaN</td>\n      <td>NaN</td>\n      <td>0.007928</td>\n      <td>0.354386</td>\n      <td>2.776038</td>\n      <td>-0.412796</td>\n      <td>NaN</td>\n      <td>NaN</td>\n      <td>...</td>\n      <td>2.762267</td>\n      <td>-0.331693</td>\n      <td>NaN</td>\n      <td>NaN</td>\n      <td>NaN</td>\n      <td>NaN</td>\n      <td>0.007928</td>\n      <td>0.354386</td>\n      <td>2.776038</td>\n      <td>-0.412796</td>\n    </tr>\n    <tr>\n      <th>2_35</th>\n      <td>NaN</td>\n      <td>NaN</td>\n      <td>NaN</td>\n      <td>NaN</td>\n      <td>0.002170</td>\n      <td>1.269198</td>\n      <td>3.458571</td>\n      <td>20.617815</td>\n      <td>NaN</td>\n      <td>NaN</td>\n      <td>...</td>\n      <td>3.644465</td>\n      <td>17.099426</td>\n      <td>NaN</td>\n      <td>NaN</td>\n      <td>NaN</td>\n      <td>NaN</td>\n      <td>0.002170</td>\n      <td>0.491587</td>\n      <td>2.835088</td>\n      <td>14.451893</td>\n    </tr>\n    <tr>\n      <th>2_36</th>\n      <td>NaN</td>\n      <td>NaN</td>\n      <td>NaN</td>\n      <td>NaN</td>\n      <td>0.002196</td>\n      <td>1.124204</td>\n      <td>3.228725</td>\n      <td>23.727673</td>\n      <td>NaN</td>\n      <td>NaN</td>\n      <td>...</td>\n      <td>3.268739</td>\n      <td>23.635736</td>\n      <td>NaN</td>\n      <td>NaN</td>\n      <td>NaN</td>\n      <td>NaN</td>\n      <td>0.002196</td>\n      <td>0.363629</td>\n      <td>2.944093</td>\n      <td>7.320033</td>\n    </tr>\n    <tr>\n      <th>2_37</th>\n      <td>NaN</td>\n      <td>NaN</td>\n      <td>NaN</td>\n      <td>NaN</td>\n      <td>0.002151</td>\n      <td>0.772169</td>\n      <td>2.929986</td>\n      <td>7.330822</td>\n      <td>NaN</td>\n      <td>NaN</td>\n      <td>...</td>\n      <td>3.187249</td>\n      <td>6.469670</td>\n      <td>NaN</td>\n      <td>NaN</td>\n      <td>NaN</td>\n      <td>NaN</td>\n      <td>0.002151</td>\n      <td>0.486693</td>\n      <td>2.649104</td>\n      <td>4.179260</td>\n    </tr>\n  </tbody>\n</table>\n<p>74 rows × 28 columns</p>\n</div>"
     },
     "execution_count": 10,
     "metadata": {},
     "output_type": "execute_result"
    }
   ],
   "source": [
    "extractor.fit_transform(data)"
   ],
   "metadata": {
    "collapsed": false
   }
  }
 ],
 "metadata": {
  "kernelspec": {
   "display_name": "Python 3",
   "language": "python",
   "name": "python3"
  },
  "language_info": {
   "codemirror_mode": {
    "name": "ipython",
    "version": 2
   },
   "file_extension": ".py",
   "mimetype": "text/x-python",
   "name": "python",
   "nbconvert_exporter": "python",
   "pygments_lexer": "ipython2",
   "version": "2.7.6"
  }
 },
 "nbformat": 4,
 "nbformat_minor": 0
}
