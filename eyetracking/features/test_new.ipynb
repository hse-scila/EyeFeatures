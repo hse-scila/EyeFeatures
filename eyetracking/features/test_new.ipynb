{
 "cells": [
  {
   "cell_type": "code",
   "execution_count": 1,
   "metadata": {
    "collapsed": true
   },
   "outputs": [],
   "source": [
    "import pandas as pd\n",
    "import numpy as np\n",
    "\n",
    "from os.path import join\n",
    "from stats import SaccadeFeatures, FixationFeatures, RegressionFeatures, MicroSaccades\n",
    "from extractor import Extractor\n",
    "\n",
    "DATA_PATH = join('..', 'test_data')"
   ]
  },
  {
   "cell_type": "code",
   "execution_count": 2,
   "outputs": [],
   "source": [
    "data = pd.concat([pd.read_excel(join(DATA_PATH, 'itog_fix_1.xlsx')),\n",
    "                  pd.read_excel(join(DATA_PATH, 'itog_fix_2.xlsx'))],\n",
    "                 axis=0)"
   ],
   "metadata": {
    "collapsed": false
   }
  },
  {
   "cell_type": "code",
   "execution_count": 3,
   "outputs": [],
   "source": [
    "data['AOI'] = 'aoi_1'\n",
    "\n",
    "for i in data.index[::5]:\n",
    "    data.loc[i, 'AOI'] = 'aoi_2'\n",
    "for i in data.index[::6]:\n",
    "    data.loc[i, 'AOI'] = 'aoi_2'\n",
    "for i in data.index[::7]:\n",
    "    data.loc[i, 'AOI'] = 'aoi_2'"
   ],
   "metadata": {
    "collapsed": false
   }
  },
  {
   "cell_type": "code",
   "execution_count": 4,
   "outputs": [
    {
     "data": {
      "text/plain": "AOI\naoi_2    5304\naoi_1    3233\nName: count, dtype: int64"
     },
     "execution_count": 4,
     "metadata": {},
     "output_type": "execute_result"
    }
   ],
   "source": [
    "data['AOI'].value_counts()"
   ],
   "metadata": {
    "collapsed": false
   }
  },
  {
   "cell_type": "code",
   "execution_count": 5,
   "outputs": [],
   "source": [
    "x = 'norm_pos_x'\n",
    "y = 'norm_pos_y'\n",
    "t = 'start_timestamp'\n",
    "dur = 'duration'\n",
    "dis = 'dispersion'\n",
    "\n",
    "\n",
    "sac_feats_stats = {\n",
    "    'length': ['min', 'max'],\n",
    "    'speed': ['mean', 'kurtosis'],\n",
    "    'acceleration': ['mean']\n",
    "}\n",
    "sac_feats_stats_shift = {'length': ['max'],\n",
    "                         'acceleration': ['mean']}\n",
    "\n",
    "sf = SaccadeFeatures(x=x, y=y, t=t,\n",
    "                     pk=['Participant', 'tekst'],\n",
    "                     features_stats=sac_feats_stats,\n",
    "                     shift_features=sac_feats_stats_shift,\n",
    "                     shift_pk=['tekst'])\n",
    "\n",
    "\n",
    "fix_feats_stats = {'duration': ['sum'], 'vad': ['mean']}\n",
    "\n",
    "fx = FixationFeatures(duration=dur, dispersion=dis,\n",
    "                     pk=['Participant', 'tekst'],\n",
    "                     aoi='AOI',\n",
    "                     features_stats=fix_feats_stats,\n",
    "                     shift_pk=['Participant'])\n",
    "\n",
    "rg = RegressionFeatures(x=x, y=y, t=t, duration=dur,\n",
    "                        pk=['Participant', 'tekst'],\n",
    "                        aoi='AOI',\n",
    "                        features_stats=sac_feats_stats,\n",
    "                        shift_features=sac_feats_stats_shift,\n",
    "                        shift_pk=['tekst'],\n",
    "                        rule=(1, 3))\n",
    "\n",
    "ms = MicroSaccades(x=x, y=y, t=t, dispersion=dis,\n",
    "                   pk=['Participant', 'tekst'],\n",
    "                   aoi='AOI',\n",
    "                   features_stats=sac_feats_stats,\n",
    "                   shift_features=sac_feats_stats_shift,\n",
    "                   shift_pk=['tekst'],\n",
    "                   min_dispersion=0.01,\n",
    "                   max_speed=0.2)\n",
    "\n",
    "features = [\n",
    "    SaccadeFeatures(features_stats=sac_feats_stats,\n",
    "                    shift_features=sac_feats_stats_shift,\n",
    "                    shift_pk=['tekst']),\n",
    "    FixationFeatures(features_stats=fix_feats_stats,\n",
    "                     shift_pk=['Participant']),\n",
    "    RegressionFeatures(features_stats=sac_feats_stats,\n",
    "                       shift_features=sac_feats_stats_shift,\n",
    "                       shift_pk=['tekst'],\n",
    "                       rule=(1, 3)),\n",
    "    MicroSaccades(features_stats=sac_feats_stats,\n",
    "                  shift_features=sac_feats_stats_shift,\n",
    "                  shift_pk=['Participant'],\n",
    "                  min_dispersion=0.001,\n",
    "                  max_speed=0.5)\n",
    "]\n",
    "\n",
    "extractor = Extractor(features=features, x=x, y=y, t=t, duration=dur, dispersion=dis,\n",
    "                      aoi='AOI',\n",
    "                      pk=['Participant', 'tekst'],\n",
    "                      return_df=True)"
   ],
   "metadata": {
    "collapsed": false
   }
  },
  {
   "cell_type": "code",
   "execution_count": 6,
   "outputs": [
    {
     "data": {
      "text/plain": "      sac_length_min  sac_length_max  sac_length_max_shift  \\\n1_1         0.002657        0.433486             -0.008934   \n1_2         0.003757        0.321837             -0.127119   \n1_3         0.003663        0.365776             -0.207636   \n1_4         0.000212        0.342315             -0.362239   \n1_5         0.002705        0.375434             -0.094030   \n...              ...             ...                   ...   \n2_33        0.001920        0.406550              0.000000   \n2_34        0.007928        0.354386             -0.260736   \n2_35        0.002170        1.269198              0.000000   \n2_36        0.002196        1.124204              0.000000   \n2_37        0.002151        0.772169              0.000000   \n\n      sac_acceleration_mean  sac_acceleration_mean_shift  sac_speed_mean  \\\n1_1                1.522857                     0.316149        0.488956   \n1_2                1.507806                     0.322016        0.451773   \n1_3                1.292694                     0.083609        0.390753   \n1_4                0.999054                    -0.038003        0.333495   \n1_5                1.187418                     0.089377        0.360223   \n...                     ...                          ...             ...   \n2_33               0.945929                    -0.050745        0.264515   \n2_34               0.883503                    -0.158937        0.298396   \n2_35               2.527952                     0.883969        0.623824   \n2_36               1.650884                     0.266994        0.443600   \n2_37               1.606125                     0.193406        0.457776   \n\n      sac_speed_kurtosis  \n1_1             5.498018  \n1_2             8.356764  \n1_3             7.639049  \n1_4             9.593384  \n1_5             9.717641  \n...                  ...  \n2_33           10.235914  \n2_34            9.732734  \n2_35           45.476927  \n2_36           10.414252  \n2_37           25.881450  \n\n[74 rows x 7 columns]",
      "text/html": "<div>\n<style scoped>\n    .dataframe tbody tr th:only-of-type {\n        vertical-align: middle;\n    }\n\n    .dataframe tbody tr th {\n        vertical-align: top;\n    }\n\n    .dataframe thead th {\n        text-align: right;\n    }\n</style>\n<table border=\"1\" class=\"dataframe\">\n  <thead>\n    <tr style=\"text-align: right;\">\n      <th></th>\n      <th>sac_length_min</th>\n      <th>sac_length_max</th>\n      <th>sac_length_max_shift</th>\n      <th>sac_acceleration_mean</th>\n      <th>sac_acceleration_mean_shift</th>\n      <th>sac_speed_mean</th>\n      <th>sac_speed_kurtosis</th>\n    </tr>\n  </thead>\n  <tbody>\n    <tr>\n      <th>1_1</th>\n      <td>0.002657</td>\n      <td>0.433486</td>\n      <td>-0.008934</td>\n      <td>1.522857</td>\n      <td>0.316149</td>\n      <td>0.488956</td>\n      <td>5.498018</td>\n    </tr>\n    <tr>\n      <th>1_2</th>\n      <td>0.003757</td>\n      <td>0.321837</td>\n      <td>-0.127119</td>\n      <td>1.507806</td>\n      <td>0.322016</td>\n      <td>0.451773</td>\n      <td>8.356764</td>\n    </tr>\n    <tr>\n      <th>1_3</th>\n      <td>0.003663</td>\n      <td>0.365776</td>\n      <td>-0.207636</td>\n      <td>1.292694</td>\n      <td>0.083609</td>\n      <td>0.390753</td>\n      <td>7.639049</td>\n    </tr>\n    <tr>\n      <th>1_4</th>\n      <td>0.000212</td>\n      <td>0.342315</td>\n      <td>-0.362239</td>\n      <td>0.999054</td>\n      <td>-0.038003</td>\n      <td>0.333495</td>\n      <td>9.593384</td>\n    </tr>\n    <tr>\n      <th>1_5</th>\n      <td>0.002705</td>\n      <td>0.375434</td>\n      <td>-0.094030</td>\n      <td>1.187418</td>\n      <td>0.089377</td>\n      <td>0.360223</td>\n      <td>9.717641</td>\n    </tr>\n    <tr>\n      <th>...</th>\n      <td>...</td>\n      <td>...</td>\n      <td>...</td>\n      <td>...</td>\n      <td>...</td>\n      <td>...</td>\n      <td>...</td>\n    </tr>\n    <tr>\n      <th>2_33</th>\n      <td>0.001920</td>\n      <td>0.406550</td>\n      <td>0.000000</td>\n      <td>0.945929</td>\n      <td>-0.050745</td>\n      <td>0.264515</td>\n      <td>10.235914</td>\n    </tr>\n    <tr>\n      <th>2_34</th>\n      <td>0.007928</td>\n      <td>0.354386</td>\n      <td>-0.260736</td>\n      <td>0.883503</td>\n      <td>-0.158937</td>\n      <td>0.298396</td>\n      <td>9.732734</td>\n    </tr>\n    <tr>\n      <th>2_35</th>\n      <td>0.002170</td>\n      <td>1.269198</td>\n      <td>0.000000</td>\n      <td>2.527952</td>\n      <td>0.883969</td>\n      <td>0.623824</td>\n      <td>45.476927</td>\n    </tr>\n    <tr>\n      <th>2_36</th>\n      <td>0.002196</td>\n      <td>1.124204</td>\n      <td>0.000000</td>\n      <td>1.650884</td>\n      <td>0.266994</td>\n      <td>0.443600</td>\n      <td>10.414252</td>\n    </tr>\n    <tr>\n      <th>2_37</th>\n      <td>0.002151</td>\n      <td>0.772169</td>\n      <td>0.000000</td>\n      <td>1.606125</td>\n      <td>0.193406</td>\n      <td>0.457776</td>\n      <td>25.881450</td>\n    </tr>\n  </tbody>\n</table>\n<p>74 rows × 7 columns</p>\n</div>"
     },
     "execution_count": 6,
     "metadata": {},
     "output_type": "execute_result"
    }
   ],
   "source": [
    "sf.fit_transform(data)"
   ],
   "metadata": {
    "collapsed": false
   }
  },
  {
   "cell_type": "code",
   "execution_count": 7,
   "outputs": [
    {
     "data": {
      "text/plain": "      fix_duration_aoi_2_sum  fix_vad_aoi_2_mean  fix_duration_aoi_1_sum  \\\n1_1             10760.106500            1.084216               2504.5290   \n1_2              9308.563500            1.099930               1652.0625   \n1_3              9218.071000            1.219697               1645.0175   \n1_4              7324.355999            1.125739                952.0735   \n1_5              9060.284000            1.148466               1942.1885   \n...                      ...                 ...                     ...   \n2_33            13896.132000            1.376585               2428.7540   \n2_34             5525.225500            1.291868                891.6540   \n2_35             9431.293500            1.414826               1157.4960   \n2_36             5885.597000            1.333476                614.9980   \n2_37             7887.573500            1.454140               1260.4125   \n\n      fix_vad_aoi_1_mean  \n1_1             1.173406  \n1_2             1.427237  \n1_3             1.014305  \n1_4             1.285798  \n1_5             1.344456  \n...                  ...  \n2_33            1.332026  \n2_34            1.522308  \n2_35            1.392368  \n2_36            1.361147  \n2_37            1.366280  \n\n[74 rows x 4 columns]",
      "text/html": "<div>\n<style scoped>\n    .dataframe tbody tr th:only-of-type {\n        vertical-align: middle;\n    }\n\n    .dataframe tbody tr th {\n        vertical-align: top;\n    }\n\n    .dataframe thead th {\n        text-align: right;\n    }\n</style>\n<table border=\"1\" class=\"dataframe\">\n  <thead>\n    <tr style=\"text-align: right;\">\n      <th></th>\n      <th>fix_duration_aoi_2_sum</th>\n      <th>fix_vad_aoi_2_mean</th>\n      <th>fix_duration_aoi_1_sum</th>\n      <th>fix_vad_aoi_1_mean</th>\n    </tr>\n  </thead>\n  <tbody>\n    <tr>\n      <th>1_1</th>\n      <td>10760.106500</td>\n      <td>1.084216</td>\n      <td>2504.5290</td>\n      <td>1.173406</td>\n    </tr>\n    <tr>\n      <th>1_2</th>\n      <td>9308.563500</td>\n      <td>1.099930</td>\n      <td>1652.0625</td>\n      <td>1.427237</td>\n    </tr>\n    <tr>\n      <th>1_3</th>\n      <td>9218.071000</td>\n      <td>1.219697</td>\n      <td>1645.0175</td>\n      <td>1.014305</td>\n    </tr>\n    <tr>\n      <th>1_4</th>\n      <td>7324.355999</td>\n      <td>1.125739</td>\n      <td>952.0735</td>\n      <td>1.285798</td>\n    </tr>\n    <tr>\n      <th>1_5</th>\n      <td>9060.284000</td>\n      <td>1.148466</td>\n      <td>1942.1885</td>\n      <td>1.344456</td>\n    </tr>\n    <tr>\n      <th>...</th>\n      <td>...</td>\n      <td>...</td>\n      <td>...</td>\n      <td>...</td>\n    </tr>\n    <tr>\n      <th>2_33</th>\n      <td>13896.132000</td>\n      <td>1.376585</td>\n      <td>2428.7540</td>\n      <td>1.332026</td>\n    </tr>\n    <tr>\n      <th>2_34</th>\n      <td>5525.225500</td>\n      <td>1.291868</td>\n      <td>891.6540</td>\n      <td>1.522308</td>\n    </tr>\n    <tr>\n      <th>2_35</th>\n      <td>9431.293500</td>\n      <td>1.414826</td>\n      <td>1157.4960</td>\n      <td>1.392368</td>\n    </tr>\n    <tr>\n      <th>2_36</th>\n      <td>5885.597000</td>\n      <td>1.333476</td>\n      <td>614.9980</td>\n      <td>1.361147</td>\n    </tr>\n    <tr>\n      <th>2_37</th>\n      <td>7887.573500</td>\n      <td>1.454140</td>\n      <td>1260.4125</td>\n      <td>1.366280</td>\n    </tr>\n  </tbody>\n</table>\n<p>74 rows × 4 columns</p>\n</div>"
     },
     "execution_count": 7,
     "metadata": {},
     "output_type": "execute_result"
    }
   ],
   "source": [
    "fx.fit_transform(data)"
   ],
   "metadata": {
    "collapsed": false
   }
  },
  {
   "cell_type": "code",
   "execution_count": 8,
   "outputs": [
    {
     "data": {
      "text/plain": "      reg_length_aoi_2_min  reg_length_aoi_2_max  reg_acceleration_aoi_2_mean  \\\n1_1               0.011841              0.420153                   101.520275   \n1_2               0.006408              0.321837                    70.596140   \n1_3               0.005249              0.265067                    73.916643   \n1_4               0.009554              0.277172                   107.220463   \n1_5               0.002705              0.300800                    76.290851   \n...                    ...                   ...                          ...   \n2_33              0.007210              0.202824                    97.018484   \n2_34              0.013271              0.303437                   161.015426   \n2_35              0.007504              1.269198                   186.293178   \n2_36              0.009415              0.504216                   132.919882   \n2_37              0.004536              0.772169                    92.990986   \n\n      reg_speed_aoi_2_mean  reg_speed_aoi_2_kurtosis  reg_length_aoi_1_min  \\\n1_1               3.480621                  4.196115              0.037026   \n1_2               3.276942                 -0.922803              0.030813   \n1_3               2.629076                  1.171818              0.016539   \n1_4               3.406318                 -0.759758              0.041129   \n1_5               2.548291                  1.412943              0.042946   \n...                    ...                       ...                   ...   \n2_33              2.316939                  1.628924              0.025199   \n2_34              3.315178                  0.574263              0.023785   \n2_35              5.238658                  6.259332              0.003259   \n2_36              3.304351                  9.638348              0.017941   \n2_37              3.433222                  4.143707              0.039056   \n\n      reg_length_aoi_1_max  reg_acceleration_aoi_1_mean  reg_speed_aoi_1_mean  \\\n1_1               0.272665                    54.131503              3.396826   \n1_2               0.261686                    35.216219              2.167320   \n1_3               0.254050                    89.722992              3.206941   \n1_4               0.049056                    57.301368              2.288800   \n1_5               0.104575                    57.119943              2.593522   \n...                    ...                          ...                   ...   \n2_33              0.221629                   148.173164              3.673611   \n2_34              0.114924                   132.171743              3.094738   \n2_35              0.559806                    54.424245              2.653471   \n2_36              1.124204                   142.120547              6.391043   \n2_37              0.159758                    56.846989              2.832624   \n\n      reg_speed_aoi_1_kurtosis  \n1_1                  -1.593181  \n1_2                  -0.934722  \n1_3                   3.553356  \n1_4                        NaN  \n1_5                   0.004752  \n...                        ...  \n2_33                 -0.042142  \n2_34                 -1.646757  \n2_35                 -1.497979  \n2_36                  6.352378  \n2_37                  2.093700  \n\n[74 rows x 10 columns]",
      "text/html": "<div>\n<style scoped>\n    .dataframe tbody tr th:only-of-type {\n        vertical-align: middle;\n    }\n\n    .dataframe tbody tr th {\n        vertical-align: top;\n    }\n\n    .dataframe thead th {\n        text-align: right;\n    }\n</style>\n<table border=\"1\" class=\"dataframe\">\n  <thead>\n    <tr style=\"text-align: right;\">\n      <th></th>\n      <th>reg_length_aoi_2_min</th>\n      <th>reg_length_aoi_2_max</th>\n      <th>reg_acceleration_aoi_2_mean</th>\n      <th>reg_speed_aoi_2_mean</th>\n      <th>reg_speed_aoi_2_kurtosis</th>\n      <th>reg_length_aoi_1_min</th>\n      <th>reg_length_aoi_1_max</th>\n      <th>reg_acceleration_aoi_1_mean</th>\n      <th>reg_speed_aoi_1_mean</th>\n      <th>reg_speed_aoi_1_kurtosis</th>\n    </tr>\n  </thead>\n  <tbody>\n    <tr>\n      <th>1_1</th>\n      <td>0.011841</td>\n      <td>0.420153</td>\n      <td>101.520275</td>\n      <td>3.480621</td>\n      <td>4.196115</td>\n      <td>0.037026</td>\n      <td>0.272665</td>\n      <td>54.131503</td>\n      <td>3.396826</td>\n      <td>-1.593181</td>\n    </tr>\n    <tr>\n      <th>1_2</th>\n      <td>0.006408</td>\n      <td>0.321837</td>\n      <td>70.596140</td>\n      <td>3.276942</td>\n      <td>-0.922803</td>\n      <td>0.030813</td>\n      <td>0.261686</td>\n      <td>35.216219</td>\n      <td>2.167320</td>\n      <td>-0.934722</td>\n    </tr>\n    <tr>\n      <th>1_3</th>\n      <td>0.005249</td>\n      <td>0.265067</td>\n      <td>73.916643</td>\n      <td>2.629076</td>\n      <td>1.171818</td>\n      <td>0.016539</td>\n      <td>0.254050</td>\n      <td>89.722992</td>\n      <td>3.206941</td>\n      <td>3.553356</td>\n    </tr>\n    <tr>\n      <th>1_4</th>\n      <td>0.009554</td>\n      <td>0.277172</td>\n      <td>107.220463</td>\n      <td>3.406318</td>\n      <td>-0.759758</td>\n      <td>0.041129</td>\n      <td>0.049056</td>\n      <td>57.301368</td>\n      <td>2.288800</td>\n      <td>NaN</td>\n    </tr>\n    <tr>\n      <th>1_5</th>\n      <td>0.002705</td>\n      <td>0.300800</td>\n      <td>76.290851</td>\n      <td>2.548291</td>\n      <td>1.412943</td>\n      <td>0.042946</td>\n      <td>0.104575</td>\n      <td>57.119943</td>\n      <td>2.593522</td>\n      <td>0.004752</td>\n    </tr>\n    <tr>\n      <th>...</th>\n      <td>...</td>\n      <td>...</td>\n      <td>...</td>\n      <td>...</td>\n      <td>...</td>\n      <td>...</td>\n      <td>...</td>\n      <td>...</td>\n      <td>...</td>\n      <td>...</td>\n    </tr>\n    <tr>\n      <th>2_33</th>\n      <td>0.007210</td>\n      <td>0.202824</td>\n      <td>97.018484</td>\n      <td>2.316939</td>\n      <td>1.628924</td>\n      <td>0.025199</td>\n      <td>0.221629</td>\n      <td>148.173164</td>\n      <td>3.673611</td>\n      <td>-0.042142</td>\n    </tr>\n    <tr>\n      <th>2_34</th>\n      <td>0.013271</td>\n      <td>0.303437</td>\n      <td>161.015426</td>\n      <td>3.315178</td>\n      <td>0.574263</td>\n      <td>0.023785</td>\n      <td>0.114924</td>\n      <td>132.171743</td>\n      <td>3.094738</td>\n      <td>-1.646757</td>\n    </tr>\n    <tr>\n      <th>2_35</th>\n      <td>0.007504</td>\n      <td>1.269198</td>\n      <td>186.293178</td>\n      <td>5.238658</td>\n      <td>6.259332</td>\n      <td>0.003259</td>\n      <td>0.559806</td>\n      <td>54.424245</td>\n      <td>2.653471</td>\n      <td>-1.497979</td>\n    </tr>\n    <tr>\n      <th>2_36</th>\n      <td>0.009415</td>\n      <td>0.504216</td>\n      <td>132.919882</td>\n      <td>3.304351</td>\n      <td>9.638348</td>\n      <td>0.017941</td>\n      <td>1.124204</td>\n      <td>142.120547</td>\n      <td>6.391043</td>\n      <td>6.352378</td>\n    </tr>\n    <tr>\n      <th>2_37</th>\n      <td>0.004536</td>\n      <td>0.772169</td>\n      <td>92.990986</td>\n      <td>3.433222</td>\n      <td>4.143707</td>\n      <td>0.039056</td>\n      <td>0.159758</td>\n      <td>56.846989</td>\n      <td>2.832624</td>\n      <td>2.093700</td>\n    </tr>\n  </tbody>\n</table>\n<p>74 rows × 10 columns</p>\n</div>"
     },
     "execution_count": 8,
     "metadata": {},
     "output_type": "execute_result"
    }
   ],
   "source": [
    "rg.fit_transform(data)"
   ],
   "metadata": {
    "collapsed": false
   }
  },
  {
   "cell_type": "code",
   "execution_count": 9,
   "outputs": [
    {
     "data": {
      "text/plain": "      microsac_length_aoi_2_min  microsac_length_aoi_2_max  \\\n1_1                    0.011581                   0.190765   \n1_2                    0.006408                   0.176232   \n1_3                    0.005065                   0.185019   \n1_4                    0.001980                   0.110651   \n1_5                    0.002705                   0.192296   \n...                         ...                        ...   \n2_33                   0.003962                   0.181661   \n2_34                   0.011230                   0.063878   \n2_35                   0.007504                   0.166901   \n2_36                   0.004319                   0.154740   \n2_37                   0.002803                   0.161252   \n\n      microsac_acceleration_aoi_2_mean  microsac_speed_aoi_2_mean  \\\n1_1                           1.167471                   0.345077   \n1_2                           1.003533                   0.318633   \n1_3                           0.762113                   0.245316   \n1_4                           0.813152                   0.241609   \n1_5                           0.942590                   0.301805   \n...                                ...                        ...   \n2_33                          1.088828                   0.270166   \n2_34                          0.750266                   0.186453   \n2_35                          1.533474                   0.327634   \n2_36                          1.109342                   0.287022   \n2_37                          1.013128                   0.274852   \n\n      microsac_speed_aoi_2_kurtosis  microsac_length_aoi_1_min  \\\n1_1                        1.952940                   0.016593   \n1_2                        1.040025                   0.014979   \n1_3                       14.807231                   0.003663   \n1_4                        7.668473                   0.041129   \n1_5                        3.149362                   0.020778   \n...                             ...                        ...   \n2_33                       6.836550                   0.016619   \n2_34                       3.302904                   0.023785   \n2_35                       5.700887                   0.003259   \n2_36                       8.486159                   0.017941   \n2_37                       7.224261                   0.002151   \n\n      microsac_length_aoi_1_max  microsac_acceleration_aoi_1_mean  \\\n1_1                    0.198150                          0.660408   \n1_2                    0.117818                          1.040075   \n1_3                    0.063193                          0.744146   \n1_4                    0.070823                          1.077196   \n1_5                    0.104575                          1.326198   \n...                         ...                               ...   \n2_33                   0.129722                          0.902597   \n2_34                   0.114924                          0.296183   \n2_35                   0.180431                          1.281691   \n2_36                   0.166901                          0.951186   \n2_37                   0.159758                          1.252403   \n\n      microsac_speed_aoi_1_mean  microsac_speed_aoi_1_kurtosis  \n1_1                    0.287073                      -0.298782  \n1_2                    0.310151                       0.457796  \n1_3                    0.194864                       1.458462  \n1_4                    0.313787                      -1.606570  \n1_5                    0.359371                      -0.409101  \n...                         ...                            ...  \n2_33                   0.220889                      -1.668084  \n2_34                   0.161013                       1.929328  \n2_35                   0.399833                      -1.697831  \n2_36                   0.355342                      -0.564187  \n2_37                   0.354663                       7.014556  \n\n[74 rows x 10 columns]",
      "text/html": "<div>\n<style scoped>\n    .dataframe tbody tr th:only-of-type {\n        vertical-align: middle;\n    }\n\n    .dataframe tbody tr th {\n        vertical-align: top;\n    }\n\n    .dataframe thead th {\n        text-align: right;\n    }\n</style>\n<table border=\"1\" class=\"dataframe\">\n  <thead>\n    <tr style=\"text-align: right;\">\n      <th></th>\n      <th>microsac_length_aoi_2_min</th>\n      <th>microsac_length_aoi_2_max</th>\n      <th>microsac_acceleration_aoi_2_mean</th>\n      <th>microsac_speed_aoi_2_mean</th>\n      <th>microsac_speed_aoi_2_kurtosis</th>\n      <th>microsac_length_aoi_1_min</th>\n      <th>microsac_length_aoi_1_max</th>\n      <th>microsac_acceleration_aoi_1_mean</th>\n      <th>microsac_speed_aoi_1_mean</th>\n      <th>microsac_speed_aoi_1_kurtosis</th>\n    </tr>\n  </thead>\n  <tbody>\n    <tr>\n      <th>1_1</th>\n      <td>0.011581</td>\n      <td>0.190765</td>\n      <td>1.167471</td>\n      <td>0.345077</td>\n      <td>1.952940</td>\n      <td>0.016593</td>\n      <td>0.198150</td>\n      <td>0.660408</td>\n      <td>0.287073</td>\n      <td>-0.298782</td>\n    </tr>\n    <tr>\n      <th>1_2</th>\n      <td>0.006408</td>\n      <td>0.176232</td>\n      <td>1.003533</td>\n      <td>0.318633</td>\n      <td>1.040025</td>\n      <td>0.014979</td>\n      <td>0.117818</td>\n      <td>1.040075</td>\n      <td>0.310151</td>\n      <td>0.457796</td>\n    </tr>\n    <tr>\n      <th>1_3</th>\n      <td>0.005065</td>\n      <td>0.185019</td>\n      <td>0.762113</td>\n      <td>0.245316</td>\n      <td>14.807231</td>\n      <td>0.003663</td>\n      <td>0.063193</td>\n      <td>0.744146</td>\n      <td>0.194864</td>\n      <td>1.458462</td>\n    </tr>\n    <tr>\n      <th>1_4</th>\n      <td>0.001980</td>\n      <td>0.110651</td>\n      <td>0.813152</td>\n      <td>0.241609</td>\n      <td>7.668473</td>\n      <td>0.041129</td>\n      <td>0.070823</td>\n      <td>1.077196</td>\n      <td>0.313787</td>\n      <td>-1.606570</td>\n    </tr>\n    <tr>\n      <th>1_5</th>\n      <td>0.002705</td>\n      <td>0.192296</td>\n      <td>0.942590</td>\n      <td>0.301805</td>\n      <td>3.149362</td>\n      <td>0.020778</td>\n      <td>0.104575</td>\n      <td>1.326198</td>\n      <td>0.359371</td>\n      <td>-0.409101</td>\n    </tr>\n    <tr>\n      <th>...</th>\n      <td>...</td>\n      <td>...</td>\n      <td>...</td>\n      <td>...</td>\n      <td>...</td>\n      <td>...</td>\n      <td>...</td>\n      <td>...</td>\n      <td>...</td>\n      <td>...</td>\n    </tr>\n    <tr>\n      <th>2_33</th>\n      <td>0.003962</td>\n      <td>0.181661</td>\n      <td>1.088828</td>\n      <td>0.270166</td>\n      <td>6.836550</td>\n      <td>0.016619</td>\n      <td>0.129722</td>\n      <td>0.902597</td>\n      <td>0.220889</td>\n      <td>-1.668084</td>\n    </tr>\n    <tr>\n      <th>2_34</th>\n      <td>0.011230</td>\n      <td>0.063878</td>\n      <td>0.750266</td>\n      <td>0.186453</td>\n      <td>3.302904</td>\n      <td>0.023785</td>\n      <td>0.114924</td>\n      <td>0.296183</td>\n      <td>0.161013</td>\n      <td>1.929328</td>\n    </tr>\n    <tr>\n      <th>2_35</th>\n      <td>0.007504</td>\n      <td>0.166901</td>\n      <td>1.533474</td>\n      <td>0.327634</td>\n      <td>5.700887</td>\n      <td>0.003259</td>\n      <td>0.180431</td>\n      <td>1.281691</td>\n      <td>0.399833</td>\n      <td>-1.697831</td>\n    </tr>\n    <tr>\n      <th>2_36</th>\n      <td>0.004319</td>\n      <td>0.154740</td>\n      <td>1.109342</td>\n      <td>0.287022</td>\n      <td>8.486159</td>\n      <td>0.017941</td>\n      <td>0.166901</td>\n      <td>0.951186</td>\n      <td>0.355342</td>\n      <td>-0.564187</td>\n    </tr>\n    <tr>\n      <th>2_37</th>\n      <td>0.002803</td>\n      <td>0.161252</td>\n      <td>1.013128</td>\n      <td>0.274852</td>\n      <td>7.224261</td>\n      <td>0.002151</td>\n      <td>0.159758</td>\n      <td>1.252403</td>\n      <td>0.354663</td>\n      <td>7.014556</td>\n    </tr>\n  </tbody>\n</table>\n<p>74 rows × 10 columns</p>\n</div>"
     },
     "execution_count": 9,
     "metadata": {},
     "output_type": "execute_result"
    }
   ],
   "source": [
    "ms.fit_transform(data)"
   ],
   "metadata": {
    "collapsed": false
   }
  },
  {
   "cell_type": "code",
   "execution_count": 10,
   "outputs": [
    {
     "data": {
      "text/plain": "     sac_length_aoi_2_min  sac_length_aoi_2_max  sac_acceleration_aoi_2_mean  \\\n1_1              0.011581              0.420153                    88.408114   \n1_2              0.006408              0.321837                    85.793710   \n1_3              0.005065              0.365776                    94.441713   \n1_4              0.001980              0.277172                   121.601653   \n1_5              0.002705              0.300800                    69.126721   \n\n     sac_speed_aoi_2_mean  sac_speed_aoi_2_kurtosis  sac_length_aoi_1_min  \\\n1_1              3.316192                  2.582125              0.016593   \n1_2              3.007439                 -0.464949              0.014979   \n1_3              2.959531                  6.020307              0.003663   \n1_4              3.005369                  0.249804              0.041129   \n1_5              2.426858                  1.677840              0.020778   \n\n     sac_length_aoi_1_max  sac_acceleration_aoi_1_mean  sac_speed_aoi_1_mean  \\\n1_1              0.272665                    68.252408              3.213086   \n1_2              0.261686                    54.794634              2.103520   \n1_3              0.254050                    76.291863              2.827255   \n1_4              0.272092                    53.823491              2.801384   \n1_5              0.104575                    68.725060              2.409873   \n\n     sac_speed_aoi_1_kurtosis  ...  microsac_length_aoi_2_min  \\\n1_1                 -0.278472  ...                   0.011581   \n1_2                 -0.316122  ...                   0.006408   \n1_3                  0.763153  ...                   0.005065   \n1_4                  2.951833  ...                   0.001980   \n1_5                  0.137052  ...                   0.002705   \n\n     microsac_length_aoi_2_max  microsac_acceleration_aoi_2_mean  \\\n1_1                   0.420153                         88.408114   \n1_2                   0.321837                         85.793710   \n1_3                   0.365776                         94.441713   \n1_4                   0.277172                        121.601653   \n1_5                   0.300800                         69.126721   \n\n     microsac_speed_aoi_2_mean  microsac_speed_aoi_2_kurtosis  \\\n1_1                   3.316192                       2.582125   \n1_2                   3.007439                      -0.464949   \n1_3                   2.959531                       6.020307   \n1_4                   3.005369                       0.249804   \n1_5                   2.426858                       1.677840   \n\n     microsac_length_aoi_1_min  microsac_length_aoi_1_max  \\\n1_1                   0.016593                   0.272665   \n1_2                   0.014979                   0.261686   \n1_3                   0.003663                   0.254050   \n1_4                   0.041129                   0.272092   \n1_5                   0.020778                   0.104575   \n\n     microsac_acceleration_aoi_1_mean  microsac_speed_aoi_1_mean  \\\n1_1                         68.252408                   3.213086   \n1_2                         54.794634                   2.103520   \n1_3                         76.291863                   2.827255   \n1_4                         53.823491                   2.801384   \n1_5                         68.725060                   2.409873   \n\n     microsac_speed_aoi_1_kurtosis  \n1_1                      -0.278472  \n1_2                      -0.316122  \n1_3                       0.763153  \n1_4                       2.951833  \n1_5                       0.137052  \n\n[5 rows x 34 columns]",
      "text/html": "<div>\n<style scoped>\n    .dataframe tbody tr th:only-of-type {\n        vertical-align: middle;\n    }\n\n    .dataframe tbody tr th {\n        vertical-align: top;\n    }\n\n    .dataframe thead th {\n        text-align: right;\n    }\n</style>\n<table border=\"1\" class=\"dataframe\">\n  <thead>\n    <tr style=\"text-align: right;\">\n      <th></th>\n      <th>sac_length_aoi_2_min</th>\n      <th>sac_length_aoi_2_max</th>\n      <th>sac_acceleration_aoi_2_mean</th>\n      <th>sac_speed_aoi_2_mean</th>\n      <th>sac_speed_aoi_2_kurtosis</th>\n      <th>sac_length_aoi_1_min</th>\n      <th>sac_length_aoi_1_max</th>\n      <th>sac_acceleration_aoi_1_mean</th>\n      <th>sac_speed_aoi_1_mean</th>\n      <th>sac_speed_aoi_1_kurtosis</th>\n      <th>...</th>\n      <th>microsac_length_aoi_2_min</th>\n      <th>microsac_length_aoi_2_max</th>\n      <th>microsac_acceleration_aoi_2_mean</th>\n      <th>microsac_speed_aoi_2_mean</th>\n      <th>microsac_speed_aoi_2_kurtosis</th>\n      <th>microsac_length_aoi_1_min</th>\n      <th>microsac_length_aoi_1_max</th>\n      <th>microsac_acceleration_aoi_1_mean</th>\n      <th>microsac_speed_aoi_1_mean</th>\n      <th>microsac_speed_aoi_1_kurtosis</th>\n    </tr>\n  </thead>\n  <tbody>\n    <tr>\n      <th>1_1</th>\n      <td>0.011581</td>\n      <td>0.420153</td>\n      <td>88.408114</td>\n      <td>3.316192</td>\n      <td>2.582125</td>\n      <td>0.016593</td>\n      <td>0.272665</td>\n      <td>68.252408</td>\n      <td>3.213086</td>\n      <td>-0.278472</td>\n      <td>...</td>\n      <td>0.011581</td>\n      <td>0.420153</td>\n      <td>88.408114</td>\n      <td>3.316192</td>\n      <td>2.582125</td>\n      <td>0.016593</td>\n      <td>0.272665</td>\n      <td>68.252408</td>\n      <td>3.213086</td>\n      <td>-0.278472</td>\n    </tr>\n    <tr>\n      <th>1_2</th>\n      <td>0.006408</td>\n      <td>0.321837</td>\n      <td>85.793710</td>\n      <td>3.007439</td>\n      <td>-0.464949</td>\n      <td>0.014979</td>\n      <td>0.261686</td>\n      <td>54.794634</td>\n      <td>2.103520</td>\n      <td>-0.316122</td>\n      <td>...</td>\n      <td>0.006408</td>\n      <td>0.321837</td>\n      <td>85.793710</td>\n      <td>3.007439</td>\n      <td>-0.464949</td>\n      <td>0.014979</td>\n      <td>0.261686</td>\n      <td>54.794634</td>\n      <td>2.103520</td>\n      <td>-0.316122</td>\n    </tr>\n    <tr>\n      <th>1_3</th>\n      <td>0.005065</td>\n      <td>0.365776</td>\n      <td>94.441713</td>\n      <td>2.959531</td>\n      <td>6.020307</td>\n      <td>0.003663</td>\n      <td>0.254050</td>\n      <td>76.291863</td>\n      <td>2.827255</td>\n      <td>0.763153</td>\n      <td>...</td>\n      <td>0.005065</td>\n      <td>0.365776</td>\n      <td>94.441713</td>\n      <td>2.959531</td>\n      <td>6.020307</td>\n      <td>0.003663</td>\n      <td>0.254050</td>\n      <td>76.291863</td>\n      <td>2.827255</td>\n      <td>0.763153</td>\n    </tr>\n    <tr>\n      <th>1_4</th>\n      <td>0.001980</td>\n      <td>0.277172</td>\n      <td>121.601653</td>\n      <td>3.005369</td>\n      <td>0.249804</td>\n      <td>0.041129</td>\n      <td>0.272092</td>\n      <td>53.823491</td>\n      <td>2.801384</td>\n      <td>2.951833</td>\n      <td>...</td>\n      <td>0.001980</td>\n      <td>0.277172</td>\n      <td>121.601653</td>\n      <td>3.005369</td>\n      <td>0.249804</td>\n      <td>0.041129</td>\n      <td>0.272092</td>\n      <td>53.823491</td>\n      <td>2.801384</td>\n      <td>2.951833</td>\n    </tr>\n    <tr>\n      <th>1_5</th>\n      <td>0.002705</td>\n      <td>0.300800</td>\n      <td>69.126721</td>\n      <td>2.426858</td>\n      <td>1.677840</td>\n      <td>0.020778</td>\n      <td>0.104575</td>\n      <td>68.725060</td>\n      <td>2.409873</td>\n      <td>0.137052</td>\n      <td>...</td>\n      <td>0.002705</td>\n      <td>0.300800</td>\n      <td>69.126721</td>\n      <td>2.426858</td>\n      <td>1.677840</td>\n      <td>0.020778</td>\n      <td>0.104575</td>\n      <td>68.725060</td>\n      <td>2.409873</td>\n      <td>0.137052</td>\n    </tr>\n  </tbody>\n</table>\n<p>5 rows × 34 columns</p>\n</div>"
     },
     "execution_count": 10,
     "metadata": {},
     "output_type": "execute_result"
    }
   ],
   "source": [
    "extractor.fit_transform(data).head()"
   ],
   "metadata": {
    "collapsed": false
   }
  },
  {
   "cell_type": "code",
   "execution_count": 11,
   "outputs": [],
   "source": [
    "rg_angles = RegressionFeatures(x=x, y=y, t=t, duration=dur,\n",
    "                        pk=['Participant', 'tekst'],\n",
    "                        aoi='AOI',\n",
    "                        features_stats=sac_feats_stats,\n",
    "                        shift_features=sac_feats_stats_shift,\n",
    "                        shift_pk=['tekst'],\n",
    "                        rule=(90, 180),\n",
    "                        deviation=15)"
   ],
   "metadata": {
    "collapsed": false
   }
  },
  {
   "cell_type": "code",
   "execution_count": 12,
   "outputs": [
    {
     "data": {
      "text/plain": "      reg_length_aoi_2_min  reg_length_aoi_2_max  reg_acceleration_aoi_2_mean  \\\n1_1               0.011581              0.420153                    88.408114   \n1_2               0.006408              0.321837                    85.793710   \n1_3               0.005065              0.365776                    94.441713   \n1_4               0.001980              0.277172                   121.601653   \n1_5               0.002705              0.300800                    69.126721   \n...                    ...                   ...                          ...   \n2_33              0.003962              0.255299                   118.610232   \n2_34              0.011230              0.310389                   150.700497   \n2_35              0.007504              1.269198                   184.508856   \n2_36              0.004319              0.504216                   144.844016   \n2_37              0.002803              0.772169                    99.716798   \n\n      reg_speed_aoi_2_mean  reg_speed_aoi_2_kurtosis  reg_length_aoi_1_min  \\\n1_1               3.316192                  2.582125              0.016593   \n1_2               3.007439                 -0.464949              0.014979   \n1_3               2.959531                  6.020307              0.003663   \n1_4               3.005369                  0.249804              0.041129   \n1_5               2.426858                  1.677840              0.020778   \n...                    ...                       ...                   ...   \n2_33              2.502032                 -0.540786              0.016619   \n2_34              3.062124                 -0.755616              0.023785   \n2_35              4.672236                  9.241733              0.003259   \n2_36              3.262612                  7.188011              0.017941   \n2_37              3.186339                  4.663551              0.002151   \n\n      reg_length_aoi_1_max  reg_acceleration_aoi_1_mean  reg_speed_aoi_1_mean  \\\n1_1               0.272665                    68.252408              3.213086   \n1_2               0.261686                    54.794634              2.103520   \n1_3               0.254050                    76.291863              2.827255   \n1_4               0.272092                    53.823491              2.801384   \n1_5               0.104575                    68.725060              2.409873   \n...                    ...                          ...                   ...   \n2_33              0.221629                   146.104445              2.998909   \n2_34              0.114924                   132.171743              3.094738   \n2_35              0.559806                    64.591090              2.472077   \n2_36              1.124204                   142.120547              6.391043   \n2_37              0.159758                    87.144789              2.468882   \n\n      reg_speed_aoi_1_kurtosis  \n1_1                  -0.278472  \n1_2                  -0.316122  \n1_3                   0.763153  \n1_4                   2.951833  \n1_5                   0.137052  \n...                        ...  \n2_33                  1.133978  \n2_34                 -1.646757  \n2_35                 -0.814155  \n2_36                  6.352378  \n2_37                  1.216778  \n\n[74 rows x 10 columns]",
      "text/html": "<div>\n<style scoped>\n    .dataframe tbody tr th:only-of-type {\n        vertical-align: middle;\n    }\n\n    .dataframe tbody tr th {\n        vertical-align: top;\n    }\n\n    .dataframe thead th {\n        text-align: right;\n    }\n</style>\n<table border=\"1\" class=\"dataframe\">\n  <thead>\n    <tr style=\"text-align: right;\">\n      <th></th>\n      <th>reg_length_aoi_2_min</th>\n      <th>reg_length_aoi_2_max</th>\n      <th>reg_acceleration_aoi_2_mean</th>\n      <th>reg_speed_aoi_2_mean</th>\n      <th>reg_speed_aoi_2_kurtosis</th>\n      <th>reg_length_aoi_1_min</th>\n      <th>reg_length_aoi_1_max</th>\n      <th>reg_acceleration_aoi_1_mean</th>\n      <th>reg_speed_aoi_1_mean</th>\n      <th>reg_speed_aoi_1_kurtosis</th>\n    </tr>\n  </thead>\n  <tbody>\n    <tr>\n      <th>1_1</th>\n      <td>0.011581</td>\n      <td>0.420153</td>\n      <td>88.408114</td>\n      <td>3.316192</td>\n      <td>2.582125</td>\n      <td>0.016593</td>\n      <td>0.272665</td>\n      <td>68.252408</td>\n      <td>3.213086</td>\n      <td>-0.278472</td>\n    </tr>\n    <tr>\n      <th>1_2</th>\n      <td>0.006408</td>\n      <td>0.321837</td>\n      <td>85.793710</td>\n      <td>3.007439</td>\n      <td>-0.464949</td>\n      <td>0.014979</td>\n      <td>0.261686</td>\n      <td>54.794634</td>\n      <td>2.103520</td>\n      <td>-0.316122</td>\n    </tr>\n    <tr>\n      <th>1_3</th>\n      <td>0.005065</td>\n      <td>0.365776</td>\n      <td>94.441713</td>\n      <td>2.959531</td>\n      <td>6.020307</td>\n      <td>0.003663</td>\n      <td>0.254050</td>\n      <td>76.291863</td>\n      <td>2.827255</td>\n      <td>0.763153</td>\n    </tr>\n    <tr>\n      <th>1_4</th>\n      <td>0.001980</td>\n      <td>0.277172</td>\n      <td>121.601653</td>\n      <td>3.005369</td>\n      <td>0.249804</td>\n      <td>0.041129</td>\n      <td>0.272092</td>\n      <td>53.823491</td>\n      <td>2.801384</td>\n      <td>2.951833</td>\n    </tr>\n    <tr>\n      <th>1_5</th>\n      <td>0.002705</td>\n      <td>0.300800</td>\n      <td>69.126721</td>\n      <td>2.426858</td>\n      <td>1.677840</td>\n      <td>0.020778</td>\n      <td>0.104575</td>\n      <td>68.725060</td>\n      <td>2.409873</td>\n      <td>0.137052</td>\n    </tr>\n    <tr>\n      <th>...</th>\n      <td>...</td>\n      <td>...</td>\n      <td>...</td>\n      <td>...</td>\n      <td>...</td>\n      <td>...</td>\n      <td>...</td>\n      <td>...</td>\n      <td>...</td>\n      <td>...</td>\n    </tr>\n    <tr>\n      <th>2_33</th>\n      <td>0.003962</td>\n      <td>0.255299</td>\n      <td>118.610232</td>\n      <td>2.502032</td>\n      <td>-0.540786</td>\n      <td>0.016619</td>\n      <td>0.221629</td>\n      <td>146.104445</td>\n      <td>2.998909</td>\n      <td>1.133978</td>\n    </tr>\n    <tr>\n      <th>2_34</th>\n      <td>0.011230</td>\n      <td>0.310389</td>\n      <td>150.700497</td>\n      <td>3.062124</td>\n      <td>-0.755616</td>\n      <td>0.023785</td>\n      <td>0.114924</td>\n      <td>132.171743</td>\n      <td>3.094738</td>\n      <td>-1.646757</td>\n    </tr>\n    <tr>\n      <th>2_35</th>\n      <td>0.007504</td>\n      <td>1.269198</td>\n      <td>184.508856</td>\n      <td>4.672236</td>\n      <td>9.241733</td>\n      <td>0.003259</td>\n      <td>0.559806</td>\n      <td>64.591090</td>\n      <td>2.472077</td>\n      <td>-0.814155</td>\n    </tr>\n    <tr>\n      <th>2_36</th>\n      <td>0.004319</td>\n      <td>0.504216</td>\n      <td>144.844016</td>\n      <td>3.262612</td>\n      <td>7.188011</td>\n      <td>0.017941</td>\n      <td>1.124204</td>\n      <td>142.120547</td>\n      <td>6.391043</td>\n      <td>6.352378</td>\n    </tr>\n    <tr>\n      <th>2_37</th>\n      <td>0.002803</td>\n      <td>0.772169</td>\n      <td>99.716798</td>\n      <td>3.186339</td>\n      <td>4.663551</td>\n      <td>0.002151</td>\n      <td>0.159758</td>\n      <td>87.144789</td>\n      <td>2.468882</td>\n      <td>1.216778</td>\n    </tr>\n  </tbody>\n</table>\n<p>74 rows × 10 columns</p>\n</div>"
     },
     "execution_count": 12,
     "metadata": {},
     "output_type": "execute_result"
    }
   ],
   "source": [
    "rg_angles.fit_transform(data)"
   ],
   "metadata": {
    "collapsed": false
   }
  }
 ],
 "metadata": {
  "kernelspec": {
   "display_name": "Python 3",
   "language": "python",
   "name": "python3"
  },
  "language_info": {
   "codemirror_mode": {
    "name": "ipython",
    "version": 2
   },
   "file_extension": ".py",
   "mimetype": "text/x-python",
   "name": "python",
   "nbconvert_exporter": "python",
   "pygments_lexer": "ipython2",
   "version": "2.7.6"
  }
 },
 "nbformat": 4,
 "nbformat_minor": 0
}
