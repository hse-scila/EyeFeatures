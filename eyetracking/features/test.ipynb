{
 "cells": [
  {
   "cell_type": "code",
   "execution_count": 26,
   "outputs": [],
   "source": [
    "import pandas as pd\n",
    "import numpy as np\n",
    "\n",
    "from stats import SaccadeLength, SaccadeAcceleration, FixationDuration, SaccadeVelocity, FixationVAD, RegressionCount\n",
    "from extractor import Extractor"
   ],
   "metadata": {
    "collapsed": false,
    "ExecuteTime": {
     "end_time": "2024-03-19T12:58:10.354681200Z",
     "start_time": "2024-03-19T12:58:10.308818Z"
    }
   },
   "id": "d9ae2cf357202ce8"
  },
  {
   "cell_type": "code",
   "execution_count": 27,
   "outputs": [],
   "source": [
    "data = pd.concat([pd.read_excel('itog_fix_1.xlsx'), pd.read_excel('itog_fix_2.xlsx')], axis=0)"
   ],
   "metadata": {
    "collapsed": false,
    "ExecuteTime": {
     "end_time": "2024-03-19T12:58:10.976456600Z",
     "start_time": "2024-03-19T12:58:10.314817200Z"
    }
   },
   "id": "dd1601b6febb317d"
  },
  {
   "cell_type": "code",
   "execution_count": 28,
   "outputs": [],
   "source": [
    "x = 'norm_pos_x'\n",
    "y = 'norm_pos_y'\n",
    "t = 'start_timestamp'\n",
    "dur = 'duration'\n",
    "dis = 'dispersion'\n",
    "\n",
    "features = [\n",
    "        SaccadeVelocity(stats=['mean', 'kurtosis', 'max']),\n",
    "        FixationDuration(stats=['median', 'skew', 'var']),\n",
    "        FixationVAD(stats=['mean', 'median']),\n",
    "        SaccadeLength(stats=['var', 'std']),\n",
    "        RegressionCount(),\n",
    "        SaccadeAcceleration(stats=['min', 'var', 'mean'])\n",
    "    ]\n",
    "sac_vel = SaccadeVelocity(stats=['mean', 'kurtosis', 'max'], x=x, y=y, t=t, duration=dur, pk=['tekst'])\n",
    "fix_dur = FixationDuration(stats=['median', 'skew', 'var'], x=x, y=y, t=t, duration=dur, pk=['tekst'])\n",
    "reg_count = RegressionCount(x=x, y=y, t=t, pk=['tekst'])\n",
    "fix_vad = FixationVAD(stats=['mean', 'median'], x=x, y=y, t=t, duration=dur,  dispersion=dis, pk=['tekst'])\n",
    "sac_len = SaccadeLength(stats=['var', 'std'], x=x, y=y, t=t, duration=dur, pk=['tekst'])\n",
    "sac_acc = SaccadeAcceleration(stats=['min', 'var', 'mean'], x=x, y=y, t=t, duration=dur, pk=['tekst'])\n",
    "\n",
    "extractor = Extractor(features=features, x=x, y=y, t=t, duration=dur, dispersion=dis, pk=['tekst'],\n",
    "                      return_df=True)"
   ],
   "metadata": {
    "collapsed": false,
    "ExecuteTime": {
     "end_time": "2024-03-19T12:58:10.980439100Z",
     "start_time": "2024-03-19T12:58:10.976456600Z"
    }
   },
   "id": "e8ba167404481ab0"
  },
  {
   "cell_type": "code",
   "execution_count": 29,
   "outputs": [
    {
     "data": {
      "text/plain": "   sac_len_var_1  sac_len_std_1  sac_len_var_2  sac_len_std_2  sac_len_var_3  \\\n0         0.0086       0.092735       0.006856         0.0828       0.008787   \n\n   sac_len_std_3  sac_len_var_4  sac_len_std_4  sac_len_var_5  sac_len_std_5  \\\n0       0.093741        0.00875       0.093543       0.006019       0.077581   \n\n   ...  sac_len_var_33  sac_len_std_33  sac_len_var_34  sac_len_std_34  \\\n0  ...        0.004574        0.067629        0.006926         0.08322   \n\n   sac_len_var_35  sac_len_std_35  sac_len_var_36  sac_len_std_36  \\\n0        0.018313        0.135327         0.01331        0.115368   \n\n   sac_len_var_37  sac_len_std_37  \n0        0.013424        0.115863  \n\n[1 rows x 74 columns]",
      "text/html": "<div>\n<style scoped>\n    .dataframe tbody tr th:only-of-type {\n        vertical-align: middle;\n    }\n\n    .dataframe tbody tr th {\n        vertical-align: top;\n    }\n\n    .dataframe thead th {\n        text-align: right;\n    }\n</style>\n<table border=\"1\" class=\"dataframe\">\n  <thead>\n    <tr style=\"text-align: right;\">\n      <th></th>\n      <th>sac_len_var_1</th>\n      <th>sac_len_std_1</th>\n      <th>sac_len_var_2</th>\n      <th>sac_len_std_2</th>\n      <th>sac_len_var_3</th>\n      <th>sac_len_std_3</th>\n      <th>sac_len_var_4</th>\n      <th>sac_len_std_4</th>\n      <th>sac_len_var_5</th>\n      <th>sac_len_std_5</th>\n      <th>...</th>\n      <th>sac_len_var_33</th>\n      <th>sac_len_std_33</th>\n      <th>sac_len_var_34</th>\n      <th>sac_len_std_34</th>\n      <th>sac_len_var_35</th>\n      <th>sac_len_std_35</th>\n      <th>sac_len_var_36</th>\n      <th>sac_len_std_36</th>\n      <th>sac_len_var_37</th>\n      <th>sac_len_std_37</th>\n    </tr>\n  </thead>\n  <tbody>\n    <tr>\n      <th>0</th>\n      <td>0.0086</td>\n      <td>0.092735</td>\n      <td>0.006856</td>\n      <td>0.0828</td>\n      <td>0.008787</td>\n      <td>0.093741</td>\n      <td>0.00875</td>\n      <td>0.093543</td>\n      <td>0.006019</td>\n      <td>0.077581</td>\n      <td>...</td>\n      <td>0.004574</td>\n      <td>0.067629</td>\n      <td>0.006926</td>\n      <td>0.08322</td>\n      <td>0.018313</td>\n      <td>0.135327</td>\n      <td>0.01331</td>\n      <td>0.115368</td>\n      <td>0.013424</td>\n      <td>0.115863</td>\n    </tr>\n  </tbody>\n</table>\n<p>1 rows × 74 columns</p>\n</div>"
     },
     "execution_count": 29,
     "metadata": {},
     "output_type": "execute_result"
    }
   ],
   "source": [
    "sac_len.transform(data)"
   ],
   "metadata": {
    "collapsed": false,
    "ExecuteTime": {
     "end_time": "2024-03-19T12:58:11.054701800Z",
     "start_time": "2024-03-19T12:58:10.980439100Z"
    }
   },
   "id": "f02a3c5764b4a40"
  },
  {
   "cell_type": "code",
   "execution_count": 30,
   "outputs": [
    {
     "data": {
      "text/plain": "   sac_acc_min_1  sac_acc_var_1  sac_acc_mean_1  sac_acc_min_2  sac_acc_var_2  \\\n0   7.437532e-13    7096.232068       92.712374   1.364786e-12    6735.116723   \n\n   sac_acc_mean_2  sac_acc_min_3  sac_acc_var_3  sac_acc_mean_3  \\\n0       82.582251   2.860060e-12     4745.36048        83.83454   \n\n   sac_acc_min_4  ...  sac_acc_mean_34  sac_acc_min_35  sac_acc_var_35  \\\n0   3.514137e-12  ...       102.881657    1.538127e-12    14091.651674   \n\n   sac_acc_mean_35  sac_acc_min_36  sac_acc_var_36  sac_acc_mean_36  \\\n0       110.523075    2.508151e-12    12305.666053       112.434921   \n\n   sac_acc_min_37  sac_acc_var_37  sac_acc_mean_37  \n0    2.072115e-12     7886.442632        90.731849  \n\n[1 rows x 111 columns]",
      "text/html": "<div>\n<style scoped>\n    .dataframe tbody tr th:only-of-type {\n        vertical-align: middle;\n    }\n\n    .dataframe tbody tr th {\n        vertical-align: top;\n    }\n\n    .dataframe thead th {\n        text-align: right;\n    }\n</style>\n<table border=\"1\" class=\"dataframe\">\n  <thead>\n    <tr style=\"text-align: right;\">\n      <th></th>\n      <th>sac_acc_min_1</th>\n      <th>sac_acc_var_1</th>\n      <th>sac_acc_mean_1</th>\n      <th>sac_acc_min_2</th>\n      <th>sac_acc_var_2</th>\n      <th>sac_acc_mean_2</th>\n      <th>sac_acc_min_3</th>\n      <th>sac_acc_var_3</th>\n      <th>sac_acc_mean_3</th>\n      <th>sac_acc_min_4</th>\n      <th>...</th>\n      <th>sac_acc_mean_34</th>\n      <th>sac_acc_min_35</th>\n      <th>sac_acc_var_35</th>\n      <th>sac_acc_mean_35</th>\n      <th>sac_acc_min_36</th>\n      <th>sac_acc_var_36</th>\n      <th>sac_acc_mean_36</th>\n      <th>sac_acc_min_37</th>\n      <th>sac_acc_var_37</th>\n      <th>sac_acc_mean_37</th>\n    </tr>\n  </thead>\n  <tbody>\n    <tr>\n      <th>0</th>\n      <td>7.437532e-13</td>\n      <td>7096.232068</td>\n      <td>92.712374</td>\n      <td>1.364786e-12</td>\n      <td>6735.116723</td>\n      <td>82.582251</td>\n      <td>2.860060e-12</td>\n      <td>4745.36048</td>\n      <td>83.83454</td>\n      <td>3.514137e-12</td>\n      <td>...</td>\n      <td>102.881657</td>\n      <td>1.538127e-12</td>\n      <td>14091.651674</td>\n      <td>110.523075</td>\n      <td>2.508151e-12</td>\n      <td>12305.666053</td>\n      <td>112.434921</td>\n      <td>2.072115e-12</td>\n      <td>7886.442632</td>\n      <td>90.731849</td>\n    </tr>\n  </tbody>\n</table>\n<p>1 rows × 111 columns</p>\n</div>"
     },
     "execution_count": 30,
     "metadata": {},
     "output_type": "execute_result"
    }
   ],
   "source": [
    "sac_acc.transform(data)"
   ],
   "metadata": {
    "collapsed": false,
    "ExecuteTime": {
     "end_time": "2024-03-19T12:58:11.149306500Z",
     "start_time": "2024-03-19T12:58:11.054701800Z"
    }
   },
   "id": "3210799fc4efab3d"
  },
  {
   "cell_type": "code",
   "outputs": [
    {
     "data": {
      "text/plain": "   fix_dur_median_1  fix_dur_skew_1  fix_dur_var_1  fix_dur_median_2  \\\n0          178.2125        1.857757   10509.516414         183.87525   \n\n   fix_dur_skew_2  fix_dur_var_2  fix_dur_median_3  fix_dur_skew_3  \\\n0        1.284709   10140.758874          195.3575        1.518871   \n\n   fix_dur_var_3  fix_dur_median_4  ...  fix_dur_var_34  fix_dur_median_35  \\\n0   16487.438466          190.0345  ...    14172.790904            156.328   \n\n   fix_dur_skew_35  fix_dur_var_35  fix_dur_median_36  fix_dur_skew_36  \\\n0         3.939154    15912.971667           172.9265         0.790963   \n\n   fix_dur_var_36  fix_dur_median_37  fix_dur_skew_37  fix_dur_var_37  \n0     9222.189501            175.881         2.152412    10483.595051  \n\n[1 rows x 111 columns]",
      "text/html": "<div>\n<style scoped>\n    .dataframe tbody tr th:only-of-type {\n        vertical-align: middle;\n    }\n\n    .dataframe tbody tr th {\n        vertical-align: top;\n    }\n\n    .dataframe thead th {\n        text-align: right;\n    }\n</style>\n<table border=\"1\" class=\"dataframe\">\n  <thead>\n    <tr style=\"text-align: right;\">\n      <th></th>\n      <th>fix_dur_median_1</th>\n      <th>fix_dur_skew_1</th>\n      <th>fix_dur_var_1</th>\n      <th>fix_dur_median_2</th>\n      <th>fix_dur_skew_2</th>\n      <th>fix_dur_var_2</th>\n      <th>fix_dur_median_3</th>\n      <th>fix_dur_skew_3</th>\n      <th>fix_dur_var_3</th>\n      <th>fix_dur_median_4</th>\n      <th>...</th>\n      <th>fix_dur_var_34</th>\n      <th>fix_dur_median_35</th>\n      <th>fix_dur_skew_35</th>\n      <th>fix_dur_var_35</th>\n      <th>fix_dur_median_36</th>\n      <th>fix_dur_skew_36</th>\n      <th>fix_dur_var_36</th>\n      <th>fix_dur_median_37</th>\n      <th>fix_dur_skew_37</th>\n      <th>fix_dur_var_37</th>\n    </tr>\n  </thead>\n  <tbody>\n    <tr>\n      <th>0</th>\n      <td>178.2125</td>\n      <td>1.857757</td>\n      <td>10509.516414</td>\n      <td>183.87525</td>\n      <td>1.284709</td>\n      <td>10140.758874</td>\n      <td>195.3575</td>\n      <td>1.518871</td>\n      <td>16487.438466</td>\n      <td>190.0345</td>\n      <td>...</td>\n      <td>14172.790904</td>\n      <td>156.328</td>\n      <td>3.939154</td>\n      <td>15912.971667</td>\n      <td>172.9265</td>\n      <td>0.790963</td>\n      <td>9222.189501</td>\n      <td>175.881</td>\n      <td>2.152412</td>\n      <td>10483.595051</td>\n    </tr>\n  </tbody>\n</table>\n<p>1 rows × 111 columns</p>\n</div>"
     },
     "execution_count": 31,
     "metadata": {},
     "output_type": "execute_result"
    }
   ],
   "source": [
    "fix_dur.transform(data)"
   ],
   "metadata": {
    "collapsed": false,
    "ExecuteTime": {
     "end_time": "2024-03-19T12:58:11.233970600Z",
     "start_time": "2024-03-19T12:58:11.144801600Z"
    }
   },
   "id": "d280e96299c977d6",
   "execution_count": 31
  },
  {
   "cell_type": "code",
   "outputs": [
    {
     "data": {
      "text/plain": "   sac_vel_mean_1  sac_vel_kurtosis_1  sac_vel_max_1  sac_vel_mean_2  \\\n0        3.002532            6.470488      13.717103        2.703573   \n\n   sac_vel_kurtosis_2  sac_vel_max_2  sac_vel_mean_3  sac_vel_kurtosis_3  \\\n0            1.763947       8.626671        2.830928            3.589073   \n\n   sac_vel_max_3  sac_vel_mean_4  ...  sac_vel_max_34  sac_vel_mean_35  \\\n0      10.717298        2.802656  ...        6.728558         3.044436   \n\n   sac_vel_kurtosis_35  sac_vel_max_35  sac_vel_mean_36  sac_vel_kurtosis_36  \\\n0            37.115046       30.362497         3.032234             30.10733   \n\n   sac_vel_max_36  sac_vel_mean_37  sac_vel_kurtosis_37  sac_vel_max_37  \n0       22.777222         2.870006             6.351163       12.730611  \n\n[1 rows x 111 columns]",
      "text/html": "<div>\n<style scoped>\n    .dataframe tbody tr th:only-of-type {\n        vertical-align: middle;\n    }\n\n    .dataframe tbody tr th {\n        vertical-align: top;\n    }\n\n    .dataframe thead th {\n        text-align: right;\n    }\n</style>\n<table border=\"1\" class=\"dataframe\">\n  <thead>\n    <tr style=\"text-align: right;\">\n      <th></th>\n      <th>sac_vel_mean_1</th>\n      <th>sac_vel_kurtosis_1</th>\n      <th>sac_vel_max_1</th>\n      <th>sac_vel_mean_2</th>\n      <th>sac_vel_kurtosis_2</th>\n      <th>sac_vel_max_2</th>\n      <th>sac_vel_mean_3</th>\n      <th>sac_vel_kurtosis_3</th>\n      <th>sac_vel_max_3</th>\n      <th>sac_vel_mean_4</th>\n      <th>...</th>\n      <th>sac_vel_max_34</th>\n      <th>sac_vel_mean_35</th>\n      <th>sac_vel_kurtosis_35</th>\n      <th>sac_vel_max_35</th>\n      <th>sac_vel_mean_36</th>\n      <th>sac_vel_kurtosis_36</th>\n      <th>sac_vel_max_36</th>\n      <th>sac_vel_mean_37</th>\n      <th>sac_vel_kurtosis_37</th>\n      <th>sac_vel_max_37</th>\n    </tr>\n  </thead>\n  <tbody>\n    <tr>\n      <th>0</th>\n      <td>3.002532</td>\n      <td>6.470488</td>\n      <td>13.717103</td>\n      <td>2.703573</td>\n      <td>1.763947</td>\n      <td>8.626671</td>\n      <td>2.830928</td>\n      <td>3.589073</td>\n      <td>10.717298</td>\n      <td>2.802656</td>\n      <td>...</td>\n      <td>6.728558</td>\n      <td>3.044436</td>\n      <td>37.115046</td>\n      <td>30.362497</td>\n      <td>3.032234</td>\n      <td>30.10733</td>\n      <td>22.777222</td>\n      <td>2.870006</td>\n      <td>6.351163</td>\n      <td>12.730611</td>\n    </tr>\n  </tbody>\n</table>\n<p>1 rows × 111 columns</p>\n</div>"
     },
     "execution_count": 32,
     "metadata": {},
     "output_type": "execute_result"
    }
   ],
   "source": [
    "sac_vel.transform(data)"
   ],
   "metadata": {
    "collapsed": false,
    "ExecuteTime": {
     "end_time": "2024-03-19T12:58:11.328149200Z",
     "start_time": "2024-03-19T12:58:11.206185800Z"
    }
   },
   "id": "67c798e82044f26f",
   "execution_count": 32
  },
  {
   "cell_type": "code",
   "outputs": [
    {
     "data": {
      "text/plain": "   reg_count_1  reg_count_2  reg_count_3  reg_count_4  reg_count_5  \\\n0          269          164          152          151          155   \n\n   reg_count_6  reg_count_7  reg_count_8  reg_count_9  reg_count_10  ...  \\\n0          173          171          192          218           225  ...   \n\n   reg_count_28  reg_count_29  reg_count_30  reg_count_31  reg_count_32  \\\n0           130           161           104            86           113   \n\n   reg_count_33  reg_count_34  reg_count_35  reg_count_36  reg_count_37  \n0           166           137           220           104           135  \n\n[1 rows x 37 columns]",
      "text/html": "<div>\n<style scoped>\n    .dataframe tbody tr th:only-of-type {\n        vertical-align: middle;\n    }\n\n    .dataframe tbody tr th {\n        vertical-align: top;\n    }\n\n    .dataframe thead th {\n        text-align: right;\n    }\n</style>\n<table border=\"1\" class=\"dataframe\">\n  <thead>\n    <tr style=\"text-align: right;\">\n      <th></th>\n      <th>reg_count_1</th>\n      <th>reg_count_2</th>\n      <th>reg_count_3</th>\n      <th>reg_count_4</th>\n      <th>reg_count_5</th>\n      <th>reg_count_6</th>\n      <th>reg_count_7</th>\n      <th>reg_count_8</th>\n      <th>reg_count_9</th>\n      <th>reg_count_10</th>\n      <th>...</th>\n      <th>reg_count_28</th>\n      <th>reg_count_29</th>\n      <th>reg_count_30</th>\n      <th>reg_count_31</th>\n      <th>reg_count_32</th>\n      <th>reg_count_33</th>\n      <th>reg_count_34</th>\n      <th>reg_count_35</th>\n      <th>reg_count_36</th>\n      <th>reg_count_37</th>\n    </tr>\n  </thead>\n  <tbody>\n    <tr>\n      <th>0</th>\n      <td>269</td>\n      <td>164</td>\n      <td>152</td>\n      <td>151</td>\n      <td>155</td>\n      <td>173</td>\n      <td>171</td>\n      <td>192</td>\n      <td>218</td>\n      <td>225</td>\n      <td>...</td>\n      <td>130</td>\n      <td>161</td>\n      <td>104</td>\n      <td>86</td>\n      <td>113</td>\n      <td>166</td>\n      <td>137</td>\n      <td>220</td>\n      <td>104</td>\n      <td>135</td>\n    </tr>\n  </tbody>\n</table>\n<p>1 rows × 37 columns</p>\n</div>"
     },
     "execution_count": 33,
     "metadata": {},
     "output_type": "execute_result"
    }
   ],
   "source": [
    "reg_count.transform(data)"
   ],
   "metadata": {
    "collapsed": false,
    "ExecuteTime": {
     "end_time": "2024-03-19T12:58:11.417561300Z",
     "start_time": "2024-03-19T12:58:11.295272Z"
    }
   },
   "id": "9c6d863a0ec44075",
   "execution_count": 33
  },
  {
   "cell_type": "code",
   "outputs": [
    {
     "data": {
      "text/plain": "   fix_disp_mean_1  fix_disp_median_1  fix_disp_mean_2  fix_disp_median_2  \\\n0         1.160423           1.204169         1.171774           1.233559   \n\n   fix_disp_mean_3  fix_disp_median_3  fix_disp_mean_4  fix_disp_median_4  \\\n0         1.204409           1.263217         1.146726           1.186699   \n\n   fix_disp_mean_5  fix_disp_median_5  ...  fix_disp_mean_33  \\\n0         1.196206           1.255999  ...          1.275482   \n\n   fix_disp_median_33  fix_disp_mean_34  fix_disp_median_34  fix_disp_mean_35  \\\n0            1.357264          1.240055            1.305495          1.206376   \n\n   fix_disp_median_35  fix_disp_mean_36  fix_disp_median_36  fix_disp_mean_37  \\\n0            1.282961          1.208544             1.29094          1.263215   \n\n   fix_disp_median_37  \n0            1.362009  \n\n[1 rows x 74 columns]",
      "text/html": "<div>\n<style scoped>\n    .dataframe tbody tr th:only-of-type {\n        vertical-align: middle;\n    }\n\n    .dataframe tbody tr th {\n        vertical-align: top;\n    }\n\n    .dataframe thead th {\n        text-align: right;\n    }\n</style>\n<table border=\"1\" class=\"dataframe\">\n  <thead>\n    <tr style=\"text-align: right;\">\n      <th></th>\n      <th>fix_disp_mean_1</th>\n      <th>fix_disp_median_1</th>\n      <th>fix_disp_mean_2</th>\n      <th>fix_disp_median_2</th>\n      <th>fix_disp_mean_3</th>\n      <th>fix_disp_median_3</th>\n      <th>fix_disp_mean_4</th>\n      <th>fix_disp_median_4</th>\n      <th>fix_disp_mean_5</th>\n      <th>fix_disp_median_5</th>\n      <th>...</th>\n      <th>fix_disp_mean_33</th>\n      <th>fix_disp_median_33</th>\n      <th>fix_disp_mean_34</th>\n      <th>fix_disp_median_34</th>\n      <th>fix_disp_mean_35</th>\n      <th>fix_disp_median_35</th>\n      <th>fix_disp_mean_36</th>\n      <th>fix_disp_median_36</th>\n      <th>fix_disp_mean_37</th>\n      <th>fix_disp_median_37</th>\n    </tr>\n  </thead>\n  <tbody>\n    <tr>\n      <th>0</th>\n      <td>1.160423</td>\n      <td>1.204169</td>\n      <td>1.171774</td>\n      <td>1.233559</td>\n      <td>1.204409</td>\n      <td>1.263217</td>\n      <td>1.146726</td>\n      <td>1.186699</td>\n      <td>1.196206</td>\n      <td>1.255999</td>\n      <td>...</td>\n      <td>1.275482</td>\n      <td>1.357264</td>\n      <td>1.240055</td>\n      <td>1.305495</td>\n      <td>1.206376</td>\n      <td>1.282961</td>\n      <td>1.208544</td>\n      <td>1.29094</td>\n      <td>1.263215</td>\n      <td>1.362009</td>\n    </tr>\n  </tbody>\n</table>\n<p>1 rows × 74 columns</p>\n</div>"
     },
     "execution_count": 34,
     "metadata": {},
     "output_type": "execute_result"
    }
   ],
   "source": [
    "fix_vad.transform(data)"
   ],
   "metadata": {
    "collapsed": false,
    "ExecuteTime": {
     "end_time": "2024-03-19T12:58:11.463451500Z",
     "start_time": "2024-03-19T12:58:11.374718900Z"
    }
   },
   "id": "cd3312c9d3efe321",
   "execution_count": 34
  },
  {
   "cell_type": "code",
   "execution_count": 35,
   "outputs": [
    {
     "data": {
      "text/plain": "   sac_vel_mean_1  sac_vel_kurtosis_1  sac_vel_max_1  sac_vel_mean_2  \\\n0        3.002532            6.470488      13.717103        2.703573   \n\n   sac_vel_kurtosis_2  sac_vel_max_2  sac_vel_mean_3  sac_vel_kurtosis_3  \\\n0            1.763947       8.626671        2.830928            3.589073   \n\n   sac_vel_max_3  sac_vel_mean_4  ...  sac_acc_mean_34  sac_acc_min_35  \\\n0      10.717298        2.802656  ...       102.881657    1.538127e-12   \n\n   sac_acc_var_35  sac_acc_mean_35  sac_acc_min_36  sac_acc_var_36  \\\n0    14091.651674       110.523075    2.508151e-12    12305.666053   \n\n   sac_acc_mean_36  sac_acc_min_37  sac_acc_var_37  sac_acc_mean_37  \n0       112.434921    2.072115e-12     7886.442632        90.731849  \n\n[1 rows x 518 columns]",
      "text/html": "<div>\n<style scoped>\n    .dataframe tbody tr th:only-of-type {\n        vertical-align: middle;\n    }\n\n    .dataframe tbody tr th {\n        vertical-align: top;\n    }\n\n    .dataframe thead th {\n        text-align: right;\n    }\n</style>\n<table border=\"1\" class=\"dataframe\">\n  <thead>\n    <tr style=\"text-align: right;\">\n      <th></th>\n      <th>sac_vel_mean_1</th>\n      <th>sac_vel_kurtosis_1</th>\n      <th>sac_vel_max_1</th>\n      <th>sac_vel_mean_2</th>\n      <th>sac_vel_kurtosis_2</th>\n      <th>sac_vel_max_2</th>\n      <th>sac_vel_mean_3</th>\n      <th>sac_vel_kurtosis_3</th>\n      <th>sac_vel_max_3</th>\n      <th>sac_vel_mean_4</th>\n      <th>...</th>\n      <th>sac_acc_mean_34</th>\n      <th>sac_acc_min_35</th>\n      <th>sac_acc_var_35</th>\n      <th>sac_acc_mean_35</th>\n      <th>sac_acc_min_36</th>\n      <th>sac_acc_var_36</th>\n      <th>sac_acc_mean_36</th>\n      <th>sac_acc_min_37</th>\n      <th>sac_acc_var_37</th>\n      <th>sac_acc_mean_37</th>\n    </tr>\n  </thead>\n  <tbody>\n    <tr>\n      <th>0</th>\n      <td>3.002532</td>\n      <td>6.470488</td>\n      <td>13.717103</td>\n      <td>2.703573</td>\n      <td>1.763947</td>\n      <td>8.626671</td>\n      <td>2.830928</td>\n      <td>3.589073</td>\n      <td>10.717298</td>\n      <td>2.802656</td>\n      <td>...</td>\n      <td>102.881657</td>\n      <td>1.538127e-12</td>\n      <td>14091.651674</td>\n      <td>110.523075</td>\n      <td>2.508151e-12</td>\n      <td>12305.666053</td>\n      <td>112.434921</td>\n      <td>2.072115e-12</td>\n      <td>7886.442632</td>\n      <td>90.731849</td>\n    </tr>\n  </tbody>\n</table>\n<p>1 rows × 518 columns</p>\n</div>"
     },
     "execution_count": 35,
     "metadata": {},
     "output_type": "execute_result"
    }
   ],
   "source": [
    "extractor.transform(data)"
   ],
   "metadata": {
    "collapsed": false,
    "ExecuteTime": {
     "end_time": "2024-03-19T12:58:11.801793200Z",
     "start_time": "2024-03-19T12:58:11.429493Z"
    }
   },
   "id": "d43090cb1ccef295"
  },
  {
   "cell_type": "code",
   "execution_count": 36,
   "outputs": [
    {
     "data": {
      "text/plain": "((1, 74),\n (1, 111),\n SaccadeVelocity(duration='duration', pk=['tekst'],\n                 stats=['mean', 'kurtosis', 'max'], t='start_timestamp',\n                 x='norm_pos_x', y='norm_pos_y'),\n (1, 518))"
     },
     "execution_count": 36,
     "metadata": {},
     "output_type": "execute_result"
    }
   ],
   "source": [
    "sac_len.transform(data).shape, fix_dur.transform(data).shape, sac_vel, extractor.transform(data).shape"
   ],
   "metadata": {
    "collapsed": false,
    "ExecuteTime": {
     "end_time": "2024-03-19T12:58:12.338199Z",
     "start_time": "2024-03-19T12:58:11.801793200Z"
    }
   },
   "id": "7b45a8235fc358eb"
  },
  {
   "cell_type": "code",
   "execution_count": 37,
   "outputs": [
    {
     "data": {
      "text/plain": "dict_keys(['1', '2', '3', '4', '5', '6', '7', '8', '9', '10', '11', '12', '13', '14', '15', '16', '17', '18', '19', '20', '21', '22', '23', '24', '25', '26', '27', '28', '29', '30', '31', '32', '33', '34', '35', '36', '37'])"
     },
     "execution_count": 37,
     "metadata": {},
     "output_type": "execute_result"
    }
   ],
   "source": [
    "from scanpath_dist import get_expected_path\n",
    "\n",
    "paths = get_expected_path(\n",
    "    data=data,\n",
    "    x=x,\n",
    "    y=y,\n",
    "    path_pk=['tekst'],\n",
    "    pk=['tekst', 'Participant'],\n",
    "    duration=dur\n",
    ")\n",
    "\n",
    "paths.keys()"
   ],
   "metadata": {
    "collapsed": false,
    "ExecuteTime": {
     "end_time": "2024-03-19T12:58:17.681738300Z",
     "start_time": "2024-03-19T12:58:12.338199Z"
    }
   },
   "id": "b81e8e6a4f827615"
  },
  {
   "cell_type": "code",
   "execution_count": 38,
   "outputs": [
    {
     "data": {
      "text/plain": "        x_est     y_est  duration_est\n0    0.259898  0.500364     206.67675\n1    0.249939  0.471984     167.37850\n2    0.245635  0.460574     151.21150\n3    0.240511  0.528885     186.05625\n4    0.266589  0.529640     278.93000\n..        ...       ...           ...\n166  0.460267 -0.072699     228.13350\n167  0.461565 -0.063056      79.41750\n168  0.334058  0.265421     131.70250\n169  0.334674  0.273724     120.10650\n170  0.262132  0.343488     191.01800\n\n[171 rows x 3 columns]",
      "text/html": "<div>\n<style scoped>\n    .dataframe tbody tr th:only-of-type {\n        vertical-align: middle;\n    }\n\n    .dataframe tbody tr th {\n        vertical-align: top;\n    }\n\n    .dataframe thead th {\n        text-align: right;\n    }\n</style>\n<table border=\"1\" class=\"dataframe\">\n  <thead>\n    <tr style=\"text-align: right;\">\n      <th></th>\n      <th>x_est</th>\n      <th>y_est</th>\n      <th>duration_est</th>\n    </tr>\n  </thead>\n  <tbody>\n    <tr>\n      <th>0</th>\n      <td>0.259898</td>\n      <td>0.500364</td>\n      <td>206.67675</td>\n    </tr>\n    <tr>\n      <th>1</th>\n      <td>0.249939</td>\n      <td>0.471984</td>\n      <td>167.37850</td>\n    </tr>\n    <tr>\n      <th>2</th>\n      <td>0.245635</td>\n      <td>0.460574</td>\n      <td>151.21150</td>\n    </tr>\n    <tr>\n      <th>3</th>\n      <td>0.240511</td>\n      <td>0.528885</td>\n      <td>186.05625</td>\n    </tr>\n    <tr>\n      <th>4</th>\n      <td>0.266589</td>\n      <td>0.529640</td>\n      <td>278.93000</td>\n    </tr>\n    <tr>\n      <th>...</th>\n      <td>...</td>\n      <td>...</td>\n      <td>...</td>\n    </tr>\n    <tr>\n      <th>166</th>\n      <td>0.460267</td>\n      <td>-0.072699</td>\n      <td>228.13350</td>\n    </tr>\n    <tr>\n      <th>167</th>\n      <td>0.461565</td>\n      <td>-0.063056</td>\n      <td>79.41750</td>\n    </tr>\n    <tr>\n      <th>168</th>\n      <td>0.334058</td>\n      <td>0.265421</td>\n      <td>131.70250</td>\n    </tr>\n    <tr>\n      <th>169</th>\n      <td>0.334674</td>\n      <td>0.273724</td>\n      <td>120.10650</td>\n    </tr>\n    <tr>\n      <th>170</th>\n      <td>0.262132</td>\n      <td>0.343488</td>\n      <td>191.01800</td>\n    </tr>\n  </tbody>\n</table>\n<p>171 rows × 3 columns</p>\n</div>"
     },
     "execution_count": 38,
     "metadata": {},
     "output_type": "execute_result"
    }
   ],
   "source": [
    "paths['1']"
   ],
   "metadata": {
    "collapsed": false,
    "ExecuteTime": {
     "end_time": "2024-03-19T12:58:17.685738700Z",
     "start_time": "2024-03-19T12:58:17.681738300Z"
    }
   },
   "id": "2782dbf6dac310b6"
  },
  {
   "cell_type": "code",
   "execution_count": 39,
   "outputs": [],
   "source": [
    "from scanpath_dist import EucDist\n",
    "\n",
    "euc = EucDist(\n",
    "    x=x,\n",
    "    y=y,\n",
    "    path_pk=['tekst'],\n",
    "    pk=['Participant', 'tekst'],\n",
    "    return_df=True\n",
    ")\n",
    "\n",
    "euc.expected_paths"
   ],
   "metadata": {
    "collapsed": false,
    "ExecuteTime": {
     "end_time": "2024-03-19T12:58:17.692156200Z",
     "start_time": "2024-03-19T12:58:17.687273500Z"
    }
   },
   "id": "dfae08dc13762808"
  },
  {
   "cell_type": "code",
   "execution_count": 40,
   "outputs": [
    {
     "data": {
      "text/plain": "    euc_1_1   euc_1_2   euc_1_3   euc_1_4   euc_1_5   euc_1_6   euc_1_7  \\\n0  3.048825  0.712929  0.756424  1.209765  1.005537  2.898817  2.672203   \n\n    euc_1_8   euc_1_9  euc_1_10  ...   euc_2_28  euc_2_29  euc_2_30  \\\n0  1.193188  1.233929  0.555947  ...  10.925293  7.213775  4.191334   \n\n    euc_2_31  euc_2_32  euc_2_33  euc_2_34   euc_2_35  euc_2_36   euc_2_37  \n0  18.768847  1.690434  0.467097  1.311675  15.454267  9.711279  12.413386  \n\n[1 rows x 74 columns]",
      "text/html": "<div>\n<style scoped>\n    .dataframe tbody tr th:only-of-type {\n        vertical-align: middle;\n    }\n\n    .dataframe tbody tr th {\n        vertical-align: top;\n    }\n\n    .dataframe thead th {\n        text-align: right;\n    }\n</style>\n<table border=\"1\" class=\"dataframe\">\n  <thead>\n    <tr style=\"text-align: right;\">\n      <th></th>\n      <th>euc_1_1</th>\n      <th>euc_1_2</th>\n      <th>euc_1_3</th>\n      <th>euc_1_4</th>\n      <th>euc_1_5</th>\n      <th>euc_1_6</th>\n      <th>euc_1_7</th>\n      <th>euc_1_8</th>\n      <th>euc_1_9</th>\n      <th>euc_1_10</th>\n      <th>...</th>\n      <th>euc_2_28</th>\n      <th>euc_2_29</th>\n      <th>euc_2_30</th>\n      <th>euc_2_31</th>\n      <th>euc_2_32</th>\n      <th>euc_2_33</th>\n      <th>euc_2_34</th>\n      <th>euc_2_35</th>\n      <th>euc_2_36</th>\n      <th>euc_2_37</th>\n    </tr>\n  </thead>\n  <tbody>\n    <tr>\n      <th>0</th>\n      <td>3.048825</td>\n      <td>0.712929</td>\n      <td>0.756424</td>\n      <td>1.209765</td>\n      <td>1.005537</td>\n      <td>2.898817</td>\n      <td>2.672203</td>\n      <td>1.193188</td>\n      <td>1.233929</td>\n      <td>0.555947</td>\n      <td>...</td>\n      <td>10.925293</td>\n      <td>7.213775</td>\n      <td>4.191334</td>\n      <td>18.768847</td>\n      <td>1.690434</td>\n      <td>0.467097</td>\n      <td>1.311675</td>\n      <td>15.454267</td>\n      <td>9.711279</td>\n      <td>12.413386</td>\n    </tr>\n  </tbody>\n</table>\n<p>1 rows × 74 columns</p>\n</div>"
     },
     "execution_count": 40,
     "metadata": {},
     "output_type": "execute_result"
    }
   ],
   "source": [
    "euc.fit_transform(data)"
   ],
   "metadata": {
    "collapsed": false,
    "ExecuteTime": {
     "end_time": "2024-03-19T12:58:23.830015700Z",
     "start_time": "2024-03-19T12:58:17.692156200Z"
    }
   },
   "id": "2fe9aec00cae8a9b"
  },
  {
   "cell_type": "code",
   "execution_count": 41,
   "outputs": [
    {
     "data": {
      "text/plain": "37"
     },
     "execution_count": 41,
     "metadata": {},
     "output_type": "execute_result"
    }
   ],
   "source": [
    "from scanpath_dist import get_fill_path\n",
    "\n",
    "expected_paths = get_expected_path(\n",
    "    data=data,\n",
    "    x=x,\n",
    "    y=y,\n",
    "    path_pk=['tekst'],\n",
    "    pk=['Participant', 'tekst'],\n",
    "    return_df=True\n",
    ")\n",
    "\n",
    "fill_path = get_fill_path(\n",
    "    list(expected_paths.values()), \n",
    "    x='x_est',\n",
    "    y='y_est'\n",
    ")\n",
    "\n",
    "len(expected_paths)"
   ],
   "metadata": {
    "collapsed": false,
    "ExecuteTime": {
     "end_time": "2024-03-19T12:58:29.873898Z",
     "start_time": "2024-03-19T12:58:23.829016Z"
    }
   },
   "id": "e17bf8e6d0e26fff"
  },
  {
   "cell_type": "code",
   "execution_count": 42,
   "outputs": [
    {
     "data": {
      "text/plain": "array([[3.04882529e+00, 7.12929416e-01, 7.56424234e-01, 1.20976543e+00,\n        1.00553738e+00, 2.89881665e+00, 2.67220346e+00, 1.19318825e+00,\n        1.23392888e+00, 5.55946830e-01, 9.22253175e-01, 3.64479471e+03,\n        2.16927370e+00, 1.87264471e+00, 1.54378723e+00, 2.08852628e+00,\n        3.16528819e+00, 2.15572139e+00, 2.21280779e+00, 3.93178073e+02,\n        7.81166543e+00, 5.04486619e+00, 6.97104208e+00, 1.02846197e+01,\n        1.87397774e+00, 1.32104730e+00, 4.12898908e+00, 1.09252934e+01,\n        7.21377495e+00, 4.19133394e+00, 1.87688466e+01, 1.69043359e+00,\n        4.67097332e-01, 1.31167488e+00, 1.54542668e+01, 9.71127921e+00,\n        1.24133861e+01, 3.04882529e+00, 7.12929416e-01, 7.56424234e-01,\n        1.20976543e+00, 1.00553738e+00, 2.89881665e+00, 2.67220346e+00,\n        1.19318825e+00, 1.23392888e+00, 5.55946830e-01, 9.22253175e-01,\n        3.64479471e+03, 2.16927370e+00, 1.87264471e+00, 1.54378723e+00,\n        2.08852628e+00, 3.16528819e+00, 2.15572139e+00, 2.21280779e+00,\n        3.93178073e+02, 7.81166543e+00, 5.04486619e+00, 6.97104208e+00,\n        1.02846197e+01, 1.87397774e+00, 1.32104730e+00, 4.12898908e+00,\n        1.09252934e+01, 7.21377495e+00, 4.19133394e+00, 1.87688466e+01,\n        1.69043359e+00, 4.67097332e-01, 1.31167488e+00, 1.54542668e+01,\n        9.71127921e+00, 1.24133861e+01]])"
     },
     "execution_count": 42,
     "metadata": {},
     "output_type": "execute_result"
    }
   ],
   "source": [
    "euc = EucDist(\n",
    "    x=x,\n",
    "    y=y,\n",
    "    path_pk=['tekst'],\n",
    "    pk=['Participant', 'tekst'],\n",
    "    expected_paths=expected_paths,\n",
    "    return_df=False\n",
    ")\n",
    "\n",
    "euc.fit_transform(data)"
   ],
   "metadata": {
    "collapsed": false,
    "ExecuteTime": {
     "end_time": "2024-03-19T12:58:30.604464700Z",
     "start_time": "2024-03-19T12:58:29.872897700Z"
    }
   },
   "id": "29df04a7edceb4d5"
  },
  {
   "cell_type": "code",
   "execution_count": 43,
   "outputs": [
    {
     "data": {
      "text/plain": "    hau_1_1   hau_1_2   hau_1_3   hau_1_4  hau_1_5   hau_1_6   hau_1_7  \\\n0  0.194536  0.063802  0.066652  0.092369  0.10171  0.279688  0.138929   \n\n    hau_1_8   hau_1_9  hau_1_10  ...  hau_2_28  hau_2_29  hau_2_30  hau_2_31  \\\n0  0.094807  0.147317  0.076706  ...  2.255686  0.133862  0.321899  3.745765   \n\n   hau_2_32  hau_2_33  hau_2_34  hau_2_35  hau_2_36  hau_2_37  \n0  0.116783  0.042363   0.23945    0.9164  0.755607  0.520875  \n\n[1 rows x 74 columns]",
      "text/html": "<div>\n<style scoped>\n    .dataframe tbody tr th:only-of-type {\n        vertical-align: middle;\n    }\n\n    .dataframe tbody tr th {\n        vertical-align: top;\n    }\n\n    .dataframe thead th {\n        text-align: right;\n    }\n</style>\n<table border=\"1\" class=\"dataframe\">\n  <thead>\n    <tr style=\"text-align: right;\">\n      <th></th>\n      <th>hau_1_1</th>\n      <th>hau_1_2</th>\n      <th>hau_1_3</th>\n      <th>hau_1_4</th>\n      <th>hau_1_5</th>\n      <th>hau_1_6</th>\n      <th>hau_1_7</th>\n      <th>hau_1_8</th>\n      <th>hau_1_9</th>\n      <th>hau_1_10</th>\n      <th>...</th>\n      <th>hau_2_28</th>\n      <th>hau_2_29</th>\n      <th>hau_2_30</th>\n      <th>hau_2_31</th>\n      <th>hau_2_32</th>\n      <th>hau_2_33</th>\n      <th>hau_2_34</th>\n      <th>hau_2_35</th>\n      <th>hau_2_36</th>\n      <th>hau_2_37</th>\n    </tr>\n  </thead>\n  <tbody>\n    <tr>\n      <th>0</th>\n      <td>0.194536</td>\n      <td>0.063802</td>\n      <td>0.066652</td>\n      <td>0.092369</td>\n      <td>0.10171</td>\n      <td>0.279688</td>\n      <td>0.138929</td>\n      <td>0.094807</td>\n      <td>0.147317</td>\n      <td>0.076706</td>\n      <td>...</td>\n      <td>2.255686</td>\n      <td>0.133862</td>\n      <td>0.321899</td>\n      <td>3.745765</td>\n      <td>0.116783</td>\n      <td>0.042363</td>\n      <td>0.23945</td>\n      <td>0.9164</td>\n      <td>0.755607</td>\n      <td>0.520875</td>\n    </tr>\n  </tbody>\n</table>\n<p>1 rows × 74 columns</p>\n</div>"
     },
     "execution_count": 43,
     "metadata": {},
     "output_type": "execute_result"
    }
   ],
   "source": [
    "from scanpath_dist import HauDist\n",
    "\n",
    "hau = HauDist(\n",
    "    x=x,\n",
    "    y=y,\n",
    "    path_pk=['tekst'],\n",
    "    pk=['Participant', 'tekst'],\n",
    "    expected_paths=expected_paths,\n",
    "    fill_path=fill_path,\n",
    "    return_df=True\n",
    ")\n",
    "\n",
    "hau.fit_transform(data)"
   ],
   "metadata": {
    "collapsed": false,
    "ExecuteTime": {
     "end_time": "2024-03-19T12:58:31.449708200Z",
     "start_time": "2024-03-19T12:58:30.611368Z"
    }
   },
   "id": "d7063921455e54d4"
  },
  {
   "cell_type": "code",
   "execution_count": 44,
   "outputs": [
    {
     "data": {
      "text/plain": "    dtw_1_1   dtw_1_2   dtw_1_3   dtw_1_4   dtw_1_5   dtw_1_6   dtw_1_7  \\\n0  1.787453  0.510791  0.516659  0.832287  0.643137  5.604751  1.211802   \n\n    dtw_1_8  dtw_1_9  dtw_1_10  ...  dtw_2_28  dtw_2_29  dtw_2_30   dtw_2_31  \\\n0  0.637592  1.22664  0.382113  ...  7.651892  1.219793   1.75252  18.448703   \n\n   dtw_2_32  dtw_2_33  dtw_2_34   dtw_2_35  dtw_2_36  dtw_2_37  \n0  1.104477  0.280697  2.352949  19.138715  2.065866  5.525813  \n\n[1 rows x 74 columns]",
      "text/html": "<div>\n<style scoped>\n    .dataframe tbody tr th:only-of-type {\n        vertical-align: middle;\n    }\n\n    .dataframe tbody tr th {\n        vertical-align: top;\n    }\n\n    .dataframe thead th {\n        text-align: right;\n    }\n</style>\n<table border=\"1\" class=\"dataframe\">\n  <thead>\n    <tr style=\"text-align: right;\">\n      <th></th>\n      <th>dtw_1_1</th>\n      <th>dtw_1_2</th>\n      <th>dtw_1_3</th>\n      <th>dtw_1_4</th>\n      <th>dtw_1_5</th>\n      <th>dtw_1_6</th>\n      <th>dtw_1_7</th>\n      <th>dtw_1_8</th>\n      <th>dtw_1_9</th>\n      <th>dtw_1_10</th>\n      <th>...</th>\n      <th>dtw_2_28</th>\n      <th>dtw_2_29</th>\n      <th>dtw_2_30</th>\n      <th>dtw_2_31</th>\n      <th>dtw_2_32</th>\n      <th>dtw_2_33</th>\n      <th>dtw_2_34</th>\n      <th>dtw_2_35</th>\n      <th>dtw_2_36</th>\n      <th>dtw_2_37</th>\n    </tr>\n  </thead>\n  <tbody>\n    <tr>\n      <th>0</th>\n      <td>1.787453</td>\n      <td>0.510791</td>\n      <td>0.516659</td>\n      <td>0.832287</td>\n      <td>0.643137</td>\n      <td>5.604751</td>\n      <td>1.211802</td>\n      <td>0.637592</td>\n      <td>1.22664</td>\n      <td>0.382113</td>\n      <td>...</td>\n      <td>7.651892</td>\n      <td>1.219793</td>\n      <td>1.75252</td>\n      <td>18.448703</td>\n      <td>1.104477</td>\n      <td>0.280697</td>\n      <td>2.352949</td>\n      <td>19.138715</td>\n      <td>2.065866</td>\n      <td>5.525813</td>\n    </tr>\n  </tbody>\n</table>\n<p>1 rows × 74 columns</p>\n</div>"
     },
     "execution_count": 44,
     "metadata": {},
     "output_type": "execute_result"
    }
   ],
   "source": [
    "from scanpath_dist import DTWDist\n",
    "\n",
    "dtw = DTWDist(\n",
    "    x=x,\n",
    "    y=y,\n",
    "    path_pk=['tekst'],\n",
    "    pk=['Participant', 'tekst'],\n",
    "    expected_paths=expected_paths,\n",
    "    fill_path=fill_path,\n",
    "    return_df=True\n",
    ")\n",
    "\n",
    "dtw.fit_transform(data)"
   ],
   "metadata": {
    "collapsed": false,
    "ExecuteTime": {
     "end_time": "2024-03-19T12:58:37.778001800Z",
     "start_time": "2024-03-19T12:58:31.453709600Z"
    }
   },
   "id": "f15633ee6bb39aba"
  },
  {
   "cell_type": "code",
   "execution_count": 45,
   "outputs": [
    {
     "data": {
      "text/plain": "   sm_1_1  sm_1_2  sm_1_3  sm_1_4  sm_1_5  sm_1_6  sm_1_7  sm_1_8  sm_1_9  \\\n0    66.0    37.0    46.0    39.0    24.0    56.0    40.0    40.0    59.0   \n\n   sm_1_10  ...  sm_2_28  sm_2_29  sm_2_30  sm_2_31  sm_2_32  sm_2_33  \\\n0     16.0  ...     70.0     37.0     55.0     40.0     29.0     30.0   \n\n   sm_2_34  sm_2_35  sm_2_36  sm_2_37  \n0     99.0    119.0     44.0     64.0  \n\n[1 rows x 74 columns]",
      "text/html": "<div>\n<style scoped>\n    .dataframe tbody tr th:only-of-type {\n        vertical-align: middle;\n    }\n\n    .dataframe tbody tr th {\n        vertical-align: top;\n    }\n\n    .dataframe thead th {\n        text-align: right;\n    }\n</style>\n<table border=\"1\" class=\"dataframe\">\n  <thead>\n    <tr style=\"text-align: right;\">\n      <th></th>\n      <th>sm_1_1</th>\n      <th>sm_1_2</th>\n      <th>sm_1_3</th>\n      <th>sm_1_4</th>\n      <th>sm_1_5</th>\n      <th>sm_1_6</th>\n      <th>sm_1_7</th>\n      <th>sm_1_8</th>\n      <th>sm_1_9</th>\n      <th>sm_1_10</th>\n      <th>...</th>\n      <th>sm_2_28</th>\n      <th>sm_2_29</th>\n      <th>sm_2_30</th>\n      <th>sm_2_31</th>\n      <th>sm_2_32</th>\n      <th>sm_2_33</th>\n      <th>sm_2_34</th>\n      <th>sm_2_35</th>\n      <th>sm_2_36</th>\n      <th>sm_2_37</th>\n    </tr>\n  </thead>\n  <tbody>\n    <tr>\n      <th>0</th>\n      <td>66.0</td>\n      <td>37.0</td>\n      <td>46.0</td>\n      <td>39.0</td>\n      <td>24.0</td>\n      <td>56.0</td>\n      <td>40.0</td>\n      <td>40.0</td>\n      <td>59.0</td>\n      <td>16.0</td>\n      <td>...</td>\n      <td>70.0</td>\n      <td>37.0</td>\n      <td>55.0</td>\n      <td>40.0</td>\n      <td>29.0</td>\n      <td>30.0</td>\n      <td>99.0</td>\n      <td>119.0</td>\n      <td>44.0</td>\n      <td>64.0</td>\n    </tr>\n  </tbody>\n</table>\n<p>1 rows × 74 columns</p>\n</div>"
     },
     "execution_count": 45,
     "metadata": {},
     "output_type": "execute_result"
    }
   ],
   "source": [
    "from scanpath_dist import ScanMatchDist\n",
    "\n",
    "query_filter = \"0 <= norm_pos_x <= 1 and 0 <= norm_pos_y <= 1\"\n",
    "data = data.query(query_filter)\n",
    "\n",
    "scan_match = ScanMatchDist(\n",
    "    x=x,\n",
    "    y=y,\n",
    "    duration=dur,\n",
    "    path_pk=['tekst'],\n",
    "    pk=['Participant', 'tekst'],\n",
    "    return_df=True\n",
    ")\n",
    "\n",
    "scan_match.fit_transform(data)"
   ],
   "metadata": {
    "collapsed": false,
    "ExecuteTime": {
     "end_time": "2024-03-19T12:58:45.216230600Z",
     "start_time": "2024-03-19T12:58:37.761578200Z"
    }
   },
   "id": "fdc10ab6c3fa41ba"
  },
  {
   "cell_type": "code",
   "execution_count": 46,
   "outputs": [
    {
     "data": {
      "text/plain": "    man_1_1   man_1_2   man_1_3   man_1_4  man_1_5   man_1_6   man_1_7  \\\n0  0.030314  0.010513  0.015061  0.041748  0.02648  0.055122  0.033677   \n\n    man_1_8   man_1_9  man_1_10  ...  man_2_28  man_2_29  man_2_30  man_2_31  \\\n0  0.019075  0.025434  0.007313  ...   0.11203  0.041382  0.074798  0.214245   \n\n   man_2_32  man_2_33  man_2_34  man_2_35  man_2_36  man_2_37  \n0  0.058474  0.007162  0.058584  0.064088  0.061682  0.088011  \n\n[1 rows x 74 columns]",
      "text/html": "<div>\n<style scoped>\n    .dataframe tbody tr th:only-of-type {\n        vertical-align: middle;\n    }\n\n    .dataframe tbody tr th {\n        vertical-align: top;\n    }\n\n    .dataframe thead th {\n        text-align: right;\n    }\n</style>\n<table border=\"1\" class=\"dataframe\">\n  <thead>\n    <tr style=\"text-align: right;\">\n      <th></th>\n      <th>man_1_1</th>\n      <th>man_1_2</th>\n      <th>man_1_3</th>\n      <th>man_1_4</th>\n      <th>man_1_5</th>\n      <th>man_1_6</th>\n      <th>man_1_7</th>\n      <th>man_1_8</th>\n      <th>man_1_9</th>\n      <th>man_1_10</th>\n      <th>...</th>\n      <th>man_2_28</th>\n      <th>man_2_29</th>\n      <th>man_2_30</th>\n      <th>man_2_31</th>\n      <th>man_2_32</th>\n      <th>man_2_33</th>\n      <th>man_2_34</th>\n      <th>man_2_35</th>\n      <th>man_2_36</th>\n      <th>man_2_37</th>\n    </tr>\n  </thead>\n  <tbody>\n    <tr>\n      <th>0</th>\n      <td>0.030314</td>\n      <td>0.010513</td>\n      <td>0.015061</td>\n      <td>0.041748</td>\n      <td>0.02648</td>\n      <td>0.055122</td>\n      <td>0.033677</td>\n      <td>0.019075</td>\n      <td>0.025434</td>\n      <td>0.007313</td>\n      <td>...</td>\n      <td>0.11203</td>\n      <td>0.041382</td>\n      <td>0.074798</td>\n      <td>0.214245</td>\n      <td>0.058474</td>\n      <td>0.007162</td>\n      <td>0.058584</td>\n      <td>0.064088</td>\n      <td>0.061682</td>\n      <td>0.088011</td>\n    </tr>\n  </tbody>\n</table>\n<p>1 rows × 74 columns</p>\n</div>"
     },
     "execution_count": 46,
     "metadata": {},
     "output_type": "execute_result"
    }
   ],
   "source": [
    "from scanpath_dist import MannanDist\n",
    "\n",
    "man = MannanDist(\n",
    "    x='norm_pos_x',\n",
    "    y='norm_pos_y',\n",
    "    path_pk=['tekst'],\n",
    "    pk=['Participant', 'tekst'],\n",
    "    expected_paths=expected_paths,\n",
    "    fill_path=fill_path,\n",
    "    return_df=True\n",
    ")\n",
    "\n",
    "man.fit_transform(data)"
   ],
   "metadata": {
    "collapsed": false,
    "ExecuteTime": {
     "end_time": "2024-03-19T12:58:45.463655200Z",
     "start_time": "2024-03-19T12:58:45.216230600Z"
    }
   },
   "id": "1452331cef8abc5e"
  },
  {
   "cell_type": "code",
   "execution_count": 47,
   "outputs": [
    {
     "data": {
      "text/plain": "     ea_1_1    ea_1_2    ea_1_3    ea_1_4    ea_1_5    ea_1_6    ea_1_7  \\\n0  0.003514  0.000441  0.000893  0.006898  0.002787  0.010185  0.004523   \n\n     ea_1_8    ea_1_9   ea_1_10  ...   ea_2_28   ea_2_29   ea_2_30   ea_2_31  \\\n0  0.001455  0.002419  0.000214  ...  0.048731  0.006725  0.012079  0.181125   \n\n    ea_2_32   ea_2_33   ea_2_34   ea_2_35   ea_2_36   ea_2_37  \n0  0.013591  0.000205  0.009781  0.013502  0.013838  0.022915  \n\n[1 rows x 74 columns]",
      "text/html": "<div>\n<style scoped>\n    .dataframe tbody tr th:only-of-type {\n        vertical-align: middle;\n    }\n\n    .dataframe tbody tr th {\n        vertical-align: top;\n    }\n\n    .dataframe thead th {\n        text-align: right;\n    }\n</style>\n<table border=\"1\" class=\"dataframe\">\n  <thead>\n    <tr style=\"text-align: right;\">\n      <th></th>\n      <th>ea_1_1</th>\n      <th>ea_1_2</th>\n      <th>ea_1_3</th>\n      <th>ea_1_4</th>\n      <th>ea_1_5</th>\n      <th>ea_1_6</th>\n      <th>ea_1_7</th>\n      <th>ea_1_8</th>\n      <th>ea_1_9</th>\n      <th>ea_1_10</th>\n      <th>...</th>\n      <th>ea_2_28</th>\n      <th>ea_2_29</th>\n      <th>ea_2_30</th>\n      <th>ea_2_31</th>\n      <th>ea_2_32</th>\n      <th>ea_2_33</th>\n      <th>ea_2_34</th>\n      <th>ea_2_35</th>\n      <th>ea_2_36</th>\n      <th>ea_2_37</th>\n    </tr>\n  </thead>\n  <tbody>\n    <tr>\n      <th>0</th>\n      <td>0.003514</td>\n      <td>0.000441</td>\n      <td>0.000893</td>\n      <td>0.006898</td>\n      <td>0.002787</td>\n      <td>0.010185</td>\n      <td>0.004523</td>\n      <td>0.001455</td>\n      <td>0.002419</td>\n      <td>0.000214</td>\n      <td>...</td>\n      <td>0.048731</td>\n      <td>0.006725</td>\n      <td>0.012079</td>\n      <td>0.181125</td>\n      <td>0.013591</td>\n      <td>0.000205</td>\n      <td>0.009781</td>\n      <td>0.013502</td>\n      <td>0.013838</td>\n      <td>0.022915</td>\n    </tr>\n  </tbody>\n</table>\n<p>1 rows × 74 columns</p>\n</div>"
     },
     "execution_count": 47,
     "metadata": {},
     "output_type": "execute_result"
    }
   ],
   "source": [
    "from scanpath_dist import EyeAnalysisDist\n",
    "\n",
    "ea = EyeAnalysisDist(\n",
    "    x='norm_pos_x',\n",
    "    y='norm_pos_y',\n",
    "    path_pk=['tekst'],\n",
    "    pk=['Participant', 'tekst'],\n",
    "    expected_paths=expected_paths,\n",
    "    fill_path=fill_path,\n",
    "    return_df=True\n",
    ")\n",
    "\n",
    "ea.fit_transform(data)"
   ],
   "metadata": {
    "collapsed": false,
    "ExecuteTime": {
     "end_time": "2024-03-19T12:58:45.706075800Z",
     "start_time": "2024-03-19T12:58:45.459654600Z"
    }
   },
   "id": "37a6e7be53dbdc53"
  },
  {
   "cell_type": "code",
   "execution_count": 48,
   "outputs": [
    {
     "data": {
      "text/plain": "     df_1_1    df_1_2    df_1_3    df_1_4    df_1_5    df_1_6    df_1_7  \\\n0  0.065187  0.025128  0.028384  0.121818  0.044789  0.099986  0.072004   \n\n     df_1_8   df_1_9   df_1_10  ...   df_2_28   df_2_29   df_2_30    df_2_31  \\\n0  0.037141  0.04889  0.016119  ...  4.294505  0.081079  0.056668  13.550874   \n\n    df_2_32   df_2_33   df_2_34   df_2_35  df_2_36   df_2_37  \n0  1.298157  0.019605  0.347299  0.419847  0.16032  0.090202  \n\n[1 rows x 74 columns]",
      "text/html": "<div>\n<style scoped>\n    .dataframe tbody tr th:only-of-type {\n        vertical-align: middle;\n    }\n\n    .dataframe tbody tr th {\n        vertical-align: top;\n    }\n\n    .dataframe thead th {\n        text-align: right;\n    }\n</style>\n<table border=\"1\" class=\"dataframe\">\n  <thead>\n    <tr style=\"text-align: right;\">\n      <th></th>\n      <th>df_1_1</th>\n      <th>df_1_2</th>\n      <th>df_1_3</th>\n      <th>df_1_4</th>\n      <th>df_1_5</th>\n      <th>df_1_6</th>\n      <th>df_1_7</th>\n      <th>df_1_8</th>\n      <th>df_1_9</th>\n      <th>df_1_10</th>\n      <th>...</th>\n      <th>df_2_28</th>\n      <th>df_2_29</th>\n      <th>df_2_30</th>\n      <th>df_2_31</th>\n      <th>df_2_32</th>\n      <th>df_2_33</th>\n      <th>df_2_34</th>\n      <th>df_2_35</th>\n      <th>df_2_36</th>\n      <th>df_2_37</th>\n    </tr>\n  </thead>\n  <tbody>\n    <tr>\n      <th>0</th>\n      <td>0.065187</td>\n      <td>0.025128</td>\n      <td>0.028384</td>\n      <td>0.121818</td>\n      <td>0.044789</td>\n      <td>0.099986</td>\n      <td>0.072004</td>\n      <td>0.037141</td>\n      <td>0.04889</td>\n      <td>0.016119</td>\n      <td>...</td>\n      <td>4.294505</td>\n      <td>0.081079</td>\n      <td>0.056668</td>\n      <td>13.550874</td>\n      <td>1.298157</td>\n      <td>0.019605</td>\n      <td>0.347299</td>\n      <td>0.419847</td>\n      <td>0.16032</td>\n      <td>0.090202</td>\n    </tr>\n  </tbody>\n</table>\n<p>1 rows × 74 columns</p>\n</div>"
     },
     "execution_count": 48,
     "metadata": {},
     "output_type": "execute_result"
    }
   ],
   "source": [
    "from scanpath_dist import DFDist\n",
    "\n",
    "df = DFDist(\n",
    "    x='norm_pos_x',\n",
    "    y='norm_pos_y',\n",
    "    path_pk=['tekst'],\n",
    "    pk=['Participant', 'tekst'],\n",
    "    expected_paths=expected_paths,\n",
    "    fill_path=fill_path,\n",
    "    return_df=True\n",
    ")\n",
    "\n",
    "df.fit_transform(data)"
   ],
   "metadata": {
    "collapsed": false,
    "ExecuteTime": {
     "end_time": "2024-03-19T12:58:49.665810Z",
     "start_time": "2024-03-19T12:58:45.699076200Z"
    }
   },
   "id": "515e398a4e2f1524"
  },
  {
   "cell_type": "code",
   "execution_count": 49,
   "outputs": [
    {
     "data": {
      "text/plain": "    tde_1_1   tde_1_2   tde_1_3   tde_1_4   tde_1_5   tde_1_6   tde_1_7  \\\n0  0.502217  0.394022  0.442141  0.349533  0.372233  0.663066  0.444254   \n\n    tde_1_8   tde_1_9  tde_1_10  ...  tde_2_28  tde_2_29  tde_2_30  tde_2_31  \\\n0  0.231162  0.278434  0.394892  ...  0.867568    0.5728  1.392103  2.418899   \n\n   tde_2_32  tde_2_33  tde_2_34  tde_2_35  tde_2_36  tde_2_37  \n0  0.714634  0.278778  0.688562  0.875638  0.476799  0.503963  \n\n[1 rows x 74 columns]",
      "text/html": "<div>\n<style scoped>\n    .dataframe tbody tr th:only-of-type {\n        vertical-align: middle;\n    }\n\n    .dataframe tbody tr th {\n        vertical-align: top;\n    }\n\n    .dataframe thead th {\n        text-align: right;\n    }\n</style>\n<table border=\"1\" class=\"dataframe\">\n  <thead>\n    <tr style=\"text-align: right;\">\n      <th></th>\n      <th>tde_1_1</th>\n      <th>tde_1_2</th>\n      <th>tde_1_3</th>\n      <th>tde_1_4</th>\n      <th>tde_1_5</th>\n      <th>tde_1_6</th>\n      <th>tde_1_7</th>\n      <th>tde_1_8</th>\n      <th>tde_1_9</th>\n      <th>tde_1_10</th>\n      <th>...</th>\n      <th>tde_2_28</th>\n      <th>tde_2_29</th>\n      <th>tde_2_30</th>\n      <th>tde_2_31</th>\n      <th>tde_2_32</th>\n      <th>tde_2_33</th>\n      <th>tde_2_34</th>\n      <th>tde_2_35</th>\n      <th>tde_2_36</th>\n      <th>tde_2_37</th>\n    </tr>\n  </thead>\n  <tbody>\n    <tr>\n      <th>0</th>\n      <td>0.502217</td>\n      <td>0.394022</td>\n      <td>0.442141</td>\n      <td>0.349533</td>\n      <td>0.372233</td>\n      <td>0.663066</td>\n      <td>0.444254</td>\n      <td>0.231162</td>\n      <td>0.278434</td>\n      <td>0.394892</td>\n      <td>...</td>\n      <td>0.867568</td>\n      <td>0.5728</td>\n      <td>1.392103</td>\n      <td>2.418899</td>\n      <td>0.714634</td>\n      <td>0.278778</td>\n      <td>0.688562</td>\n      <td>0.875638</td>\n      <td>0.476799</td>\n      <td>0.503963</td>\n    </tr>\n  </tbody>\n</table>\n<p>1 rows × 74 columns</p>\n</div>"
     },
     "execution_count": 49,
     "metadata": {},
     "output_type": "execute_result"
    }
   ],
   "source": [
    "from scanpath_dist import TDEDist\n",
    "\n",
    "tde = TDEDist(\n",
    "    k=10,\n",
    "    x='norm_pos_x',\n",
    "    y='norm_pos_y',\n",
    "    path_pk=['tekst'],\n",
    "    pk=['Participant', 'tekst'],\n",
    "    expected_paths=expected_paths,\n",
    "    fill_path=fill_path,\n",
    "    return_df=True\n",
    ")\n",
    "\n",
    "tde.fit_transform(data)"
   ],
   "metadata": {
    "collapsed": false,
    "ExecuteTime": {
     "end_time": "2024-03-19T12:58:49.857362200Z",
     "start_time": "2024-03-19T12:58:49.661812300Z"
    }
   },
   "id": "13678fad9e8d0082"
  },
  {
   "cell_type": "code",
   "execution_count": 50,
   "outputs": [
    {
     "data": {
      "text/plain": "   mm_shape_1_1  mm_angle_1_1  mm_len_1_1  mm_pos_1_1  mm_duration_1_1  \\\n0      0.987139      0.930205    0.982722    0.918791         0.790491   \n\n   mm_shape_1_2  mm_angle_1_2  mm_len_1_2  mm_pos_1_2  mm_duration_1_2  ...  \\\n0      0.994941      0.955519    0.996965    0.968464         0.879447  ...   \n\n   mm_shape_2_36  mm_angle_2_36  mm_len_2_36  mm_pos_2_36  mm_duration_2_36  \\\n0       0.985054       0.723779     0.987757     0.811322          0.692067   \n\n   mm_shape_2_37  mm_angle_2_37  mm_len_2_37  mm_pos_2_37  mm_duration_2_37  \n0       0.984104       0.685248     0.983233     0.706524          0.670549  \n\n[1 rows x 370 columns]",
      "text/html": "<div>\n<style scoped>\n    .dataframe tbody tr th:only-of-type {\n        vertical-align: middle;\n    }\n\n    .dataframe tbody tr th {\n        vertical-align: top;\n    }\n\n    .dataframe thead th {\n        text-align: right;\n    }\n</style>\n<table border=\"1\" class=\"dataframe\">\n  <thead>\n    <tr style=\"text-align: right;\">\n      <th></th>\n      <th>mm_shape_1_1</th>\n      <th>mm_angle_1_1</th>\n      <th>mm_len_1_1</th>\n      <th>mm_pos_1_1</th>\n      <th>mm_duration_1_1</th>\n      <th>mm_shape_1_2</th>\n      <th>mm_angle_1_2</th>\n      <th>mm_len_1_2</th>\n      <th>mm_pos_1_2</th>\n      <th>mm_duration_1_2</th>\n      <th>...</th>\n      <th>mm_shape_2_36</th>\n      <th>mm_angle_2_36</th>\n      <th>mm_len_2_36</th>\n      <th>mm_pos_2_36</th>\n      <th>mm_duration_2_36</th>\n      <th>mm_shape_2_37</th>\n      <th>mm_angle_2_37</th>\n      <th>mm_len_2_37</th>\n      <th>mm_pos_2_37</th>\n      <th>mm_duration_2_37</th>\n    </tr>\n  </thead>\n  <tbody>\n    <tr>\n      <th>0</th>\n      <td>0.987139</td>\n      <td>0.930205</td>\n      <td>0.982722</td>\n      <td>0.918791</td>\n      <td>0.790491</td>\n      <td>0.994941</td>\n      <td>0.955519</td>\n      <td>0.996965</td>\n      <td>0.968464</td>\n      <td>0.879447</td>\n      <td>...</td>\n      <td>0.985054</td>\n      <td>0.723779</td>\n      <td>0.987757</td>\n      <td>0.811322</td>\n      <td>0.692067</td>\n      <td>0.984104</td>\n      <td>0.685248</td>\n      <td>0.983233</td>\n      <td>0.706524</td>\n      <td>0.670549</td>\n    </tr>\n  </tbody>\n</table>\n<p>1 rows × 370 columns</p>\n</div>"
     },
     "execution_count": 50,
     "metadata": {},
     "output_type": "execute_result"
    }
   ],
   "source": [
    "from scanpath_dist import MultiMatchDist\n",
    "\n",
    "mm = MultiMatchDist(\n",
    "    x='norm_pos_x',\n",
    "    y='norm_pos_y',\n",
    "    duration='duration',\n",
    "    path_pk=['tekst'],\n",
    "    pk=['Participant', 'tekst'],\n",
    "    return_df=True\n",
    ")\n",
    "\n",
    "mm.fit_transform(data)"
   ],
   "metadata": {
    "collapsed": false,
    "ExecuteTime": {
     "end_time": "2024-03-19T12:59:00.160349400Z",
     "start_time": "2024-03-19T12:58:49.853346800Z"
    }
   },
   "id": "f6f09e7628371902"
  }
 ],
 "metadata": {
  "kernelspec": {
   "display_name": "Python 3",
   "language": "python",
   "name": "python3"
  },
  "language_info": {
   "codemirror_mode": {
    "name": "ipython",
    "version": 2
   },
   "file_extension": ".py",
   "mimetype": "text/x-python",
   "name": "python",
   "nbconvert_exporter": "python",
   "pygments_lexer": "ipython2",
   "version": "2.7.6"
  }
 },
 "nbformat": 4,
 "nbformat_minor": 5
}
