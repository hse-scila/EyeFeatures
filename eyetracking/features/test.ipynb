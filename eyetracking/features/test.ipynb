{
 "cells": [
  {
   "cell_type": "code",
   "execution_count": 1,
   "outputs": [],
   "source": [
    "import pandas as pd\n",
    "import numpy as np\n",
    "\n",
    "from stats import SaccadeLength, FixationDuration, SaccadeVelocity, FixationVAD, RegressionCount\n",
    "from extractor import Extractor"
   ],
   "metadata": {
    "collapsed": false,
    "ExecuteTime": {
     "end_time": "2024-03-18T21:42:09.593471900Z",
     "start_time": "2024-03-18T21:42:09.051831200Z"
    }
   },
   "id": "d9ae2cf357202ce8"
  },
  {
   "cell_type": "code",
   "execution_count": 2,
   "outputs": [],
   "source": [
    "data = pd.concat([pd.read_excel('itog_fix_1.xlsx'), pd.read_excel('itog_fix_2.xlsx')], axis=0)"
   ],
   "metadata": {
    "collapsed": false,
    "ExecuteTime": {
     "end_time": "2024-03-18T21:42:10.318774200Z",
     "start_time": "2024-03-18T21:42:09.597476200Z"
    }
   },
   "id": "dd1601b6febb317d"
  },
  {
   "cell_type": "code",
   "execution_count": 3,
   "outputs": [],
   "source": [
    "features = [\n",
    "        SaccadeVelocity(stats=['mean', 'kurtosis', 'max']),\n",
    "        FixationDuration(stats=['median', 'skew', 'var']),\n",
    "        FixationVAD(stats=['mean', 'median']),\n",
    "        SaccadeLength(stats=['var', 'std']),\n",
    "        RegressionCount()\n",
    "    ]\n",
    "sac_vel = SaccadeVelocity(stats=['mean', 'kurtosis', 'max'], x='norm_pos_x', y='norm_pos_y', t='start_timestamp', duration='duration',\n",
    "                            pk=['tekst'])\n",
    "fix_dur = FixationDuration(stats=['median', 'skew', 'var'], x='norm_pos_x', y='norm_pos_y', t='start_timestamp', duration='duration', pk=['tekst'])\n",
    "reg_count = RegressionCount(x='norm_pos_x', y='norm_pos_y', t='start_timestamp', pk=['tekst'])\n",
    "fix_vad = FixationVAD(stats=['mean', 'median'], x='norm_pos_x', y='norm_pos_y', t='start_timestamp', dispersion='dispersion', pk=['tekst'])\n",
    "sac_len = SaccadeLength(stats=['var', 'std'], x='norm_pos_x', y='norm_pos_y', t='start_timestamp', duration='duration', pk=['tekst'])\n",
    "\n",
    "extractor = Extractor(features=features, x='norm_pos_x', y='norm_pos_y', t='start_timestamp', duration='duration', dispersion='dispersion', pk=['tekst'],\n",
    "                      return_df=True)"
   ],
   "metadata": {
    "collapsed": false,
    "ExecuteTime": {
     "end_time": "2024-03-18T21:42:10.324914600Z",
     "start_time": "2024-03-18T21:42:10.318774200Z"
    }
   },
   "id": "e8ba167404481ab0"
  },
  {
   "cell_type": "code",
   "execution_count": 4,
   "outputs": [
    {
     "data": {
      "text/plain": "   sac_len_var_1  sac_len_std_1  sac_len_var_2  sac_len_std_2  sac_len_var_3  \\\n0         0.0086       0.092735       0.006856         0.0828       0.008787   \n\n   sac_len_std_3  sac_len_var_4  sac_len_std_4  sac_len_var_5  sac_len_std_5  \\\n0       0.093741        0.00875       0.093543       0.006019       0.077581   \n\n   ...  sac_len_var_33  sac_len_std_33  sac_len_var_34  sac_len_std_34  \\\n0  ...        0.004574        0.067629        0.006926         0.08322   \n\n   sac_len_var_35  sac_len_std_35  sac_len_var_36  sac_len_std_36  \\\n0        0.018313        0.135327         0.01331        0.115368   \n\n   sac_len_var_37  sac_len_std_37  \n0        0.013424        0.115863  \n\n[1 rows x 74 columns]",
      "text/html": "<div>\n<style scoped>\n    .dataframe tbody tr th:only-of-type {\n        vertical-align: middle;\n    }\n\n    .dataframe tbody tr th {\n        vertical-align: top;\n    }\n\n    .dataframe thead th {\n        text-align: right;\n    }\n</style>\n<table border=\"1\" class=\"dataframe\">\n  <thead>\n    <tr style=\"text-align: right;\">\n      <th></th>\n      <th>sac_len_var_1</th>\n      <th>sac_len_std_1</th>\n      <th>sac_len_var_2</th>\n      <th>sac_len_std_2</th>\n      <th>sac_len_var_3</th>\n      <th>sac_len_std_3</th>\n      <th>sac_len_var_4</th>\n      <th>sac_len_std_4</th>\n      <th>sac_len_var_5</th>\n      <th>sac_len_std_5</th>\n      <th>...</th>\n      <th>sac_len_var_33</th>\n      <th>sac_len_std_33</th>\n      <th>sac_len_var_34</th>\n      <th>sac_len_std_34</th>\n      <th>sac_len_var_35</th>\n      <th>sac_len_std_35</th>\n      <th>sac_len_var_36</th>\n      <th>sac_len_std_36</th>\n      <th>sac_len_var_37</th>\n      <th>sac_len_std_37</th>\n    </tr>\n  </thead>\n  <tbody>\n    <tr>\n      <th>0</th>\n      <td>0.0086</td>\n      <td>0.092735</td>\n      <td>0.006856</td>\n      <td>0.0828</td>\n      <td>0.008787</td>\n      <td>0.093741</td>\n      <td>0.00875</td>\n      <td>0.093543</td>\n      <td>0.006019</td>\n      <td>0.077581</td>\n      <td>...</td>\n      <td>0.004574</td>\n      <td>0.067629</td>\n      <td>0.006926</td>\n      <td>0.08322</td>\n      <td>0.018313</td>\n      <td>0.135327</td>\n      <td>0.01331</td>\n      <td>0.115368</td>\n      <td>0.013424</td>\n      <td>0.115863</td>\n    </tr>\n  </tbody>\n</table>\n<p>1 rows × 74 columns</p>\n</div>"
     },
     "execution_count": 4,
     "metadata": {},
     "output_type": "execute_result"
    }
   ],
   "source": [
    "sac_len.transform(data)"
   ],
   "metadata": {
    "collapsed": false,
    "ExecuteTime": {
     "end_time": "2024-03-18T21:42:11.411164900Z",
     "start_time": "2024-03-18T21:42:10.322773500Z"
    }
   },
   "id": "f02a3c5764b4a40"
  },
  {
   "cell_type": "code",
   "outputs": [
    {
     "data": {
      "text/plain": "   fix_dur_median_1  fix_dur_skew_1  fix_dur_var_1  fix_dur_median_2  \\\n0          178.2125        1.857757   10509.516414         183.87525   \n\n   fix_dur_skew_2  fix_dur_var_2  fix_dur_median_3  fix_dur_skew_3  \\\n0        1.284709   10140.758874          195.3575        1.518871   \n\n   fix_dur_var_3  fix_dur_median_4  ...  fix_dur_var_34  fix_dur_median_35  \\\n0   16487.438466          190.0345  ...    14172.790904            156.328   \n\n   fix_dur_skew_35  fix_dur_var_35  fix_dur_median_36  fix_dur_skew_36  \\\n0         3.939154    15912.971667           172.9265         0.790963   \n\n   fix_dur_var_36  fix_dur_median_37  fix_dur_skew_37  fix_dur_var_37  \n0     9222.189501            175.881         2.152412    10483.595051  \n\n[1 rows x 111 columns]",
      "text/html": "<div>\n<style scoped>\n    .dataframe tbody tr th:only-of-type {\n        vertical-align: middle;\n    }\n\n    .dataframe tbody tr th {\n        vertical-align: top;\n    }\n\n    .dataframe thead th {\n        text-align: right;\n    }\n</style>\n<table border=\"1\" class=\"dataframe\">\n  <thead>\n    <tr style=\"text-align: right;\">\n      <th></th>\n      <th>fix_dur_median_1</th>\n      <th>fix_dur_skew_1</th>\n      <th>fix_dur_var_1</th>\n      <th>fix_dur_median_2</th>\n      <th>fix_dur_skew_2</th>\n      <th>fix_dur_var_2</th>\n      <th>fix_dur_median_3</th>\n      <th>fix_dur_skew_3</th>\n      <th>fix_dur_var_3</th>\n      <th>fix_dur_median_4</th>\n      <th>...</th>\n      <th>fix_dur_var_34</th>\n      <th>fix_dur_median_35</th>\n      <th>fix_dur_skew_35</th>\n      <th>fix_dur_var_35</th>\n      <th>fix_dur_median_36</th>\n      <th>fix_dur_skew_36</th>\n      <th>fix_dur_var_36</th>\n      <th>fix_dur_median_37</th>\n      <th>fix_dur_skew_37</th>\n      <th>fix_dur_var_37</th>\n    </tr>\n  </thead>\n  <tbody>\n    <tr>\n      <th>0</th>\n      <td>178.2125</td>\n      <td>1.857757</td>\n      <td>10509.516414</td>\n      <td>183.87525</td>\n      <td>1.284709</td>\n      <td>10140.758874</td>\n      <td>195.3575</td>\n      <td>1.518871</td>\n      <td>16487.438466</td>\n      <td>190.0345</td>\n      <td>...</td>\n      <td>14172.790904</td>\n      <td>156.328</td>\n      <td>3.939154</td>\n      <td>15912.971667</td>\n      <td>172.9265</td>\n      <td>0.790963</td>\n      <td>9222.189501</td>\n      <td>175.881</td>\n      <td>2.152412</td>\n      <td>10483.595051</td>\n    </tr>\n  </tbody>\n</table>\n<p>1 rows × 111 columns</p>\n</div>"
     },
     "execution_count": 5,
     "metadata": {},
     "output_type": "execute_result"
    }
   ],
   "source": [
    "fix_dur.transform(data)"
   ],
   "metadata": {
    "collapsed": false,
    "ExecuteTime": {
     "end_time": "2024-03-18T21:42:12.314502600Z",
     "start_time": "2024-03-18T21:42:11.410198700Z"
    }
   },
   "id": "d280e96299c977d6",
   "execution_count": 5
  },
  {
   "cell_type": "code",
   "outputs": [
    {
     "data": {
      "text/plain": "   sac_vel_mean_1  sac_vel_kurtosis_1  sac_vel_max_1  sac_vel_mean_2  \\\n0        3.002532            6.470488      13.717103        2.703573   \n\n   sac_vel_kurtosis_2  sac_vel_max_2  sac_vel_mean_3  sac_vel_kurtosis_3  \\\n0            1.763947       8.626671        2.830928            3.589073   \n\n   sac_vel_max_3  sac_vel_mean_4  ...  sac_vel_max_34  sac_vel_mean_35  \\\n0      10.717298        2.802656  ...        6.728558         3.044436   \n\n   sac_vel_kurtosis_35  sac_vel_max_35  sac_vel_mean_36  sac_vel_kurtosis_36  \\\n0            37.115046       30.362497         3.032234             30.10733   \n\n   sac_vel_max_36  sac_vel_mean_37  sac_vel_kurtosis_37  sac_vel_max_37  \n0       22.777222         2.870006             6.351163       12.730611  \n\n[1 rows x 111 columns]",
      "text/html": "<div>\n<style scoped>\n    .dataframe tbody tr th:only-of-type {\n        vertical-align: middle;\n    }\n\n    .dataframe tbody tr th {\n        vertical-align: top;\n    }\n\n    .dataframe thead th {\n        text-align: right;\n    }\n</style>\n<table border=\"1\" class=\"dataframe\">\n  <thead>\n    <tr style=\"text-align: right;\">\n      <th></th>\n      <th>sac_vel_mean_1</th>\n      <th>sac_vel_kurtosis_1</th>\n      <th>sac_vel_max_1</th>\n      <th>sac_vel_mean_2</th>\n      <th>sac_vel_kurtosis_2</th>\n      <th>sac_vel_max_2</th>\n      <th>sac_vel_mean_3</th>\n      <th>sac_vel_kurtosis_3</th>\n      <th>sac_vel_max_3</th>\n      <th>sac_vel_mean_4</th>\n      <th>...</th>\n      <th>sac_vel_max_34</th>\n      <th>sac_vel_mean_35</th>\n      <th>sac_vel_kurtosis_35</th>\n      <th>sac_vel_max_35</th>\n      <th>sac_vel_mean_36</th>\n      <th>sac_vel_kurtosis_36</th>\n      <th>sac_vel_max_36</th>\n      <th>sac_vel_mean_37</th>\n      <th>sac_vel_kurtosis_37</th>\n      <th>sac_vel_max_37</th>\n    </tr>\n  </thead>\n  <tbody>\n    <tr>\n      <th>0</th>\n      <td>3.002532</td>\n      <td>6.470488</td>\n      <td>13.717103</td>\n      <td>2.703573</td>\n      <td>1.763947</td>\n      <td>8.626671</td>\n      <td>2.830928</td>\n      <td>3.589073</td>\n      <td>10.717298</td>\n      <td>2.802656</td>\n      <td>...</td>\n      <td>6.728558</td>\n      <td>3.044436</td>\n      <td>37.115046</td>\n      <td>30.362497</td>\n      <td>3.032234</td>\n      <td>30.10733</td>\n      <td>22.777222</td>\n      <td>2.870006</td>\n      <td>6.351163</td>\n      <td>12.730611</td>\n    </tr>\n  </tbody>\n</table>\n<p>1 rows × 111 columns</p>\n</div>"
     },
     "execution_count": 6,
     "metadata": {},
     "output_type": "execute_result"
    }
   ],
   "source": [
    "sac_vel.transform(data)"
   ],
   "metadata": {
    "collapsed": false,
    "ExecuteTime": {
     "end_time": "2024-03-18T21:42:13.864160800Z",
     "start_time": "2024-03-18T21:42:12.314502600Z"
    }
   },
   "id": "67c798e82044f26f",
   "execution_count": 6
  },
  {
   "cell_type": "code",
   "outputs": [
    {
     "data": {
      "text/plain": "   reg_count_1  reg_count_2  reg_count_3  reg_count_4  reg_count_5  \\\n0          269          164          152          151          155   \n\n   reg_count_6  reg_count_7  reg_count_8  reg_count_9  reg_count_10  ...  \\\n0          173          171          192          218           225  ...   \n\n   reg_count_28  reg_count_29  reg_count_30  reg_count_31  reg_count_32  \\\n0           130           161           104            86           113   \n\n   reg_count_33  reg_count_34  reg_count_35  reg_count_36  reg_count_37  \n0           166           137           220           104           135  \n\n[1 rows x 37 columns]",
      "text/html": "<div>\n<style scoped>\n    .dataframe tbody tr th:only-of-type {\n        vertical-align: middle;\n    }\n\n    .dataframe tbody tr th {\n        vertical-align: top;\n    }\n\n    .dataframe thead th {\n        text-align: right;\n    }\n</style>\n<table border=\"1\" class=\"dataframe\">\n  <thead>\n    <tr style=\"text-align: right;\">\n      <th></th>\n      <th>reg_count_1</th>\n      <th>reg_count_2</th>\n      <th>reg_count_3</th>\n      <th>reg_count_4</th>\n      <th>reg_count_5</th>\n      <th>reg_count_6</th>\n      <th>reg_count_7</th>\n      <th>reg_count_8</th>\n      <th>reg_count_9</th>\n      <th>reg_count_10</th>\n      <th>...</th>\n      <th>reg_count_28</th>\n      <th>reg_count_29</th>\n      <th>reg_count_30</th>\n      <th>reg_count_31</th>\n      <th>reg_count_32</th>\n      <th>reg_count_33</th>\n      <th>reg_count_34</th>\n      <th>reg_count_35</th>\n      <th>reg_count_36</th>\n      <th>reg_count_37</th>\n    </tr>\n  </thead>\n  <tbody>\n    <tr>\n      <th>0</th>\n      <td>269</td>\n      <td>164</td>\n      <td>152</td>\n      <td>151</td>\n      <td>155</td>\n      <td>173</td>\n      <td>171</td>\n      <td>192</td>\n      <td>218</td>\n      <td>225</td>\n      <td>...</td>\n      <td>130</td>\n      <td>161</td>\n      <td>104</td>\n      <td>86</td>\n      <td>113</td>\n      <td>166</td>\n      <td>137</td>\n      <td>220</td>\n      <td>104</td>\n      <td>135</td>\n    </tr>\n  </tbody>\n</table>\n<p>1 rows × 37 columns</p>\n</div>"
     },
     "execution_count": 7,
     "metadata": {},
     "output_type": "execute_result"
    }
   ],
   "source": [
    "reg_count.transform(data)"
   ],
   "metadata": {
    "collapsed": false,
    "ExecuteTime": {
     "end_time": "2024-03-18T21:42:14.649525800Z",
     "start_time": "2024-03-18T21:42:13.860049700Z"
    }
   },
   "id": "9c6d863a0ec44075",
   "execution_count": 7
  },
  {
   "cell_type": "code",
   "outputs": [
    {
     "data": {
      "text/plain": "   fix_disp_mean_1  fix_disp_median_1  fix_disp_mean_2  fix_disp_median_2  \\\n0         1.160423           1.204169         1.171774           1.233559   \n\n   fix_disp_mean_3  fix_disp_median_3  fix_disp_mean_4  fix_disp_median_4  \\\n0         1.204409           1.263217         1.146726           1.186699   \n\n   fix_disp_mean_5  fix_disp_median_5  ...  fix_disp_mean_33  \\\n0         1.196206           1.255999  ...          1.275482   \n\n   fix_disp_median_33  fix_disp_mean_34  fix_disp_median_34  fix_disp_mean_35  \\\n0            1.357264          1.240055            1.305495          1.206376   \n\n   fix_disp_median_35  fix_disp_mean_36  fix_disp_median_36  fix_disp_mean_37  \\\n0            1.282961          1.208544             1.29094          1.263215   \n\n   fix_disp_median_37  \n0            1.362009  \n\n[1 rows x 74 columns]",
      "text/html": "<div>\n<style scoped>\n    .dataframe tbody tr th:only-of-type {\n        vertical-align: middle;\n    }\n\n    .dataframe tbody tr th {\n        vertical-align: top;\n    }\n\n    .dataframe thead th {\n        text-align: right;\n    }\n</style>\n<table border=\"1\" class=\"dataframe\">\n  <thead>\n    <tr style=\"text-align: right;\">\n      <th></th>\n      <th>fix_disp_mean_1</th>\n      <th>fix_disp_median_1</th>\n      <th>fix_disp_mean_2</th>\n      <th>fix_disp_median_2</th>\n      <th>fix_disp_mean_3</th>\n      <th>fix_disp_median_3</th>\n      <th>fix_disp_mean_4</th>\n      <th>fix_disp_median_4</th>\n      <th>fix_disp_mean_5</th>\n      <th>fix_disp_median_5</th>\n      <th>...</th>\n      <th>fix_disp_mean_33</th>\n      <th>fix_disp_median_33</th>\n      <th>fix_disp_mean_34</th>\n      <th>fix_disp_median_34</th>\n      <th>fix_disp_mean_35</th>\n      <th>fix_disp_median_35</th>\n      <th>fix_disp_mean_36</th>\n      <th>fix_disp_median_36</th>\n      <th>fix_disp_mean_37</th>\n      <th>fix_disp_median_37</th>\n    </tr>\n  </thead>\n  <tbody>\n    <tr>\n      <th>0</th>\n      <td>1.160423</td>\n      <td>1.204169</td>\n      <td>1.171774</td>\n      <td>1.233559</td>\n      <td>1.204409</td>\n      <td>1.263217</td>\n      <td>1.146726</td>\n      <td>1.186699</td>\n      <td>1.196206</td>\n      <td>1.255999</td>\n      <td>...</td>\n      <td>1.275482</td>\n      <td>1.357264</td>\n      <td>1.240055</td>\n      <td>1.305495</td>\n      <td>1.206376</td>\n      <td>1.282961</td>\n      <td>1.208544</td>\n      <td>1.29094</td>\n      <td>1.263215</td>\n      <td>1.362009</td>\n    </tr>\n  </tbody>\n</table>\n<p>1 rows × 74 columns</p>\n</div>"
     },
     "execution_count": 8,
     "metadata": {},
     "output_type": "execute_result"
    }
   ],
   "source": [
    "fix_vad.transform(data)"
   ],
   "metadata": {
    "collapsed": false,
    "ExecuteTime": {
     "end_time": "2024-03-18T21:42:15.526811400Z",
     "start_time": "2024-03-18T21:42:14.685023800Z"
    }
   },
   "id": "cd3312c9d3efe321",
   "execution_count": 8
  },
  {
   "cell_type": "code",
   "execution_count": 9,
   "outputs": [
    {
     "data": {
      "text/plain": "   sac_vel_mean_1  sac_vel_kurtosis_1  sac_vel_max_1  sac_vel_mean_2  \\\n0        3.002532            6.470488      13.717103        2.703573   \n\n   sac_vel_kurtosis_2  sac_vel_max_2  sac_vel_mean_3  sac_vel_kurtosis_3  \\\n0            1.763947       8.626671        2.830928            3.589073   \n\n   sac_vel_max_3  sac_vel_mean_4  ...  reg_count_28  reg_count_29  \\\n0      10.717298        2.802656  ...           130           161   \n\n   reg_count_30  reg_count_31  reg_count_32  reg_count_33  reg_count_34  \\\n0           104            86           113           166           137   \n\n   reg_count_35  reg_count_36  reg_count_37  \n0           220           104           135  \n\n[1 rows x 407 columns]",
      "text/html": "<div>\n<style scoped>\n    .dataframe tbody tr th:only-of-type {\n        vertical-align: middle;\n    }\n\n    .dataframe tbody tr th {\n        vertical-align: top;\n    }\n\n    .dataframe thead th {\n        text-align: right;\n    }\n</style>\n<table border=\"1\" class=\"dataframe\">\n  <thead>\n    <tr style=\"text-align: right;\">\n      <th></th>\n      <th>sac_vel_mean_1</th>\n      <th>sac_vel_kurtosis_1</th>\n      <th>sac_vel_max_1</th>\n      <th>sac_vel_mean_2</th>\n      <th>sac_vel_kurtosis_2</th>\n      <th>sac_vel_max_2</th>\n      <th>sac_vel_mean_3</th>\n      <th>sac_vel_kurtosis_3</th>\n      <th>sac_vel_max_3</th>\n      <th>sac_vel_mean_4</th>\n      <th>...</th>\n      <th>reg_count_28</th>\n      <th>reg_count_29</th>\n      <th>reg_count_30</th>\n      <th>reg_count_31</th>\n      <th>reg_count_32</th>\n      <th>reg_count_33</th>\n      <th>reg_count_34</th>\n      <th>reg_count_35</th>\n      <th>reg_count_36</th>\n      <th>reg_count_37</th>\n    </tr>\n  </thead>\n  <tbody>\n    <tr>\n      <th>0</th>\n      <td>3.002532</td>\n      <td>6.470488</td>\n      <td>13.717103</td>\n      <td>2.703573</td>\n      <td>1.763947</td>\n      <td>8.626671</td>\n      <td>2.830928</td>\n      <td>3.589073</td>\n      <td>10.717298</td>\n      <td>2.802656</td>\n      <td>...</td>\n      <td>130</td>\n      <td>161</td>\n      <td>104</td>\n      <td>86</td>\n      <td>113</td>\n      <td>166</td>\n      <td>137</td>\n      <td>220</td>\n      <td>104</td>\n      <td>135</td>\n    </tr>\n  </tbody>\n</table>\n<p>1 rows × 407 columns</p>\n</div>"
     },
     "execution_count": 9,
     "metadata": {},
     "output_type": "execute_result"
    }
   ],
   "source": [
    "extractor.transform(data)"
   ],
   "metadata": {
    "collapsed": false,
    "ExecuteTime": {
     "end_time": "2024-03-18T21:42:16.477786200Z",
     "start_time": "2024-03-18T21:42:15.521594400Z"
    }
   },
   "id": "d43090cb1ccef295"
  },
  {
   "cell_type": "code",
   "execution_count": 10,
   "outputs": [
    {
     "data": {
      "text/plain": "((1, 74),\n (1, 111),\n SaccadeVelocity(duration='duration', pk=['tekst'],\n                 stats=['mean', 'kurtosis', 'max'], t='start_timestamp',\n                 x='norm_pos_x', y='norm_pos_y'),\n (1, 407))"
     },
     "execution_count": 10,
     "metadata": {},
     "output_type": "execute_result"
    }
   ],
   "source": [
    "sac_len.transform(data).shape, fix_dur.transform(data).shape, sac_vel, extractor.transform(data).shape"
   ],
   "metadata": {
    "collapsed": false,
    "ExecuteTime": {
     "end_time": "2024-03-18T21:42:16.910879800Z",
     "start_time": "2024-03-18T21:42:16.477786200Z"
    }
   },
   "id": "7b45a8235fc358eb"
  },
  {
   "cell_type": "code",
   "execution_count": 11,
   "outputs": [
    {
     "data": {
      "text/plain": "dict_keys(['1', '2', '3', '4', '5', '6', '7', '8', '9', '10', '11', '12', '13', '14', '15', '16', '17', '18', '19', '20', '21', '22', '23', '24', '25', '26', '27', '28', '29', '30', '31', '32', '33', '34', '35', '36', '37'])"
     },
     "execution_count": 11,
     "metadata": {},
     "output_type": "execute_result"
    }
   ],
   "source": [
    "from scanpath_dist import get_expected_path\n",
    "\n",
    "paths = get_expected_path(\n",
    "    data=data,\n",
    "    x='norm_pos_x',\n",
    "    y='norm_pos_y',\n",
    "    path_pk=['tekst'],\n",
    "    pk=['tekst', 'Participant'],\n",
    "    duration='duration'\n",
    ")\n",
    "\n",
    "paths.keys()"
   ],
   "metadata": {
    "collapsed": false,
    "ExecuteTime": {
     "end_time": "2024-03-18T21:42:24.044429900Z",
     "start_time": "2024-03-18T21:42:16.950909400Z"
    }
   },
   "id": "b81e8e6a4f827615"
  },
  {
   "cell_type": "code",
   "execution_count": 12,
   "outputs": [
    {
     "data": {
      "text/plain": "        x_est     y_est  duration_est\n0    0.259898  0.500364     206.67675\n1    0.249939  0.471984     167.37850\n2    0.245635  0.460574     151.21150\n3    0.240511  0.528885     186.05625\n4    0.266589  0.529640     278.93000\n..        ...       ...           ...\n166  0.460267 -0.072699     228.13350\n167  0.461565 -0.063056      79.41750\n168  0.334058  0.265421     131.70250\n169  0.334674  0.273724     120.10650\n170  0.262132  0.343488     191.01800\n\n[171 rows x 3 columns]",
      "text/html": "<div>\n<style scoped>\n    .dataframe tbody tr th:only-of-type {\n        vertical-align: middle;\n    }\n\n    .dataframe tbody tr th {\n        vertical-align: top;\n    }\n\n    .dataframe thead th {\n        text-align: right;\n    }\n</style>\n<table border=\"1\" class=\"dataframe\">\n  <thead>\n    <tr style=\"text-align: right;\">\n      <th></th>\n      <th>x_est</th>\n      <th>y_est</th>\n      <th>duration_est</th>\n    </tr>\n  </thead>\n  <tbody>\n    <tr>\n      <th>0</th>\n      <td>0.259898</td>\n      <td>0.500364</td>\n      <td>206.67675</td>\n    </tr>\n    <tr>\n      <th>1</th>\n      <td>0.249939</td>\n      <td>0.471984</td>\n      <td>167.37850</td>\n    </tr>\n    <tr>\n      <th>2</th>\n      <td>0.245635</td>\n      <td>0.460574</td>\n      <td>151.21150</td>\n    </tr>\n    <tr>\n      <th>3</th>\n      <td>0.240511</td>\n      <td>0.528885</td>\n      <td>186.05625</td>\n    </tr>\n    <tr>\n      <th>4</th>\n      <td>0.266589</td>\n      <td>0.529640</td>\n      <td>278.93000</td>\n    </tr>\n    <tr>\n      <th>...</th>\n      <td>...</td>\n      <td>...</td>\n      <td>...</td>\n    </tr>\n    <tr>\n      <th>166</th>\n      <td>0.460267</td>\n      <td>-0.072699</td>\n      <td>228.13350</td>\n    </tr>\n    <tr>\n      <th>167</th>\n      <td>0.461565</td>\n      <td>-0.063056</td>\n      <td>79.41750</td>\n    </tr>\n    <tr>\n      <th>168</th>\n      <td>0.334058</td>\n      <td>0.265421</td>\n      <td>131.70250</td>\n    </tr>\n    <tr>\n      <th>169</th>\n      <td>0.334674</td>\n      <td>0.273724</td>\n      <td>120.10650</td>\n    </tr>\n    <tr>\n      <th>170</th>\n      <td>0.262132</td>\n      <td>0.343488</td>\n      <td>191.01800</td>\n    </tr>\n  </tbody>\n</table>\n<p>171 rows × 3 columns</p>\n</div>"
     },
     "execution_count": 12,
     "metadata": {},
     "output_type": "execute_result"
    }
   ],
   "source": [
    "paths['1']"
   ],
   "metadata": {
    "collapsed": false,
    "ExecuteTime": {
     "end_time": "2024-03-18T21:42:24.051426800Z",
     "start_time": "2024-03-18T21:42:24.043426500Z"
    }
   },
   "id": "2782dbf6dac310b6"
  },
  {
   "cell_type": "code",
   "execution_count": 13,
   "outputs": [],
   "source": [
    "from scanpath_dist import EucDist\n",
    "\n",
    "euc = EucDist(\n",
    "    x='norm_pos_x',\n",
    "    y='norm_pos_y',\n",
    "    path_pk=['tekst'],\n",
    "    pk=['Participant', 'tekst'],\n",
    "    return_df=True\n",
    ")\n",
    "\n",
    "euc.expected_paths"
   ],
   "metadata": {
    "collapsed": false,
    "ExecuteTime": {
     "end_time": "2024-03-18T21:42:24.057508Z",
     "start_time": "2024-03-18T21:42:24.048426700Z"
    }
   },
   "id": "dfae08dc13762808"
  },
  {
   "cell_type": "code",
   "execution_count": 14,
   "outputs": [
    {
     "data": {
      "text/plain": "     euc_1_1   euc_1_2   euc_1_3  euc_1_4   euc_1_5    euc_1_6    euc_1_7  \\\n0  19.774817  6.845336  6.807137  9.40596  6.841313  13.803866  13.172698   \n\n    euc_1_8    euc_1_9  euc_1_10  ...  euc_2_28   euc_2_29   euc_2_30  \\\n0  9.699999  10.177342  5.370692  ...  28.63269  27.179347  15.420957   \n\n    euc_2_31   euc_2_32  euc_2_33  euc_2_34  euc_2_35   euc_2_36  euc_2_37  \n0  19.820485  10.697674  4.989575  8.937469  43.75809  27.940276   36.8129  \n\n[1 rows x 74 columns]",
      "text/html": "<div>\n<style scoped>\n    .dataframe tbody tr th:only-of-type {\n        vertical-align: middle;\n    }\n\n    .dataframe tbody tr th {\n        vertical-align: top;\n    }\n\n    .dataframe thead th {\n        text-align: right;\n    }\n</style>\n<table border=\"1\" class=\"dataframe\">\n  <thead>\n    <tr style=\"text-align: right;\">\n      <th></th>\n      <th>euc_1_1</th>\n      <th>euc_1_2</th>\n      <th>euc_1_3</th>\n      <th>euc_1_4</th>\n      <th>euc_1_5</th>\n      <th>euc_1_6</th>\n      <th>euc_1_7</th>\n      <th>euc_1_8</th>\n      <th>euc_1_9</th>\n      <th>euc_1_10</th>\n      <th>...</th>\n      <th>euc_2_28</th>\n      <th>euc_2_29</th>\n      <th>euc_2_30</th>\n      <th>euc_2_31</th>\n      <th>euc_2_32</th>\n      <th>euc_2_33</th>\n      <th>euc_2_34</th>\n      <th>euc_2_35</th>\n      <th>euc_2_36</th>\n      <th>euc_2_37</th>\n    </tr>\n  </thead>\n  <tbody>\n    <tr>\n      <th>0</th>\n      <td>19.774817</td>\n      <td>6.845336</td>\n      <td>6.807137</td>\n      <td>9.40596</td>\n      <td>6.841313</td>\n      <td>13.803866</td>\n      <td>13.172698</td>\n      <td>9.699999</td>\n      <td>10.177342</td>\n      <td>5.370692</td>\n      <td>...</td>\n      <td>28.63269</td>\n      <td>27.179347</td>\n      <td>15.420957</td>\n      <td>19.820485</td>\n      <td>10.697674</td>\n      <td>4.989575</td>\n      <td>8.937469</td>\n      <td>43.75809</td>\n      <td>27.940276</td>\n      <td>36.8129</td>\n    </tr>\n  </tbody>\n</table>\n<p>1 rows × 74 columns</p>\n</div>"
     },
     "execution_count": 14,
     "metadata": {},
     "output_type": "execute_result"
    }
   ],
   "source": [
    "euc.fit_transform(data)"
   ],
   "metadata": {
    "collapsed": false,
    "ExecuteTime": {
     "end_time": "2024-03-18T21:42:35.056915700Z",
     "start_time": "2024-03-18T21:42:24.054510Z"
    }
   },
   "id": "2fe9aec00cae8a9b"
  },
  {
   "cell_type": "code",
   "execution_count": 15,
   "outputs": [
    {
     "data": {
      "text/plain": "37"
     },
     "execution_count": 15,
     "metadata": {},
     "output_type": "execute_result"
    }
   ],
   "source": [
    "from scanpath_dist import get_fill_path\n",
    "\n",
    "expected_paths = get_expected_path(\n",
    "    data=data,\n",
    "    x='norm_pos_x',\n",
    "    y='norm_pos_y',\n",
    "    path_pk=['tekst'],\n",
    "    pk=['Participant', 'tekst'],\n",
    "    return_df=True\n",
    ")\n",
    "\n",
    "fill_path = get_fill_path(\n",
    "    list(expected_paths.values()), \n",
    "    x='x_est',\n",
    "    y='y_est'\n",
    ")\n",
    "\n",
    "len(expected_paths)"
   ],
   "metadata": {
    "collapsed": false,
    "ExecuteTime": {
     "end_time": "2024-03-18T21:42:43.062548200Z",
     "start_time": "2024-03-18T21:42:35.085326300Z"
    }
   },
   "id": "e17bf8e6d0e26fff"
  },
  {
   "cell_type": "code",
   "execution_count": 16,
   "outputs": [
    {
     "data": {
      "text/plain": "array([[19.77481651,  6.84533591,  6.80713654,  9.40595967,  6.84131304,\n        13.80386602, 13.17269768,  9.69999947, 10.17734174,  5.37069155,\n         8.04677426, 66.08850384, 13.88908259, 12.89771711,  9.32019752,\n        12.37905538, 15.53410607, 12.06237739, 11.39779281, 51.13333515,\n        24.87932446, 20.56147855, 21.92280514, 27.13120879, 11.06674228,\n         9.26082329, 15.25363076, 28.63268982, 27.17934713, 15.42095736,\n        19.82048526, 10.69767372,  4.98957505,  8.93746905, 43.75808954,\n        27.94027586, 36.81289989, 19.77481651,  6.84533591,  6.80713654,\n         9.40595967,  6.84131304, 13.80386602, 13.17269768,  9.69999947,\n        10.17734174,  5.37069155,  8.04677426, 66.08850384, 13.88908259,\n        12.89771711,  9.32019752, 12.37905538, 15.53410607, 12.06237739,\n        11.39779281, 51.13333515, 24.87932446, 20.56147855, 21.92280514,\n        27.13120879, 11.06674228,  9.26082329, 15.25363076, 28.63268982,\n        27.17934713, 15.42095736, 19.82048526, 10.69767372,  4.98957505,\n         8.93746905, 43.75808954, 27.94027586, 36.81289989]])"
     },
     "execution_count": 16,
     "metadata": {},
     "output_type": "execute_result"
    }
   ],
   "source": [
    "euc = EucDist(\n",
    "    x='norm_pos_x',\n",
    "    y='norm_pos_y',\n",
    "    path_pk=['tekst'],\n",
    "    pk=['Participant', 'tekst'],\n",
    "    expected_paths=expected_paths,\n",
    "    return_df=False\n",
    ")\n",
    "\n",
    "euc.fit_transform(data)"
   ],
   "metadata": {
    "collapsed": false,
    "ExecuteTime": {
     "end_time": "2024-03-18T21:42:43.795627500Z",
     "start_time": "2024-03-18T21:42:43.060519500Z"
    }
   },
   "id": "29df04a7edceb4d5"
  },
  {
   "cell_type": "code",
   "execution_count": 17,
   "outputs": [
    {
     "data": {
      "text/plain": "    hau_1_1   hau_1_2   hau_1_3   hau_1_4  hau_1_5   hau_1_6   hau_1_7  \\\n0  0.194536  0.063802  0.066652  0.092369  0.10171  0.279688  0.138929   \n\n    hau_1_8   hau_1_9  hau_1_10  ...  hau_2_28  hau_2_29  hau_2_30  hau_2_31  \\\n0  0.094807  0.147317  0.076706  ...  2.255686  0.133862  0.321899  3.745765   \n\n   hau_2_32  hau_2_33  hau_2_34  hau_2_35  hau_2_36  hau_2_37  \n0  0.116783  0.042363   0.23945    0.9164  0.755607  0.520875  \n\n[1 rows x 74 columns]",
      "text/html": "<div>\n<style scoped>\n    .dataframe tbody tr th:only-of-type {\n        vertical-align: middle;\n    }\n\n    .dataframe tbody tr th {\n        vertical-align: top;\n    }\n\n    .dataframe thead th {\n        text-align: right;\n    }\n</style>\n<table border=\"1\" class=\"dataframe\">\n  <thead>\n    <tr style=\"text-align: right;\">\n      <th></th>\n      <th>hau_1_1</th>\n      <th>hau_1_2</th>\n      <th>hau_1_3</th>\n      <th>hau_1_4</th>\n      <th>hau_1_5</th>\n      <th>hau_1_6</th>\n      <th>hau_1_7</th>\n      <th>hau_1_8</th>\n      <th>hau_1_9</th>\n      <th>hau_1_10</th>\n      <th>...</th>\n      <th>hau_2_28</th>\n      <th>hau_2_29</th>\n      <th>hau_2_30</th>\n      <th>hau_2_31</th>\n      <th>hau_2_32</th>\n      <th>hau_2_33</th>\n      <th>hau_2_34</th>\n      <th>hau_2_35</th>\n      <th>hau_2_36</th>\n      <th>hau_2_37</th>\n    </tr>\n  </thead>\n  <tbody>\n    <tr>\n      <th>0</th>\n      <td>0.194536</td>\n      <td>0.063802</td>\n      <td>0.066652</td>\n      <td>0.092369</td>\n      <td>0.10171</td>\n      <td>0.279688</td>\n      <td>0.138929</td>\n      <td>0.094807</td>\n      <td>0.147317</td>\n      <td>0.076706</td>\n      <td>...</td>\n      <td>2.255686</td>\n      <td>0.133862</td>\n      <td>0.321899</td>\n      <td>3.745765</td>\n      <td>0.116783</td>\n      <td>0.042363</td>\n      <td>0.23945</td>\n      <td>0.9164</td>\n      <td>0.755607</td>\n      <td>0.520875</td>\n    </tr>\n  </tbody>\n</table>\n<p>1 rows × 74 columns</p>\n</div>"
     },
     "execution_count": 17,
     "metadata": {},
     "output_type": "execute_result"
    }
   ],
   "source": [
    "from scanpath_dist import HauDist\n",
    "\n",
    "hau = HauDist(\n",
    "    x='norm_pos_x',\n",
    "    y='norm_pos_y',\n",
    "    path_pk=['tekst'],\n",
    "    pk=['Participant', 'tekst'],\n",
    "    expected_paths=expected_paths,\n",
    "    fill_path=fill_path,\n",
    "    return_df=True\n",
    ")\n",
    "\n",
    "hau.fit_transform(data)"
   ],
   "metadata": {
    "collapsed": false,
    "ExecuteTime": {
     "end_time": "2024-03-18T21:42:46.464283200Z",
     "start_time": "2024-03-18T21:42:43.797630100Z"
    }
   },
   "id": "d7063921455e54d4"
  },
  {
   "cell_type": "code",
   "execution_count": 18,
   "outputs": [
    {
     "data": {
      "text/plain": "    dtw_1_1   dtw_1_2   dtw_1_3   dtw_1_4   dtw_1_5   dtw_1_6   dtw_1_7  \\\n0  1.787453  0.510791  0.516659  0.832287  0.643137  5.604751  1.211802   \n\n    dtw_1_8  dtw_1_9  dtw_1_10  ...  dtw_2_28  dtw_2_29  dtw_2_30   dtw_2_31  \\\n0  0.637592  1.22664  0.382113  ...  7.651892  1.219793   1.75252  18.448703   \n\n   dtw_2_32  dtw_2_33  dtw_2_34   dtw_2_35  dtw_2_36  dtw_2_37  \n0  1.104477  0.280697  2.352949  19.138715  2.065866  5.525813  \n\n[1 rows x 74 columns]",
      "text/html": "<div>\n<style scoped>\n    .dataframe tbody tr th:only-of-type {\n        vertical-align: middle;\n    }\n\n    .dataframe tbody tr th {\n        vertical-align: top;\n    }\n\n    .dataframe thead th {\n        text-align: right;\n    }\n</style>\n<table border=\"1\" class=\"dataframe\">\n  <thead>\n    <tr style=\"text-align: right;\">\n      <th></th>\n      <th>dtw_1_1</th>\n      <th>dtw_1_2</th>\n      <th>dtw_1_3</th>\n      <th>dtw_1_4</th>\n      <th>dtw_1_5</th>\n      <th>dtw_1_6</th>\n      <th>dtw_1_7</th>\n      <th>dtw_1_8</th>\n      <th>dtw_1_9</th>\n      <th>dtw_1_10</th>\n      <th>...</th>\n      <th>dtw_2_28</th>\n      <th>dtw_2_29</th>\n      <th>dtw_2_30</th>\n      <th>dtw_2_31</th>\n      <th>dtw_2_32</th>\n      <th>dtw_2_33</th>\n      <th>dtw_2_34</th>\n      <th>dtw_2_35</th>\n      <th>dtw_2_36</th>\n      <th>dtw_2_37</th>\n    </tr>\n  </thead>\n  <tbody>\n    <tr>\n      <th>0</th>\n      <td>1.787453</td>\n      <td>0.510791</td>\n      <td>0.516659</td>\n      <td>0.832287</td>\n      <td>0.643137</td>\n      <td>5.604751</td>\n      <td>1.211802</td>\n      <td>0.637592</td>\n      <td>1.22664</td>\n      <td>0.382113</td>\n      <td>...</td>\n      <td>7.651892</td>\n      <td>1.219793</td>\n      <td>1.75252</td>\n      <td>18.448703</td>\n      <td>1.104477</td>\n      <td>0.280697</td>\n      <td>2.352949</td>\n      <td>19.138715</td>\n      <td>2.065866</td>\n      <td>5.525813</td>\n    </tr>\n  </tbody>\n</table>\n<p>1 rows × 74 columns</p>\n</div>"
     },
     "execution_count": 18,
     "metadata": {},
     "output_type": "execute_result"
    }
   ],
   "source": [
    "from scanpath_dist import DTWDist\n",
    "\n",
    "dtw = DTWDist(\n",
    "    x='norm_pos_x',\n",
    "    y='norm_pos_y',\n",
    "    path_pk=['tekst'],\n",
    "    pk=['Participant', 'tekst'],\n",
    "    expected_paths=expected_paths,\n",
    "    fill_path=fill_path,\n",
    "    return_df=True\n",
    ")\n",
    "\n",
    "dtw.fit_transform(data)"
   ],
   "metadata": {
    "collapsed": false,
    "ExecuteTime": {
     "end_time": "2024-03-18T21:42:54.950956600Z",
     "start_time": "2024-03-18T21:42:46.476547200Z"
    }
   },
   "id": "f15633ee6bb39aba"
  },
  {
   "cell_type": "code",
   "execution_count": 19,
   "outputs": [
    {
     "data": {
      "text/plain": "   dtw_1_1  dtw_1_2  dtw_1_3  dtw_1_4  dtw_1_5  dtw_1_6  dtw_1_7  dtw_1_8  \\\n0     66.0     37.0     46.0     39.0     24.0     56.0     40.0     40.0   \n\n   dtw_1_9  dtw_1_10  ...  dtw_2_28  dtw_2_29  dtw_2_30  dtw_2_31  dtw_2_32  \\\n0     59.0      16.0  ...      70.0      37.0      55.0      40.0      29.0   \n\n   dtw_2_33  dtw_2_34  dtw_2_35  dtw_2_36  dtw_2_37  \n0      30.0      99.0     119.0      44.0      64.0  \n\n[1 rows x 74 columns]",
      "text/html": "<div>\n<style scoped>\n    .dataframe tbody tr th:only-of-type {\n        vertical-align: middle;\n    }\n\n    .dataframe tbody tr th {\n        vertical-align: top;\n    }\n\n    .dataframe thead th {\n        text-align: right;\n    }\n</style>\n<table border=\"1\" class=\"dataframe\">\n  <thead>\n    <tr style=\"text-align: right;\">\n      <th></th>\n      <th>dtw_1_1</th>\n      <th>dtw_1_2</th>\n      <th>dtw_1_3</th>\n      <th>dtw_1_4</th>\n      <th>dtw_1_5</th>\n      <th>dtw_1_6</th>\n      <th>dtw_1_7</th>\n      <th>dtw_1_8</th>\n      <th>dtw_1_9</th>\n      <th>dtw_1_10</th>\n      <th>...</th>\n      <th>dtw_2_28</th>\n      <th>dtw_2_29</th>\n      <th>dtw_2_30</th>\n      <th>dtw_2_31</th>\n      <th>dtw_2_32</th>\n      <th>dtw_2_33</th>\n      <th>dtw_2_34</th>\n      <th>dtw_2_35</th>\n      <th>dtw_2_36</th>\n      <th>dtw_2_37</th>\n    </tr>\n  </thead>\n  <tbody>\n    <tr>\n      <th>0</th>\n      <td>66.0</td>\n      <td>37.0</td>\n      <td>46.0</td>\n      <td>39.0</td>\n      <td>24.0</td>\n      <td>56.0</td>\n      <td>40.0</td>\n      <td>40.0</td>\n      <td>59.0</td>\n      <td>16.0</td>\n      <td>...</td>\n      <td>70.0</td>\n      <td>37.0</td>\n      <td>55.0</td>\n      <td>40.0</td>\n      <td>29.0</td>\n      <td>30.0</td>\n      <td>99.0</td>\n      <td>119.0</td>\n      <td>44.0</td>\n      <td>64.0</td>\n    </tr>\n  </tbody>\n</table>\n<p>1 rows × 74 columns</p>\n</div>"
     },
     "execution_count": 19,
     "metadata": {},
     "output_type": "execute_result"
    }
   ],
   "source": [
    "from scanpath_dist import ScanMatchDist\n",
    "\n",
    "query_filter = \"0 <= norm_pos_x <= 1 and 0 <= norm_pos_y <= 1\"\n",
    "data = data.query(query_filter)\n",
    "\n",
    "scan_match = ScanMatchDist(\n",
    "    x='norm_pos_x',\n",
    "    y='norm_pos_y',\n",
    "    duration='duration',\n",
    "    path_pk=['tekst'],\n",
    "    pk=['Participant', 'tekst'],\n",
    "    return_df=True\n",
    ")\n",
    "\n",
    "scan_match.fit_transform(data)"
   ],
   "metadata": {
    "collapsed": false,
    "ExecuteTime": {
     "end_time": "2024-03-18T21:43:05.217973600Z",
     "start_time": "2024-03-18T21:42:54.949953300Z"
    }
   },
   "id": "fdc10ab6c3fa41ba"
  },
  {
   "cell_type": "code",
   "execution_count": 19,
   "outputs": [],
   "source": [],
   "metadata": {
    "collapsed": false,
    "ExecuteTime": {
     "end_time": "2024-03-18T21:43:05.288809400Z",
     "start_time": "2024-03-18T21:43:05.213972300Z"
    }
   },
   "id": "569914e64e9f3438"
  }
 ],
 "metadata": {
  "kernelspec": {
   "display_name": "Python 3",
   "language": "python",
   "name": "python3"
  },
  "language_info": {
   "codemirror_mode": {
    "name": "ipython",
    "version": 2
   },
   "file_extension": ".py",
   "mimetype": "text/x-python",
   "name": "python",
   "nbconvert_exporter": "python",
   "pygments_lexer": "ipython2",
   "version": "2.7.6"
  }
 },
 "nbformat": 4,
 "nbformat_minor": 5
}
