{
 "cells": [
  {
   "cell_type": "code",
   "execution_count": 1,
   "outputs": [],
   "source": [
    "import pandas as pd\n",
    "\n",
    "from stats import SaccadeLength\n",
    "from extractor import Extractor"
   ],
   "metadata": {
    "collapsed": false,
    "ExecuteTime": {
     "end_time": "2024-03-12T11:55:03.535962Z",
     "start_time": "2024-03-12T11:55:03.096453200Z"
    }
   },
   "id": "d9ae2cf357202ce8"
  },
  {
   "cell_type": "code",
   "execution_count": 2,
   "outputs": [],
   "source": [
    "data = pd.read_excel('itog_fix_1.xlsx')"
   ],
   "metadata": {
    "collapsed": false,
    "ExecuteTime": {
     "end_time": "2024-03-12T11:55:04.486455700Z",
     "start_time": "2024-03-12T11:55:03.983045200Z"
    }
   },
   "id": "dd1601b6febb317d"
  },
  {
   "cell_type": "code",
   "execution_count": 3,
   "outputs": [],
   "source": [
    "features = [\n",
    "    SaccadeLength(stats=['mean', 'kurtosis', 'max'])\n",
    "]\n",
    "sac_len = SaccadeLength(stats=['mean', 'kurtosis', 'max'], x='norm_pos_x', y='norm_pos_y', t='start_timestamp', pk=['tekst'])\n",
    "extractor = Extractor(features=features, x='norm_pos_x', y='norm_pos_y', t='start_timestamp', pk=['tekst'], return_df=True)"
   ],
   "metadata": {
    "collapsed": false,
    "ExecuteTime": {
     "end_time": "2024-03-12T11:55:04.878642300Z",
     "start_time": "2024-03-12T11:55:04.872642800Z"
    }
   },
   "id": "e8ba167404481ab0"
  },
  {
   "cell_type": "code",
   "execution_count": 4,
   "outputs": [
    {
     "data": {
      "text/plain": "   sac_len_mean_1  sac_len_kurtosis_1  sac_len_max_1  sac_len_mean_2  \\\n0        0.088297            3.460042       0.433486        0.079862   \n\n   sac_len_kurtosis_2  sac_len_max_2  sac_len_mean_3  sac_len_kurtosis_3  \\\n0            2.434788       0.321837        0.071043            4.659126   \n\n   sac_len_max_3  sac_len_mean_4  ...  sac_len_max_34  sac_len_mean_35  \\\n0       0.365776        0.065351  ...        0.322131         0.071382   \n\n   sac_len_kurtosis_35  sac_len_max_35  sac_len_mean_36  sac_len_kurtosis_36  \\\n0             3.828599        0.335508         0.071647             3.631982   \n\n   sac_len_max_36  sac_len_mean_37  sac_len_kurtosis_37  sac_len_max_37  \n0        0.303197         0.079788             2.154149        0.317565  \n\n[1 rows x 111 columns]",
      "text/html": "<div>\n<style scoped>\n    .dataframe tbody tr th:only-of-type {\n        vertical-align: middle;\n    }\n\n    .dataframe tbody tr th {\n        vertical-align: top;\n    }\n\n    .dataframe thead th {\n        text-align: right;\n    }\n</style>\n<table border=\"1\" class=\"dataframe\">\n  <thead>\n    <tr style=\"text-align: right;\">\n      <th></th>\n      <th>sac_len_mean_1</th>\n      <th>sac_len_kurtosis_1</th>\n      <th>sac_len_max_1</th>\n      <th>sac_len_mean_2</th>\n      <th>sac_len_kurtosis_2</th>\n      <th>sac_len_max_2</th>\n      <th>sac_len_mean_3</th>\n      <th>sac_len_kurtosis_3</th>\n      <th>sac_len_max_3</th>\n      <th>sac_len_mean_4</th>\n      <th>...</th>\n      <th>sac_len_max_34</th>\n      <th>sac_len_mean_35</th>\n      <th>sac_len_kurtosis_35</th>\n      <th>sac_len_max_35</th>\n      <th>sac_len_mean_36</th>\n      <th>sac_len_kurtosis_36</th>\n      <th>sac_len_max_36</th>\n      <th>sac_len_mean_37</th>\n      <th>sac_len_kurtosis_37</th>\n      <th>sac_len_max_37</th>\n    </tr>\n  </thead>\n  <tbody>\n    <tr>\n      <th>0</th>\n      <td>0.088297</td>\n      <td>3.460042</td>\n      <td>0.433486</td>\n      <td>0.079862</td>\n      <td>2.434788</td>\n      <td>0.321837</td>\n      <td>0.071043</td>\n      <td>4.659126</td>\n      <td>0.365776</td>\n      <td>0.065351</td>\n      <td>...</td>\n      <td>0.322131</td>\n      <td>0.071382</td>\n      <td>3.828599</td>\n      <td>0.335508</td>\n      <td>0.071647</td>\n      <td>3.631982</td>\n      <td>0.303197</td>\n      <td>0.079788</td>\n      <td>2.154149</td>\n      <td>0.317565</td>\n    </tr>\n  </tbody>\n</table>\n<p>1 rows × 111 columns</p>\n</div>"
     },
     "execution_count": 4,
     "metadata": {},
     "output_type": "execute_result"
    }
   ],
   "source": [
    "sac_len.transform(data)"
   ],
   "metadata": {
    "collapsed": false,
    "ExecuteTime": {
     "end_time": "2024-03-12T11:55:06.858054200Z",
     "start_time": "2024-03-12T11:55:05.658575200Z"
    }
   },
   "id": "f02a3c5764b4a40"
  },
  {
   "cell_type": "code",
   "execution_count": 5,
   "outputs": [
    {
     "data": {
      "text/plain": "   sac_len_mean_1  sac_len_kurtosis_1  sac_len_max_1  sac_len_mean_2  \\\n0        0.088297            3.460042       0.433486        0.079862   \n\n   sac_len_kurtosis_2  sac_len_max_2  sac_len_mean_3  sac_len_kurtosis_3  \\\n0            2.434788       0.321837        0.071043            4.659126   \n\n   sac_len_max_3  sac_len_mean_4  ...  sac_len_max_34  sac_len_mean_35  \\\n0       0.365776        0.065351  ...        0.322131         0.071382   \n\n   sac_len_kurtosis_35  sac_len_max_35  sac_len_mean_36  sac_len_kurtosis_36  \\\n0             3.828599        0.335508         0.071647             3.631982   \n\n   sac_len_max_36  sac_len_mean_37  sac_len_kurtosis_37  sac_len_max_37  \n0        0.303197         0.079788             2.154149        0.317565  \n\n[1 rows x 111 columns]",
      "text/html": "<div>\n<style scoped>\n    .dataframe tbody tr th:only-of-type {\n        vertical-align: middle;\n    }\n\n    .dataframe tbody tr th {\n        vertical-align: top;\n    }\n\n    .dataframe thead th {\n        text-align: right;\n    }\n</style>\n<table border=\"1\" class=\"dataframe\">\n  <thead>\n    <tr style=\"text-align: right;\">\n      <th></th>\n      <th>sac_len_mean_1</th>\n      <th>sac_len_kurtosis_1</th>\n      <th>sac_len_max_1</th>\n      <th>sac_len_mean_2</th>\n      <th>sac_len_kurtosis_2</th>\n      <th>sac_len_max_2</th>\n      <th>sac_len_mean_3</th>\n      <th>sac_len_kurtosis_3</th>\n      <th>sac_len_max_3</th>\n      <th>sac_len_mean_4</th>\n      <th>...</th>\n      <th>sac_len_max_34</th>\n      <th>sac_len_mean_35</th>\n      <th>sac_len_kurtosis_35</th>\n      <th>sac_len_max_35</th>\n      <th>sac_len_mean_36</th>\n      <th>sac_len_kurtosis_36</th>\n      <th>sac_len_max_36</th>\n      <th>sac_len_mean_37</th>\n      <th>sac_len_kurtosis_37</th>\n      <th>sac_len_max_37</th>\n    </tr>\n  </thead>\n  <tbody>\n    <tr>\n      <th>0</th>\n      <td>0.088297</td>\n      <td>3.460042</td>\n      <td>0.433486</td>\n      <td>0.079862</td>\n      <td>2.434788</td>\n      <td>0.321837</td>\n      <td>0.071043</td>\n      <td>4.659126</td>\n      <td>0.365776</td>\n      <td>0.065351</td>\n      <td>...</td>\n      <td>0.322131</td>\n      <td>0.071382</td>\n      <td>3.828599</td>\n      <td>0.335508</td>\n      <td>0.071647</td>\n      <td>3.631982</td>\n      <td>0.303197</td>\n      <td>0.079788</td>\n      <td>2.154149</td>\n      <td>0.317565</td>\n    </tr>\n  </tbody>\n</table>\n<p>1 rows × 111 columns</p>\n</div>"
     },
     "execution_count": 5,
     "metadata": {},
     "output_type": "execute_result"
    }
   ],
   "source": [
    "extractor.transform(data)"
   ],
   "metadata": {
    "collapsed": false,
    "ExecuteTime": {
     "end_time": "2024-03-12T11:55:32.464138400Z",
     "start_time": "2024-03-12T11:55:31.816168400Z"
    }
   },
   "id": "d43090cb1ccef295"
  },
  {
   "cell_type": "code",
   "execution_count": 6,
   "outputs": [
    {
     "data": {
      "text/plain": "((1, 111), (1, 111))"
     },
     "execution_count": 6,
     "metadata": {},
     "output_type": "execute_result"
    }
   ],
   "source": [
    "sac_len.transform(data).shape, extractor.transform(data).shape"
   ],
   "metadata": {
    "collapsed": false,
    "ExecuteTime": {
     "end_time": "2024-03-12T11:55:44.710871400Z",
     "start_time": "2024-03-12T11:55:44.527899600Z"
    }
   },
   "id": "7b45a8235fc358eb"
  }
 ],
 "metadata": {
  "kernelspec": {
   "display_name": "Python 3",
   "language": "python",
   "name": "python3"
  },
  "language_info": {
   "codemirror_mode": {
    "name": "ipython",
    "version": 2
   },
   "file_extension": ".py",
   "mimetype": "text/x-python",
   "name": "python",
   "nbconvert_exporter": "python",
   "pygments_lexer": "ipython2",
   "version": "2.7.6"
  }
 },
 "nbformat": 4,
 "nbformat_minor": 5
}
