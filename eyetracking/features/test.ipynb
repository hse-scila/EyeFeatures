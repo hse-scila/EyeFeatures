{
 "cells": [
  {
   "cell_type": "code",
   "execution_count": 2,
   "outputs": [],
   "source": [
    "import pandas as pd\n",
    "import numpy as np\n",
    "\n",
    "from stats import SaccadeLength, SaccadeAcceleration, FixationDuration, SaccadeVelocity, FixationVAD, RegressionCount, MicroSaccadeLength, MicroSaccadeVelocity, MicroSaccadeAcceleration, RegressionLength, RegressionVelocity, RegressionAcceleration\n",
    "from extractor import Extractor"
   ],
   "metadata": {
    "collapsed": false,
    "ExecuteTime": {
     "end_time": "2024-03-19T15:40:30.906118Z",
     "start_time": "2024-03-19T15:40:28.392803Z"
    }
   },
   "id": "d9ae2cf357202ce8"
  },
  {
   "cell_type": "code",
   "execution_count": 3,
   "outputs": [],
   "source": [
    "data = pd.concat([pd.read_excel('itog_fix_1.xlsx'), pd.read_excel('itog_fix_2.xlsx')], axis=0)"
   ],
   "metadata": {
    "collapsed": false,
    "ExecuteTime": {
     "end_time": "2024-03-19T15:40:33.995653Z",
     "start_time": "2024-03-19T15:40:30.911855Z"
    }
   },
   "id": "dd1601b6febb317d"
  },
  {
   "cell_type": "code",
   "execution_count": 4,
   "outputs": [],
   "source": [
    "x = 'norm_pos_x'\n",
    "y = 'norm_pos_y'\n",
    "t = 'start_timestamp'\n",
    "dur = 'duration'\n",
    "dis = 'dispersion'\n",
    "msv = 4.7  # MS_VELOCITY_THRESHOLD\n",
    "msa = 1.2  # MS_AMPLITUDE_THRESHOLD\n",
    "\n",
    "features = [\n",
    "    SaccadeVelocity(stats=['min', 'kurtosis', 'max']),\n",
    "    FixationDuration(stats=['median', 'skew', 'var']),\n",
    "    FixationVAD(stats=['mean', 'median']),\n",
    "    SaccadeLength(stats=['var', 'std', 'min']),\n",
    "    RegressionCount(),\n",
    "    SaccadeAcceleration(stats=['min', 'var', 'mean']),\n",
    "    MicroSaccadeVelocity(stats=['min'], min_dispersion=msa, max_velocity=msv),\n",
    "    MicroSaccadeAcceleration(stats=['var'], min_dispersion=msa, max_velocity=msv),\n",
    "    MicroSaccadeLength(stats=['max'], min_dispersion=msa, max_velocity=msv),\n",
    "    RegressionLength(stats=['var', 'std', 'min']),\n",
    "    RegressionVelocity(stats=['min', 'kurtosis', 'max']),\n",
    "    RegressionAcceleration(stats=['min', 'var', 'mean'])\n",
    "]\n",
    "sac_vel = SaccadeVelocity(stats=['min', 'kurtosis', 'max'], x=x, y=y, t=t, duration=dur, pk=['tekst'])\n",
    "fix_dur = FixationDuration(stats=['median', 'skew', 'var'], x=x, y=y, t=t, duration=dur, pk=['tekst'])\n",
    "reg_count = RegressionCount(x=x, y=y, t=t, pk=['tekst'])\n",
    "fix_vad = FixationVAD(stats=['mean', 'median'], x=x, y=y, t=t, duration=dur,  dispersion=dis, pk=['tekst'])\n",
    "sac_len = SaccadeLength(stats=['var', 'std', 'min'], x=x, y=y, t=t, duration=dur, pk=['tekst'])\n",
    "sac_acc = SaccadeAcceleration(stats=['min', 'var', 'mean', 'max'], x=x, y=y, t=t, duration=dur, pk=['tekst'])\n",
    "microsac_vel = MicroSaccadeVelocity(stats=['min'], x=x, y=y, t=t, duration=dur, dispersion=dis, pk=['tekst'], min_dispersion=msa, max_velocity=msv)\n",
    "microsac_len = MicroSaccadeLength(stats=['max'], x=x, y=y, t=t, duration=dur, dispersion=dis, pk=['tekst'], min_dispersion=msa, max_velocity=msv)\n",
    "microsac_acc = MicroSaccadeAcceleration(stats=['max'], x=x, y=y, t=t, duration=dur, dispersion=dis, pk=['tekst'], min_dispersion=msa, max_velocity=msv)\n",
    "reg_len = RegressionLength(stats=['var', 'std', 'min'], x=x, y=y, t=t, duration=dur, pk=['tekst'])\n",
    "reg_vel = RegressionVelocity(stats=['min', 'kurtosis', 'max'], x=x, y=y, t=t, duration=dur, pk=['tekst'])\n",
    "reg_acc = RegressionAcceleration(stats=['min', 'var', 'mean', 'max'], x=x, y=y, t=t, duration=dur, pk=['tekst'])\n",
    "\n",
    "extractor = Extractor(features=features, x=x, y=y, t=t, duration=dur, dispersion=dis, pk=['tekst'],\n",
    "                      return_df=True)"
   ],
   "metadata": {
    "collapsed": false,
    "ExecuteTime": {
     "end_time": "2024-03-19T15:40:34.028047Z",
     "start_time": "2024-03-19T15:40:33.998341Z"
    }
   },
   "id": "e8ba167404481ab0"
  },
  {
   "cell_type": "code",
   "execution_count": 5,
   "outputs": [
    {
     "data": {
      "text/plain": "   sac_len_var_1  sac_len_std_1  sac_len_min_1  sac_len_var_2  sac_len_std_2  \\\n0         0.0086       0.092735        0.00265       0.006856         0.0828   \n\n   sac_len_min_2  sac_len_var_3  sac_len_std_3  sac_len_min_3  sac_len_var_4  \\\n0       0.003741       0.008787       0.093741       0.003351        0.00875   \n\n   ...  sac_len_min_34  sac_len_var_35  sac_len_std_35  sac_len_min_35  \\\n0  ...         0.00178        0.018313        0.135327         0.00217   \n\n   sac_len_var_36  sac_len_std_36  sac_len_min_36  sac_len_var_37  \\\n0         0.01331        0.115368        0.002196        0.013424   \n\n   sac_len_std_37  sac_len_min_37  \n0        0.115863        0.002151  \n\n[1 rows x 111 columns]",
      "text/html": "<div>\n<style scoped>\n    .dataframe tbody tr th:only-of-type {\n        vertical-align: middle;\n    }\n\n    .dataframe tbody tr th {\n        vertical-align: top;\n    }\n\n    .dataframe thead th {\n        text-align: right;\n    }\n</style>\n<table border=\"1\" class=\"dataframe\">\n  <thead>\n    <tr style=\"text-align: right;\">\n      <th></th>\n      <th>sac_len_var_1</th>\n      <th>sac_len_std_1</th>\n      <th>sac_len_min_1</th>\n      <th>sac_len_var_2</th>\n      <th>sac_len_std_2</th>\n      <th>sac_len_min_2</th>\n      <th>sac_len_var_3</th>\n      <th>sac_len_std_3</th>\n      <th>sac_len_min_3</th>\n      <th>sac_len_var_4</th>\n      <th>...</th>\n      <th>sac_len_min_34</th>\n      <th>sac_len_var_35</th>\n      <th>sac_len_std_35</th>\n      <th>sac_len_min_35</th>\n      <th>sac_len_var_36</th>\n      <th>sac_len_std_36</th>\n      <th>sac_len_min_36</th>\n      <th>sac_len_var_37</th>\n      <th>sac_len_std_37</th>\n      <th>sac_len_min_37</th>\n    </tr>\n  </thead>\n  <tbody>\n    <tr>\n      <th>0</th>\n      <td>0.0086</td>\n      <td>0.092735</td>\n      <td>0.00265</td>\n      <td>0.006856</td>\n      <td>0.0828</td>\n      <td>0.003741</td>\n      <td>0.008787</td>\n      <td>0.093741</td>\n      <td>0.003351</td>\n      <td>0.00875</td>\n      <td>...</td>\n      <td>0.00178</td>\n      <td>0.018313</td>\n      <td>0.135327</td>\n      <td>0.00217</td>\n      <td>0.01331</td>\n      <td>0.115368</td>\n      <td>0.002196</td>\n      <td>0.013424</td>\n      <td>0.115863</td>\n      <td>0.002151</td>\n    </tr>\n  </tbody>\n</table>\n<p>1 rows × 111 columns</p>\n</div>"
     },
     "execution_count": 5,
     "metadata": {},
     "output_type": "execute_result"
    }
   ],
   "source": [
    "sac_len.transform(data)"
   ],
   "metadata": {
    "collapsed": false,
    "ExecuteTime": {
     "end_time": "2024-03-19T15:40:37.879928Z",
     "start_time": "2024-03-19T15:40:34.034423Z"
    }
   },
   "id": "f02a3c5764b4a40"
  },
  {
   "cell_type": "code",
   "outputs": [
    {
     "data": {
      "text/plain": "   reg_len_var_1  reg_len_std_1  reg_len_min_1  reg_len_var_2  reg_len_std_2  \\\n0       0.010025       0.100124        0.00265       0.008756       0.093575   \n\n   reg_len_min_2  reg_len_var_3  reg_len_std_3  reg_len_min_3  reg_len_var_4  \\\n0       0.003741       0.011025       0.104999       0.003351       0.010228   \n\n   ...  reg_len_min_34  reg_len_var_35  reg_len_std_35  reg_len_min_35  \\\n0  ...         0.00178        0.026438        0.162596         0.00217   \n\n   reg_len_var_36  reg_len_std_36  reg_len_min_36  reg_len_var_37  \\\n0        0.021943         0.14813        0.004319        0.022163   \n\n   reg_len_std_37  reg_len_min_37  \n0        0.148871        0.002151  \n\n[1 rows x 111 columns]",
      "text/html": "<div>\n<style scoped>\n    .dataframe tbody tr th:only-of-type {\n        vertical-align: middle;\n    }\n\n    .dataframe tbody tr th {\n        vertical-align: top;\n    }\n\n    .dataframe thead th {\n        text-align: right;\n    }\n</style>\n<table border=\"1\" class=\"dataframe\">\n  <thead>\n    <tr style=\"text-align: right;\">\n      <th></th>\n      <th>reg_len_var_1</th>\n      <th>reg_len_std_1</th>\n      <th>reg_len_min_1</th>\n      <th>reg_len_var_2</th>\n      <th>reg_len_std_2</th>\n      <th>reg_len_min_2</th>\n      <th>reg_len_var_3</th>\n      <th>reg_len_std_3</th>\n      <th>reg_len_min_3</th>\n      <th>reg_len_var_4</th>\n      <th>...</th>\n      <th>reg_len_min_34</th>\n      <th>reg_len_var_35</th>\n      <th>reg_len_std_35</th>\n      <th>reg_len_min_35</th>\n      <th>reg_len_var_36</th>\n      <th>reg_len_std_36</th>\n      <th>reg_len_min_36</th>\n      <th>reg_len_var_37</th>\n      <th>reg_len_std_37</th>\n      <th>reg_len_min_37</th>\n    </tr>\n  </thead>\n  <tbody>\n    <tr>\n      <th>0</th>\n      <td>0.010025</td>\n      <td>0.100124</td>\n      <td>0.00265</td>\n      <td>0.008756</td>\n      <td>0.093575</td>\n      <td>0.003741</td>\n      <td>0.011025</td>\n      <td>0.104999</td>\n      <td>0.003351</td>\n      <td>0.010228</td>\n      <td>...</td>\n      <td>0.00178</td>\n      <td>0.026438</td>\n      <td>0.162596</td>\n      <td>0.00217</td>\n      <td>0.021943</td>\n      <td>0.14813</td>\n      <td>0.004319</td>\n      <td>0.022163</td>\n      <td>0.148871</td>\n      <td>0.002151</td>\n    </tr>\n  </tbody>\n</table>\n<p>1 rows × 111 columns</p>\n</div>"
     },
     "execution_count": 6,
     "metadata": {},
     "output_type": "execute_result"
    }
   ],
   "source": [
    "reg_len.transform(data)"
   ],
   "metadata": {
    "collapsed": false,
    "ExecuteTime": {
     "end_time": "2024-03-19T15:40:42.665583Z",
     "start_time": "2024-03-19T15:40:37.885581Z"
    }
   },
   "id": "d506326b8996a716",
   "execution_count": 6
  },
  {
   "cell_type": "code",
   "execution_count": 7,
   "outputs": [
    {
     "data": {
      "text/plain": "   sac_acc_min_1  sac_acc_var_1  sac_acc_mean_1  sac_acc_max_1  sac_acc_min_2  \\\n0   7.437532e-13    7096.232068       92.712374     567.604993   1.364786e-12   \n\n   sac_acc_var_2  sac_acc_mean_2  sac_acc_max_2  sac_acc_min_3  sac_acc_var_3  \\\n0    6735.116723       82.582251      513.78328   2.860060e-12     4745.36048   \n\n   ...  sac_acc_mean_35  sac_acc_max_35  sac_acc_min_36  sac_acc_var_36  \\\n0  ...       110.523075     1419.243216    2.508151e-12    12305.666053   \n\n   sac_acc_mean_36  sac_acc_max_36  sac_acc_min_37  sac_acc_var_37  \\\n0       112.434921      691.417759    2.072115e-12     7886.442632   \n\n   sac_acc_mean_37  sac_acc_max_37  \n0        90.731849      696.469091  \n\n[1 rows x 148 columns]",
      "text/html": "<div>\n<style scoped>\n    .dataframe tbody tr th:only-of-type {\n        vertical-align: middle;\n    }\n\n    .dataframe tbody tr th {\n        vertical-align: top;\n    }\n\n    .dataframe thead th {\n        text-align: right;\n    }\n</style>\n<table border=\"1\" class=\"dataframe\">\n  <thead>\n    <tr style=\"text-align: right;\">\n      <th></th>\n      <th>sac_acc_min_1</th>\n      <th>sac_acc_var_1</th>\n      <th>sac_acc_mean_1</th>\n      <th>sac_acc_max_1</th>\n      <th>sac_acc_min_2</th>\n      <th>sac_acc_var_2</th>\n      <th>sac_acc_mean_2</th>\n      <th>sac_acc_max_2</th>\n      <th>sac_acc_min_3</th>\n      <th>sac_acc_var_3</th>\n      <th>...</th>\n      <th>sac_acc_mean_35</th>\n      <th>sac_acc_max_35</th>\n      <th>sac_acc_min_36</th>\n      <th>sac_acc_var_36</th>\n      <th>sac_acc_mean_36</th>\n      <th>sac_acc_max_36</th>\n      <th>sac_acc_min_37</th>\n      <th>sac_acc_var_37</th>\n      <th>sac_acc_mean_37</th>\n      <th>sac_acc_max_37</th>\n    </tr>\n  </thead>\n  <tbody>\n    <tr>\n      <th>0</th>\n      <td>7.437532e-13</td>\n      <td>7096.232068</td>\n      <td>92.712374</td>\n      <td>567.604993</td>\n      <td>1.364786e-12</td>\n      <td>6735.116723</td>\n      <td>82.582251</td>\n      <td>513.78328</td>\n      <td>2.860060e-12</td>\n      <td>4745.36048</td>\n      <td>...</td>\n      <td>110.523075</td>\n      <td>1419.243216</td>\n      <td>2.508151e-12</td>\n      <td>12305.666053</td>\n      <td>112.434921</td>\n      <td>691.417759</td>\n      <td>2.072115e-12</td>\n      <td>7886.442632</td>\n      <td>90.731849</td>\n      <td>696.469091</td>\n    </tr>\n  </tbody>\n</table>\n<p>1 rows × 148 columns</p>\n</div>"
     },
     "execution_count": 7,
     "metadata": {},
     "output_type": "execute_result"
    }
   ],
   "source": [
    "sac_acc.transform(data)"
   ],
   "metadata": {
    "collapsed": false,
    "ExecuteTime": {
     "end_time": "2024-03-19T15:40:46.876197Z",
     "start_time": "2024-03-19T15:40:42.669504Z"
    }
   },
   "id": "90893bc1fd05231c"
  },
  {
   "cell_type": "code",
   "outputs": [
    {
     "data": {
      "text/plain": "   reg_acc_min_1  reg_acc_var_1  reg_acc_mean_1  reg_acc_max_1  reg_acc_min_2  \\\n0       0.053597  258379.220618      192.503842    6138.680073   1.364786e-12   \n\n   reg_acc_var_2  reg_acc_mean_2  reg_acc_max_2  reg_acc_min_3  reg_acc_var_3  \\\n0  334387.714537      179.512883    5993.707155   2.860060e-12   13042.797713   \n\n   ...  reg_acc_mean_35  reg_acc_max_35  reg_acc_min_36  reg_acc_var_36  \\\n0  ...       112.432628      664.616126        0.330045     9888.632278   \n\n   reg_acc_mean_36  reg_acc_max_36  reg_acc_min_37  reg_acc_var_37  \\\n0       106.202628      580.551488    2.072115e-12     9591.713138   \n\n   reg_acc_mean_37  reg_acc_max_37  \n0        96.316443      696.469091  \n\n[1 rows x 148 columns]",
      "text/html": "<div>\n<style scoped>\n    .dataframe tbody tr th:only-of-type {\n        vertical-align: middle;\n    }\n\n    .dataframe tbody tr th {\n        vertical-align: top;\n    }\n\n    .dataframe thead th {\n        text-align: right;\n    }\n</style>\n<table border=\"1\" class=\"dataframe\">\n  <thead>\n    <tr style=\"text-align: right;\">\n      <th></th>\n      <th>reg_acc_min_1</th>\n      <th>reg_acc_var_1</th>\n      <th>reg_acc_mean_1</th>\n      <th>reg_acc_max_1</th>\n      <th>reg_acc_min_2</th>\n      <th>reg_acc_var_2</th>\n      <th>reg_acc_mean_2</th>\n      <th>reg_acc_max_2</th>\n      <th>reg_acc_min_3</th>\n      <th>reg_acc_var_3</th>\n      <th>...</th>\n      <th>reg_acc_mean_35</th>\n      <th>reg_acc_max_35</th>\n      <th>reg_acc_min_36</th>\n      <th>reg_acc_var_36</th>\n      <th>reg_acc_mean_36</th>\n      <th>reg_acc_max_36</th>\n      <th>reg_acc_min_37</th>\n      <th>reg_acc_var_37</th>\n      <th>reg_acc_mean_37</th>\n      <th>reg_acc_max_37</th>\n    </tr>\n  </thead>\n  <tbody>\n    <tr>\n      <th>0</th>\n      <td>0.053597</td>\n      <td>258379.220618</td>\n      <td>192.503842</td>\n      <td>6138.680073</td>\n      <td>1.364786e-12</td>\n      <td>334387.714537</td>\n      <td>179.512883</td>\n      <td>5993.707155</td>\n      <td>2.860060e-12</td>\n      <td>13042.797713</td>\n      <td>...</td>\n      <td>112.432628</td>\n      <td>664.616126</td>\n      <td>0.330045</td>\n      <td>9888.632278</td>\n      <td>106.202628</td>\n      <td>580.551488</td>\n      <td>2.072115e-12</td>\n      <td>9591.713138</td>\n      <td>96.316443</td>\n      <td>696.469091</td>\n    </tr>\n  </tbody>\n</table>\n<p>1 rows × 148 columns</p>\n</div>"
     },
     "execution_count": 8,
     "metadata": {},
     "output_type": "execute_result"
    }
   ],
   "source": [
    "reg_acc.transform(data)"
   ],
   "metadata": {
    "collapsed": false,
    "ExecuteTime": {
     "end_time": "2024-03-19T15:40:53.412270Z",
     "start_time": "2024-03-19T15:40:46.879419Z"
    }
   },
   "id": "62a1cba48af959df",
   "execution_count": 8
  },
  {
   "cell_type": "code",
   "execution_count": 9,
   "outputs": [
    {
     "data": {
      "text/plain": "   sac_vel_min_1  sac_vel_kurtosis_1  sac_vel_max_1  sac_vel_min_2  \\\n0  -4.709740e-07            6.470488      13.717103  -8.642030e-07   \n\n   sac_vel_kurtosis_2  sac_vel_max_2  sac_vel_min_3  sac_vel_kurtosis_3  \\\n0            1.763947       8.626671      -0.000002            3.589073   \n\n   sac_vel_max_3  sac_vel_min_4  ...  sac_vel_max_34  sac_vel_min_35  \\\n0      10.717298      -0.000002  ...        6.728558   -9.748183e-07   \n\n   sac_vel_kurtosis_35  sac_vel_max_35  sac_vel_min_36  sac_vel_kurtosis_36  \\\n0            37.115046       30.362497       -0.000002             30.10733   \n\n   sac_vel_max_36  sac_vel_min_37  sac_vel_kurtosis_37  sac_vel_max_37  \n0       22.777222       -0.000001             6.351163       12.730611  \n\n[1 rows x 111 columns]",
      "text/html": "<div>\n<style scoped>\n    .dataframe tbody tr th:only-of-type {\n        vertical-align: middle;\n    }\n\n    .dataframe tbody tr th {\n        vertical-align: top;\n    }\n\n    .dataframe thead th {\n        text-align: right;\n    }\n</style>\n<table border=\"1\" class=\"dataframe\">\n  <thead>\n    <tr style=\"text-align: right;\">\n      <th></th>\n      <th>sac_vel_min_1</th>\n      <th>sac_vel_kurtosis_1</th>\n      <th>sac_vel_max_1</th>\n      <th>sac_vel_min_2</th>\n      <th>sac_vel_kurtosis_2</th>\n      <th>sac_vel_max_2</th>\n      <th>sac_vel_min_3</th>\n      <th>sac_vel_kurtosis_3</th>\n      <th>sac_vel_max_3</th>\n      <th>sac_vel_min_4</th>\n      <th>...</th>\n      <th>sac_vel_max_34</th>\n      <th>sac_vel_min_35</th>\n      <th>sac_vel_kurtosis_35</th>\n      <th>sac_vel_max_35</th>\n      <th>sac_vel_min_36</th>\n      <th>sac_vel_kurtosis_36</th>\n      <th>sac_vel_max_36</th>\n      <th>sac_vel_min_37</th>\n      <th>sac_vel_kurtosis_37</th>\n      <th>sac_vel_max_37</th>\n    </tr>\n  </thead>\n  <tbody>\n    <tr>\n      <th>0</th>\n      <td>-4.709740e-07</td>\n      <td>6.470488</td>\n      <td>13.717103</td>\n      <td>-8.642030e-07</td>\n      <td>1.763947</td>\n      <td>8.626671</td>\n      <td>-0.000002</td>\n      <td>3.589073</td>\n      <td>10.717298</td>\n      <td>-0.000002</td>\n      <td>...</td>\n      <td>6.728558</td>\n      <td>-9.748183e-07</td>\n      <td>37.115046</td>\n      <td>30.362497</td>\n      <td>-0.000002</td>\n      <td>30.10733</td>\n      <td>22.777222</td>\n      <td>-0.000001</td>\n      <td>6.351163</td>\n      <td>12.730611</td>\n    </tr>\n  </tbody>\n</table>\n<p>1 rows × 111 columns</p>\n</div>"
     },
     "execution_count": 9,
     "metadata": {},
     "output_type": "execute_result"
    }
   ],
   "source": [
    "sac_vel.transform(data)"
   ],
   "metadata": {
    "collapsed": false,
    "ExecuteTime": {
     "end_time": "2024-03-19T15:40:58.305500Z",
     "start_time": "2024-03-19T15:40:53.416512Z"
    }
   },
   "id": "157a17d6fd9f5843"
  },
  {
   "cell_type": "code",
   "outputs": [
    {
     "data": {
      "text/plain": "   reg_vel_min_1  reg_vel_kurtosis_1  reg_vel_max_1  reg_vel_min_2  \\\n0       0.027055           35.266575      69.219949  -8.642030e-07   \n\n   reg_vel_kurtosis_2  reg_vel_max_2  reg_vel_min_3  reg_vel_kurtosis_3  \\\n0           67.755907      71.982461      -0.000002            6.951704   \n\n   reg_vel_max_3  reg_vel_min_4  ...  reg_vel_max_34  reg_vel_min_35  \\\n0       14.87638      -0.000002  ...        6.728558   -9.748183e-07   \n\n   reg_vel_kurtosis_35  reg_vel_max_35  reg_vel_min_36  reg_vel_kurtosis_36  \\\n0            16.349957       22.777222        0.098512            31.918734   \n\n   reg_vel_max_36  reg_vel_min_37  reg_vel_kurtosis_37  reg_vel_max_37  \n0       22.777222       -0.000001             3.931374       12.730611  \n\n[1 rows x 111 columns]",
      "text/html": "<div>\n<style scoped>\n    .dataframe tbody tr th:only-of-type {\n        vertical-align: middle;\n    }\n\n    .dataframe tbody tr th {\n        vertical-align: top;\n    }\n\n    .dataframe thead th {\n        text-align: right;\n    }\n</style>\n<table border=\"1\" class=\"dataframe\">\n  <thead>\n    <tr style=\"text-align: right;\">\n      <th></th>\n      <th>reg_vel_min_1</th>\n      <th>reg_vel_kurtosis_1</th>\n      <th>reg_vel_max_1</th>\n      <th>reg_vel_min_2</th>\n      <th>reg_vel_kurtosis_2</th>\n      <th>reg_vel_max_2</th>\n      <th>reg_vel_min_3</th>\n      <th>reg_vel_kurtosis_3</th>\n      <th>reg_vel_max_3</th>\n      <th>reg_vel_min_4</th>\n      <th>...</th>\n      <th>reg_vel_max_34</th>\n      <th>reg_vel_min_35</th>\n      <th>reg_vel_kurtosis_35</th>\n      <th>reg_vel_max_35</th>\n      <th>reg_vel_min_36</th>\n      <th>reg_vel_kurtosis_36</th>\n      <th>reg_vel_max_36</th>\n      <th>reg_vel_min_37</th>\n      <th>reg_vel_kurtosis_37</th>\n      <th>reg_vel_max_37</th>\n    </tr>\n  </thead>\n  <tbody>\n    <tr>\n      <th>0</th>\n      <td>0.027055</td>\n      <td>35.266575</td>\n      <td>69.219949</td>\n      <td>-8.642030e-07</td>\n      <td>67.755907</td>\n      <td>71.982461</td>\n      <td>-0.000002</td>\n      <td>6.951704</td>\n      <td>14.87638</td>\n      <td>-0.000002</td>\n      <td>...</td>\n      <td>6.728558</td>\n      <td>-9.748183e-07</td>\n      <td>16.349957</td>\n      <td>22.777222</td>\n      <td>0.098512</td>\n      <td>31.918734</td>\n      <td>22.777222</td>\n      <td>-0.000001</td>\n      <td>3.931374</td>\n      <td>12.730611</td>\n    </tr>\n  </tbody>\n</table>\n<p>1 rows × 111 columns</p>\n</div>"
     },
     "execution_count": 10,
     "metadata": {},
     "output_type": "execute_result"
    }
   ],
   "source": [
    "reg_vel.transform(data)"
   ],
   "metadata": {
    "collapsed": false,
    "ExecuteTime": {
     "end_time": "2024-03-19T15:41:07.272351Z",
     "start_time": "2024-03-19T15:40:58.309239Z"
    }
   },
   "id": "b9815a1d11e2865c",
   "execution_count": 10
  },
  {
   "cell_type": "code",
   "execution_count": 11,
   "outputs": [
    {
     "data": {
      "text/plain": "   microsac_len_max_1  microsac_len_max_2  microsac_len_max_3  \\\n0            0.407159            0.264537            0.326784   \n\n   microsac_len_max_4  microsac_len_max_5  microsac_len_max_6  \\\n0            0.704554            0.256157            0.409433   \n\n   microsac_len_max_7  microsac_len_max_8  microsac_len_max_9  \\\n0            0.386975            0.506729            0.336658   \n\n   microsac_len_max_10  ...  microsac_len_max_28  microsac_len_max_29  \\\n0             0.526767  ...             0.669959             0.510668   \n\n   microsac_len_max_30  microsac_len_max_31  microsac_len_max_32  \\\n0             0.337793             0.604739             0.994827   \n\n   microsac_len_max_33  microsac_len_max_34  microsac_len_max_35  \\\n0             0.255299             0.615122             0.308905   \n\n   microsac_len_max_36  microsac_len_max_37  \n0              0.55976              0.41619  \n\n[1 rows x 37 columns]",
      "text/html": "<div>\n<style scoped>\n    .dataframe tbody tr th:only-of-type {\n        vertical-align: middle;\n    }\n\n    .dataframe tbody tr th {\n        vertical-align: top;\n    }\n\n    .dataframe thead th {\n        text-align: right;\n    }\n</style>\n<table border=\"1\" class=\"dataframe\">\n  <thead>\n    <tr style=\"text-align: right;\">\n      <th></th>\n      <th>microsac_len_max_1</th>\n      <th>microsac_len_max_2</th>\n      <th>microsac_len_max_3</th>\n      <th>microsac_len_max_4</th>\n      <th>microsac_len_max_5</th>\n      <th>microsac_len_max_6</th>\n      <th>microsac_len_max_7</th>\n      <th>microsac_len_max_8</th>\n      <th>microsac_len_max_9</th>\n      <th>microsac_len_max_10</th>\n      <th>...</th>\n      <th>microsac_len_max_28</th>\n      <th>microsac_len_max_29</th>\n      <th>microsac_len_max_30</th>\n      <th>microsac_len_max_31</th>\n      <th>microsac_len_max_32</th>\n      <th>microsac_len_max_33</th>\n      <th>microsac_len_max_34</th>\n      <th>microsac_len_max_35</th>\n      <th>microsac_len_max_36</th>\n      <th>microsac_len_max_37</th>\n    </tr>\n  </thead>\n  <tbody>\n    <tr>\n      <th>0</th>\n      <td>0.407159</td>\n      <td>0.264537</td>\n      <td>0.326784</td>\n      <td>0.704554</td>\n      <td>0.256157</td>\n      <td>0.409433</td>\n      <td>0.386975</td>\n      <td>0.506729</td>\n      <td>0.336658</td>\n      <td>0.526767</td>\n      <td>...</td>\n      <td>0.669959</td>\n      <td>0.510668</td>\n      <td>0.337793</td>\n      <td>0.604739</td>\n      <td>0.994827</td>\n      <td>0.255299</td>\n      <td>0.615122</td>\n      <td>0.308905</td>\n      <td>0.55976</td>\n      <td>0.41619</td>\n    </tr>\n  </tbody>\n</table>\n<p>1 rows × 37 columns</p>\n</div>"
     },
     "execution_count": 11,
     "metadata": {},
     "output_type": "execute_result"
    }
   ],
   "source": [
    "microsac_len.transform(data)"
   ],
   "metadata": {
    "collapsed": false,
    "ExecuteTime": {
     "end_time": "2024-03-19T15:41:12.970006Z",
     "start_time": "2024-03-19T15:41:07.282221Z"
    }
   },
   "id": "8061bd36085cfed9"
  },
  {
   "cell_type": "code",
   "execution_count": 12,
   "outputs": [
    {
     "data": {
      "text/plain": "   microsac_vel_min_1  microsac_vel_min_2  microsac_vel_min_3  \\\n0            0.121675            0.023706            0.102426   \n\n   microsac_vel_min_4  microsac_vel_min_5  microsac_vel_min_6  \\\n0           -0.000002            0.018103            0.059586   \n\n   microsac_vel_min_7  microsac_vel_min_8  microsac_vel_min_9  \\\n0           -0.000001            0.048564       -6.945098e-07   \n\n   microsac_vel_min_10  ...  microsac_vel_min_28  microsac_vel_min_29  \\\n0            -0.000002  ...            -0.000002             0.168954   \n\n   microsac_vel_min_30  microsac_vel_min_31  microsac_vel_min_32  \\\n0            -0.000001            -0.000002        -1.200190e-07   \n\n   microsac_vel_min_33  microsac_vel_min_34  microsac_vel_min_35  \\\n0        -3.353352e-08            -0.000002        -9.748183e-07   \n\n   microsac_vel_min_36  microsac_vel_min_37  \n0            -0.000002            -0.000001  \n\n[1 rows x 37 columns]",
      "text/html": "<div>\n<style scoped>\n    .dataframe tbody tr th:only-of-type {\n        vertical-align: middle;\n    }\n\n    .dataframe tbody tr th {\n        vertical-align: top;\n    }\n\n    .dataframe thead th {\n        text-align: right;\n    }\n</style>\n<table border=\"1\" class=\"dataframe\">\n  <thead>\n    <tr style=\"text-align: right;\">\n      <th></th>\n      <th>microsac_vel_min_1</th>\n      <th>microsac_vel_min_2</th>\n      <th>microsac_vel_min_3</th>\n      <th>microsac_vel_min_4</th>\n      <th>microsac_vel_min_5</th>\n      <th>microsac_vel_min_6</th>\n      <th>microsac_vel_min_7</th>\n      <th>microsac_vel_min_8</th>\n      <th>microsac_vel_min_9</th>\n      <th>microsac_vel_min_10</th>\n      <th>...</th>\n      <th>microsac_vel_min_28</th>\n      <th>microsac_vel_min_29</th>\n      <th>microsac_vel_min_30</th>\n      <th>microsac_vel_min_31</th>\n      <th>microsac_vel_min_32</th>\n      <th>microsac_vel_min_33</th>\n      <th>microsac_vel_min_34</th>\n      <th>microsac_vel_min_35</th>\n      <th>microsac_vel_min_36</th>\n      <th>microsac_vel_min_37</th>\n    </tr>\n  </thead>\n  <tbody>\n    <tr>\n      <th>0</th>\n      <td>0.121675</td>\n      <td>0.023706</td>\n      <td>0.102426</td>\n      <td>-0.000002</td>\n      <td>0.018103</td>\n      <td>0.059586</td>\n      <td>-0.000001</td>\n      <td>0.048564</td>\n      <td>-6.945098e-07</td>\n      <td>-0.000002</td>\n      <td>...</td>\n      <td>-0.000002</td>\n      <td>0.168954</td>\n      <td>-0.000001</td>\n      <td>-0.000002</td>\n      <td>-1.200190e-07</td>\n      <td>-3.353352e-08</td>\n      <td>-0.000002</td>\n      <td>-9.748183e-07</td>\n      <td>-0.000002</td>\n      <td>-0.000001</td>\n    </tr>\n  </tbody>\n</table>\n<p>1 rows × 37 columns</p>\n</div>"
     },
     "execution_count": 12,
     "metadata": {},
     "output_type": "execute_result"
    }
   ],
   "source": [
    "microsac_vel.transform(data)"
   ],
   "metadata": {
    "collapsed": false,
    "ExecuteTime": {
     "end_time": "2024-03-19T15:41:20.164290Z",
     "start_time": "2024-03-19T15:41:12.974851Z"
    }
   },
   "id": "21bcb0a61a3368d6"
  },
  {
   "cell_type": "code",
   "execution_count": 13,
   "outputs": [
    {
     "data": {
      "text/plain": "   microsac_acc_max_1  microsac_acc_max_2  microsac_acc_max_3  \\\n0          393.225254           354.57246          321.539316   \n\n   microsac_acc_max_4  microsac_acc_max_5  microsac_acc_max_6  \\\n0          354.693595            392.2326           348.39345   \n\n   microsac_acc_max_7  microsac_acc_max_8  microsac_acc_max_9  \\\n0           390.17778          374.443031          389.183077   \n\n   microsac_acc_max_10  ...  microsac_acc_max_28  microsac_acc_max_29  \\\n0           391.160826  ...           390.951067           435.086608   \n\n   microsac_acc_max_30  microsac_acc_max_31  microsac_acc_max_32  \\\n0           393.793036           367.273491           360.393108   \n\n   microsac_acc_max_33  microsac_acc_max_34  microsac_acc_max_35  \\\n0           395.577717           456.902061           381.923962   \n\n   microsac_acc_max_36  microsac_acc_max_37  \n0           407.521188           403.701064  \n\n[1 rows x 37 columns]",
      "text/html": "<div>\n<style scoped>\n    .dataframe tbody tr th:only-of-type {\n        vertical-align: middle;\n    }\n\n    .dataframe tbody tr th {\n        vertical-align: top;\n    }\n\n    .dataframe thead th {\n        text-align: right;\n    }\n</style>\n<table border=\"1\" class=\"dataframe\">\n  <thead>\n    <tr style=\"text-align: right;\">\n      <th></th>\n      <th>microsac_acc_max_1</th>\n      <th>microsac_acc_max_2</th>\n      <th>microsac_acc_max_3</th>\n      <th>microsac_acc_max_4</th>\n      <th>microsac_acc_max_5</th>\n      <th>microsac_acc_max_6</th>\n      <th>microsac_acc_max_7</th>\n      <th>microsac_acc_max_8</th>\n      <th>microsac_acc_max_9</th>\n      <th>microsac_acc_max_10</th>\n      <th>...</th>\n      <th>microsac_acc_max_28</th>\n      <th>microsac_acc_max_29</th>\n      <th>microsac_acc_max_30</th>\n      <th>microsac_acc_max_31</th>\n      <th>microsac_acc_max_32</th>\n      <th>microsac_acc_max_33</th>\n      <th>microsac_acc_max_34</th>\n      <th>microsac_acc_max_35</th>\n      <th>microsac_acc_max_36</th>\n      <th>microsac_acc_max_37</th>\n    </tr>\n  </thead>\n  <tbody>\n    <tr>\n      <th>0</th>\n      <td>393.225254</td>\n      <td>354.57246</td>\n      <td>321.539316</td>\n      <td>354.693595</td>\n      <td>392.2326</td>\n      <td>348.39345</td>\n      <td>390.17778</td>\n      <td>374.443031</td>\n      <td>389.183077</td>\n      <td>391.160826</td>\n      <td>...</td>\n      <td>390.951067</td>\n      <td>435.086608</td>\n      <td>393.793036</td>\n      <td>367.273491</td>\n      <td>360.393108</td>\n      <td>395.577717</td>\n      <td>456.902061</td>\n      <td>381.923962</td>\n      <td>407.521188</td>\n      <td>403.701064</td>\n    </tr>\n  </tbody>\n</table>\n<p>1 rows × 37 columns</p>\n</div>"
     },
     "execution_count": 13,
     "metadata": {},
     "output_type": "execute_result"
    }
   ],
   "source": [
    "microsac_acc.transform(data)"
   ],
   "metadata": {
    "collapsed": false,
    "ExecuteTime": {
     "end_time": "2024-03-19T15:41:27.395622Z",
     "start_time": "2024-03-19T15:41:20.170163Z"
    }
   },
   "id": "27490e4ee3446cf7"
  },
  {
   "cell_type": "code",
   "outputs": [
    {
     "data": {
      "text/plain": "   fix_dur_median_1  fix_dur_skew_1  fix_dur_var_1  fix_dur_median_2  \\\n0          178.2125        1.857757   10509.516414         183.87525   \n\n   fix_dur_skew_2  fix_dur_var_2  fix_dur_median_3  fix_dur_skew_3  \\\n0        1.284709   10140.758874          195.3575        1.518871   \n\n   fix_dur_var_3  fix_dur_median_4  ...  fix_dur_var_34  fix_dur_median_35  \\\n0   16487.438466          190.0345  ...    14172.790904            156.328   \n\n   fix_dur_skew_35  fix_dur_var_35  fix_dur_median_36  fix_dur_skew_36  \\\n0         3.939154    15912.971667           172.9265         0.790963   \n\n   fix_dur_var_36  fix_dur_median_37  fix_dur_skew_37  fix_dur_var_37  \n0     9222.189501            175.881         2.152412    10483.595051  \n\n[1 rows x 111 columns]",
      "text/html": "<div>\n<style scoped>\n    .dataframe tbody tr th:only-of-type {\n        vertical-align: middle;\n    }\n\n    .dataframe tbody tr th {\n        vertical-align: top;\n    }\n\n    .dataframe thead th {\n        text-align: right;\n    }\n</style>\n<table border=\"1\" class=\"dataframe\">\n  <thead>\n    <tr style=\"text-align: right;\">\n      <th></th>\n      <th>fix_dur_median_1</th>\n      <th>fix_dur_skew_1</th>\n      <th>fix_dur_var_1</th>\n      <th>fix_dur_median_2</th>\n      <th>fix_dur_skew_2</th>\n      <th>fix_dur_var_2</th>\n      <th>fix_dur_median_3</th>\n      <th>fix_dur_skew_3</th>\n      <th>fix_dur_var_3</th>\n      <th>fix_dur_median_4</th>\n      <th>...</th>\n      <th>fix_dur_var_34</th>\n      <th>fix_dur_median_35</th>\n      <th>fix_dur_skew_35</th>\n      <th>fix_dur_var_35</th>\n      <th>fix_dur_median_36</th>\n      <th>fix_dur_skew_36</th>\n      <th>fix_dur_var_36</th>\n      <th>fix_dur_median_37</th>\n      <th>fix_dur_skew_37</th>\n      <th>fix_dur_var_37</th>\n    </tr>\n  </thead>\n  <tbody>\n    <tr>\n      <th>0</th>\n      <td>178.2125</td>\n      <td>1.857757</td>\n      <td>10509.516414</td>\n      <td>183.87525</td>\n      <td>1.284709</td>\n      <td>10140.758874</td>\n      <td>195.3575</td>\n      <td>1.518871</td>\n      <td>16487.438466</td>\n      <td>190.0345</td>\n      <td>...</td>\n      <td>14172.790904</td>\n      <td>156.328</td>\n      <td>3.939154</td>\n      <td>15912.971667</td>\n      <td>172.9265</td>\n      <td>0.790963</td>\n      <td>9222.189501</td>\n      <td>175.881</td>\n      <td>2.152412</td>\n      <td>10483.595051</td>\n    </tr>\n  </tbody>\n</table>\n<p>1 rows × 111 columns</p>\n</div>"
     },
     "execution_count": 14,
     "metadata": {},
     "output_type": "execute_result"
    }
   ],
   "source": [
    "fix_dur.transform(data)"
   ],
   "metadata": {
    "collapsed": false,
    "ExecuteTime": {
     "end_time": "2024-03-19T15:41:30.733487Z",
     "start_time": "2024-03-19T15:41:27.399118Z"
    }
   },
   "id": "d280e96299c977d6",
   "execution_count": 14
  },
  {
   "cell_type": "code",
   "outputs": [
    {
     "data": {
      "text/plain": "   reg_count_1  reg_count_2  reg_count_3  reg_count_4  reg_count_5  \\\n0          269          164          152          151          155   \n\n   reg_count_6  reg_count_7  reg_count_8  reg_count_9  reg_count_10  ...  \\\n0          173          171          192          218           225  ...   \n\n   reg_count_28  reg_count_29  reg_count_30  reg_count_31  reg_count_32  \\\n0           130           161           104            86           113   \n\n   reg_count_33  reg_count_34  reg_count_35  reg_count_36  reg_count_37  \n0           166           137           220           104           135  \n\n[1 rows x 37 columns]",
      "text/html": "<div>\n<style scoped>\n    .dataframe tbody tr th:only-of-type {\n        vertical-align: middle;\n    }\n\n    .dataframe tbody tr th {\n        vertical-align: top;\n    }\n\n    .dataframe thead th {\n        text-align: right;\n    }\n</style>\n<table border=\"1\" class=\"dataframe\">\n  <thead>\n    <tr style=\"text-align: right;\">\n      <th></th>\n      <th>reg_count_1</th>\n      <th>reg_count_2</th>\n      <th>reg_count_3</th>\n      <th>reg_count_4</th>\n      <th>reg_count_5</th>\n      <th>reg_count_6</th>\n      <th>reg_count_7</th>\n      <th>reg_count_8</th>\n      <th>reg_count_9</th>\n      <th>reg_count_10</th>\n      <th>...</th>\n      <th>reg_count_28</th>\n      <th>reg_count_29</th>\n      <th>reg_count_30</th>\n      <th>reg_count_31</th>\n      <th>reg_count_32</th>\n      <th>reg_count_33</th>\n      <th>reg_count_34</th>\n      <th>reg_count_35</th>\n      <th>reg_count_36</th>\n      <th>reg_count_37</th>\n    </tr>\n  </thead>\n  <tbody>\n    <tr>\n      <th>0</th>\n      <td>269</td>\n      <td>164</td>\n      <td>152</td>\n      <td>151</td>\n      <td>155</td>\n      <td>173</td>\n      <td>171</td>\n      <td>192</td>\n      <td>218</td>\n      <td>225</td>\n      <td>...</td>\n      <td>130</td>\n      <td>161</td>\n      <td>104</td>\n      <td>86</td>\n      <td>113</td>\n      <td>166</td>\n      <td>137</td>\n      <td>220</td>\n      <td>104</td>\n      <td>135</td>\n    </tr>\n  </tbody>\n</table>\n<p>1 rows × 37 columns</p>\n</div>"
     },
     "execution_count": 15,
     "metadata": {},
     "output_type": "execute_result"
    }
   ],
   "source": [
    "reg_count.transform(data)"
   ],
   "metadata": {
    "collapsed": false,
    "ExecuteTime": {
     "end_time": "2024-03-19T15:41:34.588665Z",
     "start_time": "2024-03-19T15:41:30.744953Z"
    }
   },
   "id": "9c6d863a0ec44075",
   "execution_count": 15
  },
  {
   "cell_type": "code",
   "outputs": [
    {
     "data": {
      "text/plain": "   fix_disp_mean_1  fix_disp_median_1  fix_disp_mean_2  fix_disp_median_2  \\\n0         1.160423           1.204169         1.171774           1.233559   \n\n   fix_disp_mean_3  fix_disp_median_3  fix_disp_mean_4  fix_disp_median_4  \\\n0         1.204409           1.263217         1.146726           1.186699   \n\n   fix_disp_mean_5  fix_disp_median_5  ...  fix_disp_mean_33  \\\n0         1.196206           1.255999  ...          1.275482   \n\n   fix_disp_median_33  fix_disp_mean_34  fix_disp_median_34  fix_disp_mean_35  \\\n0            1.357264          1.240055            1.305495          1.206376   \n\n   fix_disp_median_35  fix_disp_mean_36  fix_disp_median_36  fix_disp_mean_37  \\\n0            1.282961          1.208544             1.29094          1.263215   \n\n   fix_disp_median_37  \n0            1.362009  \n\n[1 rows x 74 columns]",
      "text/html": "<div>\n<style scoped>\n    .dataframe tbody tr th:only-of-type {\n        vertical-align: middle;\n    }\n\n    .dataframe tbody tr th {\n        vertical-align: top;\n    }\n\n    .dataframe thead th {\n        text-align: right;\n    }\n</style>\n<table border=\"1\" class=\"dataframe\">\n  <thead>\n    <tr style=\"text-align: right;\">\n      <th></th>\n      <th>fix_disp_mean_1</th>\n      <th>fix_disp_median_1</th>\n      <th>fix_disp_mean_2</th>\n      <th>fix_disp_median_2</th>\n      <th>fix_disp_mean_3</th>\n      <th>fix_disp_median_3</th>\n      <th>fix_disp_mean_4</th>\n      <th>fix_disp_median_4</th>\n      <th>fix_disp_mean_5</th>\n      <th>fix_disp_median_5</th>\n      <th>...</th>\n      <th>fix_disp_mean_33</th>\n      <th>fix_disp_median_33</th>\n      <th>fix_disp_mean_34</th>\n      <th>fix_disp_median_34</th>\n      <th>fix_disp_mean_35</th>\n      <th>fix_disp_median_35</th>\n      <th>fix_disp_mean_36</th>\n      <th>fix_disp_median_36</th>\n      <th>fix_disp_mean_37</th>\n      <th>fix_disp_median_37</th>\n    </tr>\n  </thead>\n  <tbody>\n    <tr>\n      <th>0</th>\n      <td>1.160423</td>\n      <td>1.204169</td>\n      <td>1.171774</td>\n      <td>1.233559</td>\n      <td>1.204409</td>\n      <td>1.263217</td>\n      <td>1.146726</td>\n      <td>1.186699</td>\n      <td>1.196206</td>\n      <td>1.255999</td>\n      <td>...</td>\n      <td>1.275482</td>\n      <td>1.357264</td>\n      <td>1.240055</td>\n      <td>1.305495</td>\n      <td>1.206376</td>\n      <td>1.282961</td>\n      <td>1.208544</td>\n      <td>1.29094</td>\n      <td>1.263215</td>\n      <td>1.362009</td>\n    </tr>\n  </tbody>\n</table>\n<p>1 rows × 74 columns</p>\n</div>"
     },
     "execution_count": 16,
     "metadata": {},
     "output_type": "execute_result"
    }
   ],
   "source": [
    "fix_vad.transform(data)"
   ],
   "metadata": {
    "collapsed": false,
    "ExecuteTime": {
     "end_time": "2024-03-19T15:41:37.886151Z",
     "start_time": "2024-03-19T15:41:34.592848Z"
    }
   },
   "id": "cd3312c9d3efe321",
   "execution_count": 16
  },
  {
   "cell_type": "code",
   "execution_count": 17,
   "outputs": [
    {
     "data": {
      "text/plain": "   sac_vel_min_1  sac_vel_kurtosis_1  sac_vel_max_1  sac_vel_min_2  \\\n0  -4.709740e-07            6.470488      13.717103  -8.642030e-07   \n\n   sac_vel_kurtosis_2  sac_vel_max_2  sac_vel_min_3  sac_vel_kurtosis_3  \\\n0            1.763947       8.626671      -0.000002            3.589073   \n\n   sac_vel_max_3  sac_vel_min_4  ...  reg_acc_mean_34  reg_acc_min_35  \\\n0      10.717298      -0.000002  ...       111.247524    1.538127e-12   \n\n   reg_acc_var_35  reg_acc_mean_35  reg_acc_min_36  reg_acc_var_36  \\\n0     9415.483648       112.432628        0.330045     9888.632278   \n\n   reg_acc_mean_36  reg_acc_min_37  reg_acc_var_37  reg_acc_mean_37  \n0       106.202628    2.072115e-12     9591.713138        96.316443  \n\n[1 rows x 999 columns]",
      "text/html": "<div>\n<style scoped>\n    .dataframe tbody tr th:only-of-type {\n        vertical-align: middle;\n    }\n\n    .dataframe tbody tr th {\n        vertical-align: top;\n    }\n\n    .dataframe thead th {\n        text-align: right;\n    }\n</style>\n<table border=\"1\" class=\"dataframe\">\n  <thead>\n    <tr style=\"text-align: right;\">\n      <th></th>\n      <th>sac_vel_min_1</th>\n      <th>sac_vel_kurtosis_1</th>\n      <th>sac_vel_max_1</th>\n      <th>sac_vel_min_2</th>\n      <th>sac_vel_kurtosis_2</th>\n      <th>sac_vel_max_2</th>\n      <th>sac_vel_min_3</th>\n      <th>sac_vel_kurtosis_3</th>\n      <th>sac_vel_max_3</th>\n      <th>sac_vel_min_4</th>\n      <th>...</th>\n      <th>reg_acc_mean_34</th>\n      <th>reg_acc_min_35</th>\n      <th>reg_acc_var_35</th>\n      <th>reg_acc_mean_35</th>\n      <th>reg_acc_min_36</th>\n      <th>reg_acc_var_36</th>\n      <th>reg_acc_mean_36</th>\n      <th>reg_acc_min_37</th>\n      <th>reg_acc_var_37</th>\n      <th>reg_acc_mean_37</th>\n    </tr>\n  </thead>\n  <tbody>\n    <tr>\n      <th>0</th>\n      <td>-4.709740e-07</td>\n      <td>6.470488</td>\n      <td>13.717103</td>\n      <td>-8.642030e-07</td>\n      <td>1.763947</td>\n      <td>8.626671</td>\n      <td>-0.000002</td>\n      <td>3.589073</td>\n      <td>10.717298</td>\n      <td>-0.000002</td>\n      <td>...</td>\n      <td>111.247524</td>\n      <td>1.538127e-12</td>\n      <td>9415.483648</td>\n      <td>112.432628</td>\n      <td>0.330045</td>\n      <td>9888.632278</td>\n      <td>106.202628</td>\n      <td>2.072115e-12</td>\n      <td>9591.713138</td>\n      <td>96.316443</td>\n    </tr>\n  </tbody>\n</table>\n<p>1 rows × 999 columns</p>\n</div>"
     },
     "execution_count": 17,
     "metadata": {},
     "output_type": "execute_result"
    }
   ],
   "source": [
    "extractor.transform(data)"
   ],
   "metadata": {
    "collapsed": false,
    "ExecuteTime": {
     "end_time": "2024-03-19T15:41:44.064454Z",
     "start_time": "2024-03-19T15:41:37.889443Z"
    }
   },
   "id": "d43090cb1ccef295"
  },
  {
   "cell_type": "code",
   "execution_count": 18,
   "outputs": [
    {
     "data": {
      "text/plain": "((1, 111),\n (1, 111),\n SaccadeVelocity(duration='duration', pk=['tekst'],\n                 stats=['min', 'kurtosis', 'max'], t='start_timestamp',\n                 x='norm_pos_x', y='norm_pos_y'),\n (1, 999))"
     },
     "execution_count": 18,
     "metadata": {},
     "output_type": "execute_result"
    }
   ],
   "source": [
    "sac_len.transform(data).shape, fix_dur.transform(data).shape, sac_vel, extractor.transform(data).shape"
   ],
   "metadata": {
    "collapsed": false,
    "ExecuteTime": {
     "end_time": "2024-03-19T15:41:48.762223Z",
     "start_time": "2024-03-19T15:41:44.067500Z"
    }
   },
   "id": "7b45a8235fc358eb"
  },
  {
   "cell_type": "code",
   "execution_count": 19,
   "outputs": [
    {
     "ename": "ModuleNotFoundError",
     "evalue": "No module named 'multimatch_gaze'",
     "output_type": "error",
     "traceback": [
      "\u001B[0;31m---------------------------------------------------------------------------\u001B[0m",
      "\u001B[0;31mModuleNotFoundError\u001B[0m                       Traceback (most recent call last)",
      "Cell \u001B[0;32mIn[19], line 1\u001B[0m\n\u001B[0;32m----> 1\u001B[0m \u001B[38;5;28;01mfrom\u001B[39;00m \u001B[38;5;21;01mscanpath_dist\u001B[39;00m \u001B[38;5;28;01mimport\u001B[39;00m get_expected_path\n\u001B[1;32m      3\u001B[0m paths \u001B[38;5;241m=\u001B[39m get_expected_path(\n\u001B[1;32m      4\u001B[0m     data\u001B[38;5;241m=\u001B[39mdata,\n\u001B[1;32m      5\u001B[0m     x\u001B[38;5;241m=\u001B[39mx,\n\u001B[0;32m   (...)\u001B[0m\n\u001B[1;32m      9\u001B[0m     duration\u001B[38;5;241m=\u001B[39mdur\n\u001B[1;32m     10\u001B[0m )\n\u001B[1;32m     12\u001B[0m paths\u001B[38;5;241m.\u001B[39mkeys()\n",
      "File \u001B[0;32m~/EyeFeatures/eyetracking/features/scanpath_dist.py:3\u001B[0m\n\u001B[1;32m      1\u001B[0m \u001B[38;5;28;01mfrom\u001B[39;00m \u001B[38;5;21;01mtyping\u001B[39;00m \u001B[38;5;28;01mimport\u001B[39;00m Dict, List, Union\n\u001B[0;32m----> 3\u001B[0m \u001B[38;5;28;01mimport\u001B[39;00m \u001B[38;5;21;01mmultimatch_gaze\u001B[39;00m \u001B[38;5;28;01mas\u001B[39;00m \u001B[38;5;21;01mmm\u001B[39;00m\n\u001B[1;32m      4\u001B[0m \u001B[38;5;28;01mimport\u001B[39;00m \u001B[38;5;21;01mnumpy\u001B[39;00m \u001B[38;5;28;01mas\u001B[39;00m \u001B[38;5;21;01mnp\u001B[39;00m\n\u001B[1;32m      5\u001B[0m \u001B[38;5;28;01mimport\u001B[39;00m \u001B[38;5;21;01mpandas\u001B[39;00m \u001B[38;5;28;01mas\u001B[39;00m \u001B[38;5;21;01mpd\u001B[39;00m\n",
      "\u001B[0;31mModuleNotFoundError\u001B[0m: No module named 'multimatch_gaze'"
     ]
    }
   ],
   "source": [
    "from scanpath_dist import get_expected_path\n",
    "\n",
    "paths = get_expected_path(\n",
    "    data=data,\n",
    "    x=x,\n",
    "    y=y,\n",
    "    path_pk=['tekst'],\n",
    "    pk=['tekst', 'Participant'],\n",
    "    duration=dur\n",
    ")\n",
    "\n",
    "paths.keys()"
   ],
   "metadata": {
    "collapsed": false,
    "ExecuteTime": {
     "end_time": "2024-03-19T15:41:49.731373Z",
     "start_time": "2024-03-19T15:41:48.765762Z"
    }
   },
   "id": "b81e8e6a4f827615"
  },
  {
   "cell_type": "code",
   "execution_count": null,
   "outputs": [],
   "source": [
    "paths['1']"
   ],
   "metadata": {
    "collapsed": false,
    "ExecuteTime": {
     "end_time": "2024-03-19T15:41:49.735197Z",
     "start_time": "2024-03-19T15:41:49.734790Z"
    }
   },
   "id": "2782dbf6dac310b6"
  },
  {
   "cell_type": "code",
   "execution_count": null,
   "outputs": [],
   "source": [
    "from scanpath_dist import EucDist\n",
    "\n",
    "euc = EucDist(\n",
    "    x=x,\n",
    "    y=y,\n",
    "    path_pk=['tekst'],\n",
    "    pk=['Participant', 'tekst'],\n",
    "    return_df=True\n",
    ")\n",
    "\n",
    "euc.expected_paths"
   ],
   "metadata": {
    "collapsed": false
   },
   "id": "dfae08dc13762808"
  },
  {
   "cell_type": "code",
   "execution_count": null,
   "outputs": [],
   "source": [
    "euc.fit_transform(data)"
   ],
   "metadata": {
    "collapsed": false
   },
   "id": "2fe9aec00cae8a9b"
  },
  {
   "cell_type": "code",
   "execution_count": null,
   "outputs": [],
   "source": [
    "from scanpath_dist import get_fill_path\n",
    "\n",
    "expected_paths = get_expected_path(\n",
    "    data=data,\n",
    "    x=x,\n",
    "    y=y,\n",
    "    path_pk=['tekst'],\n",
    "    pk=['Participant', 'tekst'],\n",
    "    return_df=True\n",
    ")\n",
    "\n",
    "fill_path = get_fill_path(\n",
    "    list(expected_paths.values()), \n",
    "    x='x_est',\n",
    "    y='y_est'\n",
    ")\n",
    "\n",
    "len(expected_paths)"
   ],
   "metadata": {
    "collapsed": false
   },
   "id": "e17bf8e6d0e26fff"
  },
  {
   "cell_type": "code",
   "execution_count": null,
   "outputs": [],
   "source": [
    "euc = EucDist(\n",
    "    x=x,\n",
    "    y=y,\n",
    "    path_pk=['tekst'],\n",
    "    pk=['Participant', 'tekst'],\n",
    "    expected_paths=expected_paths,\n",
    "    return_df=False\n",
    ")\n",
    "\n",
    "euc.fit_transform(data)"
   ],
   "metadata": {
    "collapsed": false
   },
   "id": "29df04a7edceb4d5"
  },
  {
   "cell_type": "code",
   "execution_count": null,
   "outputs": [],
   "source": [
    "from scanpath_dist import HauDist\n",
    "\n",
    "hau = HauDist(\n",
    "    x=x,\n",
    "    y=y,\n",
    "    path_pk=['tekst'],\n",
    "    pk=['Participant', 'tekst'],\n",
    "    expected_paths=expected_paths,\n",
    "    fill_path=fill_path,\n",
    "    return_df=True\n",
    ")\n",
    "\n",
    "hau.fit_transform(data)"
   ],
   "metadata": {
    "collapsed": false
   },
   "id": "d7063921455e54d4"
  },
  {
   "cell_type": "code",
   "execution_count": null,
   "outputs": [],
   "source": [
    "from scanpath_dist import DTWDist\n",
    "\n",
    "dtw = DTWDist(\n",
    "    x=x,\n",
    "    y=y,\n",
    "    path_pk=['tekst'],\n",
    "    pk=['Participant', 'tekst'],\n",
    "    expected_paths=expected_paths,\n",
    "    fill_path=fill_path,\n",
    "    return_df=True\n",
    ")\n",
    "\n",
    "dtw.fit_transform(data)"
   ],
   "metadata": {
    "collapsed": false
   },
   "id": "f15633ee6bb39aba"
  },
  {
   "cell_type": "code",
   "execution_count": null,
   "outputs": [],
   "source": [
    "from scanpath_dist import ScanMatchDist\n",
    "\n",
    "query_filter = \"0 <= norm_pos_x <= 1 and 0 <= norm_pos_y <= 1\"\n",
    "data = data.query(query_filter)\n",
    "\n",
    "scan_match = ScanMatchDist(\n",
    "    x=x,\n",
    "    y=y,\n",
    "    duration=dur,\n",
    "    path_pk=['tekst'],\n",
    "    pk=['Participant', 'tekst'],\n",
    "    return_df=True\n",
    ")\n",
    "\n",
    "scan_match.fit_transform(data)"
   ],
   "metadata": {
    "collapsed": false
   },
   "id": "fdc10ab6c3fa41ba"
  }
 ],
 "metadata": {
  "kernelspec": {
   "name": "scila",
   "language": "python",
   "display_name": "scila"
  },
  "language_info": {
   "codemirror_mode": {
    "name": "ipython",
    "version": 2
   },
   "file_extension": ".py",
   "mimetype": "text/x-python",
   "name": "python",
   "nbconvert_exporter": "python",
   "pygments_lexer": "ipython2",
   "version": "2.7.6"
  }
 },
 "nbformat": 4,
 "nbformat_minor": 5
}
