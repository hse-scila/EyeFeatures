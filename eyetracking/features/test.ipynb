{
 "cells": [
  {
   "cell_type": "code",
   "execution_count": 1,
   "outputs": [],
   "source": [
    "import pandas as pd\n",
    "\n",
    "from stats import SaccadeLength, FixationDuration, SaccadeVelocity, FixationVisualAngleDispersion, RegressionCount\n",
    "from extractor import Extractor"
   ],
   "metadata": {
    "collapsed": false,
    "ExecuteTime": {
     "end_time": "2024-03-17T17:04:03.367187Z",
     "start_time": "2024-03-17T17:04:02.327164Z"
    }
   },
   "id": "d9ae2cf357202ce8"
  },
  {
   "cell_type": "code",
   "execution_count": 2,
   "outputs": [],
   "source": [
    "data = pd.read_excel('itog_fix_1.xlsx')"
   ],
   "metadata": {
    "collapsed": false,
    "ExecuteTime": {
     "end_time": "2024-03-17T17:04:04.090947Z",
     "start_time": "2024-03-17T17:04:03.369054Z"
    }
   },
   "id": "dd1601b6febb317d"
  },
  {
   "cell_type": "code",
   "execution_count": 3,
   "outputs": [],
   "source": [
    "features = [\n",
    "        SaccadeVelocity(stats=['mean', 'kurtosis', 'max']),\n",
    "        FixationDuration(stats=['median', 'skew', 'var']),\n",
    "        FixationVisualAngleDispersion(stats=['mean', 'median']),\n",
    "        SaccadeLength(stats=['var', 'std']),\n",
    "        RegressionCount()\n",
    "    ]\n",
    "sac_vel = SaccadeVelocity(stats=['mean', 'kurtosis', 'max'], x='norm_pos_x', y='norm_pos_y', t='start_timestamp', duration='duration',\n",
    "                            pk=['tekst'])\n",
    "fix_dur = FixationDuration(stats=['median', 'skew', 'var'], x='norm_pos_x', y='norm_pos_y', t='start_timestamp', duration='duration', pk=['tekst'])\n",
    "reg_count = RegressionCount(x='norm_pos_x', y='norm_pos_y', t='start_timestamp', pk=['tekst'])\n",
    "fix_vad = FixationVisualAngleDispersion(stats=['mean', 'median'], x='norm_pos_x', y='norm_pos_y', t='start_timestamp', dispersion='dispersion', pk=['tekst'])\n",
    "sac_len = SaccadeLength(stats=['var', 'std'], x='norm_pos_x', y='norm_pos_y', t='start_timestamp', duration='duration', pk=['tekst'])\n",
    "\n",
    "extractor = Extractor(features=features, x='norm_pos_x', y='norm_pos_y', t='start_timestamp', duration='duration', dispersion='dispersion', pk=['tekst'],\n",
    "                      return_df=True)"
   ],
   "metadata": {
    "collapsed": false,
    "ExecuteTime": {
     "end_time": "2024-03-17T17:04:04.099900Z",
     "start_time": "2024-03-17T17:04:04.092562Z"
    }
   },
   "id": "e8ba167404481ab0"
  },
  {
   "cell_type": "code",
   "execution_count": 4,
   "outputs": [
    {
     "data": {
      "text/plain": "   sac_len_var_1  sac_len_std_1  sac_len_var_2  sac_len_std_2  sac_len_var_3  \\\n0       0.007958        0.08921       0.005854        0.07651       0.005347   \n\n   sac_len_std_3  sac_len_var_4  sac_len_std_4  sac_len_var_5  sac_len_std_5  \\\n0       0.073125       0.004516       0.067202       0.004309        0.06564   \n\n   ...  sac_len_var_33  sac_len_std_33  sac_len_var_34  sac_len_std_34  \\\n0  ...        0.006531        0.080816        0.005422        0.073633   \n\n   sac_len_var_35  sac_len_std_35  sac_len_var_36  sac_len_std_36  \\\n0        0.005904        0.076834        0.004487        0.066985   \n\n   sac_len_var_37  sac_len_std_37  \n0         0.00544        0.073756  \n\n[1 rows x 74 columns]",
      "text/html": "<div>\n<style scoped>\n    .dataframe tbody tr th:only-of-type {\n        vertical-align: middle;\n    }\n\n    .dataframe tbody tr th {\n        vertical-align: top;\n    }\n\n    .dataframe thead th {\n        text-align: right;\n    }\n</style>\n<table border=\"1\" class=\"dataframe\">\n  <thead>\n    <tr style=\"text-align: right;\">\n      <th></th>\n      <th>sac_len_var_1</th>\n      <th>sac_len_std_1</th>\n      <th>sac_len_var_2</th>\n      <th>sac_len_std_2</th>\n      <th>sac_len_var_3</th>\n      <th>sac_len_std_3</th>\n      <th>sac_len_var_4</th>\n      <th>sac_len_std_4</th>\n      <th>sac_len_var_5</th>\n      <th>sac_len_std_5</th>\n      <th>...</th>\n      <th>sac_len_var_33</th>\n      <th>sac_len_std_33</th>\n      <th>sac_len_var_34</th>\n      <th>sac_len_std_34</th>\n      <th>sac_len_var_35</th>\n      <th>sac_len_std_35</th>\n      <th>sac_len_var_36</th>\n      <th>sac_len_std_36</th>\n      <th>sac_len_var_37</th>\n      <th>sac_len_std_37</th>\n    </tr>\n  </thead>\n  <tbody>\n    <tr>\n      <th>0</th>\n      <td>0.007958</td>\n      <td>0.08921</td>\n      <td>0.005854</td>\n      <td>0.07651</td>\n      <td>0.005347</td>\n      <td>0.073125</td>\n      <td>0.004516</td>\n      <td>0.067202</td>\n      <td>0.004309</td>\n      <td>0.06564</td>\n      <td>...</td>\n      <td>0.006531</td>\n      <td>0.080816</td>\n      <td>0.005422</td>\n      <td>0.073633</td>\n      <td>0.005904</td>\n      <td>0.076834</td>\n      <td>0.004487</td>\n      <td>0.066985</td>\n      <td>0.00544</td>\n      <td>0.073756</td>\n    </tr>\n  </tbody>\n</table>\n<p>1 rows × 74 columns</p>\n</div>"
     },
     "execution_count": 4,
     "metadata": {},
     "output_type": "execute_result"
    }
   ],
   "source": [
    "sac_len.transform(data)"
   ],
   "metadata": {
    "collapsed": false,
    "ExecuteTime": {
     "end_time": "2024-03-17T17:04:05.628266Z",
     "start_time": "2024-03-17T17:04:04.102148Z"
    }
   },
   "id": "f02a3c5764b4a40"
  },
  {
   "cell_type": "code",
   "outputs": [
    {
     "data": {
      "text/plain": "   fix_dur_median_1  fix_dur_skew_1  fix_dur_var_1  fix_dur_median_2  \\\n0          165.7635         0.60323    4009.509338          170.1305   \n\n   fix_dur_skew_2  fix_dur_var_2  fix_dur_median_3  fix_dur_skew_3  \\\n0        1.279994    7365.894447            179.74        2.038973   \n\n   fix_dur_var_3  fix_dur_median_4  ...  fix_dur_var_34  fix_dur_median_35  \\\n0   14658.009058          180.8325  ...     15031.15926            182.903   \n\n   fix_dur_skew_35  fix_dur_var_35  fix_dur_median_36  fix_dur_skew_36  \\\n0          4.37837    17795.957085          189.90575         0.775797   \n\n   fix_dur_var_36  fix_dur_median_37  fix_dur_skew_37  fix_dur_var_37  \n0     9543.236418            187.375         0.823856     7686.440674  \n\n[1 rows x 111 columns]",
      "text/html": "<div>\n<style scoped>\n    .dataframe tbody tr th:only-of-type {\n        vertical-align: middle;\n    }\n\n    .dataframe tbody tr th {\n        vertical-align: top;\n    }\n\n    .dataframe thead th {\n        text-align: right;\n    }\n</style>\n<table border=\"1\" class=\"dataframe\">\n  <thead>\n    <tr style=\"text-align: right;\">\n      <th></th>\n      <th>fix_dur_median_1</th>\n      <th>fix_dur_skew_1</th>\n      <th>fix_dur_var_1</th>\n      <th>fix_dur_median_2</th>\n      <th>fix_dur_skew_2</th>\n      <th>fix_dur_var_2</th>\n      <th>fix_dur_median_3</th>\n      <th>fix_dur_skew_3</th>\n      <th>fix_dur_var_3</th>\n      <th>fix_dur_median_4</th>\n      <th>...</th>\n      <th>fix_dur_var_34</th>\n      <th>fix_dur_median_35</th>\n      <th>fix_dur_skew_35</th>\n      <th>fix_dur_var_35</th>\n      <th>fix_dur_median_36</th>\n      <th>fix_dur_skew_36</th>\n      <th>fix_dur_var_36</th>\n      <th>fix_dur_median_37</th>\n      <th>fix_dur_skew_37</th>\n      <th>fix_dur_var_37</th>\n    </tr>\n  </thead>\n  <tbody>\n    <tr>\n      <th>0</th>\n      <td>165.7635</td>\n      <td>0.60323</td>\n      <td>4009.509338</td>\n      <td>170.1305</td>\n      <td>1.279994</td>\n      <td>7365.894447</td>\n      <td>179.74</td>\n      <td>2.038973</td>\n      <td>14658.009058</td>\n      <td>180.8325</td>\n      <td>...</td>\n      <td>15031.15926</td>\n      <td>182.903</td>\n      <td>4.37837</td>\n      <td>17795.957085</td>\n      <td>189.90575</td>\n      <td>0.775797</td>\n      <td>9543.236418</td>\n      <td>187.375</td>\n      <td>0.823856</td>\n      <td>7686.440674</td>\n    </tr>\n  </tbody>\n</table>\n<p>1 rows × 111 columns</p>\n</div>"
     },
     "execution_count": 5,
     "metadata": {},
     "output_type": "execute_result"
    }
   ],
   "source": [
    "fix_dur.transform(data)"
   ],
   "metadata": {
    "collapsed": false,
    "ExecuteTime": {
     "end_time": "2024-03-17T17:04:06.834581Z",
     "start_time": "2024-03-17T17:04:05.631672Z"
    }
   },
   "id": "d280e96299c977d6",
   "execution_count": 5
  },
  {
   "cell_type": "code",
   "outputs": [
    {
     "data": {
      "text/plain": "   sac_vel_mean_1  sac_vel_kurtosis_1  sac_vel_max_1  sac_vel_mean_2  \\\n0        3.354341            5.209393      13.717103        2.790058   \n\n   sac_vel_kurtosis_2  sac_vel_max_2  sac_vel_mean_3  sac_vel_kurtosis_3  \\\n0            1.062297       8.626671        2.859375            3.861622   \n\n   sac_vel_max_3  sac_vel_mean_4  ...  sac_vel_max_34  sac_vel_mean_35  \\\n0      10.717298        2.753959  ...        6.728558         2.818112   \n\n   sac_vel_kurtosis_35  sac_vel_max_35  sac_vel_mean_36  sac_vel_kurtosis_36  \\\n0             1.353549        8.013502         2.834546             0.247982   \n\n   sac_vel_max_36  sac_vel_mean_37  sac_vel_kurtosis_37  sac_vel_max_37  \n0        6.875674         2.836137             0.640583         7.21531  \n\n[1 rows x 111 columns]",
      "text/html": "<div>\n<style scoped>\n    .dataframe tbody tr th:only-of-type {\n        vertical-align: middle;\n    }\n\n    .dataframe tbody tr th {\n        vertical-align: top;\n    }\n\n    .dataframe thead th {\n        text-align: right;\n    }\n</style>\n<table border=\"1\" class=\"dataframe\">\n  <thead>\n    <tr style=\"text-align: right;\">\n      <th></th>\n      <th>sac_vel_mean_1</th>\n      <th>sac_vel_kurtosis_1</th>\n      <th>sac_vel_max_1</th>\n      <th>sac_vel_mean_2</th>\n      <th>sac_vel_kurtosis_2</th>\n      <th>sac_vel_max_2</th>\n      <th>sac_vel_mean_3</th>\n      <th>sac_vel_kurtosis_3</th>\n      <th>sac_vel_max_3</th>\n      <th>sac_vel_mean_4</th>\n      <th>...</th>\n      <th>sac_vel_max_34</th>\n      <th>sac_vel_mean_35</th>\n      <th>sac_vel_kurtosis_35</th>\n      <th>sac_vel_max_35</th>\n      <th>sac_vel_mean_36</th>\n      <th>sac_vel_kurtosis_36</th>\n      <th>sac_vel_max_36</th>\n      <th>sac_vel_mean_37</th>\n      <th>sac_vel_kurtosis_37</th>\n      <th>sac_vel_max_37</th>\n    </tr>\n  </thead>\n  <tbody>\n    <tr>\n      <th>0</th>\n      <td>3.354341</td>\n      <td>5.209393</td>\n      <td>13.717103</td>\n      <td>2.790058</td>\n      <td>1.062297</td>\n      <td>8.626671</td>\n      <td>2.859375</td>\n      <td>3.861622</td>\n      <td>10.717298</td>\n      <td>2.753959</td>\n      <td>...</td>\n      <td>6.728558</td>\n      <td>2.818112</td>\n      <td>1.353549</td>\n      <td>8.013502</td>\n      <td>2.834546</td>\n      <td>0.247982</td>\n      <td>6.875674</td>\n      <td>2.836137</td>\n      <td>0.640583</td>\n      <td>7.21531</td>\n    </tr>\n  </tbody>\n</table>\n<p>1 rows × 111 columns</p>\n</div>"
     },
     "execution_count": 6,
     "metadata": {},
     "output_type": "execute_result"
    }
   ],
   "source": [
    "sac_vel.transform(data)"
   ],
   "metadata": {
    "collapsed": false,
    "ExecuteTime": {
     "end_time": "2024-03-17T17:04:08.722707Z",
     "start_time": "2024-03-17T17:04:06.836195Z"
    }
   },
   "id": "67c798e82044f26f",
   "execution_count": 6
  },
  {
   "cell_type": "code",
   "outputs": [
    {
     "data": {
      "text/plain": "   reg_count_1  reg_count_2  reg_count_3  reg_count_4  reg_count_5  \\\n0          124           87           79           74          102   \n\n   reg_count_6  reg_count_7  reg_count_8  reg_count_9  reg_count_10  ...  \\\n0           50          103           98           92           177  ...   \n\n   reg_count_28  reg_count_29  reg_count_30  reg_count_31  reg_count_32  \\\n0            81            76            63            54            53   \n\n   reg_count_33  reg_count_34  reg_count_35  reg_count_36  reg_count_37  \n0            42           108           156            65            87  \n\n[1 rows x 37 columns]",
      "text/html": "<div>\n<style scoped>\n    .dataframe tbody tr th:only-of-type {\n        vertical-align: middle;\n    }\n\n    .dataframe tbody tr th {\n        vertical-align: top;\n    }\n\n    .dataframe thead th {\n        text-align: right;\n    }\n</style>\n<table border=\"1\" class=\"dataframe\">\n  <thead>\n    <tr style=\"text-align: right;\">\n      <th></th>\n      <th>reg_count_1</th>\n      <th>reg_count_2</th>\n      <th>reg_count_3</th>\n      <th>reg_count_4</th>\n      <th>reg_count_5</th>\n      <th>reg_count_6</th>\n      <th>reg_count_7</th>\n      <th>reg_count_8</th>\n      <th>reg_count_9</th>\n      <th>reg_count_10</th>\n      <th>...</th>\n      <th>reg_count_28</th>\n      <th>reg_count_29</th>\n      <th>reg_count_30</th>\n      <th>reg_count_31</th>\n      <th>reg_count_32</th>\n      <th>reg_count_33</th>\n      <th>reg_count_34</th>\n      <th>reg_count_35</th>\n      <th>reg_count_36</th>\n      <th>reg_count_37</th>\n    </tr>\n  </thead>\n  <tbody>\n    <tr>\n      <th>0</th>\n      <td>124</td>\n      <td>87</td>\n      <td>79</td>\n      <td>74</td>\n      <td>102</td>\n      <td>50</td>\n      <td>103</td>\n      <td>98</td>\n      <td>92</td>\n      <td>177</td>\n      <td>...</td>\n      <td>81</td>\n      <td>76</td>\n      <td>63</td>\n      <td>54</td>\n      <td>53</td>\n      <td>42</td>\n      <td>108</td>\n      <td>156</td>\n      <td>65</td>\n      <td>87</td>\n    </tr>\n  </tbody>\n</table>\n<p>1 rows × 37 columns</p>\n</div>"
     },
     "execution_count": 7,
     "metadata": {},
     "output_type": "execute_result"
    }
   ],
   "source": [
    "reg_count.transform(data)"
   ],
   "metadata": {
    "collapsed": false,
    "ExecuteTime": {
     "end_time": "2024-03-17T17:04:09.833452Z",
     "start_time": "2024-03-17T17:04:08.724492Z"
    }
   },
   "id": "9c6d863a0ec44075",
   "execution_count": 7
  },
  {
   "cell_type": "code",
   "outputs": [
    {
     "data": {
      "text/plain": "   fix_disp_mean_1  fix_disp_median_1  fix_disp_mean_2  fix_disp_median_2  \\\n0         1.110338           1.118638         1.171651           1.227761   \n\n   fix_disp_mean_3  fix_disp_median_3  fix_disp_mean_4  fix_disp_median_4  \\\n0         1.167868           1.197179          1.08832           1.095466   \n\n   fix_disp_mean_5  fix_disp_median_5  ...  fix_disp_mean_33  \\\n0         1.186222           1.203914  ...          1.114747   \n\n   fix_disp_median_33  fix_disp_mean_34  fix_disp_median_34  fix_disp_mean_35  \\\n0             1.10293          1.202303            1.255327          1.099336   \n\n   fix_disp_median_35  fix_disp_mean_36  fix_disp_median_36  fix_disp_mean_37  \\\n0            1.119734           1.05818            1.116787          1.142652   \n\n   fix_disp_median_37  \n0            1.194019  \n\n[1 rows x 74 columns]",
      "text/html": "<div>\n<style scoped>\n    .dataframe tbody tr th:only-of-type {\n        vertical-align: middle;\n    }\n\n    .dataframe tbody tr th {\n        vertical-align: top;\n    }\n\n    .dataframe thead th {\n        text-align: right;\n    }\n</style>\n<table border=\"1\" class=\"dataframe\">\n  <thead>\n    <tr style=\"text-align: right;\">\n      <th></th>\n      <th>fix_disp_mean_1</th>\n      <th>fix_disp_median_1</th>\n      <th>fix_disp_mean_2</th>\n      <th>fix_disp_median_2</th>\n      <th>fix_disp_mean_3</th>\n      <th>fix_disp_median_3</th>\n      <th>fix_disp_mean_4</th>\n      <th>fix_disp_median_4</th>\n      <th>fix_disp_mean_5</th>\n      <th>fix_disp_median_5</th>\n      <th>...</th>\n      <th>fix_disp_mean_33</th>\n      <th>fix_disp_median_33</th>\n      <th>fix_disp_mean_34</th>\n      <th>fix_disp_median_34</th>\n      <th>fix_disp_mean_35</th>\n      <th>fix_disp_median_35</th>\n      <th>fix_disp_mean_36</th>\n      <th>fix_disp_median_36</th>\n      <th>fix_disp_mean_37</th>\n      <th>fix_disp_median_37</th>\n    </tr>\n  </thead>\n  <tbody>\n    <tr>\n      <th>0</th>\n      <td>1.110338</td>\n      <td>1.118638</td>\n      <td>1.171651</td>\n      <td>1.227761</td>\n      <td>1.167868</td>\n      <td>1.197179</td>\n      <td>1.08832</td>\n      <td>1.095466</td>\n      <td>1.186222</td>\n      <td>1.203914</td>\n      <td>...</td>\n      <td>1.114747</td>\n      <td>1.10293</td>\n      <td>1.202303</td>\n      <td>1.255327</td>\n      <td>1.099336</td>\n      <td>1.119734</td>\n      <td>1.05818</td>\n      <td>1.116787</td>\n      <td>1.142652</td>\n      <td>1.194019</td>\n    </tr>\n  </tbody>\n</table>\n<p>1 rows × 74 columns</p>\n</div>"
     },
     "execution_count": 8,
     "metadata": {},
     "output_type": "execute_result"
    }
   ],
   "source": [
    "fix_vad.transform(data)"
   ],
   "metadata": {
    "collapsed": false,
    "ExecuteTime": {
     "end_time": "2024-03-17T17:04:10.929024Z",
     "start_time": "2024-03-17T17:04:09.834958Z"
    }
   },
   "id": "cd3312c9d3efe321",
   "execution_count": 8
  },
  {
   "cell_type": "code",
   "execution_count": 9,
   "outputs": [
    {
     "data": {
      "text/plain": "   sac_vel_mean_1  sac_vel_kurtosis_1  sac_vel_max_1  sac_vel_mean_2  \\\n0        3.354341            5.209393      13.717103        2.790058   \n\n   sac_vel_kurtosis_2  sac_vel_max_2  sac_vel_mean_3  sac_vel_kurtosis_3  \\\n0            1.062297       8.626671        2.859375            3.861622   \n\n   sac_vel_max_3  sac_vel_mean_4  ...  reg_count_28  reg_count_29  \\\n0      10.717298        2.753959  ...            81            76   \n\n   reg_count_30  reg_count_31  reg_count_32  reg_count_33  reg_count_34  \\\n0            63            54            53            42           108   \n\n   reg_count_35  reg_count_36  reg_count_37  \n0           156            65            87  \n\n[1 rows x 407 columns]",
      "text/html": "<div>\n<style scoped>\n    .dataframe tbody tr th:only-of-type {\n        vertical-align: middle;\n    }\n\n    .dataframe tbody tr th {\n        vertical-align: top;\n    }\n\n    .dataframe thead th {\n        text-align: right;\n    }\n</style>\n<table border=\"1\" class=\"dataframe\">\n  <thead>\n    <tr style=\"text-align: right;\">\n      <th></th>\n      <th>sac_vel_mean_1</th>\n      <th>sac_vel_kurtosis_1</th>\n      <th>sac_vel_max_1</th>\n      <th>sac_vel_mean_2</th>\n      <th>sac_vel_kurtosis_2</th>\n      <th>sac_vel_max_2</th>\n      <th>sac_vel_mean_3</th>\n      <th>sac_vel_kurtosis_3</th>\n      <th>sac_vel_max_3</th>\n      <th>sac_vel_mean_4</th>\n      <th>...</th>\n      <th>reg_count_28</th>\n      <th>reg_count_29</th>\n      <th>reg_count_30</th>\n      <th>reg_count_31</th>\n      <th>reg_count_32</th>\n      <th>reg_count_33</th>\n      <th>reg_count_34</th>\n      <th>reg_count_35</th>\n      <th>reg_count_36</th>\n      <th>reg_count_37</th>\n    </tr>\n  </thead>\n  <tbody>\n    <tr>\n      <th>0</th>\n      <td>3.354341</td>\n      <td>5.209393</td>\n      <td>13.717103</td>\n      <td>2.790058</td>\n      <td>1.062297</td>\n      <td>8.626671</td>\n      <td>2.859375</td>\n      <td>3.861622</td>\n      <td>10.717298</td>\n      <td>2.753959</td>\n      <td>...</td>\n      <td>81</td>\n      <td>76</td>\n      <td>63</td>\n      <td>54</td>\n      <td>53</td>\n      <td>42</td>\n      <td>108</td>\n      <td>156</td>\n      <td>65</td>\n      <td>87</td>\n    </tr>\n  </tbody>\n</table>\n<p>1 rows × 407 columns</p>\n</div>"
     },
     "execution_count": 9,
     "metadata": {},
     "output_type": "execute_result"
    }
   ],
   "source": [
    "extractor.transform(data)"
   ],
   "metadata": {
    "collapsed": false,
    "ExecuteTime": {
     "end_time": "2024-03-17T17:04:12.100488Z",
     "start_time": "2024-03-17T17:04:10.930746Z"
    }
   },
   "id": "d43090cb1ccef295"
  },
  {
   "cell_type": "code",
   "execution_count": 10,
   "outputs": [
    {
     "data": {
      "text/plain": "((1, 74),\n (1, 111),\n SaccadeVelocity(duration='duration', pk=['tekst'],\n                 stats=['mean', 'kurtosis', 'max'], t='start_timestamp',\n                 x='norm_pos_x', y='norm_pos_y'),\n (1, 407))"
     },
     "execution_count": 10,
     "metadata": {},
     "output_type": "execute_result"
    }
   ],
   "source": [
    "sac_len.transform(data).shape, fix_dur.transform(data).shape, sac_vel, extractor.transform(data).shape"
   ],
   "metadata": {
    "collapsed": false,
    "ExecuteTime": {
     "end_time": "2024-03-17T17:04:12.724205Z",
     "start_time": "2024-03-17T17:04:12.102209Z"
    }
   },
   "id": "7b45a8235fc358eb"
  },
  {
   "cell_type": "code",
   "outputs": [],
   "source": [],
   "metadata": {
    "collapsed": false,
    "ExecuteTime": {
     "end_time": "2024-03-17T17:04:12.728242Z",
     "start_time": "2024-03-17T17:04:12.725933Z"
    }
   },
   "id": "15a1ebb4e0d62c7e",
   "execution_count": 10
  }
 ],
 "metadata": {
  "kernelspec": {
   "display_name": "Python 3",
   "language": "python",
   "name": "python3"
  },
  "language_info": {
   "codemirror_mode": {
    "name": "ipython",
    "version": 2
   },
   "file_extension": ".py",
   "mimetype": "text/x-python",
   "name": "python",
   "nbconvert_exporter": "python",
   "pygments_lexer": "ipython2",
   "version": "2.7.6"
  }
 },
 "nbformat": 4,
 "nbformat_minor": 5
}
