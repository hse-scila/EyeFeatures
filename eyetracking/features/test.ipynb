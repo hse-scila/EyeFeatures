{
 "cells": [
  {
   "cell_type": "code",
   "execution_count": 1,
   "outputs": [],
   "source": [
    "import pandas as pd\n",
    "import numpy as np\n",
    "\n",
    "from stats import SaccadeLength, SaccadeAcceleration, FixationDuration, SaccadeVelocity, FixationVAD, RegressionCount, MicroSaccadeLength, MicroSaccadeVelocity, MicroSaccadeAcceleration\n",
    "from measures import HurstExponent\n",
    "from extractor import Extractor"
   ],
   "metadata": {
    "collapsed": false,
    "ExecuteTime": {
     "end_time": "2024-03-18T21:42:09.593471900Z",
     "start_time": "2024-03-18T21:42:09.051831200Z"
    }
   },
   "id": "d9ae2cf357202ce8"
  },
  {
   "cell_type": "code",
   "execution_count": 2,
   "outputs": [],
   "source": [
    "data = pd.concat([pd.read_excel('itog_fix_1.xlsx'), pd.read_excel('itog_fix_2.xlsx')], axis=0)"
   ],
   "metadata": {
    "collapsed": false,
    "ExecuteTime": {
     "end_time": "2024-03-18T21:42:10.318774200Z",
     "start_time": "2024-03-18T21:42:09.597476200Z"
    }
   },
   "id": "dd1601b6febb317d"
  },
  {
   "cell_type": "code",
   "execution_count": 3,
   "outputs": [],
   "source": [
    "x = 'norm_pos_x'\n",
    "y = 'norm_pos_y'\n",
    "t = 'start_timestamp'\n",
    "dur = 'duration'\n",
    "dis = 'dispersion'\n",
    "msv = 4.7  # MS_VELOCITY_THRESHOLD\n",
    "msa = 1.2  # MS_AMPLITUDE_THRESHOLD\n",
    "\n",
    "features = [\n",
    "    SaccadeVelocity(stats=['min', 'kurtosis', 'max']),\n",
    "    FixationDuration(stats=['median', 'skew', 'var']),\n",
    "    FixationVAD(stats=['mean', 'median']),\n",
    "    SaccadeLength(stats=['var', 'std']),\n",
    "    RegressionCount(),\n",
    "    SaccadeAcceleration(stats=['min', 'var', 'mean']),\n",
    "    MicroSaccadeVelocity(stats=['min'], min_dispersion=msa, max_velocity=msv),\n",
    "    MicroSaccadeAcceleration(stats=['var'], min_dispersion=msa, max_velocity=msv),\n",
    "    MicroSaccadeLength(stats=['max'], min_dispersion=msa, max_velocity=msv),\n",
    "    HurstExponent(var='duration', n_iters=10, fill_strategy='reduce')\n",
    "]\n",
    "sac_vel = SaccadeVelocity(stats=['min', 'kurtosis', 'max'], x=x, y=y, t=t, duration=dur, pk=['tekst'])\n",
    "fix_dur = FixationDuration(stats=['median', 'skew', 'var'], x=x, y=y, t=t, duration=dur, pk=['tekst'])\n",
    "reg_count = RegressionCount(x=x, y=y, t=t, pk=['tekst'])\n",
    "fix_vad = FixationVAD(stats=['mean', 'median'], x=x, y=y, t=t, duration=dur,  dispersion=dis, pk=['tekst'])\n",
    "sac_len = SaccadeLength(stats=['var', 'std'], x=x, y=y, t=t, duration=dur, pk=['tekst'])\n",
    "sac_acc = SaccadeAcceleration(stats=['min', 'var', 'mean'], x=x, y=y, t=t, duration=dur, pk=['tekst'])\n",
    "microsac_vel = MicroSaccadeVelocity(stats=['min'], x=x, y=y, t=t, duration=dur, dispersion=dis, pk=['tekst'], min_dispersion=msa, max_velocity=msv)\n",
    "microsac_len = MicroSaccadeLength(stats=['max'], x=x, y=y, t=t, duration=dur, dispersion=dis, pk=['tekst'], min_dispersion=msa, max_velocity=msv)\n",
    "microsac_acc = MicroSaccadeAcceleration(stats=['max'], x=x, y=y, t=t, duration=dur, dispersion=dis, pk=['tekst'], min_dispersion=msa, max_velocity=msv)\n",
    "\n",
    "he = HurstExponent(var='duration', n_iters=10, fill_strategy='reduce', pk=['tekst'])\n",
    "\n",
    "extractor = Extractor(features=features, x=x, y=y, t=t, duration=dur, dispersion=dis, pk=['tekst'],\n",
    "                      return_df=True)"
   ],
   "metadata": {
    "collapsed": false,
    "ExecuteTime": {
     "end_time": "2024-03-18T21:42:10.324914600Z",
     "start_time": "2024-03-18T21:42:10.318774200Z"
    }
   },
   "id": "e8ba167404481ab0"
  },
  {
   "cell_type": "code",
   "execution_count": 4,
   "outputs": [
    {
     "data": {
      "text/plain": "   sac_len_var_1  sac_len_std_1  sac_len_var_2  sac_len_std_2  sac_len_var_3  \\\n0         0.0086       0.092735       0.006856         0.0828       0.008787   \n\n   sac_len_std_3  sac_len_var_4  sac_len_std_4  sac_len_var_5  sac_len_std_5  \\\n0       0.093741        0.00875       0.093543       0.006019       0.077581   \n\n   ...  sac_len_var_33  sac_len_std_33  sac_len_var_34  sac_len_std_34  \\\n0  ...        0.004574        0.067629        0.006926         0.08322   \n\n   sac_len_var_35  sac_len_std_35  sac_len_var_36  sac_len_std_36  \\\n0        0.018313        0.135327         0.01331        0.115368   \n\n   sac_len_var_37  sac_len_std_37  \n0        0.013424        0.115863  \n\n[1 rows x 74 columns]",
      "text/html": "<div>\n<style scoped>\n    .dataframe tbody tr th:only-of-type {\n        vertical-align: middle;\n    }\n\n    .dataframe tbody tr th {\n        vertical-align: top;\n    }\n\n    .dataframe thead th {\n        text-align: right;\n    }\n</style>\n<table border=\"1\" class=\"dataframe\">\n  <thead>\n    <tr style=\"text-align: right;\">\n      <th></th>\n      <th>sac_len_var_1</th>\n      <th>sac_len_std_1</th>\n      <th>sac_len_var_2</th>\n      <th>sac_len_std_2</th>\n      <th>sac_len_var_3</th>\n      <th>sac_len_std_3</th>\n      <th>sac_len_var_4</th>\n      <th>sac_len_std_4</th>\n      <th>sac_len_var_5</th>\n      <th>sac_len_std_5</th>\n      <th>...</th>\n      <th>sac_len_var_33</th>\n      <th>sac_len_std_33</th>\n      <th>sac_len_var_34</th>\n      <th>sac_len_std_34</th>\n      <th>sac_len_var_35</th>\n      <th>sac_len_std_35</th>\n      <th>sac_len_var_36</th>\n      <th>sac_len_std_36</th>\n      <th>sac_len_var_37</th>\n      <th>sac_len_std_37</th>\n    </tr>\n  </thead>\n  <tbody>\n    <tr>\n      <th>0</th>\n      <td>0.0086</td>\n      <td>0.092735</td>\n      <td>0.006856</td>\n      <td>0.0828</td>\n      <td>0.008787</td>\n      <td>0.093741</td>\n      <td>0.00875</td>\n      <td>0.093543</td>\n      <td>0.006019</td>\n      <td>0.077581</td>\n      <td>...</td>\n      <td>0.004574</td>\n      <td>0.067629</td>\n      <td>0.006926</td>\n      <td>0.08322</td>\n      <td>0.018313</td>\n      <td>0.135327</td>\n      <td>0.01331</td>\n      <td>0.115368</td>\n      <td>0.013424</td>\n      <td>0.115863</td>\n    </tr>\n  </tbody>\n</table>\n<p>1 rows × 74 columns</p>\n</div>"
     },
     "execution_count": 4,
     "metadata": {},
     "output_type": "execute_result"
    }
   ],
   "source": [
    "sac_len.transform(data)"
   ],
   "metadata": {
    "collapsed": false,
    "ExecuteTime": {
     "end_time": "2024-03-18T21:42:11.411164900Z",
     "start_time": "2024-03-18T21:42:10.322773500Z"
    }
   },
   "id": "f02a3c5764b4a40"
  },
  {
   "cell_type": "code",
   "execution_count": 5,
   "outputs": [
    {
     "data": {
      "text/plain": "   sac_acc_min_1  sac_acc_var_1  sac_acc_mean_1  sac_acc_min_2  sac_acc_var_2  \\\n0   7.437532e-13    7096.232068       92.712374   1.364786e-12    6735.116723   \n\n   sac_acc_mean_2  sac_acc_min_3  sac_acc_var_3  sac_acc_mean_3  \\\n0       82.582251   2.860060e-12     4745.36048        83.83454   \n\n   sac_acc_min_4  ...  sac_acc_mean_34  sac_acc_min_35  sac_acc_var_35  \\\n0   3.514137e-12  ...       102.881657    1.538127e-12    14091.651674   \n\n   sac_acc_mean_35  sac_acc_min_36  sac_acc_var_36  sac_acc_mean_36  \\\n0       110.523075    2.508151e-12    12305.666053       112.434921   \n\n   sac_acc_min_37  sac_acc_var_37  sac_acc_mean_37  \n0    2.072115e-12     7886.442632        90.731849  \n\n[1 rows x 111 columns]",
      "text/html": "<div>\n<style scoped>\n    .dataframe tbody tr th:only-of-type {\n        vertical-align: middle;\n    }\n\n    .dataframe tbody tr th {\n        vertical-align: top;\n    }\n\n    .dataframe thead th {\n        text-align: right;\n    }\n</style>\n<table border=\"1\" class=\"dataframe\">\n  <thead>\n    <tr style=\"text-align: right;\">\n      <th></th>\n      <th>sac_acc_min_1</th>\n      <th>sac_acc_var_1</th>\n      <th>sac_acc_mean_1</th>\n      <th>sac_acc_min_2</th>\n      <th>sac_acc_var_2</th>\n      <th>sac_acc_mean_2</th>\n      <th>sac_acc_min_3</th>\n      <th>sac_acc_var_3</th>\n      <th>sac_acc_mean_3</th>\n      <th>sac_acc_min_4</th>\n      <th>...</th>\n      <th>sac_acc_mean_34</th>\n      <th>sac_acc_min_35</th>\n      <th>sac_acc_var_35</th>\n      <th>sac_acc_mean_35</th>\n      <th>sac_acc_min_36</th>\n      <th>sac_acc_var_36</th>\n      <th>sac_acc_mean_36</th>\n      <th>sac_acc_min_37</th>\n      <th>sac_acc_var_37</th>\n      <th>sac_acc_mean_37</th>\n    </tr>\n  </thead>\n  <tbody>\n    <tr>\n      <th>0</th>\n      <td>7.437532e-13</td>\n      <td>7096.232068</td>\n      <td>92.712374</td>\n      <td>1.364786e-12</td>\n      <td>6735.116723</td>\n      <td>82.582251</td>\n      <td>2.860060e-12</td>\n      <td>4745.36048</td>\n      <td>83.83454</td>\n      <td>3.514137e-12</td>\n      <td>...</td>\n      <td>102.881657</td>\n      <td>1.538127e-12</td>\n      <td>14091.651674</td>\n      <td>110.523075</td>\n      <td>2.508151e-12</td>\n      <td>12305.666053</td>\n      <td>112.434921</td>\n      <td>2.072115e-12</td>\n      <td>7886.442632</td>\n      <td>90.731849</td>\n    </tr>\n  </tbody>\n</table>\n<p>1 rows × 111 columns</p>\n</div>"
     },
     "execution_count": 5,
     "metadata": {},
     "output_type": "execute_result"
    }
   ],
   "source": [
    "sac_acc.transform(data)"
   ],
   "metadata": {
    "collapsed": false
   }
  },
  {
   "cell_type": "code",
   "execution_count": 6,
   "outputs": [
    {
     "data": {
      "text/plain": "   sac_vel_min_1  sac_vel_kurtosis_1  sac_vel_max_1  sac_vel_min_2  \\\n0  -4.709740e-07            6.470488      13.717103  -8.642030e-07   \n\n   sac_vel_kurtosis_2  sac_vel_max_2  sac_vel_min_3  sac_vel_kurtosis_3  \\\n0            1.763947       8.626671      -0.000002            3.589073   \n\n   sac_vel_max_3  sac_vel_min_4  ...  sac_vel_max_34  sac_vel_min_35  \\\n0      10.717298      -0.000002  ...        6.728558   -9.748183e-07   \n\n   sac_vel_kurtosis_35  sac_vel_max_35  sac_vel_min_36  sac_vel_kurtosis_36  \\\n0            37.115046       30.362497       -0.000002             30.10733   \n\n   sac_vel_max_36  sac_vel_min_37  sac_vel_kurtosis_37  sac_vel_max_37  \n0       22.777222       -0.000001             6.351163       12.730611  \n\n[1 rows x 111 columns]",
      "text/html": "<div>\n<style scoped>\n    .dataframe tbody tr th:only-of-type {\n        vertical-align: middle;\n    }\n\n    .dataframe tbody tr th {\n        vertical-align: top;\n    }\n\n    .dataframe thead th {\n        text-align: right;\n    }\n</style>\n<table border=\"1\" class=\"dataframe\">\n  <thead>\n    <tr style=\"text-align: right;\">\n      <th></th>\n      <th>sac_vel_min_1</th>\n      <th>sac_vel_kurtosis_1</th>\n      <th>sac_vel_max_1</th>\n      <th>sac_vel_min_2</th>\n      <th>sac_vel_kurtosis_2</th>\n      <th>sac_vel_max_2</th>\n      <th>sac_vel_min_3</th>\n      <th>sac_vel_kurtosis_3</th>\n      <th>sac_vel_max_3</th>\n      <th>sac_vel_min_4</th>\n      <th>...</th>\n      <th>sac_vel_max_34</th>\n      <th>sac_vel_min_35</th>\n      <th>sac_vel_kurtosis_35</th>\n      <th>sac_vel_max_35</th>\n      <th>sac_vel_min_36</th>\n      <th>sac_vel_kurtosis_36</th>\n      <th>sac_vel_max_36</th>\n      <th>sac_vel_min_37</th>\n      <th>sac_vel_kurtosis_37</th>\n      <th>sac_vel_max_37</th>\n    </tr>\n  </thead>\n  <tbody>\n    <tr>\n      <th>0</th>\n      <td>-4.709740e-07</td>\n      <td>6.470488</td>\n      <td>13.717103</td>\n      <td>-8.642030e-07</td>\n      <td>1.763947</td>\n      <td>8.626671</td>\n      <td>-0.000002</td>\n      <td>3.589073</td>\n      <td>10.717298</td>\n      <td>-0.000002</td>\n      <td>...</td>\n      <td>6.728558</td>\n      <td>-9.748183e-07</td>\n      <td>37.115046</td>\n      <td>30.362497</td>\n      <td>-0.000002</td>\n      <td>30.10733</td>\n      <td>22.777222</td>\n      <td>-0.000001</td>\n      <td>6.351163</td>\n      <td>12.730611</td>\n    </tr>\n  </tbody>\n</table>\n<p>1 rows × 111 columns</p>\n</div>"
     },
     "execution_count": 6,
     "metadata": {},
     "output_type": "execute_result"
    }
   ],
   "source": [
    "sac_vel.transform(data)"
   ],
   "metadata": {
    "collapsed": false
   }
  },
  {
   "cell_type": "code",
   "execution_count": 7,
   "outputs": [
    {
     "data": {
      "text/plain": "   microsac_len_max_1  microsac_len_max_2  microsac_len_max_3  \\\n0            0.407159            0.264537            0.326784   \n\n   microsac_len_max_4  microsac_len_max_5  microsac_len_max_6  \\\n0            0.704554            0.256157            0.409433   \n\n   microsac_len_max_7  microsac_len_max_8  microsac_len_max_9  \\\n0            0.386975            0.506729            0.336658   \n\n   microsac_len_max_10  ...  microsac_len_max_28  microsac_len_max_29  \\\n0             0.526767  ...             0.669959             0.510668   \n\n   microsac_len_max_30  microsac_len_max_31  microsac_len_max_32  \\\n0             0.337793             0.604739             0.994827   \n\n   microsac_len_max_33  microsac_len_max_34  microsac_len_max_35  \\\n0             0.255299             0.615122             0.308905   \n\n   microsac_len_max_36  microsac_len_max_37  \n0              0.55976              0.41619  \n\n[1 rows x 37 columns]",
      "text/html": "<div>\n<style scoped>\n    .dataframe tbody tr th:only-of-type {\n        vertical-align: middle;\n    }\n\n    .dataframe tbody tr th {\n        vertical-align: top;\n    }\n\n    .dataframe thead th {\n        text-align: right;\n    }\n</style>\n<table border=\"1\" class=\"dataframe\">\n  <thead>\n    <tr style=\"text-align: right;\">\n      <th></th>\n      <th>microsac_len_max_1</th>\n      <th>microsac_len_max_2</th>\n      <th>microsac_len_max_3</th>\n      <th>microsac_len_max_4</th>\n      <th>microsac_len_max_5</th>\n      <th>microsac_len_max_6</th>\n      <th>microsac_len_max_7</th>\n      <th>microsac_len_max_8</th>\n      <th>microsac_len_max_9</th>\n      <th>microsac_len_max_10</th>\n      <th>...</th>\n      <th>microsac_len_max_28</th>\n      <th>microsac_len_max_29</th>\n      <th>microsac_len_max_30</th>\n      <th>microsac_len_max_31</th>\n      <th>microsac_len_max_32</th>\n      <th>microsac_len_max_33</th>\n      <th>microsac_len_max_34</th>\n      <th>microsac_len_max_35</th>\n      <th>microsac_len_max_36</th>\n      <th>microsac_len_max_37</th>\n    </tr>\n  </thead>\n  <tbody>\n    <tr>\n      <th>0</th>\n      <td>0.407159</td>\n      <td>0.264537</td>\n      <td>0.326784</td>\n      <td>0.704554</td>\n      <td>0.256157</td>\n      <td>0.409433</td>\n      <td>0.386975</td>\n      <td>0.506729</td>\n      <td>0.336658</td>\n      <td>0.526767</td>\n      <td>...</td>\n      <td>0.669959</td>\n      <td>0.510668</td>\n      <td>0.337793</td>\n      <td>0.604739</td>\n      <td>0.994827</td>\n      <td>0.255299</td>\n      <td>0.615122</td>\n      <td>0.308905</td>\n      <td>0.55976</td>\n      <td>0.41619</td>\n    </tr>\n  </tbody>\n</table>\n<p>1 rows × 37 columns</p>\n</div>"
     },
     "execution_count": 7,
     "metadata": {},
     "output_type": "execute_result"
    }
   ],
   "source": [
    "microsac_len.transform(data)"
   ],
   "metadata": {
    "collapsed": false
   }
  },
  {
   "cell_type": "code",
   "execution_count": 8,
   "outputs": [
    {
     "data": {
      "text/plain": "   microsac_vel_min_1  microsac_vel_min_2  microsac_vel_min_3  \\\n0            0.121675            0.023706            0.102426   \n\n   microsac_vel_min_4  microsac_vel_min_5  microsac_vel_min_6  \\\n0           -0.000002            0.018103            0.059586   \n\n   microsac_vel_min_7  microsac_vel_min_8  microsac_vel_min_9  \\\n0           -0.000001            0.048564       -6.945098e-07   \n\n   microsac_vel_min_10  ...  microsac_vel_min_28  microsac_vel_min_29  \\\n0            -0.000002  ...            -0.000002             0.168954   \n\n   microsac_vel_min_30  microsac_vel_min_31  microsac_vel_min_32  \\\n0            -0.000001            -0.000002        -1.200190e-07   \n\n   microsac_vel_min_33  microsac_vel_min_34  microsac_vel_min_35  \\\n0        -3.353352e-08            -0.000002        -9.748183e-07   \n\n   microsac_vel_min_36  microsac_vel_min_37  \n0            -0.000002            -0.000001  \n\n[1 rows x 37 columns]",
      "text/html": "<div>\n<style scoped>\n    .dataframe tbody tr th:only-of-type {\n        vertical-align: middle;\n    }\n\n    .dataframe tbody tr th {\n        vertical-align: top;\n    }\n\n    .dataframe thead th {\n        text-align: right;\n    }\n</style>\n<table border=\"1\" class=\"dataframe\">\n  <thead>\n    <tr style=\"text-align: right;\">\n      <th></th>\n      <th>microsac_vel_min_1</th>\n      <th>microsac_vel_min_2</th>\n      <th>microsac_vel_min_3</th>\n      <th>microsac_vel_min_4</th>\n      <th>microsac_vel_min_5</th>\n      <th>microsac_vel_min_6</th>\n      <th>microsac_vel_min_7</th>\n      <th>microsac_vel_min_8</th>\n      <th>microsac_vel_min_9</th>\n      <th>microsac_vel_min_10</th>\n      <th>...</th>\n      <th>microsac_vel_min_28</th>\n      <th>microsac_vel_min_29</th>\n      <th>microsac_vel_min_30</th>\n      <th>microsac_vel_min_31</th>\n      <th>microsac_vel_min_32</th>\n      <th>microsac_vel_min_33</th>\n      <th>microsac_vel_min_34</th>\n      <th>microsac_vel_min_35</th>\n      <th>microsac_vel_min_36</th>\n      <th>microsac_vel_min_37</th>\n    </tr>\n  </thead>\n  <tbody>\n    <tr>\n      <th>0</th>\n      <td>0.121675</td>\n      <td>0.023706</td>\n      <td>0.102426</td>\n      <td>-0.000002</td>\n      <td>0.018103</td>\n      <td>0.059586</td>\n      <td>-0.000001</td>\n      <td>0.048564</td>\n      <td>-6.945098e-07</td>\n      <td>-0.000002</td>\n      <td>...</td>\n      <td>-0.000002</td>\n      <td>0.168954</td>\n      <td>-0.000001</td>\n      <td>-0.000002</td>\n      <td>-1.200190e-07</td>\n      <td>-3.353352e-08</td>\n      <td>-0.000002</td>\n      <td>-9.748183e-07</td>\n      <td>-0.000002</td>\n      <td>-0.000001</td>\n    </tr>\n  </tbody>\n</table>\n<p>1 rows × 37 columns</p>\n</div>"
     },
     "execution_count": 8,
     "metadata": {},
     "output_type": "execute_result"
    }
   ],
   "source": [
    "microsac_vel.transform(data)"
   ],
   "metadata": {
    "collapsed": false
   }
  },
  {
   "cell_type": "code",
   "execution_count": 9,
   "outputs": [
    {
     "data": {
      "text/plain": "   microsac_acc_max_1  microsac_acc_max_2  microsac_acc_max_3  \\\n0          393.225254           354.57246          321.539316   \n\n   microsac_acc_max_4  microsac_acc_max_5  microsac_acc_max_6  \\\n0          354.693595            392.2326           348.39345   \n\n   microsac_acc_max_7  microsac_acc_max_8  microsac_acc_max_9  \\\n0           390.17778          374.443031          389.183077   \n\n   microsac_acc_max_10  ...  microsac_acc_max_28  microsac_acc_max_29  \\\n0           391.160826  ...           390.951067           435.086608   \n\n   microsac_acc_max_30  microsac_acc_max_31  microsac_acc_max_32  \\\n0           393.793036           367.273491           360.393108   \n\n   microsac_acc_max_33  microsac_acc_max_34  microsac_acc_max_35  \\\n0           395.577717           456.902061           381.923962   \n\n   microsac_acc_max_36  microsac_acc_max_37  \n0           407.521188           403.701064  \n\n[1 rows x 37 columns]",
      "text/html": "<div>\n<style scoped>\n    .dataframe tbody tr th:only-of-type {\n        vertical-align: middle;\n    }\n\n    .dataframe tbody tr th {\n        vertical-align: top;\n    }\n\n    .dataframe thead th {\n        text-align: right;\n    }\n</style>\n<table border=\"1\" class=\"dataframe\">\n  <thead>\n    <tr style=\"text-align: right;\">\n      <th></th>\n      <th>microsac_acc_max_1</th>\n      <th>microsac_acc_max_2</th>\n      <th>microsac_acc_max_3</th>\n      <th>microsac_acc_max_4</th>\n      <th>microsac_acc_max_5</th>\n      <th>microsac_acc_max_6</th>\n      <th>microsac_acc_max_7</th>\n      <th>microsac_acc_max_8</th>\n      <th>microsac_acc_max_9</th>\n      <th>microsac_acc_max_10</th>\n      <th>...</th>\n      <th>microsac_acc_max_28</th>\n      <th>microsac_acc_max_29</th>\n      <th>microsac_acc_max_30</th>\n      <th>microsac_acc_max_31</th>\n      <th>microsac_acc_max_32</th>\n      <th>microsac_acc_max_33</th>\n      <th>microsac_acc_max_34</th>\n      <th>microsac_acc_max_35</th>\n      <th>microsac_acc_max_36</th>\n      <th>microsac_acc_max_37</th>\n    </tr>\n  </thead>\n  <tbody>\n    <tr>\n      <th>0</th>\n      <td>393.225254</td>\n      <td>354.57246</td>\n      <td>321.539316</td>\n      <td>354.693595</td>\n      <td>392.2326</td>\n      <td>348.39345</td>\n      <td>390.17778</td>\n      <td>374.443031</td>\n      <td>389.183077</td>\n      <td>391.160826</td>\n      <td>...</td>\n      <td>390.951067</td>\n      <td>435.086608</td>\n      <td>393.793036</td>\n      <td>367.273491</td>\n      <td>360.393108</td>\n      <td>395.577717</td>\n      <td>456.902061</td>\n      <td>381.923962</td>\n      <td>407.521188</td>\n      <td>403.701064</td>\n    </tr>\n  </tbody>\n</table>\n<p>1 rows × 37 columns</p>\n</div>"
     },
     "execution_count": 9,
     "metadata": {},
     "output_type": "execute_result"
    }
   ],
   "source": [
    "microsac_acc.transform(data)"
   ],
   "metadata": {
    "collapsed": false
   }
  },
  {
   "cell_type": "code",
   "outputs": [
    {
     "data": {
      "text/plain": "   fix_dur_median_1  fix_dur_skew_1  fix_dur_var_1  fix_dur_median_2  \\\n0          178.2125        1.857757   10509.516414         183.87525   \n\n   fix_dur_skew_2  fix_dur_var_2  fix_dur_median_3  fix_dur_skew_3  \\\n0        1.284709   10140.758874          195.3575        1.518871   \n\n   fix_dur_var_3  fix_dur_median_4  ...  fix_dur_var_34  fix_dur_median_35  \\\n0   16487.438466          190.0345  ...    14172.790904            156.328   \n\n   fix_dur_skew_35  fix_dur_var_35  fix_dur_median_36  fix_dur_skew_36  \\\n0         3.939154    15912.971667           172.9265         0.790963   \n\n   fix_dur_var_36  fix_dur_median_37  fix_dur_skew_37  fix_dur_var_37  \n0     9222.189501            175.881         2.152412    10483.595051  \n\n[1 rows x 111 columns]",
      "text/html": "<div>\n<style scoped>\n    .dataframe tbody tr th:only-of-type {\n        vertical-align: middle;\n    }\n\n    .dataframe tbody tr th {\n        vertical-align: top;\n    }\n\n    .dataframe thead th {\n        text-align: right;\n    }\n</style>\n<table border=\"1\" class=\"dataframe\">\n  <thead>\n    <tr style=\"text-align: right;\">\n      <th></th>\n      <th>fix_dur_median_1</th>\n      <th>fix_dur_skew_1</th>\n      <th>fix_dur_var_1</th>\n      <th>fix_dur_median_2</th>\n      <th>fix_dur_skew_2</th>\n      <th>fix_dur_var_2</th>\n      <th>fix_dur_median_3</th>\n      <th>fix_dur_skew_3</th>\n      <th>fix_dur_var_3</th>\n      <th>fix_dur_median_4</th>\n      <th>...</th>\n      <th>fix_dur_var_34</th>\n      <th>fix_dur_median_35</th>\n      <th>fix_dur_skew_35</th>\n      <th>fix_dur_var_35</th>\n      <th>fix_dur_median_36</th>\n      <th>fix_dur_skew_36</th>\n      <th>fix_dur_var_36</th>\n      <th>fix_dur_median_37</th>\n      <th>fix_dur_skew_37</th>\n      <th>fix_dur_var_37</th>\n    </tr>\n  </thead>\n  <tbody>\n    <tr>\n      <th>0</th>\n      <td>178.2125</td>\n      <td>1.857757</td>\n      <td>10509.516414</td>\n      <td>183.87525</td>\n      <td>1.284709</td>\n      <td>10140.758874</td>\n      <td>195.3575</td>\n      <td>1.518871</td>\n      <td>16487.438466</td>\n      <td>190.0345</td>\n      <td>...</td>\n      <td>14172.790904</td>\n      <td>156.328</td>\n      <td>3.939154</td>\n      <td>15912.971667</td>\n      <td>172.9265</td>\n      <td>0.790963</td>\n      <td>9222.189501</td>\n      <td>175.881</td>\n      <td>2.152412</td>\n      <td>10483.595051</td>\n    </tr>\n  </tbody>\n</table>\n<p>1 rows × 111 columns</p>\n</div>"
     },
     "execution_count": 10,
     "metadata": {},
     "output_type": "execute_result"
    }
   ],
   "source": [
    "fix_dur.transform(data)"
   ],
   "metadata": {
    "collapsed": false,
    "ExecuteTime": {
     "end_time": "2024-03-18T21:42:12.314502600Z",
     "start_time": "2024-03-18T21:42:11.410198700Z"
    }
   },
   "id": "d280e96299c977d6",
   "execution_count": 10
  },
  {
   "cell_type": "code",
   "outputs": [
    {
     "data": {
      "text/plain": "   reg_count_1  reg_count_2  reg_count_3  reg_count_4  reg_count_5  \\\n0          269          164          152          151          155   \n\n   reg_count_6  reg_count_7  reg_count_8  reg_count_9  reg_count_10  ...  \\\n0          173          171          192          218           225  ...   \n\n   reg_count_28  reg_count_29  reg_count_30  reg_count_31  reg_count_32  \\\n0           130           161           104            86           113   \n\n   reg_count_33  reg_count_34  reg_count_35  reg_count_36  reg_count_37  \n0           166           137           220           104           135  \n\n[1 rows x 37 columns]",
      "text/html": "<div>\n<style scoped>\n    .dataframe tbody tr th:only-of-type {\n        vertical-align: middle;\n    }\n\n    .dataframe tbody tr th {\n        vertical-align: top;\n    }\n\n    .dataframe thead th {\n        text-align: right;\n    }\n</style>\n<table border=\"1\" class=\"dataframe\">\n  <thead>\n    <tr style=\"text-align: right;\">\n      <th></th>\n      <th>reg_count_1</th>\n      <th>reg_count_2</th>\n      <th>reg_count_3</th>\n      <th>reg_count_4</th>\n      <th>reg_count_5</th>\n      <th>reg_count_6</th>\n      <th>reg_count_7</th>\n      <th>reg_count_8</th>\n      <th>reg_count_9</th>\n      <th>reg_count_10</th>\n      <th>...</th>\n      <th>reg_count_28</th>\n      <th>reg_count_29</th>\n      <th>reg_count_30</th>\n      <th>reg_count_31</th>\n      <th>reg_count_32</th>\n      <th>reg_count_33</th>\n      <th>reg_count_34</th>\n      <th>reg_count_35</th>\n      <th>reg_count_36</th>\n      <th>reg_count_37</th>\n    </tr>\n  </thead>\n  <tbody>\n    <tr>\n      <th>0</th>\n      <td>269</td>\n      <td>164</td>\n      <td>152</td>\n      <td>151</td>\n      <td>155</td>\n      <td>173</td>\n      <td>171</td>\n      <td>192</td>\n      <td>218</td>\n      <td>225</td>\n      <td>...</td>\n      <td>130</td>\n      <td>161</td>\n      <td>104</td>\n      <td>86</td>\n      <td>113</td>\n      <td>166</td>\n      <td>137</td>\n      <td>220</td>\n      <td>104</td>\n      <td>135</td>\n    </tr>\n  </tbody>\n</table>\n<p>1 rows × 37 columns</p>\n</div>"
     },
     "execution_count": 11,
     "metadata": {},
     "output_type": "execute_result"
    }
   ],
   "source": [
    "reg_count.transform(data)"
   ],
   "metadata": {
    "collapsed": false,
    "ExecuteTime": {
     "end_time": "2024-03-18T21:42:14.649525800Z",
     "start_time": "2024-03-18T21:42:13.860049700Z"
    }
   },
   "id": "9c6d863a0ec44075",
   "execution_count": 11
  },
  {
   "cell_type": "code",
   "outputs": [
    {
     "data": {
      "text/plain": "   fix_disp_mean_1  fix_disp_median_1  fix_disp_mean_2  fix_disp_median_2  \\\n0         1.160423           1.204169         1.171774           1.233559   \n\n   fix_disp_mean_3  fix_disp_median_3  fix_disp_mean_4  fix_disp_median_4  \\\n0         1.204409           1.263217         1.146726           1.186699   \n\n   fix_disp_mean_5  fix_disp_median_5  ...  fix_disp_mean_33  \\\n0         1.196206           1.255999  ...          1.275482   \n\n   fix_disp_median_33  fix_disp_mean_34  fix_disp_median_34  fix_disp_mean_35  \\\n0            1.357264          1.240055            1.305495          1.206376   \n\n   fix_disp_median_35  fix_disp_mean_36  fix_disp_median_36  fix_disp_mean_37  \\\n0            1.282961          1.208544             1.29094          1.263215   \n\n   fix_disp_median_37  \n0            1.362009  \n\n[1 rows x 74 columns]",
      "text/html": "<div>\n<style scoped>\n    .dataframe tbody tr th:only-of-type {\n        vertical-align: middle;\n    }\n\n    .dataframe tbody tr th {\n        vertical-align: top;\n    }\n\n    .dataframe thead th {\n        text-align: right;\n    }\n</style>\n<table border=\"1\" class=\"dataframe\">\n  <thead>\n    <tr style=\"text-align: right;\">\n      <th></th>\n      <th>fix_disp_mean_1</th>\n      <th>fix_disp_median_1</th>\n      <th>fix_disp_mean_2</th>\n      <th>fix_disp_median_2</th>\n      <th>fix_disp_mean_3</th>\n      <th>fix_disp_median_3</th>\n      <th>fix_disp_mean_4</th>\n      <th>fix_disp_median_4</th>\n      <th>fix_disp_mean_5</th>\n      <th>fix_disp_median_5</th>\n      <th>...</th>\n      <th>fix_disp_mean_33</th>\n      <th>fix_disp_median_33</th>\n      <th>fix_disp_mean_34</th>\n      <th>fix_disp_median_34</th>\n      <th>fix_disp_mean_35</th>\n      <th>fix_disp_median_35</th>\n      <th>fix_disp_mean_36</th>\n      <th>fix_disp_median_36</th>\n      <th>fix_disp_mean_37</th>\n      <th>fix_disp_median_37</th>\n    </tr>\n  </thead>\n  <tbody>\n    <tr>\n      <th>0</th>\n      <td>1.160423</td>\n      <td>1.204169</td>\n      <td>1.171774</td>\n      <td>1.233559</td>\n      <td>1.204409</td>\n      <td>1.263217</td>\n      <td>1.146726</td>\n      <td>1.186699</td>\n      <td>1.196206</td>\n      <td>1.255999</td>\n      <td>...</td>\n      <td>1.275482</td>\n      <td>1.357264</td>\n      <td>1.240055</td>\n      <td>1.305495</td>\n      <td>1.206376</td>\n      <td>1.282961</td>\n      <td>1.208544</td>\n      <td>1.29094</td>\n      <td>1.263215</td>\n      <td>1.362009</td>\n    </tr>\n  </tbody>\n</table>\n<p>1 rows × 74 columns</p>\n</div>"
     },
     "execution_count": 12,
     "metadata": {},
     "output_type": "execute_result"
    }
   ],
   "source": [
    "fix_vad.transform(data)"
   ],
   "metadata": {
    "collapsed": false,
    "ExecuteTime": {
     "end_time": "2024-03-18T21:42:15.526811400Z",
     "start_time": "2024-03-18T21:42:14.685023800Z"
    }
   },
   "id": "cd3312c9d3efe321",
   "execution_count": 12
  },
  {
   "cell_type": "code",
   "execution_count": 13,
   "outputs": [
    {
     "data": {
      "text/plain": "   sac_vel_min_1  sac_vel_kurtosis_1  sac_vel_max_1  sac_vel_min_2  \\\n0  -4.709740e-07            6.470488      13.717103  -8.642030e-07   \n\n   sac_vel_kurtosis_2  sac_vel_max_2  sac_vel_min_3  sac_vel_kurtosis_3  \\\n0            1.763947       8.626671      -0.000002            3.589073   \n\n   sac_vel_max_3  sac_vel_min_4  ...  hurst_exp_28  hurst_exp_29  \\\n0      10.717298      -0.000002  ...      0.007859      0.011344   \n\n   hurst_exp_30  hurst_exp_31  hurst_exp_32  hurst_exp_33  hurst_exp_34  \\\n0      0.019138      0.018031       0.01548      0.016096      0.016636   \n\n   hurst_exp_35  hurst_exp_36  hurst_exp_37  \n0      0.008879      0.018251      0.015218  \n\n[1 rows x 666 columns]",
      "text/html": "<div>\n<style scoped>\n    .dataframe tbody tr th:only-of-type {\n        vertical-align: middle;\n    }\n\n    .dataframe tbody tr th {\n        vertical-align: top;\n    }\n\n    .dataframe thead th {\n        text-align: right;\n    }\n</style>\n<table border=\"1\" class=\"dataframe\">\n  <thead>\n    <tr style=\"text-align: right;\">\n      <th></th>\n      <th>sac_vel_min_1</th>\n      <th>sac_vel_kurtosis_1</th>\n      <th>sac_vel_max_1</th>\n      <th>sac_vel_min_2</th>\n      <th>sac_vel_kurtosis_2</th>\n      <th>sac_vel_max_2</th>\n      <th>sac_vel_min_3</th>\n      <th>sac_vel_kurtosis_3</th>\n      <th>sac_vel_max_3</th>\n      <th>sac_vel_min_4</th>\n      <th>...</th>\n      <th>hurst_exp_28</th>\n      <th>hurst_exp_29</th>\n      <th>hurst_exp_30</th>\n      <th>hurst_exp_31</th>\n      <th>hurst_exp_32</th>\n      <th>hurst_exp_33</th>\n      <th>hurst_exp_34</th>\n      <th>hurst_exp_35</th>\n      <th>hurst_exp_36</th>\n      <th>hurst_exp_37</th>\n    </tr>\n  </thead>\n  <tbody>\n    <tr>\n      <th>0</th>\n      <td>-4.709740e-07</td>\n      <td>6.470488</td>\n      <td>13.717103</td>\n      <td>-8.642030e-07</td>\n      <td>1.763947</td>\n      <td>8.626671</td>\n      <td>-0.000002</td>\n      <td>3.589073</td>\n      <td>10.717298</td>\n      <td>-0.000002</td>\n      <td>...</td>\n      <td>0.007859</td>\n      <td>0.011344</td>\n      <td>0.019138</td>\n      <td>0.018031</td>\n      <td>0.01548</td>\n      <td>0.016096</td>\n      <td>0.016636</td>\n      <td>0.008879</td>\n      <td>0.018251</td>\n      <td>0.015218</td>\n    </tr>\n  </tbody>\n</table>\n<p>1 rows × 666 columns</p>\n</div>"
     },
     "execution_count": 13,
     "metadata": {},
     "output_type": "execute_result"
    }
   ],
   "source": [
    "extractor.transform(data)"
   ],
   "metadata": {
    "collapsed": false,
    "ExecuteTime": {
     "end_time": "2024-03-18T21:42:16.477786200Z",
     "start_time": "2024-03-18T21:42:15.521594400Z"
    }
   },
   "id": "d43090cb1ccef295"
  },
  {
   "cell_type": "code",
   "execution_count": 14,
   "outputs": [
    {
     "data": {
      "text/plain": "   hurst_exp_1  hurst_exp_2  hurst_exp_3  hurst_exp_4  hurst_exp_5  \\\n0     0.010769     0.012475     0.017373     0.017302     0.014782   \n\n   hurst_exp_6  hurst_exp_7  hurst_exp_8  hurst_exp_9  hurst_exp_10  ...  \\\n0      0.01727     0.016498     0.016379     0.015217      0.009344  ...   \n\n   hurst_exp_28  hurst_exp_29  hurst_exp_30  hurst_exp_31  hurst_exp_32  \\\n0      0.007859      0.011344      0.019138      0.018031       0.01548   \n\n   hurst_exp_33  hurst_exp_34  hurst_exp_35  hurst_exp_36  hurst_exp_37  \n0      0.016096      0.016636      0.008879      0.018251      0.015218  \n\n[1 rows x 37 columns]",
      "text/html": "<div>\n<style scoped>\n    .dataframe tbody tr th:only-of-type {\n        vertical-align: middle;\n    }\n\n    .dataframe tbody tr th {\n        vertical-align: top;\n    }\n\n    .dataframe thead th {\n        text-align: right;\n    }\n</style>\n<table border=\"1\" class=\"dataframe\">\n  <thead>\n    <tr style=\"text-align: right;\">\n      <th></th>\n      <th>hurst_exp_1</th>\n      <th>hurst_exp_2</th>\n      <th>hurst_exp_3</th>\n      <th>hurst_exp_4</th>\n      <th>hurst_exp_5</th>\n      <th>hurst_exp_6</th>\n      <th>hurst_exp_7</th>\n      <th>hurst_exp_8</th>\n      <th>hurst_exp_9</th>\n      <th>hurst_exp_10</th>\n      <th>...</th>\n      <th>hurst_exp_28</th>\n      <th>hurst_exp_29</th>\n      <th>hurst_exp_30</th>\n      <th>hurst_exp_31</th>\n      <th>hurst_exp_32</th>\n      <th>hurst_exp_33</th>\n      <th>hurst_exp_34</th>\n      <th>hurst_exp_35</th>\n      <th>hurst_exp_36</th>\n      <th>hurst_exp_37</th>\n    </tr>\n  </thead>\n  <tbody>\n    <tr>\n      <th>0</th>\n      <td>0.010769</td>\n      <td>0.012475</td>\n      <td>0.017373</td>\n      <td>0.017302</td>\n      <td>0.014782</td>\n      <td>0.01727</td>\n      <td>0.016498</td>\n      <td>0.016379</td>\n      <td>0.015217</td>\n      <td>0.009344</td>\n      <td>...</td>\n      <td>0.007859</td>\n      <td>0.011344</td>\n      <td>0.019138</td>\n      <td>0.018031</td>\n      <td>0.01548</td>\n      <td>0.016096</td>\n      <td>0.016636</td>\n      <td>0.008879</td>\n      <td>0.018251</td>\n      <td>0.015218</td>\n    </tr>\n  </tbody>\n</table>\n<p>1 rows × 37 columns</p>\n</div>"
     },
     "execution_count": 14,
     "metadata": {},
     "output_type": "execute_result"
    }
   ],
   "source": [
    "he.transform(data)"
   ],
   "metadata": {
    "collapsed": false
   }
  },
  {
   "cell_type": "code",
   "execution_count": 15,
   "outputs": [
    {
     "data": {
      "text/plain": "((1, 74),\n (1, 111),\n SaccadeVelocity(duration='duration', pk=['tekst'],\n                 stats=['min', 'kurtosis', 'max'], t='start_timestamp',\n                 x='norm_pos_x', y='norm_pos_y'),\n (1, 666))"
     },
     "execution_count": 15,
     "metadata": {},
     "output_type": "execute_result"
    }
   ],
   "source": [
    "sac_len.transform(data).shape, fix_dur.transform(data).shape, sac_vel, extractor.transform(data).shape"
   ],
   "metadata": {
    "collapsed": false,
    "ExecuteTime": {
     "end_time": "2024-03-18T21:42:16.910879800Z",
     "start_time": "2024-03-18T21:42:16.477786200Z"
    }
   },
   "id": "7b45a8235fc358eb"
  },
  {
   "cell_type": "code",
   "execution_count": 16,
   "outputs": [
    {
     "data": {
      "text/plain": "dict_keys(['1', '2', '3', '4', '5', '6', '7', '8', '9', '10', '11', '12', '13', '14', '15', '16', '17', '18', '19', '20', '21', '22', '23', '24', '25', '26', '27', '28', '29', '30', '31', '32', '33', '34', '35', '36', '37'])"
     },
     "execution_count": 16,
     "metadata": {},
     "output_type": "execute_result"
    }
   ],
   "source": [
    "from scanpath_dist import get_expected_path\n",
    "\n",
    "paths = get_expected_path(\n",
    "    data=data,\n",
    "    x=x,\n",
    "    y=y,\n",
    "    path_pk=['tekst'],\n",
    "    pk=['tekst', 'Participant'],\n",
    "    duration=dur\n",
    ")\n",
    "\n",
    "paths.keys()"
   ],
   "metadata": {
    "collapsed": false,
    "ExecuteTime": {
     "end_time": "2024-03-18T21:42:24.044429900Z",
     "start_time": "2024-03-18T21:42:16.950909400Z"
    }
   },
   "id": "b81e8e6a4f827615"
  },
  {
   "cell_type": "code",
   "execution_count": 17,
   "outputs": [
    {
     "data": {
      "text/plain": "        x_est     y_est  duration_est\n0    0.259898  0.500364     206.67675\n1    0.249939  0.471984     167.37850\n2    0.245635  0.460574     151.21150\n3    0.240511  0.528885     186.05625\n4    0.266589  0.529640     278.93000\n..        ...       ...           ...\n166  0.460267 -0.072699     228.13350\n167  0.461565 -0.063056      79.41750\n168  0.334058  0.265421     131.70250\n169  0.334674  0.273724     120.10650\n170  0.262132  0.343488     191.01800\n\n[171 rows x 3 columns]",
      "text/html": "<div>\n<style scoped>\n    .dataframe tbody tr th:only-of-type {\n        vertical-align: middle;\n    }\n\n    .dataframe tbody tr th {\n        vertical-align: top;\n    }\n\n    .dataframe thead th {\n        text-align: right;\n    }\n</style>\n<table border=\"1\" class=\"dataframe\">\n  <thead>\n    <tr style=\"text-align: right;\">\n      <th></th>\n      <th>x_est</th>\n      <th>y_est</th>\n      <th>duration_est</th>\n    </tr>\n  </thead>\n  <tbody>\n    <tr>\n      <th>0</th>\n      <td>0.259898</td>\n      <td>0.500364</td>\n      <td>206.67675</td>\n    </tr>\n    <tr>\n      <th>1</th>\n      <td>0.249939</td>\n      <td>0.471984</td>\n      <td>167.37850</td>\n    </tr>\n    <tr>\n      <th>2</th>\n      <td>0.245635</td>\n      <td>0.460574</td>\n      <td>151.21150</td>\n    </tr>\n    <tr>\n      <th>3</th>\n      <td>0.240511</td>\n      <td>0.528885</td>\n      <td>186.05625</td>\n    </tr>\n    <tr>\n      <th>4</th>\n      <td>0.266589</td>\n      <td>0.529640</td>\n      <td>278.93000</td>\n    </tr>\n    <tr>\n      <th>...</th>\n      <td>...</td>\n      <td>...</td>\n      <td>...</td>\n    </tr>\n    <tr>\n      <th>166</th>\n      <td>0.460267</td>\n      <td>-0.072699</td>\n      <td>228.13350</td>\n    </tr>\n    <tr>\n      <th>167</th>\n      <td>0.461565</td>\n      <td>-0.063056</td>\n      <td>79.41750</td>\n    </tr>\n    <tr>\n      <th>168</th>\n      <td>0.334058</td>\n      <td>0.265421</td>\n      <td>131.70250</td>\n    </tr>\n    <tr>\n      <th>169</th>\n      <td>0.334674</td>\n      <td>0.273724</td>\n      <td>120.10650</td>\n    </tr>\n    <tr>\n      <th>170</th>\n      <td>0.262132</td>\n      <td>0.343488</td>\n      <td>191.01800</td>\n    </tr>\n  </tbody>\n</table>\n<p>171 rows × 3 columns</p>\n</div>"
     },
     "execution_count": 17,
     "metadata": {},
     "output_type": "execute_result"
    }
   ],
   "source": [
    "paths['1']"
   ],
   "metadata": {
    "collapsed": false,
    "ExecuteTime": {
     "end_time": "2024-03-18T21:42:24.051426800Z",
     "start_time": "2024-03-18T21:42:24.043426500Z"
    }
   },
   "id": "2782dbf6dac310b6"
  },
  {
   "cell_type": "code",
   "execution_count": 18,
   "outputs": [],
   "source": [
    "from scanpath_dist import EucDist\n",
    "\n",
    "euc = EucDist(\n",
    "    x=x,\n",
    "    y=y,\n",
    "    path_pk=['tekst'],\n",
    "    pk=['Participant', 'tekst'],\n",
    "    return_df=True\n",
    ")\n",
    "\n",
    "euc.expected_paths"
   ],
   "metadata": {
    "collapsed": false,
    "ExecuteTime": {
     "end_time": "2024-03-18T21:42:24.057508Z",
     "start_time": "2024-03-18T21:42:24.048426700Z"
    }
   },
   "id": "dfae08dc13762808"
  },
  {
   "cell_type": "code",
   "execution_count": 19,
   "outputs": [
    {
     "data": {
      "text/plain": "    euc_1_1   euc_1_2   euc_1_3   euc_1_4   euc_1_5   euc_1_6   euc_1_7  \\\n0  3.048825  0.712929  0.756424  1.209765  1.005537  2.898817  2.672203   \n\n    euc_1_8   euc_1_9  euc_1_10  ...   euc_2_28  euc_2_29  euc_2_30  \\\n0  1.193188  1.233929  0.555947  ...  10.925293  7.213775  4.191334   \n\n    euc_2_31  euc_2_32  euc_2_33  euc_2_34   euc_2_35  euc_2_36   euc_2_37  \n0  18.768847  1.690434  0.467097  1.311675  15.454267  9.711279  12.413386  \n\n[1 rows x 74 columns]",
      "text/html": "<div>\n<style scoped>\n    .dataframe tbody tr th:only-of-type {\n        vertical-align: middle;\n    }\n\n    .dataframe tbody tr th {\n        vertical-align: top;\n    }\n\n    .dataframe thead th {\n        text-align: right;\n    }\n</style>\n<table border=\"1\" class=\"dataframe\">\n  <thead>\n    <tr style=\"text-align: right;\">\n      <th></th>\n      <th>euc_1_1</th>\n      <th>euc_1_2</th>\n      <th>euc_1_3</th>\n      <th>euc_1_4</th>\n      <th>euc_1_5</th>\n      <th>euc_1_6</th>\n      <th>euc_1_7</th>\n      <th>euc_1_8</th>\n      <th>euc_1_9</th>\n      <th>euc_1_10</th>\n      <th>...</th>\n      <th>euc_2_28</th>\n      <th>euc_2_29</th>\n      <th>euc_2_30</th>\n      <th>euc_2_31</th>\n      <th>euc_2_32</th>\n      <th>euc_2_33</th>\n      <th>euc_2_34</th>\n      <th>euc_2_35</th>\n      <th>euc_2_36</th>\n      <th>euc_2_37</th>\n    </tr>\n  </thead>\n  <tbody>\n    <tr>\n      <th>0</th>\n      <td>3.048825</td>\n      <td>0.712929</td>\n      <td>0.756424</td>\n      <td>1.209765</td>\n      <td>1.005537</td>\n      <td>2.898817</td>\n      <td>2.672203</td>\n      <td>1.193188</td>\n      <td>1.233929</td>\n      <td>0.555947</td>\n      <td>...</td>\n      <td>10.925293</td>\n      <td>7.213775</td>\n      <td>4.191334</td>\n      <td>18.768847</td>\n      <td>1.690434</td>\n      <td>0.467097</td>\n      <td>1.311675</td>\n      <td>15.454267</td>\n      <td>9.711279</td>\n      <td>12.413386</td>\n    </tr>\n  </tbody>\n</table>\n<p>1 rows × 74 columns</p>\n</div>"
     },
     "execution_count": 19,
     "metadata": {},
     "output_type": "execute_result"
    }
   ],
   "source": [
    "euc.fit_transform(data)"
   ],
   "metadata": {
    "collapsed": false,
    "ExecuteTime": {
     "end_time": "2024-03-18T21:42:35.056915700Z",
     "start_time": "2024-03-18T21:42:24.054510Z"
    }
   },
   "id": "2fe9aec00cae8a9b"
  },
  {
   "cell_type": "code",
   "execution_count": 20,
   "outputs": [
    {
     "data": {
      "text/plain": "37"
     },
     "execution_count": 20,
     "metadata": {},
     "output_type": "execute_result"
    }
   ],
   "source": [
    "from scanpath_dist import get_fill_path\n",
    "\n",
    "expected_paths = get_expected_path(\n",
    "    data=data,\n",
    "    x=x,\n",
    "    y=y,\n",
    "    path_pk=['tekst'],\n",
    "    pk=['Participant', 'tekst'],\n",
    "    return_df=True\n",
    ")\n",
    "\n",
    "fill_path = get_fill_path(\n",
    "    list(expected_paths.values()), \n",
    "    x='x_est',\n",
    "    y='y_est'\n",
    ")\n",
    "\n",
    "len(expected_paths)"
   ],
   "metadata": {
    "collapsed": false,
    "ExecuteTime": {
     "end_time": "2024-03-18T21:42:43.062548200Z",
     "start_time": "2024-03-18T21:42:35.085326300Z"
    }
   },
   "id": "e17bf8e6d0e26fff"
  },
  {
   "cell_type": "code",
   "execution_count": 21,
   "outputs": [
    {
     "data": {
      "text/plain": "array([[3.04882529e+00, 7.12929416e-01, 7.56424234e-01, 1.20976543e+00,\n        1.00553738e+00, 2.89881665e+00, 2.67220346e+00, 1.19318825e+00,\n        1.23392888e+00, 5.55946830e-01, 9.22253175e-01, 3.64479471e+03,\n        2.16927370e+00, 1.87264471e+00, 1.54378723e+00, 2.08852628e+00,\n        3.16528819e+00, 2.15572139e+00, 2.21280779e+00, 3.93178073e+02,\n        7.81166543e+00, 5.04486619e+00, 6.97104208e+00, 1.02846197e+01,\n        1.87397774e+00, 1.32104730e+00, 4.12898908e+00, 1.09252934e+01,\n        7.21377495e+00, 4.19133394e+00, 1.87688466e+01, 1.69043359e+00,\n        4.67097332e-01, 1.31167488e+00, 1.54542668e+01, 9.71127921e+00,\n        1.24133861e+01, 3.04882529e+00, 7.12929416e-01, 7.56424234e-01,\n        1.20976543e+00, 1.00553738e+00, 2.89881665e+00, 2.67220346e+00,\n        1.19318825e+00, 1.23392888e+00, 5.55946830e-01, 9.22253175e-01,\n        3.64479471e+03, 2.16927370e+00, 1.87264471e+00, 1.54378723e+00,\n        2.08852628e+00, 3.16528819e+00, 2.15572139e+00, 2.21280779e+00,\n        3.93178073e+02, 7.81166543e+00, 5.04486619e+00, 6.97104208e+00,\n        1.02846197e+01, 1.87397774e+00, 1.32104730e+00, 4.12898908e+00,\n        1.09252934e+01, 7.21377495e+00, 4.19133394e+00, 1.87688466e+01,\n        1.69043359e+00, 4.67097332e-01, 1.31167488e+00, 1.54542668e+01,\n        9.71127921e+00, 1.24133861e+01]])"
     },
     "execution_count": 21,
     "metadata": {},
     "output_type": "execute_result"
    }
   ],
   "source": [
    "euc = EucDist(\n",
    "    x=x,\n",
    "    y=y,\n",
    "    path_pk=['tekst'],\n",
    "    pk=['Participant', 'tekst'],\n",
    "    expected_paths=expected_paths,\n",
    "    return_df=False\n",
    ")\n",
    "\n",
    "euc.fit_transform(data)"
   ],
   "metadata": {
    "collapsed": false,
    "ExecuteTime": {
     "end_time": "2024-03-18T21:42:43.795627500Z",
     "start_time": "2024-03-18T21:42:43.060519500Z"
    }
   },
   "id": "29df04a7edceb4d5"
  },
  {
   "cell_type": "code",
   "execution_count": 22,
   "outputs": [
    {
     "data": {
      "text/plain": "    hau_1_1   hau_1_2   hau_1_3   hau_1_4  hau_1_5   hau_1_6   hau_1_7  \\\n0  0.194536  0.063802  0.066652  0.092369  0.10171  0.279688  0.138929   \n\n    hau_1_8   hau_1_9  hau_1_10  ...  hau_2_28  hau_2_29  hau_2_30  hau_2_31  \\\n0  0.094807  0.147317  0.076706  ...  2.255686  0.133862  0.321899  3.745765   \n\n   hau_2_32  hau_2_33  hau_2_34  hau_2_35  hau_2_36  hau_2_37  \n0  0.116783  0.042363   0.23945    0.9164  0.755607  0.520875  \n\n[1 rows x 74 columns]",
      "text/html": "<div>\n<style scoped>\n    .dataframe tbody tr th:only-of-type {\n        vertical-align: middle;\n    }\n\n    .dataframe tbody tr th {\n        vertical-align: top;\n    }\n\n    .dataframe thead th {\n        text-align: right;\n    }\n</style>\n<table border=\"1\" class=\"dataframe\">\n  <thead>\n    <tr style=\"text-align: right;\">\n      <th></th>\n      <th>hau_1_1</th>\n      <th>hau_1_2</th>\n      <th>hau_1_3</th>\n      <th>hau_1_4</th>\n      <th>hau_1_5</th>\n      <th>hau_1_6</th>\n      <th>hau_1_7</th>\n      <th>hau_1_8</th>\n      <th>hau_1_9</th>\n      <th>hau_1_10</th>\n      <th>...</th>\n      <th>hau_2_28</th>\n      <th>hau_2_29</th>\n      <th>hau_2_30</th>\n      <th>hau_2_31</th>\n      <th>hau_2_32</th>\n      <th>hau_2_33</th>\n      <th>hau_2_34</th>\n      <th>hau_2_35</th>\n      <th>hau_2_36</th>\n      <th>hau_2_37</th>\n    </tr>\n  </thead>\n  <tbody>\n    <tr>\n      <th>0</th>\n      <td>0.194536</td>\n      <td>0.063802</td>\n      <td>0.066652</td>\n      <td>0.092369</td>\n      <td>0.10171</td>\n      <td>0.279688</td>\n      <td>0.138929</td>\n      <td>0.094807</td>\n      <td>0.147317</td>\n      <td>0.076706</td>\n      <td>...</td>\n      <td>2.255686</td>\n      <td>0.133862</td>\n      <td>0.321899</td>\n      <td>3.745765</td>\n      <td>0.116783</td>\n      <td>0.042363</td>\n      <td>0.23945</td>\n      <td>0.9164</td>\n      <td>0.755607</td>\n      <td>0.520875</td>\n    </tr>\n  </tbody>\n</table>\n<p>1 rows × 74 columns</p>\n</div>"
     },
     "execution_count": 22,
     "metadata": {},
     "output_type": "execute_result"
    }
   ],
   "source": [
    "from scanpath_dist import HauDist\n",
    "\n",
    "hau = HauDist(\n",
    "    x=x,\n",
    "    y=y,\n",
    "    path_pk=['tekst'],\n",
    "    pk=['Participant', 'tekst'],\n",
    "    expected_paths=expected_paths,\n",
    "    fill_path=fill_path,\n",
    "    return_df=True\n",
    ")\n",
    "\n",
    "hau.fit_transform(data)"
   ],
   "metadata": {
    "collapsed": false,
    "ExecuteTime": {
     "end_time": "2024-03-18T21:42:46.464283200Z",
     "start_time": "2024-03-18T21:42:43.797630100Z"
    }
   },
   "id": "d7063921455e54d4"
  },
  {
   "cell_type": "code",
   "execution_count": 23,
   "outputs": [
    {
     "data": {
      "text/plain": "    dtw_1_1   dtw_1_2   dtw_1_3   dtw_1_4   dtw_1_5   dtw_1_6   dtw_1_7  \\\n0  1.787453  0.510791  0.516659  0.832287  0.643137  5.604751  1.211802   \n\n    dtw_1_8  dtw_1_9  dtw_1_10  ...  dtw_2_28  dtw_2_29  dtw_2_30   dtw_2_31  \\\n0  0.637592  1.22664  0.382113  ...  7.651892  1.219793   1.75252  18.448703   \n\n   dtw_2_32  dtw_2_33  dtw_2_34   dtw_2_35  dtw_2_36  dtw_2_37  \n0  1.104477  0.280697  2.352949  19.138715  2.065866  5.525813  \n\n[1 rows x 74 columns]",
      "text/html": "<div>\n<style scoped>\n    .dataframe tbody tr th:only-of-type {\n        vertical-align: middle;\n    }\n\n    .dataframe tbody tr th {\n        vertical-align: top;\n    }\n\n    .dataframe thead th {\n        text-align: right;\n    }\n</style>\n<table border=\"1\" class=\"dataframe\">\n  <thead>\n    <tr style=\"text-align: right;\">\n      <th></th>\n      <th>dtw_1_1</th>\n      <th>dtw_1_2</th>\n      <th>dtw_1_3</th>\n      <th>dtw_1_4</th>\n      <th>dtw_1_5</th>\n      <th>dtw_1_6</th>\n      <th>dtw_1_7</th>\n      <th>dtw_1_8</th>\n      <th>dtw_1_9</th>\n      <th>dtw_1_10</th>\n      <th>...</th>\n      <th>dtw_2_28</th>\n      <th>dtw_2_29</th>\n      <th>dtw_2_30</th>\n      <th>dtw_2_31</th>\n      <th>dtw_2_32</th>\n      <th>dtw_2_33</th>\n      <th>dtw_2_34</th>\n      <th>dtw_2_35</th>\n      <th>dtw_2_36</th>\n      <th>dtw_2_37</th>\n    </tr>\n  </thead>\n  <tbody>\n    <tr>\n      <th>0</th>\n      <td>1.787453</td>\n      <td>0.510791</td>\n      <td>0.516659</td>\n      <td>0.832287</td>\n      <td>0.643137</td>\n      <td>5.604751</td>\n      <td>1.211802</td>\n      <td>0.637592</td>\n      <td>1.22664</td>\n      <td>0.382113</td>\n      <td>...</td>\n      <td>7.651892</td>\n      <td>1.219793</td>\n      <td>1.75252</td>\n      <td>18.448703</td>\n      <td>1.104477</td>\n      <td>0.280697</td>\n      <td>2.352949</td>\n      <td>19.138715</td>\n      <td>2.065866</td>\n      <td>5.525813</td>\n    </tr>\n  </tbody>\n</table>\n<p>1 rows × 74 columns</p>\n</div>"
     },
     "execution_count": 23,
     "metadata": {},
     "output_type": "execute_result"
    }
   ],
   "source": [
    "from scanpath_dist import DTWDist\n",
    "\n",
    "dtw = DTWDist(\n",
    "    x=x,\n",
    "    y=y,\n",
    "    path_pk=['tekst'],\n",
    "    pk=['Participant', 'tekst'],\n",
    "    expected_paths=expected_paths,\n",
    "    fill_path=fill_path,\n",
    "    return_df=True\n",
    ")\n",
    "\n",
    "dtw.fit_transform(data)"
   ],
   "metadata": {
    "collapsed": false,
    "ExecuteTime": {
     "end_time": "2024-03-18T21:42:54.950956600Z",
     "start_time": "2024-03-18T21:42:46.476547200Z"
    }
   },
   "id": "f15633ee6bb39aba"
  },
  {
   "cell_type": "code",
   "execution_count": 24,
   "outputs": [
    {
     "data": {
      "text/plain": "   sm_1_1  sm_1_2  sm_1_3  sm_1_4  sm_1_5  sm_1_6  sm_1_7  sm_1_8  sm_1_9  \\\n0    66.0    37.0    46.0    39.0    24.0    56.0    40.0    40.0    59.0   \n\n   sm_1_10  ...  sm_2_28  sm_2_29  sm_2_30  sm_2_31  sm_2_32  sm_2_33  \\\n0     16.0  ...     70.0     37.0     55.0     40.0     29.0     30.0   \n\n   sm_2_34  sm_2_35  sm_2_36  sm_2_37  \n0     99.0    119.0     44.0     64.0  \n\n[1 rows x 74 columns]",
      "text/html": "<div>\n<style scoped>\n    .dataframe tbody tr th:only-of-type {\n        vertical-align: middle;\n    }\n\n    .dataframe tbody tr th {\n        vertical-align: top;\n    }\n\n    .dataframe thead th {\n        text-align: right;\n    }\n</style>\n<table border=\"1\" class=\"dataframe\">\n  <thead>\n    <tr style=\"text-align: right;\">\n      <th></th>\n      <th>sm_1_1</th>\n      <th>sm_1_2</th>\n      <th>sm_1_3</th>\n      <th>sm_1_4</th>\n      <th>sm_1_5</th>\n      <th>sm_1_6</th>\n      <th>sm_1_7</th>\n      <th>sm_1_8</th>\n      <th>sm_1_9</th>\n      <th>sm_1_10</th>\n      <th>...</th>\n      <th>sm_2_28</th>\n      <th>sm_2_29</th>\n      <th>sm_2_30</th>\n      <th>sm_2_31</th>\n      <th>sm_2_32</th>\n      <th>sm_2_33</th>\n      <th>sm_2_34</th>\n      <th>sm_2_35</th>\n      <th>sm_2_36</th>\n      <th>sm_2_37</th>\n    </tr>\n  </thead>\n  <tbody>\n    <tr>\n      <th>0</th>\n      <td>66.0</td>\n      <td>37.0</td>\n      <td>46.0</td>\n      <td>39.0</td>\n      <td>24.0</td>\n      <td>56.0</td>\n      <td>40.0</td>\n      <td>40.0</td>\n      <td>59.0</td>\n      <td>16.0</td>\n      <td>...</td>\n      <td>70.0</td>\n      <td>37.0</td>\n      <td>55.0</td>\n      <td>40.0</td>\n      <td>29.0</td>\n      <td>30.0</td>\n      <td>99.0</td>\n      <td>119.0</td>\n      <td>44.0</td>\n      <td>64.0</td>\n    </tr>\n  </tbody>\n</table>\n<p>1 rows × 74 columns</p>\n</div>"
     },
     "execution_count": 24,
     "metadata": {},
     "output_type": "execute_result"
    }
   ],
   "source": [
    "from scanpath_dist import ScanMatchDist\n",
    "\n",
    "query_filter = \"0 <= norm_pos_x <= 1 and 0 <= norm_pos_y <= 1\"\n",
    "data = data.query(query_filter)\n",
    "\n",
    "scan_match = ScanMatchDist(\n",
    "    x=x,\n",
    "    y=y,\n",
    "    duration=dur,\n",
    "    path_pk=['tekst'],\n",
    "    pk=['Participant', 'tekst'],\n",
    "    return_df=True\n",
    ")\n",
    "\n",
    "scan_match.fit_transform(data)"
   ],
   "metadata": {
    "collapsed": false,
    "ExecuteTime": {
     "end_time": "2024-03-18T21:43:05.217973600Z",
     "start_time": "2024-03-18T21:42:54.949953300Z"
    }
   },
   "id": "fdc10ab6c3fa41ba"
  }
 ],
 "metadata": {
  "kernelspec": {
   "display_name": "Python 3",
   "language": "python",
   "name": "python3"
  },
  "language_info": {
   "codemirror_mode": {
    "name": "ipython",
    "version": 2
   },
   "file_extension": ".py",
   "mimetype": "text/x-python",
   "name": "python",
   "nbconvert_exporter": "python",
   "pygments_lexer": "ipython2",
   "version": "2.7.6"
  }
 },
 "nbformat": 4,
 "nbformat_minor": 5
}
