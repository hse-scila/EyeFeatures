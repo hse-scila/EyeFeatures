{
 "cells": [
  {
   "cell_type": "code",
   "execution_count": 1,
   "outputs": [],
   "source": [
    "import pandas as pd\n",
    "import numpy as np\n",
    "\n",
    "from stats import SaccadeLength, FixationDuration, SaccadeVelocity, FixationVAD, RegressionCount\n",
    "from extractor import Extractor"
   ],
   "metadata": {
    "collapsed": false,
    "ExecuteTime": {
     "end_time": "2024-03-18T19:12:14.404301500Z",
     "start_time": "2024-03-18T19:12:13.841581300Z"
    }
   },
   "id": "d9ae2cf357202ce8"
  },
  {
   "cell_type": "code",
   "execution_count": 2,
   "outputs": [],
   "source": [
    "data = pd.concat([pd.read_excel('itog_fix_1.xlsx'), pd.read_excel('itog_fix_2.xlsx')], axis=0)"
   ],
   "metadata": {
    "collapsed": false,
    "ExecuteTime": {
     "end_time": "2024-03-18T19:12:15.153529400Z",
     "start_time": "2024-03-18T19:12:14.377584500Z"
    }
   },
   "id": "dd1601b6febb317d"
  },
  {
   "cell_type": "code",
   "execution_count": 3,
   "outputs": [],
   "source": [
    "features = [\n",
    "        SaccadeVelocity(stats=['mean', 'kurtosis', 'max']),\n",
    "        FixationDuration(stats=['median', 'skew', 'var']),\n",
    "        FixationVAD(stats=['mean', 'median']),\n",
    "        SaccadeLength(stats=['var', 'std']),\n",
    "        RegressionCount()\n",
    "    ]\n",
    "sac_vel = SaccadeVelocity(stats=['mean', 'kurtosis', 'max'], x='norm_pos_x', y='norm_pos_y', t='start_timestamp', duration='duration',\n",
    "                            pk=['tekst'])\n",
    "fix_dur = FixationDuration(stats=['median', 'skew', 'var'], x='norm_pos_x', y='norm_pos_y', t='start_timestamp', duration='duration', pk=['tekst'])\n",
    "reg_count = RegressionCount(x='norm_pos_x', y='norm_pos_y', t='start_timestamp', pk=['tekst'])\n",
    "fix_vad = FixationVAD(stats=['mean', 'median'], x='norm_pos_x', y='norm_pos_y', t='start_timestamp', dispersion='dispersion', pk=['tekst'])\n",
    "sac_len = SaccadeLength(stats=['var', 'std'], x='norm_pos_x', y='norm_pos_y', t='start_timestamp', duration='duration', pk=['tekst'])\n",
    "\n",
    "extractor = Extractor(features=features, x='norm_pos_x', y='norm_pos_y', t='start_timestamp', duration='duration', dispersion='dispersion', pk=['tekst'],\n",
    "                      return_df=True)"
   ],
   "metadata": {
    "collapsed": false,
    "ExecuteTime": {
     "end_time": "2024-03-18T19:12:15.159172600Z",
     "start_time": "2024-03-18T19:12:15.153529400Z"
    }
   },
   "id": "e8ba167404481ab0"
  },
  {
   "cell_type": "code",
   "execution_count": 4,
   "outputs": [
    {
     "data": {
      "text/plain": "   sac_len_var_1  sac_len_std_1  sac_len_var_2  sac_len_std_2  sac_len_var_3  \\\n0         0.0086       0.092735       0.006856         0.0828       0.008787   \n\n   sac_len_std_3  sac_len_var_4  sac_len_std_4  sac_len_var_5  sac_len_std_5  \\\n0       0.093741        0.00875       0.093543       0.006019       0.077581   \n\n   ...  sac_len_var_33  sac_len_std_33  sac_len_var_34  sac_len_std_34  \\\n0  ...        0.004574        0.067629        0.006926         0.08322   \n\n   sac_len_var_35  sac_len_std_35  sac_len_var_36  sac_len_std_36  \\\n0        0.018313        0.135327         0.01331        0.115368   \n\n   sac_len_var_37  sac_len_std_37  \n0        0.013424        0.115863  \n\n[1 rows x 74 columns]",
      "text/html": "<div>\n<style scoped>\n    .dataframe tbody tr th:only-of-type {\n        vertical-align: middle;\n    }\n\n    .dataframe tbody tr th {\n        vertical-align: top;\n    }\n\n    .dataframe thead th {\n        text-align: right;\n    }\n</style>\n<table border=\"1\" class=\"dataframe\">\n  <thead>\n    <tr style=\"text-align: right;\">\n      <th></th>\n      <th>sac_len_var_1</th>\n      <th>sac_len_std_1</th>\n      <th>sac_len_var_2</th>\n      <th>sac_len_std_2</th>\n      <th>sac_len_var_3</th>\n      <th>sac_len_std_3</th>\n      <th>sac_len_var_4</th>\n      <th>sac_len_std_4</th>\n      <th>sac_len_var_5</th>\n      <th>sac_len_std_5</th>\n      <th>...</th>\n      <th>sac_len_var_33</th>\n      <th>sac_len_std_33</th>\n      <th>sac_len_var_34</th>\n      <th>sac_len_std_34</th>\n      <th>sac_len_var_35</th>\n      <th>sac_len_std_35</th>\n      <th>sac_len_var_36</th>\n      <th>sac_len_std_36</th>\n      <th>sac_len_var_37</th>\n      <th>sac_len_std_37</th>\n    </tr>\n  </thead>\n  <tbody>\n    <tr>\n      <th>0</th>\n      <td>0.0086</td>\n      <td>0.092735</td>\n      <td>0.006856</td>\n      <td>0.0828</td>\n      <td>0.008787</td>\n      <td>0.093741</td>\n      <td>0.00875</td>\n      <td>0.093543</td>\n      <td>0.006019</td>\n      <td>0.077581</td>\n      <td>...</td>\n      <td>0.004574</td>\n      <td>0.067629</td>\n      <td>0.006926</td>\n      <td>0.08322</td>\n      <td>0.018313</td>\n      <td>0.135327</td>\n      <td>0.01331</td>\n      <td>0.115368</td>\n      <td>0.013424</td>\n      <td>0.115863</td>\n    </tr>\n  </tbody>\n</table>\n<p>1 rows × 74 columns</p>\n</div>"
     },
     "execution_count": 4,
     "metadata": {},
     "output_type": "execute_result"
    }
   ],
   "source": [
    "sac_len.transform(data)"
   ],
   "metadata": {
    "collapsed": false,
    "ExecuteTime": {
     "end_time": "2024-03-18T19:12:16.391702200Z",
     "start_time": "2024-03-18T19:12:15.157171Z"
    }
   },
   "id": "f02a3c5764b4a40"
  },
  {
   "cell_type": "code",
   "outputs": [
    {
     "data": {
      "text/plain": "   fix_dur_median_1  fix_dur_skew_1  fix_dur_var_1  fix_dur_median_2  \\\n0          178.2125        1.857757   10509.516414         183.87525   \n\n   fix_dur_skew_2  fix_dur_var_2  fix_dur_median_3  fix_dur_skew_3  \\\n0        1.284709   10140.758874          195.3575        1.518871   \n\n   fix_dur_var_3  fix_dur_median_4  ...  fix_dur_var_34  fix_dur_median_35  \\\n0   16487.438466          190.0345  ...    14172.790904            156.328   \n\n   fix_dur_skew_35  fix_dur_var_35  fix_dur_median_36  fix_dur_skew_36  \\\n0         3.939154    15912.971667           172.9265         0.790963   \n\n   fix_dur_var_36  fix_dur_median_37  fix_dur_skew_37  fix_dur_var_37  \n0     9222.189501            175.881         2.152412    10483.595051  \n\n[1 rows x 111 columns]",
      "text/html": "<div>\n<style scoped>\n    .dataframe tbody tr th:only-of-type {\n        vertical-align: middle;\n    }\n\n    .dataframe tbody tr th {\n        vertical-align: top;\n    }\n\n    .dataframe thead th {\n        text-align: right;\n    }\n</style>\n<table border=\"1\" class=\"dataframe\">\n  <thead>\n    <tr style=\"text-align: right;\">\n      <th></th>\n      <th>fix_dur_median_1</th>\n      <th>fix_dur_skew_1</th>\n      <th>fix_dur_var_1</th>\n      <th>fix_dur_median_2</th>\n      <th>fix_dur_skew_2</th>\n      <th>fix_dur_var_2</th>\n      <th>fix_dur_median_3</th>\n      <th>fix_dur_skew_3</th>\n      <th>fix_dur_var_3</th>\n      <th>fix_dur_median_4</th>\n      <th>...</th>\n      <th>fix_dur_var_34</th>\n      <th>fix_dur_median_35</th>\n      <th>fix_dur_skew_35</th>\n      <th>fix_dur_var_35</th>\n      <th>fix_dur_median_36</th>\n      <th>fix_dur_skew_36</th>\n      <th>fix_dur_var_36</th>\n      <th>fix_dur_median_37</th>\n      <th>fix_dur_skew_37</th>\n      <th>fix_dur_var_37</th>\n    </tr>\n  </thead>\n  <tbody>\n    <tr>\n      <th>0</th>\n      <td>178.2125</td>\n      <td>1.857757</td>\n      <td>10509.516414</td>\n      <td>183.87525</td>\n      <td>1.284709</td>\n      <td>10140.758874</td>\n      <td>195.3575</td>\n      <td>1.518871</td>\n      <td>16487.438466</td>\n      <td>190.0345</td>\n      <td>...</td>\n      <td>14172.790904</td>\n      <td>156.328</td>\n      <td>3.939154</td>\n      <td>15912.971667</td>\n      <td>172.9265</td>\n      <td>0.790963</td>\n      <td>9222.189501</td>\n      <td>175.881</td>\n      <td>2.152412</td>\n      <td>10483.595051</td>\n    </tr>\n  </tbody>\n</table>\n<p>1 rows × 111 columns</p>\n</div>"
     },
     "execution_count": 5,
     "metadata": {},
     "output_type": "execute_result"
    }
   ],
   "source": [
    "fix_dur.transform(data)"
   ],
   "metadata": {
    "collapsed": false,
    "ExecuteTime": {
     "end_time": "2024-03-18T19:12:17.291492200Z",
     "start_time": "2024-03-18T19:12:16.347184900Z"
    }
   },
   "id": "d280e96299c977d6",
   "execution_count": 5
  },
  {
   "cell_type": "code",
   "outputs": [
    {
     "data": {
      "text/plain": "   sac_vel_mean_1  sac_vel_kurtosis_1  sac_vel_max_1  sac_vel_mean_2  \\\n0        3.002532            6.470488      13.717103        2.703573   \n\n   sac_vel_kurtosis_2  sac_vel_max_2  sac_vel_mean_3  sac_vel_kurtosis_3  \\\n0            1.763947       8.626671        2.830928            3.589073   \n\n   sac_vel_max_3  sac_vel_mean_4  ...  sac_vel_max_34  sac_vel_mean_35  \\\n0      10.717298        2.802656  ...        6.728558         3.044436   \n\n   sac_vel_kurtosis_35  sac_vel_max_35  sac_vel_mean_36  sac_vel_kurtosis_36  \\\n0            37.115046       30.362497         3.032234             30.10733   \n\n   sac_vel_max_36  sac_vel_mean_37  sac_vel_kurtosis_37  sac_vel_max_37  \n0       22.777222         2.870006             6.351163       12.730611  \n\n[1 rows x 111 columns]",
      "text/html": "<div>\n<style scoped>\n    .dataframe tbody tr th:only-of-type {\n        vertical-align: middle;\n    }\n\n    .dataframe tbody tr th {\n        vertical-align: top;\n    }\n\n    .dataframe thead th {\n        text-align: right;\n    }\n</style>\n<table border=\"1\" class=\"dataframe\">\n  <thead>\n    <tr style=\"text-align: right;\">\n      <th></th>\n      <th>sac_vel_mean_1</th>\n      <th>sac_vel_kurtosis_1</th>\n      <th>sac_vel_max_1</th>\n      <th>sac_vel_mean_2</th>\n      <th>sac_vel_kurtosis_2</th>\n      <th>sac_vel_max_2</th>\n      <th>sac_vel_mean_3</th>\n      <th>sac_vel_kurtosis_3</th>\n      <th>sac_vel_max_3</th>\n      <th>sac_vel_mean_4</th>\n      <th>...</th>\n      <th>sac_vel_max_34</th>\n      <th>sac_vel_mean_35</th>\n      <th>sac_vel_kurtosis_35</th>\n      <th>sac_vel_max_35</th>\n      <th>sac_vel_mean_36</th>\n      <th>sac_vel_kurtosis_36</th>\n      <th>sac_vel_max_36</th>\n      <th>sac_vel_mean_37</th>\n      <th>sac_vel_kurtosis_37</th>\n      <th>sac_vel_max_37</th>\n    </tr>\n  </thead>\n  <tbody>\n    <tr>\n      <th>0</th>\n      <td>3.002532</td>\n      <td>6.470488</td>\n      <td>13.717103</td>\n      <td>2.703573</td>\n      <td>1.763947</td>\n      <td>8.626671</td>\n      <td>2.830928</td>\n      <td>3.589073</td>\n      <td>10.717298</td>\n      <td>2.802656</td>\n      <td>...</td>\n      <td>6.728558</td>\n      <td>3.044436</td>\n      <td>37.115046</td>\n      <td>30.362497</td>\n      <td>3.032234</td>\n      <td>30.10733</td>\n      <td>22.777222</td>\n      <td>2.870006</td>\n      <td>6.351163</td>\n      <td>12.730611</td>\n    </tr>\n  </tbody>\n</table>\n<p>1 rows × 111 columns</p>\n</div>"
     },
     "execution_count": 6,
     "metadata": {},
     "output_type": "execute_result"
    }
   ],
   "source": [
    "sac_vel.transform(data)"
   ],
   "metadata": {
    "collapsed": false,
    "ExecuteTime": {
     "end_time": "2024-03-18T19:12:18.963453400Z",
     "start_time": "2024-03-18T19:12:17.288492Z"
    }
   },
   "id": "67c798e82044f26f",
   "execution_count": 6
  },
  {
   "cell_type": "code",
   "outputs": [
    {
     "data": {
      "text/plain": "   reg_count_1  reg_count_2  reg_count_3  reg_count_4  reg_count_5  \\\n0          269          164          152          151          155   \n\n   reg_count_6  reg_count_7  reg_count_8  reg_count_9  reg_count_10  ...  \\\n0          173          171          192          218           225  ...   \n\n   reg_count_28  reg_count_29  reg_count_30  reg_count_31  reg_count_32  \\\n0           130           161           104            86           113   \n\n   reg_count_33  reg_count_34  reg_count_35  reg_count_36  reg_count_37  \n0           166           137           220           104           135  \n\n[1 rows x 37 columns]",
      "text/html": "<div>\n<style scoped>\n    .dataframe tbody tr th:only-of-type {\n        vertical-align: middle;\n    }\n\n    .dataframe tbody tr th {\n        vertical-align: top;\n    }\n\n    .dataframe thead th {\n        text-align: right;\n    }\n</style>\n<table border=\"1\" class=\"dataframe\">\n  <thead>\n    <tr style=\"text-align: right;\">\n      <th></th>\n      <th>reg_count_1</th>\n      <th>reg_count_2</th>\n      <th>reg_count_3</th>\n      <th>reg_count_4</th>\n      <th>reg_count_5</th>\n      <th>reg_count_6</th>\n      <th>reg_count_7</th>\n      <th>reg_count_8</th>\n      <th>reg_count_9</th>\n      <th>reg_count_10</th>\n      <th>...</th>\n      <th>reg_count_28</th>\n      <th>reg_count_29</th>\n      <th>reg_count_30</th>\n      <th>reg_count_31</th>\n      <th>reg_count_32</th>\n      <th>reg_count_33</th>\n      <th>reg_count_34</th>\n      <th>reg_count_35</th>\n      <th>reg_count_36</th>\n      <th>reg_count_37</th>\n    </tr>\n  </thead>\n  <tbody>\n    <tr>\n      <th>0</th>\n      <td>269</td>\n      <td>164</td>\n      <td>152</td>\n      <td>151</td>\n      <td>155</td>\n      <td>173</td>\n      <td>171</td>\n      <td>192</td>\n      <td>218</td>\n      <td>225</td>\n      <td>...</td>\n      <td>130</td>\n      <td>161</td>\n      <td>104</td>\n      <td>86</td>\n      <td>113</td>\n      <td>166</td>\n      <td>137</td>\n      <td>220</td>\n      <td>104</td>\n      <td>135</td>\n    </tr>\n  </tbody>\n</table>\n<p>1 rows × 37 columns</p>\n</div>"
     },
     "execution_count": 7,
     "metadata": {},
     "output_type": "execute_result"
    }
   ],
   "source": [
    "reg_count.transform(data)"
   ],
   "metadata": {
    "collapsed": false,
    "ExecuteTime": {
     "end_time": "2024-03-18T19:12:19.811650700Z",
     "start_time": "2024-03-18T19:12:19.001025100Z"
    }
   },
   "id": "9c6d863a0ec44075",
   "execution_count": 7
  },
  {
   "cell_type": "code",
   "outputs": [
    {
     "data": {
      "text/plain": "   fix_disp_mean_1  fix_disp_median_1  fix_disp_mean_2  fix_disp_median_2  \\\n0         1.160423           1.204169         1.171774           1.233559   \n\n   fix_disp_mean_3  fix_disp_median_3  fix_disp_mean_4  fix_disp_median_4  \\\n0         1.204409           1.263217         1.146726           1.186699   \n\n   fix_disp_mean_5  fix_disp_median_5  ...  fix_disp_mean_33  \\\n0         1.196206           1.255999  ...          1.275482   \n\n   fix_disp_median_33  fix_disp_mean_34  fix_disp_median_34  fix_disp_mean_35  \\\n0            1.357264          1.240055            1.305495          1.206376   \n\n   fix_disp_median_35  fix_disp_mean_36  fix_disp_median_36  fix_disp_mean_37  \\\n0            1.282961          1.208544             1.29094          1.263215   \n\n   fix_disp_median_37  \n0            1.362009  \n\n[1 rows x 74 columns]",
      "text/html": "<div>\n<style scoped>\n    .dataframe tbody tr th:only-of-type {\n        vertical-align: middle;\n    }\n\n    .dataframe tbody tr th {\n        vertical-align: top;\n    }\n\n    .dataframe thead th {\n        text-align: right;\n    }\n</style>\n<table border=\"1\" class=\"dataframe\">\n  <thead>\n    <tr style=\"text-align: right;\">\n      <th></th>\n      <th>fix_disp_mean_1</th>\n      <th>fix_disp_median_1</th>\n      <th>fix_disp_mean_2</th>\n      <th>fix_disp_median_2</th>\n      <th>fix_disp_mean_3</th>\n      <th>fix_disp_median_3</th>\n      <th>fix_disp_mean_4</th>\n      <th>fix_disp_median_4</th>\n      <th>fix_disp_mean_5</th>\n      <th>fix_disp_median_5</th>\n      <th>...</th>\n      <th>fix_disp_mean_33</th>\n      <th>fix_disp_median_33</th>\n      <th>fix_disp_mean_34</th>\n      <th>fix_disp_median_34</th>\n      <th>fix_disp_mean_35</th>\n      <th>fix_disp_median_35</th>\n      <th>fix_disp_mean_36</th>\n      <th>fix_disp_median_36</th>\n      <th>fix_disp_mean_37</th>\n      <th>fix_disp_median_37</th>\n    </tr>\n  </thead>\n  <tbody>\n    <tr>\n      <th>0</th>\n      <td>1.160423</td>\n      <td>1.204169</td>\n      <td>1.171774</td>\n      <td>1.233559</td>\n      <td>1.204409</td>\n      <td>1.263217</td>\n      <td>1.146726</td>\n      <td>1.186699</td>\n      <td>1.196206</td>\n      <td>1.255999</td>\n      <td>...</td>\n      <td>1.275482</td>\n      <td>1.357264</td>\n      <td>1.240055</td>\n      <td>1.305495</td>\n      <td>1.206376</td>\n      <td>1.282961</td>\n      <td>1.208544</td>\n      <td>1.29094</td>\n      <td>1.263215</td>\n      <td>1.362009</td>\n    </tr>\n  </tbody>\n</table>\n<p>1 rows × 74 columns</p>\n</div>"
     },
     "execution_count": 8,
     "metadata": {},
     "output_type": "execute_result"
    }
   ],
   "source": [
    "fix_vad.transform(data)"
   ],
   "metadata": {
    "collapsed": false,
    "ExecuteTime": {
     "end_time": "2024-03-18T19:12:20.711565200Z",
     "start_time": "2024-03-18T19:12:19.793804500Z"
    }
   },
   "id": "cd3312c9d3efe321",
   "execution_count": 8
  },
  {
   "cell_type": "code",
   "execution_count": 9,
   "outputs": [
    {
     "data": {
      "text/plain": "   sac_vel_mean_1  sac_vel_kurtosis_1  sac_vel_max_1  sac_vel_mean_2  \\\n0        3.002532            6.470488      13.717103        2.703573   \n\n   sac_vel_kurtosis_2  sac_vel_max_2  sac_vel_mean_3  sac_vel_kurtosis_3  \\\n0            1.763947       8.626671        2.830928            3.589073   \n\n   sac_vel_max_3  sac_vel_mean_4  ...  reg_count_28  reg_count_29  \\\n0      10.717298        2.802656  ...           130           161   \n\n   reg_count_30  reg_count_31  reg_count_32  reg_count_33  reg_count_34  \\\n0           104            86           113           166           137   \n\n   reg_count_35  reg_count_36  reg_count_37  \n0           220           104           135  \n\n[1 rows x 407 columns]",
      "text/html": "<div>\n<style scoped>\n    .dataframe tbody tr th:only-of-type {\n        vertical-align: middle;\n    }\n\n    .dataframe tbody tr th {\n        vertical-align: top;\n    }\n\n    .dataframe thead th {\n        text-align: right;\n    }\n</style>\n<table border=\"1\" class=\"dataframe\">\n  <thead>\n    <tr style=\"text-align: right;\">\n      <th></th>\n      <th>sac_vel_mean_1</th>\n      <th>sac_vel_kurtosis_1</th>\n      <th>sac_vel_max_1</th>\n      <th>sac_vel_mean_2</th>\n      <th>sac_vel_kurtosis_2</th>\n      <th>sac_vel_max_2</th>\n      <th>sac_vel_mean_3</th>\n      <th>sac_vel_kurtosis_3</th>\n      <th>sac_vel_max_3</th>\n      <th>sac_vel_mean_4</th>\n      <th>...</th>\n      <th>reg_count_28</th>\n      <th>reg_count_29</th>\n      <th>reg_count_30</th>\n      <th>reg_count_31</th>\n      <th>reg_count_32</th>\n      <th>reg_count_33</th>\n      <th>reg_count_34</th>\n      <th>reg_count_35</th>\n      <th>reg_count_36</th>\n      <th>reg_count_37</th>\n    </tr>\n  </thead>\n  <tbody>\n    <tr>\n      <th>0</th>\n      <td>3.002532</td>\n      <td>6.470488</td>\n      <td>13.717103</td>\n      <td>2.703573</td>\n      <td>1.763947</td>\n      <td>8.626671</td>\n      <td>2.830928</td>\n      <td>3.589073</td>\n      <td>10.717298</td>\n      <td>2.802656</td>\n      <td>...</td>\n      <td>130</td>\n      <td>161</td>\n      <td>104</td>\n      <td>86</td>\n      <td>113</td>\n      <td>166</td>\n      <td>137</td>\n      <td>220</td>\n      <td>104</td>\n      <td>135</td>\n    </tr>\n  </tbody>\n</table>\n<p>1 rows × 407 columns</p>\n</div>"
     },
     "execution_count": 9,
     "metadata": {},
     "output_type": "execute_result"
    }
   ],
   "source": [
    "extractor.transform(data)"
   ],
   "metadata": {
    "collapsed": false,
    "ExecuteTime": {
     "end_time": "2024-03-18T19:12:21.713566700Z",
     "start_time": "2024-03-18T19:12:20.697469400Z"
    }
   },
   "id": "d43090cb1ccef295"
  },
  {
   "cell_type": "code",
   "execution_count": 10,
   "outputs": [
    {
     "data": {
      "text/plain": "((1, 74),\n (1, 111),\n SaccadeVelocity(duration='duration', pk=['tekst'],\n                 stats=['mean', 'kurtosis', 'max'], t='start_timestamp',\n                 x='norm_pos_x', y='norm_pos_y'),\n (1, 407))"
     },
     "execution_count": 10,
     "metadata": {},
     "output_type": "execute_result"
    }
   ],
   "source": [
    "sac_len.transform(data).shape, fix_dur.transform(data).shape, sac_vel, extractor.transform(data).shape"
   ],
   "metadata": {
    "collapsed": false,
    "ExecuteTime": {
     "end_time": "2024-03-18T19:12:22.108406400Z",
     "start_time": "2024-03-18T19:12:21.704564500Z"
    }
   },
   "id": "7b45a8235fc358eb"
  },
  {
   "cell_type": "code",
   "execution_count": 11,
   "outputs": [
    {
     "data": {
      "text/plain": "dict_keys(['1', '2', '3', '4', '5', '6', '7', '8', '9', '10', '11', '12', '13', '14', '15', '16', '17', '18', '19', '20', '21', '22', '23', '24', '25', '26', '27', '28', '29', '30', '31', '32', '33', '34', '35', '36', '37'])"
     },
     "execution_count": 11,
     "metadata": {},
     "output_type": "execute_result"
    }
   ],
   "source": [
    "from scanpath_dist import get_expected_path\n",
    "\n",
    "paths = get_expected_path(\n",
    "    data=data,\n",
    "    x='norm_pos_x',\n",
    "    y='norm_pos_y',\n",
    "    path_pk=['tekst'],\n",
    "    pk=['tekst', 'Participant'],\n",
    "    duration='duration'\n",
    ")\n",
    "\n",
    "paths.keys()"
   ],
   "metadata": {
    "collapsed": false,
    "ExecuteTime": {
     "end_time": "2024-03-18T19:12:29.524623100Z",
     "start_time": "2024-03-18T19:12:22.094323500Z"
    }
   },
   "id": "b81e8e6a4f827615"
  },
  {
   "cell_type": "code",
   "execution_count": 12,
   "outputs": [
    {
     "data": {
      "text/plain": "        x_est     y_est  duration_est\n0    0.259898  0.500364     206.67675\n1    0.249939  0.471984     167.37850\n2    0.245635  0.460574     151.21150\n3    0.240511  0.528885     186.05625\n4    0.266589  0.529640     278.93000\n..        ...       ...           ...\n166  0.460267 -0.072699     228.13350\n167  0.461565 -0.063056      79.41750\n168  0.334058  0.265421     131.70250\n169  0.334674  0.273724     120.10650\n170  0.262132  0.343488     191.01800\n\n[171 rows x 3 columns]",
      "text/html": "<div>\n<style scoped>\n    .dataframe tbody tr th:only-of-type {\n        vertical-align: middle;\n    }\n\n    .dataframe tbody tr th {\n        vertical-align: top;\n    }\n\n    .dataframe thead th {\n        text-align: right;\n    }\n</style>\n<table border=\"1\" class=\"dataframe\">\n  <thead>\n    <tr style=\"text-align: right;\">\n      <th></th>\n      <th>x_est</th>\n      <th>y_est</th>\n      <th>duration_est</th>\n    </tr>\n  </thead>\n  <tbody>\n    <tr>\n      <th>0</th>\n      <td>0.259898</td>\n      <td>0.500364</td>\n      <td>206.67675</td>\n    </tr>\n    <tr>\n      <th>1</th>\n      <td>0.249939</td>\n      <td>0.471984</td>\n      <td>167.37850</td>\n    </tr>\n    <tr>\n      <th>2</th>\n      <td>0.245635</td>\n      <td>0.460574</td>\n      <td>151.21150</td>\n    </tr>\n    <tr>\n      <th>3</th>\n      <td>0.240511</td>\n      <td>0.528885</td>\n      <td>186.05625</td>\n    </tr>\n    <tr>\n      <th>4</th>\n      <td>0.266589</td>\n      <td>0.529640</td>\n      <td>278.93000</td>\n    </tr>\n    <tr>\n      <th>...</th>\n      <td>...</td>\n      <td>...</td>\n      <td>...</td>\n    </tr>\n    <tr>\n      <th>166</th>\n      <td>0.460267</td>\n      <td>-0.072699</td>\n      <td>228.13350</td>\n    </tr>\n    <tr>\n      <th>167</th>\n      <td>0.461565</td>\n      <td>-0.063056</td>\n      <td>79.41750</td>\n    </tr>\n    <tr>\n      <th>168</th>\n      <td>0.334058</td>\n      <td>0.265421</td>\n      <td>131.70250</td>\n    </tr>\n    <tr>\n      <th>169</th>\n      <td>0.334674</td>\n      <td>0.273724</td>\n      <td>120.10650</td>\n    </tr>\n    <tr>\n      <th>170</th>\n      <td>0.262132</td>\n      <td>0.343488</td>\n      <td>191.01800</td>\n    </tr>\n  </tbody>\n</table>\n<p>171 rows × 3 columns</p>\n</div>"
     },
     "execution_count": 12,
     "metadata": {},
     "output_type": "execute_result"
    }
   ],
   "source": [
    "paths['1']"
   ],
   "metadata": {
    "collapsed": false,
    "ExecuteTime": {
     "end_time": "2024-03-18T19:12:29.531638600Z",
     "start_time": "2024-03-18T19:12:29.522579700Z"
    }
   },
   "id": "2782dbf6dac310b6"
  },
  {
   "cell_type": "code",
   "execution_count": 13,
   "outputs": [],
   "source": [
    "from scanpath_dist import EucDist\n",
    "\n",
    "euc = EucDist(\n",
    "    x='norm_pos_x',\n",
    "    y='norm_pos_y',\n",
    "    path_pk=['tekst'],\n",
    "    pk=['Participant', 'tekst'],\n",
    "    return_df=True\n",
    ")\n",
    "\n",
    "euc.expected_paths"
   ],
   "metadata": {
    "collapsed": false,
    "ExecuteTime": {
     "end_time": "2024-03-18T19:12:29.572801600Z",
     "start_time": "2024-03-18T19:12:29.530620300Z"
    }
   },
   "id": "dfae08dc13762808"
  },
  {
   "cell_type": "code",
   "execution_count": 14,
   "outputs": [
    {
     "data": {
      "text/plain": "     euc_1_1   euc_1_2   euc_1_3  euc_1_4   euc_1_5    euc_1_6    euc_1_7  \\\n0  19.774817  6.845336  6.807137  9.40596  6.841313  13.803866  13.172698   \n\n    euc_1_8    euc_1_9  euc_1_10  ...  euc_2_28   euc_2_29   euc_2_30  \\\n0  9.699999  10.177342  5.370692  ...  28.63269  27.179347  15.420957   \n\n    euc_2_31   euc_2_32  euc_2_33  euc_2_34  euc_2_35   euc_2_36  euc_2_37  \n0  19.820485  10.697674  4.989575  8.937469  43.75809  27.940276   36.8129  \n\n[1 rows x 74 columns]",
      "text/html": "<div>\n<style scoped>\n    .dataframe tbody tr th:only-of-type {\n        vertical-align: middle;\n    }\n\n    .dataframe tbody tr th {\n        vertical-align: top;\n    }\n\n    .dataframe thead th {\n        text-align: right;\n    }\n</style>\n<table border=\"1\" class=\"dataframe\">\n  <thead>\n    <tr style=\"text-align: right;\">\n      <th></th>\n      <th>euc_1_1</th>\n      <th>euc_1_2</th>\n      <th>euc_1_3</th>\n      <th>euc_1_4</th>\n      <th>euc_1_5</th>\n      <th>euc_1_6</th>\n      <th>euc_1_7</th>\n      <th>euc_1_8</th>\n      <th>euc_1_9</th>\n      <th>euc_1_10</th>\n      <th>...</th>\n      <th>euc_2_28</th>\n      <th>euc_2_29</th>\n      <th>euc_2_30</th>\n      <th>euc_2_31</th>\n      <th>euc_2_32</th>\n      <th>euc_2_33</th>\n      <th>euc_2_34</th>\n      <th>euc_2_35</th>\n      <th>euc_2_36</th>\n      <th>euc_2_37</th>\n    </tr>\n  </thead>\n  <tbody>\n    <tr>\n      <th>0</th>\n      <td>19.774817</td>\n      <td>6.845336</td>\n      <td>6.807137</td>\n      <td>9.40596</td>\n      <td>6.841313</td>\n      <td>13.803866</td>\n      <td>13.172698</td>\n      <td>9.699999</td>\n      <td>10.177342</td>\n      <td>5.370692</td>\n      <td>...</td>\n      <td>28.63269</td>\n      <td>27.179347</td>\n      <td>15.420957</td>\n      <td>19.820485</td>\n      <td>10.697674</td>\n      <td>4.989575</td>\n      <td>8.937469</td>\n      <td>43.75809</td>\n      <td>27.940276</td>\n      <td>36.8129</td>\n    </tr>\n  </tbody>\n</table>\n<p>1 rows × 74 columns</p>\n</div>"
     },
     "execution_count": 14,
     "metadata": {},
     "output_type": "execute_result"
    }
   ],
   "source": [
    "euc.fit_transform(data)"
   ],
   "metadata": {
    "collapsed": false,
    "ExecuteTime": {
     "end_time": "2024-03-18T19:13:09.445499200Z",
     "start_time": "2024-03-18T19:12:29.541636100Z"
    }
   },
   "id": "2fe9aec00cae8a9b"
  },
  {
   "cell_type": "code",
   "execution_count": null,
   "outputs": [],
   "source": [],
   "metadata": {
    "collapsed": false
   },
   "id": "a29590db65d4af97"
  }
 ],
 "metadata": {
  "kernelspec": {
   "display_name": "Python 3",
   "language": "python",
   "name": "python3"
  },
  "language_info": {
   "codemirror_mode": {
    "name": "ipython",
    "version": 2
   },
   "file_extension": ".py",
   "mimetype": "text/x-python",
   "name": "python",
   "nbconvert_exporter": "python",
   "pygments_lexer": "ipython2",
   "version": "2.7.6"
  }
 },
 "nbformat": 4,
 "nbformat_minor": 5
}
